{
 "cells": [
  {
   "cell_type": "code",
   "execution_count": 86,
   "outputs": [
    {
     "name": "stdout",
     "output_type": "stream",
     "text": [
      "Requirement already satisfied: matplotlib==3.5.2 in e:\\conda\\lib\\site-packages (from -r requirements.txt (line 1)) (3.5.2)\n",
      "Requirement already satisfied: numpy==1.22.3 in e:\\conda\\lib\\site-packages (from -r requirements.txt (line 2)) (1.22.3)\n",
      "Requirement already satisfied: pandas==1.4.2 in e:\\conda\\lib\\site-packages (from -r requirements.txt (line 3)) (1.4.2)\n",
      "Requirement already satisfied: scikit_learn==1.1.0 in e:\\conda\\lib\\site-packages (from -r requirements.txt (line 4)) (1.1.0)\n",
      "Requirement already satisfied: tensorflow==2.8.0 in e:\\conda\\lib\\site-packages (from -r requirements.txt (line 5)) (2.8.0)\n",
      "Requirement already satisfied: yfinance==0.1.70 in e:\\conda\\lib\\site-packages (from -r requirements.txt (line 6)) (0.1.70)\n",
      "Requirement already satisfied: kiwisolver>=1.0.1 in e:\\conda\\lib\\site-packages (from matplotlib==3.5.2->-r requirements.txt (line 1)) (1.3.2)\n",
      "Requirement already satisfied: python-dateutil>=2.7 in e:\\conda\\lib\\site-packages (from matplotlib==3.5.2->-r requirements.txt (line 1)) (2.8.2)\n",
      "Requirement already satisfied: packaging>=20.0 in e:\\conda\\lib\\site-packages (from matplotlib==3.5.2->-r requirements.txt (line 1)) (21.3)\n",
      "Requirement already satisfied: pillow>=6.2.0 in e:\\conda\\lib\\site-packages (from matplotlib==3.5.2->-r requirements.txt (line 1)) (9.0.1)\n",
      "Requirement already satisfied: pyparsing>=2.2.1 in e:\\conda\\lib\\site-packages (from matplotlib==3.5.2->-r requirements.txt (line 1)) (3.0.4)\n",
      "Requirement already satisfied: fonttools>=4.22.0 in e:\\conda\\lib\\site-packages (from matplotlib==3.5.2->-r requirements.txt (line 1)) (4.25.0)\n",
      "Requirement already satisfied: cycler>=0.10 in e:\\conda\\lib\\site-packages (from matplotlib==3.5.2->-r requirements.txt (line 1)) (0.11.0)\n",
      "Requirement already satisfied: pytz>=2020.1 in e:\\conda\\lib\\site-packages (from pandas==1.4.2->-r requirements.txt (line 3)) (2021.3)\n",
      "Requirement already satisfied: joblib>=1.0.0 in e:\\conda\\lib\\site-packages (from scikit_learn==1.1.0->-r requirements.txt (line 4)) (1.1.0)\n",
      "Requirement already satisfied: threadpoolctl>=2.0.0 in e:\\conda\\lib\\site-packages (from scikit_learn==1.1.0->-r requirements.txt (line 4)) (2.2.0)\n",
      "Requirement already satisfied: scipy>=1.3.2 in e:\\conda\\lib\\site-packages (from scikit_learn==1.1.0->-r requirements.txt (line 4)) (1.7.3)\n",
      "Requirement already satisfied: tf-estimator-nightly==2.8.0.dev2021122109 in e:\\conda\\lib\\site-packages (from tensorflow==2.8.0->-r requirements.txt (line 5)) (2.8.0.dev2021122109)\n",
      "Requirement already satisfied: setuptools in e:\\conda\\lib\\site-packages (from tensorflow==2.8.0->-r requirements.txt (line 5)) (61.2.0)\n",
      "Requirement already satisfied: six>=1.12.0 in c:\\users\\stephon patton\\appdata\\roaming\\python\\python39\\site-packages (from tensorflow==2.8.0->-r requirements.txt (line 5)) (1.15.0)\n",
      "Requirement already satisfied: typing-extensions>=3.6.6 in e:\\conda\\lib\\site-packages (from tensorflow==2.8.0->-r requirements.txt (line 5)) (4.1.1)\n",
      "Requirement already satisfied: grpcio<2.0,>=1.24.3 in e:\\conda\\lib\\site-packages (from tensorflow==2.8.0->-r requirements.txt (line 5)) (1.42.0)\n",
      "Requirement already satisfied: astunparse>=1.6.0 in e:\\conda\\lib\\site-packages (from tensorflow==2.8.0->-r requirements.txt (line 5)) (1.6.3)\n",
      "Requirement already satisfied: absl-py>=0.4.0 in e:\\conda\\lib\\site-packages (from tensorflow==2.8.0->-r requirements.txt (line 5)) (1.0.0)\n",
      "Requirement already satisfied: libclang>=9.0.1 in e:\\conda\\lib\\site-packages (from tensorflow==2.8.0->-r requirements.txt (line 5)) (14.0.1)\n",
      "Requirement already satisfied: h5py>=2.9.0 in e:\\conda\\lib\\site-packages (from tensorflow==2.8.0->-r requirements.txt (line 5)) (3.6.0)\n",
      "Requirement already satisfied: tensorboard<2.9,>=2.8 in e:\\conda\\lib\\site-packages (from tensorflow==2.8.0->-r requirements.txt (line 5)) (2.8.0)\n",
      "Requirement already satisfied: tensorflow-io-gcs-filesystem>=0.23.1 in e:\\conda\\lib\\site-packages (from tensorflow==2.8.0->-r requirements.txt (line 5)) (0.25.0)\n",
      "Requirement already satisfied: gast>=0.2.1 in e:\\conda\\lib\\site-packages (from tensorflow==2.8.0->-r requirements.txt (line 5)) (0.5.3)\n",
      "Requirement already satisfied: opt-einsum>=2.3.2 in e:\\conda\\lib\\site-packages (from tensorflow==2.8.0->-r requirements.txt (line 5)) (3.3.0)\n",
      "Requirement already satisfied: keras-preprocessing>=1.1.1 in e:\\conda\\lib\\site-packages (from tensorflow==2.8.0->-r requirements.txt (line 5)) (1.1.2)\n",
      "Requirement already satisfied: termcolor>=1.1.0 in e:\\conda\\lib\\site-packages (from tensorflow==2.8.0->-r requirements.txt (line 5)) (1.1.0)\n",
      "Requirement already satisfied: protobuf>=3.9.2 in e:\\conda\\lib\\site-packages (from tensorflow==2.8.0->-r requirements.txt (line 5)) (3.19.1)\n",
      "Requirement already satisfied: google-pasta>=0.1.1 in e:\\conda\\lib\\site-packages (from tensorflow==2.8.0->-r requirements.txt (line 5)) (0.2.0)\n",
      "Requirement already satisfied: wrapt>=1.11.0 in c:\\users\\stephon patton\\appdata\\roaming\\python\\python39\\site-packages (from tensorflow==2.8.0->-r requirements.txt (line 5)) (1.12.1)\n",
      "Requirement already satisfied: flatbuffers>=1.12 in e:\\conda\\lib\\site-packages (from tensorflow==2.8.0->-r requirements.txt (line 5)) (2.0)\n",
      "Requirement already satisfied: keras<2.9,>=2.8.0rc0 in e:\\conda\\lib\\site-packages (from tensorflow==2.8.0->-r requirements.txt (line 5)) (2.8.0)\n",
      "Requirement already satisfied: multitasking>=0.0.7 in e:\\conda\\lib\\site-packages (from yfinance==0.1.70->-r requirements.txt (line 6)) (0.0.10)\n",
      "Requirement already satisfied: lxml>=4.5.1 in e:\\conda\\lib\\site-packages (from yfinance==0.1.70->-r requirements.txt (line 6)) (4.8.0)\n",
      "Requirement already satisfied: requests>=2.26 in e:\\conda\\lib\\site-packages (from yfinance==0.1.70->-r requirements.txt (line 6)) (2.27.1)\n",
      "Requirement already satisfied: wheel<1.0,>=0.23.0 in e:\\conda\\lib\\site-packages (from astunparse>=1.6.0->tensorflow==2.8.0->-r requirements.txt (line 5)) (0.37.1)\n",
      "Requirement already satisfied: urllib3<1.27,>=1.21.1 in e:\\conda\\lib\\site-packages (from requests>=2.26->yfinance==0.1.70->-r requirements.txt (line 6)) (1.26.9)\n",
      "Requirement already satisfied: charset-normalizer~=2.0.0 in e:\\conda\\lib\\site-packages (from requests>=2.26->yfinance==0.1.70->-r requirements.txt (line 6)) (2.0.4)\n",
      "Requirement already satisfied: idna<4,>=2.5 in e:\\conda\\lib\\site-packages (from requests>=2.26->yfinance==0.1.70->-r requirements.txt (line 6)) (3.3)\n",
      "Requirement already satisfied: certifi>=2017.4.17 in e:\\conda\\lib\\site-packages (from requests>=2.26->yfinance==0.1.70->-r requirements.txt (line 6)) (2021.10.8)\n",
      "Requirement already satisfied: werkzeug>=0.11.15 in e:\\conda\\lib\\site-packages (from tensorboard<2.9,>=2.8->tensorflow==2.8.0->-r requirements.txt (line 5)) (2.0.3)\n",
      "Requirement already satisfied: tensorboard-plugin-wit>=1.6.0 in e:\\conda\\lib\\site-packages (from tensorboard<2.9,>=2.8->tensorflow==2.8.0->-r requirements.txt (line 5)) (1.8.1)\n",
      "Requirement already satisfied: tensorboard-data-server<0.7.0,>=0.6.0 in e:\\conda\\lib\\site-packages (from tensorboard<2.9,>=2.8->tensorflow==2.8.0->-r requirements.txt (line 5)) (0.6.1)\n",
      "Requirement already satisfied: google-auth<3,>=1.6.3 in e:\\conda\\lib\\site-packages (from tensorboard<2.9,>=2.8->tensorflow==2.8.0->-r requirements.txt (line 5)) (1.33.0)\n",
      "Requirement already satisfied: google-auth-oauthlib<0.5,>=0.4.1 in e:\\conda\\lib\\site-packages (from tensorboard<2.9,>=2.8->tensorflow==2.8.0->-r requirements.txt (line 5)) (0.4.6)\n",
      "Requirement already satisfied: markdown>=2.6.8 in e:\\conda\\lib\\site-packages (from tensorboard<2.9,>=2.8->tensorflow==2.8.0->-r requirements.txt (line 5)) (3.3.4)\n",
      "Requirement already satisfied: rsa<5,>=3.1.4 in e:\\conda\\lib\\site-packages (from google-auth<3,>=1.6.3->tensorboard<2.9,>=2.8->tensorflow==2.8.0->-r requirements.txt (line 5)) (4.7.2)\n",
      "Requirement already satisfied: pyasn1-modules>=0.2.1 in e:\\conda\\lib\\site-packages (from google-auth<3,>=1.6.3->tensorboard<2.9,>=2.8->tensorflow==2.8.0->-r requirements.txt (line 5)) (0.2.8)\n",
      "Requirement already satisfied: cachetools<5.0,>=2.0.0 in e:\\conda\\lib\\site-packages (from google-auth<3,>=1.6.3->tensorboard<2.9,>=2.8->tensorflow==2.8.0->-r requirements.txt (line 5)) (4.2.2)\n",
      "Requirement already satisfied: requests-oauthlib>=0.7.0 in e:\\conda\\lib\\site-packages (from google-auth-oauthlib<0.5,>=0.4.1->tensorboard<2.9,>=2.8->tensorflow==2.8.0->-r requirements.txt (line 5)) (1.3.1)\n",
      "Requirement already satisfied: pyasn1<0.5.0,>=0.4.6 in e:\\conda\\lib\\site-packages (from pyasn1-modules>=0.2.1->google-auth<3,>=1.6.3->tensorboard<2.9,>=2.8->tensorflow==2.8.0->-r requirements.txt (line 5)) (0.4.8)\n",
      "Requirement already satisfied: oauthlib>=3.0.0 in e:\\conda\\lib\\site-packages (from requests-oauthlib>=0.7.0->google-auth-oauthlib<0.5,>=0.4.1->tensorboard<2.9,>=2.8->tensorflow==2.8.0->-r requirements.txt (line 5)) (3.2.0)\n",
      "Collecting tensorflow-gpu\n",
      "  Using cached tensorflow_gpu-2.8.0-cp39-cp39-win_amd64.whl (438.0 MB)\n",
      "Requirement already satisfied: grpcio<2.0,>=1.24.3 in e:\\conda\\lib\\site-packages (from tensorflow-gpu) (1.42.0)\n",
      "Requirement already satisfied: h5py>=2.9.0 in e:\\conda\\lib\\site-packages (from tensorflow-gpu) (3.6.0)\n",
      "Requirement already satisfied: termcolor>=1.1.0 in e:\\conda\\lib\\site-packages (from tensorflow-gpu) (1.1.0)\n",
      "Requirement already satisfied: setuptools in e:\\conda\\lib\\site-packages (from tensorflow-gpu) (61.2.0)\n",
      "Requirement already satisfied: flatbuffers>=1.12 in e:\\conda\\lib\\site-packages (from tensorflow-gpu) (2.0)\n",
      "Requirement already satisfied: google-pasta>=0.1.1 in e:\\conda\\lib\\site-packages (from tensorflow-gpu) (0.2.0)\n",
      "Requirement already satisfied: wrapt>=1.11.0 in c:\\users\\stephon patton\\appdata\\roaming\\python\\python39\\site-packages (from tensorflow-gpu) (1.12.1)\n",
      "Requirement already satisfied: keras<2.9,>=2.8.0rc0 in e:\\conda\\lib\\site-packages (from tensorflow-gpu) (2.8.0)\n",
      "Requirement already satisfied: absl-py>=0.4.0 in e:\\conda\\lib\\site-packages (from tensorflow-gpu) (1.0.0)\n",
      "Requirement already satisfied: protobuf>=3.9.2 in e:\\conda\\lib\\site-packages (from tensorflow-gpu) (3.19.1)\n",
      "Requirement already satisfied: six>=1.12.0 in c:\\users\\stephon patton\\appdata\\roaming\\python\\python39\\site-packages (from tensorflow-gpu) (1.15.0)\n",
      "Requirement already satisfied: numpy>=1.20 in e:\\conda\\lib\\site-packages (from tensorflow-gpu) (1.22.3)\n",
      "Requirement already satisfied: tf-estimator-nightly==2.8.0.dev2021122109 in e:\\conda\\lib\\site-packages (from tensorflow-gpu) (2.8.0.dev2021122109)\n",
      "Requirement already satisfied: opt-einsum>=2.3.2 in e:\\conda\\lib\\site-packages (from tensorflow-gpu) (3.3.0)\n",
      "Requirement already satisfied: libclang>=9.0.1 in e:\\conda\\lib\\site-packages (from tensorflow-gpu) (14.0.1)\n",
      "Requirement already satisfied: keras-preprocessing>=1.1.1 in e:\\conda\\lib\\site-packages (from tensorflow-gpu) (1.1.2)\n",
      "Requirement already satisfied: gast>=0.2.1 in e:\\conda\\lib\\site-packages (from tensorflow-gpu) (0.5.3)\n",
      "Requirement already satisfied: typing-extensions>=3.6.6 in e:\\conda\\lib\\site-packages (from tensorflow-gpu) (4.1.1)\n",
      "Requirement already satisfied: tensorboard<2.9,>=2.8 in e:\\conda\\lib\\site-packages (from tensorflow-gpu) (2.8.0)\n",
      "Requirement already satisfied: astunparse>=1.6.0 in e:\\conda\\lib\\site-packages (from tensorflow-gpu) (1.6.3)\n",
      "Requirement already satisfied: tensorflow-io-gcs-filesystem>=0.23.1 in e:\\conda\\lib\\site-packages (from tensorflow-gpu) (0.25.0)\n",
      "Requirement already satisfied: wheel<1.0,>=0.23.0 in e:\\conda\\lib\\site-packages (from astunparse>=1.6.0->tensorflow-gpu) (0.37.1)\n",
      "Requirement already satisfied: markdown>=2.6.8 in e:\\conda\\lib\\site-packages (from tensorboard<2.9,>=2.8->tensorflow-gpu) (3.3.4)\n",
      "Requirement already satisfied: tensorboard-plugin-wit>=1.6.0 in e:\\conda\\lib\\site-packages (from tensorboard<2.9,>=2.8->tensorflow-gpu) (1.8.1)\n",
      "Requirement already satisfied: google-auth<3,>=1.6.3 in e:\\conda\\lib\\site-packages (from tensorboard<2.9,>=2.8->tensorflow-gpu) (1.33.0)\n",
      "Requirement already satisfied: werkzeug>=0.11.15 in e:\\conda\\lib\\site-packages (from tensorboard<2.9,>=2.8->tensorflow-gpu) (2.0.3)\n",
      "Requirement already satisfied: google-auth-oauthlib<0.5,>=0.4.1 in e:\\conda\\lib\\site-packages (from tensorboard<2.9,>=2.8->tensorflow-gpu) (0.4.6)\n",
      "Requirement already satisfied: tensorboard-data-server<0.7.0,>=0.6.0 in e:\\conda\\lib\\site-packages (from tensorboard<2.9,>=2.8->tensorflow-gpu) (0.6.1)\n",
      "Requirement already satisfied: requests<3,>=2.21.0 in e:\\conda\\lib\\site-packages (from tensorboard<2.9,>=2.8->tensorflow-gpu) (2.27.1)\n",
      "Requirement already satisfied: cachetools<5.0,>=2.0.0 in e:\\conda\\lib\\site-packages (from google-auth<3,>=1.6.3->tensorboard<2.9,>=2.8->tensorflow-gpu) (4.2.2)\n",
      "Requirement already satisfied: rsa<5,>=3.1.4 in e:\\conda\\lib\\site-packages (from google-auth<3,>=1.6.3->tensorboard<2.9,>=2.8->tensorflow-gpu) (4.7.2)\n",
      "Requirement already satisfied: pyasn1-modules>=0.2.1 in e:\\conda\\lib\\site-packages (from google-auth<3,>=1.6.3->tensorboard<2.9,>=2.8->tensorflow-gpu) (0.2.8)\n",
      "Requirement already satisfied: requests-oauthlib>=0.7.0 in e:\\conda\\lib\\site-packages (from google-auth-oauthlib<0.5,>=0.4.1->tensorboard<2.9,>=2.8->tensorflow-gpu) (1.3.1)\n",
      "Requirement already satisfied: pyasn1<0.5.0,>=0.4.6 in e:\\conda\\lib\\site-packages (from pyasn1-modules>=0.2.1->google-auth<3,>=1.6.3->tensorboard<2.9,>=2.8->tensorflow-gpu) (0.4.8)\n",
      "Requirement already satisfied: charset-normalizer~=2.0.0 in e:\\conda\\lib\\site-packages (from requests<3,>=2.21.0->tensorboard<2.9,>=2.8->tensorflow-gpu) (2.0.4)\n",
      "Requirement already satisfied: idna<4,>=2.5 in e:\\conda\\lib\\site-packages (from requests<3,>=2.21.0->tensorboard<2.9,>=2.8->tensorflow-gpu) (3.3)\n",
      "Requirement already satisfied: urllib3<1.27,>=1.21.1 in e:\\conda\\lib\\site-packages (from requests<3,>=2.21.0->tensorboard<2.9,>=2.8->tensorflow-gpu) (1.26.9)\n",
      "Requirement already satisfied: certifi>=2017.4.17 in e:\\conda\\lib\\site-packages (from requests<3,>=2.21.0->tensorboard<2.9,>=2.8->tensorflow-gpu) (2021.10.8)\n",
      "Requirement already satisfied: oauthlib>=3.0.0 in e:\\conda\\lib\\site-packages (from requests-oauthlib>=0.7.0->google-auth-oauthlib<0.5,>=0.4.1->tensorboard<2.9,>=2.8->tensorflow-gpu) (3.2.0)\n",
      "Installing collected packages: tensorflow-gpu\n"
     ]
    },
    {
     "name": "stderr",
     "output_type": "stream",
     "text": [
      "ERROR: Could not install packages due to an OSError: [WinError 5] Access is denied: 'E:\\\\conda\\\\Lib\\\\site-packages\\\\tensorflow\\\\lite\\\\experimental\\\\microfrontend\\\\python\\\\ops\\\\_audio_microfrontend_op.so'\n",
      "Consider using the `--user` option or check the permissions.\n",
      "\n"
     ]
    }
   ],
   "source": [
    "# !pipreqs --force\n",
    "!pip install -r requirements.txt\n",
    "!pip install tensorflow-gpu\n",
    "#\n",
    "# !pip install tensorflow yfinance pandas sklearn\n",
    "# import tensorflow as tf\n",
    "# !pip install yfinance\n"
   ],
   "metadata": {
    "collapsed": false,
    "pycharm": {
     "name": "#%%\n"
    }
   }
  },
  {
   "cell_type": "code",
   "execution_count": 87,
   "outputs": [],
   "source": [
    "import pandas as pd\n",
    "import tensorflow as tf\n",
    "import yfinance as yf\n"
   ],
   "metadata": {
    "collapsed": false,
    "pycharm": {
     "name": "#%%\n"
    }
   }
  },
  {
   "cell_type": "code",
   "execution_count": 88,
   "outputs": [
    {
     "name": "stdout",
     "output_type": "stream",
     "text": [
      "Hello\n",
      "Num GPUs Available:  0\n"
     ]
    }
   ],
   "source": [
    "print(\"Hello\")\n",
    "tf.__version__\n",
    "print(\"Num GPUs Available: \", len(tf.config.list_physical_devices('GPU')))\n",
    "\n",
    "# !pip freeze > requirements.txt\n",
    "\n"
   ],
   "metadata": {
    "collapsed": false,
    "pycharm": {
     "name": "#%%\n"
    }
   }
  },
  {
   "cell_type": "code",
   "execution_count": 89,
   "outputs": [
    {
     "name": "stdout",
     "output_type": "stream",
     "text": [
      "2012-05-14 13:54:59.602092\n",
      "2012-05-14\n",
      "2022-05-12\n",
      "[*********************100%***********************]  1 of 1 completed\n"
     ]
    }
   ],
   "source": [
    "# !pip freeze > requirements.txt\n",
    "from datetime import datetime, timedelta\n",
    "end_date = datetime.today().strftime('%Y-%m-%d')\n",
    "start_date_dt = datetime.now() - timedelta(days=10*365)\n",
    "print(start_date_dt)\n",
    "start_date = start_date_dt.strftime('%Y-%m-%d')\n",
    "print(start_date)\n",
    "print(end_date)\n",
    "# aapl = yf.download(\"AAPL\")\n",
    "aapl = yf.download(\"AAPL\", start = start_date, end = end_date)\n",
    "# aapl_history = aapl.history(period=\"max\")"
   ],
   "metadata": {
    "collapsed": false,
    "pycharm": {
     "name": "#%%\n"
    }
   }
  },
  {
   "cell_type": "code",
   "execution_count": 89,
   "outputs": [],
   "source": [],
   "metadata": {
    "collapsed": false,
    "pycharm": {
     "name": "#%%\n"
    }
   }
  },
  {
   "cell_type": "code",
   "execution_count": 90,
   "outputs": [
    {
     "data": {
      "text/plain": "0        19.936428\n1        19.756071\n2        19.502857\n3        18.932858\n4        18.942142\n           ...    \n2511    156.770004\n2512    157.279999\n2513    152.059998\n2514    154.509995\n2515    146.500000\nName: Close, Length: 2516, dtype: float64"
     },
     "execution_count": 90,
     "metadata": {},
     "output_type": "execute_result"
    }
   ],
   "source": [
    "type(aapl)\n",
    "df = pd.DataFrame(aapl)\n",
    "df\n",
    "df1 = df.reset_index()['Close']\n",
    "df1"
   ],
   "metadata": {
    "collapsed": false,
    "pycharm": {
     "name": "#%%\n"
    }
   }
  },
  {
   "cell_type": "code",
   "execution_count": 91,
   "outputs": [
    {
     "data": {
      "text/plain": "[<matplotlib.lines.Line2D at 0x2d51f4eb160>]"
     },
     "execution_count": 91,
     "metadata": {},
     "output_type": "execute_result"
    },
    {
     "data": {
      "text/plain": "<Figure size 432x288 with 1 Axes>",
      "image/png": "iVBORw0KGgoAAAANSUhEUgAAAXcAAAD4CAYAAAAXUaZHAAAAOXRFWHRTb2Z0d2FyZQBNYXRwbG90bGliIHZlcnNpb24zLjUuMiwgaHR0cHM6Ly9tYXRwbG90bGliLm9yZy8qNh9FAAAACXBIWXMAAAsTAAALEwEAmpwYAAAtlUlEQVR4nO3deXxU1dnA8d+Tyb4AIQn7EnYUlVVARQSsgKCi1lq0VVEq9a2+r7VVi1uLpQtat2pdiku1tSqtilrrAm4ggmhAZN8JEISQANnIPnPeP+bOZCaZrDOTzEye7+eTT+49996Zc5nw5OTcc54jxhiUUkpFlqi2roBSSqnA0+CulFIRSIO7UkpFIA3uSikVgTS4K6VUBIpu6woApKenm8zMzLauhlJKhZV169blG2MyfB0LieCemZlJVlZWW1dDKaXCiojsr++YdssopVQE0uCulFIRSIO7UkpFIA3uSikVgTS4K6VUBNLgrpRSEUiDu1JKRSAN7kopFUB780r4Ynd+W1cjNCYxKaVUpJjy8AoAshfNbNN6aMtdKaUCxO4IncWPNLgrpVQAFJRWMvXRFe79tl7lToO7UkoFwI+eW8uevJPu/Sp73eD+3qbDZM7/L8XlVUGvjwZ3pZQKgG2Hi7z2K+2OOufcs3QTAN9/enXQ69NocBeRF0TkqIhs9ihbIiIbrK9sEdlglWeKSJnHsWeCWHellAoZ0VHe4bSqum5wj4+xAbAztyT49WnCOS8CfwH+7iowxvzQtS0iDwOFHufvMcaMCFD9lFIqLIh471faHXy45Qif78pj4azTEBHE96VB0WhwN8asFJFMX8dERIArgSkBrpdSSoWV2s9Pf/7aBtbsPQbAndOH0iE+Bqn9GyCI/O1zPxfINcbs8ijrJyLfiMgKETm3vgtFZJ6IZIlIVl5enp/VUEqptmWvFd1dgR3Abj1cLSoL/oNUF3+D+1XAqx77h4E+xpiRwC+AV0Skg68LjTGLjTFjjDFjMjJ8rhKllFJhY3Tf1HqPVVkPV7t1jG+t6rQ8uItINHA5sMRVZoypMMYcs7bXAXuAwf5WUimlQl33BgL3+gMngJoHqucP7RL0+vjTcv8esN0Yk+MqEJEMEbFZ2/2BQcBe/6qolFKhr6Kq7ugYl5teXg/AycpqAD7efjTo9WnKUMhXgTXAEBHJEZG51qHZeHfJAEwENlpDI18HbjLGHA9gfZVSKiT5GtdeW1mlvRVq4tSU0TJX1VM+x0fZG8Ab/ldLKaXCS0V1TeC+/5Jh/OadLXXOOVlR7d7efqSIod18PpIMCJ2hqpRSAVDpMWkpwepb9+RwGEo8gvtDH+4Ian00uCulVABUVDvon57E8tsmEh9bN7gXV1TjmTQy2GPeNbgrpVQAVFY7GNglmUFdU+q03LukxFFaWe1VlltUHtT6aHBXSqkAqKh2EGcFdc/gfs7ANIrLq8nOL/U6f2NOIcGkwV0ppQKgstpBrM0ZUhNia0JrYmw0ZVV2rnr2yzrXPLxsR9DyvmtwV0opP20+VMihgjIcVqCO92i5J9Xqf580pGZG/hOf7CavuCIoddLgrpRSfnpomXPkS9Z+57Qez26ZYycrvc696bwB3hcH6bmqBnellPJTSnwMAFXVdVvujlrdLgkxNu6YNsS9H6xEwBrclVLKT4lWMK+2xjp6ttxrB++EWBvfHCgIep00uCullJ+WZB0EIMbmDORJcTWT/3213D/allvv8UDR4K6UUgHy4vVjAYiNrgmtdod38I6LieK+i05172twV0qpEDekW0qdstqxOz7Gxinda86rHfwDRYO7Ukr5obFx6n+4/HSv/fhoGzaP1AOOxpNJtogGd6WU8kNFte/o/Px1Y5g7oR8DuyQz84zu7vIYm3jllam9PF+gNJryVymlVP080/h6Ov+Urpx/SlegZjQNOBOGeeYMq2pCHviW0Ja7Uko1wbr9J/jzR7vqlJ+saHwBjp+e199r33Nw5OvrcggGbbkrpVQTfP/p1QDcMmUgtqia8OzK0T7z9O4+rwMY2MX7QevQ7jWLdJzWs2Mgq+mmLXellGqGwrIqr31XKt/ZY3s3+TWS46JZdttEoPEHsi2lwV0ppZrheK1cMa6We2Js8zpCoq3W/62vbQhIvWrT4K6UUo3wbF2X1HqA6upzT45rXnD37NoJBu1zV0qpRnxzsMC9XW2NbqmyO7j8qdVkpicBkBRXd2m9hlTZg9Md49Joy11EXhCRoyKy2aNsgYgcEpEN1tcMj2N3ichuEdkhItOCVXGllGoNxhiKPPrZXUE5v6SCTYcK+c+33wGQ1MxumU6JMYGrpA9N6ZZ5EZjuo/xRY8wI6+s9ABE5FZgNDLOueUpEmvfrTCmlQsi/sg4y529fu/frG5ee1MxumfTkOACuHten5ZVrQKO1McasFJHMJr7eLOA1Y0wFsE9EdgNjgTUtr6JSSrWdlTvzvfZdk5aOlXg/WPVMFubLxcN70K1DnFdZRkpcndwzgeJPn/stInItkAX80hhzAugJeC4UmGOV1SEi84B5AH36BOc3l1JKtUR5lZ2rn/2SxNhoKmulF/iff64ne9FMLnpiVbNe84mrRtYps4lgD1JymZaOlnkaGACMAA4DDzf3BYwxi40xY4wxYzIyMhq/QCmlWsn2I8WsP1DAqt35fJV9PGjvY4sSgpR9oGXB3RiTa4yxG2McwLM4u14ADgGeI/l7WWVKKRU2ohsZplheZadDfDTnDc5ABH48vmW9D7YoCa187iLiOc/2MsA1kuYdYLaIxIlIP2AQ8JV/VVRKqdZVWU9zesbp3QB4/ONdlFbaGdajA9t+O50FFw9r0fvYosS9NF+gNdrnLiKvApOAdBHJAX4DTBKREYABsoGfAhhjtojIv4CtQDVwszGm8aw6SikVQmr3swO8eP2ZPL9qHwBPfbYHcA5n9FwMu7mG9+pI37SkFl/fkKaMlrnKR/HzDZz/e+D3/lRKKaXa0uzFX3rt/+Gy05k0pIs7qLt0TPBvrPpjs+s+ZA0UnaGqlFIN+OgX5zGwSzJQd4x7SnxwJyL5Q3PLKKUi1v5jJ5n74tcUllY1fnI9XIEdoKzSu5e5uflkWpMGd6VUxHrwgx18vP0oq/fkN35yE9wxbYjXfnJ86Ab30K2ZUkr5KS7G2X6tncmxMT06xhMfY+Ox2SO8yl3L5rkk+PEwNdi05a6UilzWKMMoaV563bIqO+cMTOeMXp3qHJs7oZ97W7tllFKqDbgmCDV3JHlppZ3EWN+t8l6pCQCM6tOJ3p0T/aleUGlwV0pFLFdQr27GHH+7w1BR7SChnuDeOSkWgEtH+kybFTJC928KpZTyk2vyZ1UzZoGWVTlHxNTXcr9keA9S4qOZNLiL3/ULJm25K6UiTkW1ncKyKne3zH1vbaagtLKRq5xcKX0T6ll8Q0SYMrQrUUFeJs9fGtyVUhHnmue+Yvj9y7zWPnWtmNSYvXknAegTwv3pTaHBXSkVcVxpej1Tpf8rK6dJ1x4/6Wzhd621sEa40eCulAobdoch50Rpk8/3zO646VCh17FzH/yEzPn/ZeG7W73Kj5+sAGoenIYrDe5KqbDxyPIdTHjgU74rKGvS+Z797D07JXgdO3jc+RquTI8u9729BYDURA3uSinVKlbtcqYRyC0qb9L5ri4WcD5kdamdI8ZhjaZxeIyqibGFd3gM79orpdoVmzVCxd7EoY3Zx2q6cIrLa1IQbMwp8Drvqc92A1BY5kwwNmFguj/VDAka3JVSYSM6yhmymrt6Ud+0RCqqHe5FOKJrtcr35jtHyCx6fzsAKSGcEKypNLgrpcKGseacNjTC3PhYk/S6szKBmjHsrrmrV4zu5bnLkqyDACE/hr0pNLgrpcKGqztGGkgE5mv90wKru+VbqzvmZIWzz93V/fLmN4e8zr//kpatiRpKNLgrpcKG3WphN9Tnvs/qYvE0um8qANXWC7ha8J0SvVdSykhxjm1PTw7vMe6gwV0pFUZco1l8db24XPT4qjpladaY9T99uAOAk9ZoGc/hjoVlVfTtnMg5A9MCVt+21OhTAxF5AbgIOGqMOc0q+xNwMVAJ7AGuN8YUiEgmsA3YYV3+pTHmpmBUXCnV/hwtdg6BtDcQ3Gs/bM1MSyQu2tmO3ZFbjN1h3C33nqk1Y9+H378s0NVtU01pub8ITK9Vthw4zRhzBrATuMvj2B5jzAjrSwO7Uipgcoucs0cbGixzZmaq1/6Sn55FbHRNqCsur6K43NkHnxwXzdRTvVdXihSNttyNMSutFrlnmeevuC+BKwJcL6WU8rLjSLF729FAdO+fnsyB46WsuGMytighxhblNWlpxG+XkxhrIyMljvgYG7Wfzd530akBr3tbCESf+w3A+x77/UTkGxFZISLn1neRiMwTkSwRycrLywtANZRSkczh0RXjMAZjDH98fxubcmpyxlRU21mSdZATpVXEx9jcs0xrL7xRWmkntdbDVJerx/YJQu1bn1/BXUTuAaqBf1pFh4E+xpiRwC+AV0Skg69rjTGLjTFjjDFjMjIy/KmGUqod8Azudoeh2mH464q9zHqy5gHq0vXOIY2uyUoNSbLWP63dfR8fExnjTFo8DUtE5uB80Hq+sR5dG2MqgApre52I7AEGA1n+V1Up1Z55BmyHqRkO6dlDM//NTU1+Pdfi1vExzlb9Tyf2B2l4DH04aVFwF5HpwJ3AecaYUo/yDOC4McYuIv2BQcDegNRUKdWueQd30+T8MvVJsIL6by4+lR6dErh96uA6aQnCWaN3IiKvAmuAISKSIyJzgb8AKcByEdkgIs9Yp08ENorIBuB14CZjzPHgVF0p1Z54zjzd+l2Rz+GQo/p0AmjSWPVlW3MBSEuOY/6FQyMqsEPTRstc5aP4+XrOfQN4w99KKaVUbZ4tdxGw22uCuzGGGY+vYtvhIiYPyeBv14+tc/3UU7u6A3p7EFm/qpRSEavKo+Uea4vyarm/8EU22w4XAZAY57vN+sTVI732bzpvQBBqGTrCP6+lUqpdqPBoudtr9bl7LpWXVGvYo0tcdE159qKZQahhaNGWu1IqLJR6TETal3+y3geqibHaZgVtuSulwsSxkgr39tsbvuNIoe+l9hLrabm3N9pyV0qFhWMnK91j0wHW7vM9EC+pnj53l5HWiJpIpy13pVRY+NsX2U06r1uH+HqPffvrqcRFyAzUxmhwV0qFvLziisZPsnRM8J0zBqBjPflkIlH7+BWmlAprFzy6AoC5E/o1eu6QbinBrk5Y0Ja7UirkFZQ686/bGli4evaZvbln5imkxLef1nlDtOWulAobO3OLvfbf/d8J7u2oKNHA7kGDu1IqbHSIj/EK6J7DHm0Rks0xUDS4K6XCRmpiDF1S4tz7cTE27pg2BIAGemzaJQ3uSqmw0btzInExNa31OI+1UevLKdNe6b+GUirkJcdFk5Ycy/Xn9KPaUZNjJi46yj0paeIgXdHNkwZ3pVTIq3Y4mD6sG7YoIUo8Wuux0Zw9IJ3N90/zmr2qtFtGKRUG7A5DtM3Zqe65DJ5raKQG9rr0X0QpFfKqHQZbVE1b9O2bz6FnakIb1ij0aXBXSoU0h8NgDER7DIcZ3rtT21UoTGi3jFIqpFVZD1Abmp2q6tLgrpQKaa5FOaI1uDeLBnelVEirtoK7ttybp0nBXUReEJGjIrLZo6yziCwXkV3W91SrXETkcRHZLSIbRWRUsCqvlIp8dru23FuiqS33F4HptcrmAx8bYwYBH1v7ABcCg6yvecDT/ldTKdVeuVvuNu1oaI4m/WsZY1YCtde0mgW8ZG2/BFzqUf534/Ql0ElEugegrkqpdkj73FvGn1+FXY0xh63tI0BXa7sncNDjvByrzIuIzBORLBHJysvL86MaSqlIVl5lB7TPvbkC8neOMcYAppnXLDbGjDHGjMnI0JwQSqm6tnxXyKSHPgO05d5c/gT3XFd3i/X9qFV+COjtcV4vq0wppZpl5uOr3Nvacm8ef4L7O8B11vZ1wNse5ddao2bGA4Ue3TdKKdUiMfpAtVmalH5ARF4FJgHpIpID/AZYBPxLROYC+4ErrdPfA2YAu4FS4PoA11kp1Q44e3trxGpwb5YmBXdjzFX1HDrfx7kGuNmfSimlVFF5tdd+apKuj9oc+qtQKRWScovKvfZ18evm0eCulApJr6w94LXfQYN7s2hwV0qFHGOMewGOWGud1G4d49uySmFH87krpULOkq8P8pdPdwPw1d3nkxiroaq59F9MKRVyFn++173dIT6GKB3j3mzaLaOUCjmDuiS7tzWwt4wGd6VUSHE4DH3Tktq6GmFPg7tSKqQ89vEuFq90dstcM75vG9cmfGlwV0qFlKXf5Li3F156WhvWJLxpcFdKhZTSCmeK30lDNFusPzS4K6VCyrGTlQD06JTQxjUJbxrclVIhKT0ptq2rENY0uCulQtKovqltXYWwpsFdKRVSzuqfRkpcNJOGdGnrqoQ1De5KqVZx/GQljyzbQZXd0eB5JyurGZOprXZ/afoBpVTQfbr9KNe/+DUAWw8X89x1Y3yeV1FtZ2NOYWtWLWJpy10pFVTGGHdgB/hoW2695y75+mBrVKld0OCulAqqCQ982qTzDhWU8eu3twDwxv+cFcwqtQsa3JVSQXWooMxrv2c949fPWfSJe3tUH+1z95cGd6VU0Ph6eFrtqFtWWlmzXuo/fzIOEc0E6a8WP1AVkSHAEo+i/sCvgU7AjUCeVX63Mea9lr6PUip8nbBmm7qkJcVSUV03uOcX15w3sk+nYFerXWhxy90Ys8MYM8IYMwIYDZQCS63Dj7qOaWBXqv3KK6kA4MHvn8GSeeO5dGRPCkqr+PZggdd5R4udi2HbokRXXQqQQHXLnA/sMcbsD9DrKaUiwH1vbQagX0YS4/qnkRhrA2DWk194nZdX7Pwl8J9bJrRuBSNYoIL7bOBVj/1bRGSjiLwgIj6fjIjIPBHJEpGsvLw8X6copcLc+gMFAGQkxwEQH2Pzed5RK7h36RDXKvVqD/wO7iISC1wC/NsqehoYAIwADgMP+7rOGLPYGDPGGDMmI0NTeyoVyTLTnSsrxdh8Pyj9zTvOIZCdEzVZWKAEouV+IbDeGJMLYIzJNcbYjTEO4FlgbADeQykVZkoqnCNg5k7o5y577auGJynpeqmBE4jgfhUeXTIi0t3j2GXA5gC8h1IqzGyy0gi4Wu0A6ck13S52h+FocTmZ8//b6nVrD/wK7iKSBFwAvOlR/KCIbBKRjcBk4DZ/3kMpFZ725Z8E4EyPJGC/unCIe/uxj3byzy8PuPdnjejRepVrB/wK7saYk8aYNGNMoUfZNcaY040xZxhjLjHGHPa/mkqpcHP30k0ADO6S4i5LiKkZ5vj5rnwy0xPd+29v+K71KtcO6AxVpVTAec449exH93yguuFgAcXlNeddPFxb7oGkwV0pFXAHjpcC8PhVI73Ko23eIcczuP9u1mnBr1g7osFdKRVQ1XYH0x/7HIB+aUlex3qleicNKyqvcm93TIwJfuXaEQ3uSqmAWbUrn4H3vO/eP6V7itfxGFsU14zv6973bLmrwNLgrpQKmB8/v9Zrv3Y3DMAtUwa6t12Lc2xfOD24FWuHNLgrpQLieK0MkJOG+J553rVDvHvb7jBA/WkJVMtp+jWlVEA8snwHAC/PHceSrIPcOW1II1eoYNLgrpQKiIJS58PRcwamMWFQepOvmzK0S7Cq1K5pt4xSym+V1Q7e3XiY/hlJzV5F6WSFPlQNBg3uSim/vfOtc3bp3ryTzb62RIN7UGhwV0r5zTVpqXNS81P2bvmuKNDVUWhwV0oFwOMf7wJgybzxTTr/jF4d3dt9Oic2cKZqKQ3uSim/LN+aC0BcdBSDuqY0crbT/04ZBMDQbimsvHNy0OrWnmlwVyoCrN17jH+ubZsljP+70dnfvvDSpueGSbDGtbekG0c1jQZ3pcKU3WH464o9nDhZyQ8Xf8k9SzdjjGn1euSXVBIbHcWVY3o3+ZqEWGfoKauyB6ta7Z4Gd6XC1Be78/nj+9sZuXC5u+xvX2S32vufOFnJnrwSVu3Op7La0axrXXndyyo1uAeLBnelwtSmQ4V1yn777lYy5/+X7UeCOwIl50QpIxcu5/yHV7To+p5WdsgfNKO1r5pHg7tSYaigtJIXV2fXe/zWVzcE9f0PF5Z77T9RK297YzomxLDvjzO8Fs9WgaXBXakwdM9bm8krrqj3eHxscBNxFZVVee1PG9at2a/R3Jmsqnk0t4xSYajQyuOyZN54xvVPA+CMBR9SZOVHb8mD1Wq7g2tf+IrfzjqNgV2S6xy/+tkv2ZlbwuCuyazecwxblLDu3u/RKVFHvIQiv1vuIpItIptEZIOIZFllnUVkuYjssr6nNvY6SqmmefLT3azanU/XDnHuwA6wccE0Prt9knM7pxCHo3kB/qaX17F6zzG+90jdfvTNhwpZvecY+SUVrN5zDHCO1tHAHroC1S0z2RgzwhgzxtqfD3xsjBkEfGztK6UC4E8fOlPrXntWZp1jmek1y9odq5VfvSEFpZV8tO2o8zXSvGeMvvrVAS56YlULaqraUrD63GcBL1nbLwGXBul9lGp3enZKYPKQDG6ePLDB8/JL6u+T92SM4f9e2+DeL/JY+u5ocTl3vbnJ53UvzBnjs1yFhkAEdwMsE5F1IjLPKutqjDlsbR8BugbgfZRSOCf+9EqtPx/LxMHOFZAKaz30rM+6/SdYuTPPvV9YVoUxhl25xYz9/cfu8mE9Ori3/37DWKYM1f/WoSwQwX2CMWYUcCFws4hM9DxonE926nT+icg8EckSkay8vLzah5VSQHb+Sb7OPu7eX7v3GMdPVpLYwGgY1wpI2w83Ptb9jXU5XP/i1wDcev4g5l84FLvDUFpp54aXvnaft/KOyYy3+vd/NX2o+xeICl1+B3djzCHr+1FgKTAWyBWR7gDW96M+rltsjBljjBmTkaE/KEp5yjlRyrGSCqY+upIfPLOG19fl8NhHO/nh4i8BONrAMMiOCTEALPjP1kbf55f//pbi8mqGdkvhtgsGu39p7Ms/ycHjZQAsvmY0fdISOb2nM5PjuP6d/bo31Tr8GgopIklAlDGm2NqeCvwWeAe4DlhkfX/b34oq1Z5MeOBTr/3b//2t175nF0ltqU1MxuU5mmZMpnNA23cFzslJrgeoV47pxVRrDPusET0Y3z+Nbh3jUaHP33HuXYGl1mSEaOAVY8wHIvI18C8RmQvsB670832Uajdyi8rrPTYgI4lXbxxPRkpcveckeXTZ/O7drdx70ak+z9uTV+LevnxUL6AmW6PLrBE93dsiooE9jPjVLWOM2WuMGW59DTPG/N4qP2aMOd8YM8gY8z1jzPHGXkup9sLzQafDYfjV6xt565tD7rJduc6gO29ifzYtmMrLc8e5j71643i6dIhvcHaniHDjuc5p/c+t2ldvUq8NBwsAeOUn4xjVx9ly/+l5/b3O6d3Ag1sV2jT9gFJBkltUTrmV0ja/pILvCspYvHIPw+9fxqc7jlJQWkn/u99jSdZBfr5kA9V2B3cv3cSfljnHsV81tg8p8TFMGJTOn2ePYMOvL6BLh6a1nLt6nHei1Pd497X7jpMSF+01ESo+xsbvPPKyd+lQ/18IKrRp+gGlgqCkopoJD3xCld1wyfAe/Gfjd3hmBFi6/hAFtYLu05/t4ZW1B9z73T26QDy7R5oiOa7mv/axkkp3sN+TV8JLq7M5eLyUT3c4R6nZorz/CrhidC/ufWsz4Az2Kjxpy12pIPg6+zhVdmc0f+db78DuKrttifdD0oeX73Rv9+gY71dg9bz2iU92ubef/HQ3f1+z3x3Y05PrPnyNj7ExYWA6MTZN7BXONLgrFQTX/+3reo+d5dENArD79xfWOScpzr8/qi8Z3oNfXDAYgPc3H3GXe2aS/MNlp7PstvN8Xv/SDWPZvrBuvVT40G4Zpfz03qbDFJRWcfW4PnWOvXLjOGwixMfY6N4pHocDjhSVc+mTXwAw/8KhRNtq2lgpcdEUV1Sz22MkS0tERQn/O2Ugj1h/DWw4WMCI3p04UlhOdJSwacE0EhqYCFW7q0aFHw3uSrXQgx9s56nP9rj3P9mey3PXncmSr5395j8a14ezB6TXuc5zOGEXa0jj3+acSWKsDRHhyr+uITnW//+aIsL8C4ey6P3tHLPyzBSXV3PJiB4NBnYVGTS4K9WAbYeL6NM5kcpqh9fkoMKyKq/ADvDRtqN8sTufX73hTLTVlK6VbtaDzslDu7jL3vifsxiQUTefektMPbUri97fztyXsrh96mCOFJUTpYtktAsa3JWqxxe78/nRc2vd+zee2497ZjonBF35zBp3+dXj+nDweCmf7/I+/5yBdVvttflKADa6b+Cm96cl1wxlfGiZs4vmq3067aQ90OCuVD3eXH/Ia3/9gQIA/rl2PztyiwF45sejmX5aN+wOw4C73wOcDzPvvegUuqTUPyZ9w68v4JsDBfRJC+4koQ7xdf+L//Wa0UF9TxUaNLgr5UO13cEb63MAmHN2Ju9uPMy6/SdY8M4W3liX4z5v0hBn0jtblHDb9wbTvVM8V47p3ejrd0qM9eqKCZbaM1nfueUcTulef14aFTk0uCvl4fZ/f8s7G76j0u6csj+sRwcWXDKMF1dnA7i///qiUzlrQJrXePJbvzeotavbJKd078A2K/3vGb06tW1lVKvRce6q3auotjPl4c/InP9fXl+X4w7sAP+w8ro89aNRXtdce1bfsGkBu1ZMuum8AW1cE9WapCWrpAfamDFjTFZWVltXQ7VDDodh+p9XsjO3Zlz53TOG8of3trP8tokM6priLj94vJSenRKwG0OMLbzaRQeOldIzNUHHr0cYEVnnsXa1F+2WUV4+2Z5LRnI8p/fq6C7LK65gb14JY/t15tWvDjJrRA/3ML/yKjv5JRUNLvsWyu7/zxZ3YP/b9WcyeYizH3zexLqt3N6dnfcYRfgFyGA/uFWhR4O78nLDi86/oNbcNYUO8TEkxUXzg2dWk32slPTkOPJLKrh76SY+/uV59EpN4O6lm3hz/SG23D/N7ynzre1wYRkvrdlPdJSw83cXEqWtWhVBwut/owqqZVtqcpCc9cdP6hzPL6nJS3L+wyu8jh0uLGdgl8BMvGkt/1iz3/l97jgN7CrihFfHoQqqT7bXWeq2jj/PHsF1Z/WtU37Ty+vqveZYSQVvbzhEKDzf8bRsay4AZw1Ia+RMpcKPttzbob+vyWZ031SG9ajpV/9idz6vfX2Qod1SuHRkTxa9vx2AEb07cdsFg0mIsdG1Qxx905KYNaInv7l4GP2tSTsAu4+W8Pq6HK4Y3cvrvartDkb/7iMAXlqdTb/0ZG6YkOn13sFSVmmn0u5wLxjtcqykwl0nX5N8lIoE+pPdzny+K49fv70FcKaadWUkdE2bv3xUT248tz9zzs5sMJ94VJSw8o7JPPbRTs4dnM5tS77l9n9/S/eO8diihD9/tItnrhnN0vU1E37WHyhg/YEC3lifw/aF04OyEMSKnXkM7prMfW9t4aNtzpZ59qKZABw/WclN/1jHV9nO6fcJMTZemHNmwOugVCjQ4N7OXPP8V+7tgfe8D8DCWcPcZa5RIk0JvH3SEnnkhyPYfKjQXeaZW2X4/cvqvfbDLUcaXF2ootrOxpxCBndJoWNiTL3neTpxspLrXviqTvmu3GLW7jvuXl0I4NbzB3Gble9cqUikfe7tiKurJbbWGO37rJZ8Sgu7KE7r2ZEf+chl7unO6UMAePd/JwBw62sbOHCs1Oe5B4+XMuTeD/jBM2u4/fVvfZ7jYncY7l66iVl/WcWb33jngnG91wWPrvQK7Pv+OEMDu4p4LQ7uItJbRD4Vka0iskVEbrXKF4jIIRHZYH3NCFx1VUu9t+kwz6xwpqhddttELhtZt9X8m4uH1Slrqt9fdjo9OyW492+eXDNO/O2bz+FnkwaSvWgmp/Ws6Wuf+KdP67zOoYIyzn2wpnz51lz3ItO+zHz8c15Ze4BvcwpZ+O5WwBnU9/5hBqf17EiPjt7Juz76xcQ6+VaUikT+tNyrgV8aY04FxgM3i8ip1rFHjTEjrK/36n8JFQyrduXz/adXc9ebG7n3rU2UVlbz/Kp9AKy4YxKZ6UncO/MU5pydyY/HO1vc/3f+oDoPQ5urV6ozuD977RjumDaU7EUzyV40k+G9O3md9+fZI9zbOSdKKa2sBpwPZc9ZVDME87dWd9HrHom6PB0uLGP7EWd2xrsuHOou75+R5B7a+MX8KYBzxaPsRTMZ2CWl7gspFYECln5ARN4G/gKcA5QYYx5q6rWtkX7gta8O8MAH23nr5nPom5YU1PdqC+VVdv69LodTuqVwhUeucU9zzs5kwSUtb503Zv2BE7y+LoeFs05rdJr7h1uO8NN/1AyfXHPXFH703Fr25p1k8pAM/nL1KBJjbQy97wPmnJ3JpCFduOrZL+mXnsQrN44jIcbGyIXLMcb5zOCaszJZu/cYK3bmcef0oQ28s1KRo6H0AwEJ7iKSCawETgN+AcwBioAsnK37Ez6umQfMA+jTp8/o/fv3+10PX+59axMvf3nAq2z9fRfQOanuqu/hpqzSTmx0FL/81wbe2vBdo+e/PHccEwY1voBEa9iVW8wFj670eWzz/dNItma7nr7gQ+KibfRPT3KPcqltxR2TIvIXtlKNCWpuGRFJBt4Afm6MKRKRp4GFgLG+PwzcUPs6Y8xiYDE4W+7+1sOX8ip7ncAOMGrhcj7+5XkBW8qsLTz12W4e/GCHz2O3Tx3M9NO6kRgbTVF5FYLw9Ge7ObNfaivXsn790pMY3TeVdfu9f+8/9IPh7sAOzjU/i6kmv6SCfulJdE6KdV/TNy2RWcN70DtM89ooFUx+tdxFJAZ4F/jQGPOIj+OZwLvGmNMaep1AdsuUVdrJK67AZhPufnMTK3bmMX1YN35ybj8GZCQzcuFy97mu8c/hZt3+43z/6Zqul06JMSTFRvOnK84gOT6a03t2DJuHhjuOFHPf25vpl5bEnHMy66TR3ZRTyMV/WQXA8tsmMrBLMj9+fi1dUuJ59Icj2qDGSoWOoHTLiDN6vAQcN8b83KO8uzHmsLV9GzDOGDO7odcKVHCvqLYz5N4PvMq6pMSx6ldTiI12Pjv+YPNhbnp5PeDMcz2sR0cSYm10iG/aWOq2tGpXPos/38vKnXkALL5mNPkllZw9II3M9MjtltiXf5KducVMG9atrauiVEgJVnCfAHwObAJcqxvcDVwFjMDZLZMN/NQV7OvjT3AvLq/iiqfXuNe0rG3fH2fUacUu35rLjX/3fr+se79Husdiwq3hwLFSck6UUuUwjO/fmbjohicODb7nffdCEn+47HSubmRsuVIqsgWlz90Yswp8JrZutaGP6w+c4PKnVtcpX/qzs7nz9Y3cMW2Iz+6JC07tSu/OCRw8XuYuW7kzj5T4GE7pntIqucnLKu0+x3n37pzAs9eOIcYWxYCMZI6VVHCooIzeqYlU2h0M7ZbCnLMzmT1WA7tSqn5hvRJTcXkVpy9wTnG/ZfJA/u/8QZRUVDdpJMyTn+7mTx/6fiC543fTG21Ft8R3BWWcbY3j7hAfTVF5dYPnpyfHkl9S6VX2yJXDuXyUf+PRlVKRoaGWe1inH0iJj+FnkwZw5/Qh3D5tCLHRUU0e4jh3Qj9ibMK0YV3rHBty7wccPO57anxTPfDBdiY/9Bkz/vw53xU4/0J48IPt7uOuwL7jd9P55r4LGNK17uSa2oEdYEzfzn7VSynVPoR1yz1QCkuruOetTaTEx/DqV86hkz8a14cJA9O58PTuzX697UeKmP7Y5z6P9U1L5LzBGaTERzNlaFdG960Znrj5UCGXPfUFs0b0ZM7ZmfRJSyTFGha4fGuuczq9xxR/pVT7FvRJTP5q6+DuadH72905WADunXkKHRNieGjZDp64ahRj+3Xm6c/28MAH21n6s7OxOwyj+6a6+/Y3HCzg0ie/AODMzFS+zq4Zxx0dJWxbOL3BxZWr7I6wW3xZKdU2NLg3Q1F5FWcsqD9V7Q/H9GZJ1sE65Z/88jw+25HHb63kVb1SE/j8zslc8cwa1u0/wRfzp3gl1lJKKX9pcG+m5z7fS1F5NX06J3L7v50pZ2uPrmnI2MzO/OumswDnSkSlVfawGEevlAovQU0/EIl+cm5/93ZqYgyDu6bQKzWBv67c686JvucPM4gSEBHuXrqJV9Y6++pvnzqYGyb0c18fbYuig3azKKVamQb3Rpx/Ss1omnnn9qeorIqZZ3T3ynp4z4xTGJiRzOWjetIpMfwTkimlwp92yyilVJiK2HHuSimlfNPgrpRSEUiDu1JKRSAN7kopFYE0uCulVATS4K6UUhFIg7tSSkUgDe5KKRWBQmISk4jkAfv9eIl0ID9A1QkH7e1+of3dc3u7X2h/9xyI++1rjMnwdSAkgru/RCSrvllakai93S+0v3tub/cL7e+eg32/2i2jlFIRSIO7UkpFoEgJ7ovbugKtrL3dL7S/e25v9wvt756Der8R0eeulFLKW6S03JVSSnnQ4K6UUhEorIO7iEwXkR0isltE5rd1fQJFRLJFZJOIbBCRLKuss4gsF5Fd1vdUq1xE5HHr32CjiIxq29o3jYi8ICJHRWSzR1mz71FErrPO3yUi17XFvTRVPfe8QEQOWZ/1BhGZ4XHsLuued4jINI/ysPi5F5HeIvKpiGwVkS0icqtVHpGfcwP32zafsTEmLL8AG7AH6A/EAt8Cp7Z1vQJ0b9lAeq2yB4H51vZ84AFrewbwPiDAeGBtW9e/ifc4ERgFbG7pPQKdgb3W91RrO7Wt762Z97wAuN3HuadaP9NxQD/rZ90WTj/3QHdglLWdAuy07isiP+cG7rdNPuNwbrmPBXYbY/YaYyqB14BZbVynYJoFvGRtvwRc6lH+d+P0JdBJRLq3Qf2axRizEjheq7i59zgNWG6MOW6MOQEsB6YHvfItVM8912cW8JoxpsIYsw/YjfNnPmx+7o0xh40x663tYmAb0JMI/ZwbuN/6BPUzDufg3hM46LGfQ8P/kOHEAMtEZJ2IzLPKuhpjDlvbRwDXyt2R9O/Q3HuMlHu/xeqGeMHVRUGE3bOIZAIjgbW0g8+51v1CG3zG4RzcI9kEY8wo4ELgZhGZ6HnQOP+mi+gxrO3hHi1PAwOAEcBh4OE2rU0QiEgy8Abwc2NMkeexSPycfdxvm3zG4RzcDwG9PfZ7WWVhzxhzyPp+FFiK88+0XFd3i/X9qHV6JP07NPcew/7ejTG5xhi7McYBPIvzs4YIuWcRicEZ6P5pjHnTKo7Yz9nX/bbVZxzOwf1rYJCI9BORWGA28E4b18lvIpIkIimubWAqsBnnvblGCVwHvG1tvwNca400GA8UevzJG26ae48fAlNFJNX6U3eqVRY2aj0fuQznZw3Oe54tInEi0g8YBHxFGP3ci4gAzwPbjDGPeByKyM+5vvtts8+4rZ8w+/l0egbOJ9J7gHvauj4Buqf+OJ+Ofwtscd0XkAZ8DOwCPgI6W+UCPGn9G2wCxrT1PTTxPl/F+SdqFc4+xbktuUfgBpwPonYD17f1fbXgnv9h3dNG6z9wd4/z77HueQdwoUd5WPzcAxNwdrlsBDZYXzMi9XNu4H7b5DPW9ANKKRWBwrlbRimlVD00uCulVATS4K6UUhFIg7tSSkUgDe5KKRWBNLgrpVQE0uCulFIR6P8BaCIkKXi50I8AAAAASUVORK5CYII=\n"
     },
     "metadata": {
      "needs_background": "light"
     },
     "output_type": "display_data"
    }
   ],
   "source": [
    "import matplotlib.pyplot as plt\n",
    "plt.plot(df1)"
   ],
   "metadata": {
    "collapsed": false,
    "pycharm": {
     "name": "#%%\n"
    }
   }
  },
  {
   "cell_type": "code",
   "execution_count": 92,
   "outputs": [],
   "source": [
    "import numpy as np\n",
    "from sklearn.preprocessing import MinMaxScaler\n",
    "scaler=MinMaxScaler(feature_range=(0,1))\n",
    "df1 = scaler.fit_transform(np.array(df1).reshape(-1, 1))"
   ],
   "metadata": {
    "collapsed": false,
    "pycharm": {
     "name": "#%%\n"
    }
   }
  },
  {
   "cell_type": "code",
   "execution_count": 93,
   "outputs": [],
   "source": [
    "# Split data \n",
    "train_size = int(len(df1)*.95) # 65% \n",
    "test_size = len(df1) - train_size\n",
    "train, test = df1[0:train_size,:], df1[train_size:len(df1), :1]"
   ],
   "metadata": {
    "collapsed": false,
    "pycharm": {
     "name": "#%%\n"
    }
   }
  },
  {
   "cell_type": "code",
   "execution_count": 94,
   "outputs": [
    {
     "name": "stdout",
     "output_type": "stream",
     "text": [
      "2390\n",
      "126\n"
     ]
    }
   ],
   "source": [
    "print(train_size)\n",
    "print(test_size)\n",
    "# print(train)\n",
    "# print(test)"
   ],
   "metadata": {
    "collapsed": false,
    "pycharm": {
     "name": "#%%\n"
    }
   }
  },
  {
   "cell_type": "code",
   "execution_count": 95,
   "outputs": [],
   "source": [
    "def create_dataset(data, time_step=1):\n",
    "    dataX, dataY = [], []\n",
    "    for i in range(len(data)-time_step-1):\n",
    "        a = data[i:(i+time_step), 0]\n",
    "        dataX.append(a)\n",
    "        dataY.append(data[i + time_step, 0])\n",
    "    return np.array(dataX), np.array(dataY)"
   ],
   "metadata": {
    "collapsed": false,
    "pycharm": {
     "name": "#%%\n"
    }
   }
  },
  {
   "cell_type": "code",
   "execution_count": 96,
   "outputs": [],
   "source": [
    "time_step = 100\n",
    "X_train, y_train = create_dataset(train, time_step)\n",
    "X_test, y_test = create_dataset(test, time_step)"
   ],
   "metadata": {
    "collapsed": false,
    "pycharm": {
     "name": "#%%\n"
    }
   }
  },
  {
   "cell_type": "code",
   "execution_count": 97,
   "outputs": [
    {
     "name": "stdout",
     "output_type": "stream",
     "text": [
      "(2289, 100)\n",
      "(2289,)\n"
     ]
    },
    {
     "data": {
      "text/plain": "(None, None)"
     },
     "execution_count": 97,
     "metadata": {},
     "output_type": "execute_result"
    }
   ],
   "source": [
    "print(X_train.shape), print(y_train.shape)"
   ],
   "metadata": {
    "collapsed": false,
    "pycharm": {
     "name": "#%%\n"
    }
   }
  },
  {
   "cell_type": "code",
   "execution_count": 98,
   "outputs": [
    {
     "name": "stdout",
     "output_type": "stream",
     "text": [
      "(25, 100)\n",
      "(25,)\n"
     ]
    },
    {
     "data": {
      "text/plain": "(None, None)"
     },
     "execution_count": 98,
     "metadata": {},
     "output_type": "execute_result"
    }
   ],
   "source": [
    "print(X_test.shape), print(y_test.shape)"
   ],
   "metadata": {
    "collapsed": false,
    "pycharm": {
     "name": "#%%\n"
    }
   }
  },
  {
   "cell_type": "code",
   "execution_count": 99,
   "outputs": [
    {
     "name": "stdout",
     "output_type": "stream",
     "text": [
      "(2289, 100, 1)\n",
      "(25, 100, 1)\n"
     ]
    }
   ],
   "source": [
    "# Reshape to be inputted into LSTM \n",
    "X_train = X_train.reshape(X_train.shape[0], X_train.shape[1], 1)\n",
    "X_test = X_test.reshape(X_test.shape[0], X_test.shape[1], 1)\n",
    "print(X_train.shape)\n",
    "print(X_test.shape)"
   ],
   "metadata": {
    "collapsed": false,
    "pycharm": {
     "name": "#%%\n"
    }
   }
  },
  {
   "cell_type": "code",
   "execution_count": 100,
   "outputs": [],
   "source": [
    "# Create Stacked LSTM\n",
    "from tensorflow.keras.models import Sequential\n",
    "from tensorflow.keras.layers import Dense\n",
    "from tensorflow.keras.layers import LSTM\n",
    "from tensorflow.keras.layers import Dropout \n",
    "model = Sequential()\n",
    "model.add(LSTM(50, return_sequences=True, input_shape=(100, 1)))\n",
    "model.add(Dropout(.5))\n",
    "model.add(LSTM(50, return_sequences=True))\n",
    "model.add(LSTM(50, return_sequences=True))\n",
    "model.add(LSTM(50))\n",
    "model.add(Dense(1))\n",
    "model.compile(loss='mean_squared_error', optimizer='adam')"
   ],
   "metadata": {
    "collapsed": false,
    "pycharm": {
     "name": "#%%\n"
    }
   }
  },
  {
   "cell_type": "code",
   "execution_count": 101,
   "outputs": [
    {
     "name": "stdout",
     "output_type": "stream",
     "text": [
      "Model: \"sequential_2\"\n",
      "_________________________________________________________________\n",
      " Layer (type)                Output Shape              Param #   \n",
      "=================================================================\n",
      " lstm_8 (LSTM)               (None, 100, 50)           10400     \n",
      "                                                                 \n",
      " dropout_2 (Dropout)         (None, 100, 50)           0         \n",
      "                                                                 \n",
      " lstm_9 (LSTM)               (None, 100, 50)           20200     \n",
      "                                                                 \n",
      " lstm_10 (LSTM)              (None, 100, 50)           20200     \n",
      "                                                                 \n",
      " lstm_11 (LSTM)              (None, 50)                20200     \n",
      "                                                                 \n",
      " dense_2 (Dense)             (None, 1)                 51        \n",
      "                                                                 \n",
      "=================================================================\n",
      "Total params: 71,051\n",
      "Trainable params: 71,051\n",
      "Non-trainable params: 0\n",
      "_________________________________________________________________\n"
     ]
    }
   ],
   "source": [
    "model.summary()"
   ],
   "metadata": {
    "collapsed": false,
    "pycharm": {
     "name": "#%%\n"
    }
   }
  },
  {
   "cell_type": "code",
   "execution_count": 102,
   "outputs": [
    {
     "name": "stdout",
     "output_type": "stream",
     "text": [
      "Epoch 1/100\n",
      "10/10 [==============================] - 10s 566ms/step - loss: 0.0305 - val_loss: 0.0897\n",
      "Epoch 2/100\n",
      "10/10 [==============================] - 4s 420ms/step - loss: 0.0069 - val_loss: 0.0426\n",
      "Epoch 3/100\n",
      "10/10 [==============================] - 4s 439ms/step - loss: 0.0020 - val_loss: 0.0034\n",
      "Epoch 4/100\n",
      "10/10 [==============================] - 5s 455ms/step - loss: 9.8977e-04 - val_loss: 0.0047\n",
      "Epoch 5/100\n",
      "10/10 [==============================] - 5s 461ms/step - loss: 8.1391e-04 - val_loss: 0.0022\n",
      "Epoch 6/100\n",
      "10/10 [==============================] - 5s 458ms/step - loss: 7.0976e-04 - val_loss: 0.0024\n",
      "Epoch 7/100\n",
      "10/10 [==============================] - 5s 454ms/step - loss: 6.4261e-04 - val_loss: 0.0015\n",
      "Epoch 8/100\n",
      "10/10 [==============================] - 5s 448ms/step - loss: 6.3581e-04 - val_loss: 0.0016\n",
      "Epoch 9/100\n",
      "10/10 [==============================] - 5s 454ms/step - loss: 5.7478e-04 - val_loss: 0.0015\n",
      "Epoch 10/100\n",
      "10/10 [==============================] - 5s 456ms/step - loss: 5.9816e-04 - val_loss: 0.0015\n",
      "Epoch 11/100\n",
      "10/10 [==============================] - 5s 450ms/step - loss: 6.0523e-04 - val_loss: 0.0016\n",
      "Epoch 12/100\n",
      "10/10 [==============================] - 5s 448ms/step - loss: 6.2837e-04 - val_loss: 0.0017\n",
      "Epoch 13/100\n",
      "10/10 [==============================] - 5s 456ms/step - loss: 5.8055e-04 - val_loss: 0.0014\n",
      "Epoch 14/100\n",
      "10/10 [==============================] - 5s 454ms/step - loss: 5.6588e-04 - val_loss: 0.0018\n",
      "Epoch 15/100\n",
      "10/10 [==============================] - 5s 456ms/step - loss: 5.9717e-04 - val_loss: 0.0018\n",
      "Epoch 16/100\n",
      "10/10 [==============================] - 5s 446ms/step - loss: 5.8060e-04 - val_loss: 0.0016\n",
      "Epoch 17/100\n",
      "10/10 [==============================] - 4s 443ms/step - loss: 5.5794e-04 - val_loss: 0.0014\n",
      "Epoch 18/100\n",
      "10/10 [==============================] - 4s 446ms/step - loss: 5.3387e-04 - val_loss: 0.0014\n",
      "Epoch 19/100\n",
      "10/10 [==============================] - 5s 457ms/step - loss: 5.6886e-04 - val_loss: 0.0018\n",
      "Epoch 20/100\n",
      "10/10 [==============================] - 5s 462ms/step - loss: 6.0340e-04 - val_loss: 0.0015\n",
      "Epoch 21/100\n",
      "10/10 [==============================] - 5s 448ms/step - loss: 5.6109e-04 - val_loss: 0.0013\n",
      "Epoch 22/100\n",
      "10/10 [==============================] - 4s 445ms/step - loss: 5.3770e-04 - val_loss: 0.0013\n",
      "Epoch 23/100\n",
      "10/10 [==============================] - 5s 453ms/step - loss: 5.2071e-04 - val_loss: 0.0013\n",
      "Epoch 24/100\n",
      "10/10 [==============================] - 5s 458ms/step - loss: 5.0448e-04 - val_loss: 0.0013\n",
      "Epoch 25/100\n",
      "10/10 [==============================] - 5s 461ms/step - loss: 5.0198e-04 - val_loss: 0.0014\n",
      "Epoch 26/100\n",
      "10/10 [==============================] - 5s 455ms/step - loss: 5.0794e-04 - val_loss: 0.0012\n",
      "Epoch 27/100\n",
      "10/10 [==============================] - 5s 459ms/step - loss: 4.9454e-04 - val_loss: 0.0018\n",
      "Epoch 28/100\n",
      "10/10 [==============================] - 5s 454ms/step - loss: 5.3440e-04 - val_loss: 0.0013\n",
      "Epoch 29/100\n",
      "10/10 [==============================] - 5s 450ms/step - loss: 4.9974e-04 - val_loss: 0.0012\n",
      "Epoch 30/100\n",
      "10/10 [==============================] - 5s 453ms/step - loss: 4.8241e-04 - val_loss: 0.0011\n",
      "Epoch 31/100\n",
      "10/10 [==============================] - 5s 451ms/step - loss: 4.8633e-04 - val_loss: 0.0011\n",
      "Epoch 32/100\n",
      "10/10 [==============================] - 5s 445ms/step - loss: 4.9584e-04 - val_loss: 0.0018\n",
      "Epoch 33/100\n",
      "10/10 [==============================] - 5s 453ms/step - loss: 5.5509e-04 - val_loss: 0.0014\n",
      "Epoch 34/100\n",
      "10/10 [==============================] - 5s 451ms/step - loss: 4.9005e-04 - val_loss: 0.0015\n",
      "Epoch 35/100\n",
      "10/10 [==============================] - 5s 455ms/step - loss: 4.8485e-04 - val_loss: 0.0011\n",
      "Epoch 36/100\n",
      "10/10 [==============================] - 5s 458ms/step - loss: 4.7508e-04 - val_loss: 0.0011\n",
      "Epoch 37/100\n",
      "10/10 [==============================] - 5s 472ms/step - loss: 4.3159e-04 - val_loss: 0.0010\n",
      "Epoch 38/100\n",
      "10/10 [==============================] - 5s 455ms/step - loss: 4.4560e-04 - val_loss: 0.0012\n",
      "Epoch 39/100\n",
      "10/10 [==============================] - 5s 451ms/step - loss: 4.5284e-04 - val_loss: 0.0012\n",
      "Epoch 40/100\n",
      "10/10 [==============================] - 5s 455ms/step - loss: 4.9193e-04 - val_loss: 0.0013\n",
      "Epoch 41/100\n",
      "10/10 [==============================] - 5s 452ms/step - loss: 4.4876e-04 - val_loss: 9.9887e-04\n",
      "Epoch 42/100\n",
      "10/10 [==============================] - 5s 448ms/step - loss: 5.0227e-04 - val_loss: 9.4004e-04\n",
      "Epoch 43/100\n",
      "10/10 [==============================] - 5s 452ms/step - loss: 4.5888e-04 - val_loss: 0.0014\n",
      "Epoch 44/100\n",
      "10/10 [==============================] - 5s 450ms/step - loss: 4.3148e-04 - val_loss: 0.0016\n",
      "Epoch 45/100\n",
      "10/10 [==============================] - 5s 454ms/step - loss: 4.5884e-04 - val_loss: 0.0014\n",
      "Epoch 46/100\n",
      "10/10 [==============================] - 5s 461ms/step - loss: 5.3524e-04 - val_loss: 0.0012\n",
      "Epoch 47/100\n",
      "10/10 [==============================] - 5s 464ms/step - loss: 5.1520e-04 - val_loss: 0.0023\n",
      "Epoch 48/100\n",
      "10/10 [==============================] - 5s 454ms/step - loss: 5.0186e-04 - val_loss: 0.0016\n",
      "Epoch 49/100\n",
      "10/10 [==============================] - 5s 453ms/step - loss: 4.9719e-04 - val_loss: 7.8490e-04\n",
      "Epoch 50/100\n",
      "10/10 [==============================] - 4s 448ms/step - loss: 4.1730e-04 - val_loss: 8.1418e-04\n",
      "Epoch 51/100\n",
      "10/10 [==============================] - 5s 451ms/step - loss: 4.1335e-04 - val_loss: 0.0015\n",
      "Epoch 52/100\n",
      "10/10 [==============================] - 5s 451ms/step - loss: 4.1781e-04 - val_loss: 0.0010\n",
      "Epoch 53/100\n",
      "10/10 [==============================] - 5s 459ms/step - loss: 3.9869e-04 - val_loss: 7.4167e-04\n",
      "Epoch 54/100\n",
      "10/10 [==============================] - 5s 459ms/step - loss: 3.9608e-04 - val_loss: 6.7501e-04\n",
      "Epoch 55/100\n",
      "10/10 [==============================] - 5s 454ms/step - loss: 4.0798e-04 - val_loss: 6.5150e-04\n",
      "Epoch 56/100\n",
      "10/10 [==============================] - 5s 457ms/step - loss: 4.0634e-04 - val_loss: 7.7998e-04\n",
      "Epoch 57/100\n",
      "10/10 [==============================] - 5s 459ms/step - loss: 4.6119e-04 - val_loss: 0.0015\n",
      "Epoch 58/100\n",
      "10/10 [==============================] - 5s 461ms/step - loss: 4.0760e-04 - val_loss: 6.1383e-04\n",
      "Epoch 59/100\n",
      "10/10 [==============================] - 5s 456ms/step - loss: 4.1870e-04 - val_loss: 6.1134e-04\n",
      "Epoch 60/100\n",
      "10/10 [==============================] - 5s 459ms/step - loss: 3.8412e-04 - val_loss: 0.0017\n",
      "Epoch 61/100\n",
      "10/10 [==============================] - 5s 450ms/step - loss: 3.8109e-04 - val_loss: 6.5809e-04\n",
      "Epoch 62/100\n",
      "10/10 [==============================] - 5s 461ms/step - loss: 3.9447e-04 - val_loss: 7.2456e-04\n",
      "Epoch 63/100\n",
      "10/10 [==============================] - 5s 457ms/step - loss: 3.6230e-04 - val_loss: 5.8150e-04\n",
      "Epoch 64/100\n",
      "10/10 [==============================] - 5s 458ms/step - loss: 3.8205e-04 - val_loss: 5.6114e-04\n",
      "Epoch 65/100\n",
      "10/10 [==============================] - 5s 452ms/step - loss: 3.6561e-04 - val_loss: 0.0021\n",
      "Epoch 66/100\n",
      "10/10 [==============================] - 5s 454ms/step - loss: 4.2081e-04 - val_loss: 4.8345e-04\n",
      "Epoch 67/100\n",
      "10/10 [==============================] - 5s 454ms/step - loss: 3.8897e-04 - val_loss: 0.0012\n",
      "Epoch 68/100\n",
      "10/10 [==============================] - 5s 453ms/step - loss: 3.8644e-04 - val_loss: 7.2156e-04\n",
      "Epoch 69/100\n",
      "10/10 [==============================] - 5s 468ms/step - loss: 3.5449e-04 - val_loss: 6.5347e-04\n",
      "Epoch 70/100\n",
      "10/10 [==============================] - 5s 497ms/step - loss: 3.6267e-04 - val_loss: 7.2038e-04\n",
      "Epoch 71/100\n",
      "10/10 [==============================] - 5s 453ms/step - loss: 3.5520e-04 - val_loss: 0.0017\n",
      "Epoch 72/100\n",
      "10/10 [==============================] - 5s 470ms/step - loss: 3.7371e-04 - val_loss: 7.7698e-04\n",
      "Epoch 73/100\n",
      "10/10 [==============================] - 5s 456ms/step - loss: 4.0693e-04 - val_loss: 0.0047\n",
      "Epoch 74/100\n",
      "10/10 [==============================] - 5s 453ms/step - loss: 5.2152e-04 - val_loss: 0.0013\n",
      "Epoch 75/100\n",
      "10/10 [==============================] - 5s 450ms/step - loss: 5.0283e-04 - val_loss: 0.0055\n",
      "Epoch 76/100\n",
      "10/10 [==============================] - 4s 447ms/step - loss: 6.3878e-04 - val_loss: 5.9366e-04\n",
      "Epoch 77/100\n",
      "10/10 [==============================] - 4s 445ms/step - loss: 5.2249e-04 - val_loss: 4.4235e-04\n",
      "Epoch 78/100\n",
      "10/10 [==============================] - 5s 457ms/step - loss: 4.2005e-04 - val_loss: 0.0028\n",
      "Epoch 79/100\n",
      "10/10 [==============================] - 5s 451ms/step - loss: 4.0785e-04 - val_loss: 5.1532e-04\n",
      "Epoch 80/100\n",
      "10/10 [==============================] - 5s 457ms/step - loss: 3.5534e-04 - val_loss: 5.8770e-04\n",
      "Epoch 81/100\n",
      "10/10 [==============================] - 5s 451ms/step - loss: 3.6602e-04 - val_loss: 4.1478e-04\n",
      "Epoch 82/100\n",
      "10/10 [==============================] - 4s 448ms/step - loss: 3.2857e-04 - val_loss: 5.2489e-04\n",
      "Epoch 83/100\n",
      "10/10 [==============================] - 5s 458ms/step - loss: 3.1766e-04 - val_loss: 0.0021\n",
      "Epoch 84/100\n",
      "10/10 [==============================] - 5s 459ms/step - loss: 3.7533e-04 - val_loss: 0.0013\n",
      "Epoch 85/100\n",
      "10/10 [==============================] - 5s 459ms/step - loss: 3.4832e-04 - val_loss: 6.9895e-04\n",
      "Epoch 86/100\n",
      "10/10 [==============================] - 5s 455ms/step - loss: 4.1164e-04 - val_loss: 4.9757e-04\n",
      "Epoch 87/100\n",
      "10/10 [==============================] - 5s 454ms/step - loss: 3.3790e-04 - val_loss: 8.2912e-04\n",
      "Epoch 88/100\n",
      "10/10 [==============================] - 5s 450ms/step - loss: 3.2094e-04 - val_loss: 8.5459e-04\n",
      "Epoch 89/100\n",
      "10/10 [==============================] - 5s 459ms/step - loss: 3.3619e-04 - val_loss: 5.8379e-04\n",
      "Epoch 90/100\n",
      "10/10 [==============================] - 5s 461ms/step - loss: 3.3636e-04 - val_loss: 7.6350e-04\n",
      "Epoch 91/100\n",
      "10/10 [==============================] - 5s 461ms/step - loss: 3.3700e-04 - val_loss: 0.0014\n",
      "Epoch 92/100\n",
      "10/10 [==============================] - 5s 453ms/step - loss: 3.3458e-04 - val_loss: 4.6578e-04\n",
      "Epoch 93/100\n",
      "10/10 [==============================] - 5s 453ms/step - loss: 2.9440e-04 - val_loss: 6.0028e-04\n",
      "Epoch 94/100\n",
      "10/10 [==============================] - 5s 459ms/step - loss: 3.2099e-04 - val_loss: 0.0013\n",
      "Epoch 95/100\n",
      "10/10 [==============================] - 5s 456ms/step - loss: 3.0987e-04 - val_loss: 0.0022\n",
      "Epoch 96/100\n",
      "10/10 [==============================] - 5s 451ms/step - loss: 3.3351e-04 - val_loss: 8.0262e-04\n",
      "Epoch 97/100\n",
      "10/10 [==============================] - 5s 453ms/step - loss: 3.2378e-04 - val_loss: 6.6808e-04\n",
      "Epoch 98/100\n",
      "10/10 [==============================] - 4s 443ms/step - loss: 3.0524e-04 - val_loss: 8.4220e-04\n",
      "Epoch 99/100\n",
      "10/10 [==============================] - 5s 454ms/step - loss: 3.2962e-04 - val_loss: 0.0013\n",
      "Epoch 100/100\n",
      "10/10 [==============================] - 5s 454ms/step - loss: 3.1041e-04 - val_loss: 0.0020\n"
     ]
    },
    {
     "data": {
      "text/plain": "<keras.callbacks.History at 0x2d581de9c70>"
     },
     "execution_count": 102,
     "metadata": {},
     "output_type": "execute_result"
    }
   ],
   "source": [
    "model.fit(X_train, y_train, validation_data=(X_test, y_test), epochs=100, batch_size=250, verbose=1)"
   ],
   "metadata": {
    "collapsed": false,
    "pycharm": {
     "name": "#%%\n"
    }
   }
  },
  {
   "cell_type": "code",
   "execution_count": 103,
   "outputs": [],
   "source": [
    "# import tensorflow as tf\n"
   ],
   "metadata": {
    "collapsed": false,
    "pycharm": {
     "name": "#%%\n"
    }
   }
  },
  {
   "cell_type": "code",
<<<<<<< HEAD
   "execution_count": 104,
=======
   "execution_count": null,
   "outputs": [],
   "source": [
    "# import tensorflow as tf\n",
    "tf.__version__"
   ],
>>>>>>> origin/master
   "metadata": {
    "collapsed": false,
    "pycharm": {
     "name": "#%%\n"
    }
<<<<<<< HEAD
   },
   "outputs": [
    {
     "data": {
      "text/plain": "'2.8.0'"
     },
     "execution_count": 104,
     "metadata": {},
     "output_type": "execute_result"
    }
   ],
=======
   }
  },
  {
   "cell_type": "code",
   "execution_count": null,
   "outputs": [],
>>>>>>> origin/master
   "source": [
    "prediction = model.predict(X_train)\n",
    "test_prediction = model.predict(X_test)\n",
    "print(model.input)"
   ],
   "metadata": {
    "collapsed": false,
    "pycharm": {
     "name": "#%%\n"
    }
   }
  },
  {
   "cell_type": "code",
   "execution_count": 105,
   "metadata": {
    "pycharm": {
     "name": "#%%\n"
    }
   },
   "outputs": [
    {
     "name": "stdout",
     "output_type": "stream",
     "text": [
      "KerasTensor(type_spec=TensorSpec(shape=(None, 100, 1), dtype=tf.float32, name='lstm_8_input'), name='lstm_8_input', description=\"created by layer 'lstm_8_input'\")\n"
     ]
    }
   ],
   "source": [
    "prediction = model.predict(X_train)\n",
    "test_prediction = model.predict(X_test)\n",
    "print(model.input)"
   ]
  },
  {
   "cell_type": "code",
   "execution_count": 106,
   "metadata": {
    "pycharm": {
     "name": "#%%\n"
    }
   },
   "outputs": [],
   "source": [
    "prediction = scaler.inverse_transform(prediction)\n",
    "test_prediction = scaler.inverse_transform(test_prediction)"
   ]
  },
  {
   "cell_type": "code",
   "execution_count": 107,
   "metadata": {
    "pycharm": {
     "name": "#%%\n"
    }
   },
   "outputs": [
    {
     "data": {
      "text/plain": "60.053276457572494"
     },
     "execution_count": 107,
     "metadata": {},
     "output_type": "execute_result"
    }
   ],
   "source": [
    "import math\n",
    "from sklearn.metrics import mean_squared_error\n",
    "math.sqrt(mean_squared_error(y_train, prediction))"
   ]
  },
  {
   "cell_type": "code",
   "execution_count": 108,
   "metadata": {
    "pycharm": {
     "name": "#%%\n"
    }
   },
   "outputs": [
    {
     "data": {
      "text/plain": "156.03089729499342"
     },
     "execution_count": 108,
     "metadata": {},
     "output_type": "execute_result"
    }
   ],
   "source": [
    "math.sqrt(mean_squared_error(y_test, test_prediction))"
   ]
  },
  {
   "cell_type": "code",
   "execution_count": 109,
   "metadata": {
    "pycharm": {
     "name": "#%%\n"
    }
   },
   "outputs": [
    {
     "data": {
      "text/plain": "<Figure size 432x288 with 1 Axes>",
      "image/png": "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\n"
     },
     "metadata": {
      "needs_background": "light"
     },
     "output_type": "display_data"
    }
   ],
   "source": [
    "### Plotting \n",
    "# shift train predictions for plotting\n",
    "look_back=100\n",
    "trainPredictPlot = np.empty_like(df1)\n",
    "trainPredictPlot[:, :] = np.nan\n",
    "trainPredictPlot[look_back:len(prediction)+look_back, :] = prediction\n",
    "# shift test predictions for plotting\n",
    "testPredictPlot = np.empty_like(df1)\n",
    "testPredictPlot[:, :] = np.nan\n",
    "testPredictPlot[len(prediction)+(look_back*2)+1:len(df1)-1, :] = test_prediction\n",
    "# plot baseline and predictions\n",
    "plt.plot(scaler.inverse_transform(df1))\n",
    "plt.plot(trainPredictPlot)\n",
    "plt.plot(testPredictPlot)\n",
    "plt.show()"
   ]
  },
  {
   "cell_type": "code",
   "execution_count": 110,
   "metadata": {
    "pycharm": {
     "name": "#%%\n"
    }
   },
   "outputs": [
    {
     "data": {
      "text/plain": "126"
     },
     "execution_count": 110,
     "metadata": {},
     "output_type": "execute_result"
    }
   ],
   "source": [
    "len(test)"
   ]
  },
  {
   "cell_type": "code",
   "execution_count": 111,
   "metadata": {
    "pycharm": {
     "name": "#%%\n"
    }
   },
   "outputs": [
    {
     "data": {
      "text/plain": "(1, 100)"
     },
     "execution_count": 111,
     "metadata": {},
     "output_type": "execute_result"
    }
   ],
   "source": [
    "x_input = test[len(test)-100:].reshape(1, -1)\n",
    "x_input.shape"
   ]
  },
  {
   "cell_type": "code",
   "execution_count": 112,
   "metadata": {
    "pycharm": {
     "name": "#%%\n"
    }
   },
   "outputs": [],
   "source": [
    "temp_input = list(x_input)\n",
    "temp_input = temp_input[0].tolist()"
   ]
  },
  {
   "cell_type": "code",
   "execution_count": 113,
   "metadata": {
    "pycharm": {
     "name": "#%%\n"
    }
   },
   "outputs": [],
   "source": [
    "# temp_input"
   ]
  },
  {
   "cell_type": "code",
   "execution_count": 114,
   "metadata": {
    "pycharm": {
     "name": "#%%\n"
    }
   },
   "outputs": [
    {
     "name": "stdout",
     "output_type": "stream",
     "text": [
      "1 day input [0.92705098 0.94632955 0.96209746 0.96590557 0.99000376 0.98381554\n",
      " 0.98435112 0.97732988 0.97358133 1.         0.98625513 0.95781333\n",
      " 0.94043886 0.94145037 0.9415694  0.95876538 0.96144294 0.9415694\n",
      " 0.94680558 0.92734851 0.90610636 0.89587207 0.88337677 0.87867609\n",
      " 0.8677278  0.86719231 0.86439572 0.93050209 0.95698031 0.9559688\n",
      " 0.96328748 0.94579397 0.94275942 0.93841582 0.95727784 0.96590557\n",
      " 0.94115285 0.92044629 0.92187436 0.94513945 0.94371147 0.92187436\n",
      " 0.91247309 0.89474161 0.8694534  0.88534034 0.89789519 0.89950167\n",
      " 0.88807736 0.90806993 0.90610636 0.88789887 0.86487175 0.85380443\n",
      " 0.88658982 0.86023062 0.83767944 0.81322424 0.8398215  0.86659725\n",
      " 0.87272592 0.89271849 0.90104878 0.92151737 0.9297881  0.95275575\n",
      " 0.95662332 0.9618595  0.98185206 0.97477135 0.9559688  0.95418373\n",
      " 0.97875795 0.95864635 0.93942734 0.94127188 0.92907401 0.90325031\n",
      " 0.91461515 0.93091855 0.90051319 0.89920424 0.91306805 0.91205653\n",
      " 0.90723691 0.8796876  0.88617336 0.84999633 0.84862781 0.89069545\n",
      " 0.85505391 0.85689854 0.86594273 0.90485688 0.84981783 0.85285238\n",
      " 0.8217925  0.83637039 0.78870958 0.81841028]\n",
      "1 day output [[0.81474924]]\n",
      "2 day input [0.94632955 0.96209746 0.96590557 0.99000376 0.98381554 0.98435112\n",
      " 0.97732988 0.97358133 1.         0.98625513 0.95781333 0.94043886\n",
      " 0.94145037 0.9415694  0.95876538 0.96144294 0.9415694  0.94680558\n",
      " 0.92734851 0.90610636 0.89587207 0.88337677 0.87867609 0.8677278\n",
      " 0.86719231 0.86439572 0.93050209 0.95698031 0.9559688  0.96328748\n",
      " 0.94579397 0.94275942 0.93841582 0.95727784 0.96590557 0.94115285\n",
      " 0.92044629 0.92187436 0.94513945 0.94371147 0.92187436 0.91247309\n",
      " 0.89474161 0.8694534  0.88534034 0.89789519 0.89950167 0.88807736\n",
      " 0.90806993 0.90610636 0.88789887 0.86487175 0.85380443 0.88658982\n",
      " 0.86023062 0.83767944 0.81322424 0.8398215  0.86659725 0.87272592\n",
      " 0.89271849 0.90104878 0.92151737 0.9297881  0.95275575 0.95662332\n",
      " 0.9618595  0.98185206 0.97477135 0.9559688  0.95418373 0.97875795\n",
      " 0.95864635 0.93942734 0.94127188 0.92907401 0.90325031 0.91461515\n",
      " 0.93091855 0.90051319 0.89920424 0.91306805 0.91205653 0.90723691\n",
      " 0.8796876  0.88617336 0.84999633 0.84862781 0.89069545 0.85505391\n",
      " 0.85689854 0.86594273 0.90485688 0.84981783 0.85285238 0.8217925\n",
      " 0.83637039 0.78870958 0.81841028 0.81474924]\n",
      "2 day output [[0.8101995]]\n",
      "3 day input [0.96209746 0.96590557 0.99000376 0.98381554 0.98435112 0.97732988\n",
      " 0.97358133 1.         0.98625513 0.95781333 0.94043886 0.94145037\n",
      " 0.9415694  0.95876538 0.96144294 0.9415694  0.94680558 0.92734851\n",
      " 0.90610636 0.89587207 0.88337677 0.87867609 0.8677278  0.86719231\n",
      " 0.86439572 0.93050209 0.95698031 0.9559688  0.96328748 0.94579397\n",
      " 0.94275942 0.93841582 0.95727784 0.96590557 0.94115285 0.92044629\n",
      " 0.92187436 0.94513945 0.94371147 0.92187436 0.91247309 0.89474161\n",
      " 0.8694534  0.88534034 0.89789519 0.89950167 0.88807736 0.90806993\n",
      " 0.90610636 0.88789887 0.86487175 0.85380443 0.88658982 0.86023062\n",
      " 0.83767944 0.81322424 0.8398215  0.86659725 0.87272592 0.89271849\n",
      " 0.90104878 0.92151737 0.9297881  0.95275575 0.95662332 0.9618595\n",
      " 0.98185206 0.97477135 0.9559688  0.95418373 0.97875795 0.95864635\n",
      " 0.93942734 0.94127188 0.92907401 0.90325031 0.91461515 0.93091855\n",
      " 0.90051319 0.89920424 0.91306805 0.91205653 0.90723691 0.8796876\n",
      " 0.88617336 0.84999633 0.84862781 0.89069545 0.85505391 0.85689854\n",
      " 0.86594273 0.90485688 0.84981783 0.85285238 0.8217925  0.83637039\n",
      " 0.78870958 0.81841028 0.81474924 0.8101995 ]\n",
      "3 day output [[0.80516905]]\n",
      "4 day input [0.96590557 0.99000376 0.98381554 0.98435112 0.97732988 0.97358133\n",
      " 1.         0.98625513 0.95781333 0.94043886 0.94145037 0.9415694\n",
      " 0.95876538 0.96144294 0.9415694  0.94680558 0.92734851 0.90610636\n",
      " 0.89587207 0.88337677 0.87867609 0.8677278  0.86719231 0.86439572\n",
      " 0.93050209 0.95698031 0.9559688  0.96328748 0.94579397 0.94275942\n",
      " 0.93841582 0.95727784 0.96590557 0.94115285 0.92044629 0.92187436\n",
      " 0.94513945 0.94371147 0.92187436 0.91247309 0.89474161 0.8694534\n",
      " 0.88534034 0.89789519 0.89950167 0.88807736 0.90806993 0.90610636\n",
      " 0.88789887 0.86487175 0.85380443 0.88658982 0.86023062 0.83767944\n",
      " 0.81322424 0.8398215  0.86659725 0.87272592 0.89271849 0.90104878\n",
      " 0.92151737 0.9297881  0.95275575 0.95662332 0.9618595  0.98185206\n",
      " 0.97477135 0.9559688  0.95418373 0.97875795 0.95864635 0.93942734\n",
      " 0.94127188 0.92907401 0.90325031 0.91461515 0.93091855 0.90051319\n",
      " 0.89920424 0.91306805 0.91205653 0.90723691 0.8796876  0.88617336\n",
      " 0.84999633 0.84862781 0.89069545 0.85505391 0.85689854 0.86594273\n",
      " 0.90485688 0.84981783 0.85285238 0.8217925  0.83637039 0.78870958\n",
      " 0.81841028 0.81474924 0.8101995  0.80516905]\n",
      "4 day output [[0.8000071]]\n",
      "5 day input [0.99000376 0.98381554 0.98435112 0.97732988 0.97358133 1.\n",
      " 0.98625513 0.95781333 0.94043886 0.94145037 0.9415694  0.95876538\n",
      " 0.96144294 0.9415694  0.94680558 0.92734851 0.90610636 0.89587207\n",
      " 0.88337677 0.87867609 0.8677278  0.86719231 0.86439572 0.93050209\n",
      " 0.95698031 0.9559688  0.96328748 0.94579397 0.94275942 0.93841582\n",
      " 0.95727784 0.96590557 0.94115285 0.92044629 0.92187436 0.94513945\n",
      " 0.94371147 0.92187436 0.91247309 0.89474161 0.8694534  0.88534034\n",
      " 0.89789519 0.89950167 0.88807736 0.90806993 0.90610636 0.88789887\n",
      " 0.86487175 0.85380443 0.88658982 0.86023062 0.83767944 0.81322424\n",
      " 0.8398215  0.86659725 0.87272592 0.89271849 0.90104878 0.92151737\n",
      " 0.9297881  0.95275575 0.95662332 0.9618595  0.98185206 0.97477135\n",
      " 0.9559688  0.95418373 0.97875795 0.95864635 0.93942734 0.94127188\n",
      " 0.92907401 0.90325031 0.91461515 0.93091855 0.90051319 0.89920424\n",
      " 0.91306805 0.91205653 0.90723691 0.8796876  0.88617336 0.84999633\n",
      " 0.84862781 0.89069545 0.85505391 0.85689854 0.86594273 0.90485688\n",
      " 0.84981783 0.85285238 0.8217925  0.83637039 0.78870958 0.81841028\n",
      " 0.81474924 0.8101995  0.80516905 0.8000071 ]\n",
      "5 day output [[0.7949666]]\n",
      "6 day input [0.98381554 0.98435112 0.97732988 0.97358133 1.         0.98625513\n",
      " 0.95781333 0.94043886 0.94145037 0.9415694  0.95876538 0.96144294\n",
      " 0.9415694  0.94680558 0.92734851 0.90610636 0.89587207 0.88337677\n",
      " 0.87867609 0.8677278  0.86719231 0.86439572 0.93050209 0.95698031\n",
      " 0.9559688  0.96328748 0.94579397 0.94275942 0.93841582 0.95727784\n",
      " 0.96590557 0.94115285 0.92044629 0.92187436 0.94513945 0.94371147\n",
      " 0.92187436 0.91247309 0.89474161 0.8694534  0.88534034 0.89789519\n",
      " 0.89950167 0.88807736 0.90806993 0.90610636 0.88789887 0.86487175\n",
      " 0.85380443 0.88658982 0.86023062 0.83767944 0.81322424 0.8398215\n",
      " 0.86659725 0.87272592 0.89271849 0.90104878 0.92151737 0.9297881\n",
      " 0.95275575 0.95662332 0.9618595  0.98185206 0.97477135 0.9559688\n",
      " 0.95418373 0.97875795 0.95864635 0.93942734 0.94127188 0.92907401\n",
      " 0.90325031 0.91461515 0.93091855 0.90051319 0.89920424 0.91306805\n",
      " 0.91205653 0.90723691 0.8796876  0.88617336 0.84999633 0.84862781\n",
      " 0.89069545 0.85505391 0.85689854 0.86594273 0.90485688 0.84981783\n",
      " 0.85285238 0.8217925  0.83637039 0.78870958 0.81841028 0.81474924\n",
      " 0.8101995  0.80516905 0.8000071  0.79496658]\n",
      "6 day output [[0.79020077]]\n",
      "7 day input [0.98435112 0.97732988 0.97358133 1.         0.98625513 0.95781333\n",
      " 0.94043886 0.94145037 0.9415694  0.95876538 0.96144294 0.9415694\n",
      " 0.94680558 0.92734851 0.90610636 0.89587207 0.88337677 0.87867609\n",
      " 0.8677278  0.86719231 0.86439572 0.93050209 0.95698031 0.9559688\n",
      " 0.96328748 0.94579397 0.94275942 0.93841582 0.95727784 0.96590557\n",
      " 0.94115285 0.92044629 0.92187436 0.94513945 0.94371147 0.92187436\n",
      " 0.91247309 0.89474161 0.8694534  0.88534034 0.89789519 0.89950167\n",
      " 0.88807736 0.90806993 0.90610636 0.88789887 0.86487175 0.85380443\n",
      " 0.88658982 0.86023062 0.83767944 0.81322424 0.8398215  0.86659725\n",
      " 0.87272592 0.89271849 0.90104878 0.92151737 0.9297881  0.95275575\n",
      " 0.95662332 0.9618595  0.98185206 0.97477135 0.9559688  0.95418373\n",
      " 0.97875795 0.95864635 0.93942734 0.94127188 0.92907401 0.90325031\n",
      " 0.91461515 0.93091855 0.90051319 0.89920424 0.91306805 0.91205653\n",
      " 0.90723691 0.8796876  0.88617336 0.84999633 0.84862781 0.89069545\n",
      " 0.85505391 0.85689854 0.86594273 0.90485688 0.84981783 0.85285238\n",
      " 0.8217925  0.83637039 0.78870958 0.81841028 0.81474924 0.8101995\n",
      " 0.80516905 0.8000071  0.79496658 0.79020077]\n",
      "7 day output [[0.78578097]]\n",
      "8 day input [0.97732988 0.97358133 1.         0.98625513 0.95781333 0.94043886\n",
      " 0.94145037 0.9415694  0.95876538 0.96144294 0.9415694  0.94680558\n",
      " 0.92734851 0.90610636 0.89587207 0.88337677 0.87867609 0.8677278\n",
      " 0.86719231 0.86439572 0.93050209 0.95698031 0.9559688  0.96328748\n",
      " 0.94579397 0.94275942 0.93841582 0.95727784 0.96590557 0.94115285\n",
      " 0.92044629 0.92187436 0.94513945 0.94371147 0.92187436 0.91247309\n",
      " 0.89474161 0.8694534  0.88534034 0.89789519 0.89950167 0.88807736\n",
      " 0.90806993 0.90610636 0.88789887 0.86487175 0.85380443 0.88658982\n",
      " 0.86023062 0.83767944 0.81322424 0.8398215  0.86659725 0.87272592\n",
      " 0.89271849 0.90104878 0.92151737 0.9297881  0.95275575 0.95662332\n",
      " 0.9618595  0.98185206 0.97477135 0.9559688  0.95418373 0.97875795\n",
      " 0.95864635 0.93942734 0.94127188 0.92907401 0.90325031 0.91461515\n",
      " 0.93091855 0.90051319 0.89920424 0.91306805 0.91205653 0.90723691\n",
      " 0.8796876  0.88617336 0.84999633 0.84862781 0.89069545 0.85505391\n",
      " 0.85689854 0.86594273 0.90485688 0.84981783 0.85285238 0.8217925\n",
      " 0.83637039 0.78870958 0.81841028 0.81474924 0.8101995  0.80516905\n",
      " 0.8000071  0.79496658 0.79020077 0.78578097]\n",
      "8 day output [[0.78172016]]\n",
      "9 day input [0.97358133 1.         0.98625513 0.95781333 0.94043886 0.94145037\n",
      " 0.9415694  0.95876538 0.96144294 0.9415694  0.94680558 0.92734851\n",
      " 0.90610636 0.89587207 0.88337677 0.87867609 0.8677278  0.86719231\n",
      " 0.86439572 0.93050209 0.95698031 0.9559688  0.96328748 0.94579397\n",
      " 0.94275942 0.93841582 0.95727784 0.96590557 0.94115285 0.92044629\n",
      " 0.92187436 0.94513945 0.94371147 0.92187436 0.91247309 0.89474161\n",
      " 0.8694534  0.88534034 0.89789519 0.89950167 0.88807736 0.90806993\n",
      " 0.90610636 0.88789887 0.86487175 0.85380443 0.88658982 0.86023062\n",
      " 0.83767944 0.81322424 0.8398215  0.86659725 0.87272592 0.89271849\n",
      " 0.90104878 0.92151737 0.9297881  0.95275575 0.95662332 0.9618595\n",
      " 0.98185206 0.97477135 0.9559688  0.95418373 0.97875795 0.95864635\n",
      " 0.93942734 0.94127188 0.92907401 0.90325031 0.91461515 0.93091855\n",
      " 0.90051319 0.89920424 0.91306805 0.91205653 0.90723691 0.8796876\n",
      " 0.88617336 0.84999633 0.84862781 0.89069545 0.85505391 0.85689854\n",
      " 0.86594273 0.90485688 0.84981783 0.85285238 0.8217925  0.83637039\n",
      " 0.78870958 0.81841028 0.81474924 0.8101995  0.80516905 0.8000071\n",
      " 0.79496658 0.79020077 0.78578097 0.78172016]\n",
      "9 day output [[0.77799666]]\n",
      "10 day input [1.         0.98625513 0.95781333 0.94043886 0.94145037 0.9415694\n",
      " 0.95876538 0.96144294 0.9415694  0.94680558 0.92734851 0.90610636\n",
      " 0.89587207 0.88337677 0.87867609 0.8677278  0.86719231 0.86439572\n",
      " 0.93050209 0.95698031 0.9559688  0.96328748 0.94579397 0.94275942\n",
      " 0.93841582 0.95727784 0.96590557 0.94115285 0.92044629 0.92187436\n",
      " 0.94513945 0.94371147 0.92187436 0.91247309 0.89474161 0.8694534\n",
      " 0.88534034 0.89789519 0.89950167 0.88807736 0.90806993 0.90610636\n",
      " 0.88789887 0.86487175 0.85380443 0.88658982 0.86023062 0.83767944\n",
      " 0.81322424 0.8398215  0.86659725 0.87272592 0.89271849 0.90104878\n",
      " 0.92151737 0.9297881  0.95275575 0.95662332 0.9618595  0.98185206\n",
      " 0.97477135 0.9559688  0.95418373 0.97875795 0.95864635 0.93942734\n",
      " 0.94127188 0.92907401 0.90325031 0.91461515 0.93091855 0.90051319\n",
      " 0.89920424 0.91306805 0.91205653 0.90723691 0.8796876  0.88617336\n",
      " 0.84999633 0.84862781 0.89069545 0.85505391 0.85689854 0.86594273\n",
      " 0.90485688 0.84981783 0.85285238 0.8217925  0.83637039 0.78870958\n",
      " 0.81841028 0.81474924 0.8101995  0.80516905 0.8000071  0.79496658\n",
      " 0.79020077 0.78578097 0.78172016 0.77799666]\n",
      "10 day output [[0.7745712]]\n",
      "11 day input [0.98625513 0.95781333 0.94043886 0.94145037 0.9415694  0.95876538\n",
      " 0.96144294 0.9415694  0.94680558 0.92734851 0.90610636 0.89587207\n",
      " 0.88337677 0.87867609 0.8677278  0.86719231 0.86439572 0.93050209\n",
      " 0.95698031 0.9559688  0.96328748 0.94579397 0.94275942 0.93841582\n",
      " 0.95727784 0.96590557 0.94115285 0.92044629 0.92187436 0.94513945\n",
      " 0.94371147 0.92187436 0.91247309 0.89474161 0.8694534  0.88534034\n",
      " 0.89789519 0.89950167 0.88807736 0.90806993 0.90610636 0.88789887\n",
      " 0.86487175 0.85380443 0.88658982 0.86023062 0.83767944 0.81322424\n",
      " 0.8398215  0.86659725 0.87272592 0.89271849 0.90104878 0.92151737\n",
      " 0.9297881  0.95275575 0.95662332 0.9618595  0.98185206 0.97477135\n",
      " 0.9559688  0.95418373 0.97875795 0.95864635 0.93942734 0.94127188\n",
      " 0.92907401 0.90325031 0.91461515 0.93091855 0.90051319 0.89920424\n",
      " 0.91306805 0.91205653 0.90723691 0.8796876  0.88617336 0.84999633\n",
      " 0.84862781 0.89069545 0.85505391 0.85689854 0.86594273 0.90485688\n",
      " 0.84981783 0.85285238 0.8217925  0.83637039 0.78870958 0.81841028\n",
      " 0.81474924 0.8101995  0.80516905 0.8000071  0.79496658 0.79020077\n",
      " 0.78578097 0.78172016 0.77799666 0.77457118]\n",
      "11 day output [[0.7714007]]\n",
      "12 day input [0.95781333 0.94043886 0.94145037 0.9415694  0.95876538 0.96144294\n",
      " 0.9415694  0.94680558 0.92734851 0.90610636 0.89587207 0.88337677\n",
      " 0.87867609 0.8677278  0.86719231 0.86439572 0.93050209 0.95698031\n",
      " 0.9559688  0.96328748 0.94579397 0.94275942 0.93841582 0.95727784\n",
      " 0.96590557 0.94115285 0.92044629 0.92187436 0.94513945 0.94371147\n",
      " 0.92187436 0.91247309 0.89474161 0.8694534  0.88534034 0.89789519\n",
      " 0.89950167 0.88807736 0.90806993 0.90610636 0.88789887 0.86487175\n",
      " 0.85380443 0.88658982 0.86023062 0.83767944 0.81322424 0.8398215\n",
      " 0.86659725 0.87272592 0.89271849 0.90104878 0.92151737 0.9297881\n",
      " 0.95275575 0.95662332 0.9618595  0.98185206 0.97477135 0.9559688\n",
      " 0.95418373 0.97875795 0.95864635 0.93942734 0.94127188 0.92907401\n",
      " 0.90325031 0.91461515 0.93091855 0.90051319 0.89920424 0.91306805\n",
      " 0.91205653 0.90723691 0.8796876  0.88617336 0.84999633 0.84862781\n",
      " 0.89069545 0.85505391 0.85689854 0.86594273 0.90485688 0.84981783\n",
      " 0.85285238 0.8217925  0.83637039 0.78870958 0.81841028 0.81474924\n",
      " 0.8101995  0.80516905 0.8000071  0.79496658 0.79020077 0.78578097\n",
      " 0.78172016 0.77799666 0.77457118 0.77140069]\n",
      "12 day output [[0.7684446]]\n",
      "13 day input [0.94043886 0.94145037 0.9415694  0.95876538 0.96144294 0.9415694\n",
      " 0.94680558 0.92734851 0.90610636 0.89587207 0.88337677 0.87867609\n",
      " 0.8677278  0.86719231 0.86439572 0.93050209 0.95698031 0.9559688\n",
      " 0.96328748 0.94579397 0.94275942 0.93841582 0.95727784 0.96590557\n",
      " 0.94115285 0.92044629 0.92187436 0.94513945 0.94371147 0.92187436\n",
      " 0.91247309 0.89474161 0.8694534  0.88534034 0.89789519 0.89950167\n",
      " 0.88807736 0.90806993 0.90610636 0.88789887 0.86487175 0.85380443\n",
      " 0.88658982 0.86023062 0.83767944 0.81322424 0.8398215  0.86659725\n",
      " 0.87272592 0.89271849 0.90104878 0.92151737 0.9297881  0.95275575\n",
      " 0.95662332 0.9618595  0.98185206 0.97477135 0.9559688  0.95418373\n",
      " 0.97875795 0.95864635 0.93942734 0.94127188 0.92907401 0.90325031\n",
      " 0.91461515 0.93091855 0.90051319 0.89920424 0.91306805 0.91205653\n",
      " 0.90723691 0.8796876  0.88617336 0.84999633 0.84862781 0.89069545\n",
      " 0.85505391 0.85689854 0.86594273 0.90485688 0.84981783 0.85285238\n",
      " 0.8217925  0.83637039 0.78870958 0.81841028 0.81474924 0.8101995\n",
      " 0.80516905 0.8000071  0.79496658 0.79020077 0.78578097 0.78172016\n",
      " 0.77799666 0.77457118 0.77140069 0.7684446 ]\n",
      "13 day output [[0.76566863]]\n",
      "14 day input [0.94145037 0.9415694  0.95876538 0.96144294 0.9415694  0.94680558\n",
      " 0.92734851 0.90610636 0.89587207 0.88337677 0.87867609 0.8677278\n",
      " 0.86719231 0.86439572 0.93050209 0.95698031 0.9559688  0.96328748\n",
      " 0.94579397 0.94275942 0.93841582 0.95727784 0.96590557 0.94115285\n",
      " 0.92044629 0.92187436 0.94513945 0.94371147 0.92187436 0.91247309\n",
      " 0.89474161 0.8694534  0.88534034 0.89789519 0.89950167 0.88807736\n",
      " 0.90806993 0.90610636 0.88789887 0.86487175 0.85380443 0.88658982\n",
      " 0.86023062 0.83767944 0.81322424 0.8398215  0.86659725 0.87272592\n",
      " 0.89271849 0.90104878 0.92151737 0.9297881  0.95275575 0.95662332\n",
      " 0.9618595  0.98185206 0.97477135 0.9559688  0.95418373 0.97875795\n",
      " 0.95864635 0.93942734 0.94127188 0.92907401 0.90325031 0.91461515\n",
      " 0.93091855 0.90051319 0.89920424 0.91306805 0.91205653 0.90723691\n",
      " 0.8796876  0.88617336 0.84999633 0.84862781 0.89069545 0.85505391\n",
      " 0.85689854 0.86594273 0.90485688 0.84981783 0.85285238 0.8217925\n",
      " 0.83637039 0.78870958 0.81841028 0.81474924 0.8101995  0.80516905\n",
      " 0.8000071  0.79496658 0.79020077 0.78578097 0.78172016 0.77799666\n",
      " 0.77457118 0.77140069 0.7684446  0.76566863]\n",
      "14 day output [[0.76304424]]\n",
      "15 day input [0.9415694  0.95876538 0.96144294 0.9415694  0.94680558 0.92734851\n",
      " 0.90610636 0.89587207 0.88337677 0.87867609 0.8677278  0.86719231\n",
      " 0.86439572 0.93050209 0.95698031 0.9559688  0.96328748 0.94579397\n",
      " 0.94275942 0.93841582 0.95727784 0.96590557 0.94115285 0.92044629\n",
      " 0.92187436 0.94513945 0.94371147 0.92187436 0.91247309 0.89474161\n",
      " 0.8694534  0.88534034 0.89789519 0.89950167 0.88807736 0.90806993\n",
      " 0.90610636 0.88789887 0.86487175 0.85380443 0.88658982 0.86023062\n",
      " 0.83767944 0.81322424 0.8398215  0.86659725 0.87272592 0.89271849\n",
      " 0.90104878 0.92151737 0.9297881  0.95275575 0.95662332 0.9618595\n",
      " 0.98185206 0.97477135 0.9559688  0.95418373 0.97875795 0.95864635\n",
      " 0.93942734 0.94127188 0.92907401 0.90325031 0.91461515 0.93091855\n",
      " 0.90051319 0.89920424 0.91306805 0.91205653 0.90723691 0.8796876\n",
      " 0.88617336 0.84999633 0.84862781 0.89069545 0.85505391 0.85689854\n",
      " 0.86594273 0.90485688 0.84981783 0.85285238 0.8217925  0.83637039\n",
      " 0.78870958 0.81841028 0.81474924 0.8101995  0.80516905 0.8000071\n",
      " 0.79496658 0.79020077 0.78578097 0.78172016 0.77799666 0.77457118\n",
      " 0.77140069 0.7684446  0.76566863 0.76304424]\n",
      "15 day output [[0.76054925]]\n",
      "16 day input [0.95876538 0.96144294 0.9415694  0.94680558 0.92734851 0.90610636\n",
      " 0.89587207 0.88337677 0.87867609 0.8677278  0.86719231 0.86439572\n",
      " 0.93050209 0.95698031 0.9559688  0.96328748 0.94579397 0.94275942\n",
      " 0.93841582 0.95727784 0.96590557 0.94115285 0.92044629 0.92187436\n",
      " 0.94513945 0.94371147 0.92187436 0.91247309 0.89474161 0.8694534\n",
      " 0.88534034 0.89789519 0.89950167 0.88807736 0.90806993 0.90610636\n",
      " 0.88789887 0.86487175 0.85380443 0.88658982 0.86023062 0.83767944\n",
      " 0.81322424 0.8398215  0.86659725 0.87272592 0.89271849 0.90104878\n",
      " 0.92151737 0.9297881  0.95275575 0.95662332 0.9618595  0.98185206\n",
      " 0.97477135 0.9559688  0.95418373 0.97875795 0.95864635 0.93942734\n",
      " 0.94127188 0.92907401 0.90325031 0.91461515 0.93091855 0.90051319\n",
      " 0.89920424 0.91306805 0.91205653 0.90723691 0.8796876  0.88617336\n",
      " 0.84999633 0.84862781 0.89069545 0.85505391 0.85689854 0.86594273\n",
      " 0.90485688 0.84981783 0.85285238 0.8217925  0.83637039 0.78870958\n",
      " 0.81841028 0.81474924 0.8101995  0.80516905 0.8000071  0.79496658\n",
      " 0.79020077 0.78578097 0.78172016 0.77799666 0.77457118 0.77140069\n",
      " 0.7684446  0.76566863 0.76304424 0.76054925]\n",
      "16 day output [[0.758165]]\n",
      "17 day input [0.96144294 0.9415694  0.94680558 0.92734851 0.90610636 0.89587207\n",
      " 0.88337677 0.87867609 0.8677278  0.86719231 0.86439572 0.93050209\n",
      " 0.95698031 0.9559688  0.96328748 0.94579397 0.94275942 0.93841582\n",
      " 0.95727784 0.96590557 0.94115285 0.92044629 0.92187436 0.94513945\n",
      " 0.94371147 0.92187436 0.91247309 0.89474161 0.8694534  0.88534034\n",
      " 0.89789519 0.89950167 0.88807736 0.90806993 0.90610636 0.88789887\n",
      " 0.86487175 0.85380443 0.88658982 0.86023062 0.83767944 0.81322424\n",
      " 0.8398215  0.86659725 0.87272592 0.89271849 0.90104878 0.92151737\n",
      " 0.9297881  0.95275575 0.95662332 0.9618595  0.98185206 0.97477135\n",
      " 0.9559688  0.95418373 0.97875795 0.95864635 0.93942734 0.94127188\n",
      " 0.92907401 0.90325031 0.91461515 0.93091855 0.90051319 0.89920424\n",
      " 0.91306805 0.91205653 0.90723691 0.8796876  0.88617336 0.84999633\n",
      " 0.84862781 0.89069545 0.85505391 0.85689854 0.86594273 0.90485688\n",
      " 0.84981783 0.85285238 0.8217925  0.83637039 0.78870958 0.81841028\n",
      " 0.81474924 0.8101995  0.80516905 0.8000071  0.79496658 0.79020077\n",
      " 0.78578097 0.78172016 0.77799666 0.77457118 0.77140069 0.7684446\n",
      " 0.76566863 0.76304424 0.76054925 0.758165  ]\n",
      "17 day output [[0.7558758]]\n",
      "18 day input [0.9415694  0.94680558 0.92734851 0.90610636 0.89587207 0.88337677\n",
      " 0.87867609 0.8677278  0.86719231 0.86439572 0.93050209 0.95698031\n",
      " 0.9559688  0.96328748 0.94579397 0.94275942 0.93841582 0.95727784\n",
      " 0.96590557 0.94115285 0.92044629 0.92187436 0.94513945 0.94371147\n",
      " 0.92187436 0.91247309 0.89474161 0.8694534  0.88534034 0.89789519\n",
      " 0.89950167 0.88807736 0.90806993 0.90610636 0.88789887 0.86487175\n",
      " 0.85380443 0.88658982 0.86023062 0.83767944 0.81322424 0.8398215\n",
      " 0.86659725 0.87272592 0.89271849 0.90104878 0.92151737 0.9297881\n",
      " 0.95275575 0.95662332 0.9618595  0.98185206 0.97477135 0.9559688\n",
      " 0.95418373 0.97875795 0.95864635 0.93942734 0.94127188 0.92907401\n",
      " 0.90325031 0.91461515 0.93091855 0.90051319 0.89920424 0.91306805\n",
      " 0.91205653 0.90723691 0.8796876  0.88617336 0.84999633 0.84862781\n",
      " 0.89069545 0.85505391 0.85689854 0.86594273 0.90485688 0.84981783\n",
      " 0.85285238 0.8217925  0.83637039 0.78870958 0.81841028 0.81474924\n",
      " 0.8101995  0.80516905 0.8000071  0.79496658 0.79020077 0.78578097\n",
      " 0.78172016 0.77799666 0.77457118 0.77140069 0.7684446  0.76566863\n",
      " 0.76304424 0.76054925 0.758165   0.75587583]\n",
      "18 day output [[0.7536684]]\n",
      "19 day input [0.94680558 0.92734851 0.90610636 0.89587207 0.88337677 0.87867609\n",
      " 0.8677278  0.86719231 0.86439572 0.93050209 0.95698031 0.9559688\n",
      " 0.96328748 0.94579397 0.94275942 0.93841582 0.95727784 0.96590557\n",
      " 0.94115285 0.92044629 0.92187436 0.94513945 0.94371147 0.92187436\n",
      " 0.91247309 0.89474161 0.8694534  0.88534034 0.89789519 0.89950167\n",
      " 0.88807736 0.90806993 0.90610636 0.88789887 0.86487175 0.85380443\n",
      " 0.88658982 0.86023062 0.83767944 0.81322424 0.8398215  0.86659725\n",
      " 0.87272592 0.89271849 0.90104878 0.92151737 0.9297881  0.95275575\n",
      " 0.95662332 0.9618595  0.98185206 0.97477135 0.9559688  0.95418373\n",
      " 0.97875795 0.95864635 0.93942734 0.94127188 0.92907401 0.90325031\n",
      " 0.91461515 0.93091855 0.90051319 0.89920424 0.91306805 0.91205653\n",
      " 0.90723691 0.8796876  0.88617336 0.84999633 0.84862781 0.89069545\n",
      " 0.85505391 0.85689854 0.86594273 0.90485688 0.84981783 0.85285238\n",
      " 0.8217925  0.83637039 0.78870958 0.81841028 0.81474924 0.8101995\n",
      " 0.80516905 0.8000071  0.79496658 0.79020077 0.78578097 0.78172016\n",
      " 0.77799666 0.77457118 0.77140069 0.7684446  0.76566863 0.76304424\n",
      " 0.76054925 0.758165   0.75587583 0.75366843]\n",
      "19 day output [[0.75153005]]\n",
      "20 day input [0.92734851 0.90610636 0.89587207 0.88337677 0.87867609 0.8677278\n",
      " 0.86719231 0.86439572 0.93050209 0.95698031 0.9559688  0.96328748\n",
      " 0.94579397 0.94275942 0.93841582 0.95727784 0.96590557 0.94115285\n",
      " 0.92044629 0.92187436 0.94513945 0.94371147 0.92187436 0.91247309\n",
      " 0.89474161 0.8694534  0.88534034 0.89789519 0.89950167 0.88807736\n",
      " 0.90806993 0.90610636 0.88789887 0.86487175 0.85380443 0.88658982\n",
      " 0.86023062 0.83767944 0.81322424 0.8398215  0.86659725 0.87272592\n",
      " 0.89271849 0.90104878 0.92151737 0.9297881  0.95275575 0.95662332\n",
      " 0.9618595  0.98185206 0.97477135 0.9559688  0.95418373 0.97875795\n",
      " 0.95864635 0.93942734 0.94127188 0.92907401 0.90325031 0.91461515\n",
      " 0.93091855 0.90051319 0.89920424 0.91306805 0.91205653 0.90723691\n",
      " 0.8796876  0.88617336 0.84999633 0.84862781 0.89069545 0.85505391\n",
      " 0.85689854 0.86594273 0.90485688 0.84981783 0.85285238 0.8217925\n",
      " 0.83637039 0.78870958 0.81841028 0.81474924 0.8101995  0.80516905\n",
      " 0.8000071  0.79496658 0.79020077 0.78578097 0.78172016 0.77799666\n",
      " 0.77457118 0.77140069 0.7684446  0.76566863 0.76304424 0.76054925\n",
      " 0.758165   0.75587583 0.75366843 0.75153005]\n",
      "20 day output [[0.74944943]]\n",
      "21 day input [0.90610636 0.89587207 0.88337677 0.87867609 0.8677278  0.86719231\n",
      " 0.86439572 0.93050209 0.95698031 0.9559688  0.96328748 0.94579397\n",
      " 0.94275942 0.93841582 0.95727784 0.96590557 0.94115285 0.92044629\n",
      " 0.92187436 0.94513945 0.94371147 0.92187436 0.91247309 0.89474161\n",
      " 0.8694534  0.88534034 0.89789519 0.89950167 0.88807736 0.90806993\n",
      " 0.90610636 0.88789887 0.86487175 0.85380443 0.88658982 0.86023062\n",
      " 0.83767944 0.81322424 0.8398215  0.86659725 0.87272592 0.89271849\n",
      " 0.90104878 0.92151737 0.9297881  0.95275575 0.95662332 0.9618595\n",
      " 0.98185206 0.97477135 0.9559688  0.95418373 0.97875795 0.95864635\n",
      " 0.93942734 0.94127188 0.92907401 0.90325031 0.91461515 0.93091855\n",
      " 0.90051319 0.89920424 0.91306805 0.91205653 0.90723691 0.8796876\n",
      " 0.88617336 0.84999633 0.84862781 0.89069545 0.85505391 0.85689854\n",
      " 0.86594273 0.90485688 0.84981783 0.85285238 0.8217925  0.83637039\n",
      " 0.78870958 0.81841028 0.81474924 0.8101995  0.80516905 0.8000071\n",
      " 0.79496658 0.79020077 0.78578097 0.78172016 0.77799666 0.77457118\n",
      " 0.77140069 0.7684446  0.76566863 0.76304424 0.76054925 0.758165\n",
      " 0.75587583 0.75366843 0.75153005 0.74944943]\n",
      "21 day output [[0.74741596]]\n",
      "22 day input [0.89587207 0.88337677 0.87867609 0.8677278  0.86719231 0.86439572\n",
      " 0.93050209 0.95698031 0.9559688  0.96328748 0.94579397 0.94275942\n",
      " 0.93841582 0.95727784 0.96590557 0.94115285 0.92044629 0.92187436\n",
      " 0.94513945 0.94371147 0.92187436 0.91247309 0.89474161 0.8694534\n",
      " 0.88534034 0.89789519 0.89950167 0.88807736 0.90806993 0.90610636\n",
      " 0.88789887 0.86487175 0.85380443 0.88658982 0.86023062 0.83767944\n",
      " 0.81322424 0.8398215  0.86659725 0.87272592 0.89271849 0.90104878\n",
      " 0.92151737 0.9297881  0.95275575 0.95662332 0.9618595  0.98185206\n",
      " 0.97477135 0.9559688  0.95418373 0.97875795 0.95864635 0.93942734\n",
      " 0.94127188 0.92907401 0.90325031 0.91461515 0.93091855 0.90051319\n",
      " 0.89920424 0.91306805 0.91205653 0.90723691 0.8796876  0.88617336\n",
      " 0.84999633 0.84862781 0.89069545 0.85505391 0.85689854 0.86594273\n",
      " 0.90485688 0.84981783 0.85285238 0.8217925  0.83637039 0.78870958\n",
      " 0.81841028 0.81474924 0.8101995  0.80516905 0.8000071  0.79496658\n",
      " 0.79020077 0.78578097 0.78172016 0.77799666 0.77457118 0.77140069\n",
      " 0.7684446  0.76566863 0.76304424 0.76054925 0.758165   0.75587583\n",
      " 0.75366843 0.75153005 0.74944943 0.74741596]\n",
      "22 day output [[0.7454204]]\n",
      "23 day input [0.88337677 0.87867609 0.8677278  0.86719231 0.86439572 0.93050209\n",
      " 0.95698031 0.9559688  0.96328748 0.94579397 0.94275942 0.93841582\n",
      " 0.95727784 0.96590557 0.94115285 0.92044629 0.92187436 0.94513945\n",
      " 0.94371147 0.92187436 0.91247309 0.89474161 0.8694534  0.88534034\n",
      " 0.89789519 0.89950167 0.88807736 0.90806993 0.90610636 0.88789887\n",
      " 0.86487175 0.85380443 0.88658982 0.86023062 0.83767944 0.81322424\n",
      " 0.8398215  0.86659725 0.87272592 0.89271849 0.90104878 0.92151737\n",
      " 0.9297881  0.95275575 0.95662332 0.9618595  0.98185206 0.97477135\n",
      " 0.9559688  0.95418373 0.97875795 0.95864635 0.93942734 0.94127188\n",
      " 0.92907401 0.90325031 0.91461515 0.93091855 0.90051319 0.89920424\n",
      " 0.91306805 0.91205653 0.90723691 0.8796876  0.88617336 0.84999633\n",
      " 0.84862781 0.89069545 0.85505391 0.85689854 0.86594273 0.90485688\n",
      " 0.84981783 0.85285238 0.8217925  0.83637039 0.78870958 0.81841028\n",
      " 0.81474924 0.8101995  0.80516905 0.8000071  0.79496658 0.79020077\n",
      " 0.78578097 0.78172016 0.77799666 0.77457118 0.77140069 0.7684446\n",
      " 0.76566863 0.76304424 0.76054925 0.758165   0.75587583 0.75366843\n",
      " 0.75153005 0.74944943 0.74741596 0.7454204 ]\n",
      "23 day output [[0.7434542]]\n",
      "24 day input [0.87867609 0.8677278  0.86719231 0.86439572 0.93050209 0.95698031\n",
      " 0.9559688  0.96328748 0.94579397 0.94275942 0.93841582 0.95727784\n",
      " 0.96590557 0.94115285 0.92044629 0.92187436 0.94513945 0.94371147\n",
      " 0.92187436 0.91247309 0.89474161 0.8694534  0.88534034 0.89789519\n",
      " 0.89950167 0.88807736 0.90806993 0.90610636 0.88789887 0.86487175\n",
      " 0.85380443 0.88658982 0.86023062 0.83767944 0.81322424 0.8398215\n",
      " 0.86659725 0.87272592 0.89271849 0.90104878 0.92151737 0.9297881\n",
      " 0.95275575 0.95662332 0.9618595  0.98185206 0.97477135 0.9559688\n",
      " 0.95418373 0.97875795 0.95864635 0.93942734 0.94127188 0.92907401\n",
      " 0.90325031 0.91461515 0.93091855 0.90051319 0.89920424 0.91306805\n",
      " 0.91205653 0.90723691 0.8796876  0.88617336 0.84999633 0.84862781\n",
      " 0.89069545 0.85505391 0.85689854 0.86594273 0.90485688 0.84981783\n",
      " 0.85285238 0.8217925  0.83637039 0.78870958 0.81841028 0.81474924\n",
      " 0.8101995  0.80516905 0.8000071  0.79496658 0.79020077 0.78578097\n",
      " 0.78172016 0.77799666 0.77457118 0.77140069 0.7684446  0.76566863\n",
      " 0.76304424 0.76054925 0.758165   0.75587583 0.75366843 0.75153005\n",
      " 0.74944943 0.74741596 0.7454204  0.74345422]\n",
      "24 day output [[0.7415105]]\n",
      "25 day input [0.8677278  0.86719231 0.86439572 0.93050209 0.95698031 0.9559688\n",
      " 0.96328748 0.94579397 0.94275942 0.93841582 0.95727784 0.96590557\n",
      " 0.94115285 0.92044629 0.92187436 0.94513945 0.94371147 0.92187436\n",
      " 0.91247309 0.89474161 0.8694534  0.88534034 0.89789519 0.89950167\n",
      " 0.88807736 0.90806993 0.90610636 0.88789887 0.86487175 0.85380443\n",
      " 0.88658982 0.86023062 0.83767944 0.81322424 0.8398215  0.86659725\n",
      " 0.87272592 0.89271849 0.90104878 0.92151737 0.9297881  0.95275575\n",
      " 0.95662332 0.9618595  0.98185206 0.97477135 0.9559688  0.95418373\n",
      " 0.97875795 0.95864635 0.93942734 0.94127188 0.92907401 0.90325031\n",
      " 0.91461515 0.93091855 0.90051319 0.89920424 0.91306805 0.91205653\n",
      " 0.90723691 0.8796876  0.88617336 0.84999633 0.84862781 0.89069545\n",
      " 0.85505391 0.85689854 0.86594273 0.90485688 0.84981783 0.85285238\n",
      " 0.8217925  0.83637039 0.78870958 0.81841028 0.81474924 0.8101995\n",
      " 0.80516905 0.8000071  0.79496658 0.79020077 0.78578097 0.78172016\n",
      " 0.77799666 0.77457118 0.77140069 0.7684446  0.76566863 0.76304424\n",
      " 0.76054925 0.758165   0.75587583 0.75366843 0.75153005 0.74944943\n",
      " 0.74741596 0.7454204  0.74345422 0.74151051]\n",
      "25 day output [[0.73958373]]\n",
      "26 day input [0.86719231 0.86439572 0.93050209 0.95698031 0.9559688  0.96328748\n",
      " 0.94579397 0.94275942 0.93841582 0.95727784 0.96590557 0.94115285\n",
      " 0.92044629 0.92187436 0.94513945 0.94371147 0.92187436 0.91247309\n",
      " 0.89474161 0.8694534  0.88534034 0.89789519 0.89950167 0.88807736\n",
      " 0.90806993 0.90610636 0.88789887 0.86487175 0.85380443 0.88658982\n",
      " 0.86023062 0.83767944 0.81322424 0.8398215  0.86659725 0.87272592\n",
      " 0.89271849 0.90104878 0.92151737 0.9297881  0.95275575 0.95662332\n",
      " 0.9618595  0.98185206 0.97477135 0.9559688  0.95418373 0.97875795\n",
      " 0.95864635 0.93942734 0.94127188 0.92907401 0.90325031 0.91461515\n",
      " 0.93091855 0.90051319 0.89920424 0.91306805 0.91205653 0.90723691\n",
      " 0.8796876  0.88617336 0.84999633 0.84862781 0.89069545 0.85505391\n",
      " 0.85689854 0.86594273 0.90485688 0.84981783 0.85285238 0.8217925\n",
      " 0.83637039 0.78870958 0.81841028 0.81474924 0.8101995  0.80516905\n",
      " 0.8000071  0.79496658 0.79020077 0.78578097 0.78172016 0.77799666\n",
      " 0.77457118 0.77140069 0.7684446  0.76566863 0.76304424 0.76054925\n",
      " 0.758165   0.75587583 0.75366843 0.75153005 0.74944943 0.74741596\n",
      " 0.7454204  0.74345422 0.74151051 0.73958373]\n",
      "26 day output [[0.7376696]]\n",
      "27 day input [0.86439572 0.93050209 0.95698031 0.9559688  0.96328748 0.94579397\n",
      " 0.94275942 0.93841582 0.95727784 0.96590557 0.94115285 0.92044629\n",
      " 0.92187436 0.94513945 0.94371147 0.92187436 0.91247309 0.89474161\n",
      " 0.8694534  0.88534034 0.89789519 0.89950167 0.88807736 0.90806993\n",
      " 0.90610636 0.88789887 0.86487175 0.85380443 0.88658982 0.86023062\n",
      " 0.83767944 0.81322424 0.8398215  0.86659725 0.87272592 0.89271849\n",
      " 0.90104878 0.92151737 0.9297881  0.95275575 0.95662332 0.9618595\n",
      " 0.98185206 0.97477135 0.9559688  0.95418373 0.97875795 0.95864635\n",
      " 0.93942734 0.94127188 0.92907401 0.90325031 0.91461515 0.93091855\n",
      " 0.90051319 0.89920424 0.91306805 0.91205653 0.90723691 0.8796876\n",
      " 0.88617336 0.84999633 0.84862781 0.89069545 0.85505391 0.85689854\n",
      " 0.86594273 0.90485688 0.84981783 0.85285238 0.8217925  0.83637039\n",
      " 0.78870958 0.81841028 0.81474924 0.8101995  0.80516905 0.8000071\n",
      " 0.79496658 0.79020077 0.78578097 0.78172016 0.77799666 0.77457118\n",
      " 0.77140069 0.7684446  0.76566863 0.76304424 0.76054925 0.758165\n",
      " 0.75587583 0.75366843 0.75153005 0.74944943 0.74741596 0.7454204\n",
      " 0.74345422 0.74151051 0.73958373 0.73766959]\n",
      "27 day output [[0.7357652]]\n",
      "28 day input [0.93050209 0.95698031 0.9559688  0.96328748 0.94579397 0.94275942\n",
      " 0.93841582 0.95727784 0.96590557 0.94115285 0.92044629 0.92187436\n",
      " 0.94513945 0.94371147 0.92187436 0.91247309 0.89474161 0.8694534\n",
      " 0.88534034 0.89789519 0.89950167 0.88807736 0.90806993 0.90610636\n",
      " 0.88789887 0.86487175 0.85380443 0.88658982 0.86023062 0.83767944\n",
      " 0.81322424 0.8398215  0.86659725 0.87272592 0.89271849 0.90104878\n",
      " 0.92151737 0.9297881  0.95275575 0.95662332 0.9618595  0.98185206\n",
      " 0.97477135 0.9559688  0.95418373 0.97875795 0.95864635 0.93942734\n",
      " 0.94127188 0.92907401 0.90325031 0.91461515 0.93091855 0.90051319\n",
      " 0.89920424 0.91306805 0.91205653 0.90723691 0.8796876  0.88617336\n",
      " 0.84999633 0.84862781 0.89069545 0.85505391 0.85689854 0.86594273\n",
      " 0.90485688 0.84981783 0.85285238 0.8217925  0.83637039 0.78870958\n",
      " 0.81841028 0.81474924 0.8101995  0.80516905 0.8000071  0.79496658\n",
      " 0.79020077 0.78578097 0.78172016 0.77799666 0.77457118 0.77140069\n",
      " 0.7684446  0.76566863 0.76304424 0.76054925 0.758165   0.75587583\n",
      " 0.75366843 0.75153005 0.74944943 0.74741596 0.7454204  0.74345422\n",
      " 0.74151051 0.73958373 0.73766959 0.73576522]\n",
      "28 day output [[0.73386824]]\n",
      "29 day input [0.95698031 0.9559688  0.96328748 0.94579397 0.94275942 0.93841582\n",
      " 0.95727784 0.96590557 0.94115285 0.92044629 0.92187436 0.94513945\n",
      " 0.94371147 0.92187436 0.91247309 0.89474161 0.8694534  0.88534034\n",
      " 0.89789519 0.89950167 0.88807736 0.90806993 0.90610636 0.88789887\n",
      " 0.86487175 0.85380443 0.88658982 0.86023062 0.83767944 0.81322424\n",
      " 0.8398215  0.86659725 0.87272592 0.89271849 0.90104878 0.92151737\n",
      " 0.9297881  0.95275575 0.95662332 0.9618595  0.98185206 0.97477135\n",
      " 0.9559688  0.95418373 0.97875795 0.95864635 0.93942734 0.94127188\n",
      " 0.92907401 0.90325031 0.91461515 0.93091855 0.90051319 0.89920424\n",
      " 0.91306805 0.91205653 0.90723691 0.8796876  0.88617336 0.84999633\n",
      " 0.84862781 0.89069545 0.85505391 0.85689854 0.86594273 0.90485688\n",
      " 0.84981783 0.85285238 0.8217925  0.83637039 0.78870958 0.81841028\n",
      " 0.81474924 0.8101995  0.80516905 0.8000071  0.79496658 0.79020077\n",
      " 0.78578097 0.78172016 0.77799666 0.77457118 0.77140069 0.7684446\n",
      " 0.76566863 0.76304424 0.76054925 0.758165   0.75587583 0.75366843\n",
      " 0.75153005 0.74944943 0.74741596 0.7454204  0.74345422 0.74151051\n",
      " 0.73958373 0.73766959 0.73576522 0.73386824]\n",
      "29 day output [[0.73197824]]\n"
     ]
    }
   ],
   "source": [
    "# demonstrate prediction for next 10 days\n",
    "from numpy import array\n",
    "\n",
    "lst_output=[]\n",
    "n_steps=100\n",
    "i=0\n",
    "while(i<30):\n",
    "    \n",
    "    if(len(temp_input)>100):\n",
    "        #print(temp_input)\n",
    "        x_input=np.array(temp_input[1:])\n",
    "        print(\"{} day input {}\".format(i,x_input))\n",
    "        x_input=x_input.reshape(1,-1)\n",
    "        x_input = x_input.reshape((1, n_steps, 1))\n",
    "        #print(x_input)\n",
    "        yhat = model.predict(x_input, verbose=0)\n",
    "        print(\"{} day output {}\".format(i,yhat))\n",
    "        temp_input.extend(yhat[0].tolist())\n",
    "        temp_input=temp_input[1:]\n",
    "        #print(temp_input)\n",
    "        lst_output.extend(yhat.tolist())\n",
    "        i=i+1\n",
    "    else:\n",
    "        x_input = x_input.reshape((1, n_steps,1))\n",
    "        yhat = model.predict(x_input, verbose=0)\n",
    "#         print(yhat[0])\n",
    "        temp_input.extend(yhat[0].tolist())\n",
    "#         print(len(temp_input))\n",
    "        lst_output.extend(yhat.tolist())\n",
    "        i=i+1\n",
    "    \n",
    "\n",
    "# print(lst_output)"
   ]
  },
  {
   "cell_type": "code",
   "execution_count": 115,
   "metadata": {
    "pycharm": {
     "name": "#%%\n"
    }
   },
   "outputs": [],
   "source": [
    "day_new=np.arange(1,101)\n",
    "day_pred=np.arange(101,131)"
   ]
  },
  {
   "cell_type": "code",
   "execution_count": 116,
   "metadata": {
    "pycharm": {
     "name": "#%%\n"
    }
   },
   "outputs": [
    {
     "name": "stdout",
     "output_type": "stream",
     "text": [
      "[[146.5]]\n",
      "[[151.49157279]\n",
      " [150.87628986]\n",
      " [150.11164892]\n",
      " [149.2662184 ]\n",
      " [148.39868971]\n",
      " [147.55156628]\n",
      " [146.7506126 ]\n",
      " [146.00780938]\n",
      " [145.32534039]\n",
      " [144.69955933]\n",
      " [144.12386479]\n",
      " [143.59102429]\n",
      " [143.09421604]\n",
      " [142.62768008]\n",
      " [142.18661813]\n",
      " [141.76730375]\n",
      " [141.36660152]\n",
      " [140.98187689]\n",
      " [140.61089601]\n",
      " [140.25151516]\n",
      " [139.90184109]\n",
      " [139.5600907 ]\n",
      " [139.22471132]\n",
      " [138.89427047]\n",
      " [138.56760615]\n",
      " [138.24378674]\n",
      " [137.922091  ]\n",
      " [137.60203809]\n",
      " [137.28322733]\n",
      " [136.9655886 ]]\n"
     ]
    }
   ],
   "source": [
    "len(df1)\n",
    "print(scaler.inverse_transform(df1[-1:]))\n",
    "print(scaler.inverse_transform(lst_output[0:]))"
   ]
  },
  {
   "cell_type": "code",
   "execution_count": 117,
   "metadata": {
    "pycharm": {
     "name": "#%%\n"
    }
   },
   "outputs": [
    {
     "data": {
      "text/plain": "[<matplotlib.lines.Line2D at 0x2d5812c8a00>]"
     },
     "execution_count": 117,
     "metadata": {},
     "output_type": "execute_result"
    },
    {
     "data": {
      "text/plain": "<Figure size 432x288 with 1 Axes>",
      "image/png": "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\n"
     },
     "metadata": {
      "needs_background": "light"
     },
     "output_type": "display_data"
    }
   ],
   "source": [
    "plt.plot(day_new,scaler.inverse_transform(df1[len(df1)-100:]))\n",
    "plt.plot(day_pred,scaler.inverse_transform(lst_output))"
   ]
  },
  {
   "cell_type": "code",
   "execution_count": 118,
   "metadata": {
    "pycharm": {
     "name": "#%%\n"
    }
   },
   "outputs": [
    {
     "data": {
      "text/plain": "[<matplotlib.lines.Line2D at 0x2d53b2aca00>]"
     },
     "execution_count": 118,
     "metadata": {},
     "output_type": "execute_result"
    },
    {
     "data": {
      "text/plain": "<Figure size 432x288 with 1 Axes>",
      "image/png": "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\n"
     },
     "metadata": {
      "needs_background": "light"
     },
     "output_type": "display_data"
    }
   ],
   "source": [
    "df3=df1.tolist()\n",
    "df3.extend(lst_output)\n",
    "plt.plot(df3[1200:])"
   ]
  },
  {
   "cell_type": "code",
   "execution_count": 119,
   "metadata": {
    "pycharm": {
     "name": "#%%\n"
    }
   },
   "outputs": [],
   "source": [
    "df3=scaler.inverse_transform(df3).tolist()\n"
   ]
  },
  {
   "cell_type": "code",
   "execution_count": 120,
   "metadata": {
    "pycharm": {
     "name": "#%%\n"
    }
   },
   "outputs": [
    {
     "data": {
      "text/plain": "[<matplotlib.lines.Line2D at 0x2d53a441c40>]"
     },
     "execution_count": 120,
     "metadata": {},
     "output_type": "execute_result"
    },
    {
     "data": {
      "text/plain": "<Figure size 432x288 with 1 Axes>",
      "image/png": "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\n"
     },
     "metadata": {
      "needs_background": "light"
     },
     "output_type": "display_data"
    }
   ],
   "source": [
    "plt.plot(df3)\n"
   ]
  },
  {
   "cell_type": "code",
   "execution_count": 121,
   "metadata": {
    "pycharm": {
     "name": "#%%\n"
    }
   },
   "outputs": [
    {
     "name": "stderr",
     "output_type": "stream",
     "text": [
      "WARNING:absl:Found untraced functions such as lstm_cell_8_layer_call_fn, lstm_cell_8_layer_call_and_return_conditional_losses, lstm_cell_9_layer_call_fn, lstm_cell_9_layer_call_and_return_conditional_losses, lstm_cell_10_layer_call_fn while saving (showing 5 of 8). These functions will not be directly callable after loading.\n"
     ]
    },
    {
     "name": "stdout",
     "output_type": "stream",
     "text": [
      "INFO:tensorflow:Assets written to: filename.pkl\\assets\n"
     ]
    },
    {
     "name": "stderr",
     "output_type": "stream",
     "text": [
      "INFO:tensorflow:Assets written to: filename.pkl\\assets\n",
      "WARNING:absl:<keras.layers.recurrent.LSTMCell object at 0x000002D52C5DE820> has the same name 'LSTMCell' as a built-in Keras object. Consider renaming <class 'keras.layers.recurrent.LSTMCell'> to avoid naming conflicts when loading with `tf.keras.models.load_model`. If renaming is not possible, pass the object in the `custom_objects` parameter of the load function.\n",
      "WARNING:absl:<keras.layers.recurrent.LSTMCell object at 0x000002D529441490> has the same name 'LSTMCell' as a built-in Keras object. Consider renaming <class 'keras.layers.recurrent.LSTMCell'> to avoid naming conflicts when loading with `tf.keras.models.load_model`. If renaming is not possible, pass the object in the `custom_objects` parameter of the load function.\n",
      "WARNING:absl:<keras.layers.recurrent.LSTMCell object at 0x000002D51B9C35E0> has the same name 'LSTMCell' as a built-in Keras object. Consider renaming <class 'keras.layers.recurrent.LSTMCell'> to avoid naming conflicts when loading with `tf.keras.models.load_model`. If renaming is not possible, pass the object in the `custom_objects` parameter of the load function.\n",
      "WARNING:absl:<keras.layers.recurrent.LSTMCell object at 0x000002D5817FD970> has the same name 'LSTMCell' as a built-in Keras object. Consider renaming <class 'keras.layers.recurrent.LSTMCell'> to avoid naming conflicts when loading with `tf.keras.models.load_model`. If renaming is not possible, pass the object in the `custom_objects` parameter of the load function.\n"
     ]
    }
   ],
   "source": [
    "import pickle\n",
    "\n",
    "# filename = 'model.sav'\n",
    "# pickle.dump(model, open(filename, 'wb'))\n",
    "tf.keras.models.save_model(model, \"filename.pkl\")\n",
    "# import time\n",
    "# #save model\n",
    "# ts = int(time.time())\n",
    "# file_path = f\"tf-models/lstm/{ts}/\"\n",
    "# model.save(filepath=file_path, save_format='tf')"
   ]
  },
  {
   "cell_type": "code",
   "execution_count": 122,
   "metadata": {
    "pycharm": {
     "name": "#%%\n"
    }
   },
   "outputs": [],
   "source": [
    "# import tarfile\n",
    "# import os\n",
    "\n",
    "# def tar_folder(output_filename: str, source_dir: str):\n",
    "#     with tarfile.open(output_filename, \"w:gz\") as tar:\n",
    "#         tar.add(source_dir, arcname=os.path.basename(source_dir))\n",
    "\n",
    "# OUT_FILE = 'tf-models-lstm.tar.gz'\n",
    "\n",
    "# SOURCE_FILE = \"tf-models\"\n",
    "\n",
    "# tar_folder(output_filename=OUT_FILE, source_dir=SOURCE_FILE)\n",
    "# print(OUT_FILE)"
   ]
  },
  {
   "cell_type": "code",
   "execution_count": 123,
   "metadata": {
    "pycharm": {
     "name": "#%%\n"
    }
   },
   "outputs": [],
   "source": [
    "# import sagemaker\n",
    "\n",
    "# sagemaker_session = sagemaker.Session(default_bucket='stocks-models')\n",
    "# upload_data = sagemaker_session.upload_data(path='tf-models-lstm.tar.gz', key_prefix='my_prefix')\n",
    "\n",
    "# print('upload_data : {}'.format(upload_data))"
   ]
  },
  {
   "cell_type": "code",
   "execution_count": 186,
   "metadata": {
    "pycharm": {
     "name": "#%%\n"
    }
   },
   "outputs": [
    {
     "name": "stdout",
     "output_type": "stream",
     "text": [
      "1652395099\n",
      "2022-05-12 17:38:19\n",
      "NEXT DAY\n",
      "\n",
      "1652481499\n",
      "2022-05-13 17:38:19\n",
      "136.97\n",
      "1654987099\n",
      "2022-05-16 17:38:19\n",
      "{'c': [151.49, 150.88, 150.11, 149.27, 148.4, 147.55, 146.75, 146.01, 145.33, 144.7, 144.12, 143.59, 143.09, 142.63, 142.19, 141.77, 141.37, 140.98, 140.61, 140.25, 139.9, 139.56, 139.22, 138.89, 138.57, 138.24, 137.92, 137.6, 137.28, 136.97], 't': [1652481499, 1652567899, 1652654299, 1652740699, 1652827099, 1652913499, 1652999899, 1653086299, 1653172699, 1653259099, 1653345499, 1653431899, 1653518299, 1653604699, 1653691099, 1653777499, 1653863899, 1653950299, 1654036699, 1654123099, 1654209499, 1654295899, 1654382299, 1654468699, 1654555099, 1654641499, 1654727899, 1654814299, 1654900699, 1654987099]}\n"
     ]
    }
   ],
   "source": [
    "# print(prediction[:50])\n",
    "import time\n",
    "from datetime import datetime\n",
    "\n",
    "SECONDS_IN_DAY = 86400\n",
    "\n",
    "now = int( time.time() )\n",
    "print( now )\n",
    "print(datetime.fromtimestamp(now))\n",
    "\n",
    "print(\"NEXT DAY\\n\")\n",
    "print(now + SECONDS_IN_DAY)\n",
    "print(datetime.fromtimestamp(now + SECONDS_IN_DAY))\n",
    "\n",
    "data_set = {\"c\": [], \"t\": []}\n",
    "inversed_output = scaler.inverse_transform(lst_output)\n",
    "inversed_output.tolist()\n",
    "for i in range(len(inversed_output)):\n",
    "    now = SECONDS_IN_DAY + now\n",
    "    data_set[\"c\"].insert(i, round(float(inversed_output[i]), 2))\n",
    "    data_set[\"t\"].insert(i, int(now))\n",
    "\n",
    "\n",
    "print(data_set.get(\"c\")[-1])\n",
    "print(data_set.get(\"t\")[-1])\n",
    "print(datetime.fromtimestamp(data_set.get(\"t\")[3]))\n",
    "print(data_set)\n",
    "\n",
    "\n",
    "\n",
    "# print(inversed_output)"
   ]
  },
  {
   "cell_type": "code",
   "execution_count": 188,
   "outputs": [],
   "source": [
    "import json\n",
    "with open('stock_json/aapl.json', 'w', encoding='utf-8') as f:\n",
    "    json.dump(data_set, f, ensure_ascii=False, indent=4)"
   ],
   "metadata": {
    "collapsed": false,
    "pycharm": {
     "name": "#%%\n"
    }
   }
  },
  {
   "cell_type": "code",
   "execution_count": null,
   "outputs": [],
   "source": [],
   "metadata": {
    "collapsed": false,
    "pycharm": {
     "name": "#%%\n"
    }
   }
  }
 ],
 "metadata": {
  "instance_type": "ml.g4dn.xlarge",
  "kernelspec": {
   "display_name": "Python 3",
   "language": "python",
   "name": "python3"
  }
 },
 "nbformat": 4,
 "nbformat_minor": 4
}