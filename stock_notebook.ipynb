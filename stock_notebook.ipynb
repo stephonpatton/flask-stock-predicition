{
 "cells": [
  {
   "cell_type": "code",
   "execution_count": null,
   "outputs": [],
   "source": [
    "# !pipreqs --force\n",
    "!pip install -r requirements.txt\n",
    "#\n",
    "# !pip install tensorflow yfinance pandas sklearn\n",
    "# import tensorflow as tf\n",
    "# !pip install yfinance\n"
   ],
   "metadata": {
    "collapsed": false,
    "pycharm": {
     "name": "#%%\n",
     "is_executing": true
    }
   }
  },
  {
   "cell_type": "code",
   "execution_count": null,
   "outputs": [],
   "source": [
    "import pandas as pd\n",
    "import tensorflow as tf\n",
    "import yfinance as yf\n"
   ],
   "metadata": {
    "collapsed": false,
    "pycharm": {
     "name": "#%%\n"
    }
   }
  },
  {
   "cell_type": "code",
   "execution_count": null,
   "outputs": [],
   "source": [
    "print(\"Hello\")\n",
    "\n",
    "# !pip freeze > requirements.txt\n",
    "\n"
   ],
   "metadata": {
    "collapsed": false,
    "pycharm": {
     "name": "#%%\n"
    }
   }
  },
  {
   "cell_type": "code",
   "execution_count": null,
   "outputs": [],
   "source": [
    "# !pip freeze > requirements.txt\n",
    "from datetime import datetime, timedelta\n",
    "end_date = datetime.today().strftime('%Y-%m-%d')\n",
    "start_date_dt = datetime.now() - timedelta(days=10*365)\n",
    "print(start_date_dt)\n",
    "start_date = start_date_dt.strftime('%Y-%m-%d')\n",
    "print(start_date)\n",
    "print(end_date)\n",
    "# aapl = yf.download(\"AAPL\")\n",
    "aapl = yf.download(\"AAPL\", start = start_date, end = end_date)\n",
    "# aapl_history = aapl.history(period=\"max\")"
   ],
   "metadata": {
    "collapsed": false,
    "pycharm": {
     "name": "#%%\n"
    }
   }
  },
  {
   "cell_type": "code",
   "execution_count": null,
   "outputs": [],
   "source": [],
   "metadata": {
    "collapsed": false,
    "pycharm": {
     "name": "#%%\n"
    }
   }
  },
  {
   "cell_type": "code",
   "execution_count": null,
   "outputs": [],
   "source": [
    "type(aapl)\n",
    "df = pd.DataFrame(aapl)\n",
    "df\n",
    "df1 = df.reset_index()['Close']\n",
    "df1"
   ],
   "metadata": {
    "collapsed": false,
    "pycharm": {
     "name": "#%%\n"
    }
   }
  },
  {
   "cell_type": "code",
   "execution_count": null,
   "outputs": [],
   "source": [
    "import matplotlib.pyplot as plt\n",
    "plt.plot(df1)"
   ],
   "metadata": {
    "collapsed": false,
    "pycharm": {
     "name": "#%%\n"
    }
   }
  },
  {
   "cell_type": "code",
   "execution_count": null,
   "outputs": [],
   "source": [
    "import numpy as np\n",
    "from sklearn.preprocessing import MinMaxScaler\n",
    "scaler=MinMaxScaler(feature_range=(0,1))\n",
    "df1 = scaler.fit_transform(np.array(df1).reshape(-1, 1))"
   ],
   "metadata": {
    "collapsed": false,
    "pycharm": {
     "name": "#%%\n"
    }
   }
  },
  {
   "cell_type": "code",
   "execution_count": null,
   "outputs": [],
   "source": [
    "# Split data \n",
    "train_size = int(len(df1)*.95) # 65% \n",
    "test_size = len(df1) - train_size\n",
    "train, test = df1[0:train_size,:], df1[train_size:len(df1), :1]"
   ],
   "metadata": {
    "collapsed": false,
    "pycharm": {
     "name": "#%%\n"
    }
   }
  },
  {
   "cell_type": "code",
   "execution_count": null,
   "outputs": [],
   "source": [
    "print(train_size)\n",
    "print(test_size)\n",
    "# print(train)\n",
    "# print(test)"
   ],
   "metadata": {
    "collapsed": false,
    "pycharm": {
     "name": "#%%\n"
    }
   }
  },
  {
   "cell_type": "code",
   "execution_count": null,
   "outputs": [],
   "source": [
    "def create_dataset(data, time_step=1):\n",
    "    dataX, dataY = [], []\n",
    "    for i in range(len(data)-time_step-1):\n",
    "        a = data[i:(i+time_step), 0]\n",
    "        dataX.append(a)\n",
    "        dataY.append(data[i + time_step, 0])\n",
    "    return np.array(dataX), np.array(dataY)"
   ],
   "metadata": {
    "collapsed": false,
    "pycharm": {
     "name": "#%%\n"
    }
   }
  },
  {
   "cell_type": "code",
   "execution_count": null,
   "outputs": [],
   "source": [
    "time_step = 100\n",
    "X_train, y_train = create_dataset(train, time_step)\n",
    "X_test, y_test = create_dataset(test, time_step)"
   ],
   "metadata": {
    "collapsed": false,
    "pycharm": {
     "name": "#%%\n"
    }
   }
  },
  {
   "cell_type": "code",
   "execution_count": null,
   "outputs": [],
   "source": [
    "print(X_train.shape), print(y_train.shape)"
   ],
   "metadata": {
    "collapsed": false,
    "pycharm": {
     "name": "#%%\n"
    }
   }
  },
  {
   "cell_type": "code",
   "execution_count": null,
   "outputs": [],
   "source": [
    "print(X_test.shape), print(y_test.shape)"
   ],
   "metadata": {
    "collapsed": false,
    "pycharm": {
     "name": "#%%\n"
    }
   }
  },
  {
   "cell_type": "code",
   "execution_count": null,
   "outputs": [],
   "source": [
    "# Reshape to be inputted into LSTM \n",
    "X_train = X_train.reshape(X_train.shape[0], X_train.shape[1], 1)\n",
    "X_test = X_test.reshape(X_test.shape[0], X_test.shape[1], 1)\n",
    "print(X_train.shape)\n",
    "print(X_test.shape)"
   ],
   "metadata": {
    "collapsed": false,
    "pycharm": {
     "name": "#%%\n"
    }
   }
  },
  {
   "cell_type": "code",
   "execution_count": null,
   "outputs": [],
   "source": [
    "# Create Stacked LSTM\n",
    "from tensorflow.keras.models import Sequential\n",
    "from tensorflow.keras.layers import Dense\n",
    "from tensorflow.keras.layers import LSTM\n",
    "from tensorflow.keras.layers import Dropout \n",
    "model = Sequential()\n",
    "model.add(LSTM(50, return_sequences=True, input_shape=(100, 1)))\n",
    "model.add(Dropout(.5))\n",
    "model.add(LSTM(50, return_sequences=True))\n",
    "model.add(LSTM(50, return_sequences=True))\n",
    "model.add(LSTM(50))\n",
    "model.add(Dense(1))\n",
    "model.compile(loss='mean_squared_error', optimizer='adam')"
   ],
   "metadata": {
    "collapsed": false,
    "pycharm": {
     "name": "#%%\n"
    }
   }
  },
  {
   "cell_type": "code",
   "execution_count": null,
   "outputs": [],
   "source": [
    "model.summary()"
   ],
   "metadata": {
    "collapsed": false,
    "pycharm": {
     "name": "#%%\n"
    }
   }
  },
  {
   "cell_type": "code",
   "execution_count": null,
   "outputs": [],
   "source": [
    "model.fit(X_train, y_train, validation_data=(X_test, y_test), epochs=100, batch_size=250, verbose=1)"
   ],
   "metadata": {
    "collapsed": false,
    "pycharm": {
     "name": "#%%\n"
    }
   }
  },
  {
   "cell_type": "code",
   "execution_count": null,
   "outputs": [],
   "source": [
    "# import tensorflow as tf\n",
    "tf.__version__"
   ],
   "metadata": {
    "collapsed": false,
    "pycharm": {
     "name": "#%%\n"
    }
   }
  },
  {
   "cell_type": "code",
   "execution_count": null,
   "outputs": [],
   "source": [
    "# import tensorflow as tf\n",
    "tf.__version__"
   ],
   "metadata": {
    "collapsed": false,
    "pycharm": {
     "name": "#%%\n"
    }
   }
  },
  {
   "cell_type": "code",
   "execution_count": null,
   "outputs": [],
   "source": [
    "prediction = model.predict(X_train)\n",
    "test_prediction = model.predict(X_test)\n",
    "print(model.input)"
   ],
   "metadata": {
    "collapsed": false,
    "pycharm": {
     "name": "#%%\n"
    }
   }
  },
  {
   "cell_type": "code",
   "execution_count": 20,
   "metadata": {
    "pycharm": {
     "name": "#%%\n"
    }
   },
   "outputs": [
    {
     "name": "stdout",
     "output_type": "stream",
     "text": [
      "KerasTensor(type_spec=TensorSpec(shape=(None, 100, 1), dtype=tf.float32, name='lstm_input'), name='lstm_input', description=\"created by layer 'lstm_input'\")\n"
     ]
    }
   ],
   "source": [
    "prediction = model.predict(X_train)\n",
    "test_prediction = model.predict(X_test)\n",
    "print(model.input)"
   ]
  },
  {
   "cell_type": "code",
   "execution_count": 21,
   "metadata": {
    "pycharm": {
     "name": "#%%\n"
    }
   },
   "outputs": [],
   "source": [
    "prediction = scaler.inverse_transform(prediction)\n",
    "test_prediction = scaler.inverse_transform(test_prediction)"
   ]
  },
  {
   "cell_type": "code",
   "execution_count": 22,
   "metadata": {
    "pycharm": {
     "name": "#%%\n"
    }
   },
   "outputs": [
    {
     "data": {
      "text/plain": [
       "61.646180095164794"
      ]
     },
     "execution_count": 22,
     "metadata": {},
     "output_type": "execute_result"
    }
   ],
   "source": [
    "import math\n",
    "from sklearn.metrics import mean_squared_error\n",
    "math.sqrt(mean_squared_error(y_train, prediction))"
   ]
  },
  {
   "cell_type": "code",
   "execution_count": 23,
   "metadata": {
    "pycharm": {
     "name": "#%%\n"
    }
   },
   "outputs": [
    {
     "data": {
      "text/plain": [
       "161.9619166650928"
      ]
     },
     "execution_count": 23,
     "metadata": {},
     "output_type": "execute_result"
    }
   ],
   "source": [
    "math.sqrt(mean_squared_error(y_test, test_prediction))"
   ]
  },
  {
   "cell_type": "code",
   "execution_count": 24,
   "metadata": {
    "pycharm": {
     "name": "#%%\n"
    }
   },
   "outputs": [
    {
     "data": {
      "image/png": "[encoded data removed]",
      "text/plain": [
       "<Figure size 432x288 with 1 Axes>"
      ]
     },
     "metadata": {
      "needs_background": "light"
     },
     "output_type": "display_data"
    }
   ],
   "source": [
    "### Plotting \n",
    "# shift train predictions for plotting\n",
    "look_back=100\n",
    "trainPredictPlot = np.empty_like(df1)\n",
    "trainPredictPlot[:, :] = np.nan\n",
    "trainPredictPlot[look_back:len(prediction)+look_back, :] = prediction\n",
    "# shift test predictions for plotting\n",
    "testPredictPlot = np.empty_like(df1)\n",
    "testPredictPlot[:, :] = np.nan\n",
    "testPredictPlot[len(prediction)+(look_back*2)+1:len(df1)-1, :] = test_prediction\n",
    "# plot baseline and predictions\n",
    "plt.plot(scaler.inverse_transform(df1))\n",
    "plt.plot(trainPredictPlot)\n",
    "plt.plot(testPredictPlot)\n",
    "plt.show()"
   ]
  },
  {
   "cell_type": "code",
   "execution_count": 25,
   "metadata": {
    "pycharm": {
     "name": "#%%\n"
    }
   },
   "outputs": [
    {
     "data": {
      "text/plain": [
       "126"
      ]
     },
     "execution_count": 25,
     "metadata": {},
     "output_type": "execute_result"
    }
   ],
   "source": [
    "len(test)"
   ]
  },
  {
   "cell_type": "code",
   "execution_count": 26,
   "metadata": {
    "pycharm": {
     "name": "#%%\n"
    }
   },
   "outputs": [
    {
     "data": {
      "text/plain": [
       "(1, 100)"
      ]
     },
     "execution_count": 26,
     "metadata": {},
     "output_type": "execute_result"
    }
   ],
   "source": [
    "x_input = test[len(test)-100:].reshape(1, -1)\n",
    "x_input.shape"
   ]
  },
  {
   "cell_type": "code",
   "execution_count": 27,
   "metadata": {
    "pycharm": {
     "name": "#%%\n"
    }
   },
   "outputs": [],
   "source": [
    "temp_input = list(x_input)\n",
    "temp_input = temp_input[0].tolist()"
   ]
  },
  {
   "cell_type": "code",
   "execution_count": 28,
   "metadata": {
    "pycharm": {
     "name": "#%%\n"
    }
   },
   "outputs": [],
   "source": [
    "# temp_input"
   ]
  },
  {
   "cell_type": "code",
   "execution_count": 29,
   "metadata": {
    "pycharm": {
     "name": "#%%\n"
    }
   },
   "outputs": [
    {
     "name": "stdout",
     "output_type": "stream",
     "text": [
      "1 day input [0.92705098 0.94632955 0.96209746 0.96590557 0.99000376 0.98381554\n",
      " 0.98435112 0.97732988 0.97358133 1.         0.98625513 0.95781333\n",
      " 0.94043886 0.94145037 0.9415694  0.95876538 0.96144294 0.9415694\n",
      " 0.94680558 0.92734851 0.90610636 0.89587207 0.88337677 0.87867609\n",
      " 0.8677278  0.86719231 0.86439572 0.93050209 0.95698031 0.9559688\n",
      " 0.96328748 0.94579397 0.94275942 0.93841582 0.95727784 0.96590557\n",
      " 0.94115285 0.92044629 0.92187436 0.94513945 0.94371147 0.92187436\n",
      " 0.91247309 0.89474161 0.8694534  0.88534034 0.89789519 0.89950167\n",
      " 0.88807736 0.90806993 0.90610636 0.88789887 0.86487175 0.85380443\n",
      " 0.88658982 0.86023062 0.83767944 0.81322424 0.8398215  0.86659725\n",
      " 0.87272592 0.89271849 0.90104878 0.92151737 0.9297881  0.95275575\n",
      " 0.95662332 0.9618595  0.98185206 0.97477135 0.9559688  0.95418373\n",
      " 0.97875795 0.95864635 0.93942734 0.94127188 0.92907401 0.90325031\n",
      " 0.91461515 0.93091855 0.90051319 0.89920424 0.91306805 0.91205653\n",
      " 0.90723691 0.8796876  0.88617336 0.84999633 0.84862781 0.89069545\n",
      " 0.85505391 0.85689854 0.86594273 0.90485688 0.84981783 0.85285238\n",
      " 0.8217925  0.83637039 0.78870958 0.84152889]\n",
      "1 day output [[0.83885694]]\n",
      "2 day input [0.94632955 0.96209746 0.96590557 0.99000376 0.98381554 0.98435112\n",
      " 0.97732988 0.97358133 1.         0.98625513 0.95781333 0.94043886\n",
      " 0.94145037 0.9415694  0.95876538 0.96144294 0.9415694  0.94680558\n",
      " 0.92734851 0.90610636 0.89587207 0.88337677 0.87867609 0.8677278\n",
      " 0.86719231 0.86439572 0.93050209 0.95698031 0.9559688  0.96328748\n",
      " 0.94579397 0.94275942 0.93841582 0.95727784 0.96590557 0.94115285\n",
      " 0.92044629 0.92187436 0.94513945 0.94371147 0.92187436 0.91247309\n",
      " 0.89474161 0.8694534  0.88534034 0.89789519 0.89950167 0.88807736\n",
      " 0.90806993 0.90610636 0.88789887 0.86487175 0.85380443 0.88658982\n",
      " 0.86023062 0.83767944 0.81322424 0.8398215  0.86659725 0.87272592\n",
      " 0.89271849 0.90104878 0.92151737 0.9297881  0.95275575 0.95662332\n",
      " 0.9618595  0.98185206 0.97477135 0.9559688  0.95418373 0.97875795\n",
      " 0.95864635 0.93942734 0.94127188 0.92907401 0.90325031 0.91461515\n",
      " 0.93091855 0.90051319 0.89920424 0.91306805 0.91205653 0.90723691\n",
      " 0.8796876  0.88617336 0.84999633 0.84862781 0.89069545 0.85505391\n",
      " 0.85689854 0.86594273 0.90485688 0.84981783 0.85285238 0.8217925\n",
      " 0.83637039 0.78870958 0.84152889 0.83885694]\n",
      "2 day output [[0.8358281]]\n",
      "3 day input [0.96209746 0.96590557 0.99000376 0.98381554 0.98435112 0.97732988\n",
      " 0.97358133 1.         0.98625513 0.95781333 0.94043886 0.94145037\n",
      " 0.9415694  0.95876538 0.96144294 0.9415694  0.94680558 0.92734851\n",
      " 0.90610636 0.89587207 0.88337677 0.87867609 0.8677278  0.86719231\n",
      " 0.86439572 0.93050209 0.95698031 0.9559688  0.96328748 0.94579397\n",
      " 0.94275942 0.93841582 0.95727784 0.96590557 0.94115285 0.92044629\n",
      " 0.92187436 0.94513945 0.94371147 0.92187436 0.91247309 0.89474161\n",
      " 0.8694534  0.88534034 0.89789519 0.89950167 0.88807736 0.90806993\n",
      " 0.90610636 0.88789887 0.86487175 0.85380443 0.88658982 0.86023062\n",
      " 0.83767944 0.81322424 0.8398215  0.86659725 0.87272592 0.89271849\n",
      " 0.90104878 0.92151737 0.9297881  0.95275575 0.95662332 0.9618595\n",
      " 0.98185206 0.97477135 0.9559688  0.95418373 0.97875795 0.95864635\n",
      " 0.93942734 0.94127188 0.92907401 0.90325031 0.91461515 0.93091855\n",
      " 0.90051319 0.89920424 0.91306805 0.91205653 0.90723691 0.8796876\n",
      " 0.88617336 0.84999633 0.84862781 0.89069545 0.85505391 0.85689854\n",
      " 0.86594273 0.90485688 0.84981783 0.85285238 0.8217925  0.83637039\n",
      " 0.78870958 0.84152889 0.83885694 0.83582813]\n",
      "3 day output [[0.83275664]]\n",
      "4 day input [0.96590557 0.99000376 0.98381554 0.98435112 0.97732988 0.97358133\n",
      " 1.         0.98625513 0.95781333 0.94043886 0.94145037 0.9415694\n",
      " 0.95876538 0.96144294 0.9415694  0.94680558 0.92734851 0.90610636\n",
      " 0.89587207 0.88337677 0.87867609 0.8677278  0.86719231 0.86439572\n",
      " 0.93050209 0.95698031 0.9559688  0.96328748 0.94579397 0.94275942\n",
      " 0.93841582 0.95727784 0.96590557 0.94115285 0.92044629 0.92187436\n",
      " 0.94513945 0.94371147 0.92187436 0.91247309 0.89474161 0.8694534\n",
      " 0.88534034 0.89789519 0.89950167 0.88807736 0.90806993 0.90610636\n",
      " 0.88789887 0.86487175 0.85380443 0.88658982 0.86023062 0.83767944\n",
      " 0.81322424 0.8398215  0.86659725 0.87272592 0.89271849 0.90104878\n",
      " 0.92151737 0.9297881  0.95275575 0.95662332 0.9618595  0.98185206\n",
      " 0.97477135 0.9559688  0.95418373 0.97875795 0.95864635 0.93942734\n",
      " 0.94127188 0.92907401 0.90325031 0.91461515 0.93091855 0.90051319\n",
      " 0.89920424 0.91306805 0.91205653 0.90723691 0.8796876  0.88617336\n",
      " 0.84999633 0.84862781 0.89069545 0.85505391 0.85689854 0.86594273\n",
      " 0.90485688 0.84981783 0.85285238 0.8217925  0.83637039 0.78870958\n",
      " 0.84152889 0.83885694 0.83582813 0.83275664]\n",
      "4 day output [[0.8298769]]\n",
      "5 day input [0.99000376 0.98381554 0.98435112 0.97732988 0.97358133 1.\n",
      " 0.98625513 0.95781333 0.94043886 0.94145037 0.9415694  0.95876538\n",
      " 0.96144294 0.9415694  0.94680558 0.92734851 0.90610636 0.89587207\n",
      " 0.88337677 0.87867609 0.8677278  0.86719231 0.86439572 0.93050209\n",
      " 0.95698031 0.9559688  0.96328748 0.94579397 0.94275942 0.93841582\n",
      " 0.95727784 0.96590557 0.94115285 0.92044629 0.92187436 0.94513945\n",
      " 0.94371147 0.92187436 0.91247309 0.89474161 0.8694534  0.88534034\n",
      " 0.89789519 0.89950167 0.88807736 0.90806993 0.90610636 0.88789887\n",
      " 0.86487175 0.85380443 0.88658982 0.86023062 0.83767944 0.81322424\n",
      " 0.8398215  0.86659725 0.87272592 0.89271849 0.90104878 0.92151737\n",
      " 0.9297881  0.95275575 0.95662332 0.9618595  0.98185206 0.97477135\n",
      " 0.9559688  0.95418373 0.97875795 0.95864635 0.93942734 0.94127188\n",
      " 0.92907401 0.90325031 0.91461515 0.93091855 0.90051319 0.89920424\n",
      " 0.91306805 0.91205653 0.90723691 0.8796876  0.88617336 0.84999633\n",
      " 0.84862781 0.89069545 0.85505391 0.85689854 0.86594273 0.90485688\n",
      " 0.84981783 0.85285238 0.8217925  0.83637039 0.78870958 0.84152889\n",
      " 0.83885694 0.83582813 0.83275664 0.8298769 ]\n",
      "5 day output [[0.82732636]]\n",
      "6 day input [0.98381554 0.98435112 0.97732988 0.97358133 1.         0.98625513\n",
      " 0.95781333 0.94043886 0.94145037 0.9415694  0.95876538 0.96144294\n",
      " 0.9415694  0.94680558 0.92734851 0.90610636 0.89587207 0.88337677\n",
      " 0.87867609 0.8677278  0.86719231 0.86439572 0.93050209 0.95698031\n",
      " 0.9559688  0.96328748 0.94579397 0.94275942 0.93841582 0.95727784\n",
      " 0.96590557 0.94115285 0.92044629 0.92187436 0.94513945 0.94371147\n",
      " 0.92187436 0.91247309 0.89474161 0.8694534  0.88534034 0.89789519\n",
      " 0.89950167 0.88807736 0.90806993 0.90610636 0.88789887 0.86487175\n",
      " 0.85380443 0.88658982 0.86023062 0.83767944 0.81322424 0.8398215\n",
      " 0.86659725 0.87272592 0.89271849 0.90104878 0.92151737 0.9297881\n",
      " 0.95275575 0.95662332 0.9618595  0.98185206 0.97477135 0.9559688\n",
      " 0.95418373 0.97875795 0.95864635 0.93942734 0.94127188 0.92907401\n",
      " 0.90325031 0.91461515 0.93091855 0.90051319 0.89920424 0.91306805\n",
      " 0.91205653 0.90723691 0.8796876  0.88617336 0.84999633 0.84862781\n",
      " 0.89069545 0.85505391 0.85689854 0.86594273 0.90485688 0.84981783\n",
      " 0.85285238 0.8217925  0.83637039 0.78870958 0.84152889 0.83885694\n",
      " 0.83582813 0.83275664 0.8298769  0.82732636]\n",
      "6 day output [[0.8251554]]\n",
      "7 day input [0.98435112 0.97732988 0.97358133 1.         0.98625513 0.95781333\n",
      " 0.94043886 0.94145037 0.9415694  0.95876538 0.96144294 0.9415694\n",
      " 0.94680558 0.92734851 0.90610636 0.89587207 0.88337677 0.87867609\n",
      " 0.8677278  0.86719231 0.86439572 0.93050209 0.95698031 0.9559688\n",
      " 0.96328748 0.94579397 0.94275942 0.93841582 0.95727784 0.96590557\n",
      " 0.94115285 0.92044629 0.92187436 0.94513945 0.94371147 0.92187436\n",
      " 0.91247309 0.89474161 0.8694534  0.88534034 0.89789519 0.89950167\n",
      " 0.88807736 0.90806993 0.90610636 0.88789887 0.86487175 0.85380443\n",
      " 0.88658982 0.86023062 0.83767944 0.81322424 0.8398215  0.86659725\n",
      " 0.87272592 0.89271849 0.90104878 0.92151737 0.9297881  0.95275575\n",
      " 0.95662332 0.9618595  0.98185206 0.97477135 0.9559688  0.95418373\n",
      " 0.97875795 0.95864635 0.93942734 0.94127188 0.92907401 0.90325031\n",
      " 0.91461515 0.93091855 0.90051319 0.89920424 0.91306805 0.91205653\n",
      " 0.90723691 0.8796876  0.88617336 0.84999633 0.84862781 0.89069545\n",
      " 0.85505391 0.85689854 0.86594273 0.90485688 0.84981783 0.85285238\n",
      " 0.8217925  0.83637039 0.78870958 0.84152889 0.83885694 0.83582813\n",
      " 0.83275664 0.8298769  0.82732636 0.82515538]\n",
      "7 day output [[0.8233503]]\n",
      "8 day input [0.97732988 0.97358133 1.         0.98625513 0.95781333 0.94043886\n",
      " 0.94145037 0.9415694  0.95876538 0.96144294 0.9415694  0.94680558\n",
      " 0.92734851 0.90610636 0.89587207 0.88337677 0.87867609 0.8677278\n",
      " 0.86719231 0.86439572 0.93050209 0.95698031 0.9559688  0.96328748\n",
      " 0.94579397 0.94275942 0.93841582 0.95727784 0.96590557 0.94115285\n",
      " 0.92044629 0.92187436 0.94513945 0.94371147 0.92187436 0.91247309\n",
      " 0.89474161 0.8694534  0.88534034 0.89789519 0.89950167 0.88807736\n",
      " 0.90806993 0.90610636 0.88789887 0.86487175 0.85380443 0.88658982\n",
      " 0.86023062 0.83767944 0.81322424 0.8398215  0.86659725 0.87272592\n",
      " 0.89271849 0.90104878 0.92151737 0.9297881  0.95275575 0.95662332\n",
      " 0.9618595  0.98185206 0.97477135 0.9559688  0.95418373 0.97875795\n",
      " 0.95864635 0.93942734 0.94127188 0.92907401 0.90325031 0.91461515\n",
      " 0.93091855 0.90051319 0.89920424 0.91306805 0.91205653 0.90723691\n",
      " 0.8796876  0.88617336 0.84999633 0.84862781 0.89069545 0.85505391\n",
      " 0.85689854 0.86594273 0.90485688 0.84981783 0.85285238 0.8217925\n",
      " 0.83637039 0.78870958 0.84152889 0.83885694 0.83582813 0.83275664\n",
      " 0.8298769  0.82732636 0.82515538 0.82335031]\n",
      "8 day output [[0.8218595]]\n",
      "9 day input [0.97358133 1.         0.98625513 0.95781333 0.94043886 0.94145037\n",
      " 0.9415694  0.95876538 0.96144294 0.9415694  0.94680558 0.92734851\n",
      " 0.90610636 0.89587207 0.88337677 0.87867609 0.8677278  0.86719231\n",
      " 0.86439572 0.93050209 0.95698031 0.9559688  0.96328748 0.94579397\n",
      " 0.94275942 0.93841582 0.95727784 0.96590557 0.94115285 0.92044629\n",
      " 0.92187436 0.94513945 0.94371147 0.92187436 0.91247309 0.89474161\n",
      " 0.8694534  0.88534034 0.89789519 0.89950167 0.88807736 0.90806993\n",
      " 0.90610636 0.88789887 0.86487175 0.85380443 0.88658982 0.86023062\n",
      " 0.83767944 0.81322424 0.8398215  0.86659725 0.87272592 0.89271849\n",
      " 0.90104878 0.92151737 0.9297881  0.95275575 0.95662332 0.9618595\n",
      " 0.98185206 0.97477135 0.9559688  0.95418373 0.97875795 0.95864635\n",
      " 0.93942734 0.94127188 0.92907401 0.90325031 0.91461515 0.93091855\n",
      " 0.90051319 0.89920424 0.91306805 0.91205653 0.90723691 0.8796876\n",
      " 0.88617336 0.84999633 0.84862781 0.89069545 0.85505391 0.85689854\n",
      " 0.86594273 0.90485688 0.84981783 0.85285238 0.8217925  0.83637039\n",
      " 0.78870958 0.84152889 0.83885694 0.83582813 0.83275664 0.8298769\n",
      " 0.82732636 0.82515538 0.82335031 0.82185948]\n",
      "9 day output [[0.8206138]]\n",
      "10 day input [1.         0.98625513 0.95781333 0.94043886 0.94145037 0.9415694\n",
      " 0.95876538 0.96144294 0.9415694  0.94680558 0.92734851 0.90610636\n",
      " 0.89587207 0.88337677 0.87867609 0.8677278  0.86719231 0.86439572\n",
      " 0.93050209 0.95698031 0.9559688  0.96328748 0.94579397 0.94275942\n",
      " 0.93841582 0.95727784 0.96590557 0.94115285 0.92044629 0.92187436\n",
      " 0.94513945 0.94371147 0.92187436 0.91247309 0.89474161 0.8694534\n",
      " 0.88534034 0.89789519 0.89950167 0.88807736 0.90806993 0.90610636\n",
      " 0.88789887 0.86487175 0.85380443 0.88658982 0.86023062 0.83767944\n",
      " 0.81322424 0.8398215  0.86659725 0.87272592 0.89271849 0.90104878\n",
      " 0.92151737 0.9297881  0.95275575 0.95662332 0.9618595  0.98185206\n",
      " 0.97477135 0.9559688  0.95418373 0.97875795 0.95864635 0.93942734\n",
      " 0.94127188 0.92907401 0.90325031 0.91461515 0.93091855 0.90051319\n",
      " 0.89920424 0.91306805 0.91205653 0.90723691 0.8796876  0.88617336\n",
      " 0.84999633 0.84862781 0.89069545 0.85505391 0.85689854 0.86594273\n",
      " 0.90485688 0.84981783 0.85285238 0.8217925  0.83637039 0.78870958\n",
      " 0.84152889 0.83885694 0.83582813 0.83275664 0.8298769  0.82732636\n",
      " 0.82515538 0.82335031 0.82185948 0.8206138 ]\n",
      "10 day output [[0.8195432]]\n",
      "11 day input [0.98625513 0.95781333 0.94043886 0.94145037 0.9415694  0.95876538\n",
      " 0.96144294 0.9415694  0.94680558 0.92734851 0.90610636 0.89587207\n",
      " 0.88337677 0.87867609 0.8677278  0.86719231 0.86439572 0.93050209\n",
      " 0.95698031 0.9559688  0.96328748 0.94579397 0.94275942 0.93841582\n",
      " 0.95727784 0.96590557 0.94115285 0.92044629 0.92187436 0.94513945\n",
      " 0.94371147 0.92187436 0.91247309 0.89474161 0.8694534  0.88534034\n",
      " 0.89789519 0.89950167 0.88807736 0.90806993 0.90610636 0.88789887\n",
      " 0.86487175 0.85380443 0.88658982 0.86023062 0.83767944 0.81322424\n",
      " 0.8398215  0.86659725 0.87272592 0.89271849 0.90104878 0.92151737\n",
      " 0.9297881  0.95275575 0.95662332 0.9618595  0.98185206 0.97477135\n",
      " 0.9559688  0.95418373 0.97875795 0.95864635 0.93942734 0.94127188\n",
      " 0.92907401 0.90325031 0.91461515 0.93091855 0.90051319 0.89920424\n",
      " 0.91306805 0.91205653 0.90723691 0.8796876  0.88617336 0.84999633\n",
      " 0.84862781 0.89069545 0.85505391 0.85689854 0.86594273 0.90485688\n",
      " 0.84981783 0.85285238 0.8217925  0.83637039 0.78870958 0.84152889\n",
      " 0.83885694 0.83582813 0.83275664 0.8298769  0.82732636 0.82515538\n",
      " 0.82335031 0.82185948 0.8206138  0.81954318]\n",
      "11 day output [[0.81858623]]\n",
      "12 day input [0.95781333 0.94043886 0.94145037 0.9415694  0.95876538 0.96144294\n",
      " 0.9415694  0.94680558 0.92734851 0.90610636 0.89587207 0.88337677\n",
      " 0.87867609 0.8677278  0.86719231 0.86439572 0.93050209 0.95698031\n",
      " 0.9559688  0.96328748 0.94579397 0.94275942 0.93841582 0.95727784\n",
      " 0.96590557 0.94115285 0.92044629 0.92187436 0.94513945 0.94371147\n",
      " 0.92187436 0.91247309 0.89474161 0.8694534  0.88534034 0.89789519\n",
      " 0.89950167 0.88807736 0.90806993 0.90610636 0.88789887 0.86487175\n",
      " 0.85380443 0.88658982 0.86023062 0.83767944 0.81322424 0.8398215\n",
      " 0.86659725 0.87272592 0.89271849 0.90104878 0.92151737 0.9297881\n",
      " 0.95275575 0.95662332 0.9618595  0.98185206 0.97477135 0.9559688\n",
      " 0.95418373 0.97875795 0.95864635 0.93942734 0.94127188 0.92907401\n",
      " 0.90325031 0.91461515 0.93091855 0.90051319 0.89920424 0.91306805\n",
      " 0.91205653 0.90723691 0.8796876  0.88617336 0.84999633 0.84862781\n",
      " 0.89069545 0.85505391 0.85689854 0.86594273 0.90485688 0.84981783\n",
      " 0.85285238 0.8217925  0.83637039 0.78870958 0.84152889 0.83885694\n",
      " 0.83582813 0.83275664 0.8298769  0.82732636 0.82515538 0.82335031\n",
      " 0.82185948 0.8206138  0.81954318 0.81858623]\n",
      "12 day output [[0.81769437]]\n",
      "13 day input [0.94043886 0.94145037 0.9415694  0.95876538 0.96144294 0.9415694\n",
      " 0.94680558 0.92734851 0.90610636 0.89587207 0.88337677 0.87867609\n",
      " 0.8677278  0.86719231 0.86439572 0.93050209 0.95698031 0.9559688\n",
      " 0.96328748 0.94579397 0.94275942 0.93841582 0.95727784 0.96590557\n",
      " 0.94115285 0.92044629 0.92187436 0.94513945 0.94371147 0.92187436\n",
      " 0.91247309 0.89474161 0.8694534  0.88534034 0.89789519 0.89950167\n",
      " 0.88807736 0.90806993 0.90610636 0.88789887 0.86487175 0.85380443\n",
      " 0.88658982 0.86023062 0.83767944 0.81322424 0.8398215  0.86659725\n",
      " 0.87272592 0.89271849 0.90104878 0.92151737 0.9297881  0.95275575\n",
      " 0.95662332 0.9618595  0.98185206 0.97477135 0.9559688  0.95418373\n",
      " 0.97875795 0.95864635 0.93942734 0.94127188 0.92907401 0.90325031\n",
      " 0.91461515 0.93091855 0.90051319 0.89920424 0.91306805 0.91205653\n",
      " 0.90723691 0.8796876  0.88617336 0.84999633 0.84862781 0.89069545\n",
      " 0.85505391 0.85689854 0.86594273 0.90485688 0.84981783 0.85285238\n",
      " 0.8217925  0.83637039 0.78870958 0.84152889 0.83885694 0.83582813\n",
      " 0.83275664 0.8298769  0.82732636 0.82515538 0.82335031 0.82185948\n",
      " 0.8206138  0.81954318 0.81858623 0.81769437]\n",
      "13 day output [[0.81683326]]\n",
      "14 day input [0.94145037 0.9415694  0.95876538 0.96144294 0.9415694  0.94680558\n",
      " 0.92734851 0.90610636 0.89587207 0.88337677 0.87867609 0.8677278\n",
      " 0.86719231 0.86439572 0.93050209 0.95698031 0.9559688  0.96328748\n",
      " 0.94579397 0.94275942 0.93841582 0.95727784 0.96590557 0.94115285\n",
      " 0.92044629 0.92187436 0.94513945 0.94371147 0.92187436 0.91247309\n",
      " 0.89474161 0.8694534  0.88534034 0.89789519 0.89950167 0.88807736\n",
      " 0.90806993 0.90610636 0.88789887 0.86487175 0.85380443 0.88658982\n",
      " 0.86023062 0.83767944 0.81322424 0.8398215  0.86659725 0.87272592\n",
      " 0.89271849 0.90104878 0.92151737 0.9297881  0.95275575 0.95662332\n",
      " 0.9618595  0.98185206 0.97477135 0.9559688  0.95418373 0.97875795\n",
      " 0.95864635 0.93942734 0.94127188 0.92907401 0.90325031 0.91461515\n",
      " 0.93091855 0.90051319 0.89920424 0.91306805 0.91205653 0.90723691\n",
      " 0.8796876  0.88617336 0.84999633 0.84862781 0.89069545 0.85505391\n",
      " 0.85689854 0.86594273 0.90485688 0.84981783 0.85285238 0.8217925\n",
      " 0.83637039 0.78870958 0.84152889 0.83885694 0.83582813 0.83275664\n",
      " 0.8298769  0.82732636 0.82515538 0.82335031 0.82185948 0.8206138\n",
      " 0.81954318 0.81858623 0.81769437 0.81683326]\n",
      "14 day output [[0.81598085]]\n",
      "15 day input [0.9415694  0.95876538 0.96144294 0.9415694  0.94680558 0.92734851\n",
      " 0.90610636 0.89587207 0.88337677 0.87867609 0.8677278  0.86719231\n",
      " 0.86439572 0.93050209 0.95698031 0.9559688  0.96328748 0.94579397\n",
      " 0.94275942 0.93841582 0.95727784 0.96590557 0.94115285 0.92044629\n",
      " 0.92187436 0.94513945 0.94371147 0.92187436 0.91247309 0.89474161\n",
      " 0.8694534  0.88534034 0.89789519 0.89950167 0.88807736 0.90806993\n",
      " 0.90610636 0.88789887 0.86487175 0.85380443 0.88658982 0.86023062\n",
      " 0.83767944 0.81322424 0.8398215  0.86659725 0.87272592 0.89271849\n",
      " 0.90104878 0.92151737 0.9297881  0.95275575 0.95662332 0.9618595\n",
      " 0.98185206 0.97477135 0.9559688  0.95418373 0.97875795 0.95864635\n",
      " 0.93942734 0.94127188 0.92907401 0.90325031 0.91461515 0.93091855\n",
      " 0.90051319 0.89920424 0.91306805 0.91205653 0.90723691 0.8796876\n",
      " 0.88617336 0.84999633 0.84862781 0.89069545 0.85505391 0.85689854\n",
      " 0.86594273 0.90485688 0.84981783 0.85285238 0.8217925  0.83637039\n",
      " 0.78870958 0.84152889 0.83885694 0.83582813 0.83275664 0.8298769\n",
      " 0.82732636 0.82515538 0.82335031 0.82185948 0.8206138  0.81954318\n",
      " 0.81858623 0.81769437 0.81683326 0.81598085]\n",
      "15 day output [[0.81512517]]\n",
      "16 day input [0.95876538 0.96144294 0.9415694  0.94680558 0.92734851 0.90610636\n",
      " 0.89587207 0.88337677 0.87867609 0.8677278  0.86719231 0.86439572\n",
      " 0.93050209 0.95698031 0.9559688  0.96328748 0.94579397 0.94275942\n",
      " 0.93841582 0.95727784 0.96590557 0.94115285 0.92044629 0.92187436\n",
      " 0.94513945 0.94371147 0.92187436 0.91247309 0.89474161 0.8694534\n",
      " 0.88534034 0.89789519 0.89950167 0.88807736 0.90806993 0.90610636\n",
      " 0.88789887 0.86487175 0.85380443 0.88658982 0.86023062 0.83767944\n",
      " 0.81322424 0.8398215  0.86659725 0.87272592 0.89271849 0.90104878\n",
      " 0.92151737 0.9297881  0.95275575 0.95662332 0.9618595  0.98185206\n",
      " 0.97477135 0.9559688  0.95418373 0.97875795 0.95864635 0.93942734\n",
      " 0.94127188 0.92907401 0.90325031 0.91461515 0.93091855 0.90051319\n",
      " 0.89920424 0.91306805 0.91205653 0.90723691 0.8796876  0.88617336\n",
      " 0.84999633 0.84862781 0.89069545 0.85505391 0.85689854 0.86594273\n",
      " 0.90485688 0.84981783 0.85285238 0.8217925  0.83637039 0.78870958\n",
      " 0.84152889 0.83885694 0.83582813 0.83275664 0.8298769  0.82732636\n",
      " 0.82515538 0.82335031 0.82185948 0.8206138  0.81954318 0.81858623\n",
      " 0.81769437 0.81683326 0.81598085 0.81512517]\n",
      "16 day output [[0.81426114]]\n",
      "17 day input [0.96144294 0.9415694  0.94680558 0.92734851 0.90610636 0.89587207\n",
      " 0.88337677 0.87867609 0.8677278  0.86719231 0.86439572 0.93050209\n",
      " 0.95698031 0.9559688  0.96328748 0.94579397 0.94275942 0.93841582\n",
      " 0.95727784 0.96590557 0.94115285 0.92044629 0.92187436 0.94513945\n",
      " 0.94371147 0.92187436 0.91247309 0.89474161 0.8694534  0.88534034\n",
      " 0.89789519 0.89950167 0.88807736 0.90806993 0.90610636 0.88789887\n",
      " 0.86487175 0.85380443 0.88658982 0.86023062 0.83767944 0.81322424\n",
      " 0.8398215  0.86659725 0.87272592 0.89271849 0.90104878 0.92151737\n",
      " 0.9297881  0.95275575 0.95662332 0.9618595  0.98185206 0.97477135\n",
      " 0.9559688  0.95418373 0.97875795 0.95864635 0.93942734 0.94127188\n",
      " 0.92907401 0.90325031 0.91461515 0.93091855 0.90051319 0.89920424\n",
      " 0.91306805 0.91205653 0.90723691 0.8796876  0.88617336 0.84999633\n",
      " 0.84862781 0.89069545 0.85505391 0.85689854 0.86594273 0.90485688\n",
      " 0.84981783 0.85285238 0.8217925  0.83637039 0.78870958 0.84152889\n",
      " 0.83885694 0.83582813 0.83275664 0.8298769  0.82732636 0.82515538\n",
      " 0.82335031 0.82185948 0.8206138  0.81954318 0.81858623 0.81769437\n",
      " 0.81683326 0.81598085 0.81512517 0.81426114]\n",
      "17 day output [[0.8133883]]\n",
      "18 day input [0.9415694  0.94680558 0.92734851 0.90610636 0.89587207 0.88337677\n",
      " 0.87867609 0.8677278  0.86719231 0.86439572 0.93050209 0.95698031\n",
      " 0.9559688  0.96328748 0.94579397 0.94275942 0.93841582 0.95727784\n",
      " 0.96590557 0.94115285 0.92044629 0.92187436 0.94513945 0.94371147\n",
      " 0.92187436 0.91247309 0.89474161 0.8694534  0.88534034 0.89789519\n",
      " 0.89950167 0.88807736 0.90806993 0.90610636 0.88789887 0.86487175\n",
      " 0.85380443 0.88658982 0.86023062 0.83767944 0.81322424 0.8398215\n",
      " 0.86659725 0.87272592 0.89271849 0.90104878 0.92151737 0.9297881\n",
      " 0.95275575 0.95662332 0.9618595  0.98185206 0.97477135 0.9559688\n",
      " 0.95418373 0.97875795 0.95864635 0.93942734 0.94127188 0.92907401\n",
      " 0.90325031 0.91461515 0.93091855 0.90051319 0.89920424 0.91306805\n",
      " 0.91205653 0.90723691 0.8796876  0.88617336 0.84999633 0.84862781\n",
      " 0.89069545 0.85505391 0.85689854 0.86594273 0.90485688 0.84981783\n",
      " 0.85285238 0.8217925  0.83637039 0.78870958 0.84152889 0.83885694\n",
      " 0.83582813 0.83275664 0.8298769  0.82732636 0.82515538 0.82335031\n",
      " 0.82185948 0.8206138  0.81954318 0.81858623 0.81769437 0.81683326\n",
      " 0.81598085 0.81512517 0.81426114 0.81338829]\n",
      "18 day output [[0.8125085]]\n",
      "19 day input [0.94680558 0.92734851 0.90610636 0.89587207 0.88337677 0.87867609\n",
      " 0.8677278  0.86719231 0.86439572 0.93050209 0.95698031 0.9559688\n",
      " 0.96328748 0.94579397 0.94275942 0.93841582 0.95727784 0.96590557\n",
      " 0.94115285 0.92044629 0.92187436 0.94513945 0.94371147 0.92187436\n",
      " 0.91247309 0.89474161 0.8694534  0.88534034 0.89789519 0.89950167\n",
      " 0.88807736 0.90806993 0.90610636 0.88789887 0.86487175 0.85380443\n",
      " 0.88658982 0.86023062 0.83767944 0.81322424 0.8398215  0.86659725\n",
      " 0.87272592 0.89271849 0.90104878 0.92151737 0.9297881  0.95275575\n",
      " 0.95662332 0.9618595  0.98185206 0.97477135 0.9559688  0.95418373\n",
      " 0.97875795 0.95864635 0.93942734 0.94127188 0.92907401 0.90325031\n",
      " 0.91461515 0.93091855 0.90051319 0.89920424 0.91306805 0.91205653\n",
      " 0.90723691 0.8796876  0.88617336 0.84999633 0.84862781 0.89069545\n",
      " 0.85505391 0.85689854 0.86594273 0.90485688 0.84981783 0.85285238\n",
      " 0.8217925  0.83637039 0.78870958 0.84152889 0.83885694 0.83582813\n",
      " 0.83275664 0.8298769  0.82732636 0.82515538 0.82335031 0.82185948\n",
      " 0.8206138  0.81954318 0.81858623 0.81769437 0.81683326 0.81598085\n",
      " 0.81512517 0.81426114 0.81338829 0.81250852]\n",
      "19 day output [[0.81162494]]\n",
      "20 day input [0.92734851 0.90610636 0.89587207 0.88337677 0.87867609 0.8677278\n",
      " 0.86719231 0.86439572 0.93050209 0.95698031 0.9559688  0.96328748\n",
      " 0.94579397 0.94275942 0.93841582 0.95727784 0.96590557 0.94115285\n",
      " 0.92044629 0.92187436 0.94513945 0.94371147 0.92187436 0.91247309\n",
      " 0.89474161 0.8694534  0.88534034 0.89789519 0.89950167 0.88807736\n",
      " 0.90806993 0.90610636 0.88789887 0.86487175 0.85380443 0.88658982\n",
      " 0.86023062 0.83767944 0.81322424 0.8398215  0.86659725 0.87272592\n",
      " 0.89271849 0.90104878 0.92151737 0.9297881  0.95275575 0.95662332\n",
      " 0.9618595  0.98185206 0.97477135 0.9559688  0.95418373 0.97875795\n",
      " 0.95864635 0.93942734 0.94127188 0.92907401 0.90325031 0.91461515\n",
      " 0.93091855 0.90051319 0.89920424 0.91306805 0.91205653 0.90723691\n",
      " 0.8796876  0.88617336 0.84999633 0.84862781 0.89069545 0.85505391\n",
      " 0.85689854 0.86594273 0.90485688 0.84981783 0.85285238 0.8217925\n",
      " 0.83637039 0.78870958 0.84152889 0.83885694 0.83582813 0.83275664\n",
      " 0.8298769  0.82732636 0.82515538 0.82335031 0.82185948 0.8206138\n",
      " 0.81954318 0.81858623 0.81769437 0.81683326 0.81598085 0.81512517\n",
      " 0.81426114 0.81338829 0.81250852 0.81162494]\n",
      "20 day output [[0.8107406]]\n",
      "21 day input [0.90610636 0.89587207 0.88337677 0.87867609 0.8677278  0.86719231\n",
      " 0.86439572 0.93050209 0.95698031 0.9559688  0.96328748 0.94579397\n",
      " 0.94275942 0.93841582 0.95727784 0.96590557 0.94115285 0.92044629\n",
      " 0.92187436 0.94513945 0.94371147 0.92187436 0.91247309 0.89474161\n",
      " 0.8694534  0.88534034 0.89789519 0.89950167 0.88807736 0.90806993\n",
      " 0.90610636 0.88789887 0.86487175 0.85380443 0.88658982 0.86023062\n",
      " 0.83767944 0.81322424 0.8398215  0.86659725 0.87272592 0.89271849\n",
      " 0.90104878 0.92151737 0.9297881  0.95275575 0.95662332 0.9618595\n",
      " 0.98185206 0.97477135 0.9559688  0.95418373 0.97875795 0.95864635\n",
      " 0.93942734 0.94127188 0.92907401 0.90325031 0.91461515 0.93091855\n",
      " 0.90051319 0.89920424 0.91306805 0.91205653 0.90723691 0.8796876\n",
      " 0.88617336 0.84999633 0.84862781 0.89069545 0.85505391 0.85689854\n",
      " 0.86594273 0.90485688 0.84981783 0.85285238 0.8217925  0.83637039\n",
      " 0.78870958 0.84152889 0.83885694 0.83582813 0.83275664 0.8298769\n",
      " 0.82732636 0.82515538 0.82335031 0.82185948 0.8206138  0.81954318\n",
      " 0.81858623 0.81769437 0.81683326 0.81598085 0.81512517 0.81426114\n",
      " 0.81338829 0.81250852 0.81162494 0.81074059]\n",
      "21 day output [[0.80985844]]\n",
      "22 day input [0.89587207 0.88337677 0.87867609 0.8677278  0.86719231 0.86439572\n",
      " 0.93050209 0.95698031 0.9559688  0.96328748 0.94579397 0.94275942\n",
      " 0.93841582 0.95727784 0.96590557 0.94115285 0.92044629 0.92187436\n",
      " 0.94513945 0.94371147 0.92187436 0.91247309 0.89474161 0.8694534\n",
      " 0.88534034 0.89789519 0.89950167 0.88807736 0.90806993 0.90610636\n",
      " 0.88789887 0.86487175 0.85380443 0.88658982 0.86023062 0.83767944\n",
      " 0.81322424 0.8398215  0.86659725 0.87272592 0.89271849 0.90104878\n",
      " 0.92151737 0.9297881  0.95275575 0.95662332 0.9618595  0.98185206\n",
      " 0.97477135 0.9559688  0.95418373 0.97875795 0.95864635 0.93942734\n",
      " 0.94127188 0.92907401 0.90325031 0.91461515 0.93091855 0.90051319\n",
      " 0.89920424 0.91306805 0.91205653 0.90723691 0.8796876  0.88617336\n",
      " 0.84999633 0.84862781 0.89069545 0.85505391 0.85689854 0.86594273\n",
      " 0.90485688 0.84981783 0.85285238 0.8217925  0.83637039 0.78870958\n",
      " 0.84152889 0.83885694 0.83582813 0.83275664 0.8298769  0.82732636\n",
      " 0.82515538 0.82335031 0.82185948 0.8206138  0.81954318 0.81858623\n",
      " 0.81769437 0.81683326 0.81598085 0.81512517 0.81426114 0.81338829\n",
      " 0.81250852 0.81162494 0.81074059 0.80985844]\n",
      "22 day output [[0.80898076]]\n",
      "23 day input [0.88337677 0.87867609 0.8677278  0.86719231 0.86439572 0.93050209\n",
      " 0.95698031 0.9559688  0.96328748 0.94579397 0.94275942 0.93841582\n",
      " 0.95727784 0.96590557 0.94115285 0.92044629 0.92187436 0.94513945\n",
      " 0.94371147 0.92187436 0.91247309 0.89474161 0.8694534  0.88534034\n",
      " 0.89789519 0.89950167 0.88807736 0.90806993 0.90610636 0.88789887\n",
      " 0.86487175 0.85380443 0.88658982 0.86023062 0.83767944 0.81322424\n",
      " 0.8398215  0.86659725 0.87272592 0.89271849 0.90104878 0.92151737\n",
      " 0.9297881  0.95275575 0.95662332 0.9618595  0.98185206 0.97477135\n",
      " 0.9559688  0.95418373 0.97875795 0.95864635 0.93942734 0.94127188\n",
      " 0.92907401 0.90325031 0.91461515 0.93091855 0.90051319 0.89920424\n",
      " 0.91306805 0.91205653 0.90723691 0.8796876  0.88617336 0.84999633\n",
      " 0.84862781 0.89069545 0.85505391 0.85689854 0.86594273 0.90485688\n",
      " 0.84981783 0.85285238 0.8217925  0.83637039 0.78870958 0.84152889\n",
      " 0.83885694 0.83582813 0.83275664 0.8298769  0.82732636 0.82515538\n",
      " 0.82335031 0.82185948 0.8206138  0.81954318 0.81858623 0.81769437\n",
      " 0.81683326 0.81598085 0.81512517 0.81426114 0.81338829 0.81250852\n",
      " 0.81162494 0.81074059 0.80985844 0.80898076]\n",
      "23 day output [[0.8081096]]\n",
      "24 day input [0.87867609 0.8677278  0.86719231 0.86439572 0.93050209 0.95698031\n",
      " 0.9559688  0.96328748 0.94579397 0.94275942 0.93841582 0.95727784\n",
      " 0.96590557 0.94115285 0.92044629 0.92187436 0.94513945 0.94371147\n",
      " 0.92187436 0.91247309 0.89474161 0.8694534  0.88534034 0.89789519\n",
      " 0.89950167 0.88807736 0.90806993 0.90610636 0.88789887 0.86487175\n",
      " 0.85380443 0.88658982 0.86023062 0.83767944 0.81322424 0.8398215\n",
      " 0.86659725 0.87272592 0.89271849 0.90104878 0.92151737 0.9297881\n",
      " 0.95275575 0.95662332 0.9618595  0.98185206 0.97477135 0.9559688\n",
      " 0.95418373 0.97875795 0.95864635 0.93942734 0.94127188 0.92907401\n",
      " 0.90325031 0.91461515 0.93091855 0.90051319 0.89920424 0.91306805\n",
      " 0.91205653 0.90723691 0.8796876  0.88617336 0.84999633 0.84862781\n",
      " 0.89069545 0.85505391 0.85689854 0.86594273 0.90485688 0.84981783\n",
      " 0.85285238 0.8217925  0.83637039 0.78870958 0.84152889 0.83885694\n",
      " 0.83582813 0.83275664 0.8298769  0.82732636 0.82515538 0.82335031\n",
      " 0.82185948 0.8206138  0.81954318 0.81858623 0.81769437 0.81683326\n",
      " 0.81598085 0.81512517 0.81426114 0.81338829 0.81250852 0.81162494\n",
      " 0.81074059 0.80985844 0.80898076 0.80810958]\n",
      "24 day output [[0.8072464]]\n",
      "25 day input [0.8677278  0.86719231 0.86439572 0.93050209 0.95698031 0.9559688\n",
      " 0.96328748 0.94579397 0.94275942 0.93841582 0.95727784 0.96590557\n",
      " 0.94115285 0.92044629 0.92187436 0.94513945 0.94371147 0.92187436\n",
      " 0.91247309 0.89474161 0.8694534  0.88534034 0.89789519 0.89950167\n",
      " 0.88807736 0.90806993 0.90610636 0.88789887 0.86487175 0.85380443\n",
      " 0.88658982 0.86023062 0.83767944 0.81322424 0.8398215  0.86659725\n",
      " 0.87272592 0.89271849 0.90104878 0.92151737 0.9297881  0.95275575\n",
      " 0.95662332 0.9618595  0.98185206 0.97477135 0.9559688  0.95418373\n",
      " 0.97875795 0.95864635 0.93942734 0.94127188 0.92907401 0.90325031\n",
      " 0.91461515 0.93091855 0.90051319 0.89920424 0.91306805 0.91205653\n",
      " 0.90723691 0.8796876  0.88617336 0.84999633 0.84862781 0.89069545\n",
      " 0.85505391 0.85689854 0.86594273 0.90485688 0.84981783 0.85285238\n",
      " 0.8217925  0.83637039 0.78870958 0.84152889 0.83885694 0.83582813\n",
      " 0.83275664 0.8298769  0.82732636 0.82515538 0.82335031 0.82185948\n",
      " 0.8206138  0.81954318 0.81858623 0.81769437 0.81683326 0.81598085\n",
      " 0.81512517 0.81426114 0.81338829 0.81250852 0.81162494 0.81074059\n",
      " 0.80985844 0.80898076 0.80810958 0.80724639]\n",
      "25 day output [[0.8063925]]\n",
      "26 day input [0.86719231 0.86439572 0.93050209 0.95698031 0.9559688  0.96328748\n",
      " 0.94579397 0.94275942 0.93841582 0.95727784 0.96590557 0.94115285\n",
      " 0.92044629 0.92187436 0.94513945 0.94371147 0.92187436 0.91247309\n",
      " 0.89474161 0.8694534  0.88534034 0.89789519 0.89950167 0.88807736\n",
      " 0.90806993 0.90610636 0.88789887 0.86487175 0.85380443 0.88658982\n",
      " 0.86023062 0.83767944 0.81322424 0.8398215  0.86659725 0.87272592\n",
      " 0.89271849 0.90104878 0.92151737 0.9297881  0.95275575 0.95662332\n",
      " 0.9618595  0.98185206 0.97477135 0.9559688  0.95418373 0.97875795\n",
      " 0.95864635 0.93942734 0.94127188 0.92907401 0.90325031 0.91461515\n",
      " 0.93091855 0.90051319 0.89920424 0.91306805 0.91205653 0.90723691\n",
      " 0.8796876  0.88617336 0.84999633 0.84862781 0.89069545 0.85505391\n",
      " 0.85689854 0.86594273 0.90485688 0.84981783 0.85285238 0.8217925\n",
      " 0.83637039 0.78870958 0.84152889 0.83885694 0.83582813 0.83275664\n",
      " 0.8298769  0.82732636 0.82515538 0.82335031 0.82185948 0.8206138\n",
      " 0.81954318 0.81858623 0.81769437 0.81683326 0.81598085 0.81512517\n",
      " 0.81426114 0.81338829 0.81250852 0.81162494 0.81074059 0.80985844\n",
      " 0.80898076 0.80810958 0.80724639 0.80639249]\n",
      "26 day output [[0.805549]]\n",
      "27 day input [0.86439572 0.93050209 0.95698031 0.9559688  0.96328748 0.94579397\n",
      " 0.94275942 0.93841582 0.95727784 0.96590557 0.94115285 0.92044629\n",
      " 0.92187436 0.94513945 0.94371147 0.92187436 0.91247309 0.89474161\n",
      " 0.8694534  0.88534034 0.89789519 0.89950167 0.88807736 0.90806993\n",
      " 0.90610636 0.88789887 0.86487175 0.85380443 0.88658982 0.86023062\n",
      " 0.83767944 0.81322424 0.8398215  0.86659725 0.87272592 0.89271849\n",
      " 0.90104878 0.92151737 0.9297881  0.95275575 0.95662332 0.9618595\n",
      " 0.98185206 0.97477135 0.9559688  0.95418373 0.97875795 0.95864635\n",
      " 0.93942734 0.94127188 0.92907401 0.90325031 0.91461515 0.93091855\n",
      " 0.90051319 0.89920424 0.91306805 0.91205653 0.90723691 0.8796876\n",
      " 0.88617336 0.84999633 0.84862781 0.89069545 0.85505391 0.85689854\n",
      " 0.86594273 0.90485688 0.84981783 0.85285238 0.8217925  0.83637039\n",
      " 0.78870958 0.84152889 0.83885694 0.83582813 0.83275664 0.8298769\n",
      " 0.82732636 0.82515538 0.82335031 0.82185948 0.8206138  0.81954318\n",
      " 0.81858623 0.81769437 0.81683326 0.81598085 0.81512517 0.81426114\n",
      " 0.81338829 0.81250852 0.81162494 0.81074059 0.80985844 0.80898076\n",
      " 0.80810958 0.80724639 0.80639249 0.80554903]\n",
      "27 day output [[0.80471706]]\n",
      "28 day input [0.93050209 0.95698031 0.9559688  0.96328748 0.94579397 0.94275942\n",
      " 0.93841582 0.95727784 0.96590557 0.94115285 0.92044629 0.92187436\n",
      " 0.94513945 0.94371147 0.92187436 0.91247309 0.89474161 0.8694534\n",
      " 0.88534034 0.89789519 0.89950167 0.88807736 0.90806993 0.90610636\n",
      " 0.88789887 0.86487175 0.85380443 0.88658982 0.86023062 0.83767944\n",
      " 0.81322424 0.8398215  0.86659725 0.87272592 0.89271849 0.90104878\n",
      " 0.92151737 0.9297881  0.95275575 0.95662332 0.9618595  0.98185206\n",
      " 0.97477135 0.9559688  0.95418373 0.97875795 0.95864635 0.93942734\n",
      " 0.94127188 0.92907401 0.90325031 0.91461515 0.93091855 0.90051319\n",
      " 0.89920424 0.91306805 0.91205653 0.90723691 0.8796876  0.88617336\n",
      " 0.84999633 0.84862781 0.89069545 0.85505391 0.85689854 0.86594273\n",
      " 0.90485688 0.84981783 0.85285238 0.8217925  0.83637039 0.78870958\n",
      " 0.84152889 0.83885694 0.83582813 0.83275664 0.8298769  0.82732636\n",
      " 0.82515538 0.82335031 0.82185948 0.8206138  0.81954318 0.81858623\n",
      " 0.81769437 0.81683326 0.81598085 0.81512517 0.81426114 0.81338829\n",
      " 0.81250852 0.81162494 0.81074059 0.80985844 0.80898076 0.80810958\n",
      " 0.80724639 0.80639249 0.80554903 0.80471706]\n",
      "28 day output [[0.8038976]]\n",
      "29 day input [0.95698031 0.9559688  0.96328748 0.94579397 0.94275942 0.93841582\n",
      " 0.95727784 0.96590557 0.94115285 0.92044629 0.92187436 0.94513945\n",
      " 0.94371147 0.92187436 0.91247309 0.89474161 0.8694534  0.88534034\n",
      " 0.89789519 0.89950167 0.88807736 0.90806993 0.90610636 0.88789887\n",
      " 0.86487175 0.85380443 0.88658982 0.86023062 0.83767944 0.81322424\n",
      " 0.8398215  0.86659725 0.87272592 0.89271849 0.90104878 0.92151737\n",
      " 0.9297881  0.95275575 0.95662332 0.9618595  0.98185206 0.97477135\n",
      " 0.9559688  0.95418373 0.97875795 0.95864635 0.93942734 0.94127188\n",
      " 0.92907401 0.90325031 0.91461515 0.93091855 0.90051319 0.89920424\n",
      " 0.91306805 0.91205653 0.90723691 0.8796876  0.88617336 0.84999633\n",
      " 0.84862781 0.89069545 0.85505391 0.85689854 0.86594273 0.90485688\n",
      " 0.84981783 0.85285238 0.8217925  0.83637039 0.78870958 0.84152889\n",
      " 0.83885694 0.83582813 0.83275664 0.8298769  0.82732636 0.82515538\n",
      " 0.82335031 0.82185948 0.8206138  0.81954318 0.81858623 0.81769437\n",
      " 0.81683326 0.81598085 0.81512517 0.81426114 0.81338829 0.81250852\n",
      " 0.81162494 0.81074059 0.80985844 0.80898076 0.80810958 0.80724639\n",
      " 0.80639249 0.80554903 0.80471706 0.80389762]\n",
      "29 day output [[0.80309176]]\n"
     ]
    }
   ],
   "source": [
    "# demonstrate prediction for next 10 days\n",
    "from numpy import array\n",
    "\n",
    "lst_output=[]\n",
    "n_steps=100\n",
    "i=0\n",
    "while(i<30):\n",
    "    \n",
    "    if(len(temp_input)>100):\n",
    "        #print(temp_input)\n",
    "        x_input=np.array(temp_input[1:])\n",
    "        print(\"{} day input {}\".format(i,x_input))\n",
    "        x_input=x_input.reshape(1,-1)\n",
    "        x_input = x_input.reshape((1, n_steps, 1))\n",
    "        #print(x_input)\n",
    "        yhat = model.predict(x_input, verbose=0)\n",
    "        print(\"{} day output {}\".format(i,yhat))\n",
    "        temp_input.extend(yhat[0].tolist())\n",
    "        temp_input=temp_input[1:]\n",
    "        #print(temp_input)\n",
    "        lst_output.extend(yhat.tolist())\n",
    "        i=i+1\n",
    "    else:\n",
    "        x_input = x_input.reshape((1, n_steps,1))\n",
    "        yhat = model.predict(x_input, verbose=0)\n",
    "#         print(yhat[0])\n",
    "        temp_input.extend(yhat[0].tolist())\n",
    "#         print(len(temp_input))\n",
    "        lst_output.extend(yhat.tolist())\n",
    "        i=i+1\n",
    "    \n",
    "\n",
    "# print(lst_output)"
   ]
  },
  {
   "cell_type": "code",
   "execution_count": 30,
   "metadata": {
    "pycharm": {
     "name": "#%%\n"
    }
   },
   "outputs": [],
   "source": [
    "day_new=np.arange(1,101)\n",
    "day_pred=np.arange(101,131)"
   ]
  },
  {
   "cell_type": "code",
   "execution_count": 31,
   "metadata": {
    "pycharm": {
     "name": "#%%\n"
    }
   },
   "outputs": [
    {
     "name": "stdout",
     "output_type": "stream",
     "text": [
      "[[146.5]]\n",
      "[[155.37694491]\n",
      " [154.92788915]\n",
      " [154.41885978]\n",
      " [153.90265803]\n",
      " [153.41868194]\n",
      " [152.99003143]\n",
      " [152.62517112]\n",
      " [152.32180705]\n",
      " [152.07125421]\n",
      " [151.86190254]\n",
      " [151.68197171]\n",
      " [151.52114387]\n",
      " [151.37125493]\n",
      " [151.22653492]\n",
      " [151.08327744]\n",
      " [150.93946901]\n",
      " [150.79425815]\n",
      " [150.64756473]\n",
      " [150.4997093 ]\n",
      " [150.35121277]\n",
      " [150.20258601]\n",
      " [150.05432989]\n",
      " [149.90682507]\n",
      " [149.76041214]\n",
      " [149.61534153]\n",
      " [149.47183361]\n",
      " [149.33007872]\n",
      " [149.19025718]\n",
      " [149.05253926]\n",
      " [148.9171053 ]]\n"
     ]
    }
   ],
   "source": [
    "len(df1)\n",
    "print(scaler.inverse_transform(df1[-1:]))\n",
    "print(scaler.inverse_transform(lst_output[0:]))"
   ]
  },
  {
   "cell_type": "code",
   "execution_count": 32,
   "metadata": {
    "pycharm": {
     "name": "#%%\n"
    }
   },
   "outputs": [
    {
     "data": {
      "text/plain": [
       "[<matplotlib.lines.Line2D at 0x7f23e5723520>]"
      ]
     },
     "execution_count": 32,
     "metadata": {},
     "output_type": "execute_result"
    },
    {
     "data": {
      "image/png": "[encoded data removed]",
      "text/plain": [
       "<Figure size 432x288 with 1 Axes>"
      ]
     },
     "metadata": {
      "needs_background": "light"
     },
     "output_type": "display_data"
    }
   ],
   "source": [
    "plt.plot(day_new,scaler.inverse_transform(df1[len(df1)-100:]))\n",
    "plt.plot(day_pred,scaler.inverse_transform(lst_output))"
   ]
  },
  {
   "cell_type": "code",
   "execution_count": 33,
   "metadata": {
    "pycharm": {
     "name": "#%%\n"
    }
   },
   "outputs": [
    {
     "data": {
      "text/plain": [
       "[<matplotlib.lines.Line2D at 0x7f23e56c1f10>]"
      ]
     },
     "execution_count": 33,
     "metadata": {},
     "output_type": "execute_result"
    },
    {
     "data": {
      "image/png": "[encoded data removed]",
      "text/plain": [
       "<Figure size 432x288 with 1 Axes>"
      ]
     },
     "metadata": {
      "needs_background": "light"
     },
     "output_type": "display_data"
    }
   ],
   "source": [
    "df3=df1.tolist()\n",
    "df3.extend(lst_output)\n",
    "plt.plot(df3[1200:])"
   ]
  },
  {
   "cell_type": "code",
   "execution_count": 34,
   "metadata": {
    "pycharm": {
     "name": "#%%\n"
    }
   },
   "outputs": [],
   "source": [
    "df3=scaler.inverse_transform(df3).tolist()\n"
   ]
  },
  {
   "cell_type": "code",
   "execution_count": 35,
   "metadata": {
    "pycharm": {
     "name": "#%%\n"
    }
   },
   "outputs": [
    {
     "data": {
      "text/plain": [
       "[<matplotlib.lines.Line2D at 0x7f23e571ad00>]"
      ]
     },
     "execution_count": 35,
     "metadata": {},
     "output_type": "execute_result"
    },
    {
     "data": {
      "image/png": "[encoded data removed]",
      "text/plain": [
       "<Figure size 432x288 with 1 Axes>"
      ]
     },
     "metadata": {
      "needs_background": "light"
     },
     "output_type": "display_data"
    }
   ],
   "source": [
    "plt.plot(df3)\n"
   ]
  },
  {
   "cell_type": "code",
   "execution_count": 37,
   "metadata": {
    "pycharm": {
     "name": "#%%\n"
    }
   },
   "outputs": [
    {
     "name": "stderr",
     "output_type": "stream",
     "text": [
      "WARNING:absl:Found untraced functions such as lstm_cell_layer_call_and_return_conditional_losses, lstm_cell_layer_call_fn, lstm_cell_1_layer_call_and_return_conditional_losses, lstm_cell_1_layer_call_fn, lstm_cell_2_layer_call_and_return_conditional_losses while saving (showing 5 of 20). These functions will not be directly callable after loading.\n"
     ]
    },
    {
     "name": "stdout",
     "output_type": "stream",
     "text": [
      "INFO:tensorflow:Assets written to: filename.pkl/assets\n"
     ]
    },
    {
     "name": "stderr",
     "output_type": "stream",
     "text": [
      "INFO:tensorflow:Assets written to: filename.pkl/assets\n"
     ]
    }
   ],
   "source": [
    "import pickle\n",
    "\n",
    "# filename = 'model.sav'\n",
    "# pickle.dump(model, open(filename, 'wb'))\n",
    "tf.keras.models.save_model(model, \"filename.pkl\")\n",
    "# import time\n",
    "# #save model\n",
    "# ts = int(time.time())\n",
    "# file_path = f\"tf-models/lstm/{ts}/\"\n",
    "# model.save(filepath=file_path, save_format='tf')"
   ]
  },
  {
   "cell_type": "code",
   "execution_count": null,
   "metadata": {
    "pycharm": {
     "name": "#%%\n"
    }
   },
   "outputs": [],
   "source": [
    "# import tarfile\n",
    "# import os\n",
    "\n",
    "# def tar_folder(output_filename: str, source_dir: str):\n",
    "#     with tarfile.open(output_filename, \"w:gz\") as tar:\n",
    "#         tar.add(source_dir, arcname=os.path.basename(source_dir))\n",
    "\n",
    "# OUT_FILE = 'tf-models-lstm.tar.gz'\n",
    "\n",
    "# SOURCE_FILE = \"tf-models\"\n",
    "\n",
    "# tar_folder(output_filename=OUT_FILE, source_dir=SOURCE_FILE)\n",
    "# print(OUT_FILE)"
   ]
  },
  {
   "cell_type": "code",
   "execution_count": null,
   "metadata": {
    "pycharm": {
     "name": "#%%\n"
    }
   },
   "outputs": [],
   "source": [
    "# import sagemaker\n",
    "\n",
    "# sagemaker_session = sagemaker.Session(default_bucket='stocks-models')\n",
    "# upload_data = sagemaker_session.upload_data(path='tf-models-lstm.tar.gz', key_prefix='my_prefix')\n",
    "\n",
    "# print('upload_data : {}'.format(upload_data))"
   ]
  },
  {
   "cell_type": "code",
   "execution_count": null,
   "metadata": {
    "pycharm": {
     "name": "#%%\n"
    }
   },
   "outputs": [],
   "source": [
    "print(prediction[:50])"
   ]
  },
  {
   "cell_type": "code",
   "execution_count": null,
   "metadata": {
    "pycharm": {
     "name": "#%%\n"
    }
   },
   "outputs": [],
   "source": []
  }
 ],
 "metadata": {
  "instance_type": "ml.g4dn.xlarge",
  "kernelspec": {
   "display_name": "Python 3",
   "language": "python",
   "name": "python3"
  }
 },
 "nbformat": 4,
 "nbformat_minor": 4
}