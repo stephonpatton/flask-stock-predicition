{
 "cells": [
  {
   "cell_type": "code",
   "execution_count": 1,
   "outputs": [
    {
     "name": "stderr",
     "output_type": "stream",
     "text": [
      "ERROR: Could not open requirements file: [Errno 2] No such file or directory: 'requirements.txt'\n"
     ]
    },
    {
     "name": "stdout",
     "output_type": "stream",
     "text": [
      "Requirement already satisfied: tensorflow-gpu in e:\\conda\\lib\\site-packages (2.8.0)\n",
      "Requirement already satisfied: protobuf>=3.9.2 in e:\\conda\\lib\\site-packages (from tensorflow-gpu) (3.19.1)\n",
      "Requirement already satisfied: gast>=0.2.1 in e:\\conda\\lib\\site-packages (from tensorflow-gpu) (0.5.3)\n",
      "Requirement already satisfied: typing-extensions>=3.6.6 in e:\\conda\\lib\\site-packages (from tensorflow-gpu) (4.1.1)\n",
      "Requirement already satisfied: termcolor>=1.1.0 in e:\\conda\\lib\\site-packages (from tensorflow-gpu) (1.1.0)\n",
      "Requirement already satisfied: google-pasta>=0.1.1 in e:\\conda\\lib\\site-packages (from tensorflow-gpu) (0.2.0)\n",
      "Requirement already satisfied: tf-estimator-nightly==2.8.0.dev2021122109 in e:\\conda\\lib\\site-packages (from tensorflow-gpu) (2.8.0.dev2021122109)\n",
      "Requirement already satisfied: setuptools in e:\\conda\\lib\\site-packages (from tensorflow-gpu) (61.2.0)\n",
      "Requirement already satisfied: h5py>=2.9.0 in e:\\conda\\lib\\site-packages (from tensorflow-gpu) (3.6.0)\n",
      "Requirement already satisfied: libclang>=9.0.1 in e:\\conda\\lib\\site-packages (from tensorflow-gpu) (14.0.1)\n",
      "Requirement already satisfied: wrapt>=1.11.0 in c:\\users\\stephon patton\\appdata\\roaming\\python\\python39\\site-packages (from tensorflow-gpu) (1.12.1)\n",
      "Requirement already satisfied: six>=1.12.0 in c:\\users\\stephon patton\\appdata\\roaming\\python\\python39\\site-packages (from tensorflow-gpu) (1.15.0)\n",
      "Requirement already satisfied: astunparse>=1.6.0 in e:\\conda\\lib\\site-packages (from tensorflow-gpu) (1.6.3)\n",
      "Requirement already satisfied: opt-einsum>=2.3.2 in e:\\conda\\lib\\site-packages (from tensorflow-gpu) (3.3.0)\n",
      "Requirement already satisfied: absl-py>=0.4.0 in e:\\conda\\lib\\site-packages (from tensorflow-gpu) (1.0.0)\n",
      "Requirement already satisfied: keras-preprocessing>=1.1.1 in e:\\conda\\lib\\site-packages (from tensorflow-gpu) (1.1.2)\n",
      "Requirement already satisfied: tensorflow-io-gcs-filesystem>=0.23.1 in e:\\conda\\lib\\site-packages (from tensorflow-gpu) (0.25.0)\n",
      "Requirement already satisfied: keras<2.9,>=2.8.0rc0 in e:\\conda\\lib\\site-packages (from tensorflow-gpu) (2.8.0)\n",
      "Requirement already satisfied: numpy>=1.20 in e:\\conda\\lib\\site-packages (from tensorflow-gpu) (1.22.3)\n",
      "Requirement already satisfied: flatbuffers>=1.12 in e:\\conda\\lib\\site-packages (from tensorflow-gpu) (2.0)\n",
      "Requirement already satisfied: grpcio<2.0,>=1.24.3 in e:\\conda\\lib\\site-packages (from tensorflow-gpu) (1.42.0)\n",
      "Requirement already satisfied: tensorboard<2.9,>=2.8 in e:\\conda\\lib\\site-packages (from tensorflow-gpu) (2.8.0)\n",
      "Requirement already satisfied: wheel<1.0,>=0.23.0 in e:\\conda\\lib\\site-packages (from astunparse>=1.6.0->tensorflow-gpu) (0.37.1)\n",
      "Requirement already satisfied: google-auth<3,>=1.6.3 in e:\\conda\\lib\\site-packages (from tensorboard<2.9,>=2.8->tensorflow-gpu) (1.33.0)\n",
      "Requirement already satisfied: tensorboard-data-server<0.7.0,>=0.6.0 in e:\\conda\\lib\\site-packages (from tensorboard<2.9,>=2.8->tensorflow-gpu) (0.6.1)\n",
      "Requirement already satisfied: werkzeug>=0.11.15 in e:\\conda\\lib\\site-packages (from tensorboard<2.9,>=2.8->tensorflow-gpu) (2.0.3)\n",
      "Requirement already satisfied: google-auth-oauthlib<0.5,>=0.4.1 in e:\\conda\\lib\\site-packages (from tensorboard<2.9,>=2.8->tensorflow-gpu) (0.4.6)\n",
      "Requirement already satisfied: requests<3,>=2.21.0 in e:\\conda\\lib\\site-packages (from tensorboard<2.9,>=2.8->tensorflow-gpu) (2.27.1)\n",
      "Requirement already satisfied: markdown>=2.6.8 in e:\\conda\\lib\\site-packages (from tensorboard<2.9,>=2.8->tensorflow-gpu) (3.3.4)\n",
      "Requirement already satisfied: tensorboard-plugin-wit>=1.6.0 in e:\\conda\\lib\\site-packages (from tensorboard<2.9,>=2.8->tensorflow-gpu) (1.8.1)\n",
      "Requirement already satisfied: cachetools<5.0,>=2.0.0 in e:\\conda\\lib\\site-packages (from google-auth<3,>=1.6.3->tensorboard<2.9,>=2.8->tensorflow-gpu) (4.2.2)\n",
      "Requirement already satisfied: pyasn1-modules>=0.2.1 in e:\\conda\\lib\\site-packages (from google-auth<3,>=1.6.3->tensorboard<2.9,>=2.8->tensorflow-gpu) (0.2.8)\n",
      "Requirement already satisfied: rsa<5,>=3.1.4 in e:\\conda\\lib\\site-packages (from google-auth<3,>=1.6.3->tensorboard<2.9,>=2.8->tensorflow-gpu) (4.7.2)\n",
      "Requirement already satisfied: requests-oauthlib>=0.7.0 in e:\\conda\\lib\\site-packages (from google-auth-oauthlib<0.5,>=0.4.1->tensorboard<2.9,>=2.8->tensorflow-gpu) (1.3.1)\n",
      "Requirement already satisfied: pyasn1<0.5.0,>=0.4.6 in e:\\conda\\lib\\site-packages (from pyasn1-modules>=0.2.1->google-auth<3,>=1.6.3->tensorboard<2.9,>=2.8->tensorflow-gpu) (0.4.8)\n",
      "Requirement already satisfied: urllib3<1.27,>=1.21.1 in e:\\conda\\lib\\site-packages (from requests<3,>=2.21.0->tensorboard<2.9,>=2.8->tensorflow-gpu) (1.26.9)\n",
      "Requirement already satisfied: charset-normalizer~=2.0.0 in e:\\conda\\lib\\site-packages (from requests<3,>=2.21.0->tensorboard<2.9,>=2.8->tensorflow-gpu) (2.0.4)\n",
      "Requirement already satisfied: certifi>=2017.4.17 in e:\\conda\\lib\\site-packages (from requests<3,>=2.21.0->tensorboard<2.9,>=2.8->tensorflow-gpu) (2021.10.8)\n",
      "Requirement already satisfied: idna<4,>=2.5 in e:\\conda\\lib\\site-packages (from requests<3,>=2.21.0->tensorboard<2.9,>=2.8->tensorflow-gpu) (3.3)\n",
      "Requirement already satisfied: oauthlib>=3.0.0 in e:\\conda\\lib\\site-packages (from requests-oauthlib>=0.7.0->google-auth-oauthlib<0.5,>=0.4.1->tensorboard<2.9,>=2.8->tensorflow-gpu) (3.2.0)\n"
     ]
    }
   ],
   "source": [
    "# !pipreqs --force\n",
    "!pip install -r requirements.txt\n",
    "!pip install tensorflow-gpu\n",
    "#\n",
    "# !pip install tensorflow yfinance pandas sklearn\n",
    "# import tensorflow as tf\n",
    "# !pip install yfinance\n"
   ],
   "metadata": {
    "collapsed": false,
    "pycharm": {
     "name": "#%%\n"
    }
   }
  },
  {
   "cell_type": "code",
   "execution_count": 2,
   "outputs": [],
   "source": [
    "import pandas as pd\n",
    "import tensorflow as tf\n",
    "import yfinance as yf\n"
   ],
   "metadata": {
    "collapsed": false,
    "pycharm": {
     "name": "#%%\n"
    }
   }
  },
  {
   "cell_type": "code",
   "execution_count": 3,
   "outputs": [
    {
     "name": "stdout",
     "output_type": "stream",
     "text": [
      "Hello\n",
      "Num GPUs Available:  0\n"
     ]
    }
   ],
   "source": [
    "print(\"Hello\")\n",
    "tf.__version__\n",
    "print(\"Num GPUs Available: \", len(tf.config.list_physical_devices('GPU')))\n",
    "\n",
    "# !pip freeze > requirements.txt\n",
    "\n"
   ],
   "metadata": {
    "collapsed": false,
    "pycharm": {
     "name": "#%%\n"
    }
   }
  },
  {
   "cell_type": "code",
   "execution_count": 4,
   "outputs": [
    {
     "name": "stdout",
     "output_type": "stream",
     "text": [
      "2012-05-17 10:40:48.499544\n",
      "2012-05-17\n",
      "2022-05-15\n",
      "[*********************100%***********************]  1 of 1 completed\n"
     ]
    }
   ],
   "source": [
    "# !pip freeze > requirements.txt\n",
    "from datetime import datetime, timedelta\n",
    "end_date = datetime.today().strftime('%Y-%m-%d')\n",
    "start_date_dt = datetime.now() - timedelta(days=10*365)\n",
    "print(start_date_dt)\n",
    "start_date = start_date_dt.strftime('%Y-%m-%d')\n",
    "print(start_date)\n",
    "print(end_date)\n",
    "# aapl = yf.download(\"AAPL\")\n",
    "nflx = yf.download(\"NFLX\", start = start_date, end = end_date)\n",
    "# aapl_history = aapl.history(period=\"max\")"
   ],
   "metadata": {
    "collapsed": false,
    "pycharm": {
     "name": "#%%\n"
    }
   }
  },
  {
   "cell_type": "code",
   "execution_count": 4,
   "outputs": [],
   "source": [],
   "metadata": {
    "collapsed": false,
    "pycharm": {
     "name": "#%%\n"
    }
   }
  },
  {
   "cell_type": "code",
   "execution_count": 5,
   "outputs": [
    {
     "data": {
      "text/plain": "0        10.281429\n1         9.994286\n2        10.248571\n3         9.672857\n4        10.272857\n           ...    \n2510    173.100006\n2511    177.660004\n2512    166.369995\n2513    174.309998\n2514    187.639999\nName: Close, Length: 2515, dtype: float64"
     },
     "execution_count": 5,
     "metadata": {},
     "output_type": "execute_result"
    }
   ],
   "source": [
    "type(nflx)\n",
    "df = pd.DataFrame(nflx)\n",
    "df\n",
    "df1 = df.reset_index()['Close']\n",
    "df1"
   ],
   "metadata": {
    "collapsed": false,
    "pycharm": {
     "name": "#%%\n"
    }
   }
  },
  {
   "cell_type": "code",
   "execution_count": 6,
   "outputs": [
    {
     "data": {
      "text/plain": "[<matplotlib.lines.Line2D at 0x1d571d6be50>]"
     },
     "execution_count": 6,
     "metadata": {},
     "output_type": "execute_result"
    },
    {
     "data": {
      "text/plain": "<Figure size 432x288 with 1 Axes>",
      "image/png": "[encoded data removed]"
     },
     "metadata": {
      "needs_background": "light"
     },
     "output_type": "display_data"
    }
   ],
   "source": [
    "import matplotlib.pyplot as plt\n",
    "plt.plot(df1)"
   ],
   "metadata": {
    "collapsed": false,
    "pycharm": {
     "name": "#%%\n"
    }
   }
  },
  {
   "cell_type": "code",
   "execution_count": 7,
   "outputs": [],
   "source": [
    "import numpy as np\n",
    "from sklearn.preprocessing import MinMaxScaler\n",
    "scaler=MinMaxScaler(feature_range=(0,1))\n",
    "df1 = scaler.fit_transform(np.array(df1).reshape(-1, 1))"
   ],
   "metadata": {
    "collapsed": false,
    "pycharm": {
     "name": "#%%\n"
    }
   }
  },
  {
   "cell_type": "code",
   "execution_count": 8,
   "outputs": [],
   "source": [
    "# Split data\n",
    "train_size = int(len(df1)*.95) # 65%\n",
    "test_size = len(df1) - train_size\n",
    "train, test = df1[0:train_size,:], df1[train_size:len(df1), :1]"
   ],
   "metadata": {
    "collapsed": false,
    "pycharm": {
     "name": "#%%\n"
    }
   }
  },
  {
   "cell_type": "code",
   "execution_count": 9,
   "outputs": [
    {
     "name": "stdout",
     "output_type": "stream",
     "text": [
      "2389\n",
      "126\n"
     ]
    }
   ],
   "source": [
    "print(train_size)\n",
    "print(test_size)"
   ],
   "metadata": {
    "collapsed": false,
    "pycharm": {
     "name": "#%%\n"
    }
   }
  },
  {
   "cell_type": "code",
   "execution_count": 10,
   "outputs": [],
   "source": [
    "def create_dataset(data, time_step=1):\n",
    "    dataX, dataY = [], []\n",
    "    for i in range(len(data)-time_step-1):\n",
    "        a = data[i:(i+time_step), 0]\n",
    "        dataX.append(a)\n",
    "        dataY.append(data[i + time_step, 0])\n",
    "    return np.array(dataX), np.array(dataY)"
   ],
   "metadata": {
    "collapsed": false,
    "pycharm": {
     "name": "#%%\n"
    }
   }
  },
  {
   "cell_type": "code",
   "execution_count": 11,
   "outputs": [],
   "source": [
    "time_step = 100\n",
    "X_train, y_train = create_dataset(train, time_step)\n",
    "X_test, y_test = create_dataset(test, time_step)"
   ],
   "metadata": {
    "collapsed": false,
    "pycharm": {
     "name": "#%%\n"
    }
   }
  },
  {
   "cell_type": "code",
   "execution_count": 12,
   "outputs": [
    {
     "name": "stdout",
     "output_type": "stream",
     "text": [
      "(2288, 100)\n",
      "(2288,)\n"
     ]
    },
    {
     "data": {
      "text/plain": "(None, None)"
     },
     "execution_count": 12,
     "metadata": {},
     "output_type": "execute_result"
    }
   ],
   "source": [
    "print(X_train.shape), print(y_train.shape)"
   ],
   "metadata": {
    "collapsed": false,
    "pycharm": {
     "name": "#%%\n"
    }
   }
  },
  {
   "cell_type": "code",
   "execution_count": 13,
   "outputs": [
    {
     "name": "stdout",
     "output_type": "stream",
     "text": [
      "(25, 100)\n",
      "(25,)\n"
     ]
    },
    {
     "data": {
      "text/plain": "(None, None)"
     },
     "execution_count": 13,
     "metadata": {},
     "output_type": "execute_result"
    }
   ],
   "source": [
    "print(X_test.shape), print(y_test.shape)"
   ],
   "metadata": {
    "collapsed": false,
    "pycharm": {
     "name": "#%%\n"
    }
   }
  },
  {
   "cell_type": "code",
   "execution_count": 14,
   "outputs": [
    {
     "name": "stdout",
     "output_type": "stream",
     "text": [
      "(2288, 100, 1)\n",
      "(25, 100, 1)\n"
     ]
    }
   ],
   "source": [
    "# Reshape to be inputted into LSTM\n",
    "X_train = X_train.reshape(X_train.shape[0], X_train.shape[1], 1)\n",
    "X_test = X_test.reshape(X_test.shape[0], X_test.shape[1], 1)\n",
    "print(X_train.shape)\n",
    "print(X_test.shape)"
   ],
   "metadata": {
    "collapsed": false,
    "pycharm": {
     "name": "#%%\n"
    }
   }
  },
  {
   "cell_type": "code",
   "execution_count": 15,
   "outputs": [],
   "source": [
    "# Create Stacked LSTM\n",
    "from tensorflow.keras.models import Sequential\n",
    "from tensorflow.keras.layers import Dense\n",
    "from tensorflow.keras.layers import LSTM\n",
    "from tensorflow.keras.layers import Dropout\n",
    "model = Sequential()\n",
    "model.add(LSTM(50, return_sequences=True, input_shape=(100, 1)))\n",
    "model.add(Dropout(.5))\n",
    "model.add(LSTM(50, return_sequences=True))\n",
    "model.add(LSTM(50, return_sequences=True))\n",
    "model.add(LSTM(50))\n",
    "model.add(Dense(1))\n",
    "model.compile(loss='mean_squared_error', optimizer='adam')"
   ],
   "metadata": {
    "collapsed": false,
    "pycharm": {
     "name": "#%%\n"
    }
   }
  },
  {
   "cell_type": "code",
   "execution_count": 16,
   "outputs": [
    {
     "name": "stdout",
     "output_type": "stream",
     "text": [
      "Model: \"sequential\"\n",
      "_________________________________________________________________\n",
      " Layer (type)                Output Shape              Param #   \n",
      "=================================================================\n",
      " lstm (LSTM)                 (None, 100, 50)           10400     \n",
      "                                                                 \n",
      " dropout (Dropout)           (None, 100, 50)           0         \n",
      "                                                                 \n",
      " lstm_1 (LSTM)               (None, 100, 50)           20200     \n",
      "                                                                 \n",
      " lstm_2 (LSTM)               (None, 100, 50)           20200     \n",
      "                                                                 \n",
      " lstm_3 (LSTM)               (None, 50)                20200     \n",
      "                                                                 \n",
      " dense (Dense)               (None, 1)                 51        \n",
      "                                                                 \n",
      "=================================================================\n",
      "Total params: 71,051\n",
      "Trainable params: 71,051\n",
      "Non-trainable params: 0\n",
      "_________________________________________________________________\n"
     ]
    }
   ],
   "source": [
    "model.summary()"
   ],
   "metadata": {
    "collapsed": false,
    "pycharm": {
     "name": "#%%\n"
    }
   }
  },
  {
   "cell_type": "code",
   "execution_count": 17,
   "outputs": [
    {
     "name": "stdout",
     "output_type": "stream",
     "text": [
      "Epoch 1/100\n",
      "10/10 [==============================] - 10s 489ms/step - loss: 0.0373 - val_loss: 0.0098\n",
      "Epoch 2/100\n",
      "10/10 [==============================] - 4s 367ms/step - loss: 0.0072 - val_loss: 0.0461\n",
      "Epoch 3/100\n",
      "10/10 [==============================] - 4s 374ms/step - loss: 0.0021 - val_loss: 0.0508\n",
      "Epoch 4/100\n",
      "10/10 [==============================] - 4s 359ms/step - loss: 0.0017 - val_loss: 0.0333\n",
      "Epoch 5/100\n",
      "10/10 [==============================] - 4s 365ms/step - loss: 0.0013 - val_loss: 0.0309\n",
      "Epoch 6/100\n",
      "10/10 [==============================] - 4s 368ms/step - loss: 0.0012 - val_loss: 0.0330\n",
      "Epoch 7/100\n",
      "10/10 [==============================] - 4s 371ms/step - loss: 0.0012 - val_loss: 0.0351\n",
      "Epoch 8/100\n",
      "10/10 [==============================] - 4s 359ms/step - loss: 0.0011 - val_loss: 0.0341\n",
      "Epoch 9/100\n",
      "10/10 [==============================] - 4s 383ms/step - loss: 0.0011 - val_loss: 0.0354\n",
      "Epoch 10/100\n",
      "10/10 [==============================] - 4s 390ms/step - loss: 0.0011 - val_loss: 0.0368\n",
      "Epoch 11/100\n",
      "10/10 [==============================] - 4s 382ms/step - loss: 0.0011 - val_loss: 0.0366\n",
      "Epoch 12/100\n",
      "10/10 [==============================] - 4s 382ms/step - loss: 0.0012 - val_loss: 0.0340\n",
      "Epoch 13/100\n",
      "10/10 [==============================] - 4s 362ms/step - loss: 0.0011 - val_loss: 0.0329\n",
      "Epoch 14/100\n",
      "10/10 [==============================] - 4s 363ms/step - loss: 0.0011 - val_loss: 0.0315\n",
      "Epoch 15/100\n",
      "10/10 [==============================] - 4s 368ms/step - loss: 0.0010 - val_loss: 0.0316\n",
      "Epoch 16/100\n",
      "10/10 [==============================] - 4s 366ms/step - loss: 0.0010 - val_loss: 0.0344\n",
      "Epoch 17/100\n",
      "10/10 [==============================] - 4s 367ms/step - loss: 0.0010 - val_loss: 0.0322\n",
      "Epoch 18/100\n",
      "10/10 [==============================] - 4s 374ms/step - loss: 0.0010 - val_loss: 0.0280\n",
      "Epoch 19/100\n",
      "10/10 [==============================] - 4s 359ms/step - loss: 0.0010 - val_loss: 0.0292\n",
      "Epoch 20/100\n",
      "10/10 [==============================] - 4s 379ms/step - loss: 9.5181e-04 - val_loss: 0.0336\n",
      "Epoch 21/100\n",
      "10/10 [==============================] - 4s 366ms/step - loss: 9.7910e-04 - val_loss: 0.0310\n",
      "Epoch 22/100\n",
      "10/10 [==============================] - 4s 374ms/step - loss: 9.7352e-04 - val_loss: 0.0292\n",
      "Epoch 23/100\n",
      "10/10 [==============================] - 4s 386ms/step - loss: 9.6057e-04 - val_loss: 0.0331\n",
      "Epoch 24/100\n",
      "10/10 [==============================] - 4s 377ms/step - loss: 9.8258e-04 - val_loss: 0.0255\n",
      "Epoch 25/100\n",
      "10/10 [==============================] - 4s 380ms/step - loss: 9.8627e-04 - val_loss: 0.0286\n",
      "Epoch 26/100\n",
      "10/10 [==============================] - 4s 388ms/step - loss: 8.9691e-04 - val_loss: 0.0301\n",
      "Epoch 27/100\n",
      "10/10 [==============================] - 4s 376ms/step - loss: 9.2342e-04 - val_loss: 0.0257\n",
      "Epoch 28/100\n",
      "10/10 [==============================] - 4s 380ms/step - loss: 8.9799e-04 - val_loss: 0.0245\n",
      "Epoch 29/100\n",
      "10/10 [==============================] - 4s 373ms/step - loss: 8.8806e-04 - val_loss: 0.0258\n",
      "Epoch 30/100\n",
      "10/10 [==============================] - 4s 363ms/step - loss: 8.6160e-04 - val_loss: 0.0312\n",
      "Epoch 31/100\n",
      "10/10 [==============================] - 4s 373ms/step - loss: 9.7057e-04 - val_loss: 0.0268\n",
      "Epoch 32/100\n",
      "10/10 [==============================] - 4s 375ms/step - loss: 9.5835e-04 - val_loss: 0.0203\n",
      "Epoch 33/100\n",
      "10/10 [==============================] - 4s 382ms/step - loss: 9.6939e-04 - val_loss: 0.0266\n",
      "Epoch 34/100\n",
      "10/10 [==============================] - 4s 382ms/step - loss: 8.4323e-04 - val_loss: 0.0244\n",
      "Epoch 35/100\n",
      "10/10 [==============================] - 4s 368ms/step - loss: 8.4404e-04 - val_loss: 0.0267\n",
      "Epoch 36/100\n",
      "10/10 [==============================] - 4s 370ms/step - loss: 7.9431e-04 - val_loss: 0.0258\n",
      "Epoch 37/100\n",
      "10/10 [==============================] - 4s 373ms/step - loss: 8.3683e-04 - val_loss: 0.0241\n",
      "Epoch 38/100\n",
      "10/10 [==============================] - 4s 383ms/step - loss: 8.2553e-04 - val_loss: 0.0241\n",
      "Epoch 39/100\n",
      "10/10 [==============================] - 4s 377ms/step - loss: 7.7811e-04 - val_loss: 0.0217\n",
      "Epoch 40/100\n",
      "10/10 [==============================] - 4s 378ms/step - loss: 8.1355e-04 - val_loss: 0.0196\n",
      "Epoch 41/100\n",
      "10/10 [==============================] - 4s 373ms/step - loss: 8.0694e-04 - val_loss: 0.0255\n",
      "Epoch 42/100\n",
      "10/10 [==============================] - 4s 388ms/step - loss: 7.7082e-04 - val_loss: 0.0232\n",
      "Epoch 43/100\n",
      "10/10 [==============================] - 4s 373ms/step - loss: 7.6851e-04 - val_loss: 0.0207\n",
      "Epoch 44/100\n",
      "10/10 [==============================] - 4s 381ms/step - loss: 7.7019e-04 - val_loss: 0.0224\n",
      "Epoch 45/100\n",
      "10/10 [==============================] - 4s 377ms/step - loss: 7.1975e-04 - val_loss: 0.0214\n",
      "Epoch 46/100\n",
      "10/10 [==============================] - 4s 376ms/step - loss: 7.8251e-04 - val_loss: 0.0196\n",
      "Epoch 47/100\n",
      "10/10 [==============================] - 4s 375ms/step - loss: 8.0189e-04 - val_loss: 0.0227\n",
      "Epoch 48/100\n",
      "10/10 [==============================] - 4s 380ms/step - loss: 7.7979e-04 - val_loss: 0.0228\n",
      "Epoch 49/100\n",
      "10/10 [==============================] - 4s 392ms/step - loss: 7.6087e-04 - val_loss: 0.0188\n",
      "Epoch 50/100\n",
      "10/10 [==============================] - 4s 385ms/step - loss: 7.4751e-04 - val_loss: 0.0217\n",
      "Epoch 51/100\n",
      "10/10 [==============================] - 4s 375ms/step - loss: 6.9536e-04 - val_loss: 0.0193\n",
      "Epoch 52/100\n",
      "10/10 [==============================] - 4s 374ms/step - loss: 7.7426e-04 - val_loss: 0.0159\n",
      "Epoch 53/100\n",
      "10/10 [==============================] - 4s 383ms/step - loss: 7.4072e-04 - val_loss: 0.0161\n",
      "Epoch 54/100\n",
      "10/10 [==============================] - 4s 374ms/step - loss: 7.5571e-04 - val_loss: 0.0199\n",
      "Epoch 55/100\n",
      "10/10 [==============================] - 4s 378ms/step - loss: 7.8293e-04 - val_loss: 0.0207\n",
      "Epoch 56/100\n",
      "10/10 [==============================] - 4s 373ms/step - loss: 7.3229e-04 - val_loss: 0.0143\n",
      "Epoch 57/100\n",
      "10/10 [==============================] - 4s 383ms/step - loss: 6.8310e-04 - val_loss: 0.0170\n",
      "Epoch 58/100\n",
      "10/10 [==============================] - 4s 383ms/step - loss: 6.4388e-04 - val_loss: 0.0161\n",
      "Epoch 59/100\n",
      "10/10 [==============================] - 4s 377ms/step - loss: 6.7192e-04 - val_loss: 0.0231\n",
      "Epoch 60/100\n",
      "10/10 [==============================] - 4s 376ms/step - loss: 8.8472e-04 - val_loss: 0.0169\n",
      "Epoch 61/100\n",
      "10/10 [==============================] - 4s 370ms/step - loss: 6.8929e-04 - val_loss: 0.0217\n",
      "Epoch 62/100\n",
      "10/10 [==============================] - 4s 371ms/step - loss: 8.6664e-04 - val_loss: 0.0143\n",
      "Epoch 63/100\n",
      "10/10 [==============================] - 4s 363ms/step - loss: 7.0256e-04 - val_loss: 0.0202\n",
      "Epoch 64/100\n",
      "10/10 [==============================] - 4s 373ms/step - loss: 6.9766e-04 - val_loss: 0.0168\n",
      "Epoch 65/100\n",
      "10/10 [==============================] - 4s 375ms/step - loss: 6.8257e-04 - val_loss: 0.0126\n",
      "Epoch 66/100\n",
      "10/10 [==============================] - 4s 379ms/step - loss: 6.5385e-04 - val_loss: 0.0165\n",
      "Epoch 67/100\n",
      "10/10 [==============================] - 4s 370ms/step - loss: 5.7594e-04 - val_loss: 0.0131\n",
      "Epoch 68/100\n",
      "10/10 [==============================] - 4s 371ms/step - loss: 6.9260e-04 - val_loss: 0.0149\n",
      "Epoch 69/100\n",
      "10/10 [==============================] - 4s 374ms/step - loss: 6.3417e-04 - val_loss: 0.0161\n",
      "Epoch 70/100\n",
      "10/10 [==============================] - 4s 372ms/step - loss: 6.5077e-04 - val_loss: 0.0125\n",
      "Epoch 71/100\n",
      "10/10 [==============================] - 4s 375ms/step - loss: 6.2372e-04 - val_loss: 0.0145\n",
      "Epoch 72/100\n",
      "10/10 [==============================] - 4s 374ms/step - loss: 6.3318e-04 - val_loss: 0.0146\n",
      "Epoch 73/100\n",
      "10/10 [==============================] - 4s 386ms/step - loss: 6.4561e-04 - val_loss: 0.0134\n",
      "Epoch 74/100\n",
      "10/10 [==============================] - 4s 369ms/step - loss: 5.8388e-04 - val_loss: 0.0166\n",
      "Epoch 75/100\n",
      "10/10 [==============================] - 4s 378ms/step - loss: 6.0908e-04 - val_loss: 0.0126\n",
      "Epoch 76/100\n",
      "10/10 [==============================] - 4s 366ms/step - loss: 5.6625e-04 - val_loss: 0.0158\n",
      "Epoch 77/100\n",
      "10/10 [==============================] - 4s 374ms/step - loss: 6.0761e-04 - val_loss: 0.0145\n",
      "Epoch 78/100\n",
      "10/10 [==============================] - 4s 370ms/step - loss: 5.5622e-04 - val_loss: 0.0144\n",
      "Epoch 79/100\n",
      "10/10 [==============================] - 4s 371ms/step - loss: 5.9835e-04 - val_loss: 0.0103\n",
      "Epoch 80/100\n",
      "10/10 [==============================] - 4s 381ms/step - loss: 6.8078e-04 - val_loss: 0.0084\n",
      "Epoch 81/100\n",
      "10/10 [==============================] - 4s 389ms/step - loss: 7.1034e-04 - val_loss: 0.0160\n",
      "Epoch 82/100\n",
      "10/10 [==============================] - 4s 384ms/step - loss: 7.1120e-04 - val_loss: 0.0153\n",
      "Epoch 83/100\n",
      "10/10 [==============================] - 4s 381ms/step - loss: 6.4486e-04 - val_loss: 0.0101\n",
      "Epoch 84/100\n",
      "10/10 [==============================] - 4s 382ms/step - loss: 5.8106e-04 - val_loss: 0.0139\n",
      "Epoch 85/100\n",
      "10/10 [==============================] - 4s 370ms/step - loss: 5.7143e-04 - val_loss: 0.0094\n",
      "Epoch 86/100\n",
      "10/10 [==============================] - 4s 384ms/step - loss: 6.0482e-04 - val_loss: 0.0093\n",
      "Epoch 87/100\n",
      "10/10 [==============================] - 4s 374ms/step - loss: 6.6490e-04 - val_loss: 0.0140\n",
      "Epoch 88/100\n",
      "10/10 [==============================] - 4s 372ms/step - loss: 5.6963e-04 - val_loss: 0.0109\n",
      "Epoch 89/100\n",
      "10/10 [==============================] - 4s 385ms/step - loss: 5.4362e-04 - val_loss: 0.0093\n",
      "Epoch 90/100\n",
      "10/10 [==============================] - 4s 371ms/step - loss: 5.6992e-04 - val_loss: 0.0109\n",
      "Epoch 91/100\n",
      "10/10 [==============================] - 4s 369ms/step - loss: 5.1564e-04 - val_loss: 0.0110\n",
      "Epoch 92/100\n",
      "10/10 [==============================] - 4s 377ms/step - loss: 5.9931e-04 - val_loss: 0.0102\n",
      "Epoch 93/100\n",
      "10/10 [==============================] - 4s 379ms/step - loss: 4.9059e-04 - val_loss: 0.0102\n",
      "Epoch 94/100\n",
      "10/10 [==============================] - 4s 375ms/step - loss: 5.0426e-04 - val_loss: 0.0104\n",
      "Epoch 95/100\n",
      "10/10 [==============================] - 4s 375ms/step - loss: 4.7302e-04 - val_loss: 0.0112\n",
      "Epoch 96/100\n",
      "10/10 [==============================] - 4s 376ms/step - loss: 5.3026e-04 - val_loss: 0.0085\n",
      "Epoch 97/100\n",
      "10/10 [==============================] - 4s 385ms/step - loss: 5.5966e-04 - val_loss: 0.0078\n",
      "Epoch 98/100\n",
      "10/10 [==============================] - 4s 375ms/step - loss: 5.1725e-04 - val_loss: 0.0088\n",
      "Epoch 99/100\n",
      "10/10 [==============================] - 4s 376ms/step - loss: 5.2380e-04 - val_loss: 0.0088\n",
      "Epoch 100/100\n",
      "10/10 [==============================] - 4s 373ms/step - loss: 4.7547e-04 - val_loss: 0.0096\n"
     ]
    },
    {
     "data": {
      "text/plain": "<keras.callbacks.History at 0x1d5775252b0>"
     },
     "execution_count": 17,
     "metadata": {},
     "output_type": "execute_result"
    }
   ],
   "source": [
    "model.fit(X_train, y_train, validation_data=(X_test, y_test), epochs=100, batch_size=250, verbose=1)"
   ],
   "metadata": {
    "collapsed": false,
    "pycharm": {
     "name": "#%%\n"
    }
   }
  },
  {
   "cell_type": "code",
   "execution_count": 18,
   "outputs": [],
   "source": [
    "# import tensorflow as tf\n"
   ],
   "metadata": {
    "collapsed": false,
    "pycharm": {
     "name": "#%%\n"
    }
   }
  },
  {
   "cell_type": "code",
   "execution_count": 19,
   "outputs": [
    {
     "data": {
      "text/plain": "'2.8.0'"
     },
     "execution_count": 19,
     "metadata": {},
     "output_type": "execute_result"
    }
   ],
   "source": [
    "# import tensorflow as tf\n",
    "tf.__version__"
   ],
   "metadata": {
    "collapsed": false,
    "pycharm": {
     "name": "#%%\n"
    }
   }
  },
  {
   "cell_type": "code",
   "execution_count": 20,
   "outputs": [
    {
     "name": "stdout",
     "output_type": "stream",
     "text": [
      "KerasTensor(type_spec=TensorSpec(shape=(None, 100, 1), dtype=tf.float32, name='lstm_input'), name='lstm_input', description=\"created by layer 'lstm_input'\")\n"
     ]
    }
   ],
   "source": [
    "prediction = model.predict(X_train)\n",
    "test_prediction = model.predict(X_test)\n",
    "print(model.input)"
   ],
   "metadata": {
    "collapsed": false,
    "pycharm": {
     "name": "#%%\n"
    }
   }
  },
  {
   "cell_type": "code",
   "execution_count": 21,
   "outputs": [],
   "source": [
    "prediction = scaler.inverse_transform(prediction)\n",
    "test_prediction = scaler.inverse_transform(test_prediction)"
   ],
   "metadata": {
    "collapsed": false,
    "pycharm": {
     "name": "#%%\n"
    }
   }
  },
  {
   "cell_type": "code",
   "execution_count": 22,
   "outputs": [
    {
     "data": {
      "text/plain": "282.8508351322634"
     },
     "execution_count": 22,
     "metadata": {},
     "output_type": "execute_result"
    }
   ],
   "source": [
    "import math\n",
    "from sklearn.metrics import mean_squared_error\n",
    "math.sqrt(mean_squared_error(y_train, prediction))"
   ],
   "metadata": {
    "collapsed": false,
    "pycharm": {
     "name": "#%%\n"
    }
   }
  },
  {
   "cell_type": "code",
   "execution_count": 23,
   "outputs": [
    {
     "data": {
      "text/plain": "305.623343620584"
     },
     "execution_count": 23,
     "metadata": {},
     "output_type": "execute_result"
    }
   ],
   "source": [
    "math.sqrt(mean_squared_error(y_test, test_prediction))"
   ],
   "metadata": {
    "collapsed": false,
    "pycharm": {
     "name": "#%%\n"
    }
   }
  },
  {
   "cell_type": "code",
   "execution_count": 24,
   "outputs": [
    {
     "data": {
      "text/plain": "<Figure size 432x288 with 1 Axes>",
      "image/png": "[encoded data removed]"
     },
     "metadata": {
      "needs_background": "light"
     },
     "output_type": "display_data"
    }
   ],
   "source": [
    "### Plotting\n",
    "# shift train predictions for plotting\n",
    "look_back=100\n",
    "trainPredictPlot = np.empty_like(df1)\n",
    "trainPredictPlot[:, :] = np.nan\n",
    "trainPredictPlot[look_back:len(prediction)+look_back, :] = prediction\n",
    "# shift test predictions for plotting\n",
    "testPredictPlot = np.empty_like(df1)\n",
    "testPredictPlot[:, :] = np.nan\n",
    "testPredictPlot[len(prediction)+(look_back*2)+1:len(df1)-1, :] = test_prediction\n",
    "# plot baseline and predictions\n",
    "plt.plot(scaler.inverse_transform(df1))\n",
    "plt.plot(trainPredictPlot)\n",
    "plt.plot(testPredictPlot)\n",
    "plt.show()"
   ],
   "metadata": {
    "collapsed": false,
    "pycharm": {
     "name": "#%%\n"
    }
   }
  },
  {
   "cell_type": "code",
   "execution_count": 25,
   "outputs": [
    {
     "data": {
      "text/plain": "126"
     },
     "execution_count": 25,
     "metadata": {},
     "output_type": "execute_result"
    }
   ],
   "source": [
    "len(test)"
   ],
   "metadata": {
    "collapsed": false,
    "pycharm": {
     "name": "#%%\n"
    }
   }
  },
  {
   "cell_type": "code",
   "execution_count": 26,
   "outputs": [
    {
     "data": {
      "text/plain": "(1, 100)"
     },
     "execution_count": 26,
     "metadata": {},
     "output_type": "execute_result"
    }
   ],
   "source": [
    "x_input = test[len(test)-100:].reshape(1, -1)\n",
    "x_input.shape"
   ],
   "metadata": {
    "collapsed": false,
    "pycharm": {
     "name": "#%%\n"
    }
   }
  },
  {
   "cell_type": "code",
   "execution_count": 27,
   "outputs": [],
   "source": [
    "temp_input = list(x_input)\n",
    "temp_input = temp_input[0].tolist()"
   ],
   "metadata": {
    "collapsed": false,
    "pycharm": {
     "name": "#%%\n"
    }
   }
  },
  {
   "cell_type": "code",
   "execution_count": 28,
   "outputs": [],
   "source": [
    "# temp_input"
   ],
   "metadata": {
    "collapsed": false,
    "pycharm": {
     "name": "#%%\n"
    }
   }
  },
  {
   "cell_type": "code",
   "execution_count": 29,
   "outputs": [
    {
     "name": "stdout",
     "output_type": "stream",
     "text": [
      "1 day input [0.8867697  0.88655045 0.88513229 0.88160896 0.88136036 0.8836265\n",
      " 0.86951836 0.86210612 0.85301265 0.81846608 0.79766205 0.77978208\n",
      " 0.77801305 0.77946048 0.77416804 0.74782323 0.75731146 0.73554257\n",
      " 0.74294018 0.73181454 0.56990035 0.55476886 0.52446206 0.51463756\n",
      " 0.554111   0.55068993 0.61323344 0.65707818 0.61665446 0.58174239\n",
      " 0.58842365 0.57662547 0.57871609 0.59240023 0.58272189 0.5608507\n",
      " 0.56854072 0.58446165 0.57074828 0.55406714 0.56082148 0.54048534\n",
      " 0.52598249 0.55897937 0.56010508 0.56554364 0.55343845 0.54435958\n",
      " 0.52687432 0.51760538 0.50083647 0.48840965 0.51330715 0.51035393\n",
      " 0.4863044  0.47269338 0.49131898 0.51146505 0.53174269 0.54519292\n",
      " 0.53640641 0.54858472 0.5362602  0.53804382 0.53532456 0.54213738\n",
      " 0.56159632 0.54646483 0.53640641 0.534769   0.56112848 0.54453501\n",
      " 0.52728367 0.51821938 0.50905279 0.49753239 0.49183068 0.50108499\n",
      " 0.4874886  0.4827079  0.49842417 0.31944871 0.30779674 0.3038494\n",
      " 0.29564769 0.2788203  0.26440518 0.28045773 0.267066   0.28037002\n",
      " 0.28096941 0.287022   0.26408357 0.25333801 0.24183224 0.24849887\n",
      " 0.23199311 0.24360123 0.26308941 0.27827096]\n",
      "1 day output [[0.27637604]]\n",
      "2 day input [0.88655045 0.88513229 0.88160896 0.88136036 0.8836265  0.86951836\n",
      " 0.86210612 0.85301265 0.81846608 0.79766205 0.77978208 0.77801305\n",
      " 0.77946048 0.77416804 0.74782323 0.75731146 0.73554257 0.74294018\n",
      " 0.73181454 0.56990035 0.55476886 0.52446206 0.51463756 0.554111\n",
      " 0.55068993 0.61323344 0.65707818 0.61665446 0.58174239 0.58842365\n",
      " 0.57662547 0.57871609 0.59240023 0.58272189 0.5608507  0.56854072\n",
      " 0.58446165 0.57074828 0.55406714 0.56082148 0.54048534 0.52598249\n",
      " 0.55897937 0.56010508 0.56554364 0.55343845 0.54435958 0.52687432\n",
      " 0.51760538 0.50083647 0.48840965 0.51330715 0.51035393 0.4863044\n",
      " 0.47269338 0.49131898 0.51146505 0.53174269 0.54519292 0.53640641\n",
      " 0.54858472 0.5362602  0.53804382 0.53532456 0.54213738 0.56159632\n",
      " 0.54646483 0.53640641 0.534769   0.56112848 0.54453501 0.52728367\n",
      " 0.51821938 0.50905279 0.49753239 0.49183068 0.50108499 0.4874886\n",
      " 0.4827079  0.49842417 0.31944871 0.30779674 0.3038494  0.29564769\n",
      " 0.2788203  0.26440518 0.28045773 0.267066   0.28037002 0.28096941\n",
      " 0.287022   0.26408357 0.25333801 0.24183224 0.24849887 0.23199311\n",
      " 0.24360123 0.26308941 0.27827096 0.27637604]\n",
      "2 day output [[0.27568883]]\n",
      "3 day input [0.88513229 0.88160896 0.88136036 0.8836265  0.86951836 0.86210612\n",
      " 0.85301265 0.81846608 0.79766205 0.77978208 0.77801305 0.77946048\n",
      " 0.77416804 0.74782323 0.75731146 0.73554257 0.74294018 0.73181454\n",
      " 0.56990035 0.55476886 0.52446206 0.51463756 0.554111   0.55068993\n",
      " 0.61323344 0.65707818 0.61665446 0.58174239 0.58842365 0.57662547\n",
      " 0.57871609 0.59240023 0.58272189 0.5608507  0.56854072 0.58446165\n",
      " 0.57074828 0.55406714 0.56082148 0.54048534 0.52598249 0.55897937\n",
      " 0.56010508 0.56554364 0.55343845 0.54435958 0.52687432 0.51760538\n",
      " 0.50083647 0.48840965 0.51330715 0.51035393 0.4863044  0.47269338\n",
      " 0.49131898 0.51146505 0.53174269 0.54519292 0.53640641 0.54858472\n",
      " 0.5362602  0.53804382 0.53532456 0.54213738 0.56159632 0.54646483\n",
      " 0.53640641 0.534769   0.56112848 0.54453501 0.52728367 0.51821938\n",
      " 0.50905279 0.49753239 0.49183068 0.50108499 0.4874886  0.4827079\n",
      " 0.49842417 0.31944871 0.30779674 0.3038494  0.29564769 0.2788203\n",
      " 0.26440518 0.28045773 0.267066   0.28037002 0.28096941 0.287022\n",
      " 0.26408357 0.25333801 0.24183224 0.24849887 0.23199311 0.24360123\n",
      " 0.26308941 0.27827096 0.27637604 0.27568883]\n",
      "3 day output [[0.27620685]]\n",
      "4 day input [0.88160896 0.88136036 0.8836265  0.86951836 0.86210612 0.85301265\n",
      " 0.81846608 0.79766205 0.77978208 0.77801305 0.77946048 0.77416804\n",
      " 0.74782323 0.75731146 0.73554257 0.74294018 0.73181454 0.56990035\n",
      " 0.55476886 0.52446206 0.51463756 0.554111   0.55068993 0.61323344\n",
      " 0.65707818 0.61665446 0.58174239 0.58842365 0.57662547 0.57871609\n",
      " 0.59240023 0.58272189 0.5608507  0.56854072 0.58446165 0.57074828\n",
      " 0.55406714 0.56082148 0.54048534 0.52598249 0.55897937 0.56010508\n",
      " 0.56554364 0.55343845 0.54435958 0.52687432 0.51760538 0.50083647\n",
      " 0.48840965 0.51330715 0.51035393 0.4863044  0.47269338 0.49131898\n",
      " 0.51146505 0.53174269 0.54519292 0.53640641 0.54858472 0.5362602\n",
      " 0.53804382 0.53532456 0.54213738 0.56159632 0.54646483 0.53640641\n",
      " 0.534769   0.56112848 0.54453501 0.52728367 0.51821938 0.50905279\n",
      " 0.49753239 0.49183068 0.50108499 0.4874886  0.4827079  0.49842417\n",
      " 0.31944871 0.30779674 0.3038494  0.29564769 0.2788203  0.26440518\n",
      " 0.28045773 0.267066   0.28037002 0.28096941 0.287022   0.26408357\n",
      " 0.25333801 0.24183224 0.24849887 0.23199311 0.24360123 0.26308941\n",
      " 0.27827096 0.27637604 0.27568883 0.27620685]\n",
      "4 day output [[0.27770826]]\n",
      "5 day input [0.88136036 0.8836265  0.86951836 0.86210612 0.85301265 0.81846608\n",
      " 0.79766205 0.77978208 0.77801305 0.77946048 0.77416804 0.74782323\n",
      " 0.75731146 0.73554257 0.74294018 0.73181454 0.56990035 0.55476886\n",
      " 0.52446206 0.51463756 0.554111   0.55068993 0.61323344 0.65707818\n",
      " 0.61665446 0.58174239 0.58842365 0.57662547 0.57871609 0.59240023\n",
      " 0.58272189 0.5608507  0.56854072 0.58446165 0.57074828 0.55406714\n",
      " 0.56082148 0.54048534 0.52598249 0.55897937 0.56010508 0.56554364\n",
      " 0.55343845 0.54435958 0.52687432 0.51760538 0.50083647 0.48840965\n",
      " 0.51330715 0.51035393 0.4863044  0.47269338 0.49131898 0.51146505\n",
      " 0.53174269 0.54519292 0.53640641 0.54858472 0.5362602  0.53804382\n",
      " 0.53532456 0.54213738 0.56159632 0.54646483 0.53640641 0.534769\n",
      " 0.56112848 0.54453501 0.52728367 0.51821938 0.50905279 0.49753239\n",
      " 0.49183068 0.50108499 0.4874886  0.4827079  0.49842417 0.31944871\n",
      " 0.30779674 0.3038494  0.29564769 0.2788203  0.26440518 0.28045773\n",
      " 0.267066   0.28037002 0.28096941 0.287022   0.26408357 0.25333801\n",
      " 0.24183224 0.24849887 0.23199311 0.24360123 0.26308941 0.27827096\n",
      " 0.27637604 0.27568883 0.27620685 0.27770826]\n",
      "5 day output [[0.27986997]]\n",
      "6 day input [0.8836265  0.86951836 0.86210612 0.85301265 0.81846608 0.79766205\n",
      " 0.77978208 0.77801305 0.77946048 0.77416804 0.74782323 0.75731146\n",
      " 0.73554257 0.74294018 0.73181454 0.56990035 0.55476886 0.52446206\n",
      " 0.51463756 0.554111   0.55068993 0.61323344 0.65707818 0.61665446\n",
      " 0.58174239 0.58842365 0.57662547 0.57871609 0.59240023 0.58272189\n",
      " 0.5608507  0.56854072 0.58446165 0.57074828 0.55406714 0.56082148\n",
      " 0.54048534 0.52598249 0.55897937 0.56010508 0.56554364 0.55343845\n",
      " 0.54435958 0.52687432 0.51760538 0.50083647 0.48840965 0.51330715\n",
      " 0.51035393 0.4863044  0.47269338 0.49131898 0.51146505 0.53174269\n",
      " 0.54519292 0.53640641 0.54858472 0.5362602  0.53804382 0.53532456\n",
      " 0.54213738 0.56159632 0.54646483 0.53640641 0.534769   0.56112848\n",
      " 0.54453501 0.52728367 0.51821938 0.50905279 0.49753239 0.49183068\n",
      " 0.50108499 0.4874886  0.4827079  0.49842417 0.31944871 0.30779674\n",
      " 0.3038494  0.29564769 0.2788203  0.26440518 0.28045773 0.267066\n",
      " 0.28037002 0.28096941 0.287022   0.26408357 0.25333801 0.24183224\n",
      " 0.24849887 0.23199311 0.24360123 0.26308941 0.27827096 0.27637604\n",
      " 0.27568883 0.27620685 0.27770826 0.27986997]\n",
      "6 day output [[0.282367]]\n",
      "7 day input [0.86951836 0.86210612 0.85301265 0.81846608 0.79766205 0.77978208\n",
      " 0.77801305 0.77946048 0.77416804 0.74782323 0.75731146 0.73554257\n",
      " 0.74294018 0.73181454 0.56990035 0.55476886 0.52446206 0.51463756\n",
      " 0.554111   0.55068993 0.61323344 0.65707818 0.61665446 0.58174239\n",
      " 0.58842365 0.57662547 0.57871609 0.59240023 0.58272189 0.5608507\n",
      " 0.56854072 0.58446165 0.57074828 0.55406714 0.56082148 0.54048534\n",
      " 0.52598249 0.55897937 0.56010508 0.56554364 0.55343845 0.54435958\n",
      " 0.52687432 0.51760538 0.50083647 0.48840965 0.51330715 0.51035393\n",
      " 0.4863044  0.47269338 0.49131898 0.51146505 0.53174269 0.54519292\n",
      " 0.53640641 0.54858472 0.5362602  0.53804382 0.53532456 0.54213738\n",
      " 0.56159632 0.54646483 0.53640641 0.534769   0.56112848 0.54453501\n",
      " 0.52728367 0.51821938 0.50905279 0.49753239 0.49183068 0.50108499\n",
      " 0.4874886  0.4827079  0.49842417 0.31944871 0.30779674 0.3038494\n",
      " 0.29564769 0.2788203  0.26440518 0.28045773 0.267066   0.28037002\n",
      " 0.28096941 0.287022   0.26408357 0.25333801 0.24183224 0.24849887\n",
      " 0.23199311 0.24360123 0.26308941 0.27827096 0.27637604 0.27568883\n",
      " 0.27620685 0.27770826 0.27986997 0.28236699]\n",
      "7 day output [[0.2849329]]\n",
      "8 day input [0.86210612 0.85301265 0.81846608 0.79766205 0.77978208 0.77801305\n",
      " 0.77946048 0.77416804 0.74782323 0.75731146 0.73554257 0.74294018\n",
      " 0.73181454 0.56990035 0.55476886 0.52446206 0.51463756 0.554111\n",
      " 0.55068993 0.61323344 0.65707818 0.61665446 0.58174239 0.58842365\n",
      " 0.57662547 0.57871609 0.59240023 0.58272189 0.5608507  0.56854072\n",
      " 0.58446165 0.57074828 0.55406714 0.56082148 0.54048534 0.52598249\n",
      " 0.55897937 0.56010508 0.56554364 0.55343845 0.54435958 0.52687432\n",
      " 0.51760538 0.50083647 0.48840965 0.51330715 0.51035393 0.4863044\n",
      " 0.47269338 0.49131898 0.51146505 0.53174269 0.54519292 0.53640641\n",
      " 0.54858472 0.5362602  0.53804382 0.53532456 0.54213738 0.56159632\n",
      " 0.54646483 0.53640641 0.534769   0.56112848 0.54453501 0.52728367\n",
      " 0.51821938 0.50905279 0.49753239 0.49183068 0.50108499 0.4874886\n",
      " 0.4827079  0.49842417 0.31944871 0.30779674 0.3038494  0.29564769\n",
      " 0.2788203  0.26440518 0.28045773 0.267066   0.28037002 0.28096941\n",
      " 0.287022   0.26408357 0.25333801 0.24183224 0.24849887 0.23199311\n",
      " 0.24360123 0.26308941 0.27827096 0.27637604 0.27568883 0.27620685\n",
      " 0.27770826 0.27986997 0.28236699 0.28493291]\n",
      "8 day output [[0.28738457]]\n",
      "9 day input [0.85301265 0.81846608 0.79766205 0.77978208 0.77801305 0.77946048\n",
      " 0.77416804 0.74782323 0.75731146 0.73554257 0.74294018 0.73181454\n",
      " 0.56990035 0.55476886 0.52446206 0.51463756 0.554111   0.55068993\n",
      " 0.61323344 0.65707818 0.61665446 0.58174239 0.58842365 0.57662547\n",
      " 0.57871609 0.59240023 0.58272189 0.5608507  0.56854072 0.58446165\n",
      " 0.57074828 0.55406714 0.56082148 0.54048534 0.52598249 0.55897937\n",
      " 0.56010508 0.56554364 0.55343845 0.54435958 0.52687432 0.51760538\n",
      " 0.50083647 0.48840965 0.51330715 0.51035393 0.4863044  0.47269338\n",
      " 0.49131898 0.51146505 0.53174269 0.54519292 0.53640641 0.54858472\n",
      " 0.5362602  0.53804382 0.53532456 0.54213738 0.56159632 0.54646483\n",
      " 0.53640641 0.534769   0.56112848 0.54453501 0.52728367 0.51821938\n",
      " 0.50905279 0.49753239 0.49183068 0.50108499 0.4874886  0.4827079\n",
      " 0.49842417 0.31944871 0.30779674 0.3038494  0.29564769 0.2788203\n",
      " 0.26440518 0.28045773 0.267066   0.28037002 0.28096941 0.287022\n",
      " 0.26408357 0.25333801 0.24183224 0.24849887 0.23199311 0.24360123\n",
      " 0.26308941 0.27827096 0.27637604 0.27568883 0.27620685 0.27770826\n",
      " 0.27986997 0.28236699 0.28493291 0.28738457]\n",
      "9 day output [[0.28961903]]\n",
      "10 day input [0.81846608 0.79766205 0.77978208 0.77801305 0.77946048 0.77416804\n",
      " 0.74782323 0.75731146 0.73554257 0.74294018 0.73181454 0.56990035\n",
      " 0.55476886 0.52446206 0.51463756 0.554111   0.55068993 0.61323344\n",
      " 0.65707818 0.61665446 0.58174239 0.58842365 0.57662547 0.57871609\n",
      " 0.59240023 0.58272189 0.5608507  0.56854072 0.58446165 0.57074828\n",
      " 0.55406714 0.56082148 0.54048534 0.52598249 0.55897937 0.56010508\n",
      " 0.56554364 0.55343845 0.54435958 0.52687432 0.51760538 0.50083647\n",
      " 0.48840965 0.51330715 0.51035393 0.4863044  0.47269338 0.49131898\n",
      " 0.51146505 0.53174269 0.54519292 0.53640641 0.54858472 0.5362602\n",
      " 0.53804382 0.53532456 0.54213738 0.56159632 0.54646483 0.53640641\n",
      " 0.534769   0.56112848 0.54453501 0.52728367 0.51821938 0.50905279\n",
      " 0.49753239 0.49183068 0.50108499 0.4874886  0.4827079  0.49842417\n",
      " 0.31944871 0.30779674 0.3038494  0.29564769 0.2788203  0.26440518\n",
      " 0.28045773 0.267066   0.28037002 0.28096941 0.287022   0.26408357\n",
      " 0.25333801 0.24183224 0.24849887 0.23199311 0.24360123 0.26308941\n",
      " 0.27827096 0.27637604 0.27568883 0.27620685 0.27770826 0.27986997\n",
      " 0.28236699 0.28493291 0.28738457 0.28961903]\n",
      "10 day output [[0.2915968]]\n",
      "11 day input [0.79766205 0.77978208 0.77801305 0.77946048 0.77416804 0.74782323\n",
      " 0.75731146 0.73554257 0.74294018 0.73181454 0.56990035 0.55476886\n",
      " 0.52446206 0.51463756 0.554111   0.55068993 0.61323344 0.65707818\n",
      " 0.61665446 0.58174239 0.58842365 0.57662547 0.57871609 0.59240023\n",
      " 0.58272189 0.5608507  0.56854072 0.58446165 0.57074828 0.55406714\n",
      " 0.56082148 0.54048534 0.52598249 0.55897937 0.56010508 0.56554364\n",
      " 0.55343845 0.54435958 0.52687432 0.51760538 0.50083647 0.48840965\n",
      " 0.51330715 0.51035393 0.4863044  0.47269338 0.49131898 0.51146505\n",
      " 0.53174269 0.54519292 0.53640641 0.54858472 0.5362602  0.53804382\n",
      " 0.53532456 0.54213738 0.56159632 0.54646483 0.53640641 0.534769\n",
      " 0.56112848 0.54453501 0.52728367 0.51821938 0.50905279 0.49753239\n",
      " 0.49183068 0.50108499 0.4874886  0.4827079  0.49842417 0.31944871\n",
      " 0.30779674 0.3038494  0.29564769 0.2788203  0.26440518 0.28045773\n",
      " 0.267066   0.28037002 0.28096941 0.287022   0.26408357 0.25333801\n",
      " 0.24183224 0.24849887 0.23199311 0.24360123 0.26308941 0.27827096\n",
      " 0.27637604 0.27568883 0.27620685 0.27770826 0.27986997 0.28236699\n",
      " 0.28493291 0.28738457 0.28961903 0.2915968 ]\n",
      "11 day output [[0.29332033]]\n",
      "12 day input [0.77978208 0.77801305 0.77946048 0.77416804 0.74782323 0.75731146\n",
      " 0.73554257 0.74294018 0.73181454 0.56990035 0.55476886 0.52446206\n",
      " 0.51463756 0.554111   0.55068993 0.61323344 0.65707818 0.61665446\n",
      " 0.58174239 0.58842365 0.57662547 0.57871609 0.59240023 0.58272189\n",
      " 0.5608507  0.56854072 0.58446165 0.57074828 0.55406714 0.56082148\n",
      " 0.54048534 0.52598249 0.55897937 0.56010508 0.56554364 0.55343845\n",
      " 0.54435958 0.52687432 0.51760538 0.50083647 0.48840965 0.51330715\n",
      " 0.51035393 0.4863044  0.47269338 0.49131898 0.51146505 0.53174269\n",
      " 0.54519292 0.53640641 0.54858472 0.5362602  0.53804382 0.53532456\n",
      " 0.54213738 0.56159632 0.54646483 0.53640641 0.534769   0.56112848\n",
      " 0.54453501 0.52728367 0.51821938 0.50905279 0.49753239 0.49183068\n",
      " 0.50108499 0.4874886  0.4827079  0.49842417 0.31944871 0.30779674\n",
      " 0.3038494  0.29564769 0.2788203  0.26440518 0.28045773 0.267066\n",
      " 0.28037002 0.28096941 0.287022   0.26408357 0.25333801 0.24183224\n",
      " 0.24849887 0.23199311 0.24360123 0.26308941 0.27827096 0.27637604\n",
      " 0.27568883 0.27620685 0.27770826 0.27986997 0.28236699 0.28493291\n",
      " 0.28738457 0.28961903 0.2915968  0.29332033]\n",
      "12 day output [[0.2948152]]\n",
      "13 day input [0.77801305 0.77946048 0.77416804 0.74782323 0.75731146 0.73554257\n",
      " 0.74294018 0.73181454 0.56990035 0.55476886 0.52446206 0.51463756\n",
      " 0.554111   0.55068993 0.61323344 0.65707818 0.61665446 0.58174239\n",
      " 0.58842365 0.57662547 0.57871609 0.59240023 0.58272189 0.5608507\n",
      " 0.56854072 0.58446165 0.57074828 0.55406714 0.56082148 0.54048534\n",
      " 0.52598249 0.55897937 0.56010508 0.56554364 0.55343845 0.54435958\n",
      " 0.52687432 0.51760538 0.50083647 0.48840965 0.51330715 0.51035393\n",
      " 0.4863044  0.47269338 0.49131898 0.51146505 0.53174269 0.54519292\n",
      " 0.53640641 0.54858472 0.5362602  0.53804382 0.53532456 0.54213738\n",
      " 0.56159632 0.54646483 0.53640641 0.534769   0.56112848 0.54453501\n",
      " 0.52728367 0.51821938 0.50905279 0.49753239 0.49183068 0.50108499\n",
      " 0.4874886  0.4827079  0.49842417 0.31944871 0.30779674 0.3038494\n",
      " 0.29564769 0.2788203  0.26440518 0.28045773 0.267066   0.28037002\n",
      " 0.28096941 0.287022   0.26408357 0.25333801 0.24183224 0.24849887\n",
      " 0.23199311 0.24360123 0.26308941 0.27827096 0.27637604 0.27568883\n",
      " 0.27620685 0.27770826 0.27986997 0.28236699 0.28493291 0.28738457\n",
      " 0.28961903 0.2915968  0.29332033 0.29481521]\n",
      "13 day output [[0.29611626]]\n",
      "14 day input [0.77946048 0.77416804 0.74782323 0.75731146 0.73554257 0.74294018\n",
      " 0.73181454 0.56990035 0.55476886 0.52446206 0.51463756 0.554111\n",
      " 0.55068993 0.61323344 0.65707818 0.61665446 0.58174239 0.58842365\n",
      " 0.57662547 0.57871609 0.59240023 0.58272189 0.5608507  0.56854072\n",
      " 0.58446165 0.57074828 0.55406714 0.56082148 0.54048534 0.52598249\n",
      " 0.55897937 0.56010508 0.56554364 0.55343845 0.54435958 0.52687432\n",
      " 0.51760538 0.50083647 0.48840965 0.51330715 0.51035393 0.4863044\n",
      " 0.47269338 0.49131898 0.51146505 0.53174269 0.54519292 0.53640641\n",
      " 0.54858472 0.5362602  0.53804382 0.53532456 0.54213738 0.56159632\n",
      " 0.54646483 0.53640641 0.534769   0.56112848 0.54453501 0.52728367\n",
      " 0.51821938 0.50905279 0.49753239 0.49183068 0.50108499 0.4874886\n",
      " 0.4827079  0.49842417 0.31944871 0.30779674 0.3038494  0.29564769\n",
      " 0.2788203  0.26440518 0.28045773 0.267066   0.28037002 0.28096941\n",
      " 0.287022   0.26408357 0.25333801 0.24183224 0.24849887 0.23199311\n",
      " 0.24360123 0.26308941 0.27827096 0.27637604 0.27568883 0.27620685\n",
      " 0.27770826 0.27986997 0.28236699 0.28493291 0.28738457 0.28961903\n",
      " 0.2915968  0.29332033 0.29481521 0.29611626]\n",
      "14 day output [[0.29725882]]\n",
      "15 day input [0.77416804 0.74782323 0.75731146 0.73554257 0.74294018 0.73181454\n",
      " 0.56990035 0.55476886 0.52446206 0.51463756 0.554111   0.55068993\n",
      " 0.61323344 0.65707818 0.61665446 0.58174239 0.58842365 0.57662547\n",
      " 0.57871609 0.59240023 0.58272189 0.5608507  0.56854072 0.58446165\n",
      " 0.57074828 0.55406714 0.56082148 0.54048534 0.52598249 0.55897937\n",
      " 0.56010508 0.56554364 0.55343845 0.54435958 0.52687432 0.51760538\n",
      " 0.50083647 0.48840965 0.51330715 0.51035393 0.4863044  0.47269338\n",
      " 0.49131898 0.51146505 0.53174269 0.54519292 0.53640641 0.54858472\n",
      " 0.5362602  0.53804382 0.53532456 0.54213738 0.56159632 0.54646483\n",
      " 0.53640641 0.534769   0.56112848 0.54453501 0.52728367 0.51821938\n",
      " 0.50905279 0.49753239 0.49183068 0.50108499 0.4874886  0.4827079\n",
      " 0.49842417 0.31944871 0.30779674 0.3038494  0.29564769 0.2788203\n",
      " 0.26440518 0.28045773 0.267066   0.28037002 0.28096941 0.287022\n",
      " 0.26408357 0.25333801 0.24183224 0.24849887 0.23199311 0.24360123\n",
      " 0.26308941 0.27827096 0.27637604 0.27568883 0.27620685 0.27770826\n",
      " 0.27986997 0.28236699 0.28493291 0.28738457 0.28961903 0.2915968\n",
      " 0.29332033 0.29481521 0.29611626 0.29725882]\n",
      "15 day output [[0.29827482]]\n",
      "16 day input [0.74782323 0.75731146 0.73554257 0.74294018 0.73181454 0.56990035\n",
      " 0.55476886 0.52446206 0.51463756 0.554111   0.55068993 0.61323344\n",
      " 0.65707818 0.61665446 0.58174239 0.58842365 0.57662547 0.57871609\n",
      " 0.59240023 0.58272189 0.5608507  0.56854072 0.58446165 0.57074828\n",
      " 0.55406714 0.56082148 0.54048534 0.52598249 0.55897937 0.56010508\n",
      " 0.56554364 0.55343845 0.54435958 0.52687432 0.51760538 0.50083647\n",
      " 0.48840965 0.51330715 0.51035393 0.4863044  0.47269338 0.49131898\n",
      " 0.51146505 0.53174269 0.54519292 0.53640641 0.54858472 0.5362602\n",
      " 0.53804382 0.53532456 0.54213738 0.56159632 0.54646483 0.53640641\n",
      " 0.534769   0.56112848 0.54453501 0.52728367 0.51821938 0.50905279\n",
      " 0.49753239 0.49183068 0.50108499 0.4874886  0.4827079  0.49842417\n",
      " 0.31944871 0.30779674 0.3038494  0.29564769 0.2788203  0.26440518\n",
      " 0.28045773 0.267066   0.28037002 0.28096941 0.287022   0.26408357\n",
      " 0.25333801 0.24183224 0.24849887 0.23199311 0.24360123 0.26308941\n",
      " 0.27827096 0.27637604 0.27568883 0.27620685 0.27770826 0.27986997\n",
      " 0.28236699 0.28493291 0.28738457 0.28961903 0.2915968  0.29332033\n",
      " 0.29481521 0.29611626 0.29725882 0.29827482]\n",
      "16 day output [[0.29919112]]\n",
      "17 day input [0.75731146 0.73554257 0.74294018 0.73181454 0.56990035 0.55476886\n",
      " 0.52446206 0.51463756 0.554111   0.55068993 0.61323344 0.65707818\n",
      " 0.61665446 0.58174239 0.58842365 0.57662547 0.57871609 0.59240023\n",
      " 0.58272189 0.5608507  0.56854072 0.58446165 0.57074828 0.55406714\n",
      " 0.56082148 0.54048534 0.52598249 0.55897937 0.56010508 0.56554364\n",
      " 0.55343845 0.54435958 0.52687432 0.51760538 0.50083647 0.48840965\n",
      " 0.51330715 0.51035393 0.4863044  0.47269338 0.49131898 0.51146505\n",
      " 0.53174269 0.54519292 0.53640641 0.54858472 0.5362602  0.53804382\n",
      " 0.53532456 0.54213738 0.56159632 0.54646483 0.53640641 0.534769\n",
      " 0.56112848 0.54453501 0.52728367 0.51821938 0.50905279 0.49753239\n",
      " 0.49183068 0.50108499 0.4874886  0.4827079  0.49842417 0.31944871\n",
      " 0.30779674 0.3038494  0.29564769 0.2788203  0.26440518 0.28045773\n",
      " 0.267066   0.28037002 0.28096941 0.287022   0.26408357 0.25333801\n",
      " 0.24183224 0.24849887 0.23199311 0.24360123 0.26308941 0.27827096\n",
      " 0.27637604 0.27568883 0.27620685 0.27770826 0.27986997 0.28236699\n",
      " 0.28493291 0.28738457 0.28961903 0.2915968  0.29332033 0.29481521\n",
      " 0.29611626 0.29725882 0.29827482 0.29919112]\n",
      "17 day output [[0.30003023]]\n",
      "18 day input [0.73554257 0.74294018 0.73181454 0.56990035 0.55476886 0.52446206\n",
      " 0.51463756 0.554111   0.55068993 0.61323344 0.65707818 0.61665446\n",
      " 0.58174239 0.58842365 0.57662547 0.57871609 0.59240023 0.58272189\n",
      " 0.5608507  0.56854072 0.58446165 0.57074828 0.55406714 0.56082148\n",
      " 0.54048534 0.52598249 0.55897937 0.56010508 0.56554364 0.55343845\n",
      " 0.54435958 0.52687432 0.51760538 0.50083647 0.48840965 0.51330715\n",
      " 0.51035393 0.4863044  0.47269338 0.49131898 0.51146505 0.53174269\n",
      " 0.54519292 0.53640641 0.54858472 0.5362602  0.53804382 0.53532456\n",
      " 0.54213738 0.56159632 0.54646483 0.53640641 0.534769   0.56112848\n",
      " 0.54453501 0.52728367 0.51821938 0.50905279 0.49753239 0.49183068\n",
      " 0.50108499 0.4874886  0.4827079  0.49842417 0.31944871 0.30779674\n",
      " 0.3038494  0.29564769 0.2788203  0.26440518 0.28045773 0.267066\n",
      " 0.28037002 0.28096941 0.287022   0.26408357 0.25333801 0.24183224\n",
      " 0.24849887 0.23199311 0.24360123 0.26308941 0.27827096 0.27637604\n",
      " 0.27568883 0.27620685 0.27770826 0.27986997 0.28236699 0.28493291\n",
      " 0.28738457 0.28961903 0.2915968  0.29332033 0.29481521 0.29611626\n",
      " 0.29725882 0.29827482 0.29919112 0.30003023]\n",
      "18 day output [[0.3008108]]\n",
      "19 day input [0.74294018 0.73181454 0.56990035 0.55476886 0.52446206 0.51463756\n",
      " 0.554111   0.55068993 0.61323344 0.65707818 0.61665446 0.58174239\n",
      " 0.58842365 0.57662547 0.57871609 0.59240023 0.58272189 0.5608507\n",
      " 0.56854072 0.58446165 0.57074828 0.55406714 0.56082148 0.54048534\n",
      " 0.52598249 0.55897937 0.56010508 0.56554364 0.55343845 0.54435958\n",
      " 0.52687432 0.51760538 0.50083647 0.48840965 0.51330715 0.51035393\n",
      " 0.4863044  0.47269338 0.49131898 0.51146505 0.53174269 0.54519292\n",
      " 0.53640641 0.54858472 0.5362602  0.53804382 0.53532456 0.54213738\n",
      " 0.56159632 0.54646483 0.53640641 0.534769   0.56112848 0.54453501\n",
      " 0.52728367 0.51821938 0.50905279 0.49753239 0.49183068 0.50108499\n",
      " 0.4874886  0.4827079  0.49842417 0.31944871 0.30779674 0.3038494\n",
      " 0.29564769 0.2788203  0.26440518 0.28045773 0.267066   0.28037002\n",
      " 0.28096941 0.287022   0.26408357 0.25333801 0.24183224 0.24849887\n",
      " 0.23199311 0.24360123 0.26308941 0.27827096 0.27637604 0.27568883\n",
      " 0.27620685 0.27770826 0.27986997 0.28236699 0.28493291 0.28738457\n",
      " 0.28961903 0.2915968  0.29332033 0.29481521 0.29611626 0.29725882\n",
      " 0.29827482 0.29919112 0.30003023 0.30081081]\n",
      "19 day output [[0.3015487]]\n",
      "20 day input [0.73181454 0.56990035 0.55476886 0.52446206 0.51463756 0.554111\n",
      " 0.55068993 0.61323344 0.65707818 0.61665446 0.58174239 0.58842365\n",
      " 0.57662547 0.57871609 0.59240023 0.58272189 0.5608507  0.56854072\n",
      " 0.58446165 0.57074828 0.55406714 0.56082148 0.54048534 0.52598249\n",
      " 0.55897937 0.56010508 0.56554364 0.55343845 0.54435958 0.52687432\n",
      " 0.51760538 0.50083647 0.48840965 0.51330715 0.51035393 0.4863044\n",
      " 0.47269338 0.49131898 0.51146505 0.53174269 0.54519292 0.53640641\n",
      " 0.54858472 0.5362602  0.53804382 0.53532456 0.54213738 0.56159632\n",
      " 0.54646483 0.53640641 0.534769   0.56112848 0.54453501 0.52728367\n",
      " 0.51821938 0.50905279 0.49753239 0.49183068 0.50108499 0.4874886\n",
      " 0.4827079  0.49842417 0.31944871 0.30779674 0.3038494  0.29564769\n",
      " 0.2788203  0.26440518 0.28045773 0.267066   0.28037002 0.28096941\n",
      " 0.287022   0.26408357 0.25333801 0.24183224 0.24849887 0.23199311\n",
      " 0.24360123 0.26308941 0.27827096 0.27637604 0.27568883 0.27620685\n",
      " 0.27770826 0.27986997 0.28236699 0.28493291 0.28738457 0.28961903\n",
      " 0.2915968  0.29332033 0.29481521 0.29611626 0.29725882 0.29827482\n",
      " 0.29919112 0.30003023 0.30081081 0.30154869]\n",
      "20 day output [[0.30225748]]\n",
      "21 day input [0.56990035 0.55476886 0.52446206 0.51463756 0.554111   0.55068993\n",
      " 0.61323344 0.65707818 0.61665446 0.58174239 0.58842365 0.57662547\n",
      " 0.57871609 0.59240023 0.58272189 0.5608507  0.56854072 0.58446165\n",
      " 0.57074828 0.55406714 0.56082148 0.54048534 0.52598249 0.55897937\n",
      " 0.56010508 0.56554364 0.55343845 0.54435958 0.52687432 0.51760538\n",
      " 0.50083647 0.48840965 0.51330715 0.51035393 0.4863044  0.47269338\n",
      " 0.49131898 0.51146505 0.53174269 0.54519292 0.53640641 0.54858472\n",
      " 0.5362602  0.53804382 0.53532456 0.54213738 0.56159632 0.54646483\n",
      " 0.53640641 0.534769   0.56112848 0.54453501 0.52728367 0.51821938\n",
      " 0.50905279 0.49753239 0.49183068 0.50108499 0.4874886  0.4827079\n",
      " 0.49842417 0.31944871 0.30779674 0.3038494  0.29564769 0.2788203\n",
      " 0.26440518 0.28045773 0.267066   0.28037002 0.28096941 0.287022\n",
      " 0.26408357 0.25333801 0.24183224 0.24849887 0.23199311 0.24360123\n",
      " 0.26308941 0.27827096 0.27637604 0.27568883 0.27620685 0.27770826\n",
      " 0.27986997 0.28236699 0.28493291 0.28738457 0.28961903 0.2915968\n",
      " 0.29332033 0.29481521 0.29611626 0.29725882 0.29827482 0.29919112\n",
      " 0.30003023 0.30081081 0.30154869 0.30225748]\n",
      "21 day output [[0.30294913]]\n",
      "22 day input [0.55476886 0.52446206 0.51463756 0.554111   0.55068993 0.61323344\n",
      " 0.65707818 0.61665446 0.58174239 0.58842365 0.57662547 0.57871609\n",
      " 0.59240023 0.58272189 0.5608507  0.56854072 0.58446165 0.57074828\n",
      " 0.55406714 0.56082148 0.54048534 0.52598249 0.55897937 0.56010508\n",
      " 0.56554364 0.55343845 0.54435958 0.52687432 0.51760538 0.50083647\n",
      " 0.48840965 0.51330715 0.51035393 0.4863044  0.47269338 0.49131898\n",
      " 0.51146505 0.53174269 0.54519292 0.53640641 0.54858472 0.5362602\n",
      " 0.53804382 0.53532456 0.54213738 0.56159632 0.54646483 0.53640641\n",
      " 0.534769   0.56112848 0.54453501 0.52728367 0.51821938 0.50905279\n",
      " 0.49753239 0.49183068 0.50108499 0.4874886  0.4827079  0.49842417\n",
      " 0.31944871 0.30779674 0.3038494  0.29564769 0.2788203  0.26440518\n",
      " 0.28045773 0.267066   0.28037002 0.28096941 0.287022   0.26408357\n",
      " 0.25333801 0.24183224 0.24849887 0.23199311 0.24360123 0.26308941\n",
      " 0.27827096 0.27637604 0.27568883 0.27620685 0.27770826 0.27986997\n",
      " 0.28236699 0.28493291 0.28738457 0.28961903 0.2915968  0.29332033\n",
      " 0.29481521 0.29611626 0.29725882 0.29827482 0.29919112 0.30003023\n",
      " 0.30081081 0.30154869 0.30225748 0.30294913]\n",
      "22 day output [[0.3036339]]\n",
      "23 day input [0.52446206 0.51463756 0.554111   0.55068993 0.61323344 0.65707818\n",
      " 0.61665446 0.58174239 0.58842365 0.57662547 0.57871609 0.59240023\n",
      " 0.58272189 0.5608507  0.56854072 0.58446165 0.57074828 0.55406714\n",
      " 0.56082148 0.54048534 0.52598249 0.55897937 0.56010508 0.56554364\n",
      " 0.55343845 0.54435958 0.52687432 0.51760538 0.50083647 0.48840965\n",
      " 0.51330715 0.51035393 0.4863044  0.47269338 0.49131898 0.51146505\n",
      " 0.53174269 0.54519292 0.53640641 0.54858472 0.5362602  0.53804382\n",
      " 0.53532456 0.54213738 0.56159632 0.54646483 0.53640641 0.534769\n",
      " 0.56112848 0.54453501 0.52728367 0.51821938 0.50905279 0.49753239\n",
      " 0.49183068 0.50108499 0.4874886  0.4827079  0.49842417 0.31944871\n",
      " 0.30779674 0.3038494  0.29564769 0.2788203  0.26440518 0.28045773\n",
      " 0.267066   0.28037002 0.28096941 0.287022   0.26408357 0.25333801\n",
      " 0.24183224 0.24849887 0.23199311 0.24360123 0.26308941 0.27827096\n",
      " 0.27637604 0.27568883 0.27620685 0.27770826 0.27986997 0.28236699\n",
      " 0.28493291 0.28738457 0.28961903 0.2915968  0.29332033 0.29481521\n",
      " 0.29611626 0.29725882 0.29827482 0.29919112 0.30003023 0.30081081\n",
      " 0.30154869 0.30225748 0.30294913 0.3036339 ]\n",
      "23 day output [[0.30432057]]\n",
      "24 day input [0.51463756 0.554111   0.55068993 0.61323344 0.65707818 0.61665446\n",
      " 0.58174239 0.58842365 0.57662547 0.57871609 0.59240023 0.58272189\n",
      " 0.5608507  0.56854072 0.58446165 0.57074828 0.55406714 0.56082148\n",
      " 0.54048534 0.52598249 0.55897937 0.56010508 0.56554364 0.55343845\n",
      " 0.54435958 0.52687432 0.51760538 0.50083647 0.48840965 0.51330715\n",
      " 0.51035393 0.4863044  0.47269338 0.49131898 0.51146505 0.53174269\n",
      " 0.54519292 0.53640641 0.54858472 0.5362602  0.53804382 0.53532456\n",
      " 0.54213738 0.56159632 0.54646483 0.53640641 0.534769   0.56112848\n",
      " 0.54453501 0.52728367 0.51821938 0.50905279 0.49753239 0.49183068\n",
      " 0.50108499 0.4874886  0.4827079  0.49842417 0.31944871 0.30779674\n",
      " 0.3038494  0.29564769 0.2788203  0.26440518 0.28045773 0.267066\n",
      " 0.28037002 0.28096941 0.287022   0.26408357 0.25333801 0.24183224\n",
      " 0.24849887 0.23199311 0.24360123 0.26308941 0.27827096 0.27637604\n",
      " 0.27568883 0.27620685 0.27770826 0.27986997 0.28236699 0.28493291\n",
      " 0.28738457 0.28961903 0.2915968  0.29332033 0.29481521 0.29611626\n",
      " 0.29725882 0.29827482 0.29919112 0.30003023 0.30081081 0.30154869\n",
      " 0.30225748 0.30294913 0.3036339  0.30432057]\n",
      "24 day output [[0.30501652]]\n",
      "25 day input [0.554111   0.55068993 0.61323344 0.65707818 0.61665446 0.58174239\n",
      " 0.58842365 0.57662547 0.57871609 0.59240023 0.58272189 0.5608507\n",
      " 0.56854072 0.58446165 0.57074828 0.55406714 0.56082148 0.54048534\n",
      " 0.52598249 0.55897937 0.56010508 0.56554364 0.55343845 0.54435958\n",
      " 0.52687432 0.51760538 0.50083647 0.48840965 0.51330715 0.51035393\n",
      " 0.4863044  0.47269338 0.49131898 0.51146505 0.53174269 0.54519292\n",
      " 0.53640641 0.54858472 0.5362602  0.53804382 0.53532456 0.54213738\n",
      " 0.56159632 0.54646483 0.53640641 0.534769   0.56112848 0.54453501\n",
      " 0.52728367 0.51821938 0.50905279 0.49753239 0.49183068 0.50108499\n",
      " 0.4874886  0.4827079  0.49842417 0.31944871 0.30779674 0.3038494\n",
      " 0.29564769 0.2788203  0.26440518 0.28045773 0.267066   0.28037002\n",
      " 0.28096941 0.287022   0.26408357 0.25333801 0.24183224 0.24849887\n",
      " 0.23199311 0.24360123 0.26308941 0.27827096 0.27637604 0.27568883\n",
      " 0.27620685 0.27770826 0.27986997 0.28236699 0.28493291 0.28738457\n",
      " 0.28961903 0.2915968  0.29332033 0.29481521 0.29611626 0.29725882\n",
      " 0.29827482 0.29919112 0.30003023 0.30081081 0.30154869 0.30225748\n",
      " 0.30294913 0.3036339  0.30432057 0.30501652]\n",
      "25 day output [[0.3057276]]\n",
      "26 day input [0.55068993 0.61323344 0.65707818 0.61665446 0.58174239 0.58842365\n",
      " 0.57662547 0.57871609 0.59240023 0.58272189 0.5608507  0.56854072\n",
      " 0.58446165 0.57074828 0.55406714 0.56082148 0.54048534 0.52598249\n",
      " 0.55897937 0.56010508 0.56554364 0.55343845 0.54435958 0.52687432\n",
      " 0.51760538 0.50083647 0.48840965 0.51330715 0.51035393 0.4863044\n",
      " 0.47269338 0.49131898 0.51146505 0.53174269 0.54519292 0.53640641\n",
      " 0.54858472 0.5362602  0.53804382 0.53532456 0.54213738 0.56159632\n",
      " 0.54646483 0.53640641 0.534769   0.56112848 0.54453501 0.52728367\n",
      " 0.51821938 0.50905279 0.49753239 0.49183068 0.50108499 0.4874886\n",
      " 0.4827079  0.49842417 0.31944871 0.30779674 0.3038494  0.29564769\n",
      " 0.2788203  0.26440518 0.28045773 0.267066   0.28037002 0.28096941\n",
      " 0.287022   0.26408357 0.25333801 0.24183224 0.24849887 0.23199311\n",
      " 0.24360123 0.26308941 0.27827096 0.27637604 0.27568883 0.27620685\n",
      " 0.27770826 0.27986997 0.28236699 0.28493291 0.28738457 0.28961903\n",
      " 0.2915968  0.29332033 0.29481521 0.29611626 0.29725882 0.29827482\n",
      " 0.29919112 0.30003023 0.30081081 0.30154869 0.30225748 0.30294913\n",
      " 0.3036339  0.30432057 0.30501652 0.3057276 ]\n",
      "26 day output [[0.30645826]]\n",
      "27 day input [0.61323344 0.65707818 0.61665446 0.58174239 0.58842365 0.57662547\n",
      " 0.57871609 0.59240023 0.58272189 0.5608507  0.56854072 0.58446165\n",
      " 0.57074828 0.55406714 0.56082148 0.54048534 0.52598249 0.55897937\n",
      " 0.56010508 0.56554364 0.55343845 0.54435958 0.52687432 0.51760538\n",
      " 0.50083647 0.48840965 0.51330715 0.51035393 0.4863044  0.47269338\n",
      " 0.49131898 0.51146505 0.53174269 0.54519292 0.53640641 0.54858472\n",
      " 0.5362602  0.53804382 0.53532456 0.54213738 0.56159632 0.54646483\n",
      " 0.53640641 0.534769   0.56112848 0.54453501 0.52728367 0.51821938\n",
      " 0.50905279 0.49753239 0.49183068 0.50108499 0.4874886  0.4827079\n",
      " 0.49842417 0.31944871 0.30779674 0.3038494  0.29564769 0.2788203\n",
      " 0.26440518 0.28045773 0.267066   0.28037002 0.28096941 0.287022\n",
      " 0.26408357 0.25333801 0.24183224 0.24849887 0.23199311 0.24360123\n",
      " 0.26308941 0.27827096 0.27637604 0.27568883 0.27620685 0.27770826\n",
      " 0.27986997 0.28236699 0.28493291 0.28738457 0.28961903 0.2915968\n",
      " 0.29332033 0.29481521 0.29611626 0.29725882 0.29827482 0.29919112\n",
      " 0.30003023 0.30081081 0.30154869 0.30225748 0.30294913 0.3036339\n",
      " 0.30432057 0.30501652 0.3057276  0.30645826]\n",
      "27 day output [[0.30721173]]\n",
      "28 day input [0.65707818 0.61665446 0.58174239 0.58842365 0.57662547 0.57871609\n",
      " 0.59240023 0.58272189 0.5608507  0.56854072 0.58446165 0.57074828\n",
      " 0.55406714 0.56082148 0.54048534 0.52598249 0.55897937 0.56010508\n",
      " 0.56554364 0.55343845 0.54435958 0.52687432 0.51760538 0.50083647\n",
      " 0.48840965 0.51330715 0.51035393 0.4863044  0.47269338 0.49131898\n",
      " 0.51146505 0.53174269 0.54519292 0.53640641 0.54858472 0.5362602\n",
      " 0.53804382 0.53532456 0.54213738 0.56159632 0.54646483 0.53640641\n",
      " 0.534769   0.56112848 0.54453501 0.52728367 0.51821938 0.50905279\n",
      " 0.49753239 0.49183068 0.50108499 0.4874886  0.4827079  0.49842417\n",
      " 0.31944871 0.30779674 0.3038494  0.29564769 0.2788203  0.26440518\n",
      " 0.28045773 0.267066   0.28037002 0.28096941 0.287022   0.26408357\n",
      " 0.25333801 0.24183224 0.24849887 0.23199311 0.24360123 0.26308941\n",
      " 0.27827096 0.27637604 0.27568883 0.27620685 0.27770826 0.27986997\n",
      " 0.28236699 0.28493291 0.28738457 0.28961903 0.2915968  0.29332033\n",
      " 0.29481521 0.29611626 0.29725882 0.29827482 0.29919112 0.30003023\n",
      " 0.30081081 0.30154869 0.30225748 0.30294913 0.3036339  0.30432057\n",
      " 0.30501652 0.3057276  0.30645826 0.30721173]\n",
      "28 day output [[0.30799]]\n",
      "29 day input [0.61665446 0.58174239 0.58842365 0.57662547 0.57871609 0.59240023\n",
      " 0.58272189 0.5608507  0.56854072 0.58446165 0.57074828 0.55406714\n",
      " 0.56082148 0.54048534 0.52598249 0.55897937 0.56010508 0.56554364\n",
      " 0.55343845 0.54435958 0.52687432 0.51760538 0.50083647 0.48840965\n",
      " 0.51330715 0.51035393 0.4863044  0.47269338 0.49131898 0.51146505\n",
      " 0.53174269 0.54519292 0.53640641 0.54858472 0.5362602  0.53804382\n",
      " 0.53532456 0.54213738 0.56159632 0.54646483 0.53640641 0.534769\n",
      " 0.56112848 0.54453501 0.52728367 0.51821938 0.50905279 0.49753239\n",
      " 0.49183068 0.50108499 0.4874886  0.4827079  0.49842417 0.31944871\n",
      " 0.30779674 0.3038494  0.29564769 0.2788203  0.26440518 0.28045773\n",
      " 0.267066   0.28037002 0.28096941 0.287022   0.26408357 0.25333801\n",
      " 0.24183224 0.24849887 0.23199311 0.24360123 0.26308941 0.27827096\n",
      " 0.27637604 0.27568883 0.27620685 0.27770826 0.27986997 0.28236699\n",
      " 0.28493291 0.28738457 0.28961903 0.2915968  0.29332033 0.29481521\n",
      " 0.29611626 0.29725882 0.29827482 0.29919112 0.30003023 0.30081081\n",
      " 0.30154869 0.30225748 0.30294913 0.3036339  0.30432057 0.30501652\n",
      " 0.3057276  0.30645826 0.30721173 0.30799001]\n",
      "29 day output [[0.30879387]]\n"
     ]
    }
   ],
   "source": [
    "# demonstrate prediction for next 10 days\n",
    "from numpy import array\n",
    "\n",
    "lst_output=[]\n",
    "n_steps=100\n",
    "i=0\n",
    "while(i<30):\n",
    "\n",
    "    if(len(temp_input)>100):\n",
    "        #print(temp_input)\n",
    "        x_input=np.array(temp_input[1:])\n",
    "        print(\"{} day input {}\".format(i,x_input))\n",
    "        x_input=x_input.reshape(1,-1)\n",
    "        x_input = x_input.reshape((1, n_steps, 1))\n",
    "        #print(x_input)\n",
    "        yhat = model.predict(x_input, verbose=0)\n",
    "        print(\"{} day output {}\".format(i,yhat))\n",
    "        temp_input.extend(yhat[0].tolist())\n",
    "        temp_input=temp_input[1:]\n",
    "        #print(temp_input)\n",
    "        lst_output.extend(yhat.tolist())\n",
    "        i=i+1\n",
    "    else:\n",
    "        x_input = x_input.reshape((1, n_steps,1))\n",
    "        yhat = model.predict(x_input, verbose=0)\n",
    "#         print(yhat[0])\n",
    "        temp_input.extend(yhat[0].tolist())\n",
    "#         print(len(temp_input))\n",
    "        lst_output.extend(yhat.tolist())\n",
    "        i=i+1\n",
    "\n",
    "\n",
    "# print(lst_output)"
   ],
   "metadata": {
    "collapsed": false,
    "pycharm": {
     "name": "#%%\n"
    }
   }
  },
  {
   "cell_type": "code",
   "execution_count": 30,
   "outputs": [],
   "source": [
    "day_new=np.arange(1,101)\n",
    "day_pred=np.arange(101,131)"
   ],
   "metadata": {
    "collapsed": false,
    "pycharm": {
     "name": "#%%\n"
    }
   }
  },
  {
   "cell_type": "code",
   "execution_count": 31,
   "outputs": [
    {
     "name": "stdout",
     "output_type": "stream",
     "text": [
      "[[187.63999939]]\n",
      "[[198.02424372]\n",
      " [196.72810959]\n",
      " [196.2580538 ]\n",
      " [196.61238442]\n",
      " [197.63935612]\n",
      " [199.11797602]\n",
      " [200.82594662]\n",
      " [202.58104715]\n",
      " [204.2579919 ]\n",
      " [205.78637139]\n",
      " [207.13917559]\n",
      " [208.31807607]\n",
      " [209.34058348]\n",
      " [210.23050738]\n",
      " [211.01202431]\n",
      " [211.70696649]\n",
      " [212.33372113]\n",
      " [212.90767883]\n",
      " [213.44160056]\n",
      " [213.9463107 ]\n",
      " [214.43112517]\n",
      " [214.9042183 ]\n",
      " [215.37260253]\n",
      " [215.84229138]\n",
      " [216.31831995]\n",
      " [216.80470405]\n",
      " [217.30448105]\n",
      " [217.8198525 ]\n",
      " [218.35220459]\n",
      " [218.90204694]]\n"
     ]
    }
   ],
   "source": [
    "len(df1)\n",
    "print(scaler.inverse_transform(df1[-1:]))\n",
    "print(scaler.inverse_transform(lst_output[0:]))"
   ],
   "metadata": {
    "collapsed": false,
    "pycharm": {
     "name": "#%%\n"
    }
   }
  },
  {
   "cell_type": "code",
   "execution_count": 32,
   "outputs": [
    {
     "data": {
      "text/plain": "[<matplotlib.lines.Line2D at 0x1d50b923eb0>]"
     },
     "execution_count": 32,
     "metadata": {},
     "output_type": "execute_result"
    },
    {
     "data": {
      "text/plain": "<Figure size 432x288 with 1 Axes>",
      "image/png": "[encoded data removed]"
     },
     "metadata": {
      "needs_background": "light"
     },
     "output_type": "display_data"
    }
   ],
   "source": [
    "plt.plot(day_new,scaler.inverse_transform(df1[len(df1)-100:]))\n",
    "plt.plot(day_pred,scaler.inverse_transform(lst_output))"
   ],
   "metadata": {
    "collapsed": false,
    "pycharm": {
     "name": "#%%\n"
    }
   }
  },
  {
   "cell_type": "code",
   "execution_count": 33,
   "outputs": [
    {
     "data": {
      "text/plain": "[<matplotlib.lines.Line2D at 0x1d508641fd0>]"
     },
     "execution_count": 33,
     "metadata": {},
     "output_type": "execute_result"
    },
    {
     "data": {
      "text/plain": "<Figure size 432x288 with 1 Axes>",
      "image/png": "[encoded data removed]"
     },
     "metadata": {
      "needs_background": "light"
     },
     "output_type": "display_data"
    }
   ],
   "source": [
    "df3=df1.tolist()\n",
    "df3.extend(lst_output)\n",
    "plt.plot(df3[1200:])"
   ],
   "metadata": {
    "collapsed": false,
    "pycharm": {
     "name": "#%%\n"
    }
   }
  },
  {
   "cell_type": "code",
   "execution_count": 34,
   "outputs": [],
   "source": [
    "df3=scaler.inverse_transform(df3).tolist()\n"
   ],
   "metadata": {
    "collapsed": false,
    "pycharm": {
     "name": "#%%\n"
    }
   }
  },
  {
   "cell_type": "code",
   "execution_count": 35,
   "outputs": [
    {
     "data": {
      "text/plain": "[<matplotlib.lines.Line2D at 0x1d50b98c790>]"
     },
     "execution_count": 35,
     "metadata": {},
     "output_type": "execute_result"
    },
    {
     "data": {
      "text/plain": "<Figure size 432x288 with 1 Axes>",
      "image/png": "[encoded data removed]"
     },
     "metadata": {
      "needs_background": "light"
     },
     "output_type": "display_data"
    }
   ],
   "source": [
    "plt.plot(df3)\n"
   ],
   "metadata": {
    "collapsed": false,
    "pycharm": {
     "name": "#%%\n"
    }
   }
  },
  {
   "cell_type": "code",
   "execution_count": 36,
   "outputs": [],
   "source": [
    "import pickle\n",
    "\n",
    "# filename = 'model.sav'\n",
    "# pickle.dump(model, open(filename, 'wb'))\n",
    "# tf.keras.models.save_model(model, \"filename.pkl\")\n",
    "# import time\n",
    "# #save model\n",
    "# ts = int(time.time())\n",
    "# file_path = f\"tf-models/lstm/{ts}/\"\n",
    "# model.save(filepath=file_path, save_format='tf')"
   ],
   "metadata": {
    "collapsed": false,
    "pycharm": {
     "name": "#%%\n"
    }
   }
  },
  {
   "cell_type": "code",
   "execution_count": 37,
   "outputs": [],
   "source": [
    "# import tarfile\n",
    "# import os\n",
    "\n",
    "# def tar_folder(output_filename: str, source_dir: str):\n",
    "#     with tarfile.open(output_filename, \"w:gz\") as tar:\n",
    "#         tar.add(source_dir, arcname=os.path.basename(source_dir))\n",
    "\n",
    "# OUT_FILE = 'tf-models-lstm.tar.gz'\n",
    "\n",
    "# SOURCE_FILE = \"tf-models\"\n",
    "\n",
    "# tar_folder(output_filename=OUT_FILE, source_dir=SOURCE_FILE)\n",
    "# print(OUT_FILE)"
   ],
   "metadata": {
    "collapsed": false,
    "pycharm": {
     "name": "#%%\n"
    }
   }
  },
  {
   "cell_type": "code",
   "execution_count": 38,
   "outputs": [],
   "source": [
    "# import sagemaker\n",
    "\n",
    "# sagemaker_session = sagemaker.Session(default_bucket='stocks-models')\n",
    "# upload_data = sagemaker_session.upload_data(path='tf-models-lstm.tar.gz', key_prefix='my_prefix')\n",
    "\n",
    "# print('upload_data : {}'.format(upload_data))"
   ],
   "metadata": {
    "collapsed": false,
    "pycharm": {
     "name": "#%%\n"
    }
   }
  },
  {
   "cell_type": "code",
   "execution_count": 39,
   "outputs": [
    {
     "name": "stdout",
     "output_type": "stream",
     "text": [
      "1652629640\n",
      "2022-05-15 10:47:20\n",
      "NEXT DAY\n",
      "\n",
      "1652716040\n",
      "2022-05-16 10:47:20\n",
      "218.9\n",
      "1655221640\n",
      "2022-05-19 10:47:20\n",
      "{'c': [198.02, 196.73, 196.26, 196.61, 197.64, 199.12, 200.83, 202.58, 204.26, 205.79, 207.14, 208.32, 209.34, 210.23, 211.01, 211.71, 212.33, 212.91, 213.44, 213.95, 214.43, 214.9, 215.37, 215.84, 216.32, 216.8, 217.3, 217.82, 218.35, 218.9], 't': [1652716040, 1652802440, 1652888840, 1652975240, 1653061640, 1653148040, 1653234440, 1653320840, 1653407240, 1653493640, 1653580040, 1653666440, 1653752840, 1653839240, 1653925640, 1654012040, 1654098440, 1654184840, 1654271240, 1654357640, 1654444040, 1654530440, 1654616840, 1654703240, 1654789640, 1654876040, 1654962440, 1655048840, 1655135240, 1655221640]}\n"
     ]
    }
   ],
   "source": [
    "# print(prediction[:50])\n",
    "import time\n",
    "from datetime import datetime\n",
    "\n",
    "SECONDS_IN_DAY = 86400\n",
    "\n",
    "now = int( time.time() )\n",
    "print( now )\n",
    "print(datetime.fromtimestamp(now))\n",
    "\n",
    "print(\"NEXT DAY\\n\")\n",
    "print(now + SECONDS_IN_DAY)\n",
    "print(datetime.fromtimestamp(now + SECONDS_IN_DAY))\n",
    "\n",
    "data_set = {\"c\": [], \"t\": []}\n",
    "inversed_output = scaler.inverse_transform(lst_output)\n",
    "inversed_output.tolist()\n",
    "for i in range(len(inversed_output)):\n",
    "    now = SECONDS_IN_DAY + now\n",
    "    data_set[\"c\"].insert(i, round(float(inversed_output[i]), 2))\n",
    "    data_set[\"t\"].insert(i, int(now))\n",
    "\n",
    "\n",
    "print(data_set.get(\"c\")[-1])\n",
    "print(data_set.get(\"t\")[-1])\n",
    "print(datetime.fromtimestamp(data_set.get(\"t\")[3]))\n",
    "print(data_set)\n",
    "\n",
    "\n",
    "\n",
    "# print(inversed_output)"
   ],
   "metadata": {
    "collapsed": false,
    "pycharm": {
     "name": "#%%\n"
    }
   }
  },
  {
   "cell_type": "code",
   "execution_count": 40,
   "outputs": [],
   "source": [
    "import json\n",
    "with open('../src/stock_json/nflx.json', 'w', encoding='utf-8') as f:\n",
    "    json.dump(data_set, f, ensure_ascii=False, indent=4)"
   ],
   "metadata": {
    "collapsed": false,
    "pycharm": {
     "name": "#%%\n"
    }
   }
  },
  {
   "cell_type": "code",
   "execution_count": 40,
   "outputs": [],
   "source": [],
   "metadata": {
    "collapsed": false,
    "pycharm": {
     "name": "#%%\n"
    }
   }
  }
 ],
 "metadata": {
  "kernelspec": {
   "display_name": "Python 3",
   "language": "python",
   "name": "python3"
  },
  "language_info": {
   "codemirror_mode": {
    "name": "ipython",
    "version": 2
   },
   "file_extension": ".py",
   "mimetype": "text/x-python",
   "name": "python",
   "nbconvert_exporter": "python",
   "pygments_lexer": "ipython2",
   "version": "2.7.6"
  }
 },
 "nbformat": 4,
 "nbformat_minor": 0
}