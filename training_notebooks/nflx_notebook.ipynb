{
 "cells": [
  {
   "cell_type": "code",
   "execution_count": 1,
   "outputs": [
    {
     "name": "stdout",
     "output_type": "stream",
     "text": [
      "Requirement already satisfied: matplotlib==3.5.2 in e:\\conda\\lib\\site-packages (from -r requirements.txt (line 1)) (3.5.2)\n",
      "Requirement already satisfied: numpy==1.22.3 in e:\\conda\\lib\\site-packages (from -r requirements.txt (line 2)) (1.22.3)\n",
      "Requirement already satisfied: pandas==1.4.2 in e:\\conda\\lib\\site-packages (from -r requirements.txt (line 3)) (1.4.2)\n",
      "Requirement already satisfied: scikit_learn==1.1.0 in e:\\conda\\lib\\site-packages (from -r requirements.txt (line 4)) (1.1.0)\n",
      "Requirement already satisfied: tensorflow==2.8.0 in e:\\conda\\lib\\site-packages (from -r requirements.txt (line 5)) (2.8.0)\n",
      "Requirement already satisfied: yfinance==0.1.70 in e:\\conda\\lib\\site-packages (from -r requirements.txt (line 6)) (0.1.70)\n",
      "Requirement already satisfied: kiwisolver>=1.0.1 in e:\\conda\\lib\\site-packages (from matplotlib==3.5.2->-r requirements.txt (line 1)) (1.3.2)\n",
      "Requirement already satisfied: python-dateutil>=2.7 in e:\\conda\\lib\\site-packages (from matplotlib==3.5.2->-r requirements.txt (line 1)) (2.8.2)\n",
      "Requirement already satisfied: packaging>=20.0 in e:\\conda\\lib\\site-packages (from matplotlib==3.5.2->-r requirements.txt (line 1)) (21.3)\n",
      "Requirement already satisfied: fonttools>=4.22.0 in e:\\conda\\lib\\site-packages (from matplotlib==3.5.2->-r requirements.txt (line 1)) (4.25.0)\n",
      "Requirement already satisfied: pyparsing>=2.2.1 in e:\\conda\\lib\\site-packages (from matplotlib==3.5.2->-r requirements.txt (line 1)) (3.0.4)\n",
      "Requirement already satisfied: cycler>=0.10 in e:\\conda\\lib\\site-packages (from matplotlib==3.5.2->-r requirements.txt (line 1)) (0.11.0)\n",
      "Requirement already satisfied: pillow>=6.2.0 in e:\\conda\\lib\\site-packages (from matplotlib==3.5.2->-r requirements.txt (line 1)) (9.0.1)\n",
      "Requirement already satisfied: pytz>=2020.1 in e:\\conda\\lib\\site-packages (from pandas==1.4.2->-r requirements.txt (line 3)) (2021.3)\n",
      "Requirement already satisfied: scipy>=1.3.2 in e:\\conda\\lib\\site-packages (from scikit_learn==1.1.0->-r requirements.txt (line 4)) (1.7.3)\n",
      "Requirement already satisfied: threadpoolctl>=2.0.0 in e:\\conda\\lib\\site-packages (from scikit_learn==1.1.0->-r requirements.txt (line 4)) (2.2.0)\n",
      "Requirement already satisfied: joblib>=1.0.0 in e:\\conda\\lib\\site-packages (from scikit_learn==1.1.0->-r requirements.txt (line 4)) (1.1.0)\n",
      "Requirement already satisfied: wrapt>=1.11.0 in c:\\users\\stephon patton\\appdata\\roaming\\python\\python39\\site-packages (from tensorflow==2.8.0->-r requirements.txt (line 5)) (1.12.1)\n",
      "Requirement already satisfied: opt-einsum>=2.3.2 in e:\\conda\\lib\\site-packages (from tensorflow==2.8.0->-r requirements.txt (line 5)) (3.3.0)\n",
      "Requirement already satisfied: tensorboard<2.9,>=2.8 in e:\\conda\\lib\\site-packages (from tensorflow==2.8.0->-r requirements.txt (line 5)) (2.8.0)\n",
      "Requirement already satisfied: gast>=0.2.1 in e:\\conda\\lib\\site-packages (from tensorflow==2.8.0->-r requirements.txt (line 5)) (0.5.3)\n",
      "Requirement already satisfied: tensorflow-io-gcs-filesystem>=0.23.1 in e:\\conda\\lib\\site-packages (from tensorflow==2.8.0->-r requirements.txt (line 5)) (0.25.0)\n",
      "Requirement already satisfied: six>=1.12.0 in c:\\users\\stephon patton\\appdata\\roaming\\python\\python39\\site-packages (from tensorflow==2.8.0->-r requirements.txt (line 5)) (1.15.0)\n",
      "Requirement already satisfied: tf-estimator-nightly==2.8.0.dev2021122109 in e:\\conda\\lib\\site-packages (from tensorflow==2.8.0->-r requirements.txt (line 5)) (2.8.0.dev2021122109)\n",
      "Requirement already satisfied: h5py>=2.9.0 in e:\\conda\\lib\\site-packages (from tensorflow==2.8.0->-r requirements.txt (line 5)) (3.6.0)\n",
      "Requirement already satisfied: astunparse>=1.6.0 in e:\\conda\\lib\\site-packages (from tensorflow==2.8.0->-r requirements.txt (line 5)) (1.6.3)\n",
      "Requirement already satisfied: flatbuffers>=1.12 in e:\\conda\\lib\\site-packages (from tensorflow==2.8.0->-r requirements.txt (line 5)) (2.0)\n",
      "Requirement already satisfied: libclang>=9.0.1 in e:\\conda\\lib\\site-packages (from tensorflow==2.8.0->-r requirements.txt (line 5)) (14.0.1)\n",
      "Requirement already satisfied: keras<2.9,>=2.8.0rc0 in e:\\conda\\lib\\site-packages (from tensorflow==2.8.0->-r requirements.txt (line 5)) (2.8.0)\n",
      "Requirement already satisfied: google-pasta>=0.1.1 in e:\\conda\\lib\\site-packages (from tensorflow==2.8.0->-r requirements.txt (line 5)) (0.2.0)\n",
      "Requirement already satisfied: typing-extensions>=3.6.6 in e:\\conda\\lib\\site-packages (from tensorflow==2.8.0->-r requirements.txt (line 5)) (4.1.1)\n",
      "Requirement already satisfied: termcolor>=1.1.0 in e:\\conda\\lib\\site-packages (from tensorflow==2.8.0->-r requirements.txt (line 5)) (1.1.0)\n",
      "Requirement already satisfied: keras-preprocessing>=1.1.1 in e:\\conda\\lib\\site-packages (from tensorflow==2.8.0->-r requirements.txt (line 5)) (1.1.2)\n",
      "Requirement already satisfied: protobuf>=3.9.2 in e:\\conda\\lib\\site-packages (from tensorflow==2.8.0->-r requirements.txt (line 5)) (3.19.1)\n",
      "Requirement already satisfied: setuptools in e:\\conda\\lib\\site-packages (from tensorflow==2.8.0->-r requirements.txt (line 5)) (61.2.0)\n",
      "Requirement already satisfied: grpcio<2.0,>=1.24.3 in e:\\conda\\lib\\site-packages (from tensorflow==2.8.0->-r requirements.txt (line 5)) (1.42.0)\n",
      "Requirement already satisfied: absl-py>=0.4.0 in e:\\conda\\lib\\site-packages (from tensorflow==2.8.0->-r requirements.txt (line 5)) (1.0.0)\n",
      "Requirement already satisfied: multitasking>=0.0.7 in e:\\conda\\lib\\site-packages (from yfinance==0.1.70->-r requirements.txt (line 6)) (0.0.10)\n",
      "Requirement already satisfied: requests>=2.26 in e:\\conda\\lib\\site-packages (from yfinance==0.1.70->-r requirements.txt (line 6)) (2.27.1)\n",
      "Requirement already satisfied: lxml>=4.5.1 in e:\\conda\\lib\\site-packages (from yfinance==0.1.70->-r requirements.txt (line 6)) (4.8.0)\n",
      "Requirement already satisfied: wheel<1.0,>=0.23.0 in e:\\conda\\lib\\site-packages (from astunparse>=1.6.0->tensorflow==2.8.0->-r requirements.txt (line 5)) (0.37.1)\n",
      "Requirement already satisfied: charset-normalizer~=2.0.0 in e:\\conda\\lib\\site-packages (from requests>=2.26->yfinance==0.1.70->-r requirements.txt (line 6)) (2.0.4)\n",
      "Requirement already satisfied: idna<4,>=2.5 in e:\\conda\\lib\\site-packages (from requests>=2.26->yfinance==0.1.70->-r requirements.txt (line 6)) (3.3)\n",
      "Requirement already satisfied: urllib3<1.27,>=1.21.1 in e:\\conda\\lib\\site-packages (from requests>=2.26->yfinance==0.1.70->-r requirements.txt (line 6)) (1.26.9)\n",
      "Requirement already satisfied: certifi>=2017.4.17 in e:\\conda\\lib\\site-packages (from requests>=2.26->yfinance==0.1.70->-r requirements.txt (line 6)) (2021.10.8)\n",
      "Requirement already satisfied: werkzeug>=0.11.15 in e:\\conda\\lib\\site-packages (from tensorboard<2.9,>=2.8->tensorflow==2.8.0->-r requirements.txt (line 5)) (2.0.3)\n",
      "Requirement already satisfied: google-auth-oauthlib<0.5,>=0.4.1 in e:\\conda\\lib\\site-packages (from tensorboard<2.9,>=2.8->tensorflow==2.8.0->-r requirements.txt (line 5)) (0.4.6)\n",
      "Requirement already satisfied: google-auth<3,>=1.6.3 in e:\\conda\\lib\\site-packages (from tensorboard<2.9,>=2.8->tensorflow==2.8.0->-r requirements.txt (line 5)) (1.33.0)\n",
      "Requirement already satisfied: tensorboard-plugin-wit>=1.6.0 in e:\\conda\\lib\\site-packages (from tensorboard<2.9,>=2.8->tensorflow==2.8.0->-r requirements.txt (line 5)) (1.8.1)\n",
      "Requirement already satisfied: markdown>=2.6.8 in e:\\conda\\lib\\site-packages (from tensorboard<2.9,>=2.8->tensorflow==2.8.0->-r requirements.txt (line 5)) (3.3.4)\n",
      "Requirement already satisfied: tensorboard-data-server<0.7.0,>=0.6.0 in e:\\conda\\lib\\site-packages (from tensorboard<2.9,>=2.8->tensorflow==2.8.0->-r requirements.txt (line 5)) (0.6.1)\n",
      "Requirement already satisfied: rsa<5,>=3.1.4 in e:\\conda\\lib\\site-packages (from google-auth<3,>=1.6.3->tensorboard<2.9,>=2.8->tensorflow==2.8.0->-r requirements.txt (line 5)) (4.7.2)\n",
      "Requirement already satisfied: cachetools<5.0,>=2.0.0 in e:\\conda\\lib\\site-packages (from google-auth<3,>=1.6.3->tensorboard<2.9,>=2.8->tensorflow==2.8.0->-r requirements.txt (line 5)) (4.2.2)\n",
      "Requirement already satisfied: pyasn1-modules>=0.2.1 in e:\\conda\\lib\\site-packages (from google-auth<3,>=1.6.3->tensorboard<2.9,>=2.8->tensorflow==2.8.0->-r requirements.txt (line 5)) (0.2.8)\n",
      "Requirement already satisfied: requests-oauthlib>=0.7.0 in e:\\conda\\lib\\site-packages (from google-auth-oauthlib<0.5,>=0.4.1->tensorboard<2.9,>=2.8->tensorflow==2.8.0->-r requirements.txt (line 5)) (1.3.1)\n",
      "Requirement already satisfied: pyasn1<0.5.0,>=0.4.6 in e:\\conda\\lib\\site-packages (from pyasn1-modules>=0.2.1->google-auth<3,>=1.6.3->tensorboard<2.9,>=2.8->tensorflow==2.8.0->-r requirements.txt (line 5)) (0.4.8)\n",
      "Requirement already satisfied: oauthlib>=3.0.0 in e:\\conda\\lib\\site-packages (from requests-oauthlib>=0.7.0->google-auth-oauthlib<0.5,>=0.4.1->tensorboard<2.9,>=2.8->tensorflow==2.8.0->-r requirements.txt (line 5)) (3.2.0)\n"
     ]
    }
   ],
   "source": [
    "!pip install -r requirements.txt\n",
    "# !pip install tensorflow yfinance pandas sklearn"
   ],
   "metadata": {
    "collapsed": false,
    "pycharm": {
     "name": "#%%\n"
    }
   }
  },
  {
   "cell_type": "code",
   "execution_count": 2,
   "outputs": [],
   "source": [
    "import pandas as pd\n",
    "import tensorflow as tf\n",
    "import yfinance as yf"
   ],
   "metadata": {
    "collapsed": false,
    "pycharm": {
     "name": "#%%\n"
    }
   }
  },
  {
   "cell_type": "code",
   "execution_count": 3,
   "outputs": [
    {
     "name": "stdout",
     "output_type": "stream",
     "text": [
      "[*********************100%***********************]  1 of 1 completed\n"
     ]
    }
   ],
   "source": [
    "from datetime import datetime, timedelta\n",
    "end_date = datetime.today().strftime('%Y-%m-%d')\n",
    "start_date_dt = datetime.now() - timedelta(days=10*365)\n",
    "start_date = start_date_dt.strftime('%Y-%m-%d')\n",
    "nflx = yf.download(\"NFLX\", start = start_date, end = end_date)"
   ],
   "metadata": {
    "collapsed": false,
    "pycharm": {
     "name": "#%%\n"
    }
   }
  },
  {
   "cell_type": "code",
   "execution_count": 4,
   "outputs": [],
   "source": [
    "df = pd.DataFrame(nflx)\n",
    "df1 = df.reset_index()['Close']"
   ],
   "metadata": {
    "collapsed": false,
    "pycharm": {
     "name": "#%%\n"
    }
   }
  },
  {
   "cell_type": "code",
   "execution_count": 5,
   "outputs": [
    {
     "data": {
      "text/plain": "[<matplotlib.lines.Line2D at 0x25cdbdbd820>]"
     },
     "execution_count": 5,
     "metadata": {},
     "output_type": "execute_result"
    },
    {
     "data": {
      "text/plain": "<Figure size 432x288 with 1 Axes>",
      "image/png": "[encoded data removed]"
     },
     "metadata": {
      "needs_background": "light"
     },
     "output_type": "display_data"
    }
   ],
   "source": [
    "import matplotlib.pyplot as plt\n",
    "plt.plot(df1)"
   ],
   "metadata": {
    "collapsed": false,
    "pycharm": {
     "name": "#%%\n"
    }
   }
  },
  {
   "cell_type": "code",
   "execution_count": 6,
   "outputs": [],
   "source": [
    "import numpy as np\n",
    "from sklearn.preprocessing import MinMaxScaler\n",
    "scaler=MinMaxScaler(feature_range=(0,1))\n",
    "df1 = scaler.fit_transform(np.array(df1).reshape(-1, 1))"
   ],
   "metadata": {
    "collapsed": false,
    "pycharm": {
     "name": "#%%\n"
    }
   }
  },
  {
   "cell_type": "code",
   "execution_count": 7,
   "outputs": [],
   "source": [
    "# Split data\n",
    "train_size = int(len(df1)*.95) # 95%\n",
    "test_size = len(df1) - train_size\n",
    "train, test = df1[0:train_size,:], df1[train_size:len(df1), :1]"
   ],
   "metadata": {
    "collapsed": false,
    "pycharm": {
     "name": "#%%\n"
    }
   }
  },
  {
   "cell_type": "code",
   "execution_count": 8,
   "outputs": [],
   "source": [
    "def create_dataset(data, time_step=1):\n",
    "    dataX, dataY = [], []\n",
    "    for i in range(len(data)-time_step-1):\n",
    "        a = data[i:(i+time_step), 0]\n",
    "        dataX.append(a)\n",
    "        dataY.append(data[i + time_step, 0])\n",
    "    return np.array(dataX), np.array(dataY)"
   ],
   "metadata": {
    "collapsed": false,
    "pycharm": {
     "name": "#%%\n"
    }
   }
  },
  {
   "cell_type": "code",
   "execution_count": 9,
   "outputs": [],
   "source": [
    "time_step = 100\n",
    "X_train, y_train = create_dataset(train, time_step)\n",
    "X_test, y_test = create_dataset(test, time_step)"
   ],
   "metadata": {
    "collapsed": false,
    "pycharm": {
     "name": "#%%\n"
    }
   }
  },
  {
   "cell_type": "code",
   "execution_count": 10,
   "outputs": [],
   "source": [
    "# Reshape to be inputted into LSTM\n",
    "X_train = X_train.reshape(X_train.shape[0], X_train.shape[1], 1)\n",
    "X_test = X_test.reshape(X_test.shape[0], X_test.shape[1], 1)"
   ],
   "metadata": {
    "collapsed": false,
    "pycharm": {
     "name": "#%%\n"
    }
   }
  },
  {
   "cell_type": "code",
   "execution_count": 11,
   "outputs": [],
   "source": [
    "# Create Stacked LSTM\n",
    "from tensorflow.keras.models import Sequential\n",
    "from tensorflow.keras.layers import Dense\n",
    "from tensorflow.keras.layers import LSTM\n",
    "from tensorflow.keras.layers import Dropout\n",
    "model = Sequential()\n",
    "model.add(LSTM(50, return_sequences=True, input_shape=(100, 1)))\n",
    "model.add(Dropout(.5))\n",
    "model.add(LSTM(50, return_sequences=True))\n",
    "model.add(LSTM(50, return_sequences=True))\n",
    "model.add(LSTM(50))\n",
    "model.add(Dense(1))\n",
    "model.compile(loss='mean_squared_error', optimizer='adam')"
   ],
   "metadata": {
    "collapsed": false,
    "pycharm": {
     "name": "#%%\n"
    }
   }
  },
  {
   "cell_type": "code",
   "execution_count": 12,
   "outputs": [
    {
     "name": "stdout",
     "output_type": "stream",
     "text": [
      "Model: \"sequential\"\n",
      "_________________________________________________________________\n",
      " Layer (type)                Output Shape              Param #   \n",
      "=================================================================\n",
      " lstm (LSTM)                 (None, 100, 50)           10400     \n",
      "                                                                 \n",
      " dropout (Dropout)           (None, 100, 50)           0         \n",
      "                                                                 \n",
      " lstm_1 (LSTM)               (None, 100, 50)           20200     \n",
      "                                                                 \n",
      " lstm_2 (LSTM)               (None, 100, 50)           20200     \n",
      "                                                                 \n",
      " lstm_3 (LSTM)               (None, 50)                20200     \n",
      "                                                                 \n",
      " dense (Dense)               (None, 1)                 51        \n",
      "                                                                 \n",
      "=================================================================\n",
      "Total params: 71,051\n",
      "Trainable params: 71,051\n",
      "Non-trainable params: 0\n",
      "_________________________________________________________________\n"
     ]
    }
   ],
   "source": [
    "model.summary()"
   ],
   "metadata": {
    "collapsed": false,
    "pycharm": {
     "name": "#%%\n"
    }
   }
  },
  {
   "cell_type": "code",
   "execution_count": 13,
   "outputs": [
    {
     "name": "stdout",
     "output_type": "stream",
     "text": [
      "Epoch 1/100\n",
      "10/10 [==============================] - 11s 535ms/step - loss: 0.0593 - val_loss: 0.0152\n",
      "Epoch 2/100\n",
      "10/10 [==============================] - 4s 413ms/step - loss: 0.0111 - val_loss: 0.0746\n",
      "Epoch 3/100\n",
      "10/10 [==============================] - 4s 437ms/step - loss: 0.0036 - val_loss: 0.0366\n",
      "Epoch 4/100\n",
      "10/10 [==============================] - 4s 439ms/step - loss: 0.0024 - val_loss: 0.0205\n",
      "Epoch 5/100\n",
      "10/10 [==============================] - 4s 441ms/step - loss: 0.0015 - val_loss: 0.0298\n",
      "Epoch 6/100\n",
      "10/10 [==============================] - 5s 453ms/step - loss: 0.0013 - val_loss: 0.0387\n",
      "Epoch 7/100\n",
      "10/10 [==============================] - 5s 452ms/step - loss: 0.0011 - val_loss: 0.0373\n",
      "Epoch 8/100\n",
      "10/10 [==============================] - 5s 446ms/step - loss: 0.0011 - val_loss: 0.0368\n",
      "Epoch 9/100\n",
      "10/10 [==============================] - 5s 456ms/step - loss: 0.0010 - val_loss: 0.0333\n",
      "Epoch 10/100\n",
      "10/10 [==============================] - 5s 454ms/step - loss: 0.0011 - val_loss: 0.0341\n",
      "Epoch 11/100\n",
      "10/10 [==============================] - 5s 465ms/step - loss: 0.0010 - val_loss: 0.0311\n",
      "Epoch 12/100\n",
      "10/10 [==============================] - 5s 466ms/step - loss: 0.0010 - val_loss: 0.0314\n",
      "Epoch 13/100\n",
      "10/10 [==============================] - 5s 470ms/step - loss: 0.0010 - val_loss: 0.0336\n",
      "Epoch 14/100\n",
      "10/10 [==============================] - 5s 465ms/step - loss: 0.0010 - val_loss: 0.0323\n",
      "Epoch 15/100\n",
      "10/10 [==============================] - 5s 459ms/step - loss: 0.0010 - val_loss: 0.0313\n",
      "Epoch 16/100\n",
      "10/10 [==============================] - 5s 461ms/step - loss: 0.0011 - val_loss: 0.0333\n",
      "Epoch 17/100\n",
      "10/10 [==============================] - 5s 471ms/step - loss: 0.0011 - val_loss: 0.0307\n",
      "Epoch 18/100\n",
      "10/10 [==============================] - 5s 452ms/step - loss: 9.6193e-04 - val_loss: 0.0314\n",
      "Epoch 19/100\n",
      "10/10 [==============================] - 5s 462ms/step - loss: 9.6727e-04 - val_loss: 0.0339\n",
      "Epoch 20/100\n",
      "10/10 [==============================] - 5s 462ms/step - loss: 0.0010 - val_loss: 0.0369\n",
      "Epoch 21/100\n",
      "10/10 [==============================] - 5s 461ms/step - loss: 0.0010 - val_loss: 0.0355\n",
      "Epoch 22/100\n",
      "10/10 [==============================] - 5s 466ms/step - loss: 0.0010 - val_loss: 0.0374\n",
      "Epoch 23/100\n",
      "10/10 [==============================] - 5s 478ms/step - loss: 0.0011 - val_loss: 0.0306\n",
      "Epoch 24/100\n",
      "10/10 [==============================] - 5s 477ms/step - loss: 9.1286e-04 - val_loss: 0.0289\n",
      "Epoch 25/100\n",
      "10/10 [==============================] - 5s 480ms/step - loss: 9.7684e-04 - val_loss: 0.0280\n",
      "Epoch 26/100\n",
      "10/10 [==============================] - 5s 475ms/step - loss: 9.5332e-04 - val_loss: 0.0271\n",
      "Epoch 27/100\n",
      "10/10 [==============================] - 5s 470ms/step - loss: 9.1887e-04 - val_loss: 0.0263\n",
      "Epoch 28/100\n",
      "10/10 [==============================] - 5s 471ms/step - loss: 9.0716e-04 - val_loss: 0.0267\n",
      "Epoch 29/100\n",
      "10/10 [==============================] - 5s 470ms/step - loss: 9.0142e-04 - val_loss: 0.0267\n",
      "Epoch 30/100\n",
      "10/10 [==============================] - 5s 471ms/step - loss: 8.9969e-04 - val_loss: 0.0254\n",
      "Epoch 31/100\n",
      "10/10 [==============================] - 5s 467ms/step - loss: 8.6499e-04 - val_loss: 0.0310\n",
      "Epoch 32/100\n",
      "10/10 [==============================] - 4s 431ms/step - loss: 9.2194e-04 - val_loss: 0.0261\n",
      "Epoch 33/100\n",
      "10/10 [==============================] - 4s 404ms/step - loss: 8.4165e-04 - val_loss: 0.0263\n",
      "Epoch 34/100\n",
      "10/10 [==============================] - 4s 390ms/step - loss: 8.9118e-04 - val_loss: 0.0261\n",
      "Epoch 35/100\n",
      "10/10 [==============================] - 4s 388ms/step - loss: 8.3399e-04 - val_loss: 0.0250\n",
      "Epoch 36/100\n",
      "10/10 [==============================] - 4s 387ms/step - loss: 8.8354e-04 - val_loss: 0.0317\n",
      "Epoch 37/100\n",
      "10/10 [==============================] - 4s 395ms/step - loss: 0.0011 - val_loss: 0.0220\n",
      "Epoch 38/100\n",
      "10/10 [==============================] - 4s 384ms/step - loss: 9.3654e-04 - val_loss: 0.0206\n",
      "Epoch 39/100\n",
      "10/10 [==============================] - 4s 397ms/step - loss: 8.8474e-04 - val_loss: 0.0265\n",
      "Epoch 40/100\n",
      "10/10 [==============================] - 4s 383ms/step - loss: 9.1938e-04 - val_loss: 0.0251\n",
      "Epoch 41/100\n",
      "10/10 [==============================] - 4s 388ms/step - loss: 8.5247e-04 - val_loss: 0.0217\n",
      "Epoch 42/100\n",
      "10/10 [==============================] - 4s 385ms/step - loss: 8.9313e-04 - val_loss: 0.0275\n",
      "Epoch 43/100\n",
      "10/10 [==============================] - 4s 379ms/step - loss: 8.0945e-04 - val_loss: 0.0214\n",
      "Epoch 44/100\n",
      "10/10 [==============================] - 4s 387ms/step - loss: 8.4528e-04 - val_loss: 0.0244\n",
      "Epoch 45/100\n",
      "10/10 [==============================] - 4s 375ms/step - loss: 8.2587e-04 - val_loss: 0.0272\n",
      "Epoch 46/100\n",
      "10/10 [==============================] - 4s 378ms/step - loss: 8.6717e-04 - val_loss: 0.0195\n",
      "Epoch 47/100\n",
      "10/10 [==============================] - 4s 374ms/step - loss: 8.1449e-04 - val_loss: 0.0242\n",
      "Epoch 48/100\n",
      "10/10 [==============================] - 4s 376ms/step - loss: 8.2532e-04 - val_loss: 0.0218\n",
      "Epoch 49/100\n",
      "10/10 [==============================] - 4s 380ms/step - loss: 7.3256e-04 - val_loss: 0.0211\n",
      "Epoch 50/100\n",
      "10/10 [==============================] - 4s 386ms/step - loss: 8.1884e-04 - val_loss: 0.0280\n",
      "Epoch 51/100\n",
      "10/10 [==============================] - 4s 389ms/step - loss: 9.5002e-04 - val_loss: 0.0182\n",
      "Epoch 52/100\n",
      "10/10 [==============================] - 4s 391ms/step - loss: 8.6971e-04 - val_loss: 0.0222\n",
      "Epoch 53/100\n",
      "10/10 [==============================] - 4s 388ms/step - loss: 7.4438e-04 - val_loss: 0.0218\n",
      "Epoch 54/100\n",
      "10/10 [==============================] - 4s 383ms/step - loss: 7.4578e-04 - val_loss: 0.0228\n",
      "Epoch 55/100\n",
      "10/10 [==============================] - 4s 387ms/step - loss: 7.9097e-04 - val_loss: 0.0190\n",
      "Epoch 56/100\n",
      "10/10 [==============================] - 4s 389ms/step - loss: 7.3879e-04 - val_loss: 0.0218\n",
      "Epoch 57/100\n",
      "10/10 [==============================] - 4s 389ms/step - loss: 7.2799e-04 - val_loss: 0.0204\n",
      "Epoch 58/100\n",
      "10/10 [==============================] - 4s 392ms/step - loss: 7.7141e-04 - val_loss: 0.0230\n",
      "Epoch 59/100\n",
      "10/10 [==============================] - 4s 386ms/step - loss: 8.7263e-04 - val_loss: 0.0156\n",
      "Epoch 60/100\n",
      "10/10 [==============================] - 4s 386ms/step - loss: 8.4074e-04 - val_loss: 0.0223\n",
      "Epoch 61/100\n",
      "10/10 [==============================] - 4s 383ms/step - loss: 7.5215e-04 - val_loss: 0.0168\n",
      "Epoch 62/100\n",
      "10/10 [==============================] - 4s 394ms/step - loss: 7.7359e-04 - val_loss: 0.0184\n",
      "Epoch 63/100\n",
      "10/10 [==============================] - 4s 388ms/step - loss: 7.3495e-04 - val_loss: 0.0203\n",
      "Epoch 64/100\n",
      "10/10 [==============================] - 4s 381ms/step - loss: 6.9894e-04 - val_loss: 0.0181\n",
      "Epoch 65/100\n",
      "10/10 [==============================] - 4s 382ms/step - loss: 7.7179e-04 - val_loss: 0.0232\n",
      "Epoch 66/100\n",
      "10/10 [==============================] - 4s 385ms/step - loss: 8.7045e-04 - val_loss: 0.0175\n",
      "Epoch 67/100\n",
      "10/10 [==============================] - 4s 386ms/step - loss: 7.5038e-04 - val_loss: 0.0172\n",
      "Epoch 68/100\n",
      "10/10 [==============================] - 4s 383ms/step - loss: 7.4609e-04 - val_loss: 0.0174\n",
      "Epoch 69/100\n",
      "10/10 [==============================] - 4s 383ms/step - loss: 6.9771e-04 - val_loss: 0.0190\n",
      "Epoch 70/100\n",
      "10/10 [==============================] - 4s 377ms/step - loss: 6.9539e-04 - val_loss: 0.0143\n",
      "Epoch 71/100\n",
      "10/10 [==============================] - 4s 380ms/step - loss: 7.5454e-04 - val_loss: 0.0240\n",
      "Epoch 72/100\n",
      "10/10 [==============================] - 4s 380ms/step - loss: 9.1059e-04 - val_loss: 0.0136\n",
      "Epoch 73/100\n",
      "10/10 [==============================] - 4s 386ms/step - loss: 7.2994e-04 - val_loss: 0.0177\n",
      "Epoch 74/100\n",
      "10/10 [==============================] - 4s 384ms/step - loss: 6.4472e-04 - val_loss: 0.0176\n",
      "Epoch 75/100\n",
      "10/10 [==============================] - 4s 381ms/step - loss: 6.4091e-04 - val_loss: 0.0172\n",
      "Epoch 76/100\n",
      "10/10 [==============================] - 4s 381ms/step - loss: 6.9076e-04 - val_loss: 0.0179\n",
      "Epoch 77/100\n",
      "10/10 [==============================] - 4s 381ms/step - loss: 7.1139e-04 - val_loss: 0.0154\n",
      "Epoch 78/100\n",
      "10/10 [==============================] - 4s 384ms/step - loss: 6.4773e-04 - val_loss: 0.0159\n",
      "Epoch 79/100\n",
      "10/10 [==============================] - 4s 385ms/step - loss: 5.9810e-04 - val_loss: 0.0145\n",
      "Epoch 80/100\n",
      "10/10 [==============================] - 4s 382ms/step - loss: 6.5282e-04 - val_loss: 0.0128\n",
      "Epoch 81/100\n",
      "10/10 [==============================] - 4s 378ms/step - loss: 7.1545e-04 - val_loss: 0.0185\n",
      "Epoch 82/100\n",
      "10/10 [==============================] - 4s 383ms/step - loss: 7.1405e-04 - val_loss: 0.0180\n",
      "Epoch 83/100\n",
      "10/10 [==============================] - 4s 382ms/step - loss: 7.2727e-04 - val_loss: 0.0122\n",
      "Epoch 84/100\n",
      "10/10 [==============================] - 4s 380ms/step - loss: 7.1988e-04 - val_loss: 0.0173\n",
      "Epoch 85/100\n",
      "10/10 [==============================] - 4s 378ms/step - loss: 6.6422e-04 - val_loss: 0.0160\n",
      "Epoch 86/100\n",
      "10/10 [==============================] - 4s 381ms/step - loss: 6.2510e-04 - val_loss: 0.0139\n",
      "Epoch 87/100\n",
      "10/10 [==============================] - 4s 381ms/step - loss: 6.2634e-04 - val_loss: 0.0137\n",
      "Epoch 88/100\n",
      "10/10 [==============================] - 4s 384ms/step - loss: 5.6459e-04 - val_loss: 0.0119\n",
      "Epoch 89/100\n",
      "10/10 [==============================] - 4s 384ms/step - loss: 6.6033e-04 - val_loss: 0.0164\n",
      "Epoch 90/100\n",
      "10/10 [==============================] - 4s 379ms/step - loss: 6.1605e-04 - val_loss: 0.0130\n",
      "Epoch 91/100\n",
      "10/10 [==============================] - 4s 379ms/step - loss: 6.4038e-04 - val_loss: 0.0110\n",
      "Epoch 92/100\n",
      "10/10 [==============================] - 4s 381ms/step - loss: 6.2059e-04 - val_loss: 0.0136\n",
      "Epoch 93/100\n",
      "10/10 [==============================] - 4s 374ms/step - loss: 6.3827e-04 - val_loss: 0.0164\n",
      "Epoch 94/100\n",
      "10/10 [==============================] - 4s 385ms/step - loss: 6.3729e-04 - val_loss: 0.0114\n",
      "Epoch 95/100\n",
      "10/10 [==============================] - 4s 377ms/step - loss: 6.3248e-04 - val_loss: 0.0149\n",
      "Epoch 96/100\n",
      "10/10 [==============================] - 4s 377ms/step - loss: 6.1003e-04 - val_loss: 0.0153\n",
      "Epoch 97/100\n",
      "10/10 [==============================] - 4s 378ms/step - loss: 6.0913e-04 - val_loss: 0.0141\n",
      "Epoch 98/100\n",
      "10/10 [==============================] - 4s 384ms/step - loss: 5.7459e-04 - val_loss: 0.0124\n",
      "Epoch 99/100\n",
      "10/10 [==============================] - 4s 383ms/step - loss: 5.5369e-04 - val_loss: 0.0121\n",
      "Epoch 100/100\n",
      "10/10 [==============================] - 4s 386ms/step - loss: 6.1187e-04 - val_loss: 0.0111\n"
     ]
    },
    {
     "data": {
      "text/plain": "<keras.callbacks.History at 0x25ce784ceb0>"
     },
     "execution_count": 13,
     "metadata": {},
     "output_type": "execute_result"
    }
   ],
   "source": [
    "model.fit(X_train, y_train, validation_data=(X_test, y_test), epochs=100, batch_size=250, verbose=1)"
   ],
   "metadata": {
    "collapsed": false,
    "pycharm": {
     "name": "#%%\n"
    }
   }
  },
  {
   "cell_type": "code",
   "execution_count": 14,
   "outputs": [],
   "source": [
    "prediction = model.predict(X_train)\n",
    "test_prediction = model.predict(X_test)"
   ],
   "metadata": {
    "collapsed": false,
    "pycharm": {
     "name": "#%%\n"
    }
   }
  },
  {
   "cell_type": "code",
   "execution_count": 15,
   "outputs": [],
   "source": [
    "prediction = scaler.inverse_transform(prediction)\n",
    "test_prediction = scaler.inverse_transform(test_prediction)"
   ],
   "metadata": {
    "collapsed": false,
    "pycharm": {
     "name": "#%%\n"
    }
   }
  },
  {
   "cell_type": "code",
   "execution_count": 16,
   "outputs": [
    {
     "data": {
      "text/plain": "279.456584502621"
     },
     "execution_count": 16,
     "metadata": {},
     "output_type": "execute_result"
    }
   ],
   "source": [
    "import math\n",
    "from sklearn.metrics import mean_squared_error\n",
    "math.sqrt(mean_squared_error(y_train, prediction))"
   ],
   "metadata": {
    "collapsed": false,
    "pycharm": {
     "name": "#%%\n"
    }
   }
  },
  {
   "cell_type": "code",
   "execution_count": 17,
   "outputs": [
    {
     "data": {
      "text/plain": "281.7972971380122"
     },
     "execution_count": 17,
     "metadata": {},
     "output_type": "execute_result"
    }
   ],
   "source": [
    "math.sqrt(mean_squared_error(y_test, test_prediction))"
   ],
   "metadata": {
    "collapsed": false,
    "pycharm": {
     "name": "#%%\n"
    }
   }
  },
  {
   "cell_type": "code",
   "execution_count": 18,
   "outputs": [],
   "source": [
    "x_input = test[len(test)-100:].reshape(1, -1)"
   ],
   "metadata": {
    "collapsed": false,
    "pycharm": {
     "name": "#%%\n"
    }
   }
  },
  {
   "cell_type": "code",
   "execution_count": 19,
   "outputs": [],
   "source": [
    "temp_input = list(x_input)\n",
    "temp_input = temp_input[0].tolist()"
   ],
   "metadata": {
    "collapsed": false,
    "pycharm": {
     "name": "#%%\n"
    }
   }
  },
  {
   "cell_type": "code",
   "execution_count": 20,
   "outputs": [
    {
     "name": "stdout",
     "output_type": "stream",
     "text": [
      "1 day input [0.88136036 0.8836265  0.86951836 0.86210612 0.85301265 0.81846608\n",
      " 0.79766205 0.77978208 0.77801305 0.77946048 0.77416804 0.74782323\n",
      " 0.75731146 0.73554257 0.74294018 0.73181454 0.56990035 0.55476886\n",
      " 0.52446206 0.51463756 0.554111   0.55068993 0.61323344 0.65707818\n",
      " 0.61665446 0.58174239 0.58842365 0.57662547 0.57871609 0.59240023\n",
      " 0.58272189 0.5608507  0.56854072 0.58446165 0.57074828 0.55406714\n",
      " 0.56082148 0.54048534 0.52598249 0.55897937 0.56010508 0.56554364\n",
      " 0.55343845 0.54435958 0.52687432 0.51760538 0.50083647 0.48840965\n",
      " 0.51330715 0.51035393 0.4863044  0.47269338 0.49131898 0.51146505\n",
      " 0.53174269 0.54519292 0.53640641 0.54858472 0.5362602  0.53804382\n",
      " 0.53532456 0.54213738 0.56159632 0.54646483 0.53640641 0.534769\n",
      " 0.56112848 0.54453501 0.52728367 0.51821938 0.50905279 0.49753239\n",
      " 0.49183068 0.50108499 0.4874886  0.4827079  0.49842417 0.31944871\n",
      " 0.30779674 0.3038494  0.29564769 0.2788203  0.26440518 0.28045773\n",
      " 0.267066   0.28037002 0.28096941 0.287022   0.26408357 0.25333801\n",
      " 0.24183224 0.24849887 0.23199311 0.24360123 0.26308941 0.26143737\n",
      " 0.26735839 0.24781173 0.25700757 0.26625502]\n",
      "1 day output [[0.26568705]]\n",
      "2 day input [0.8836265  0.86951836 0.86210612 0.85301265 0.81846608 0.79766205\n",
      " 0.77978208 0.77801305 0.77946048 0.77416804 0.74782323 0.75731146\n",
      " 0.73554257 0.74294018 0.73181454 0.56990035 0.55476886 0.52446206\n",
      " 0.51463756 0.554111   0.55068993 0.61323344 0.65707818 0.61665446\n",
      " 0.58174239 0.58842365 0.57662547 0.57871609 0.59240023 0.58272189\n",
      " 0.5608507  0.56854072 0.58446165 0.57074828 0.55406714 0.56082148\n",
      " 0.54048534 0.52598249 0.55897937 0.56010508 0.56554364 0.55343845\n",
      " 0.54435958 0.52687432 0.51760538 0.50083647 0.48840965 0.51330715\n",
      " 0.51035393 0.4863044  0.47269338 0.49131898 0.51146505 0.53174269\n",
      " 0.54519292 0.53640641 0.54858472 0.5362602  0.53804382 0.53532456\n",
      " 0.54213738 0.56159632 0.54646483 0.53640641 0.534769   0.56112848\n",
      " 0.54453501 0.52728367 0.51821938 0.50905279 0.49753239 0.49183068\n",
      " 0.50108499 0.4874886  0.4827079  0.49842417 0.31944871 0.30779674\n",
      " 0.3038494  0.29564769 0.2788203  0.26440518 0.28045773 0.267066\n",
      " 0.28037002 0.28096941 0.287022   0.26408357 0.25333801 0.24183224\n",
      " 0.24849887 0.23199311 0.24360123 0.26308941 0.26143737 0.26735839\n",
      " 0.24781173 0.25700757 0.26625502 0.26568705]\n",
      "2 day output [[0.26558894]]\n",
      "3 day input [0.86951836 0.86210612 0.85301265 0.81846608 0.79766205 0.77978208\n",
      " 0.77801305 0.77946048 0.77416804 0.74782323 0.75731146 0.73554257\n",
      " 0.74294018 0.73181454 0.56990035 0.55476886 0.52446206 0.51463756\n",
      " 0.554111   0.55068993 0.61323344 0.65707818 0.61665446 0.58174239\n",
      " 0.58842365 0.57662547 0.57871609 0.59240023 0.58272189 0.5608507\n",
      " 0.56854072 0.58446165 0.57074828 0.55406714 0.56082148 0.54048534\n",
      " 0.52598249 0.55897937 0.56010508 0.56554364 0.55343845 0.54435958\n",
      " 0.52687432 0.51760538 0.50083647 0.48840965 0.51330715 0.51035393\n",
      " 0.4863044  0.47269338 0.49131898 0.51146505 0.53174269 0.54519292\n",
      " 0.53640641 0.54858472 0.5362602  0.53804382 0.53532456 0.54213738\n",
      " 0.56159632 0.54646483 0.53640641 0.534769   0.56112848 0.54453501\n",
      " 0.52728367 0.51821938 0.50905279 0.49753239 0.49183068 0.50108499\n",
      " 0.4874886  0.4827079  0.49842417 0.31944871 0.30779674 0.3038494\n",
      " 0.29564769 0.2788203  0.26440518 0.28045773 0.267066   0.28037002\n",
      " 0.28096941 0.287022   0.26408357 0.25333801 0.24183224 0.24849887\n",
      " 0.23199311 0.24360123 0.26308941 0.26143737 0.26735839 0.24781173\n",
      " 0.25700757 0.26625502 0.26568705 0.26558894]\n",
      "3 day output [[0.26586285]]\n",
      "4 day input [0.86210612 0.85301265 0.81846608 0.79766205 0.77978208 0.77801305\n",
      " 0.77946048 0.77416804 0.74782323 0.75731146 0.73554257 0.74294018\n",
      " 0.73181454 0.56990035 0.55476886 0.52446206 0.51463756 0.554111\n",
      " 0.55068993 0.61323344 0.65707818 0.61665446 0.58174239 0.58842365\n",
      " 0.57662547 0.57871609 0.59240023 0.58272189 0.5608507  0.56854072\n",
      " 0.58446165 0.57074828 0.55406714 0.56082148 0.54048534 0.52598249\n",
      " 0.55897937 0.56010508 0.56554364 0.55343845 0.54435958 0.52687432\n",
      " 0.51760538 0.50083647 0.48840965 0.51330715 0.51035393 0.4863044\n",
      " 0.47269338 0.49131898 0.51146505 0.53174269 0.54519292 0.53640641\n",
      " 0.54858472 0.5362602  0.53804382 0.53532456 0.54213738 0.56159632\n",
      " 0.54646483 0.53640641 0.534769   0.56112848 0.54453501 0.52728367\n",
      " 0.51821938 0.50905279 0.49753239 0.49183068 0.50108499 0.4874886\n",
      " 0.4827079  0.49842417 0.31944871 0.30779674 0.3038494  0.29564769\n",
      " 0.2788203  0.26440518 0.28045773 0.267066   0.28037002 0.28096941\n",
      " 0.287022   0.26408357 0.25333801 0.24183224 0.24849887 0.23199311\n",
      " 0.24360123 0.26308941 0.26143737 0.26735839 0.24781173 0.25700757\n",
      " 0.26625502 0.26568705 0.26558894 0.26586285]\n",
      "4 day output [[0.26639462]]\n",
      "5 day input [0.85301265 0.81846608 0.79766205 0.77978208 0.77801305 0.77946048\n",
      " 0.77416804 0.74782323 0.75731146 0.73554257 0.74294018 0.73181454\n",
      " 0.56990035 0.55476886 0.52446206 0.51463756 0.554111   0.55068993\n",
      " 0.61323344 0.65707818 0.61665446 0.58174239 0.58842365 0.57662547\n",
      " 0.57871609 0.59240023 0.58272189 0.5608507  0.56854072 0.58446165\n",
      " 0.57074828 0.55406714 0.56082148 0.54048534 0.52598249 0.55897937\n",
      " 0.56010508 0.56554364 0.55343845 0.54435958 0.52687432 0.51760538\n",
      " 0.50083647 0.48840965 0.51330715 0.51035393 0.4863044  0.47269338\n",
      " 0.49131898 0.51146505 0.53174269 0.54519292 0.53640641 0.54858472\n",
      " 0.5362602  0.53804382 0.53532456 0.54213738 0.56159632 0.54646483\n",
      " 0.53640641 0.534769   0.56112848 0.54453501 0.52728367 0.51821938\n",
      " 0.50905279 0.49753239 0.49183068 0.50108499 0.4874886  0.4827079\n",
      " 0.49842417 0.31944871 0.30779674 0.3038494  0.29564769 0.2788203\n",
      " 0.26440518 0.28045773 0.267066   0.28037002 0.28096941 0.287022\n",
      " 0.26408357 0.25333801 0.24183224 0.24849887 0.23199311 0.24360123\n",
      " 0.26308941 0.26143737 0.26735839 0.24781173 0.25700757 0.26625502\n",
      " 0.26568705 0.26558894 0.26586285 0.26639462]\n",
      "5 day output [[0.26707295]]\n",
      "6 day input [0.81846608 0.79766205 0.77978208 0.77801305 0.77946048 0.77416804\n",
      " 0.74782323 0.75731146 0.73554257 0.74294018 0.73181454 0.56990035\n",
      " 0.55476886 0.52446206 0.51463756 0.554111   0.55068993 0.61323344\n",
      " 0.65707818 0.61665446 0.58174239 0.58842365 0.57662547 0.57871609\n",
      " 0.59240023 0.58272189 0.5608507  0.56854072 0.58446165 0.57074828\n",
      " 0.55406714 0.56082148 0.54048534 0.52598249 0.55897937 0.56010508\n",
      " 0.56554364 0.55343845 0.54435958 0.52687432 0.51760538 0.50083647\n",
      " 0.48840965 0.51330715 0.51035393 0.4863044  0.47269338 0.49131898\n",
      " 0.51146505 0.53174269 0.54519292 0.53640641 0.54858472 0.5362602\n",
      " 0.53804382 0.53532456 0.54213738 0.56159632 0.54646483 0.53640641\n",
      " 0.534769   0.56112848 0.54453501 0.52728367 0.51821938 0.50905279\n",
      " 0.49753239 0.49183068 0.50108499 0.4874886  0.4827079  0.49842417\n",
      " 0.31944871 0.30779674 0.3038494  0.29564769 0.2788203  0.26440518\n",
      " 0.28045773 0.267066   0.28037002 0.28096941 0.287022   0.26408357\n",
      " 0.25333801 0.24183224 0.24849887 0.23199311 0.24360123 0.26308941\n",
      " 0.26143737 0.26735839 0.24781173 0.25700757 0.26625502 0.26568705\n",
      " 0.26558894 0.26586285 0.26639462 0.26707295]\n",
      "6 day output [[0.267804]]\n",
      "7 day input [0.79766205 0.77978208 0.77801305 0.77946048 0.77416804 0.74782323\n",
      " 0.75731146 0.73554257 0.74294018 0.73181454 0.56990035 0.55476886\n",
      " 0.52446206 0.51463756 0.554111   0.55068993 0.61323344 0.65707818\n",
      " 0.61665446 0.58174239 0.58842365 0.57662547 0.57871609 0.59240023\n",
      " 0.58272189 0.5608507  0.56854072 0.58446165 0.57074828 0.55406714\n",
      " 0.56082148 0.54048534 0.52598249 0.55897937 0.56010508 0.56554364\n",
      " 0.55343845 0.54435958 0.52687432 0.51760538 0.50083647 0.48840965\n",
      " 0.51330715 0.51035393 0.4863044  0.47269338 0.49131898 0.51146505\n",
      " 0.53174269 0.54519292 0.53640641 0.54858472 0.5362602  0.53804382\n",
      " 0.53532456 0.54213738 0.56159632 0.54646483 0.53640641 0.534769\n",
      " 0.56112848 0.54453501 0.52728367 0.51821938 0.50905279 0.49753239\n",
      " 0.49183068 0.50108499 0.4874886  0.4827079  0.49842417 0.31944871\n",
      " 0.30779674 0.3038494  0.29564769 0.2788203  0.26440518 0.28045773\n",
      " 0.267066   0.28037002 0.28096941 0.287022   0.26408357 0.25333801\n",
      " 0.24183224 0.24849887 0.23199311 0.24360123 0.26308941 0.26143737\n",
      " 0.26735839 0.24781173 0.25700757 0.26625502 0.26568705 0.26558894\n",
      " 0.26586285 0.26639462 0.26707295 0.267804  ]\n",
      "7 day output [[0.26851732]]\n",
      "8 day input [0.77978208 0.77801305 0.77946048 0.77416804 0.74782323 0.75731146\n",
      " 0.73554257 0.74294018 0.73181454 0.56990035 0.55476886 0.52446206\n",
      " 0.51463756 0.554111   0.55068993 0.61323344 0.65707818 0.61665446\n",
      " 0.58174239 0.58842365 0.57662547 0.57871609 0.59240023 0.58272189\n",
      " 0.5608507  0.56854072 0.58446165 0.57074828 0.55406714 0.56082148\n",
      " 0.54048534 0.52598249 0.55897937 0.56010508 0.56554364 0.55343845\n",
      " 0.54435958 0.52687432 0.51760538 0.50083647 0.48840965 0.51330715\n",
      " 0.51035393 0.4863044  0.47269338 0.49131898 0.51146505 0.53174269\n",
      " 0.54519292 0.53640641 0.54858472 0.5362602  0.53804382 0.53532456\n",
      " 0.54213738 0.56159632 0.54646483 0.53640641 0.534769   0.56112848\n",
      " 0.54453501 0.52728367 0.51821938 0.50905279 0.49753239 0.49183068\n",
      " 0.50108499 0.4874886  0.4827079  0.49842417 0.31944871 0.30779674\n",
      " 0.3038494  0.29564769 0.2788203  0.26440518 0.28045773 0.267066\n",
      " 0.28037002 0.28096941 0.287022   0.26408357 0.25333801 0.24183224\n",
      " 0.24849887 0.23199311 0.24360123 0.26308941 0.26143737 0.26735839\n",
      " 0.24781173 0.25700757 0.26625502 0.26568705 0.26558894 0.26586285\n",
      " 0.26639462 0.26707295 0.267804   0.26851732]\n",
      "8 day output [[0.26916754]]\n",
      "9 day input [0.77801305 0.77946048 0.77416804 0.74782323 0.75731146 0.73554257\n",
      " 0.74294018 0.73181454 0.56990035 0.55476886 0.52446206 0.51463756\n",
      " 0.554111   0.55068993 0.61323344 0.65707818 0.61665446 0.58174239\n",
      " 0.58842365 0.57662547 0.57871609 0.59240023 0.58272189 0.5608507\n",
      " 0.56854072 0.58446165 0.57074828 0.55406714 0.56082148 0.54048534\n",
      " 0.52598249 0.55897937 0.56010508 0.56554364 0.55343845 0.54435958\n",
      " 0.52687432 0.51760538 0.50083647 0.48840965 0.51330715 0.51035393\n",
      " 0.4863044  0.47269338 0.49131898 0.51146505 0.53174269 0.54519292\n",
      " 0.53640641 0.54858472 0.5362602  0.53804382 0.53532456 0.54213738\n",
      " 0.56159632 0.54646483 0.53640641 0.534769   0.56112848 0.54453501\n",
      " 0.52728367 0.51821938 0.50905279 0.49753239 0.49183068 0.50108499\n",
      " 0.4874886  0.4827079  0.49842417 0.31944871 0.30779674 0.3038494\n",
      " 0.29564769 0.2788203  0.26440518 0.28045773 0.267066   0.28037002\n",
      " 0.28096941 0.287022   0.26408357 0.25333801 0.24183224 0.24849887\n",
      " 0.23199311 0.24360123 0.26308941 0.26143737 0.26735839 0.24781173\n",
      " 0.25700757 0.26625502 0.26568705 0.26558894 0.26586285 0.26639462\n",
      " 0.26707295 0.267804   0.26851732 0.26916754]\n",
      "9 day output [[0.26973075]]\n",
      "10 day input [0.77946048 0.77416804 0.74782323 0.75731146 0.73554257 0.74294018\n",
      " 0.73181454 0.56990035 0.55476886 0.52446206 0.51463756 0.554111\n",
      " 0.55068993 0.61323344 0.65707818 0.61665446 0.58174239 0.58842365\n",
      " 0.57662547 0.57871609 0.59240023 0.58272189 0.5608507  0.56854072\n",
      " 0.58446165 0.57074828 0.55406714 0.56082148 0.54048534 0.52598249\n",
      " 0.55897937 0.56010508 0.56554364 0.55343845 0.54435958 0.52687432\n",
      " 0.51760538 0.50083647 0.48840965 0.51330715 0.51035393 0.4863044\n",
      " 0.47269338 0.49131898 0.51146505 0.53174269 0.54519292 0.53640641\n",
      " 0.54858472 0.5362602  0.53804382 0.53532456 0.54213738 0.56159632\n",
      " 0.54646483 0.53640641 0.534769   0.56112848 0.54453501 0.52728367\n",
      " 0.51821938 0.50905279 0.49753239 0.49183068 0.50108499 0.4874886\n",
      " 0.4827079  0.49842417 0.31944871 0.30779674 0.3038494  0.29564769\n",
      " 0.2788203  0.26440518 0.28045773 0.267066   0.28037002 0.28096941\n",
      " 0.287022   0.26408357 0.25333801 0.24183224 0.24849887 0.23199311\n",
      " 0.24360123 0.26308941 0.26143737 0.26735839 0.24781173 0.25700757\n",
      " 0.26625502 0.26568705 0.26558894 0.26586285 0.26639462 0.26707295\n",
      " 0.267804   0.26851732 0.26916754 0.26973075]\n",
      "10 day output [[0.2701993]]\n",
      "11 day input [0.77416804 0.74782323 0.75731146 0.73554257 0.74294018 0.73181454\n",
      " 0.56990035 0.55476886 0.52446206 0.51463756 0.554111   0.55068993\n",
      " 0.61323344 0.65707818 0.61665446 0.58174239 0.58842365 0.57662547\n",
      " 0.57871609 0.59240023 0.58272189 0.5608507  0.56854072 0.58446165\n",
      " 0.57074828 0.55406714 0.56082148 0.54048534 0.52598249 0.55897937\n",
      " 0.56010508 0.56554364 0.55343845 0.54435958 0.52687432 0.51760538\n",
      " 0.50083647 0.48840965 0.51330715 0.51035393 0.4863044  0.47269338\n",
      " 0.49131898 0.51146505 0.53174269 0.54519292 0.53640641 0.54858472\n",
      " 0.5362602  0.53804382 0.53532456 0.54213738 0.56159632 0.54646483\n",
      " 0.53640641 0.534769   0.56112848 0.54453501 0.52728367 0.51821938\n",
      " 0.50905279 0.49753239 0.49183068 0.50108499 0.4874886  0.4827079\n",
      " 0.49842417 0.31944871 0.30779674 0.3038494  0.29564769 0.2788203\n",
      " 0.26440518 0.28045773 0.267066   0.28037002 0.28096941 0.287022\n",
      " 0.26408357 0.25333801 0.24183224 0.24849887 0.23199311 0.24360123\n",
      " 0.26308941 0.26143737 0.26735839 0.24781173 0.25700757 0.26625502\n",
      " 0.26568705 0.26558894 0.26586285 0.26639462 0.26707295 0.267804\n",
      " 0.26851732 0.26916754 0.26973075 0.2701993 ]\n",
      "11 day output [[0.27057645]]\n",
      "12 day input [0.74782323 0.75731146 0.73554257 0.74294018 0.73181454 0.56990035\n",
      " 0.55476886 0.52446206 0.51463756 0.554111   0.55068993 0.61323344\n",
      " 0.65707818 0.61665446 0.58174239 0.58842365 0.57662547 0.57871609\n",
      " 0.59240023 0.58272189 0.5608507  0.56854072 0.58446165 0.57074828\n",
      " 0.55406714 0.56082148 0.54048534 0.52598249 0.55897937 0.56010508\n",
      " 0.56554364 0.55343845 0.54435958 0.52687432 0.51760538 0.50083647\n",
      " 0.48840965 0.51330715 0.51035393 0.4863044  0.47269338 0.49131898\n",
      " 0.51146505 0.53174269 0.54519292 0.53640641 0.54858472 0.5362602\n",
      " 0.53804382 0.53532456 0.54213738 0.56159632 0.54646483 0.53640641\n",
      " 0.534769   0.56112848 0.54453501 0.52728367 0.51821938 0.50905279\n",
      " 0.49753239 0.49183068 0.50108499 0.4874886  0.4827079  0.49842417\n",
      " 0.31944871 0.30779674 0.3038494  0.29564769 0.2788203  0.26440518\n",
      " 0.28045773 0.267066   0.28037002 0.28096941 0.287022   0.26408357\n",
      " 0.25333801 0.24183224 0.24849887 0.23199311 0.24360123 0.26308941\n",
      " 0.26143737 0.26735839 0.24781173 0.25700757 0.26625502 0.26568705\n",
      " 0.26558894 0.26586285 0.26639462 0.26707295 0.267804   0.26851732\n",
      " 0.26916754 0.26973075 0.2701993  0.27057645]\n",
      "12 day output [[0.27087182]]\n",
      "13 day input [0.75731146 0.73554257 0.74294018 0.73181454 0.56990035 0.55476886\n",
      " 0.52446206 0.51463756 0.554111   0.55068993 0.61323344 0.65707818\n",
      " 0.61665446 0.58174239 0.58842365 0.57662547 0.57871609 0.59240023\n",
      " 0.58272189 0.5608507  0.56854072 0.58446165 0.57074828 0.55406714\n",
      " 0.56082148 0.54048534 0.52598249 0.55897937 0.56010508 0.56554364\n",
      " 0.55343845 0.54435958 0.52687432 0.51760538 0.50083647 0.48840965\n",
      " 0.51330715 0.51035393 0.4863044  0.47269338 0.49131898 0.51146505\n",
      " 0.53174269 0.54519292 0.53640641 0.54858472 0.5362602  0.53804382\n",
      " 0.53532456 0.54213738 0.56159632 0.54646483 0.53640641 0.534769\n",
      " 0.56112848 0.54453501 0.52728367 0.51821938 0.50905279 0.49753239\n",
      " 0.49183068 0.50108499 0.4874886  0.4827079  0.49842417 0.31944871\n",
      " 0.30779674 0.3038494  0.29564769 0.2788203  0.26440518 0.28045773\n",
      " 0.267066   0.28037002 0.28096941 0.287022   0.26408357 0.25333801\n",
      " 0.24183224 0.24849887 0.23199311 0.24360123 0.26308941 0.26143737\n",
      " 0.26735839 0.24781173 0.25700757 0.26625502 0.26568705 0.26558894\n",
      " 0.26586285 0.26639462 0.26707295 0.267804   0.26851732 0.26916754\n",
      " 0.26973075 0.2701993  0.27057645 0.27087182]\n",
      "13 day output [[0.2710975]]\n",
      "14 day input [0.73554257 0.74294018 0.73181454 0.56990035 0.55476886 0.52446206\n",
      " 0.51463756 0.554111   0.55068993 0.61323344 0.65707818 0.61665446\n",
      " 0.58174239 0.58842365 0.57662547 0.57871609 0.59240023 0.58272189\n",
      " 0.5608507  0.56854072 0.58446165 0.57074828 0.55406714 0.56082148\n",
      " 0.54048534 0.52598249 0.55897937 0.56010508 0.56554364 0.55343845\n",
      " 0.54435958 0.52687432 0.51760538 0.50083647 0.48840965 0.51330715\n",
      " 0.51035393 0.4863044  0.47269338 0.49131898 0.51146505 0.53174269\n",
      " 0.54519292 0.53640641 0.54858472 0.5362602  0.53804382 0.53532456\n",
      " 0.54213738 0.56159632 0.54646483 0.53640641 0.534769   0.56112848\n",
      " 0.54453501 0.52728367 0.51821938 0.50905279 0.49753239 0.49183068\n",
      " 0.50108499 0.4874886  0.4827079  0.49842417 0.31944871 0.30779674\n",
      " 0.3038494  0.29564769 0.2788203  0.26440518 0.28045773 0.267066\n",
      " 0.28037002 0.28096941 0.287022   0.26408357 0.25333801 0.24183224\n",
      " 0.24849887 0.23199311 0.24360123 0.26308941 0.26143737 0.26735839\n",
      " 0.24781173 0.25700757 0.26625502 0.26568705 0.26558894 0.26586285\n",
      " 0.26639462 0.26707295 0.267804   0.26851732 0.26916754 0.26973075\n",
      " 0.2701993  0.27057645 0.27087182 0.27109751]\n",
      "14 day output [[0.27126646]]\n",
      "15 day input [0.74294018 0.73181454 0.56990035 0.55476886 0.52446206 0.51463756\n",
      " 0.554111   0.55068993 0.61323344 0.65707818 0.61665446 0.58174239\n",
      " 0.58842365 0.57662547 0.57871609 0.59240023 0.58272189 0.5608507\n",
      " 0.56854072 0.58446165 0.57074828 0.55406714 0.56082148 0.54048534\n",
      " 0.52598249 0.55897937 0.56010508 0.56554364 0.55343845 0.54435958\n",
      " 0.52687432 0.51760538 0.50083647 0.48840965 0.51330715 0.51035393\n",
      " 0.4863044  0.47269338 0.49131898 0.51146505 0.53174269 0.54519292\n",
      " 0.53640641 0.54858472 0.5362602  0.53804382 0.53532456 0.54213738\n",
      " 0.56159632 0.54646483 0.53640641 0.534769   0.56112848 0.54453501\n",
      " 0.52728367 0.51821938 0.50905279 0.49753239 0.49183068 0.50108499\n",
      " 0.4874886  0.4827079  0.49842417 0.31944871 0.30779674 0.3038494\n",
      " 0.29564769 0.2788203  0.26440518 0.28045773 0.267066   0.28037002\n",
      " 0.28096941 0.287022   0.26408357 0.25333801 0.24183224 0.24849887\n",
      " 0.23199311 0.24360123 0.26308941 0.26143737 0.26735839 0.24781173\n",
      " 0.25700757 0.26625502 0.26568705 0.26558894 0.26586285 0.26639462\n",
      " 0.26707295 0.267804   0.26851732 0.26916754 0.26973075 0.2701993\n",
      " 0.27057645 0.27087182 0.27109751 0.27126646]\n",
      "15 day output [[0.27139035]]\n",
      "16 day input [0.73181454 0.56990035 0.55476886 0.52446206 0.51463756 0.554111\n",
      " 0.55068993 0.61323344 0.65707818 0.61665446 0.58174239 0.58842365\n",
      " 0.57662547 0.57871609 0.59240023 0.58272189 0.5608507  0.56854072\n",
      " 0.58446165 0.57074828 0.55406714 0.56082148 0.54048534 0.52598249\n",
      " 0.55897937 0.56010508 0.56554364 0.55343845 0.54435958 0.52687432\n",
      " 0.51760538 0.50083647 0.48840965 0.51330715 0.51035393 0.4863044\n",
      " 0.47269338 0.49131898 0.51146505 0.53174269 0.54519292 0.53640641\n",
      " 0.54858472 0.5362602  0.53804382 0.53532456 0.54213738 0.56159632\n",
      " 0.54646483 0.53640641 0.534769   0.56112848 0.54453501 0.52728367\n",
      " 0.51821938 0.50905279 0.49753239 0.49183068 0.50108499 0.4874886\n",
      " 0.4827079  0.49842417 0.31944871 0.30779674 0.3038494  0.29564769\n",
      " 0.2788203  0.26440518 0.28045773 0.267066   0.28037002 0.28096941\n",
      " 0.287022   0.26408357 0.25333801 0.24183224 0.24849887 0.23199311\n",
      " 0.24360123 0.26308941 0.26143737 0.26735839 0.24781173 0.25700757\n",
      " 0.26625502 0.26568705 0.26558894 0.26586285 0.26639462 0.26707295\n",
      " 0.267804   0.26851732 0.26916754 0.26973075 0.2701993  0.27057645\n",
      " 0.27087182 0.27109751 0.27126646 0.27139035]\n",
      "16 day output [[0.2714795]]\n",
      "17 day input [0.56990035 0.55476886 0.52446206 0.51463756 0.554111   0.55068993\n",
      " 0.61323344 0.65707818 0.61665446 0.58174239 0.58842365 0.57662547\n",
      " 0.57871609 0.59240023 0.58272189 0.5608507  0.56854072 0.58446165\n",
      " 0.57074828 0.55406714 0.56082148 0.54048534 0.52598249 0.55897937\n",
      " 0.56010508 0.56554364 0.55343845 0.54435958 0.52687432 0.51760538\n",
      " 0.50083647 0.48840965 0.51330715 0.51035393 0.4863044  0.47269338\n",
      " 0.49131898 0.51146505 0.53174269 0.54519292 0.53640641 0.54858472\n",
      " 0.5362602  0.53804382 0.53532456 0.54213738 0.56159632 0.54646483\n",
      " 0.53640641 0.534769   0.56112848 0.54453501 0.52728367 0.51821938\n",
      " 0.50905279 0.49753239 0.49183068 0.50108499 0.4874886  0.4827079\n",
      " 0.49842417 0.31944871 0.30779674 0.3038494  0.29564769 0.2788203\n",
      " 0.26440518 0.28045773 0.267066   0.28037002 0.28096941 0.287022\n",
      " 0.26408357 0.25333801 0.24183224 0.24849887 0.23199311 0.24360123\n",
      " 0.26308941 0.26143737 0.26735839 0.24781173 0.25700757 0.26625502\n",
      " 0.26568705 0.26558894 0.26586285 0.26639462 0.26707295 0.267804\n",
      " 0.26851732 0.26916754 0.26973075 0.2701993  0.27057645 0.27087182\n",
      " 0.27109751 0.27126646 0.27139035 0.27147949]\n",
      "17 day output [[0.27154243]]\n",
      "18 day input [0.55476886 0.52446206 0.51463756 0.554111   0.55068993 0.61323344\n",
      " 0.65707818 0.61665446 0.58174239 0.58842365 0.57662547 0.57871609\n",
      " 0.59240023 0.58272189 0.5608507  0.56854072 0.58446165 0.57074828\n",
      " 0.55406714 0.56082148 0.54048534 0.52598249 0.55897937 0.56010508\n",
      " 0.56554364 0.55343845 0.54435958 0.52687432 0.51760538 0.50083647\n",
      " 0.48840965 0.51330715 0.51035393 0.4863044  0.47269338 0.49131898\n",
      " 0.51146505 0.53174269 0.54519292 0.53640641 0.54858472 0.5362602\n",
      " 0.53804382 0.53532456 0.54213738 0.56159632 0.54646483 0.53640641\n",
      " 0.534769   0.56112848 0.54453501 0.52728367 0.51821938 0.50905279\n",
      " 0.49753239 0.49183068 0.50108499 0.4874886  0.4827079  0.49842417\n",
      " 0.31944871 0.30779674 0.3038494  0.29564769 0.2788203  0.26440518\n",
      " 0.28045773 0.267066   0.28037002 0.28096941 0.287022   0.26408357\n",
      " 0.25333801 0.24183224 0.24849887 0.23199311 0.24360123 0.26308941\n",
      " 0.26143737 0.26735839 0.24781173 0.25700757 0.26625502 0.26568705\n",
      " 0.26558894 0.26586285 0.26639462 0.26707295 0.267804   0.26851732\n",
      " 0.26916754 0.26973075 0.2701993  0.27057645 0.27087182 0.27109751\n",
      " 0.27126646 0.27139035 0.27147949 0.27154243]\n",
      "18 day output [[0.27158624]]\n",
      "19 day input [0.52446206 0.51463756 0.554111   0.55068993 0.61323344 0.65707818\n",
      " 0.61665446 0.58174239 0.58842365 0.57662547 0.57871609 0.59240023\n",
      " 0.58272189 0.5608507  0.56854072 0.58446165 0.57074828 0.55406714\n",
      " 0.56082148 0.54048534 0.52598249 0.55897937 0.56010508 0.56554364\n",
      " 0.55343845 0.54435958 0.52687432 0.51760538 0.50083647 0.48840965\n",
      " 0.51330715 0.51035393 0.4863044  0.47269338 0.49131898 0.51146505\n",
      " 0.53174269 0.54519292 0.53640641 0.54858472 0.5362602  0.53804382\n",
      " 0.53532456 0.54213738 0.56159632 0.54646483 0.53640641 0.534769\n",
      " 0.56112848 0.54453501 0.52728367 0.51821938 0.50905279 0.49753239\n",
      " 0.49183068 0.50108499 0.4874886  0.4827079  0.49842417 0.31944871\n",
      " 0.30779674 0.3038494  0.29564769 0.2788203  0.26440518 0.28045773\n",
      " 0.267066   0.28037002 0.28096941 0.287022   0.26408357 0.25333801\n",
      " 0.24183224 0.24849887 0.23199311 0.24360123 0.26308941 0.26143737\n",
      " 0.26735839 0.24781173 0.25700757 0.26625502 0.26568705 0.26558894\n",
      " 0.26586285 0.26639462 0.26707295 0.267804   0.26851732 0.26916754\n",
      " 0.26973075 0.2701993  0.27057645 0.27087182 0.27109751 0.27126646\n",
      " 0.27139035 0.27147949 0.27154243 0.27158624]\n",
      "19 day output [[0.27161658]]\n",
      "20 day input [0.51463756 0.554111   0.55068993 0.61323344 0.65707818 0.61665446\n",
      " 0.58174239 0.58842365 0.57662547 0.57871609 0.59240023 0.58272189\n",
      " 0.5608507  0.56854072 0.58446165 0.57074828 0.55406714 0.56082148\n",
      " 0.54048534 0.52598249 0.55897937 0.56010508 0.56554364 0.55343845\n",
      " 0.54435958 0.52687432 0.51760538 0.50083647 0.48840965 0.51330715\n",
      " 0.51035393 0.4863044  0.47269338 0.49131898 0.51146505 0.53174269\n",
      " 0.54519292 0.53640641 0.54858472 0.5362602  0.53804382 0.53532456\n",
      " 0.54213738 0.56159632 0.54646483 0.53640641 0.534769   0.56112848\n",
      " 0.54453501 0.52728367 0.51821938 0.50905279 0.49753239 0.49183068\n",
      " 0.50108499 0.4874886  0.4827079  0.49842417 0.31944871 0.30779674\n",
      " 0.3038494  0.29564769 0.2788203  0.26440518 0.28045773 0.267066\n",
      " 0.28037002 0.28096941 0.287022   0.26408357 0.25333801 0.24183224\n",
      " 0.24849887 0.23199311 0.24360123 0.26308941 0.26143737 0.26735839\n",
      " 0.24781173 0.25700757 0.26625502 0.26568705 0.26558894 0.26586285\n",
      " 0.26639462 0.26707295 0.267804   0.26851732 0.26916754 0.26973075\n",
      " 0.2701993  0.27057645 0.27087182 0.27109751 0.27126646 0.27139035\n",
      " 0.27147949 0.27154243 0.27158624 0.27161658]\n",
      "20 day output [[0.27163786]]\n",
      "21 day input [0.554111   0.55068993 0.61323344 0.65707818 0.61665446 0.58174239\n",
      " 0.58842365 0.57662547 0.57871609 0.59240023 0.58272189 0.5608507\n",
      " 0.56854072 0.58446165 0.57074828 0.55406714 0.56082148 0.54048534\n",
      " 0.52598249 0.55897937 0.56010508 0.56554364 0.55343845 0.54435958\n",
      " 0.52687432 0.51760538 0.50083647 0.48840965 0.51330715 0.51035393\n",
      " 0.4863044  0.47269338 0.49131898 0.51146505 0.53174269 0.54519292\n",
      " 0.53640641 0.54858472 0.5362602  0.53804382 0.53532456 0.54213738\n",
      " 0.56159632 0.54646483 0.53640641 0.534769   0.56112848 0.54453501\n",
      " 0.52728367 0.51821938 0.50905279 0.49753239 0.49183068 0.50108499\n",
      " 0.4874886  0.4827079  0.49842417 0.31944871 0.30779674 0.3038494\n",
      " 0.29564769 0.2788203  0.26440518 0.28045773 0.267066   0.28037002\n",
      " 0.28096941 0.287022   0.26408357 0.25333801 0.24183224 0.24849887\n",
      " 0.23199311 0.24360123 0.26308941 0.26143737 0.26735839 0.24781173\n",
      " 0.25700757 0.26625502 0.26568705 0.26558894 0.26586285 0.26639462\n",
      " 0.26707295 0.267804   0.26851732 0.26916754 0.26973075 0.2701993\n",
      " 0.27057645 0.27087182 0.27109751 0.27126646 0.27139035 0.27147949\n",
      " 0.27154243 0.27158624 0.27161658 0.27163786]\n",
      "21 day output [[0.2716538]]\n",
      "22 day input [0.55068993 0.61323344 0.65707818 0.61665446 0.58174239 0.58842365\n",
      " 0.57662547 0.57871609 0.59240023 0.58272189 0.5608507  0.56854072\n",
      " 0.58446165 0.57074828 0.55406714 0.56082148 0.54048534 0.52598249\n",
      " 0.55897937 0.56010508 0.56554364 0.55343845 0.54435958 0.52687432\n",
      " 0.51760538 0.50083647 0.48840965 0.51330715 0.51035393 0.4863044\n",
      " 0.47269338 0.49131898 0.51146505 0.53174269 0.54519292 0.53640641\n",
      " 0.54858472 0.5362602  0.53804382 0.53532456 0.54213738 0.56159632\n",
      " 0.54646483 0.53640641 0.534769   0.56112848 0.54453501 0.52728367\n",
      " 0.51821938 0.50905279 0.49753239 0.49183068 0.50108499 0.4874886\n",
      " 0.4827079  0.49842417 0.31944871 0.30779674 0.3038494  0.29564769\n",
      " 0.2788203  0.26440518 0.28045773 0.267066   0.28037002 0.28096941\n",
      " 0.287022   0.26408357 0.25333801 0.24183224 0.24849887 0.23199311\n",
      " 0.24360123 0.26308941 0.26143737 0.26735839 0.24781173 0.25700757\n",
      " 0.26625502 0.26568705 0.26558894 0.26586285 0.26639462 0.26707295\n",
      " 0.267804   0.26851732 0.26916754 0.26973075 0.2701993  0.27057645\n",
      " 0.27087182 0.27109751 0.27126646 0.27139035 0.27147949 0.27154243\n",
      " 0.27158624 0.27161658 0.27163786 0.2716538 ]\n",
      "22 day output [[0.2716673]]\n",
      "23 day input [0.61323344 0.65707818 0.61665446 0.58174239 0.58842365 0.57662547\n",
      " 0.57871609 0.59240023 0.58272189 0.5608507  0.56854072 0.58446165\n",
      " 0.57074828 0.55406714 0.56082148 0.54048534 0.52598249 0.55897937\n",
      " 0.56010508 0.56554364 0.55343845 0.54435958 0.52687432 0.51760538\n",
      " 0.50083647 0.48840965 0.51330715 0.51035393 0.4863044  0.47269338\n",
      " 0.49131898 0.51146505 0.53174269 0.54519292 0.53640641 0.54858472\n",
      " 0.5362602  0.53804382 0.53532456 0.54213738 0.56159632 0.54646483\n",
      " 0.53640641 0.534769   0.56112848 0.54453501 0.52728367 0.51821938\n",
      " 0.50905279 0.49753239 0.49183068 0.50108499 0.4874886  0.4827079\n",
      " 0.49842417 0.31944871 0.30779674 0.3038494  0.29564769 0.2788203\n",
      " 0.26440518 0.28045773 0.267066   0.28037002 0.28096941 0.287022\n",
      " 0.26408357 0.25333801 0.24183224 0.24849887 0.23199311 0.24360123\n",
      " 0.26308941 0.26143737 0.26735839 0.24781173 0.25700757 0.26625502\n",
      " 0.26568705 0.26558894 0.26586285 0.26639462 0.26707295 0.267804\n",
      " 0.26851732 0.26916754 0.26973075 0.2701993  0.27057645 0.27087182\n",
      " 0.27109751 0.27126646 0.27139035 0.27147949 0.27154243 0.27158624\n",
      " 0.27161658 0.27163786 0.2716538  0.2716673 ]\n",
      "23 day output [[0.27168065]]\n",
      "24 day input [0.65707818 0.61665446 0.58174239 0.58842365 0.57662547 0.57871609\n",
      " 0.59240023 0.58272189 0.5608507  0.56854072 0.58446165 0.57074828\n",
      " 0.55406714 0.56082148 0.54048534 0.52598249 0.55897937 0.56010508\n",
      " 0.56554364 0.55343845 0.54435958 0.52687432 0.51760538 0.50083647\n",
      " 0.48840965 0.51330715 0.51035393 0.4863044  0.47269338 0.49131898\n",
      " 0.51146505 0.53174269 0.54519292 0.53640641 0.54858472 0.5362602\n",
      " 0.53804382 0.53532456 0.54213738 0.56159632 0.54646483 0.53640641\n",
      " 0.534769   0.56112848 0.54453501 0.52728367 0.51821938 0.50905279\n",
      " 0.49753239 0.49183068 0.50108499 0.4874886  0.4827079  0.49842417\n",
      " 0.31944871 0.30779674 0.3038494  0.29564769 0.2788203  0.26440518\n",
      " 0.28045773 0.267066   0.28037002 0.28096941 0.287022   0.26408357\n",
      " 0.25333801 0.24183224 0.24849887 0.23199311 0.24360123 0.26308941\n",
      " 0.26143737 0.26735839 0.24781173 0.25700757 0.26625502 0.26568705\n",
      " 0.26558894 0.26586285 0.26639462 0.26707295 0.267804   0.26851732\n",
      " 0.26916754 0.26973075 0.2701993  0.27057645 0.27087182 0.27109751\n",
      " 0.27126646 0.27139035 0.27147949 0.27154243 0.27158624 0.27161658\n",
      " 0.27163786 0.2716538  0.2716673  0.27168065]\n",
      "24 day output [[0.27169555]]\n",
      "25 day input [0.61665446 0.58174239 0.58842365 0.57662547 0.57871609 0.59240023\n",
      " 0.58272189 0.5608507  0.56854072 0.58446165 0.57074828 0.55406714\n",
      " 0.56082148 0.54048534 0.52598249 0.55897937 0.56010508 0.56554364\n",
      " 0.55343845 0.54435958 0.52687432 0.51760538 0.50083647 0.48840965\n",
      " 0.51330715 0.51035393 0.4863044  0.47269338 0.49131898 0.51146505\n",
      " 0.53174269 0.54519292 0.53640641 0.54858472 0.5362602  0.53804382\n",
      " 0.53532456 0.54213738 0.56159632 0.54646483 0.53640641 0.534769\n",
      " 0.56112848 0.54453501 0.52728367 0.51821938 0.50905279 0.49753239\n",
      " 0.49183068 0.50108499 0.4874886  0.4827079  0.49842417 0.31944871\n",
      " 0.30779674 0.3038494  0.29564769 0.2788203  0.26440518 0.28045773\n",
      " 0.267066   0.28037002 0.28096941 0.287022   0.26408357 0.25333801\n",
      " 0.24183224 0.24849887 0.23199311 0.24360123 0.26308941 0.26143737\n",
      " 0.26735839 0.24781173 0.25700757 0.26625502 0.26568705 0.26558894\n",
      " 0.26586285 0.26639462 0.26707295 0.267804   0.26851732 0.26916754\n",
      " 0.26973075 0.2701993  0.27057645 0.27087182 0.27109751 0.27126646\n",
      " 0.27139035 0.27147949 0.27154243 0.27158624 0.27161658 0.27163786\n",
      " 0.2716538  0.2716673  0.27168065 0.27169555]\n",
      "25 day output [[0.2717135]]\n",
      "26 day input [0.58174239 0.58842365 0.57662547 0.57871609 0.59240023 0.58272189\n",
      " 0.5608507  0.56854072 0.58446165 0.57074828 0.55406714 0.56082148\n",
      " 0.54048534 0.52598249 0.55897937 0.56010508 0.56554364 0.55343845\n",
      " 0.54435958 0.52687432 0.51760538 0.50083647 0.48840965 0.51330715\n",
      " 0.51035393 0.4863044  0.47269338 0.49131898 0.51146505 0.53174269\n",
      " 0.54519292 0.53640641 0.54858472 0.5362602  0.53804382 0.53532456\n",
      " 0.54213738 0.56159632 0.54646483 0.53640641 0.534769   0.56112848\n",
      " 0.54453501 0.52728367 0.51821938 0.50905279 0.49753239 0.49183068\n",
      " 0.50108499 0.4874886  0.4827079  0.49842417 0.31944871 0.30779674\n",
      " 0.3038494  0.29564769 0.2788203  0.26440518 0.28045773 0.267066\n",
      " 0.28037002 0.28096941 0.287022   0.26408357 0.25333801 0.24183224\n",
      " 0.24849887 0.23199311 0.24360123 0.26308941 0.26143737 0.26735839\n",
      " 0.24781173 0.25700757 0.26625502 0.26568705 0.26558894 0.26586285\n",
      " 0.26639462 0.26707295 0.267804   0.26851732 0.26916754 0.26973075\n",
      " 0.2701993  0.27057645 0.27087182 0.27109751 0.27126646 0.27139035\n",
      " 0.27147949 0.27154243 0.27158624 0.27161658 0.27163786 0.2716538\n",
      " 0.2716673  0.27168065 0.27169555 0.2717135 ]\n",
      "26 day output [[0.27173534]]\n",
      "27 day input [0.58842365 0.57662547 0.57871609 0.59240023 0.58272189 0.5608507\n",
      " 0.56854072 0.58446165 0.57074828 0.55406714 0.56082148 0.54048534\n",
      " 0.52598249 0.55897937 0.56010508 0.56554364 0.55343845 0.54435958\n",
      " 0.52687432 0.51760538 0.50083647 0.48840965 0.51330715 0.51035393\n",
      " 0.4863044  0.47269338 0.49131898 0.51146505 0.53174269 0.54519292\n",
      " 0.53640641 0.54858472 0.5362602  0.53804382 0.53532456 0.54213738\n",
      " 0.56159632 0.54646483 0.53640641 0.534769   0.56112848 0.54453501\n",
      " 0.52728367 0.51821938 0.50905279 0.49753239 0.49183068 0.50108499\n",
      " 0.4874886  0.4827079  0.49842417 0.31944871 0.30779674 0.3038494\n",
      " 0.29564769 0.2788203  0.26440518 0.28045773 0.267066   0.28037002\n",
      " 0.28096941 0.287022   0.26408357 0.25333801 0.24183224 0.24849887\n",
      " 0.23199311 0.24360123 0.26308941 0.26143737 0.26735839 0.24781173\n",
      " 0.25700757 0.26625502 0.26568705 0.26558894 0.26586285 0.26639462\n",
      " 0.26707295 0.267804   0.26851732 0.26916754 0.26973075 0.2701993\n",
      " 0.27057645 0.27087182 0.27109751 0.27126646 0.27139035 0.27147949\n",
      " 0.27154243 0.27158624 0.27161658 0.27163786 0.2716538  0.2716673\n",
      " 0.27168065 0.27169555 0.2717135  0.27173534]\n",
      "27 day output [[0.27176186]]\n",
      "28 day input [0.57662547 0.57871609 0.59240023 0.58272189 0.5608507  0.56854072\n",
      " 0.58446165 0.57074828 0.55406714 0.56082148 0.54048534 0.52598249\n",
      " 0.55897937 0.56010508 0.56554364 0.55343845 0.54435958 0.52687432\n",
      " 0.51760538 0.50083647 0.48840965 0.51330715 0.51035393 0.4863044\n",
      " 0.47269338 0.49131898 0.51146505 0.53174269 0.54519292 0.53640641\n",
      " 0.54858472 0.5362602  0.53804382 0.53532456 0.54213738 0.56159632\n",
      " 0.54646483 0.53640641 0.534769   0.56112848 0.54453501 0.52728367\n",
      " 0.51821938 0.50905279 0.49753239 0.49183068 0.50108499 0.4874886\n",
      " 0.4827079  0.49842417 0.31944871 0.30779674 0.3038494  0.29564769\n",
      " 0.2788203  0.26440518 0.28045773 0.267066   0.28037002 0.28096941\n",
      " 0.287022   0.26408357 0.25333801 0.24183224 0.24849887 0.23199311\n",
      " 0.24360123 0.26308941 0.26143737 0.26735839 0.24781173 0.25700757\n",
      " 0.26625502 0.26568705 0.26558894 0.26586285 0.26639462 0.26707295\n",
      " 0.267804   0.26851732 0.26916754 0.26973075 0.2701993  0.27057645\n",
      " 0.27087182 0.27109751 0.27126646 0.27139035 0.27147949 0.27154243\n",
      " 0.27158624 0.27161658 0.27163786 0.2716538  0.2716673  0.27168065\n",
      " 0.27169555 0.2717135  0.27173534 0.27176186]\n",
      "28 day output [[0.27179334]]\n",
      "29 day input [0.57871609 0.59240023 0.58272189 0.5608507  0.56854072 0.58446165\n",
      " 0.57074828 0.55406714 0.56082148 0.54048534 0.52598249 0.55897937\n",
      " 0.56010508 0.56554364 0.55343845 0.54435958 0.52687432 0.51760538\n",
      " 0.50083647 0.48840965 0.51330715 0.51035393 0.4863044  0.47269338\n",
      " 0.49131898 0.51146505 0.53174269 0.54519292 0.53640641 0.54858472\n",
      " 0.5362602  0.53804382 0.53532456 0.54213738 0.56159632 0.54646483\n",
      " 0.53640641 0.534769   0.56112848 0.54453501 0.52728367 0.51821938\n",
      " 0.50905279 0.49753239 0.49183068 0.50108499 0.4874886  0.4827079\n",
      " 0.49842417 0.31944871 0.30779674 0.3038494  0.29564769 0.2788203\n",
      " 0.26440518 0.28045773 0.267066   0.28037002 0.28096941 0.287022\n",
      " 0.26408357 0.25333801 0.24183224 0.24849887 0.23199311 0.24360123\n",
      " 0.26308941 0.26143737 0.26735839 0.24781173 0.25700757 0.26625502\n",
      " 0.26568705 0.26558894 0.26586285 0.26639462 0.26707295 0.267804\n",
      " 0.26851732 0.26916754 0.26973075 0.2701993  0.27057645 0.27087182\n",
      " 0.27109751 0.27126646 0.27139035 0.27147949 0.27154243 0.27158624\n",
      " 0.27161658 0.27163786 0.2716538  0.2716673  0.27168065 0.27169555\n",
      " 0.2717135  0.27173534 0.27176186 0.27179334]\n",
      "29 day output [[0.27183005]]\n"
     ]
    }
   ],
   "source": [
    "# Prediction for next 30 days\n",
    "from numpy import array\n",
    "\n",
    "lst_output=[]\n",
    "n_steps=100\n",
    "i=0\n",
    "while i<30:\n",
    "\n",
    "    if len(temp_input)>100:\n",
    "        x_input=np.array(temp_input[1:])\n",
    "        print(\"{} day input {}\".format(i,x_input))\n",
    "        x_input=x_input.reshape(1,-1)\n",
    "        x_input = x_input.reshape((1, n_steps, 1))\n",
    "        yhat = model.predict(x_input, verbose=0)\n",
    "        print(\"{} day output {}\".format(i,yhat))\n",
    "        temp_input.extend(yhat[0].tolist())\n",
    "        temp_input=temp_input[1:]\n",
    "        lst_output.extend(yhat.tolist())\n",
    "        i=i+1\n",
    "    else:\n",
    "        x_input = x_input.reshape((1, n_steps,1))\n",
    "        yhat = model.predict(x_input, verbose=0)\n",
    "        temp_input.extend(yhat[0].tolist())\n",
    "        lst_output.extend(yhat.tolist())\n",
    "        i=i+1"
   ],
   "metadata": {
    "collapsed": false,
    "pycharm": {
     "name": "#%%\n"
    }
   }
  },
  {
   "cell_type": "code",
   "execution_count": 21,
   "outputs": [],
   "source": [
    "day_new=np.arange(1,101)\n",
    "day_pred=np.arange(101,131)"
   ],
   "metadata": {
    "collapsed": false,
    "pycharm": {
     "name": "#%%\n"
    }
   }
  },
  {
   "cell_type": "code",
   "execution_count": 22,
   "outputs": [
    {
     "name": "stdout",
     "output_type": "stream",
     "text": [
      "[[189.80529008]\n",
      " [189.41679434]\n",
      " [189.3496872 ]\n",
      " [189.53704496]\n",
      " [189.90077303]\n",
      " [190.36475411]\n",
      " [190.8647961 ]\n",
      " [191.35270908]\n",
      " [191.79746718]\n",
      " [192.18270133]\n",
      " [192.50319298]\n",
      " [192.7611641 ]\n",
      " [192.96319901]\n",
      " [193.11757398]\n",
      " [193.23313607]\n",
      " [193.31787616]\n",
      " [193.37884745]\n",
      " [193.42190039]\n",
      " [193.45186622]\n",
      " [193.47261806]\n",
      " [193.48717289]\n",
      " [193.49807883]\n",
      " [193.50731319]\n",
      " [193.51644563]\n",
      " [193.52663809]\n",
      " [193.53890981]\n",
      " [193.55385196]\n",
      " [193.57199453]\n",
      " [193.593521  ]\n",
      " [193.61863522]]\n"
     ]
    }
   ],
   "source": [
    "print(scaler.inverse_transform(lst_output[0:]))"
   ],
   "metadata": {
    "collapsed": false,
    "pycharm": {
     "name": "#%%\n"
    }
   }
  },
  {
   "cell_type": "code",
   "execution_count": 23,
   "outputs": [
    {
     "data": {
      "text/plain": "[<matplotlib.lines.Line2D at 0x25c837a69a0>]"
     },
     "execution_count": 23,
     "metadata": {},
     "output_type": "execute_result"
    },
    {
     "data": {
      "text/plain": "<Figure size 432x288 with 1 Axes>",
      "image/png": "[encoded data removed]"
     },
     "metadata": {
      "needs_background": "light"
     },
     "output_type": "display_data"
    }
   ],
   "source": [
    "plt.plot(day_new,scaler.inverse_transform(df1[len(df1)-100:]))\n",
    "plt.plot(day_pred,scaler.inverse_transform(lst_output))"
   ],
   "metadata": {
    "collapsed": false,
    "pycharm": {
     "name": "#%%\n"
    }
   }
  },
  {
   "cell_type": "code",
   "execution_count": 24,
   "outputs": [
    {
     "data": {
      "text/plain": "[<matplotlib.lines.Line2D at 0x25c8394f0d0>]"
     },
     "execution_count": 24,
     "metadata": {},
     "output_type": "execute_result"
    },
    {
     "data": {
      "text/plain": "<Figure size 432x288 with 1 Axes>",
      "image/png": "[encoded data removed]"
     },
     "metadata": {
      "needs_background": "light"
     },
     "output_type": "display_data"
    }
   ],
   "source": [
    "df3=df1.tolist()\n",
    "df3.extend(lst_output)\n",
    "plt.plot(df3[1200:])"
   ],
   "metadata": {
    "collapsed": false,
    "pycharm": {
     "name": "#%%\n"
    }
   }
  },
  {
   "cell_type": "code",
   "execution_count": 25,
   "outputs": [],
   "source": [
    "df3=scaler.inverse_transform(df3).tolist()"
   ],
   "metadata": {
    "collapsed": false,
    "pycharm": {
     "name": "#%%\n"
    }
   }
  },
  {
   "cell_type": "code",
   "execution_count": 26,
   "outputs": [
    {
     "data": {
      "text/plain": "[<matplotlib.lines.Line2D at 0x25c83b48160>]"
     },
     "execution_count": 26,
     "metadata": {},
     "output_type": "execute_result"
    },
    {
     "data": {
      "text/plain": "<Figure size 432x288 with 1 Axes>",
      "image/png": "[encoded data removed]"
     },
     "metadata": {
      "needs_background": "light"
     },
     "output_type": "display_data"
    }
   ],
   "source": [
    "plt.plot(df3)"
   ],
   "metadata": {
    "collapsed": false,
    "pycharm": {
     "name": "#%%\n"
    }
   }
  },
  {
   "cell_type": "code",
   "execution_count": 27,
   "outputs": [],
   "source": [
    "import time\n",
    "from datetime import datetime\n",
    "\n",
    "SECONDS_IN_DAY = 86400\n",
    "\n",
    "now = int( time.time() )\n",
    "\n",
    "data_set = {\"c\": [], \"t\": []}\n",
    "inversed_output = scaler.inverse_transform(lst_output)\n",
    "inversed_output.tolist()\n",
    "for i in range(len(inversed_output)):\n",
    "    now = SECONDS_IN_DAY + now\n",
    "    data_set[\"c\"].insert(i, round(float(inversed_output[i]), 2))\n",
    "    data_set[\"t\"].insert(i, int(now))"
   ],
   "metadata": {
    "collapsed": false,
    "pycharm": {
     "name": "#%%\n"
    }
   }
  },
  {
   "cell_type": "code",
   "execution_count": 28,
   "outputs": [],
   "source": [
    "import json\n",
    "with open('../src/stock_json/nflx.json', 'w', encoding='utf-8') as f:\n",
    "    json.dump(data_set, f, ensure_ascii=False, indent=4)"
   ],
   "metadata": {
    "collapsed": false,
    "pycharm": {
     "name": "#%%\n"
    }
   }
  }
 ],
 "metadata": {
  "kernelspec": {
   "display_name": "Python 3",
   "language": "python",
   "name": "python3"
  },
  "language_info": {
   "codemirror_mode": {
    "name": "ipython",
    "version": 2
   },
   "file_extension": ".py",
   "mimetype": "text/x-python",
   "name": "python",
   "nbconvert_exporter": "python",
   "pygments_lexer": "ipython2",
   "version": "2.7.6"
  }
 },
 "nbformat": 4,
 "nbformat_minor": 0
}