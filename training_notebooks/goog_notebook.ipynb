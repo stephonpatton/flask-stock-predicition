{
 "cells": [
  {
   "cell_type": "code",
   "execution_count": 1,
   "outputs": [
    {
     "name": "stdout",
     "output_type": "stream",
     "text": [
      "Requirement already satisfied: matplotlib==3.5.2 in e:\\conda\\lib\\site-packages (from -r requirements.txt (line 1)) (3.5.2)\n",
      "Requirement already satisfied: numpy==1.22.3 in e:\\conda\\lib\\site-packages (from -r requirements.txt (line 2)) (1.22.3)\n",
      "Requirement already satisfied: pandas==1.4.2 in e:\\conda\\lib\\site-packages (from -r requirements.txt (line 3)) (1.4.2)\n",
      "Requirement already satisfied: scikit_learn==1.1.0 in e:\\conda\\lib\\site-packages (from -r requirements.txt (line 4)) (1.1.0)\n",
      "Requirement already satisfied: tensorflow==2.8.0 in e:\\conda\\lib\\site-packages (from -r requirements.txt (line 5)) (2.8.0)\n",
      "Requirement already satisfied: yfinance==0.1.70 in e:\\conda\\lib\\site-packages (from -r requirements.txt (line 6)) (0.1.70)\n",
      "Requirement already satisfied: pillow>=6.2.0 in e:\\conda\\lib\\site-packages (from matplotlib==3.5.2->-r requirements.txt (line 1)) (9.0.1)\n",
      "Requirement already satisfied: packaging>=20.0 in e:\\conda\\lib\\site-packages (from matplotlib==3.5.2->-r requirements.txt (line 1)) (21.3)\n",
      "Requirement already satisfied: pyparsing>=2.2.1 in e:\\conda\\lib\\site-packages (from matplotlib==3.5.2->-r requirements.txt (line 1)) (3.0.4)\n",
      "Requirement already satisfied: fonttools>=4.22.0 in e:\\conda\\lib\\site-packages (from matplotlib==3.5.2->-r requirements.txt (line 1)) (4.25.0)\n",
      "Requirement already satisfied: python-dateutil>=2.7 in e:\\conda\\lib\\site-packages (from matplotlib==3.5.2->-r requirements.txt (line 1)) (2.8.2)\n",
      "Requirement already satisfied: kiwisolver>=1.0.1 in e:\\conda\\lib\\site-packages (from matplotlib==3.5.2->-r requirements.txt (line 1)) (1.3.2)\n",
      "Requirement already satisfied: cycler>=0.10 in e:\\conda\\lib\\site-packages (from matplotlib==3.5.2->-r requirements.txt (line 1)) (0.11.0)\n",
      "Requirement already satisfied: pytz>=2020.1 in e:\\conda\\lib\\site-packages (from pandas==1.4.2->-r requirements.txt (line 3)) (2021.3)\n",
      "Requirement already satisfied: threadpoolctl>=2.0.0 in e:\\conda\\lib\\site-packages (from scikit_learn==1.1.0->-r requirements.txt (line 4)) (2.2.0)\n",
      "Requirement already satisfied: joblib>=1.0.0 in e:\\conda\\lib\\site-packages (from scikit_learn==1.1.0->-r requirements.txt (line 4)) (1.1.0)\n",
      "Requirement already satisfied: scipy>=1.3.2 in e:\\conda\\lib\\site-packages (from scikit_learn==1.1.0->-r requirements.txt (line 4)) (1.7.3)\n",
      "Requirement already satisfied: keras<2.9,>=2.8.0rc0 in e:\\conda\\lib\\site-packages (from tensorflow==2.8.0->-r requirements.txt (line 5)) (2.8.0)\n",
      "Requirement already satisfied: opt-einsum>=2.3.2 in e:\\conda\\lib\\site-packages (from tensorflow==2.8.0->-r requirements.txt (line 5)) (3.3.0)\n",
      "Requirement already satisfied: wrapt>=1.11.0 in c:\\users\\stephon patton\\appdata\\roaming\\python\\python39\\site-packages (from tensorflow==2.8.0->-r requirements.txt (line 5)) (1.12.1)\n",
      "Requirement already satisfied: setuptools in e:\\conda\\lib\\site-packages (from tensorflow==2.8.0->-r requirements.txt (line 5)) (61.2.0)\n",
      "Requirement already satisfied: gast>=0.2.1 in e:\\conda\\lib\\site-packages (from tensorflow==2.8.0->-r requirements.txt (line 5)) (0.5.3)\n",
      "Requirement already satisfied: six>=1.12.0 in c:\\users\\stephon patton\\appdata\\roaming\\python\\python39\\site-packages (from tensorflow==2.8.0->-r requirements.txt (line 5)) (1.15.0)\n",
      "Requirement already satisfied: keras-preprocessing>=1.1.1 in e:\\conda\\lib\\site-packages (from tensorflow==2.8.0->-r requirements.txt (line 5)) (1.1.2)\n",
      "Requirement already satisfied: tensorboard<2.9,>=2.8 in e:\\conda\\lib\\site-packages (from tensorflow==2.8.0->-r requirements.txt (line 5)) (2.8.0)\n",
      "Requirement already satisfied: libclang>=9.0.1 in e:\\conda\\lib\\site-packages (from tensorflow==2.8.0->-r requirements.txt (line 5)) (14.0.1)\n",
      "Requirement already satisfied: termcolor>=1.1.0 in e:\\conda\\lib\\site-packages (from tensorflow==2.8.0->-r requirements.txt (line 5)) (1.1.0)\n",
      "Requirement already satisfied: tf-estimator-nightly==2.8.0.dev2021122109 in e:\\conda\\lib\\site-packages (from tensorflow==2.8.0->-r requirements.txt (line 5)) (2.8.0.dev2021122109)\n",
      "Requirement already satisfied: protobuf>=3.9.2 in e:\\conda\\lib\\site-packages (from tensorflow==2.8.0->-r requirements.txt (line 5)) (3.19.1)\n",
      "Requirement already satisfied: absl-py>=0.4.0 in e:\\conda\\lib\\site-packages (from tensorflow==2.8.0->-r requirements.txt (line 5)) (1.0.0)\n",
      "Requirement already satisfied: flatbuffers>=1.12 in e:\\conda\\lib\\site-packages (from tensorflow==2.8.0->-r requirements.txt (line 5)) (2.0)\n",
      "Requirement already satisfied: grpcio<2.0,>=1.24.3 in e:\\conda\\lib\\site-packages (from tensorflow==2.8.0->-r requirements.txt (line 5)) (1.42.0)\n",
      "Requirement already satisfied: tensorflow-io-gcs-filesystem>=0.23.1 in e:\\conda\\lib\\site-packages (from tensorflow==2.8.0->-r requirements.txt (line 5)) (0.25.0)\n",
      "Requirement already satisfied: google-pasta>=0.1.1 in e:\\conda\\lib\\site-packages (from tensorflow==2.8.0->-r requirements.txt (line 5)) (0.2.0)\n",
      "Requirement already satisfied: h5py>=2.9.0 in e:\\conda\\lib\\site-packages (from tensorflow==2.8.0->-r requirements.txt (line 5)) (3.6.0)\n",
      "Requirement already satisfied: typing-extensions>=3.6.6 in e:\\conda\\lib\\site-packages (from tensorflow==2.8.0->-r requirements.txt (line 5)) (4.1.1)\n",
      "Requirement already satisfied: astunparse>=1.6.0 in e:\\conda\\lib\\site-packages (from tensorflow==2.8.0->-r requirements.txt (line 5)) (1.6.3)\n",
      "Requirement already satisfied: multitasking>=0.0.7 in e:\\conda\\lib\\site-packages (from yfinance==0.1.70->-r requirements.txt (line 6)) (0.0.10)\n",
      "Requirement already satisfied: requests>=2.26 in e:\\conda\\lib\\site-packages (from yfinance==0.1.70->-r requirements.txt (line 6)) (2.27.1)\n",
      "Requirement already satisfied: lxml>=4.5.1 in e:\\conda\\lib\\site-packages (from yfinance==0.1.70->-r requirements.txt (line 6)) (4.8.0)\n",
      "Requirement already satisfied: wheel<1.0,>=0.23.0 in e:\\conda\\lib\\site-packages (from astunparse>=1.6.0->tensorflow==2.8.0->-r requirements.txt (line 5)) (0.37.1)\n",
      "Requirement already satisfied: idna<4,>=2.5 in e:\\conda\\lib\\site-packages (from requests>=2.26->yfinance==0.1.70->-r requirements.txt (line 6)) (3.3)\n",
      "Requirement already satisfied: certifi>=2017.4.17 in e:\\conda\\lib\\site-packages (from requests>=2.26->yfinance==0.1.70->-r requirements.txt (line 6)) (2021.10.8)\n",
      "Requirement already satisfied: charset-normalizer~=2.0.0 in e:\\conda\\lib\\site-packages (from requests>=2.26->yfinance==0.1.70->-r requirements.txt (line 6)) (2.0.4)\n",
      "Requirement already satisfied: urllib3<1.27,>=1.21.1 in e:\\conda\\lib\\site-packages (from requests>=2.26->yfinance==0.1.70->-r requirements.txt (line 6)) (1.26.9)\n",
      "Requirement already satisfied: markdown>=2.6.8 in e:\\conda\\lib\\site-packages (from tensorboard<2.9,>=2.8->tensorflow==2.8.0->-r requirements.txt (line 5)) (3.3.4)\n",
      "Requirement already satisfied: tensorboard-data-server<0.7.0,>=0.6.0 in e:\\conda\\lib\\site-packages (from tensorboard<2.9,>=2.8->tensorflow==2.8.0->-r requirements.txt (line 5)) (0.6.1)\n",
      "Requirement already satisfied: tensorboard-plugin-wit>=1.6.0 in e:\\conda\\lib\\site-packages (from tensorboard<2.9,>=2.8->tensorflow==2.8.0->-r requirements.txt (line 5)) (1.8.1)\n",
      "Requirement already satisfied: google-auth-oauthlib<0.5,>=0.4.1 in e:\\conda\\lib\\site-packages (from tensorboard<2.9,>=2.8->tensorflow==2.8.0->-r requirements.txt (line 5)) (0.4.6)\n",
      "Requirement already satisfied: werkzeug>=0.11.15 in e:\\conda\\lib\\site-packages (from tensorboard<2.9,>=2.8->tensorflow==2.8.0->-r requirements.txt (line 5)) (2.0.3)\n",
      "Requirement already satisfied: google-auth<3,>=1.6.3 in e:\\conda\\lib\\site-packages (from tensorboard<2.9,>=2.8->tensorflow==2.8.0->-r requirements.txt (line 5)) (1.33.0)\n",
      "Requirement already satisfied: rsa<5,>=3.1.4 in e:\\conda\\lib\\site-packages (from google-auth<3,>=1.6.3->tensorboard<2.9,>=2.8->tensorflow==2.8.0->-r requirements.txt (line 5)) (4.7.2)\n",
      "Requirement already satisfied: pyasn1-modules>=0.2.1 in e:\\conda\\lib\\site-packages (from google-auth<3,>=1.6.3->tensorboard<2.9,>=2.8->tensorflow==2.8.0->-r requirements.txt (line 5)) (0.2.8)\n",
      "Requirement already satisfied: cachetools<5.0,>=2.0.0 in e:\\conda\\lib\\site-packages (from google-auth<3,>=1.6.3->tensorboard<2.9,>=2.8->tensorflow==2.8.0->-r requirements.txt (line 5)) (4.2.2)\n",
      "Requirement already satisfied: requests-oauthlib>=0.7.0 in e:\\conda\\lib\\site-packages (from google-auth-oauthlib<0.5,>=0.4.1->tensorboard<2.9,>=2.8->tensorflow==2.8.0->-r requirements.txt (line 5)) (1.3.1)\n",
      "Requirement already satisfied: pyasn1<0.5.0,>=0.4.6 in e:\\conda\\lib\\site-packages (from pyasn1-modules>=0.2.1->google-auth<3,>=1.6.3->tensorboard<2.9,>=2.8->tensorflow==2.8.0->-r requirements.txt (line 5)) (0.4.8)\n",
      "Requirement already satisfied: oauthlib>=3.0.0 in e:\\conda\\lib\\site-packages (from requests-oauthlib>=0.7.0->google-auth-oauthlib<0.5,>=0.4.1->tensorboard<2.9,>=2.8->tensorflow==2.8.0->-r requirements.txt (line 5)) (3.2.0)\n",
      "Requirement already satisfied: tensorflow-gpu in e:\\conda\\lib\\site-packages (2.8.0)\n",
      "Requirement already satisfied: libclang>=9.0.1 in e:\\conda\\lib\\site-packages (from tensorflow-gpu) (14.0.1)\n",
      "Requirement already satisfied: astunparse>=1.6.0 in e:\\conda\\lib\\site-packages (from tensorflow-gpu) (1.6.3)\n",
      "Requirement already satisfied: wrapt>=1.11.0 in c:\\users\\stephon patton\\appdata\\roaming\\python\\python39\\site-packages (from tensorflow-gpu) (1.12.1)\n",
      "Requirement already satisfied: keras<2.9,>=2.8.0rc0 in e:\\conda\\lib\\site-packages (from tensorflow-gpu) (2.8.0)\n",
      "Requirement already satisfied: gast>=0.2.1 in e:\\conda\\lib\\site-packages (from tensorflow-gpu) (0.5.3)\n",
      "Requirement already satisfied: protobuf>=3.9.2 in e:\\conda\\lib\\site-packages (from tensorflow-gpu) (3.19.1)\n",
      "Requirement already satisfied: absl-py>=0.4.0 in e:\\conda\\lib\\site-packages (from tensorflow-gpu) (1.0.0)\n",
      "Requirement already satisfied: setuptools in e:\\conda\\lib\\site-packages (from tensorflow-gpu) (61.2.0)\n",
      "Requirement already satisfied: numpy>=1.20 in e:\\conda\\lib\\site-packages (from tensorflow-gpu) (1.22.3)\n",
      "Requirement already satisfied: tensorflow-io-gcs-filesystem>=0.23.1 in e:\\conda\\lib\\site-packages (from tensorflow-gpu) (0.25.0)\n",
      "Requirement already satisfied: keras-preprocessing>=1.1.1 in e:\\conda\\lib\\site-packages (from tensorflow-gpu) (1.1.2)\n",
      "Requirement already satisfied: grpcio<2.0,>=1.24.3 in e:\\conda\\lib\\site-packages (from tensorflow-gpu) (1.42.0)\n",
      "Requirement already satisfied: six>=1.12.0 in c:\\users\\stephon patton\\appdata\\roaming\\python\\python39\\site-packages (from tensorflow-gpu) (1.15.0)\n",
      "Requirement already satisfied: tensorboard<2.9,>=2.8 in e:\\conda\\lib\\site-packages (from tensorflow-gpu) (2.8.0)\n",
      "Requirement already satisfied: opt-einsum>=2.3.2 in e:\\conda\\lib\\site-packages (from tensorflow-gpu) (3.3.0)\n",
      "Requirement already satisfied: typing-extensions>=3.6.6 in e:\\conda\\lib\\site-packages (from tensorflow-gpu) (4.1.1)\n",
      "Requirement already satisfied: flatbuffers>=1.12 in e:\\conda\\lib\\site-packages (from tensorflow-gpu) (2.0)\n",
      "Requirement already satisfied: termcolor>=1.1.0 in e:\\conda\\lib\\site-packages (from tensorflow-gpu) (1.1.0)\n",
      "Requirement already satisfied: google-pasta>=0.1.1 in e:\\conda\\lib\\site-packages (from tensorflow-gpu) (0.2.0)\n",
      "Requirement already satisfied: tf-estimator-nightly==2.8.0.dev2021122109 in e:\\conda\\lib\\site-packages (from tensorflow-gpu) (2.8.0.dev2021122109)\n",
      "Requirement already satisfied: h5py>=2.9.0 in e:\\conda\\lib\\site-packages (from tensorflow-gpu) (3.6.0)\n",
      "Requirement already satisfied: wheel<1.0,>=0.23.0 in e:\\conda\\lib\\site-packages (from astunparse>=1.6.0->tensorflow-gpu) (0.37.1)\n",
      "Requirement already satisfied: tensorboard-plugin-wit>=1.6.0 in e:\\conda\\lib\\site-packages (from tensorboard<2.9,>=2.8->tensorflow-gpu) (1.8.1)\n",
      "Requirement already satisfied: requests<3,>=2.21.0 in e:\\conda\\lib\\site-packages (from tensorboard<2.9,>=2.8->tensorflow-gpu) (2.27.1)\n",
      "Requirement already satisfied: tensorboard-data-server<0.7.0,>=0.6.0 in e:\\conda\\lib\\site-packages (from tensorboard<2.9,>=2.8->tensorflow-gpu) (0.6.1)\n",
      "Requirement already satisfied: markdown>=2.6.8 in e:\\conda\\lib\\site-packages (from tensorboard<2.9,>=2.8->tensorflow-gpu) (3.3.4)\n",
      "Requirement already satisfied: google-auth-oauthlib<0.5,>=0.4.1 in e:\\conda\\lib\\site-packages (from tensorboard<2.9,>=2.8->tensorflow-gpu) (0.4.6)\n",
      "Requirement already satisfied: werkzeug>=0.11.15 in e:\\conda\\lib\\site-packages (from tensorboard<2.9,>=2.8->tensorflow-gpu) (2.0.3)\n",
      "Requirement already satisfied: google-auth<3,>=1.6.3 in e:\\conda\\lib\\site-packages (from tensorboard<2.9,>=2.8->tensorflow-gpu) (1.33.0)\n",
      "Requirement already satisfied: rsa<5,>=3.1.4 in e:\\conda\\lib\\site-packages (from google-auth<3,>=1.6.3->tensorboard<2.9,>=2.8->tensorflow-gpu) (4.7.2)\n",
      "Requirement already satisfied: cachetools<5.0,>=2.0.0 in e:\\conda\\lib\\site-packages (from google-auth<3,>=1.6.3->tensorboard<2.9,>=2.8->tensorflow-gpu) (4.2.2)\n",
      "Requirement already satisfied: pyasn1-modules>=0.2.1 in e:\\conda\\lib\\site-packages (from google-auth<3,>=1.6.3->tensorboard<2.9,>=2.8->tensorflow-gpu) (0.2.8)\n",
      "Requirement already satisfied: requests-oauthlib>=0.7.0 in e:\\conda\\lib\\site-packages (from google-auth-oauthlib<0.5,>=0.4.1->tensorboard<2.9,>=2.8->tensorflow-gpu) (1.3.1)\n",
      "Requirement already satisfied: pyasn1<0.5.0,>=0.4.6 in e:\\conda\\lib\\site-packages (from pyasn1-modules>=0.2.1->google-auth<3,>=1.6.3->tensorboard<2.9,>=2.8->tensorflow-gpu) (0.4.8)\n",
      "Requirement already satisfied: charset-normalizer~=2.0.0 in e:\\conda\\lib\\site-packages (from requests<3,>=2.21.0->tensorboard<2.9,>=2.8->tensorflow-gpu) (2.0.4)\n",
      "Requirement already satisfied: urllib3<1.27,>=1.21.1 in e:\\conda\\lib\\site-packages (from requests<3,>=2.21.0->tensorboard<2.9,>=2.8->tensorflow-gpu) (1.26.9)\n",
      "Requirement already satisfied: idna<4,>=2.5 in e:\\conda\\lib\\site-packages (from requests<3,>=2.21.0->tensorboard<2.9,>=2.8->tensorflow-gpu) (3.3)\n",
      "Requirement already satisfied: certifi>=2017.4.17 in e:\\conda\\lib\\site-packages (from requests<3,>=2.21.0->tensorboard<2.9,>=2.8->tensorflow-gpu) (2021.10.8)\n",
      "Requirement already satisfied: oauthlib>=3.0.0 in e:\\conda\\lib\\site-packages (from requests-oauthlib>=0.7.0->google-auth-oauthlib<0.5,>=0.4.1->tensorboard<2.9,>=2.8->tensorflow-gpu) (3.2.0)\n"
     ]
    }
   ],
   "source": [
    "!pip install -r requirements.txt\n",
    "# !pip install tensorflow yfinance pandas sklearn"
   ],
   "metadata": {
    "collapsed": false,
    "pycharm": {
     "name": "#%%\n"
    }
   }
  },
  {
   "cell_type": "code",
   "execution_count": 2,
   "outputs": [],
   "source": [
    "import pandas as pd\n",
    "import tensorflow as tf\n",
    "import yfinance as yf"
   ],
   "metadata": {
    "collapsed": false,
    "pycharm": {
     "name": "#%%\n"
    }
   }
  },
  {
   "cell_type": "code",
   "execution_count": 4,
   "outputs": [
    {
     "name": "stdout",
     "output_type": "stream",
     "text": [
      "2012-05-22 23:27:13.033654\n",
      "2012-05-22\n",
      "2022-05-20\n",
      "[*********************100%***********************]  1 of 1 completed\n"
     ]
    }
   ],
   "source": [
    "from datetime import datetime, timedelta\n",
    "end_date = datetime.today().strftime('%Y-%m-%d')\n",
    "start_date_dt = datetime.now() - timedelta(days=10*365)\n",
    "start_date = start_date_dt.strftime('%Y-%m-%d')\n",
    "goog = yf.download(\"GOOG\", start = start_date, end = end_date)"
   ],
   "metadata": {
    "collapsed": false,
    "pycharm": {
     "name": "#%%\n"
    }
   }
  },
  {
   "cell_type": "code",
   "execution_count": 5,
   "outputs": [
    {
     "data": {
      "text/plain": "0        299.278229\n1        303.592072\n2        300.702881\n3        294.660553\n4        296.060303\n           ...     \n2511    2330.310059\n2512    2295.850098\n2513    2334.030029\n2514    2248.020020\n2515    2214.909912\nName: Close, Length: 2516, dtype: float64"
     },
     "execution_count": 5,
     "metadata": {},
     "output_type": "execute_result"
    }
   ],
   "source": [
    "df = pd.DataFrame(goog)\n",
    "df1 = df.reset_index()['Close']"
   ],
   "metadata": {
    "collapsed": false,
    "pycharm": {
     "name": "#%%\n"
    }
   }
  },
  {
   "cell_type": "code",
   "execution_count": 6,
   "outputs": [
    {
     "data": {
      "text/plain": "[<matplotlib.lines.Line2D at 0x2ab1b78ce50>]"
     },
     "execution_count": 6,
     "metadata": {},
     "output_type": "execute_result"
    },
    {
     "data": {
      "text/plain": "<Figure size 432x288 with 1 Axes>",
      "image/png": "[encoded data removed]"
     },
     "metadata": {
      "needs_background": "light"
     },
     "output_type": "display_data"
    }
   ],
   "source": [
    "import matplotlib.pyplot as plt\n",
    "plt.plot(df1)"
   ],
   "metadata": {
    "collapsed": false,
    "pycharm": {
     "name": "#%%\n"
    }
   }
  },
  {
   "cell_type": "code",
   "execution_count": 7,
   "outputs": [],
   "source": [
    "import numpy as np\n",
    "from sklearn.preprocessing import MinMaxScaler\n",
    "scaler=MinMaxScaler(feature_range=(0,1))\n",
    "df1 = scaler.fit_transform(np.array(df1).reshape(-1, 1))"
   ],
   "metadata": {
    "collapsed": false,
    "pycharm": {
     "name": "#%%\n"
    }
   }
  },
  {
   "cell_type": "code",
   "execution_count": 8,
   "outputs": [],
   "source": [
    "# Split data\n",
    "train_size = int(len(df1)*.95) # 95%\n",
    "test_size = len(df1) - train_size\n",
    "train, test = df1[0:train_size,:], df1[train_size:len(df1), :1]"
   ],
   "metadata": {
    "collapsed": false,
    "pycharm": {
     "name": "#%%\n"
    }
   }
  },
  {
   "cell_type": "code",
   "execution_count": 10,
   "outputs": [],
   "source": [
    "def create_dataset(data, time_step=1):\n",
    "    dataX, dataY = [], []\n",
    "    for i in range(len(data)-time_step-1):\n",
    "        a = data[i:(i+time_step), 0]\n",
    "        dataX.append(a)\n",
    "        dataY.append(data[i + time_step, 0])\n",
    "    return np.array(dataX), np.array(dataY)"
   ],
   "metadata": {
    "collapsed": false,
    "pycharm": {
     "name": "#%%\n"
    }
   }
  },
  {
   "cell_type": "code",
   "execution_count": 11,
   "outputs": [],
   "source": [
    "time_step = 100\n",
    "X_train, y_train = create_dataset(train, time_step)\n",
    "X_test, y_test = create_dataset(test, time_step)"
   ],
   "metadata": {
    "collapsed": false,
    "pycharm": {
     "name": "#%%\n"
    }
   }
  },
  {
   "cell_type": "code",
   "execution_count": 14,
   "outputs": [
    {
     "name": "stdout",
     "output_type": "stream",
     "text": [
      "(2289, 100, 1)\n",
      "(25, 100, 1)\n"
     ]
    }
   ],
   "source": [
    "# Reshape to be inputted into LSTM\n",
    "X_train = X_train.reshape(X_train.shape[0], X_train.shape[1], 1)\n",
    "X_test = X_test.reshape(X_test.shape[0], X_test.shape[1], 1)"
   ],
   "metadata": {
    "collapsed": false,
    "pycharm": {
     "name": "#%%\n"
    }
   }
  },
  {
   "cell_type": "code",
   "execution_count": 15,
   "outputs": [],
   "source": [
    "# Create Stacked LSTM\n",
    "from tensorflow.keras.models import Sequential\n",
    "from tensorflow.keras.layers import Dense\n",
    "from tensorflow.keras.layers import LSTM\n",
    "from tensorflow.keras.layers import Dropout\n",
    "model = Sequential()\n",
    "model.add(LSTM(50, return_sequences=True, input_shape=(100, 1)))\n",
    "model.add(Dropout(.5))\n",
    "model.add(LSTM(50, return_sequences=True))\n",
    "model.add(LSTM(50, return_sequences=True))\n",
    "model.add(LSTM(50))\n",
    "model.add(Dense(1))\n",
    "model.compile(loss='mean_squared_error', optimizer='adam')"
   ],
   "metadata": {
    "collapsed": false,
    "pycharm": {
     "name": "#%%\n"
    }
   }
  },
  {
   "cell_type": "code",
   "execution_count": 16,
   "outputs": [
    {
     "name": "stdout",
     "output_type": "stream",
     "text": [
      "Model: \"sequential\"\n",
      "_________________________________________________________________\n",
      " Layer (type)                Output Shape              Param #   \n",
      "=================================================================\n",
      " lstm (LSTM)                 (None, 100, 50)           10400     \n",
      "                                                                 \n",
      " dropout (Dropout)           (None, 100, 50)           0         \n",
      "                                                                 \n",
      " lstm_1 (LSTM)               (None, 100, 50)           20200     \n",
      "                                                                 \n",
      " lstm_2 (LSTM)               (None, 100, 50)           20200     \n",
      "                                                                 \n",
      " lstm_3 (LSTM)               (None, 50)                20200     \n",
      "                                                                 \n",
      " dense (Dense)               (None, 1)                 51        \n",
      "                                                                 \n",
      "=================================================================\n",
      "Total params: 71,051\n",
      "Trainable params: 71,051\n",
      "Non-trainable params: 0\n",
      "_________________________________________________________________\n"
     ]
    }
   ],
   "source": [
    "model.summary()"
   ],
   "metadata": {
    "collapsed": false,
    "pycharm": {
     "name": "#%%\n"
    }
   }
  },
  {
   "cell_type": "code",
   "execution_count": 17,
   "outputs": [
    {
     "name": "stdout",
     "output_type": "stream",
     "text": [
      "Epoch 1/100\n",
      "10/10 [==============================] - 10s 484ms/step - loss: 0.0405 - val_loss: 0.0270\n",
      "Epoch 2/100\n",
      "10/10 [==============================] - 3s 338ms/step - loss: 0.0077 - val_loss: 0.0576\n",
      "Epoch 3/100\n",
      "10/10 [==============================] - 4s 380ms/step - loss: 0.0025 - val_loss: 0.0253\n",
      "Epoch 4/100\n",
      "10/10 [==============================] - 4s 381ms/step - loss: 0.0014 - val_loss: 0.0022\n",
      "Epoch 5/100\n",
      "10/10 [==============================] - 4s 385ms/step - loss: 9.6670e-04 - val_loss: 0.0099\n",
      "Epoch 6/100\n",
      "10/10 [==============================] - 4s 378ms/step - loss: 6.2913e-04 - val_loss: 0.0227\n",
      "Epoch 7/100\n",
      "10/10 [==============================] - 4s 379ms/step - loss: 6.4307e-04 - val_loss: 0.0168\n",
      "Epoch 8/100\n",
      "10/10 [==============================] - 4s 390ms/step - loss: 6.3038e-04 - val_loss: 0.0098\n",
      "Epoch 9/100\n",
      "10/10 [==============================] - 4s 387ms/step - loss: 5.8039e-04 - val_loss: 0.0143\n",
      "Epoch 10/100\n",
      "10/10 [==============================] - 4s 390ms/step - loss: 5.5693e-04 - val_loss: 0.0123\n",
      "Epoch 11/100\n",
      "10/10 [==============================] - 4s 381ms/step - loss: 5.4494e-04 - val_loss: 0.0101\n",
      "Epoch 12/100\n",
      "10/10 [==============================] - 4s 385ms/step - loss: 5.8400e-04 - val_loss: 0.0139\n",
      "Epoch 13/100\n",
      "10/10 [==============================] - 4s 383ms/step - loss: 5.1804e-04 - val_loss: 0.0145\n",
      "Epoch 14/100\n",
      "10/10 [==============================] - 4s 391ms/step - loss: 5.4723e-04 - val_loss: 0.0149\n",
      "Epoch 15/100\n",
      "10/10 [==============================] - 4s 398ms/step - loss: 5.2914e-04 - val_loss: 0.0179\n",
      "Epoch 16/100\n",
      "10/10 [==============================] - 4s 403ms/step - loss: 5.5754e-04 - val_loss: 0.0183\n",
      "Epoch 17/100\n",
      "10/10 [==============================] - 4s 401ms/step - loss: 5.6944e-04 - val_loss: 0.0178\n",
      "Epoch 18/100\n",
      "10/10 [==============================] - 4s 404ms/step - loss: 5.7691e-04 - val_loss: 0.0162\n",
      "Epoch 19/100\n",
      "10/10 [==============================] - 4s 403ms/step - loss: 5.0818e-04 - val_loss: 0.0150\n",
      "Epoch 20/100\n",
      "10/10 [==============================] - 4s 404ms/step - loss: 5.0126e-04 - val_loss: 0.0123\n",
      "Epoch 21/100\n",
      "10/10 [==============================] - 4s 403ms/step - loss: 4.9700e-04 - val_loss: 0.0167\n",
      "Epoch 22/100\n",
      "10/10 [==============================] - 4s 397ms/step - loss: 5.1919e-04 - val_loss: 0.0123\n",
      "Epoch 23/100\n",
      "10/10 [==============================] - 4s 400ms/step - loss: 4.9852e-04 - val_loss: 0.0135\n",
      "Epoch 24/100\n",
      "10/10 [==============================] - 4s 395ms/step - loss: 5.0019e-04 - val_loss: 0.0134\n",
      "Epoch 25/100\n",
      "10/10 [==============================] - 4s 408ms/step - loss: 5.1823e-04 - val_loss: 0.0113\n",
      "Epoch 26/100\n",
      "10/10 [==============================] - 4s 415ms/step - loss: 5.1890e-04 - val_loss: 0.0115\n",
      "Epoch 27/100\n",
      "10/10 [==============================] - 4s 413ms/step - loss: 5.1414e-04 - val_loss: 0.0161\n",
      "Epoch 28/100\n",
      "10/10 [==============================] - 4s 412ms/step - loss: 5.4920e-04 - val_loss: 0.0216\n",
      "Epoch 29/100\n",
      "10/10 [==============================] - 4s 415ms/step - loss: 5.6652e-04 - val_loss: 0.0177\n",
      "Epoch 30/100\n",
      "10/10 [==============================] - 4s 408ms/step - loss: 5.1119e-04 - val_loss: 0.0123\n",
      "Epoch 31/100\n",
      "10/10 [==============================] - 4s 426ms/step - loss: 4.6326e-04 - val_loss: 0.0127\n",
      "Epoch 32/100\n",
      "10/10 [==============================] - 4s 409ms/step - loss: 4.8906e-04 - val_loss: 0.0134\n",
      "Epoch 33/100\n",
      "10/10 [==============================] - 4s 425ms/step - loss: 4.6493e-04 - val_loss: 0.0126\n",
      "Epoch 34/100\n",
      "10/10 [==============================] - 4s 419ms/step - loss: 4.4168e-04 - val_loss: 0.0147\n",
      "Epoch 35/100\n",
      "10/10 [==============================] - 4s 416ms/step - loss: 4.6281e-04 - val_loss: 0.0151\n",
      "Epoch 36/100\n",
      "10/10 [==============================] - 4s 411ms/step - loss: 4.7857e-04 - val_loss: 0.0116\n",
      "Epoch 37/100\n",
      "10/10 [==============================] - 4s 410ms/step - loss: 4.5958e-04 - val_loss: 0.0160\n",
      "Epoch 38/100\n",
      "10/10 [==============================] - 4s 404ms/step - loss: 4.6100e-04 - val_loss: 0.0137\n",
      "Epoch 39/100\n",
      "10/10 [==============================] - 4s 395ms/step - loss: 4.5775e-04 - val_loss: 0.0116\n",
      "Epoch 40/100\n",
      "10/10 [==============================] - 4s 397ms/step - loss: 4.7958e-04 - val_loss: 0.0098\n",
      "Epoch 41/100\n",
      "10/10 [==============================] - 4s 400ms/step - loss: 4.6275e-04 - val_loss: 0.0141\n",
      "Epoch 42/100\n",
      "10/10 [==============================] - 4s 400ms/step - loss: 4.4929e-04 - val_loss: 0.0122\n",
      "Epoch 43/100\n",
      "10/10 [==============================] - 4s 407ms/step - loss: 4.5252e-04 - val_loss: 0.0079\n",
      "Epoch 44/100\n",
      "10/10 [==============================] - 4s 399ms/step - loss: 4.8952e-04 - val_loss: 0.0130\n",
      "Epoch 45/100\n",
      "10/10 [==============================] - 4s 399ms/step - loss: 4.3593e-04 - val_loss: 0.0157\n",
      "Epoch 46/100\n",
      "10/10 [==============================] - 4s 394ms/step - loss: 4.3193e-04 - val_loss: 0.0105\n",
      "Epoch 47/100\n",
      "10/10 [==============================] - 4s 401ms/step - loss: 4.4031e-04 - val_loss: 0.0172\n",
      "Epoch 48/100\n",
      "10/10 [==============================] - 4s 402ms/step - loss: 4.7140e-04 - val_loss: 0.0134\n",
      "Epoch 49/100\n",
      "10/10 [==============================] - 4s 394ms/step - loss: 4.2068e-04 - val_loss: 0.0136\n",
      "Epoch 50/100\n",
      "10/10 [==============================] - 4s 392ms/step - loss: 4.3310e-04 - val_loss: 0.0158\n",
      "Epoch 51/100\n",
      "10/10 [==============================] - 4s 392ms/step - loss: 4.2760e-04 - val_loss: 0.0122\n",
      "Epoch 52/100\n",
      "10/10 [==============================] - 4s 387ms/step - loss: 4.2010e-04 - val_loss: 0.0124\n",
      "Epoch 53/100\n",
      "10/10 [==============================] - 4s 389ms/step - loss: 4.1210e-04 - val_loss: 0.0120\n",
      "Epoch 54/100\n",
      "10/10 [==============================] - 4s 391ms/step - loss: 4.2928e-04 - val_loss: 0.0149\n",
      "Epoch 55/100\n",
      "10/10 [==============================] - 4s 396ms/step - loss: 4.3765e-04 - val_loss: 0.0078\n",
      "Epoch 56/100\n",
      "10/10 [==============================] - 4s 390ms/step - loss: 4.1775e-04 - val_loss: 0.0102\n",
      "Epoch 57/100\n",
      "10/10 [==============================] - 4s 396ms/step - loss: 4.4324e-04 - val_loss: 0.0220\n",
      "Epoch 58/100\n",
      "10/10 [==============================] - 4s 387ms/step - loss: 4.6739e-04 - val_loss: 0.0088\n",
      "Epoch 59/100\n",
      "10/10 [==============================] - 4s 399ms/step - loss: 4.4736e-04 - val_loss: 0.0144\n",
      "Epoch 60/100\n",
      "10/10 [==============================] - 4s 393ms/step - loss: 4.0494e-04 - val_loss: 0.0122\n",
      "Epoch 61/100\n",
      "10/10 [==============================] - 4s 394ms/step - loss: 3.7673e-04 - val_loss: 0.0118\n",
      "Epoch 62/100\n",
      "10/10 [==============================] - 4s 386ms/step - loss: 3.9800e-04 - val_loss: 0.0146\n",
      "Epoch 63/100\n",
      "10/10 [==============================] - 4s 396ms/step - loss: 3.7756e-04 - val_loss: 0.0107\n",
      "Epoch 64/100\n",
      "10/10 [==============================] - 4s 390ms/step - loss: 4.2941e-04 - val_loss: 0.0094\n",
      "Epoch 65/100\n",
      "10/10 [==============================] - 4s 391ms/step - loss: 4.0925e-04 - val_loss: 0.0175\n",
      "Epoch 66/100\n",
      "10/10 [==============================] - 4s 391ms/step - loss: 3.8077e-04 - val_loss: 0.0233\n",
      "Epoch 67/100\n",
      "10/10 [==============================] - 4s 412ms/step - loss: 4.3691e-04 - val_loss: 0.0079\n",
      "Epoch 68/100\n",
      "10/10 [==============================] - 4s 430ms/step - loss: 4.0617e-04 - val_loss: 0.0088\n",
      "Epoch 69/100\n",
      "10/10 [==============================] - 5s 454ms/step - loss: 3.8950e-04 - val_loss: 0.0205\n",
      "Epoch 70/100\n",
      "10/10 [==============================] - 5s 451ms/step - loss: 4.0490e-04 - val_loss: 0.0082\n",
      "Epoch 71/100\n",
      "10/10 [==============================] - 5s 452ms/step - loss: 3.7257e-04 - val_loss: 0.0162\n",
      "Epoch 72/100\n",
      "10/10 [==============================] - 5s 454ms/step - loss: 3.7513e-04 - val_loss: 0.0190\n",
      "Epoch 73/100\n",
      "10/10 [==============================] - 4s 446ms/step - loss: 3.9176e-04 - val_loss: 0.0111\n",
      "Epoch 74/100\n",
      "10/10 [==============================] - 4s 442ms/step - loss: 3.6216e-04 - val_loss: 0.0090\n",
      "Epoch 75/100\n",
      "10/10 [==============================] - 4s 447ms/step - loss: 4.2485e-04 - val_loss: 0.0144\n",
      "Epoch 76/100\n",
      "10/10 [==============================] - 5s 448ms/step - loss: 3.6209e-04 - val_loss: 0.0175\n",
      "Epoch 77/100\n",
      "10/10 [==============================] - 5s 447ms/step - loss: 3.7753e-04 - val_loss: 0.0156\n",
      "Epoch 78/100\n",
      "10/10 [==============================] - 4s 440ms/step - loss: 3.7470e-04 - val_loss: 0.0077\n",
      "Epoch 79/100\n",
      "10/10 [==============================] - 4s 431ms/step - loss: 3.6443e-04 - val_loss: 0.0187\n",
      "Epoch 80/100\n",
      "10/10 [==============================] - 4s 429ms/step - loss: 4.1348e-04 - val_loss: 0.0123\n",
      "Epoch 81/100\n",
      "10/10 [==============================] - 4s 426ms/step - loss: 3.5729e-04 - val_loss: 0.0124\n",
      "Epoch 82/100\n",
      "10/10 [==============================] - 4s 435ms/step - loss: 3.4885e-04 - val_loss: 0.0116\n",
      "Epoch 83/100\n",
      "10/10 [==============================] - 4s 433ms/step - loss: 3.2182e-04 - val_loss: 0.0167\n",
      "Epoch 84/100\n",
      "10/10 [==============================] - 4s 431ms/step - loss: 3.5251e-04 - val_loss: 0.0078\n",
      "Epoch 85/100\n",
      "10/10 [==============================] - 4s 439ms/step - loss: 3.5056e-04 - val_loss: 0.0094\n",
      "Epoch 86/100\n",
      "10/10 [==============================] - 4s 429ms/step - loss: 3.4200e-04 - val_loss: 0.0159\n",
      "Epoch 87/100\n",
      "10/10 [==============================] - 4s 436ms/step - loss: 3.5027e-04 - val_loss: 0.0106\n",
      "Epoch 88/100\n",
      "10/10 [==============================] - 4s 437ms/step - loss: 3.3473e-04 - val_loss: 0.0208\n",
      "Epoch 89/100\n",
      "10/10 [==============================] - 4s 433ms/step - loss: 4.0478e-04 - val_loss: 0.0133\n",
      "Epoch 90/100\n",
      "10/10 [==============================] - 4s 425ms/step - loss: 3.3605e-04 - val_loss: 0.0065\n",
      "Epoch 91/100\n",
      "10/10 [==============================] - 4s 428ms/step - loss: 3.6048e-04 - val_loss: 0.0171\n",
      "Epoch 92/100\n",
      "10/10 [==============================] - 4s 426ms/step - loss: 3.1227e-04 - val_loss: 0.0157\n",
      "Epoch 93/100\n",
      "10/10 [==============================] - 4s 435ms/step - loss: 3.0989e-04 - val_loss: 0.0133\n",
      "Epoch 94/100\n",
      "10/10 [==============================] - 4s 428ms/step - loss: 3.0388e-04 - val_loss: 0.0111\n",
      "Epoch 95/100\n",
      "10/10 [==============================] - 4s 431ms/step - loss: 2.9454e-04 - val_loss: 0.0158\n",
      "Epoch 96/100\n",
      "10/10 [==============================] - 4s 419ms/step - loss: 3.2090e-04 - val_loss: 0.0143\n",
      "Epoch 97/100\n",
      "10/10 [==============================] - 4s 425ms/step - loss: 3.2033e-04 - val_loss: 0.0085\n",
      "Epoch 98/100\n",
      "10/10 [==============================] - 4s 430ms/step - loss: 3.7779e-04 - val_loss: 0.0099\n",
      "Epoch 99/100\n",
      "10/10 [==============================] - 4s 428ms/step - loss: 3.2135e-04 - val_loss: 0.0115\n",
      "Epoch 100/100\n",
      "10/10 [==============================] - 4s 432ms/step - loss: 2.7431e-04 - val_loss: 0.0077\n"
     ]
    },
    {
     "data": {
      "text/plain": "<keras.callbacks.History at 0x2ab211980d0>"
     },
     "execution_count": 17,
     "metadata": {},
     "output_type": "execute_result"
    }
   ],
   "source": [
    "model.fit(X_train, y_train, validation_data=(X_test, y_test), epochs=100, batch_size=250, verbose=1)"
   ],
   "metadata": {
    "collapsed": false,
    "pycharm": {
     "name": "#%%\n"
    }
   }
  },
  {
   "cell_type": "code",
   "execution_count": 20,
   "outputs": [
    {
     "name": "stdout",
     "output_type": "stream",
     "text": [
      "KerasTensor(type_spec=TensorSpec(shape=(None, 100, 1), dtype=tf.float32, name='lstm_input'), name='lstm_input', description=\"created by layer 'lstm_input'\")\n"
     ]
    }
   ],
   "source": [
    "prediction = model.predict(X_train)\n",
    "test_prediction = model.predict(X_test)"
   ],
   "metadata": {
    "collapsed": false,
    "pycharm": {
     "name": "#%%\n"
    }
   }
  },
  {
   "cell_type": "code",
   "execution_count": 21,
   "outputs": [],
   "source": [
    "prediction = scaler.inverse_transform(prediction)\n",
    "test_prediction = scaler.inverse_transform(test_prediction)"
   ],
   "metadata": {
    "collapsed": false,
    "pycharm": {
     "name": "#%%\n"
    }
   }
  },
  {
   "cell_type": "code",
   "execution_count": 22,
   "outputs": [
    {
     "data": {
      "text/plain": "1161.3206983334346"
     },
     "execution_count": 22,
     "metadata": {},
     "output_type": "execute_result"
    }
   ],
   "source": [
    "import math\n",
    "from sklearn.metrics import mean_squared_error\n",
    "math.sqrt(mean_squared_error(y_train, prediction))"
   ],
   "metadata": {
    "collapsed": false,
    "pycharm": {
     "name": "#%%\n"
    }
   }
  },
  {
   "cell_type": "code",
   "execution_count": 23,
   "outputs": [
    {
     "data": {
      "text/plain": "2621.8088744775187"
     },
     "execution_count": 23,
     "metadata": {},
     "output_type": "execute_result"
    }
   ],
   "source": [
    "math.sqrt(mean_squared_error(y_test, test_prediction))"
   ],
   "metadata": {
    "collapsed": false,
    "pycharm": {
     "name": "#%%\n"
    }
   }
  },
  {
   "cell_type": "code",
   "execution_count": 26,
   "outputs": [
    {
     "data": {
      "text/plain": "(1, 100)"
     },
     "execution_count": 26,
     "metadata": {},
     "output_type": "execute_result"
    }
   ],
   "source": [
    "x_input = test[len(test)-100:].reshape(1, -1)"
   ],
   "metadata": {
    "collapsed": false,
    "pycharm": {
     "name": "#%%\n"
    }
   }
  },
  {
   "cell_type": "code",
   "execution_count": 27,
   "outputs": [],
   "source": [
    "temp_input = list(x_input)\n",
    "temp_input = temp_input[0].tolist()"
   ],
   "metadata": {
    "collapsed": false,
    "pycharm": {
     "name": "#%%\n"
    }
   }
  },
  {
   "cell_type": "code",
   "execution_count": 29,
   "outputs": [
    {
     "name": "stdout",
     "output_type": "stream",
     "text": [
      "1 day input [0.96926202 0.96559201 0.95591991 0.95880762 0.95399718 0.9045546\n",
      " 0.90380523 0.89980993 0.91128411 0.92183722 0.93375734 0.91535625\n",
      " 0.92014839 0.89459005 0.88992213 0.87423687 0.8492744  0.85132135\n",
      " 0.82473583 0.84304563 0.8421756  0.87265049 0.89026205 0.90619952\n",
      " 0.98046205 0.94108638 0.94375848 0.91394523 0.91595569 0.93233178\n",
      " 0.91149249 0.8787952  0.88734873 0.89557698 0.90334099 0.86547861\n",
      " 0.85201959 0.84423362 0.83094631 0.86814705 0.88164266 0.88435866\n",
      " 0.87907301 0.8833388  0.88009644 0.86411516 0.82275465 0.82870561\n",
      " 0.87686515 0.86820916 0.85207804 0.82477608 0.84611976 0.87558211\n",
      " 0.88223487 0.89832583 0.89596447 0.92373799 0.91076873 0.93130094\n",
      " 0.93283252 0.9359652  0.94546917 0.94104247 0.91914682 0.92682676\n",
      " 0.94833867 0.92948057 0.9010637  0.89586577 0.87792151 0.84711401\n",
      " 0.83671815 0.85069264 0.82851918 0.83369515 0.85248383 0.83577504\n",
      " 0.81159112 0.77267237 0.79925424 0.77188285 0.73909042 0.77119193\n",
      " 0.7386957  0.75470982 0.76181959 0.79431948 0.75170877 0.74376565\n",
      " 0.72493316 0.73590294 0.7313447  0.72549611 0.75002004 0.73742364\n",
      " 0.75137983 0.71993996 0.70783698 0.82340068]\n",
      "1 day output [[0.82310474]]\n",
      "2 day input [0.96559201 0.95591991 0.95880762 0.95399718 0.9045546  0.90380523\n",
      " 0.89980993 0.91128411 0.92183722 0.93375734 0.91535625 0.92014839\n",
      " 0.89459005 0.88992213 0.87423687 0.8492744  0.85132135 0.82473583\n",
      " 0.84304563 0.8421756  0.87265049 0.89026205 0.90619952 0.98046205\n",
      " 0.94108638 0.94375848 0.91394523 0.91595569 0.93233178 0.91149249\n",
      " 0.8787952  0.88734873 0.89557698 0.90334099 0.86547861 0.85201959\n",
      " 0.84423362 0.83094631 0.86814705 0.88164266 0.88435866 0.87907301\n",
      " 0.8833388  0.88009644 0.86411516 0.82275465 0.82870561 0.87686515\n",
      " 0.86820916 0.85207804 0.82477608 0.84611976 0.87558211 0.88223487\n",
      " 0.89832583 0.89596447 0.92373799 0.91076873 0.93130094 0.93283252\n",
      " 0.9359652  0.94546917 0.94104247 0.91914682 0.92682676 0.94833867\n",
      " 0.92948057 0.9010637  0.89586577 0.87792151 0.84711401 0.83671815\n",
      " 0.85069264 0.82851918 0.83369515 0.85248383 0.83577504 0.81159112\n",
      " 0.77267237 0.79925424 0.77188285 0.73909042 0.77119193 0.7386957\n",
      " 0.75470982 0.76181959 0.79431948 0.75170877 0.74376565 0.72493316\n",
      " 0.73590294 0.7313447  0.72549611 0.75002004 0.73742364 0.75137983\n",
      " 0.71993996 0.70783698 0.82340068 0.82310474]\n",
      "2 day output [[0.82379204]]\n",
      "3 day input [0.95591991 0.95880762 0.95399718 0.9045546  0.90380523 0.89980993\n",
      " 0.91128411 0.92183722 0.93375734 0.91535625 0.92014839 0.89459005\n",
      " 0.88992213 0.87423687 0.8492744  0.85132135 0.82473583 0.84304563\n",
      " 0.8421756  0.87265049 0.89026205 0.90619952 0.98046205 0.94108638\n",
      " 0.94375848 0.91394523 0.91595569 0.93233178 0.91149249 0.8787952\n",
      " 0.88734873 0.89557698 0.90334099 0.86547861 0.85201959 0.84423362\n",
      " 0.83094631 0.86814705 0.88164266 0.88435866 0.87907301 0.8833388\n",
      " 0.88009644 0.86411516 0.82275465 0.82870561 0.87686515 0.86820916\n",
      " 0.85207804 0.82477608 0.84611976 0.87558211 0.88223487 0.89832583\n",
      " 0.89596447 0.92373799 0.91076873 0.93130094 0.93283252 0.9359652\n",
      " 0.94546917 0.94104247 0.91914682 0.92682676 0.94833867 0.92948057\n",
      " 0.9010637  0.89586577 0.87792151 0.84711401 0.83671815 0.85069264\n",
      " 0.82851918 0.83369515 0.85248383 0.83577504 0.81159112 0.77267237\n",
      " 0.79925424 0.77188285 0.73909042 0.77119193 0.7386957  0.75470982\n",
      " 0.76181959 0.79431948 0.75170877 0.74376565 0.72493316 0.73590294\n",
      " 0.7313447  0.72549611 0.75002004 0.73742364 0.75137983 0.71993996\n",
      " 0.70783698 0.82340068 0.82310474 0.82379204]\n",
      "3 day output [[0.82570225]]\n",
      "4 day input [0.95880762 0.95399718 0.9045546  0.90380523 0.89980993 0.91128411\n",
      " 0.92183722 0.93375734 0.91535625 0.92014839 0.89459005 0.88992213\n",
      " 0.87423687 0.8492744  0.85132135 0.82473583 0.84304563 0.8421756\n",
      " 0.87265049 0.89026205 0.90619952 0.98046205 0.94108638 0.94375848\n",
      " 0.91394523 0.91595569 0.93233178 0.91149249 0.8787952  0.88734873\n",
      " 0.89557698 0.90334099 0.86547861 0.85201959 0.84423362 0.83094631\n",
      " 0.86814705 0.88164266 0.88435866 0.87907301 0.8833388  0.88009644\n",
      " 0.86411516 0.82275465 0.82870561 0.87686515 0.86820916 0.85207804\n",
      " 0.82477608 0.84611976 0.87558211 0.88223487 0.89832583 0.89596447\n",
      " 0.92373799 0.91076873 0.93130094 0.93283252 0.9359652  0.94546917\n",
      " 0.94104247 0.91914682 0.92682676 0.94833867 0.92948057 0.9010637\n",
      " 0.89586577 0.87792151 0.84711401 0.83671815 0.85069264 0.82851918\n",
      " 0.83369515 0.85248383 0.83577504 0.81159112 0.77267237 0.79925424\n",
      " 0.77188285 0.73909042 0.77119193 0.7386957  0.75470982 0.76181959\n",
      " 0.79431948 0.75170877 0.74376565 0.72493316 0.73590294 0.7313447\n",
      " 0.72549611 0.75002004 0.73742364 0.75137983 0.71993996 0.70783698\n",
      " 0.82340068 0.82310474 0.82379204 0.82570225]\n",
      "4 day output [[0.8288357]]\n",
      "5 day input [0.95399718 0.9045546  0.90380523 0.89980993 0.91128411 0.92183722\n",
      " 0.93375734 0.91535625 0.92014839 0.89459005 0.88992213 0.87423687\n",
      " 0.8492744  0.85132135 0.82473583 0.84304563 0.8421756  0.87265049\n",
      " 0.89026205 0.90619952 0.98046205 0.94108638 0.94375848 0.91394523\n",
      " 0.91595569 0.93233178 0.91149249 0.8787952  0.88734873 0.89557698\n",
      " 0.90334099 0.86547861 0.85201959 0.84423362 0.83094631 0.86814705\n",
      " 0.88164266 0.88435866 0.87907301 0.8833388  0.88009644 0.86411516\n",
      " 0.82275465 0.82870561 0.87686515 0.86820916 0.85207804 0.82477608\n",
      " 0.84611976 0.87558211 0.88223487 0.89832583 0.89596447 0.92373799\n",
      " 0.91076873 0.93130094 0.93283252 0.9359652  0.94546917 0.94104247\n",
      " 0.91914682 0.92682676 0.94833867 0.92948057 0.9010637  0.89586577\n",
      " 0.87792151 0.84711401 0.83671815 0.85069264 0.82851918 0.83369515\n",
      " 0.85248383 0.83577504 0.81159112 0.77267237 0.79925424 0.77188285\n",
      " 0.73909042 0.77119193 0.7386957  0.75470982 0.76181959 0.79431948\n",
      " 0.75170877 0.74376565 0.72493316 0.73590294 0.7313447  0.72549611\n",
      " 0.75002004 0.73742364 0.75137983 0.71993996 0.70783698 0.82340068\n",
      " 0.82310474 0.82379204 0.82570225 0.82883573]\n",
      "5 day output [[0.83301026]]\n",
      "6 day input [0.9045546  0.90380523 0.89980993 0.91128411 0.92183722 0.93375734\n",
      " 0.91535625 0.92014839 0.89459005 0.88992213 0.87423687 0.8492744\n",
      " 0.85132135 0.82473583 0.84304563 0.8421756  0.87265049 0.89026205\n",
      " 0.90619952 0.98046205 0.94108638 0.94375848 0.91394523 0.91595569\n",
      " 0.93233178 0.91149249 0.8787952  0.88734873 0.89557698 0.90334099\n",
      " 0.86547861 0.85201959 0.84423362 0.83094631 0.86814705 0.88164266\n",
      " 0.88435866 0.87907301 0.8833388  0.88009644 0.86411516 0.82275465\n",
      " 0.82870561 0.87686515 0.86820916 0.85207804 0.82477608 0.84611976\n",
      " 0.87558211 0.88223487 0.89832583 0.89596447 0.92373799 0.91076873\n",
      " 0.93130094 0.93283252 0.9359652  0.94546917 0.94104247 0.91914682\n",
      " 0.92682676 0.94833867 0.92948057 0.9010637  0.89586577 0.87792151\n",
      " 0.84711401 0.83671815 0.85069264 0.82851918 0.83369515 0.85248383\n",
      " 0.83577504 0.81159112 0.77267237 0.79925424 0.77188285 0.73909042\n",
      " 0.77119193 0.7386957  0.75470982 0.76181959 0.79431948 0.75170877\n",
      " 0.74376565 0.72493316 0.73590294 0.7313447  0.72549611 0.75002004\n",
      " 0.73742364 0.75137983 0.71993996 0.70783698 0.82340068 0.82310474\n",
      " 0.82379204 0.82570225 0.82883573 0.83301026]\n",
      "6 day output [[0.83793086]]\n",
      "7 day input [0.90380523 0.89980993 0.91128411 0.92183722 0.93375734 0.91535625\n",
      " 0.92014839 0.89459005 0.88992213 0.87423687 0.8492744  0.85132135\n",
      " 0.82473583 0.84304563 0.8421756  0.87265049 0.89026205 0.90619952\n",
      " 0.98046205 0.94108638 0.94375848 0.91394523 0.91595569 0.93233178\n",
      " 0.91149249 0.8787952  0.88734873 0.89557698 0.90334099 0.86547861\n",
      " 0.85201959 0.84423362 0.83094631 0.86814705 0.88164266 0.88435866\n",
      " 0.87907301 0.8833388  0.88009644 0.86411516 0.82275465 0.82870561\n",
      " 0.87686515 0.86820916 0.85207804 0.82477608 0.84611976 0.87558211\n",
      " 0.88223487 0.89832583 0.89596447 0.92373799 0.91076873 0.93130094\n",
      " 0.93283252 0.9359652  0.94546917 0.94104247 0.91914682 0.92682676\n",
      " 0.94833867 0.92948057 0.9010637  0.89586577 0.87792151 0.84711401\n",
      " 0.83671815 0.85069264 0.82851918 0.83369515 0.85248383 0.83577504\n",
      " 0.81159112 0.77267237 0.79925424 0.77188285 0.73909042 0.77119193\n",
      " 0.7386957  0.75470982 0.76181959 0.79431948 0.75170877 0.74376565\n",
      " 0.72493316 0.73590294 0.7313447  0.72549611 0.75002004 0.73742364\n",
      " 0.75137983 0.71993996 0.70783698 0.82340068 0.82310474 0.82379204\n",
      " 0.82570225 0.82883573 0.83301026 0.83793086]\n",
      "7 day output [[0.8432578]]\n",
      "8 day input [0.89980993 0.91128411 0.92183722 0.93375734 0.91535625 0.92014839\n",
      " 0.89459005 0.88992213 0.87423687 0.8492744  0.85132135 0.82473583\n",
      " 0.84304563 0.8421756  0.87265049 0.89026205 0.90619952 0.98046205\n",
      " 0.94108638 0.94375848 0.91394523 0.91595569 0.93233178 0.91149249\n",
      " 0.8787952  0.88734873 0.89557698 0.90334099 0.86547861 0.85201959\n",
      " 0.84423362 0.83094631 0.86814705 0.88164266 0.88435866 0.87907301\n",
      " 0.8833388  0.88009644 0.86411516 0.82275465 0.82870561 0.87686515\n",
      " 0.86820916 0.85207804 0.82477608 0.84611976 0.87558211 0.88223487\n",
      " 0.89832583 0.89596447 0.92373799 0.91076873 0.93130094 0.93283252\n",
      " 0.9359652  0.94546917 0.94104247 0.91914682 0.92682676 0.94833867\n",
      " 0.92948057 0.9010637  0.89586577 0.87792151 0.84711401 0.83671815\n",
      " 0.85069264 0.82851918 0.83369515 0.85248383 0.83577504 0.81159112\n",
      " 0.77267237 0.79925424 0.77188285 0.73909042 0.77119193 0.7386957\n",
      " 0.75470982 0.76181959 0.79431948 0.75170877 0.74376565 0.72493316\n",
      " 0.73590294 0.7313447  0.72549611 0.75002004 0.73742364 0.75137983\n",
      " 0.71993996 0.70783698 0.82340068 0.82310474 0.82379204 0.82570225\n",
      " 0.82883573 0.83301026 0.83793086 0.84325778]\n",
      "8 day output [[0.8486643]]\n",
      "9 day input [0.91128411 0.92183722 0.93375734 0.91535625 0.92014839 0.89459005\n",
      " 0.88992213 0.87423687 0.8492744  0.85132135 0.82473583 0.84304563\n",
      " 0.8421756  0.87265049 0.89026205 0.90619952 0.98046205 0.94108638\n",
      " 0.94375848 0.91394523 0.91595569 0.93233178 0.91149249 0.8787952\n",
      " 0.88734873 0.89557698 0.90334099 0.86547861 0.85201959 0.84423362\n",
      " 0.83094631 0.86814705 0.88164266 0.88435866 0.87907301 0.8833388\n",
      " 0.88009644 0.86411516 0.82275465 0.82870561 0.87686515 0.86820916\n",
      " 0.85207804 0.82477608 0.84611976 0.87558211 0.88223487 0.89832583\n",
      " 0.89596447 0.92373799 0.91076873 0.93130094 0.93283252 0.9359652\n",
      " 0.94546917 0.94104247 0.91914682 0.92682676 0.94833867 0.92948057\n",
      " 0.9010637  0.89586577 0.87792151 0.84711401 0.83671815 0.85069264\n",
      " 0.82851918 0.83369515 0.85248383 0.83577504 0.81159112 0.77267237\n",
      " 0.79925424 0.77188285 0.73909042 0.77119193 0.7386957  0.75470982\n",
      " 0.76181959 0.79431948 0.75170877 0.74376565 0.72493316 0.73590294\n",
      " 0.7313447  0.72549611 0.75002004 0.73742364 0.75137983 0.71993996\n",
      " 0.70783698 0.82340068 0.82310474 0.82379204 0.82570225 0.82883573\n",
      " 0.83301026 0.83793086 0.84325778 0.84866428]\n",
      "9 day output [[0.85386455]]\n",
      "10 day input [0.92183722 0.93375734 0.91535625 0.92014839 0.89459005 0.88992213\n",
      " 0.87423687 0.8492744  0.85132135 0.82473583 0.84304563 0.8421756\n",
      " 0.87265049 0.89026205 0.90619952 0.98046205 0.94108638 0.94375848\n",
      " 0.91394523 0.91595569 0.93233178 0.91149249 0.8787952  0.88734873\n",
      " 0.89557698 0.90334099 0.86547861 0.85201959 0.84423362 0.83094631\n",
      " 0.86814705 0.88164266 0.88435866 0.87907301 0.8833388  0.88009644\n",
      " 0.86411516 0.82275465 0.82870561 0.87686515 0.86820916 0.85207804\n",
      " 0.82477608 0.84611976 0.87558211 0.88223487 0.89832583 0.89596447\n",
      " 0.92373799 0.91076873 0.93130094 0.93283252 0.9359652  0.94546917\n",
      " 0.94104247 0.91914682 0.92682676 0.94833867 0.92948057 0.9010637\n",
      " 0.89586577 0.87792151 0.84711401 0.83671815 0.85069264 0.82851918\n",
      " 0.83369515 0.85248383 0.83577504 0.81159112 0.77267237 0.79925424\n",
      " 0.77188285 0.73909042 0.77119193 0.7386957  0.75470982 0.76181959\n",
      " 0.79431948 0.75170877 0.74376565 0.72493316 0.73590294 0.7313447\n",
      " 0.72549611 0.75002004 0.73742364 0.75137983 0.71993996 0.70783698\n",
      " 0.82340068 0.82310474 0.82379204 0.82570225 0.82883573 0.83301026\n",
      " 0.83793086 0.84325778 0.84866428 0.85386455]\n",
      "10 day output [[0.85863495]]\n",
      "11 day input [0.93375734 0.91535625 0.92014839 0.89459005 0.88992213 0.87423687\n",
      " 0.8492744  0.85132135 0.82473583 0.84304563 0.8421756  0.87265049\n",
      " 0.89026205 0.90619952 0.98046205 0.94108638 0.94375848 0.91394523\n",
      " 0.91595569 0.93233178 0.91149249 0.8787952  0.88734873 0.89557698\n",
      " 0.90334099 0.86547861 0.85201959 0.84423362 0.83094631 0.86814705\n",
      " 0.88164266 0.88435866 0.87907301 0.8833388  0.88009644 0.86411516\n",
      " 0.82275465 0.82870561 0.87686515 0.86820916 0.85207804 0.82477608\n",
      " 0.84611976 0.87558211 0.88223487 0.89832583 0.89596447 0.92373799\n",
      " 0.91076873 0.93130094 0.93283252 0.9359652  0.94546917 0.94104247\n",
      " 0.91914682 0.92682676 0.94833867 0.92948057 0.9010637  0.89586577\n",
      " 0.87792151 0.84711401 0.83671815 0.85069264 0.82851918 0.83369515\n",
      " 0.85248383 0.83577504 0.81159112 0.77267237 0.79925424 0.77188285\n",
      " 0.73909042 0.77119193 0.7386957  0.75470982 0.76181959 0.79431948\n",
      " 0.75170877 0.74376565 0.72493316 0.73590294 0.7313447  0.72549611\n",
      " 0.75002004 0.73742364 0.75137983 0.71993996 0.70783698 0.82340068\n",
      " 0.82310474 0.82379204 0.82570225 0.82883573 0.83301026 0.83793086\n",
      " 0.84325778 0.84866428 0.85386455 0.85863495]\n",
      "11 day output [[0.8628169]]\n",
      "12 day input [0.91535625 0.92014839 0.89459005 0.88992213 0.87423687 0.8492744\n",
      " 0.85132135 0.82473583 0.84304563 0.8421756  0.87265049 0.89026205\n",
      " 0.90619952 0.98046205 0.94108638 0.94375848 0.91394523 0.91595569\n",
      " 0.93233178 0.91149249 0.8787952  0.88734873 0.89557698 0.90334099\n",
      " 0.86547861 0.85201959 0.84423362 0.83094631 0.86814705 0.88164266\n",
      " 0.88435866 0.87907301 0.8833388  0.88009644 0.86411516 0.82275465\n",
      " 0.82870561 0.87686515 0.86820916 0.85207804 0.82477608 0.84611976\n",
      " 0.87558211 0.88223487 0.89832583 0.89596447 0.92373799 0.91076873\n",
      " 0.93130094 0.93283252 0.9359652  0.94546917 0.94104247 0.91914682\n",
      " 0.92682676 0.94833867 0.92948057 0.9010637  0.89586577 0.87792151\n",
      " 0.84711401 0.83671815 0.85069264 0.82851918 0.83369515 0.85248383\n",
      " 0.83577504 0.81159112 0.77267237 0.79925424 0.77188285 0.73909042\n",
      " 0.77119193 0.7386957  0.75470982 0.76181959 0.79431948 0.75170877\n",
      " 0.74376565 0.72493316 0.73590294 0.7313447  0.72549611 0.75002004\n",
      " 0.73742364 0.75137983 0.71993996 0.70783698 0.82340068 0.82310474\n",
      " 0.82379204 0.82570225 0.82883573 0.83301026 0.83793086 0.84325778\n",
      " 0.84866428 0.85386455 0.85863495 0.86281687]\n",
      "12 day output [[0.86631405]]\n",
      "13 day input [0.92014839 0.89459005 0.88992213 0.87423687 0.8492744  0.85132135\n",
      " 0.82473583 0.84304563 0.8421756  0.87265049 0.89026205 0.90619952\n",
      " 0.98046205 0.94108638 0.94375848 0.91394523 0.91595569 0.93233178\n",
      " 0.91149249 0.8787952  0.88734873 0.89557698 0.90334099 0.86547861\n",
      " 0.85201959 0.84423362 0.83094631 0.86814705 0.88164266 0.88435866\n",
      " 0.87907301 0.8833388  0.88009644 0.86411516 0.82275465 0.82870561\n",
      " 0.87686515 0.86820916 0.85207804 0.82477608 0.84611976 0.87558211\n",
      " 0.88223487 0.89832583 0.89596447 0.92373799 0.91076873 0.93130094\n",
      " 0.93283252 0.9359652  0.94546917 0.94104247 0.91914682 0.92682676\n",
      " 0.94833867 0.92948057 0.9010637  0.89586577 0.87792151 0.84711401\n",
      " 0.83671815 0.85069264 0.82851918 0.83369515 0.85248383 0.83577504\n",
      " 0.81159112 0.77267237 0.79925424 0.77188285 0.73909042 0.77119193\n",
      " 0.7386957  0.75470982 0.76181959 0.79431948 0.75170877 0.74376565\n",
      " 0.72493316 0.73590294 0.7313447  0.72549611 0.75002004 0.73742364\n",
      " 0.75137983 0.71993996 0.70783698 0.82340068 0.82310474 0.82379204\n",
      " 0.82570225 0.82883573 0.83301026 0.83793086 0.84325778 0.84866428\n",
      " 0.85386455 0.85863495 0.86281687 0.86631405]\n",
      "13 day output [[0.8690819]]\n",
      "14 day input [0.89459005 0.88992213 0.87423687 0.8492744  0.85132135 0.82473583\n",
      " 0.84304563 0.8421756  0.87265049 0.89026205 0.90619952 0.98046205\n",
      " 0.94108638 0.94375848 0.91394523 0.91595569 0.93233178 0.91149249\n",
      " 0.8787952  0.88734873 0.89557698 0.90334099 0.86547861 0.85201959\n",
      " 0.84423362 0.83094631 0.86814705 0.88164266 0.88435866 0.87907301\n",
      " 0.8833388  0.88009644 0.86411516 0.82275465 0.82870561 0.87686515\n",
      " 0.86820916 0.85207804 0.82477608 0.84611976 0.87558211 0.88223487\n",
      " 0.89832583 0.89596447 0.92373799 0.91076873 0.93130094 0.93283252\n",
      " 0.9359652  0.94546917 0.94104247 0.91914682 0.92682676 0.94833867\n",
      " 0.92948057 0.9010637  0.89586577 0.87792151 0.84711401 0.83671815\n",
      " 0.85069264 0.82851918 0.83369515 0.85248383 0.83577504 0.81159112\n",
      " 0.77267237 0.79925424 0.77188285 0.73909042 0.77119193 0.7386957\n",
      " 0.75470982 0.76181959 0.79431948 0.75170877 0.74376565 0.72493316\n",
      " 0.73590294 0.7313447  0.72549611 0.75002004 0.73742364 0.75137983\n",
      " 0.71993996 0.70783698 0.82340068 0.82310474 0.82379204 0.82570225\n",
      " 0.82883573 0.83301026 0.83793086 0.84325778 0.84866428 0.85386455\n",
      " 0.85863495 0.86281687 0.86631405 0.86908191]\n",
      "14 day output [[0.8711212]]\n",
      "15 day input [0.88992213 0.87423687 0.8492744  0.85132135 0.82473583 0.84304563\n",
      " 0.8421756  0.87265049 0.89026205 0.90619952 0.98046205 0.94108638\n",
      " 0.94375848 0.91394523 0.91595569 0.93233178 0.91149249 0.8787952\n",
      " 0.88734873 0.89557698 0.90334099 0.86547861 0.85201959 0.84423362\n",
      " 0.83094631 0.86814705 0.88164266 0.88435866 0.87907301 0.8833388\n",
      " 0.88009644 0.86411516 0.82275465 0.82870561 0.87686515 0.86820916\n",
      " 0.85207804 0.82477608 0.84611976 0.87558211 0.88223487 0.89832583\n",
      " 0.89596447 0.92373799 0.91076873 0.93130094 0.93283252 0.9359652\n",
      " 0.94546917 0.94104247 0.91914682 0.92682676 0.94833867 0.92948057\n",
      " 0.9010637  0.89586577 0.87792151 0.84711401 0.83671815 0.85069264\n",
      " 0.82851918 0.83369515 0.85248383 0.83577504 0.81159112 0.77267237\n",
      " 0.79925424 0.77188285 0.73909042 0.77119193 0.7386957  0.75470982\n",
      " 0.76181959 0.79431948 0.75170877 0.74376565 0.72493316 0.73590294\n",
      " 0.7313447  0.72549611 0.75002004 0.73742364 0.75137983 0.71993996\n",
      " 0.70783698 0.82340068 0.82310474 0.82379204 0.82570225 0.82883573\n",
      " 0.83301026 0.83793086 0.84325778 0.84866428 0.85386455 0.85863495\n",
      " 0.86281687 0.86631405 0.86908191 0.87112123]\n",
      "15 day output [[0.8724624]]\n",
      "16 day input [0.87423687 0.8492744  0.85132135 0.82473583 0.84304563 0.8421756\n",
      " 0.87265049 0.89026205 0.90619952 0.98046205 0.94108638 0.94375848\n",
      " 0.91394523 0.91595569 0.93233178 0.91149249 0.8787952  0.88734873\n",
      " 0.89557698 0.90334099 0.86547861 0.85201959 0.84423362 0.83094631\n",
      " 0.86814705 0.88164266 0.88435866 0.87907301 0.8833388  0.88009644\n",
      " 0.86411516 0.82275465 0.82870561 0.87686515 0.86820916 0.85207804\n",
      " 0.82477608 0.84611976 0.87558211 0.88223487 0.89832583 0.89596447\n",
      " 0.92373799 0.91076873 0.93130094 0.93283252 0.9359652  0.94546917\n",
      " 0.94104247 0.91914682 0.92682676 0.94833867 0.92948057 0.9010637\n",
      " 0.89586577 0.87792151 0.84711401 0.83671815 0.85069264 0.82851918\n",
      " 0.83369515 0.85248383 0.83577504 0.81159112 0.77267237 0.79925424\n",
      " 0.77188285 0.73909042 0.77119193 0.7386957  0.75470982 0.76181959\n",
      " 0.79431948 0.75170877 0.74376565 0.72493316 0.73590294 0.7313447\n",
      " 0.72549611 0.75002004 0.73742364 0.75137983 0.71993996 0.70783698\n",
      " 0.82340068 0.82310474 0.82379204 0.82570225 0.82883573 0.83301026\n",
      " 0.83793086 0.84325778 0.84866428 0.85386455 0.85863495 0.86281687\n",
      " 0.86631405 0.86908191 0.87112123 0.87246239]\n",
      "16 day output [[0.87316036]]\n",
      "17 day input [0.8492744  0.85132135 0.82473583 0.84304563 0.8421756  0.87265049\n",
      " 0.89026205 0.90619952 0.98046205 0.94108638 0.94375848 0.91394523\n",
      " 0.91595569 0.93233178 0.91149249 0.8787952  0.88734873 0.89557698\n",
      " 0.90334099 0.86547861 0.85201959 0.84423362 0.83094631 0.86814705\n",
      " 0.88164266 0.88435866 0.87907301 0.8833388  0.88009644 0.86411516\n",
      " 0.82275465 0.82870561 0.87686515 0.86820916 0.85207804 0.82477608\n",
      " 0.84611976 0.87558211 0.88223487 0.89832583 0.89596447 0.92373799\n",
      " 0.91076873 0.93130094 0.93283252 0.9359652  0.94546917 0.94104247\n",
      " 0.91914682 0.92682676 0.94833867 0.92948057 0.9010637  0.89586577\n",
      " 0.87792151 0.84711401 0.83671815 0.85069264 0.82851918 0.83369515\n",
      " 0.85248383 0.83577504 0.81159112 0.77267237 0.79925424 0.77188285\n",
      " 0.73909042 0.77119193 0.7386957  0.75470982 0.76181959 0.79431948\n",
      " 0.75170877 0.74376565 0.72493316 0.73590294 0.7313447  0.72549611\n",
      " 0.75002004 0.73742364 0.75137983 0.71993996 0.70783698 0.82340068\n",
      " 0.82310474 0.82379204 0.82570225 0.82883573 0.83301026 0.83793086\n",
      " 0.84325778 0.84866428 0.85386455 0.85863495 0.86281687 0.86631405\n",
      " 0.86908191 0.87112123 0.87246239 0.87316036]\n",
      "17 day output [[0.8732842]]\n",
      "18 day input [0.85132135 0.82473583 0.84304563 0.8421756  0.87265049 0.89026205\n",
      " 0.90619952 0.98046205 0.94108638 0.94375848 0.91394523 0.91595569\n",
      " 0.93233178 0.91149249 0.8787952  0.88734873 0.89557698 0.90334099\n",
      " 0.86547861 0.85201959 0.84423362 0.83094631 0.86814705 0.88164266\n",
      " 0.88435866 0.87907301 0.8833388  0.88009644 0.86411516 0.82275465\n",
      " 0.82870561 0.87686515 0.86820916 0.85207804 0.82477608 0.84611976\n",
      " 0.87558211 0.88223487 0.89832583 0.89596447 0.92373799 0.91076873\n",
      " 0.93130094 0.93283252 0.9359652  0.94546917 0.94104247 0.91914682\n",
      " 0.92682676 0.94833867 0.92948057 0.9010637  0.89586577 0.87792151\n",
      " 0.84711401 0.83671815 0.85069264 0.82851918 0.83369515 0.85248383\n",
      " 0.83577504 0.81159112 0.77267237 0.79925424 0.77188285 0.73909042\n",
      " 0.77119193 0.7386957  0.75470982 0.76181959 0.79431948 0.75170877\n",
      " 0.74376565 0.72493316 0.73590294 0.7313447  0.72549611 0.75002004\n",
      " 0.73742364 0.75137983 0.71993996 0.70783698 0.82340068 0.82310474\n",
      " 0.82379204 0.82570225 0.82883573 0.83301026 0.83793086 0.84325778\n",
      " 0.84866428 0.85386455 0.85863495 0.86281687 0.86631405 0.86908191\n",
      " 0.87112123 0.87246239 0.87316036 0.87328422]\n",
      "18 day output [[0.8729118]]\n",
      "19 day input [0.82473583 0.84304563 0.8421756  0.87265049 0.89026205 0.90619952\n",
      " 0.98046205 0.94108638 0.94375848 0.91394523 0.91595569 0.93233178\n",
      " 0.91149249 0.8787952  0.88734873 0.89557698 0.90334099 0.86547861\n",
      " 0.85201959 0.84423362 0.83094631 0.86814705 0.88164266 0.88435866\n",
      " 0.87907301 0.8833388  0.88009644 0.86411516 0.82275465 0.82870561\n",
      " 0.87686515 0.86820916 0.85207804 0.82477608 0.84611976 0.87558211\n",
      " 0.88223487 0.89832583 0.89596447 0.92373799 0.91076873 0.93130094\n",
      " 0.93283252 0.9359652  0.94546917 0.94104247 0.91914682 0.92682676\n",
      " 0.94833867 0.92948057 0.9010637  0.89586577 0.87792151 0.84711401\n",
      " 0.83671815 0.85069264 0.82851918 0.83369515 0.85248383 0.83577504\n",
      " 0.81159112 0.77267237 0.79925424 0.77188285 0.73909042 0.77119193\n",
      " 0.7386957  0.75470982 0.76181959 0.79431948 0.75170877 0.74376565\n",
      " 0.72493316 0.73590294 0.7313447  0.72549611 0.75002004 0.73742364\n",
      " 0.75137983 0.71993996 0.70783698 0.82340068 0.82310474 0.82379204\n",
      " 0.82570225 0.82883573 0.83301026 0.83793086 0.84325778 0.84866428\n",
      " 0.85386455 0.85863495 0.86281687 0.86631405 0.86908191 0.87112123\n",
      " 0.87246239 0.87316036 0.87328422 0.87291181]\n",
      "19 day output [[0.8721276]]\n",
      "20 day input [0.84304563 0.8421756  0.87265049 0.89026205 0.90619952 0.98046205\n",
      " 0.94108638 0.94375848 0.91394523 0.91595569 0.93233178 0.91149249\n",
      " 0.8787952  0.88734873 0.89557698 0.90334099 0.86547861 0.85201959\n",
      " 0.84423362 0.83094631 0.86814705 0.88164266 0.88435866 0.87907301\n",
      " 0.8833388  0.88009644 0.86411516 0.82275465 0.82870561 0.87686515\n",
      " 0.86820916 0.85207804 0.82477608 0.84611976 0.87558211 0.88223487\n",
      " 0.89832583 0.89596447 0.92373799 0.91076873 0.93130094 0.93283252\n",
      " 0.9359652  0.94546917 0.94104247 0.91914682 0.92682676 0.94833867\n",
      " 0.92948057 0.9010637  0.89586577 0.87792151 0.84711401 0.83671815\n",
      " 0.85069264 0.82851918 0.83369515 0.85248383 0.83577504 0.81159112\n",
      " 0.77267237 0.79925424 0.77188285 0.73909042 0.77119193 0.7386957\n",
      " 0.75470982 0.76181959 0.79431948 0.75170877 0.74376565 0.72493316\n",
      " 0.73590294 0.7313447  0.72549611 0.75002004 0.73742364 0.75137983\n",
      " 0.71993996 0.70783698 0.82340068 0.82310474 0.82379204 0.82570225\n",
      " 0.82883573 0.83301026 0.83793086 0.84325778 0.84866428 0.85386455\n",
      " 0.85863495 0.86281687 0.86631405 0.86908191 0.87112123 0.87246239\n",
      " 0.87316036 0.87328422 0.87291181 0.87212759]\n",
      "20 day output [[0.8710125]]\n",
      "21 day input [0.8421756  0.87265049 0.89026205 0.90619952 0.98046205 0.94108638\n",
      " 0.94375848 0.91394523 0.91595569 0.93233178 0.91149249 0.8787952\n",
      " 0.88734873 0.89557698 0.90334099 0.86547861 0.85201959 0.84423362\n",
      " 0.83094631 0.86814705 0.88164266 0.88435866 0.87907301 0.8833388\n",
      " 0.88009644 0.86411516 0.82275465 0.82870561 0.87686515 0.86820916\n",
      " 0.85207804 0.82477608 0.84611976 0.87558211 0.88223487 0.89832583\n",
      " 0.89596447 0.92373799 0.91076873 0.93130094 0.93283252 0.9359652\n",
      " 0.94546917 0.94104247 0.91914682 0.92682676 0.94833867 0.92948057\n",
      " 0.9010637  0.89586577 0.87792151 0.84711401 0.83671815 0.85069264\n",
      " 0.82851918 0.83369515 0.85248383 0.83577504 0.81159112 0.77267237\n",
      " 0.79925424 0.77188285 0.73909042 0.77119193 0.7386957  0.75470982\n",
      " 0.76181959 0.79431948 0.75170877 0.74376565 0.72493316 0.73590294\n",
      " 0.7313447  0.72549611 0.75002004 0.73742364 0.75137983 0.71993996\n",
      " 0.70783698 0.82340068 0.82310474 0.82379204 0.82570225 0.82883573\n",
      " 0.83301026 0.83793086 0.84325778 0.84866428 0.85386455 0.85863495\n",
      " 0.86281687 0.86631405 0.86908191 0.87112123 0.87246239 0.87316036\n",
      " 0.87328422 0.87291181 0.87212759 0.87101251]\n",
      "21 day output [[0.86965203]]\n",
      "22 day input [0.87265049 0.89026205 0.90619952 0.98046205 0.94108638 0.94375848\n",
      " 0.91394523 0.91595569 0.93233178 0.91149249 0.8787952  0.88734873\n",
      " 0.89557698 0.90334099 0.86547861 0.85201959 0.84423362 0.83094631\n",
      " 0.86814705 0.88164266 0.88435866 0.87907301 0.8833388  0.88009644\n",
      " 0.86411516 0.82275465 0.82870561 0.87686515 0.86820916 0.85207804\n",
      " 0.82477608 0.84611976 0.87558211 0.88223487 0.89832583 0.89596447\n",
      " 0.92373799 0.91076873 0.93130094 0.93283252 0.9359652  0.94546917\n",
      " 0.94104247 0.91914682 0.92682676 0.94833867 0.92948057 0.9010637\n",
      " 0.89586577 0.87792151 0.84711401 0.83671815 0.85069264 0.82851918\n",
      " 0.83369515 0.85248383 0.83577504 0.81159112 0.77267237 0.79925424\n",
      " 0.77188285 0.73909042 0.77119193 0.7386957  0.75470982 0.76181959\n",
      " 0.79431948 0.75170877 0.74376565 0.72493316 0.73590294 0.7313447\n",
      " 0.72549611 0.75002004 0.73742364 0.75137983 0.71993996 0.70783698\n",
      " 0.82340068 0.82310474 0.82379204 0.82570225 0.82883573 0.83301026\n",
      " 0.83793086 0.84325778 0.84866428 0.85386455 0.85863495 0.86281687\n",
      " 0.86631405 0.86908191 0.87112123 0.87246239 0.87316036 0.87328422\n",
      " 0.87291181 0.87212759 0.87101251 0.86965203]\n",
      "22 day output [[0.86812216]]\n",
      "23 day input [0.89026205 0.90619952 0.98046205 0.94108638 0.94375848 0.91394523\n",
      " 0.91595569 0.93233178 0.91149249 0.8787952  0.88734873 0.89557698\n",
      " 0.90334099 0.86547861 0.85201959 0.84423362 0.83094631 0.86814705\n",
      " 0.88164266 0.88435866 0.87907301 0.8833388  0.88009644 0.86411516\n",
      " 0.82275465 0.82870561 0.87686515 0.86820916 0.85207804 0.82477608\n",
      " 0.84611976 0.87558211 0.88223487 0.89832583 0.89596447 0.92373799\n",
      " 0.91076873 0.93130094 0.93283252 0.9359652  0.94546917 0.94104247\n",
      " 0.91914682 0.92682676 0.94833867 0.92948057 0.9010637  0.89586577\n",
      " 0.87792151 0.84711401 0.83671815 0.85069264 0.82851918 0.83369515\n",
      " 0.85248383 0.83577504 0.81159112 0.77267237 0.79925424 0.77188285\n",
      " 0.73909042 0.77119193 0.7386957  0.75470982 0.76181959 0.79431948\n",
      " 0.75170877 0.74376565 0.72493316 0.73590294 0.7313447  0.72549611\n",
      " 0.75002004 0.73742364 0.75137983 0.71993996 0.70783698 0.82340068\n",
      " 0.82310474 0.82379204 0.82570225 0.82883573 0.83301026 0.83793086\n",
      " 0.84325778 0.84866428 0.85386455 0.85863495 0.86281687 0.86631405\n",
      " 0.86908191 0.87112123 0.87246239 0.87316036 0.87328422 0.87291181\n",
      " 0.87212759 0.87101251 0.86965203 0.86812216]\n",
      "23 day output [[0.86649805]]\n",
      "24 day input [0.90619952 0.98046205 0.94108638 0.94375848 0.91394523 0.91595569\n",
      " 0.93233178 0.91149249 0.8787952  0.88734873 0.89557698 0.90334099\n",
      " 0.86547861 0.85201959 0.84423362 0.83094631 0.86814705 0.88164266\n",
      " 0.88435866 0.87907301 0.8833388  0.88009644 0.86411516 0.82275465\n",
      " 0.82870561 0.87686515 0.86820916 0.85207804 0.82477608 0.84611976\n",
      " 0.87558211 0.88223487 0.89832583 0.89596447 0.92373799 0.91076873\n",
      " 0.93130094 0.93283252 0.9359652  0.94546917 0.94104247 0.91914682\n",
      " 0.92682676 0.94833867 0.92948057 0.9010637  0.89586577 0.87792151\n",
      " 0.84711401 0.83671815 0.85069264 0.82851918 0.83369515 0.85248383\n",
      " 0.83577504 0.81159112 0.77267237 0.79925424 0.77188285 0.73909042\n",
      " 0.77119193 0.7386957  0.75470982 0.76181959 0.79431948 0.75170877\n",
      " 0.74376565 0.72493316 0.73590294 0.7313447  0.72549611 0.75002004\n",
      " 0.73742364 0.75137983 0.71993996 0.70783698 0.82340068 0.82310474\n",
      " 0.82379204 0.82570225 0.82883573 0.83301026 0.83793086 0.84325778\n",
      " 0.84866428 0.85386455 0.85863495 0.86281687 0.86631405 0.86908191\n",
      " 0.87112123 0.87246239 0.87316036 0.87328422 0.87291181 0.87212759\n",
      " 0.87101251 0.86965203 0.86812216 0.86649805]\n",
      "24 day output [[0.8648443]]\n",
      "25 day input [0.98046205 0.94108638 0.94375848 0.91394523 0.91595569 0.93233178\n",
      " 0.91149249 0.8787952  0.88734873 0.89557698 0.90334099 0.86547861\n",
      " 0.85201959 0.84423362 0.83094631 0.86814705 0.88164266 0.88435866\n",
      " 0.87907301 0.8833388  0.88009644 0.86411516 0.82275465 0.82870561\n",
      " 0.87686515 0.86820916 0.85207804 0.82477608 0.84611976 0.87558211\n",
      " 0.88223487 0.89832583 0.89596447 0.92373799 0.91076873 0.93130094\n",
      " 0.93283252 0.9359652  0.94546917 0.94104247 0.91914682 0.92682676\n",
      " 0.94833867 0.92948057 0.9010637  0.89586577 0.87792151 0.84711401\n",
      " 0.83671815 0.85069264 0.82851918 0.83369515 0.85248383 0.83577504\n",
      " 0.81159112 0.77267237 0.79925424 0.77188285 0.73909042 0.77119193\n",
      " 0.7386957  0.75470982 0.76181959 0.79431948 0.75170877 0.74376565\n",
      " 0.72493316 0.73590294 0.7313447  0.72549611 0.75002004 0.73742364\n",
      " 0.75137983 0.71993996 0.70783698 0.82340068 0.82310474 0.82379204\n",
      " 0.82570225 0.82883573 0.83301026 0.83793086 0.84325778 0.84866428\n",
      " 0.85386455 0.85863495 0.86281687 0.86631405 0.86908191 0.87112123\n",
      " 0.87246239 0.87316036 0.87328422 0.87291181 0.87212759 0.87101251\n",
      " 0.86965203 0.86812216 0.86649805 0.86484432]\n",
      "25 day output [[0.8632193]]\n",
      "26 day input [0.94108638 0.94375848 0.91394523 0.91595569 0.93233178 0.91149249\n",
      " 0.8787952  0.88734873 0.89557698 0.90334099 0.86547861 0.85201959\n",
      " 0.84423362 0.83094631 0.86814705 0.88164266 0.88435866 0.87907301\n",
      " 0.8833388  0.88009644 0.86411516 0.82275465 0.82870561 0.87686515\n",
      " 0.86820916 0.85207804 0.82477608 0.84611976 0.87558211 0.88223487\n",
      " 0.89832583 0.89596447 0.92373799 0.91076873 0.93130094 0.93283252\n",
      " 0.9359652  0.94546917 0.94104247 0.91914682 0.92682676 0.94833867\n",
      " 0.92948057 0.9010637  0.89586577 0.87792151 0.84711401 0.83671815\n",
      " 0.85069264 0.82851918 0.83369515 0.85248383 0.83577504 0.81159112\n",
      " 0.77267237 0.79925424 0.77188285 0.73909042 0.77119193 0.7386957\n",
      " 0.75470982 0.76181959 0.79431948 0.75170877 0.74376565 0.72493316\n",
      " 0.73590294 0.7313447  0.72549611 0.75002004 0.73742364 0.75137983\n",
      " 0.71993996 0.70783698 0.82340068 0.82310474 0.82379204 0.82570225\n",
      " 0.82883573 0.83301026 0.83793086 0.84325778 0.84866428 0.85386455\n",
      " 0.85863495 0.86281687 0.86631405 0.86908191 0.87112123 0.87246239\n",
      " 0.87316036 0.87328422 0.87291181 0.87212759 0.87101251 0.86965203\n",
      " 0.86812216 0.86649805 0.86484432 0.86321932]\n",
      "26 day output [[0.8616798]]\n",
      "27 day input [0.94375848 0.91394523 0.91595569 0.93233178 0.91149249 0.8787952\n",
      " 0.88734873 0.89557698 0.90334099 0.86547861 0.85201959 0.84423362\n",
      " 0.83094631 0.86814705 0.88164266 0.88435866 0.87907301 0.8833388\n",
      " 0.88009644 0.86411516 0.82275465 0.82870561 0.87686515 0.86820916\n",
      " 0.85207804 0.82477608 0.84611976 0.87558211 0.88223487 0.89832583\n",
      " 0.89596447 0.92373799 0.91076873 0.93130094 0.93283252 0.9359652\n",
      " 0.94546917 0.94104247 0.91914682 0.92682676 0.94833867 0.92948057\n",
      " 0.9010637  0.89586577 0.87792151 0.84711401 0.83671815 0.85069264\n",
      " 0.82851918 0.83369515 0.85248383 0.83577504 0.81159112 0.77267237\n",
      " 0.79925424 0.77188285 0.73909042 0.77119193 0.7386957  0.75470982\n",
      " 0.76181959 0.79431948 0.75170877 0.74376565 0.72493316 0.73590294\n",
      " 0.7313447  0.72549611 0.75002004 0.73742364 0.75137983 0.71993996\n",
      " 0.70783698 0.82340068 0.82310474 0.82379204 0.82570225 0.82883573\n",
      " 0.83301026 0.83793086 0.84325778 0.84866428 0.85386455 0.85863495\n",
      " 0.86281687 0.86631405 0.86908191 0.87112123 0.87246239 0.87316036\n",
      " 0.87328422 0.87291181 0.87212759 0.87101251 0.86965203 0.86812216\n",
      " 0.86649805 0.86484432 0.86321932 0.86167979]\n",
      "27 day output [[0.8602559]]\n",
      "28 day input [0.91394523 0.91595569 0.93233178 0.91149249 0.8787952  0.88734873\n",
      " 0.89557698 0.90334099 0.86547861 0.85201959 0.84423362 0.83094631\n",
      " 0.86814705 0.88164266 0.88435866 0.87907301 0.8833388  0.88009644\n",
      " 0.86411516 0.82275465 0.82870561 0.87686515 0.86820916 0.85207804\n",
      " 0.82477608 0.84611976 0.87558211 0.88223487 0.89832583 0.89596447\n",
      " 0.92373799 0.91076873 0.93130094 0.93283252 0.9359652  0.94546917\n",
      " 0.94104247 0.91914682 0.92682676 0.94833867 0.92948057 0.9010637\n",
      " 0.89586577 0.87792151 0.84711401 0.83671815 0.85069264 0.82851918\n",
      " 0.83369515 0.85248383 0.83577504 0.81159112 0.77267237 0.79925424\n",
      " 0.77188285 0.73909042 0.77119193 0.7386957  0.75470982 0.76181959\n",
      " 0.79431948 0.75170877 0.74376565 0.72493316 0.73590294 0.7313447\n",
      " 0.72549611 0.75002004 0.73742364 0.75137983 0.71993996 0.70783698\n",
      " 0.82340068 0.82310474 0.82379204 0.82570225 0.82883573 0.83301026\n",
      " 0.83793086 0.84325778 0.84866428 0.85386455 0.85863495 0.86281687\n",
      " 0.86631405 0.86908191 0.87112123 0.87246239 0.87316036 0.87328422\n",
      " 0.87291181 0.87212759 0.87101251 0.86965203 0.86812216 0.86649805\n",
      " 0.86484432 0.86321932 0.86167979 0.8602559 ]\n",
      "28 day output [[0.8589866]]\n",
      "29 day input [0.91595569 0.93233178 0.91149249 0.8787952  0.88734873 0.89557698\n",
      " 0.90334099 0.86547861 0.85201959 0.84423362 0.83094631 0.86814705\n",
      " 0.88164266 0.88435866 0.87907301 0.8833388  0.88009644 0.86411516\n",
      " 0.82275465 0.82870561 0.87686515 0.86820916 0.85207804 0.82477608\n",
      " 0.84611976 0.87558211 0.88223487 0.89832583 0.89596447 0.92373799\n",
      " 0.91076873 0.93130094 0.93283252 0.9359652  0.94546917 0.94104247\n",
      " 0.91914682 0.92682676 0.94833867 0.92948057 0.9010637  0.89586577\n",
      " 0.87792151 0.84711401 0.83671815 0.85069264 0.82851918 0.83369515\n",
      " 0.85248383 0.83577504 0.81159112 0.77267237 0.79925424 0.77188285\n",
      " 0.73909042 0.77119193 0.7386957  0.75470982 0.76181959 0.79431948\n",
      " 0.75170877 0.74376565 0.72493316 0.73590294 0.7313447  0.72549611\n",
      " 0.75002004 0.73742364 0.75137983 0.71993996 0.70783698 0.82340068\n",
      " 0.82310474 0.82379204 0.82570225 0.82883573 0.83301026 0.83793086\n",
      " 0.84325778 0.84866428 0.85386455 0.85863495 0.86281687 0.86631405\n",
      " 0.86908191 0.87112123 0.87246239 0.87316036 0.87328422 0.87291181\n",
      " 0.87212759 0.87101251 0.86965203 0.86812216 0.86649805 0.86484432\n",
      " 0.86321932 0.86167979 0.8602559  0.85898662]\n",
      "29 day output [[0.8578949]]\n"
     ]
    }
   ],
   "source": [
    "# Prediction for next 30 days\n",
    "from numpy import array\n",
    "\n",
    "lst_output=[]\n",
    "n_steps=100\n",
    "i=0\n",
    "while i<30:\n",
    "    if len(temp_input)>100:\n",
    "        x_input=np.array(temp_input[1:])\n",
    "        print(\"{} day input {}\".format(i,x_input))\n",
    "        x_input=x_input.reshape(1,-1)\n",
    "        x_input = x_input.reshape((1, n_steps, 1))\n",
    "        yhat = model.predict(x_input, verbose=0)\n",
    "        print(\"{} day output {}\".format(i,yhat))\n",
    "        temp_input.extend(yhat[0].tolist())\n",
    "        temp_input=temp_input[1:]\n",
    "        lst_output.extend(yhat.tolist())\n",
    "        i=i+1\n",
    "    else:\n",
    "        x_input = x_input.reshape((1, n_steps,1))\n",
    "        yhat = model.predict(x_input, verbose=0)\n",
    "        temp_input.extend(yhat[0].tolist())\n",
    "        lst_output.extend(yhat.tolist())\n",
    "        i=i+1"
   ],
   "metadata": {
    "collapsed": false,
    "pycharm": {
     "name": "#%%\n"
    }
   }
  },
  {
   "cell_type": "code",
   "execution_count": 30,
   "outputs": [],
   "source": [
    "day_new=np.arange(1,101)\n",
    "day_pred=np.arange(101,131)"
   ],
   "metadata": {
    "collapsed": false,
    "pycharm": {
     "name": "#%%\n"
    }
   }
  },
  {
   "cell_type": "code",
   "execution_count": 31,
   "outputs": [
    {
     "name": "stdout",
     "output_type": "stream",
     "text": [
      "[[2214.90991211]]\n",
      "[[2531.05738047]\n",
      " [2530.24778582]\n",
      " [2532.12803474]\n",
      " [2537.35379293]\n",
      " [2545.92603874]\n",
      " [2557.34629668]\n",
      " [2570.80758105]\n",
      " [2585.38044784]\n",
      " [2600.17100021]\n",
      " [2614.39736375]\n",
      " [2627.44773604]\n",
      " [2638.88821345]\n",
      " [2648.45545354]\n",
      " [2656.02748714]\n",
      " [2661.60643405]\n",
      " [2665.27545505]\n",
      " [2667.18489179]\n",
      " [2667.5237312 ]\n",
      " [2666.50493012]\n",
      " [2664.35954505]\n",
      " [2661.30901197]\n",
      " [2657.58715942]\n",
      " [2653.40188934]\n",
      " [2648.95882085]\n",
      " [2644.43471136]\n",
      " [2639.98919696]\n",
      " [2635.7775111 ]\n",
      " [2631.88216233]\n",
      " [2628.40979212]\n",
      " [2625.42317869]]\n"
     ]
    }
   ],
   "source": [
    "print(scaler.inverse_transform(lst_output[0:]))"
   ],
   "metadata": {
    "collapsed": false,
    "pycharm": {
     "name": "#%%\n"
    }
   }
  },
  {
   "cell_type": "code",
   "execution_count": 32,
   "outputs": [
    {
     "data": {
      "text/plain": "[<matplotlib.lines.Line2D at 0x2ab313701c0>]"
     },
     "execution_count": 32,
     "metadata": {},
     "output_type": "execute_result"
    },
    {
     "data": {
      "text/plain": "<Figure size 432x288 with 1 Axes>",
      "image/png": "[encoded data removed]"
     },
     "metadata": {
      "needs_background": "light"
     },
     "output_type": "display_data"
    }
   ],
   "source": [
    "plt.plot(day_new,scaler.inverse_transform(df1[len(df1)-100:]))\n",
    "plt.plot(day_pred,scaler.inverse_transform(lst_output))"
   ],
   "metadata": {
    "collapsed": false,
    "pycharm": {
     "name": "#%%\n"
    }
   }
  },
  {
   "cell_type": "code",
   "execution_count": 33,
   "outputs": [
    {
     "data": {
      "text/plain": "[<matplotlib.lines.Line2D at 0x2ab313e8fa0>]"
     },
     "execution_count": 33,
     "metadata": {},
     "output_type": "execute_result"
    },
    {
     "data": {
      "text/plain": "<Figure size 432x288 with 1 Axes>",
      "image/png": "[encoded data removed]"
     },
     "metadata": {
      "needs_background": "light"
     },
     "output_type": "display_data"
    }
   ],
   "source": [
    "df3=df1.tolist()\n",
    "df3.extend(lst_output)\n",
    "plt.plot(df3[1200:])"
   ],
   "metadata": {
    "collapsed": false,
    "pycharm": {
     "name": "#%%\n"
    }
   }
  },
  {
   "cell_type": "code",
   "execution_count": 34,
   "outputs": [],
   "source": [
    "df3=scaler.inverse_transform(df3).tolist()"
   ],
   "metadata": {
    "collapsed": false,
    "pycharm": {
     "name": "#%%\n"
    }
   }
  },
  {
   "cell_type": "code",
   "execution_count": 35,
   "outputs": [
    {
     "data": {
      "text/plain": "[<matplotlib.lines.Line2D at 0x2ab31449e50>]"
     },
     "execution_count": 35,
     "metadata": {},
     "output_type": "execute_result"
    },
    {
     "data": {
      "text/plain": "<Figure size 432x288 with 1 Axes>",
      "image/png": "[encoded data removed]"
     },
     "metadata": {
      "needs_background": "light"
     },
     "output_type": "display_data"
    }
   ],
   "source": [
    "plt.plot(df3)"
   ],
   "metadata": {
    "collapsed": false,
    "pycharm": {
     "name": "#%%\n"
    }
   }
  },
  {
   "cell_type": "code",
   "execution_count": 39,
   "outputs": [
    {
     "name": "stdout",
     "output_type": "stream",
     "text": [
      "1653107659\n",
      "2022-05-20 23:34:19\n",
      "NEXT DAY\n",
      "\n",
      "1653194059\n",
      "2022-05-21 23:34:19\n",
      "2625.42\n",
      "1655699659\n",
      "2022-05-24 23:34:19\n",
      "{'c': [2531.06, 2530.25, 2532.13, 2537.35, 2545.93, 2557.35, 2570.81, 2585.38, 2600.17, 2614.4, 2627.45, 2638.89, 2648.46, 2656.03, 2661.61, 2665.28, 2667.18, 2667.52, 2666.5, 2664.36, 2661.31, 2657.59, 2653.4, 2648.96, 2644.43, 2639.99, 2635.78, 2631.88, 2628.41, 2625.42], 't': [1653194059, 1653280459, 1653366859, 1653453259, 1653539659, 1653626059, 1653712459, 1653798859, 1653885259, 1653971659, 1654058059, 1654144459, 1654230859, 1654317259, 1654403659, 1654490059, 1654576459, 1654662859, 1654749259, 1654835659, 1654922059, 1655008459, 1655094859, 1655181259, 1655267659, 1655354059, 1655440459, 1655526859, 1655613259, 1655699659]}\n"
     ]
    }
   ],
   "source": [
    "import time\n",
    "from datetime import datetime\n",
    "\n",
    "SECONDS_IN_DAY = 86400\n",
    "\n",
    "now = int( time.time() )\n",
    "\n",
    "data_set = {\"c\": [], \"t\": []}\n",
    "inversed_output = scaler.inverse_transform(lst_output)\n",
    "inversed_output.tolist()\n",
    "for i in range(len(inversed_output)):\n",
    "    now = SECONDS_IN_DAY + now\n",
    "    data_set[\"c\"].insert(i, round(float(inversed_output[i]), 2))\n",
    "    data_set[\"t\"].insert(i, int(now))"
   ],
   "metadata": {
    "collapsed": false,
    "pycharm": {
     "name": "#%%\n"
    }
   }
  },
  {
   "cell_type": "code",
   "execution_count": 40,
   "outputs": [],
   "source": [
    "import json\n",
    "with open('../src/stock_json/goog.json', 'w', encoding='utf-8') as f:\n",
    "    json.dump(data_set, f, ensure_ascii=False, indent=4)"
   ],
   "metadata": {
    "collapsed": false,
    "pycharm": {
     "name": "#%%\n"
    }
   }
  }
 ],
 "metadata": {
  "kernelspec": {
   "display_name": "Python 3",
   "language": "python",
   "name": "python3"
  },
  "language_info": {
   "codemirror_mode": {
    "name": "ipython",
    "version": 2
   },
   "file_extension": ".py",
   "mimetype": "text/x-python",
   "name": "python",
   "nbconvert_exporter": "python",
   "pygments_lexer": "ipython2",
   "version": "2.7.6"
  }
 },
 "nbformat": 4,
 "nbformat_minor": 0
}