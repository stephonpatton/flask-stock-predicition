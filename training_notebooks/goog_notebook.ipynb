{
 "cells": [
  {
   "cell_type": "code",
   "execution_count": 2,
   "outputs": [
    {
     "name": "stderr",
     "output_type": "stream",
     "text": [
      "ERROR: Could not open requirements file: [Errno 2] No such file or directory: 'requirements.txt'\n"
     ]
    },
    {
     "name": "stdout",
     "output_type": "stream",
     "text": [
      "Requirement already satisfied: tensorflow-gpu in e:\\conda\\lib\\site-packages (2.8.0)\n",
      "Requirement already satisfied: keras<2.9,>=2.8.0rc0 in e:\\conda\\lib\\site-packages (from tensorflow-gpu) (2.8.0)\n",
      "Requirement already satisfied: tensorboard<2.9,>=2.8 in e:\\conda\\lib\\site-packages (from tensorflow-gpu) (2.8.0)\n",
      "Requirement already satisfied: opt-einsum>=2.3.2 in e:\\conda\\lib\\site-packages (from tensorflow-gpu) (3.3.0)\n",
      "Requirement already satisfied: setuptools in e:\\conda\\lib\\site-packages (from tensorflow-gpu) (61.2.0)\n",
      "Requirement already satisfied: grpcio<2.0,>=1.24.3 in e:\\conda\\lib\\site-packages (from tensorflow-gpu) (1.42.0)\n",
      "Requirement already satisfied: protobuf>=3.9.2 in e:\\conda\\lib\\site-packages (from tensorflow-gpu) (3.19.1)\n",
      "Requirement already satisfied: keras-preprocessing>=1.1.1 in e:\\conda\\lib\\site-packages (from tensorflow-gpu) (1.1.2)\n",
      "Requirement already satisfied: h5py>=2.9.0 in e:\\conda\\lib\\site-packages (from tensorflow-gpu) (3.6.0)\n",
      "Requirement already satisfied: astunparse>=1.6.0 in e:\\conda\\lib\\site-packages (from tensorflow-gpu) (1.6.3)\n",
      "Requirement already satisfied: gast>=0.2.1 in e:\\conda\\lib\\site-packages (from tensorflow-gpu) (0.5.3)\n",
      "Requirement already satisfied: google-pasta>=0.1.1 in e:\\conda\\lib\\site-packages (from tensorflow-gpu) (0.2.0)\n",
      "Requirement already satisfied: libclang>=9.0.1 in e:\\conda\\lib\\site-packages (from tensorflow-gpu) (14.0.1)\n",
      "Requirement already satisfied: tensorflow-io-gcs-filesystem>=0.23.1 in e:\\conda\\lib\\site-packages (from tensorflow-gpu) (0.25.0)\n",
      "Requirement already satisfied: flatbuffers>=1.12 in e:\\conda\\lib\\site-packages (from tensorflow-gpu) (2.0)\n",
      "Requirement already satisfied: six>=1.12.0 in c:\\users\\stephon patton\\appdata\\roaming\\python\\python39\\site-packages (from tensorflow-gpu) (1.15.0)\n",
      "Requirement already satisfied: termcolor>=1.1.0 in e:\\conda\\lib\\site-packages (from tensorflow-gpu) (1.1.0)\n",
      "Requirement already satisfied: numpy>=1.20 in e:\\conda\\lib\\site-packages (from tensorflow-gpu) (1.22.3)\n",
      "Requirement already satisfied: wrapt>=1.11.0 in c:\\users\\stephon patton\\appdata\\roaming\\python\\python39\\site-packages (from tensorflow-gpu) (1.12.1)\n",
      "Requirement already satisfied: typing-extensions>=3.6.6 in e:\\conda\\lib\\site-packages (from tensorflow-gpu) (4.1.1)\n",
      "Requirement already satisfied: tf-estimator-nightly==2.8.0.dev2021122109 in e:\\conda\\lib\\site-packages (from tensorflow-gpu) (2.8.0.dev2021122109)\n",
      "Requirement already satisfied: absl-py>=0.4.0 in e:\\conda\\lib\\site-packages (from tensorflow-gpu) (1.0.0)\n",
      "Requirement already satisfied: wheel<1.0,>=0.23.0 in e:\\conda\\lib\\site-packages (from astunparse>=1.6.0->tensorflow-gpu) (0.37.1)\n",
      "Requirement already satisfied: markdown>=2.6.8 in e:\\conda\\lib\\site-packages (from tensorboard<2.9,>=2.8->tensorflow-gpu) (3.3.4)\n",
      "Requirement already satisfied: requests<3,>=2.21.0 in e:\\conda\\lib\\site-packages (from tensorboard<2.9,>=2.8->tensorflow-gpu) (2.27.1)\n",
      "Requirement already satisfied: tensorboard-data-server<0.7.0,>=0.6.0 in e:\\conda\\lib\\site-packages (from tensorboard<2.9,>=2.8->tensorflow-gpu) (0.6.1)\n",
      "Requirement already satisfied: google-auth<3,>=1.6.3 in e:\\conda\\lib\\site-packages (from tensorboard<2.9,>=2.8->tensorflow-gpu) (1.33.0)\n",
      "Requirement already satisfied: werkzeug>=0.11.15 in e:\\conda\\lib\\site-packages (from tensorboard<2.9,>=2.8->tensorflow-gpu) (2.0.3)\n",
      "Requirement already satisfied: tensorboard-plugin-wit>=1.6.0 in e:\\conda\\lib\\site-packages (from tensorboard<2.9,>=2.8->tensorflow-gpu) (1.8.1)\n",
      "Requirement already satisfied: google-auth-oauthlib<0.5,>=0.4.1 in e:\\conda\\lib\\site-packages (from tensorboard<2.9,>=2.8->tensorflow-gpu) (0.4.6)\n",
      "Requirement already satisfied: pyasn1-modules>=0.2.1 in e:\\conda\\lib\\site-packages (from google-auth<3,>=1.6.3->tensorboard<2.9,>=2.8->tensorflow-gpu) (0.2.8)\n",
      "Requirement already satisfied: cachetools<5.0,>=2.0.0 in e:\\conda\\lib\\site-packages (from google-auth<3,>=1.6.3->tensorboard<2.9,>=2.8->tensorflow-gpu) (4.2.2)\n",
      "Requirement already satisfied: rsa<5,>=3.1.4 in e:\\conda\\lib\\site-packages (from google-auth<3,>=1.6.3->tensorboard<2.9,>=2.8->tensorflow-gpu) (4.7.2)\n",
      "Requirement already satisfied: requests-oauthlib>=0.7.0 in e:\\conda\\lib\\site-packages (from google-auth-oauthlib<0.5,>=0.4.1->tensorboard<2.9,>=2.8->tensorflow-gpu) (1.3.1)\n",
      "Requirement already satisfied: pyasn1<0.5.0,>=0.4.6 in e:\\conda\\lib\\site-packages (from pyasn1-modules>=0.2.1->google-auth<3,>=1.6.3->tensorboard<2.9,>=2.8->tensorflow-gpu) (0.4.8)\n",
      "Requirement already satisfied: certifi>=2017.4.17 in e:\\conda\\lib\\site-packages (from requests<3,>=2.21.0->tensorboard<2.9,>=2.8->tensorflow-gpu) (2021.10.8)\n",
      "Requirement already satisfied: urllib3<1.27,>=1.21.1 in e:\\conda\\lib\\site-packages (from requests<3,>=2.21.0->tensorboard<2.9,>=2.8->tensorflow-gpu) (1.26.9)\n",
      "Requirement already satisfied: idna<4,>=2.5 in e:\\conda\\lib\\site-packages (from requests<3,>=2.21.0->tensorboard<2.9,>=2.8->tensorflow-gpu) (3.3)\n",
      "Requirement already satisfied: charset-normalizer~=2.0.0 in e:\\conda\\lib\\site-packages (from requests<3,>=2.21.0->tensorboard<2.9,>=2.8->tensorflow-gpu) (2.0.4)\n",
      "Requirement already satisfied: oauthlib>=3.0.0 in e:\\conda\\lib\\site-packages (from requests-oauthlib>=0.7.0->google-auth-oauthlib<0.5,>=0.4.1->tensorboard<2.9,>=2.8->tensorflow-gpu) (3.2.0)\n"
     ]
    }
   ],
   "source": [
    "# !pipreqs --force\n",
    "!pip install -r requirements.txt\n",
    "!pip install tensorflow-gpu\n",
    "#\n",
    "# !pip install tensorflow yfinance pandas sklearn\n",
    "# import tensorflow as tf\n",
    "# !pip install yfinance\n"
   ],
   "metadata": {
    "collapsed": false,
    "pycharm": {
     "name": "#%%\n"
    }
   }
  },
  {
   "cell_type": "code",
   "execution_count": 3,
   "outputs": [],
   "source": [
    "import pandas as pd\n",
    "import tensorflow as tf\n",
    "import yfinance as yf\n"
   ],
   "metadata": {
    "collapsed": false,
    "pycharm": {
     "name": "#%%\n"
    }
   }
  },
  {
   "cell_type": "code",
   "execution_count": 4,
   "outputs": [
    {
     "name": "stdout",
     "output_type": "stream",
     "text": [
      "Hello\n",
      "Num GPUs Available:  0\n"
     ]
    }
   ],
   "source": [
    "print(\"Hello\")\n",
    "tf.__version__\n",
    "print(\"Num GPUs Available: \", len(tf.config.list_physical_devices('GPU')))\n",
    "\n",
    "# !pip freeze > requirements.txt\n",
    "\n"
   ],
   "metadata": {
    "collapsed": false,
    "pycharm": {
     "name": "#%%\n"
    }
   }
  },
  {
   "cell_type": "code",
   "execution_count": 5,
   "outputs": [
    {
     "name": "stdout",
     "output_type": "stream",
     "text": [
      "2012-05-17 09:02:30.749601\n",
      "2012-05-17\n",
      "2022-05-15\n",
      "[*********************100%***********************]  1 of 1 completed\n"
     ]
    }
   ],
   "source": [
    "# !pip freeze > requirements.txt\n",
    "from datetime import datetime, timedelta\n",
    "end_date = datetime.today().strftime('%Y-%m-%d')\n",
    "start_date_dt = datetime.now() - timedelta(days=10*365)\n",
    "print(start_date_dt)\n",
    "start_date = start_date_dt.strftime('%Y-%m-%d')\n",
    "print(start_date)\n",
    "print(end_date)\n",
    "# aapl = yf.download(\"AAPL\")\n",
    "goog = yf.download(\"GOOG\", start = start_date, end = end_date)\n",
    "# aapl_history = aapl.history(period=\"max\")"
   ],
   "metadata": {
    "collapsed": false,
    "pycharm": {
     "name": "#%%\n"
    }
   }
  },
  {
   "cell_type": "code",
   "execution_count": 5,
   "outputs": [],
   "source": [],
   "metadata": {
    "collapsed": false,
    "pycharm": {
     "name": "#%%\n"
    }
   }
  },
  {
   "cell_type": "code",
   "execution_count": 6,
   "outputs": [
    {
     "data": {
      "text/plain": "0        310.361694\n1        299.078979\n2        305.908386\n3        299.278229\n4        303.592072\n           ...     \n2510    2261.679932\n2511    2291.689941\n2512    2279.219971\n2513    2263.219971\n2514    2330.310059\nName: Close, Length: 2515, dtype: float64"
     },
     "execution_count": 6,
     "metadata": {},
     "output_type": "execute_result"
    }
   ],
   "source": [
    "type(goog)\n",
    "df = pd.DataFrame(goog)\n",
    "df\n",
    "df1 = df.reset_index()['Close']\n",
    "df1"
   ],
   "metadata": {
    "collapsed": false,
    "pycharm": {
     "name": "#%%\n"
    }
   }
  },
  {
   "cell_type": "code",
   "execution_count": 7,
   "outputs": [
    {
     "data": {
      "text/plain": "[<matplotlib.lines.Line2D at 0x1ffc04f3c40>]"
     },
     "execution_count": 7,
     "metadata": {},
     "output_type": "execute_result"
    },
    {
     "data": {
      "text/plain": "<Figure size 432x288 with 1 Axes>",
      "image/png": "[encoded data removed]"
     },
     "metadata": {
      "needs_background": "light"
     },
     "output_type": "display_data"
    }
   ],
   "source": [
    "import matplotlib.pyplot as plt\n",
    "plt.plot(df1)"
   ],
   "metadata": {
    "collapsed": false,
    "pycharm": {
     "name": "#%%\n"
    }
   }
  },
  {
   "cell_type": "code",
   "execution_count": 8,
   "outputs": [],
   "source": [
    "import numpy as np\n",
    "from sklearn.preprocessing import MinMaxScaler\n",
    "scaler=MinMaxScaler(feature_range=(0,1))\n",
    "df1 = scaler.fit_transform(np.array(df1).reshape(-1, 1))"
   ],
   "metadata": {
    "collapsed": false,
    "pycharm": {
     "name": "#%%\n"
    }
   }
  },
  {
   "cell_type": "code",
   "execution_count": 9,
   "outputs": [],
   "source": [
    "# Split data\n",
    "train_size = int(len(df1)*.95) # 65%\n",
    "test_size = len(df1) - train_size\n",
    "train, test = df1[0:train_size,:], df1[train_size:len(df1), :1]"
   ],
   "metadata": {
    "collapsed": false,
    "pycharm": {
     "name": "#%%\n"
    }
   }
  },
  {
   "cell_type": "code",
   "execution_count": 10,
   "outputs": [
    {
     "name": "stdout",
     "output_type": "stream",
     "text": [
      "2389\n",
      "126\n"
     ]
    }
   ],
   "source": [
    "print(train_size)\n",
    "print(test_size)"
   ],
   "metadata": {
    "collapsed": false,
    "pycharm": {
     "name": "#%%\n"
    }
   }
  },
  {
   "cell_type": "code",
   "execution_count": 11,
   "outputs": [],
   "source": [
    "def create_dataset(data, time_step=1):\n",
    "    dataX, dataY = [], []\n",
    "    for i in range(len(data)-time_step-1):\n",
    "        a = data[i:(i+time_step), 0]\n",
    "        dataX.append(a)\n",
    "        dataY.append(data[i + time_step, 0])\n",
    "    return np.array(dataX), np.array(dataY)"
   ],
   "metadata": {
    "collapsed": false,
    "pycharm": {
     "name": "#%%\n"
    }
   }
  },
  {
   "cell_type": "code",
   "execution_count": 12,
   "outputs": [],
   "source": [
    "time_step = 100\n",
    "X_train, y_train = create_dataset(train, time_step)\n",
    "X_test, y_test = create_dataset(test, time_step)"
   ],
   "metadata": {
    "collapsed": false,
    "pycharm": {
     "name": "#%%\n"
    }
   }
  },
  {
   "cell_type": "code",
   "execution_count": 13,
   "outputs": [
    {
     "name": "stdout",
     "output_type": "stream",
     "text": [
      "(2288, 100)\n",
      "(2288,)\n"
     ]
    },
    {
     "data": {
      "text/plain": "(None, None)"
     },
     "execution_count": 13,
     "metadata": {},
     "output_type": "execute_result"
    }
   ],
   "source": [
    "print(X_train.shape), print(y_train.shape)"
   ],
   "metadata": {
    "collapsed": false,
    "pycharm": {
     "name": "#%%\n"
    }
   }
  },
  {
   "cell_type": "code",
   "execution_count": 14,
   "outputs": [
    {
     "name": "stdout",
     "output_type": "stream",
     "text": [
      "(25, 100)\n",
      "(25,)\n"
     ]
    },
    {
     "data": {
      "text/plain": "(None, None)"
     },
     "execution_count": 14,
     "metadata": {},
     "output_type": "execute_result"
    }
   ],
   "source": [
    "print(X_test.shape), print(y_test.shape)"
   ],
   "metadata": {
    "collapsed": false,
    "pycharm": {
     "name": "#%%\n"
    }
   }
  },
  {
   "cell_type": "code",
   "execution_count": 15,
   "outputs": [
    {
     "name": "stdout",
     "output_type": "stream",
     "text": [
      "(2288, 100, 1)\n",
      "(25, 100, 1)\n"
     ]
    }
   ],
   "source": [
    "# Reshape to be inputted into LSTM\n",
    "X_train = X_train.reshape(X_train.shape[0], X_train.shape[1], 1)\n",
    "X_test = X_test.reshape(X_test.shape[0], X_test.shape[1], 1)\n",
    "print(X_train.shape)\n",
    "print(X_test.shape)"
   ],
   "metadata": {
    "collapsed": false,
    "pycharm": {
     "name": "#%%\n"
    }
   }
  },
  {
   "cell_type": "code",
   "execution_count": 16,
   "outputs": [],
   "source": [
    "# Create Stacked LSTM\n",
    "from tensorflow.keras.models import Sequential\n",
    "from tensorflow.keras.layers import Dense\n",
    "from tensorflow.keras.layers import LSTM\n",
    "from tensorflow.keras.layers import Dropout\n",
    "model = Sequential()\n",
    "model.add(LSTM(50, return_sequences=True, input_shape=(100, 1)))\n",
    "model.add(Dropout(.5))\n",
    "model.add(LSTM(50, return_sequences=True))\n",
    "model.add(LSTM(50, return_sequences=True))\n",
    "model.add(LSTM(50))\n",
    "model.add(Dense(1))\n",
    "model.compile(loss='mean_squared_error', optimizer='adam')"
   ],
   "metadata": {
    "collapsed": false,
    "pycharm": {
     "name": "#%%\n"
    }
   }
  },
  {
   "cell_type": "code",
   "execution_count": 17,
   "outputs": [
    {
     "name": "stdout",
     "output_type": "stream",
     "text": [
      "Model: \"sequential\"\n",
      "_________________________________________________________________\n",
      " Layer (type)                Output Shape              Param #   \n",
      "=================================================================\n",
      " lstm (LSTM)                 (None, 100, 50)           10400     \n",
      "                                                                 \n",
      " dropout (Dropout)           (None, 100, 50)           0         \n",
      "                                                                 \n",
      " lstm_1 (LSTM)               (None, 100, 50)           20200     \n",
      "                                                                 \n",
      " lstm_2 (LSTM)               (None, 100, 50)           20200     \n",
      "                                                                 \n",
      " lstm_3 (LSTM)               (None, 50)                20200     \n",
      "                                                                 \n",
      " dense (Dense)               (None, 1)                 51        \n",
      "                                                                 \n",
      "=================================================================\n",
      "Total params: 71,051\n",
      "Trainable params: 71,051\n",
      "Non-trainable params: 0\n",
      "_________________________________________________________________\n"
     ]
    }
   ],
   "source": [
    "model.summary()"
   ],
   "metadata": {
    "collapsed": false,
    "pycharm": {
     "name": "#%%\n"
    }
   }
  },
  {
   "cell_type": "code",
   "execution_count": 18,
   "outputs": [
    {
     "name": "stdout",
     "output_type": "stream",
     "text": [
      "Epoch 1/100\n",
      "10/10 [==============================] - 10s 443ms/step - loss: 0.0351 - val_loss: 0.0569\n",
      "Epoch 2/100\n",
      "10/10 [==============================] - 3s 338ms/step - loss: 0.0081 - val_loss: 0.0400\n",
      "Epoch 3/100\n",
      "10/10 [==============================] - 4s 360ms/step - loss: 0.0023 - val_loss: 0.0327\n",
      "Epoch 4/100\n",
      "10/10 [==============================] - 4s 368ms/step - loss: 0.0013 - val_loss: 0.0045\n",
      "Epoch 5/100\n",
      "10/10 [==============================] - 4s 365ms/step - loss: 8.2600e-04 - val_loss: 0.0074\n",
      "Epoch 6/100\n",
      "10/10 [==============================] - 4s 347ms/step - loss: 7.0524e-04 - val_loss: 0.0179\n",
      "Epoch 7/100\n",
      "10/10 [==============================] - 4s 356ms/step - loss: 6.0153e-04 - val_loss: 0.0183\n",
      "Epoch 8/100\n",
      "10/10 [==============================] - 4s 399ms/step - loss: 5.9999e-04 - val_loss: 0.0135\n",
      "Epoch 9/100\n",
      "10/10 [==============================] - 4s 399ms/step - loss: 5.4912e-04 - val_loss: 0.0134\n",
      "Epoch 10/100\n",
      "10/10 [==============================] - 4s 370ms/step - loss: 5.7031e-04 - val_loss: 0.0176\n",
      "Epoch 11/100\n",
      "10/10 [==============================] - 4s 368ms/step - loss: 5.9355e-04 - val_loss: 0.0166\n",
      "Epoch 12/100\n",
      "10/10 [==============================] - 4s 372ms/step - loss: 5.7994e-04 - val_loss: 0.0129\n",
      "Epoch 13/100\n",
      "10/10 [==============================] - 4s 369ms/step - loss: 5.8893e-04 - val_loss: 0.0109\n",
      "Epoch 14/100\n",
      "10/10 [==============================] - 4s 383ms/step - loss: 5.5080e-04 - val_loss: 0.0136\n",
      "Epoch 15/100\n",
      "10/10 [==============================] - 4s 367ms/step - loss: 5.6078e-04 - val_loss: 0.0173\n",
      "Epoch 16/100\n",
      "10/10 [==============================] - 4s 358ms/step - loss: 5.6516e-04 - val_loss: 0.0159\n",
      "Epoch 17/100\n",
      "10/10 [==============================] - 4s 362ms/step - loss: 5.8335e-04 - val_loss: 0.0193\n",
      "Epoch 18/100\n",
      "10/10 [==============================] - 4s 356ms/step - loss: 5.7776e-04 - val_loss: 0.0182\n",
      "Epoch 19/100\n",
      "10/10 [==============================] - 4s 382ms/step - loss: 5.8016e-04 - val_loss: 0.0178\n",
      "Epoch 20/100\n",
      "10/10 [==============================] - 4s 362ms/step - loss: 5.4922e-04 - val_loss: 0.0158\n",
      "Epoch 21/100\n",
      "10/10 [==============================] - 4s 385ms/step - loss: 5.2662e-04 - val_loss: 0.0116\n",
      "Epoch 22/100\n",
      "10/10 [==============================] - 4s 374ms/step - loss: 5.5750e-04 - val_loss: 0.0100\n",
      "Epoch 23/100\n",
      "10/10 [==============================] - 4s 352ms/step - loss: 5.4349e-04 - val_loss: 0.0089\n",
      "Epoch 24/100\n",
      "10/10 [==============================] - 4s 356ms/step - loss: 6.0566e-04 - val_loss: 0.0118\n",
      "Epoch 25/100\n",
      "10/10 [==============================] - 4s 376ms/step - loss: 5.5888e-04 - val_loss: 0.0178\n",
      "Epoch 26/100\n",
      "10/10 [==============================] - 4s 384ms/step - loss: 5.1951e-04 - val_loss: 0.0160\n",
      "Epoch 27/100\n",
      "10/10 [==============================] - 4s 368ms/step - loss: 4.8561e-04 - val_loss: 0.0132\n",
      "Epoch 28/100\n",
      "10/10 [==============================] - 4s 353ms/step - loss: 5.1667e-04 - val_loss: 0.0156\n",
      "Epoch 29/100\n",
      "10/10 [==============================] - 4s 375ms/step - loss: 4.8105e-04 - val_loss: 0.0180\n",
      "Epoch 30/100\n",
      "10/10 [==============================] - 4s 366ms/step - loss: 5.1765e-04 - val_loss: 0.0165\n",
      "Epoch 31/100\n",
      "10/10 [==============================] - 4s 362ms/step - loss: 4.9944e-04 - val_loss: 0.0127\n",
      "Epoch 32/100\n",
      "10/10 [==============================] - 4s 357ms/step - loss: 4.7189e-04 - val_loss: 0.0173\n",
      "Epoch 33/100\n",
      "10/10 [==============================] - 4s 354ms/step - loss: 5.2195e-04 - val_loss: 0.0169\n",
      "Epoch 34/100\n",
      "10/10 [==============================] - 4s 355ms/step - loss: 4.9855e-04 - val_loss: 0.0106\n",
      "Epoch 35/100\n",
      "10/10 [==============================] - 4s 358ms/step - loss: 5.0865e-04 - val_loss: 0.0139\n",
      "Epoch 36/100\n",
      "10/10 [==============================] - 4s 359ms/step - loss: 5.0847e-04 - val_loss: 0.0206\n",
      "Epoch 37/100\n",
      "10/10 [==============================] - 4s 364ms/step - loss: 5.5097e-04 - val_loss: 0.0131\n",
      "Epoch 38/100\n",
      "10/10 [==============================] - 4s 369ms/step - loss: 5.1099e-04 - val_loss: 0.0100\n",
      "Epoch 39/100\n",
      "10/10 [==============================] - 4s 365ms/step - loss: 4.9062e-04 - val_loss: 0.0101\n",
      "Epoch 40/100\n",
      "10/10 [==============================] - 4s 367ms/step - loss: 5.0436e-04 - val_loss: 0.0176\n",
      "Epoch 41/100\n",
      "10/10 [==============================] - 4s 370ms/step - loss: 4.7470e-04 - val_loss: 0.0120\n",
      "Epoch 42/100\n",
      "10/10 [==============================] - 4s 358ms/step - loss: 4.5801e-04 - val_loss: 0.0149\n",
      "Epoch 43/100\n",
      "10/10 [==============================] - 4s 366ms/step - loss: 4.4365e-04 - val_loss: 0.0175\n",
      "Epoch 44/100\n",
      "10/10 [==============================] - 4s 367ms/step - loss: 4.9068e-04 - val_loss: 0.0108\n",
      "Epoch 45/100\n",
      "10/10 [==============================] - 4s 356ms/step - loss: 4.6268e-04 - val_loss: 0.0149\n",
      "Epoch 46/100\n",
      "10/10 [==============================] - 4s 359ms/step - loss: 4.3268e-04 - val_loss: 0.0185\n",
      "Epoch 47/100\n",
      "10/10 [==============================] - 4s 366ms/step - loss: 4.9746e-04 - val_loss: 0.0116\n",
      "Epoch 48/100\n",
      "10/10 [==============================] - 4s 364ms/step - loss: 5.0205e-04 - val_loss: 0.0102\n",
      "Epoch 49/100\n",
      "10/10 [==============================] - 4s 363ms/step - loss: 4.6844e-04 - val_loss: 0.0191\n",
      "Epoch 50/100\n",
      "10/10 [==============================] - 4s 362ms/step - loss: 4.6519e-04 - val_loss: 0.0125\n",
      "Epoch 51/100\n",
      "10/10 [==============================] - 4s 355ms/step - loss: 4.5280e-04 - val_loss: 0.0145\n",
      "Epoch 52/100\n",
      "10/10 [==============================] - 4s 356ms/step - loss: 4.2544e-04 - val_loss: 0.0143\n",
      "Epoch 53/100\n",
      "10/10 [==============================] - 4s 359ms/step - loss: 4.3093e-04 - val_loss: 0.0135\n",
      "Epoch 54/100\n",
      "10/10 [==============================] - 4s 363ms/step - loss: 4.3554e-04 - val_loss: 0.0119\n",
      "Epoch 55/100\n",
      "10/10 [==============================] - 4s 350ms/step - loss: 4.3325e-04 - val_loss: 0.0148\n",
      "Epoch 56/100\n",
      "10/10 [==============================] - 4s 362ms/step - loss: 4.3124e-04 - val_loss: 0.0133\n",
      "Epoch 57/100\n",
      "10/10 [==============================] - 4s 359ms/step - loss: 4.1331e-04 - val_loss: 0.0210\n",
      "Epoch 58/100\n",
      "10/10 [==============================] - 4s 363ms/step - loss: 5.7508e-04 - val_loss: 0.0064\n",
      "Epoch 59/100\n",
      "10/10 [==============================] - 4s 350ms/step - loss: 4.8858e-04 - val_loss: 0.0158\n",
      "Epoch 60/100\n",
      "10/10 [==============================] - 4s 358ms/step - loss: 4.6090e-04 - val_loss: 0.0135\n",
      "Epoch 61/100\n",
      "10/10 [==============================] - 4s 356ms/step - loss: 4.3307e-04 - val_loss: 0.0131\n",
      "Epoch 62/100\n",
      "10/10 [==============================] - 3s 349ms/step - loss: 4.1520e-04 - val_loss: 0.0161\n",
      "Epoch 63/100\n",
      "10/10 [==============================] - 4s 355ms/step - loss: 4.2737e-04 - val_loss: 0.0085\n",
      "Epoch 64/100\n",
      "10/10 [==============================] - 4s 358ms/step - loss: 4.1837e-04 - val_loss: 0.0153\n",
      "Epoch 65/100\n",
      "10/10 [==============================] - 4s 374ms/step - loss: 4.3218e-04 - val_loss: 0.0104\n",
      "Epoch 66/100\n",
      "10/10 [==============================] - 4s 364ms/step - loss: 4.1334e-04 - val_loss: 0.0133\n",
      "Epoch 67/100\n",
      "10/10 [==============================] - 3s 346ms/step - loss: 4.1425e-04 - val_loss: 0.0091\n",
      "Epoch 68/100\n",
      "10/10 [==============================] - 4s 358ms/step - loss: 4.4900e-04 - val_loss: 0.0137\n",
      "Epoch 69/100\n",
      "10/10 [==============================] - 4s 353ms/step - loss: 4.0305e-04 - val_loss: 0.0123\n",
      "Epoch 70/100\n",
      "10/10 [==============================] - 4s 359ms/step - loss: 3.9375e-04 - val_loss: 0.0123\n",
      "Epoch 71/100\n",
      "10/10 [==============================] - 4s 370ms/step - loss: 3.8960e-04 - val_loss: 0.0139\n",
      "Epoch 72/100\n",
      "10/10 [==============================] - 4s 355ms/step - loss: 4.0654e-04 - val_loss: 0.0127\n",
      "Epoch 73/100\n",
      "10/10 [==============================] - 4s 352ms/step - loss: 4.0192e-04 - val_loss: 0.0091\n",
      "Epoch 74/100\n",
      "10/10 [==============================] - 4s 352ms/step - loss: 4.1600e-04 - val_loss: 0.0164\n",
      "Epoch 75/100\n",
      "10/10 [==============================] - 4s 350ms/step - loss: 4.1458e-04 - val_loss: 0.0075\n",
      "Epoch 76/100\n",
      "10/10 [==============================] - 4s 352ms/step - loss: 3.9483e-04 - val_loss: 0.0143\n",
      "Epoch 77/100\n",
      "10/10 [==============================] - 4s 349ms/step - loss: 3.8293e-04 - val_loss: 0.0092\n",
      "Epoch 78/100\n",
      "10/10 [==============================] - 3s 338ms/step - loss: 4.1334e-04 - val_loss: 0.0163\n",
      "Epoch 79/100\n",
      "10/10 [==============================] - 3s 342ms/step - loss: 4.2962e-04 - val_loss: 0.0038\n",
      "Epoch 80/100\n",
      "10/10 [==============================] - 3s 343ms/step - loss: 5.2288e-04 - val_loss: 0.0135\n",
      "Epoch 81/100\n",
      "10/10 [==============================] - 3s 342ms/step - loss: 3.6783e-04 - val_loss: 0.0115\n",
      "Epoch 82/100\n",
      "10/10 [==============================] - 3s 344ms/step - loss: 3.8171e-04 - val_loss: 0.0151\n",
      "Epoch 83/100\n",
      "10/10 [==============================] - 3s 346ms/step - loss: 3.9386e-04 - val_loss: 0.0113\n",
      "Epoch 84/100\n",
      "10/10 [==============================] - 3s 340ms/step - loss: 3.6068e-04 - val_loss: 0.0083\n",
      "Epoch 85/100\n",
      "10/10 [==============================] - 3s 340ms/step - loss: 3.5844e-04 - val_loss: 0.0089\n",
      "Epoch 86/100\n",
      "10/10 [==============================] - 3s 342ms/step - loss: 4.2839e-04 - val_loss: 0.0125\n",
      "Epoch 87/100\n",
      "10/10 [==============================] - 3s 341ms/step - loss: 3.8480e-04 - val_loss: 0.0104\n",
      "Epoch 88/100\n",
      "10/10 [==============================] - 3s 345ms/step - loss: 3.7462e-04 - val_loss: 0.0101\n",
      "Epoch 89/100\n",
      "10/10 [==============================] - 3s 331ms/step - loss: 3.6274e-04 - val_loss: 0.0083\n",
      "Epoch 90/100\n",
      "10/10 [==============================] - 3s 342ms/step - loss: 3.7144e-04 - val_loss: 0.0098\n",
      "Epoch 91/100\n",
      "10/10 [==============================] - 3s 337ms/step - loss: 3.9012e-04 - val_loss: 0.0159\n",
      "Epoch 92/100\n",
      "10/10 [==============================] - 3s 341ms/step - loss: 3.8682e-04 - val_loss: 0.0070\n",
      "Epoch 93/100\n",
      "10/10 [==============================] - 3s 339ms/step - loss: 3.6840e-04 - val_loss: 0.0121\n",
      "Epoch 94/100\n",
      "10/10 [==============================] - 3s 339ms/step - loss: 3.3943e-04 - val_loss: 0.0143\n",
      "Epoch 95/100\n",
      "10/10 [==============================] - 3s 338ms/step - loss: 3.8790e-04 - val_loss: 0.0050\n",
      "Epoch 96/100\n",
      "10/10 [==============================] - 3s 340ms/step - loss: 3.9320e-04 - val_loss: 0.0139\n",
      "Epoch 97/100\n",
      "10/10 [==============================] - 3s 345ms/step - loss: 3.6270e-04 - val_loss: 0.0083\n",
      "Epoch 98/100\n",
      "10/10 [==============================] - 3s 344ms/step - loss: 3.5364e-04 - val_loss: 0.0057\n",
      "Epoch 99/100\n",
      "10/10 [==============================] - 3s 345ms/step - loss: 3.6038e-04 - val_loss: 0.0112\n",
      "Epoch 100/100\n",
      "10/10 [==============================] - 3s 346ms/step - loss: 3.2866e-04 - val_loss: 0.0088\n"
     ]
    },
    {
     "data": {
      "text/plain": "<keras.callbacks.History at 0x1ffc4126d00>"
     },
     "execution_count": 18,
     "metadata": {},
     "output_type": "execute_result"
    }
   ],
   "source": [
    "model.fit(X_train, y_train, validation_data=(X_test, y_test), epochs=100, batch_size=250, verbose=1)"
   ],
   "metadata": {
    "collapsed": false,
    "pycharm": {
     "name": "#%%\n"
    }
   }
  },
  {
   "cell_type": "code",
   "execution_count": 19,
   "outputs": [],
   "source": [
    "# import tensorflow as tf\n"
   ],
   "metadata": {
    "collapsed": false,
    "pycharm": {
     "name": "#%%\n"
    }
   }
  },
  {
   "cell_type": "code",
   "execution_count": 20,
   "outputs": [
    {
     "data": {
      "text/plain": "'2.8.0'"
     },
     "execution_count": 20,
     "metadata": {},
     "output_type": "execute_result"
    }
   ],
   "source": [
    "# import tensorflow as tf\n",
    "tf.__version__"
   ],
   "metadata": {
    "collapsed": false,
    "pycharm": {
     "name": "#%%\n"
    }
   }
  },
  {
   "cell_type": "code",
   "execution_count": 21,
   "outputs": [
    {
     "name": "stdout",
     "output_type": "stream",
     "text": [
      "KerasTensor(type_spec=TensorSpec(shape=(None, 100, 1), dtype=tf.float32, name='lstm_input'), name='lstm_input', description=\"created by layer 'lstm_input'\")\n"
     ]
    }
   ],
   "source": [
    "prediction = model.predict(X_train)\n",
    "test_prediction = model.predict(X_test)\n",
    "print(model.input)"
   ],
   "metadata": {
    "collapsed": false,
    "pycharm": {
     "name": "#%%\n"
    }
   }
  },
  {
   "cell_type": "code",
   "execution_count": 22,
   "outputs": [],
   "source": [
    "prediction = scaler.inverse_transform(prediction)\n",
    "test_prediction = scaler.inverse_transform(test_prediction)"
   ],
   "metadata": {
    "collapsed": false,
    "pycharm": {
     "name": "#%%\n"
    }
   }
  },
  {
   "cell_type": "code",
   "execution_count": 23,
   "outputs": [
    {
     "data": {
      "text/plain": "1165.3353383005963"
     },
     "execution_count": 23,
     "metadata": {},
     "output_type": "execute_result"
    }
   ],
   "source": [
    "import math\n",
    "from sklearn.metrics import mean_squared_error\n",
    "math.sqrt(mean_squared_error(y_train, prediction))"
   ],
   "metadata": {
    "collapsed": false,
    "pycharm": {
     "name": "#%%\n"
    }
   }
  },
  {
   "cell_type": "code",
   "execution_count": 24,
   "outputs": [
    {
     "data": {
      "text/plain": "2693.704563773042"
     },
     "execution_count": 24,
     "metadata": {},
     "output_type": "execute_result"
    }
   ],
   "source": [
    "math.sqrt(mean_squared_error(y_test, test_prediction))"
   ],
   "metadata": {
    "collapsed": false,
    "pycharm": {
     "name": "#%%\n"
    }
   }
  },
  {
   "cell_type": "code",
   "execution_count": 25,
   "outputs": [
    {
     "data": {
      "text/plain": "<Figure size 432x288 with 1 Axes>",
      "image/png": "[encoded data removed]"
     },
     "metadata": {
      "needs_background": "light"
     },
     "output_type": "display_data"
    }
   ],
   "source": [
    "### Plotting\n",
    "# shift train predictions for plotting\n",
    "look_back=100\n",
    "trainPredictPlot = np.empty_like(df1)\n",
    "trainPredictPlot[:, :] = np.nan\n",
    "trainPredictPlot[look_back:len(prediction)+look_back, :] = prediction\n",
    "# shift test predictions for plotting\n",
    "testPredictPlot = np.empty_like(df1)\n",
    "testPredictPlot[:, :] = np.nan\n",
    "testPredictPlot[len(prediction)+(look_back*2)+1:len(df1)-1, :] = test_prediction\n",
    "# plot baseline and predictions\n",
    "plt.plot(scaler.inverse_transform(df1))\n",
    "plt.plot(trainPredictPlot)\n",
    "plt.plot(testPredictPlot)\n",
    "plt.show()"
   ],
   "metadata": {
    "collapsed": false,
    "pycharm": {
     "name": "#%%\n"
    }
   }
  },
  {
   "cell_type": "code",
   "execution_count": 26,
   "outputs": [
    {
     "data": {
      "text/plain": "126"
     },
     "execution_count": 26,
     "metadata": {},
     "output_type": "execute_result"
    }
   ],
   "source": [
    "len(test)"
   ],
   "metadata": {
    "collapsed": false,
    "pycharm": {
     "name": "#%%\n"
    }
   }
  },
  {
   "cell_type": "code",
   "execution_count": 27,
   "outputs": [
    {
     "data": {
      "text/plain": "(1, 100)"
     },
     "execution_count": 27,
     "metadata": {},
     "output_type": "execute_result"
    }
   ],
   "source": [
    "x_input = test[len(test)-100:].reshape(1, -1)\n",
    "x_input.shape"
   ],
   "metadata": {
    "collapsed": false,
    "pycharm": {
     "name": "#%%\n"
    }
   }
  },
  {
   "cell_type": "code",
   "execution_count": 28,
   "outputs": [],
   "source": [
    "temp_input = list(x_input)\n",
    "temp_input = temp_input[0].tolist()"
   ],
   "metadata": {
    "collapsed": false,
    "pycharm": {
     "name": "#%%\n"
    }
   }
  },
  {
   "cell_type": "code",
   "execution_count": 29,
   "outputs": [],
   "source": [
    "# temp_input"
   ],
   "metadata": {
    "collapsed": false,
    "pycharm": {
     "name": "#%%\n"
    }
   }
  },
  {
   "cell_type": "code",
   "execution_count": 30,
   "outputs": [
    {
     "name": "stdout",
     "output_type": "stream",
     "text": [
      "1 day input [0.97251161 0.97392628 0.98066311 0.96884892 0.96926202 0.96559201\n",
      " 0.95591991 0.95880762 0.95399718 0.9045546  0.90380523 0.89980993\n",
      " 0.91128411 0.92183722 0.93375734 0.91535625 0.92014839 0.89459005\n",
      " 0.88992213 0.87423687 0.8492744  0.85132135 0.82473583 0.84304563\n",
      " 0.8421756  0.87265049 0.89026205 0.90619952 0.98046205 0.94108638\n",
      " 0.94375848 0.91394523 0.91595569 0.93233178 0.91149249 0.8787952\n",
      " 0.88734873 0.89557698 0.90334099 0.86547861 0.85201959 0.84423362\n",
      " 0.83094631 0.86814705 0.88164266 0.88435866 0.87907301 0.8833388\n",
      " 0.88009644 0.86411516 0.82275465 0.82870561 0.87686515 0.86820916\n",
      " 0.85207804 0.82477608 0.84611976 0.87558211 0.88223487 0.89832583\n",
      " 0.89596447 0.92373799 0.91076873 0.93130094 0.93283252 0.9359652\n",
      " 0.94546917 0.94104247 0.91914682 0.92682676 0.94833867 0.92948057\n",
      " 0.9010637  0.89586577 0.87792151 0.84711401 0.83671815 0.85069264\n",
      " 0.82851918 0.83369515 0.85248383 0.83577504 0.81159112 0.77267237\n",
      " 0.79925424 0.77188285 0.73909042 0.77119193 0.7386957  0.75470982\n",
      " 0.76181959 0.79431948 0.75170877 0.74376565 0.72493316 0.73590294\n",
      " 0.7313447  0.72549611 0.75002004 0.80393195]\n",
      "1 day output [[0.8003584]]\n",
      "2 day input [0.97392628 0.98066311 0.96884892 0.96926202 0.96559201 0.95591991\n",
      " 0.95880762 0.95399718 0.9045546  0.90380523 0.89980993 0.91128411\n",
      " 0.92183722 0.93375734 0.91535625 0.92014839 0.89459005 0.88992213\n",
      " 0.87423687 0.8492744  0.85132135 0.82473583 0.84304563 0.8421756\n",
      " 0.87265049 0.89026205 0.90619952 0.98046205 0.94108638 0.94375848\n",
      " 0.91394523 0.91595569 0.93233178 0.91149249 0.8787952  0.88734873\n",
      " 0.89557698 0.90334099 0.86547861 0.85201959 0.84423362 0.83094631\n",
      " 0.86814705 0.88164266 0.88435866 0.87907301 0.8833388  0.88009644\n",
      " 0.86411516 0.82275465 0.82870561 0.87686515 0.86820916 0.85207804\n",
      " 0.82477608 0.84611976 0.87558211 0.88223487 0.89832583 0.89596447\n",
      " 0.92373799 0.91076873 0.93130094 0.93283252 0.9359652  0.94546917\n",
      " 0.94104247 0.91914682 0.92682676 0.94833867 0.92948057 0.9010637\n",
      " 0.89586577 0.87792151 0.84711401 0.83671815 0.85069264 0.82851918\n",
      " 0.83369515 0.85248383 0.83577504 0.81159112 0.77267237 0.79925424\n",
      " 0.77188285 0.73909042 0.77119193 0.7386957  0.75470982 0.76181959\n",
      " 0.79431948 0.75170877 0.74376565 0.72493316 0.73590294 0.7313447\n",
      " 0.72549611 0.75002004 0.80393195 0.80035841]\n",
      "2 day output [[0.7980032]]\n",
      "3 day input [0.98066311 0.96884892 0.96926202 0.96559201 0.95591991 0.95880762\n",
      " 0.95399718 0.9045546  0.90380523 0.89980993 0.91128411 0.92183722\n",
      " 0.93375734 0.91535625 0.92014839 0.89459005 0.88992213 0.87423687\n",
      " 0.8492744  0.85132135 0.82473583 0.84304563 0.8421756  0.87265049\n",
      " 0.89026205 0.90619952 0.98046205 0.94108638 0.94375848 0.91394523\n",
      " 0.91595569 0.93233178 0.91149249 0.8787952  0.88734873 0.89557698\n",
      " 0.90334099 0.86547861 0.85201959 0.84423362 0.83094631 0.86814705\n",
      " 0.88164266 0.88435866 0.87907301 0.8833388  0.88009644 0.86411516\n",
      " 0.82275465 0.82870561 0.87686515 0.86820916 0.85207804 0.82477608\n",
      " 0.84611976 0.87558211 0.88223487 0.89832583 0.89596447 0.92373799\n",
      " 0.91076873 0.93130094 0.93283252 0.9359652  0.94546917 0.94104247\n",
      " 0.91914682 0.92682676 0.94833867 0.92948057 0.9010637  0.89586577\n",
      " 0.87792151 0.84711401 0.83671815 0.85069264 0.82851918 0.83369515\n",
      " 0.85248383 0.83577504 0.81159112 0.77267237 0.79925424 0.77188285\n",
      " 0.73909042 0.77119193 0.7386957  0.75470982 0.76181959 0.79431948\n",
      " 0.75170877 0.74376565 0.72493316 0.73590294 0.7313447  0.72549611\n",
      " 0.75002004 0.80393195 0.80035841 0.7980032 ]\n",
      "3 day output [[0.79699653]]\n",
      "4 day input [0.96884892 0.96926202 0.96559201 0.95591991 0.95880762 0.95399718\n",
      " 0.9045546  0.90380523 0.89980993 0.91128411 0.92183722 0.93375734\n",
      " 0.91535625 0.92014839 0.89459005 0.88992213 0.87423687 0.8492744\n",
      " 0.85132135 0.82473583 0.84304563 0.8421756  0.87265049 0.89026205\n",
      " 0.90619952 0.98046205 0.94108638 0.94375848 0.91394523 0.91595569\n",
      " 0.93233178 0.91149249 0.8787952  0.88734873 0.89557698 0.90334099\n",
      " 0.86547861 0.85201959 0.84423362 0.83094631 0.86814705 0.88164266\n",
      " 0.88435866 0.87907301 0.8833388  0.88009644 0.86411516 0.82275465\n",
      " 0.82870561 0.87686515 0.86820916 0.85207804 0.82477608 0.84611976\n",
      " 0.87558211 0.88223487 0.89832583 0.89596447 0.92373799 0.91076873\n",
      " 0.93130094 0.93283252 0.9359652  0.94546917 0.94104247 0.91914682\n",
      " 0.92682676 0.94833867 0.92948057 0.9010637  0.89586577 0.87792151\n",
      " 0.84711401 0.83671815 0.85069264 0.82851918 0.83369515 0.85248383\n",
      " 0.83577504 0.81159112 0.77267237 0.79925424 0.77188285 0.73909042\n",
      " 0.77119193 0.7386957  0.75470982 0.76181959 0.79431948 0.75170877\n",
      " 0.74376565 0.72493316 0.73590294 0.7313447  0.72549611 0.75002004\n",
      " 0.80393195 0.80035841 0.7980032  0.79699653]\n",
      "4 day output [[0.79725635]]\n",
      "5 day input [0.96926202 0.96559201 0.95591991 0.95880762 0.95399718 0.9045546\n",
      " 0.90380523 0.89980993 0.91128411 0.92183722 0.93375734 0.91535625\n",
      " 0.92014839 0.89459005 0.88992213 0.87423687 0.8492744  0.85132135\n",
      " 0.82473583 0.84304563 0.8421756  0.87265049 0.89026205 0.90619952\n",
      " 0.98046205 0.94108638 0.94375848 0.91394523 0.91595569 0.93233178\n",
      " 0.91149249 0.8787952  0.88734873 0.89557698 0.90334099 0.86547861\n",
      " 0.85201959 0.84423362 0.83094631 0.86814705 0.88164266 0.88435866\n",
      " 0.87907301 0.8833388  0.88009644 0.86411516 0.82275465 0.82870561\n",
      " 0.87686515 0.86820916 0.85207804 0.82477608 0.84611976 0.87558211\n",
      " 0.88223487 0.89832583 0.89596447 0.92373799 0.91076873 0.93130094\n",
      " 0.93283252 0.9359652  0.94546917 0.94104247 0.91914682 0.92682676\n",
      " 0.94833867 0.92948057 0.9010637  0.89586577 0.87792151 0.84711401\n",
      " 0.83671815 0.85069264 0.82851918 0.83369515 0.85248383 0.83577504\n",
      " 0.81159112 0.77267237 0.79925424 0.77188285 0.73909042 0.77119193\n",
      " 0.7386957  0.75470982 0.76181959 0.79431948 0.75170877 0.74376565\n",
      " 0.72493316 0.73590294 0.7313447  0.72549611 0.75002004 0.80393195\n",
      " 0.80035841 0.7980032  0.79699653 0.79725635]\n",
      "5 day output [[0.79856735]]\n",
      "6 day input [0.96559201 0.95591991 0.95880762 0.95399718 0.9045546  0.90380523\n",
      " 0.89980993 0.91128411 0.92183722 0.93375734 0.91535625 0.92014839\n",
      " 0.89459005 0.88992213 0.87423687 0.8492744  0.85132135 0.82473583\n",
      " 0.84304563 0.8421756  0.87265049 0.89026205 0.90619952 0.98046205\n",
      " 0.94108638 0.94375848 0.91394523 0.91595569 0.93233178 0.91149249\n",
      " 0.8787952  0.88734873 0.89557698 0.90334099 0.86547861 0.85201959\n",
      " 0.84423362 0.83094631 0.86814705 0.88164266 0.88435866 0.87907301\n",
      " 0.8833388  0.88009644 0.86411516 0.82275465 0.82870561 0.87686515\n",
      " 0.86820916 0.85207804 0.82477608 0.84611976 0.87558211 0.88223487\n",
      " 0.89832583 0.89596447 0.92373799 0.91076873 0.93130094 0.93283252\n",
      " 0.9359652  0.94546917 0.94104247 0.91914682 0.92682676 0.94833867\n",
      " 0.92948057 0.9010637  0.89586577 0.87792151 0.84711401 0.83671815\n",
      " 0.85069264 0.82851918 0.83369515 0.85248383 0.83577504 0.81159112\n",
      " 0.77267237 0.79925424 0.77188285 0.73909042 0.77119193 0.7386957\n",
      " 0.75470982 0.76181959 0.79431948 0.75170877 0.74376565 0.72493316\n",
      " 0.73590294 0.7313447  0.72549611 0.75002004 0.80393195 0.80035841\n",
      " 0.7980032  0.79699653 0.79725635 0.79856735]\n",
      "6 day output [[0.8006552]]\n",
      "7 day input [0.95591991 0.95880762 0.95399718 0.9045546  0.90380523 0.89980993\n",
      " 0.91128411 0.92183722 0.93375734 0.91535625 0.92014839 0.89459005\n",
      " 0.88992213 0.87423687 0.8492744  0.85132135 0.82473583 0.84304563\n",
      " 0.8421756  0.87265049 0.89026205 0.90619952 0.98046205 0.94108638\n",
      " 0.94375848 0.91394523 0.91595569 0.93233178 0.91149249 0.8787952\n",
      " 0.88734873 0.89557698 0.90334099 0.86547861 0.85201959 0.84423362\n",
      " 0.83094631 0.86814705 0.88164266 0.88435866 0.87907301 0.8833388\n",
      " 0.88009644 0.86411516 0.82275465 0.82870561 0.87686515 0.86820916\n",
      " 0.85207804 0.82477608 0.84611976 0.87558211 0.88223487 0.89832583\n",
      " 0.89596447 0.92373799 0.91076873 0.93130094 0.93283252 0.9359652\n",
      " 0.94546917 0.94104247 0.91914682 0.92682676 0.94833867 0.92948057\n",
      " 0.9010637  0.89586577 0.87792151 0.84711401 0.83671815 0.85069264\n",
      " 0.82851918 0.83369515 0.85248383 0.83577504 0.81159112 0.77267237\n",
      " 0.79925424 0.77188285 0.73909042 0.77119193 0.7386957  0.75470982\n",
      " 0.76181959 0.79431948 0.75170877 0.74376565 0.72493316 0.73590294\n",
      " 0.7313447  0.72549611 0.75002004 0.80393195 0.80035841 0.7980032\n",
      " 0.79699653 0.79725635 0.79856735 0.80065519]\n",
      "7 day output [[0.80324626]]\n",
      "8 day input [0.95880762 0.95399718 0.9045546  0.90380523 0.89980993 0.91128411\n",
      " 0.92183722 0.93375734 0.91535625 0.92014839 0.89459005 0.88992213\n",
      " 0.87423687 0.8492744  0.85132135 0.82473583 0.84304563 0.8421756\n",
      " 0.87265049 0.89026205 0.90619952 0.98046205 0.94108638 0.94375848\n",
      " 0.91394523 0.91595569 0.93233178 0.91149249 0.8787952  0.88734873\n",
      " 0.89557698 0.90334099 0.86547861 0.85201959 0.84423362 0.83094631\n",
      " 0.86814705 0.88164266 0.88435866 0.87907301 0.8833388  0.88009644\n",
      " 0.86411516 0.82275465 0.82870561 0.87686515 0.86820916 0.85207804\n",
      " 0.82477608 0.84611976 0.87558211 0.88223487 0.89832583 0.89596447\n",
      " 0.92373799 0.91076873 0.93130094 0.93283252 0.9359652  0.94546917\n",
      " 0.94104247 0.91914682 0.92682676 0.94833867 0.92948057 0.9010637\n",
      " 0.89586577 0.87792151 0.84711401 0.83671815 0.85069264 0.82851918\n",
      " 0.83369515 0.85248383 0.83577504 0.81159112 0.77267237 0.79925424\n",
      " 0.77188285 0.73909042 0.77119193 0.7386957  0.75470982 0.76181959\n",
      " 0.79431948 0.75170877 0.74376565 0.72493316 0.73590294 0.7313447\n",
      " 0.72549611 0.75002004 0.80393195 0.80035841 0.7980032  0.79699653\n",
      " 0.79725635 0.79856735 0.80065519 0.80324626]\n",
      "8 day output [[0.806104]]\n",
      "9 day input [0.95399718 0.9045546  0.90380523 0.89980993 0.91128411 0.92183722\n",
      " 0.93375734 0.91535625 0.92014839 0.89459005 0.88992213 0.87423687\n",
      " 0.8492744  0.85132135 0.82473583 0.84304563 0.8421756  0.87265049\n",
      " 0.89026205 0.90619952 0.98046205 0.94108638 0.94375848 0.91394523\n",
      " 0.91595569 0.93233178 0.91149249 0.8787952  0.88734873 0.89557698\n",
      " 0.90334099 0.86547861 0.85201959 0.84423362 0.83094631 0.86814705\n",
      " 0.88164266 0.88435866 0.87907301 0.8833388  0.88009644 0.86411516\n",
      " 0.82275465 0.82870561 0.87686515 0.86820916 0.85207804 0.82477608\n",
      " 0.84611976 0.87558211 0.88223487 0.89832583 0.89596447 0.92373799\n",
      " 0.91076873 0.93130094 0.93283252 0.9359652  0.94546917 0.94104247\n",
      " 0.91914682 0.92682676 0.94833867 0.92948057 0.9010637  0.89586577\n",
      " 0.87792151 0.84711401 0.83671815 0.85069264 0.82851918 0.83369515\n",
      " 0.85248383 0.83577504 0.81159112 0.77267237 0.79925424 0.77188285\n",
      " 0.73909042 0.77119193 0.7386957  0.75470982 0.76181959 0.79431948\n",
      " 0.75170877 0.74376565 0.72493316 0.73590294 0.7313447  0.72549611\n",
      " 0.75002004 0.80393195 0.80035841 0.7980032  0.79699653 0.79725635\n",
      " 0.79856735 0.80065519 0.80324626 0.806104  ]\n",
      "9 day output [[0.8090456]]\n",
      "10 day input [0.9045546  0.90380523 0.89980993 0.91128411 0.92183722 0.93375734\n",
      " 0.91535625 0.92014839 0.89459005 0.88992213 0.87423687 0.8492744\n",
      " 0.85132135 0.82473583 0.84304563 0.8421756  0.87265049 0.89026205\n",
      " 0.90619952 0.98046205 0.94108638 0.94375848 0.91394523 0.91595569\n",
      " 0.93233178 0.91149249 0.8787952  0.88734873 0.89557698 0.90334099\n",
      " 0.86547861 0.85201959 0.84423362 0.83094631 0.86814705 0.88164266\n",
      " 0.88435866 0.87907301 0.8833388  0.88009644 0.86411516 0.82275465\n",
      " 0.82870561 0.87686515 0.86820916 0.85207804 0.82477608 0.84611976\n",
      " 0.87558211 0.88223487 0.89832583 0.89596447 0.92373799 0.91076873\n",
      " 0.93130094 0.93283252 0.9359652  0.94546917 0.94104247 0.91914682\n",
      " 0.92682676 0.94833867 0.92948057 0.9010637  0.89586577 0.87792151\n",
      " 0.84711401 0.83671815 0.85069264 0.82851918 0.83369515 0.85248383\n",
      " 0.83577504 0.81159112 0.77267237 0.79925424 0.77188285 0.73909042\n",
      " 0.77119193 0.7386957  0.75470982 0.76181959 0.79431948 0.75170877\n",
      " 0.74376565 0.72493316 0.73590294 0.7313447  0.72549611 0.75002004\n",
      " 0.80393195 0.80035841 0.7980032  0.79699653 0.79725635 0.79856735\n",
      " 0.80065519 0.80324626 0.806104   0.80904561]\n",
      "10 day output [[0.81194514]]\n",
      "11 day input [0.90380523 0.89980993 0.91128411 0.92183722 0.93375734 0.91535625\n",
      " 0.92014839 0.89459005 0.88992213 0.87423687 0.8492744  0.85132135\n",
      " 0.82473583 0.84304563 0.8421756  0.87265049 0.89026205 0.90619952\n",
      " 0.98046205 0.94108638 0.94375848 0.91394523 0.91595569 0.93233178\n",
      " 0.91149249 0.8787952  0.88734873 0.89557698 0.90334099 0.86547861\n",
      " 0.85201959 0.84423362 0.83094631 0.86814705 0.88164266 0.88435866\n",
      " 0.87907301 0.8833388  0.88009644 0.86411516 0.82275465 0.82870561\n",
      " 0.87686515 0.86820916 0.85207804 0.82477608 0.84611976 0.87558211\n",
      " 0.88223487 0.89832583 0.89596447 0.92373799 0.91076873 0.93130094\n",
      " 0.93283252 0.9359652  0.94546917 0.94104247 0.91914682 0.92682676\n",
      " 0.94833867 0.92948057 0.9010637  0.89586577 0.87792151 0.84711401\n",
      " 0.83671815 0.85069264 0.82851918 0.83369515 0.85248383 0.83577504\n",
      " 0.81159112 0.77267237 0.79925424 0.77188285 0.73909042 0.77119193\n",
      " 0.7386957  0.75470982 0.76181959 0.79431948 0.75170877 0.74376565\n",
      " 0.72493316 0.73590294 0.7313447  0.72549611 0.75002004 0.80393195\n",
      " 0.80035841 0.7980032  0.79699653 0.79725635 0.79856735 0.80065519\n",
      " 0.80324626 0.806104   0.80904561 0.81194514]\n",
      "11 day output [[0.8147262]]\n",
      "12 day input [0.89980993 0.91128411 0.92183722 0.93375734 0.91535625 0.92014839\n",
      " 0.89459005 0.88992213 0.87423687 0.8492744  0.85132135 0.82473583\n",
      " 0.84304563 0.8421756  0.87265049 0.89026205 0.90619952 0.98046205\n",
      " 0.94108638 0.94375848 0.91394523 0.91595569 0.93233178 0.91149249\n",
      " 0.8787952  0.88734873 0.89557698 0.90334099 0.86547861 0.85201959\n",
      " 0.84423362 0.83094631 0.86814705 0.88164266 0.88435866 0.87907301\n",
      " 0.8833388  0.88009644 0.86411516 0.82275465 0.82870561 0.87686515\n",
      " 0.86820916 0.85207804 0.82477608 0.84611976 0.87558211 0.88223487\n",
      " 0.89832583 0.89596447 0.92373799 0.91076873 0.93130094 0.93283252\n",
      " 0.9359652  0.94546917 0.94104247 0.91914682 0.92682676 0.94833867\n",
      " 0.92948057 0.9010637  0.89586577 0.87792151 0.84711401 0.83671815\n",
      " 0.85069264 0.82851918 0.83369515 0.85248383 0.83577504 0.81159112\n",
      " 0.77267237 0.79925424 0.77188285 0.73909042 0.77119193 0.7386957\n",
      " 0.75470982 0.76181959 0.79431948 0.75170877 0.74376565 0.72493316\n",
      " 0.73590294 0.7313447  0.72549611 0.75002004 0.80393195 0.80035841\n",
      " 0.7980032  0.79699653 0.79725635 0.79856735 0.80065519 0.80324626\n",
      " 0.806104   0.80904561 0.81194514 0.81472617]\n",
      "12 day output [[0.8173521]]\n",
      "13 day input [0.91128411 0.92183722 0.93375734 0.91535625 0.92014839 0.89459005\n",
      " 0.88992213 0.87423687 0.8492744  0.85132135 0.82473583 0.84304563\n",
      " 0.8421756  0.87265049 0.89026205 0.90619952 0.98046205 0.94108638\n",
      " 0.94375848 0.91394523 0.91595569 0.93233178 0.91149249 0.8787952\n",
      " 0.88734873 0.89557698 0.90334099 0.86547861 0.85201959 0.84423362\n",
      " 0.83094631 0.86814705 0.88164266 0.88435866 0.87907301 0.8833388\n",
      " 0.88009644 0.86411516 0.82275465 0.82870561 0.87686515 0.86820916\n",
      " 0.85207804 0.82477608 0.84611976 0.87558211 0.88223487 0.89832583\n",
      " 0.89596447 0.92373799 0.91076873 0.93130094 0.93283252 0.9359652\n",
      " 0.94546917 0.94104247 0.91914682 0.92682676 0.94833867 0.92948057\n",
      " 0.9010637  0.89586577 0.87792151 0.84711401 0.83671815 0.85069264\n",
      " 0.82851918 0.83369515 0.85248383 0.83577504 0.81159112 0.77267237\n",
      " 0.79925424 0.77188285 0.73909042 0.77119193 0.7386957  0.75470982\n",
      " 0.76181959 0.79431948 0.75170877 0.74376565 0.72493316 0.73590294\n",
      " 0.7313447  0.72549611 0.75002004 0.80393195 0.80035841 0.7980032\n",
      " 0.79699653 0.79725635 0.79856735 0.80065519 0.80324626 0.806104\n",
      " 0.80904561 0.81194514 0.81472617 0.81735212]\n",
      "13 day output [[0.81981343]]\n",
      "14 day input [0.92183722 0.93375734 0.91535625 0.92014839 0.89459005 0.88992213\n",
      " 0.87423687 0.8492744  0.85132135 0.82473583 0.84304563 0.8421756\n",
      " 0.87265049 0.89026205 0.90619952 0.98046205 0.94108638 0.94375848\n",
      " 0.91394523 0.91595569 0.93233178 0.91149249 0.8787952  0.88734873\n",
      " 0.89557698 0.90334099 0.86547861 0.85201959 0.84423362 0.83094631\n",
      " 0.86814705 0.88164266 0.88435866 0.87907301 0.8833388  0.88009644\n",
      " 0.86411516 0.82275465 0.82870561 0.87686515 0.86820916 0.85207804\n",
      " 0.82477608 0.84611976 0.87558211 0.88223487 0.89832583 0.89596447\n",
      " 0.92373799 0.91076873 0.93130094 0.93283252 0.9359652  0.94546917\n",
      " 0.94104247 0.91914682 0.92682676 0.94833867 0.92948057 0.9010637\n",
      " 0.89586577 0.87792151 0.84711401 0.83671815 0.85069264 0.82851918\n",
      " 0.83369515 0.85248383 0.83577504 0.81159112 0.77267237 0.79925424\n",
      " 0.77188285 0.73909042 0.77119193 0.7386957  0.75470982 0.76181959\n",
      " 0.79431948 0.75170877 0.74376565 0.72493316 0.73590294 0.7313447\n",
      " 0.72549611 0.75002004 0.80393195 0.80035841 0.7980032  0.79699653\n",
      " 0.79725635 0.79856735 0.80065519 0.80324626 0.806104   0.80904561\n",
      " 0.81194514 0.81472617 0.81735212 0.81981343]\n",
      "14 day output [[0.8221188]]\n",
      "15 day input [0.93375734 0.91535625 0.92014839 0.89459005 0.88992213 0.87423687\n",
      " 0.8492744  0.85132135 0.82473583 0.84304563 0.8421756  0.87265049\n",
      " 0.89026205 0.90619952 0.98046205 0.94108638 0.94375848 0.91394523\n",
      " 0.91595569 0.93233178 0.91149249 0.8787952  0.88734873 0.89557698\n",
      " 0.90334099 0.86547861 0.85201959 0.84423362 0.83094631 0.86814705\n",
      " 0.88164266 0.88435866 0.87907301 0.8833388  0.88009644 0.86411516\n",
      " 0.82275465 0.82870561 0.87686515 0.86820916 0.85207804 0.82477608\n",
      " 0.84611976 0.87558211 0.88223487 0.89832583 0.89596447 0.92373799\n",
      " 0.91076873 0.93130094 0.93283252 0.9359652  0.94546917 0.94104247\n",
      " 0.91914682 0.92682676 0.94833867 0.92948057 0.9010637  0.89586577\n",
      " 0.87792151 0.84711401 0.83671815 0.85069264 0.82851918 0.83369515\n",
      " 0.85248383 0.83577504 0.81159112 0.77267237 0.79925424 0.77188285\n",
      " 0.73909042 0.77119193 0.7386957  0.75470982 0.76181959 0.79431948\n",
      " 0.75170877 0.74376565 0.72493316 0.73590294 0.7313447  0.72549611\n",
      " 0.75002004 0.80393195 0.80035841 0.7980032  0.79699653 0.79725635\n",
      " 0.79856735 0.80065519 0.80324626 0.806104   0.80904561 0.81194514\n",
      " 0.81472617 0.81735212 0.81981343 0.82211882]\n",
      "15 day output [[0.82428634]]\n",
      "16 day input [0.91535625 0.92014839 0.89459005 0.88992213 0.87423687 0.8492744\n",
      " 0.85132135 0.82473583 0.84304563 0.8421756  0.87265049 0.89026205\n",
      " 0.90619952 0.98046205 0.94108638 0.94375848 0.91394523 0.91595569\n",
      " 0.93233178 0.91149249 0.8787952  0.88734873 0.89557698 0.90334099\n",
      " 0.86547861 0.85201959 0.84423362 0.83094631 0.86814705 0.88164266\n",
      " 0.88435866 0.87907301 0.8833388  0.88009644 0.86411516 0.82275465\n",
      " 0.82870561 0.87686515 0.86820916 0.85207804 0.82477608 0.84611976\n",
      " 0.87558211 0.88223487 0.89832583 0.89596447 0.92373799 0.91076873\n",
      " 0.93130094 0.93283252 0.9359652  0.94546917 0.94104247 0.91914682\n",
      " 0.92682676 0.94833867 0.92948057 0.9010637  0.89586577 0.87792151\n",
      " 0.84711401 0.83671815 0.85069264 0.82851918 0.83369515 0.85248383\n",
      " 0.83577504 0.81159112 0.77267237 0.79925424 0.77188285 0.73909042\n",
      " 0.77119193 0.7386957  0.75470982 0.76181959 0.79431948 0.75170877\n",
      " 0.74376565 0.72493316 0.73590294 0.7313447  0.72549611 0.75002004\n",
      " 0.80393195 0.80035841 0.7980032  0.79699653 0.79725635 0.79856735\n",
      " 0.80065519 0.80324626 0.806104   0.80904561 0.81194514 0.81472617\n",
      " 0.81735212 0.81981343 0.82211882 0.82428634]\n",
      "16 day output [[0.82633775]]\n",
      "17 day input [0.92014839 0.89459005 0.88992213 0.87423687 0.8492744  0.85132135\n",
      " 0.82473583 0.84304563 0.8421756  0.87265049 0.89026205 0.90619952\n",
      " 0.98046205 0.94108638 0.94375848 0.91394523 0.91595569 0.93233178\n",
      " 0.91149249 0.8787952  0.88734873 0.89557698 0.90334099 0.86547861\n",
      " 0.85201959 0.84423362 0.83094631 0.86814705 0.88164266 0.88435866\n",
      " 0.87907301 0.8833388  0.88009644 0.86411516 0.82275465 0.82870561\n",
      " 0.87686515 0.86820916 0.85207804 0.82477608 0.84611976 0.87558211\n",
      " 0.88223487 0.89832583 0.89596447 0.92373799 0.91076873 0.93130094\n",
      " 0.93283252 0.9359652  0.94546917 0.94104247 0.91914682 0.92682676\n",
      " 0.94833867 0.92948057 0.9010637  0.89586577 0.87792151 0.84711401\n",
      " 0.83671815 0.85069264 0.82851918 0.83369515 0.85248383 0.83577504\n",
      " 0.81159112 0.77267237 0.79925424 0.77188285 0.73909042 0.77119193\n",
      " 0.7386957  0.75470982 0.76181959 0.79431948 0.75170877 0.74376565\n",
      " 0.72493316 0.73590294 0.7313447  0.72549611 0.75002004 0.80393195\n",
      " 0.80035841 0.7980032  0.79699653 0.79725635 0.79856735 0.80065519\n",
      " 0.80324626 0.806104   0.80904561 0.81194514 0.81472617 0.81735212\n",
      " 0.81981343 0.82211882 0.82428634 0.82633775]\n",
      "17 day output [[0.8282944]]\n",
      "18 day input [0.89459005 0.88992213 0.87423687 0.8492744  0.85132135 0.82473583\n",
      " 0.84304563 0.8421756  0.87265049 0.89026205 0.90619952 0.98046205\n",
      " 0.94108638 0.94375848 0.91394523 0.91595569 0.93233178 0.91149249\n",
      " 0.8787952  0.88734873 0.89557698 0.90334099 0.86547861 0.85201959\n",
      " 0.84423362 0.83094631 0.86814705 0.88164266 0.88435866 0.87907301\n",
      " 0.8833388  0.88009644 0.86411516 0.82275465 0.82870561 0.87686515\n",
      " 0.86820916 0.85207804 0.82477608 0.84611976 0.87558211 0.88223487\n",
      " 0.89832583 0.89596447 0.92373799 0.91076873 0.93130094 0.93283252\n",
      " 0.9359652  0.94546917 0.94104247 0.91914682 0.92682676 0.94833867\n",
      " 0.92948057 0.9010637  0.89586577 0.87792151 0.84711401 0.83671815\n",
      " 0.85069264 0.82851918 0.83369515 0.85248383 0.83577504 0.81159112\n",
      " 0.77267237 0.79925424 0.77188285 0.73909042 0.77119193 0.7386957\n",
      " 0.75470982 0.76181959 0.79431948 0.75170877 0.74376565 0.72493316\n",
      " 0.73590294 0.7313447  0.72549611 0.75002004 0.80393195 0.80035841\n",
      " 0.7980032  0.79699653 0.79725635 0.79856735 0.80065519 0.80324626\n",
      " 0.806104   0.80904561 0.81194514 0.81472617 0.81735212 0.81981343\n",
      " 0.82211882 0.82428634 0.82633775 0.8282944 ]\n",
      "18 day output [[0.83017665]]\n",
      "19 day input [0.88992213 0.87423687 0.8492744  0.85132135 0.82473583 0.84304563\n",
      " 0.8421756  0.87265049 0.89026205 0.90619952 0.98046205 0.94108638\n",
      " 0.94375848 0.91394523 0.91595569 0.93233178 0.91149249 0.8787952\n",
      " 0.88734873 0.89557698 0.90334099 0.86547861 0.85201959 0.84423362\n",
      " 0.83094631 0.86814705 0.88164266 0.88435866 0.87907301 0.8833388\n",
      " 0.88009644 0.86411516 0.82275465 0.82870561 0.87686515 0.86820916\n",
      " 0.85207804 0.82477608 0.84611976 0.87558211 0.88223487 0.89832583\n",
      " 0.89596447 0.92373799 0.91076873 0.93130094 0.93283252 0.9359652\n",
      " 0.94546917 0.94104247 0.91914682 0.92682676 0.94833867 0.92948057\n",
      " 0.9010637  0.89586577 0.87792151 0.84711401 0.83671815 0.85069264\n",
      " 0.82851918 0.83369515 0.85248383 0.83577504 0.81159112 0.77267237\n",
      " 0.79925424 0.77188285 0.73909042 0.77119193 0.7386957  0.75470982\n",
      " 0.76181959 0.79431948 0.75170877 0.74376565 0.72493316 0.73590294\n",
      " 0.7313447  0.72549611 0.75002004 0.80393195 0.80035841 0.7980032\n",
      " 0.79699653 0.79725635 0.79856735 0.80065519 0.80324626 0.806104\n",
      " 0.80904561 0.81194514 0.81472617 0.81735212 0.81981343 0.82211882\n",
      " 0.82428634 0.82633775 0.8282944  0.83017665]\n",
      "19 day output [[0.8320005]]\n",
      "20 day input [0.87423687 0.8492744  0.85132135 0.82473583 0.84304563 0.8421756\n",
      " 0.87265049 0.89026205 0.90619952 0.98046205 0.94108638 0.94375848\n",
      " 0.91394523 0.91595569 0.93233178 0.91149249 0.8787952  0.88734873\n",
      " 0.89557698 0.90334099 0.86547861 0.85201959 0.84423362 0.83094631\n",
      " 0.86814705 0.88164266 0.88435866 0.87907301 0.8833388  0.88009644\n",
      " 0.86411516 0.82275465 0.82870561 0.87686515 0.86820916 0.85207804\n",
      " 0.82477608 0.84611976 0.87558211 0.88223487 0.89832583 0.89596447\n",
      " 0.92373799 0.91076873 0.93130094 0.93283252 0.9359652  0.94546917\n",
      " 0.94104247 0.91914682 0.92682676 0.94833867 0.92948057 0.9010637\n",
      " 0.89586577 0.87792151 0.84711401 0.83671815 0.85069264 0.82851918\n",
      " 0.83369515 0.85248383 0.83577504 0.81159112 0.77267237 0.79925424\n",
      " 0.77188285 0.73909042 0.77119193 0.7386957  0.75470982 0.76181959\n",
      " 0.79431948 0.75170877 0.74376565 0.72493316 0.73590294 0.7313447\n",
      " 0.72549611 0.75002004 0.80393195 0.80035841 0.7980032  0.79699653\n",
      " 0.79725635 0.79856735 0.80065519 0.80324626 0.806104   0.80904561\n",
      " 0.81194514 0.81472617 0.81735212 0.81981343 0.82211882 0.82428634\n",
      " 0.82633775 0.8282944  0.83017665 0.83200049]\n",
      "20 day output [[0.83378017]]\n",
      "21 day input [0.8492744  0.85132135 0.82473583 0.84304563 0.8421756  0.87265049\n",
      " 0.89026205 0.90619952 0.98046205 0.94108638 0.94375848 0.91394523\n",
      " 0.91595569 0.93233178 0.91149249 0.8787952  0.88734873 0.89557698\n",
      " 0.90334099 0.86547861 0.85201959 0.84423362 0.83094631 0.86814705\n",
      " 0.88164266 0.88435866 0.87907301 0.8833388  0.88009644 0.86411516\n",
      " 0.82275465 0.82870561 0.87686515 0.86820916 0.85207804 0.82477608\n",
      " 0.84611976 0.87558211 0.88223487 0.89832583 0.89596447 0.92373799\n",
      " 0.91076873 0.93130094 0.93283252 0.9359652  0.94546917 0.94104247\n",
      " 0.91914682 0.92682676 0.94833867 0.92948057 0.9010637  0.89586577\n",
      " 0.87792151 0.84711401 0.83671815 0.85069264 0.82851918 0.83369515\n",
      " 0.85248383 0.83577504 0.81159112 0.77267237 0.79925424 0.77188285\n",
      " 0.73909042 0.77119193 0.7386957  0.75470982 0.76181959 0.79431948\n",
      " 0.75170877 0.74376565 0.72493316 0.73590294 0.7313447  0.72549611\n",
      " 0.75002004 0.80393195 0.80035841 0.7980032  0.79699653 0.79725635\n",
      " 0.79856735 0.80065519 0.80324626 0.806104   0.80904561 0.81194514\n",
      " 0.81472617 0.81735212 0.81981343 0.82211882 0.82428634 0.82633775\n",
      " 0.8282944  0.83017665 0.83200049 0.83378017]\n",
      "21 day output [[0.8355261]]\n",
      "22 day input [0.85132135 0.82473583 0.84304563 0.8421756  0.87265049 0.89026205\n",
      " 0.90619952 0.98046205 0.94108638 0.94375848 0.91394523 0.91595569\n",
      " 0.93233178 0.91149249 0.8787952  0.88734873 0.89557698 0.90334099\n",
      " 0.86547861 0.85201959 0.84423362 0.83094631 0.86814705 0.88164266\n",
      " 0.88435866 0.87907301 0.8833388  0.88009644 0.86411516 0.82275465\n",
      " 0.82870561 0.87686515 0.86820916 0.85207804 0.82477608 0.84611976\n",
      " 0.87558211 0.88223487 0.89832583 0.89596447 0.92373799 0.91076873\n",
      " 0.93130094 0.93283252 0.9359652  0.94546917 0.94104247 0.91914682\n",
      " 0.92682676 0.94833867 0.92948057 0.9010637  0.89586577 0.87792151\n",
      " 0.84711401 0.83671815 0.85069264 0.82851918 0.83369515 0.85248383\n",
      " 0.83577504 0.81159112 0.77267237 0.79925424 0.77188285 0.73909042\n",
      " 0.77119193 0.7386957  0.75470982 0.76181959 0.79431948 0.75170877\n",
      " 0.74376565 0.72493316 0.73590294 0.7313447  0.72549611 0.75002004\n",
      " 0.80393195 0.80035841 0.7980032  0.79699653 0.79725635 0.79856735\n",
      " 0.80065519 0.80324626 0.806104   0.80904561 0.81194514 0.81472617\n",
      " 0.81735212 0.81981343 0.82211882 0.82428634 0.82633775 0.8282944\n",
      " 0.83017665 0.83200049 0.83378017 0.83552611]\n",
      "22 day output [[0.8372467]]\n",
      "23 day input [0.82473583 0.84304563 0.8421756  0.87265049 0.89026205 0.90619952\n",
      " 0.98046205 0.94108638 0.94375848 0.91394523 0.91595569 0.93233178\n",
      " 0.91149249 0.8787952  0.88734873 0.89557698 0.90334099 0.86547861\n",
      " 0.85201959 0.84423362 0.83094631 0.86814705 0.88164266 0.88435866\n",
      " 0.87907301 0.8833388  0.88009644 0.86411516 0.82275465 0.82870561\n",
      " 0.87686515 0.86820916 0.85207804 0.82477608 0.84611976 0.87558211\n",
      " 0.88223487 0.89832583 0.89596447 0.92373799 0.91076873 0.93130094\n",
      " 0.93283252 0.9359652  0.94546917 0.94104247 0.91914682 0.92682676\n",
      " 0.94833867 0.92948057 0.9010637  0.89586577 0.87792151 0.84711401\n",
      " 0.83671815 0.85069264 0.82851918 0.83369515 0.85248383 0.83577504\n",
      " 0.81159112 0.77267237 0.79925424 0.77188285 0.73909042 0.77119193\n",
      " 0.7386957  0.75470982 0.76181959 0.79431948 0.75170877 0.74376565\n",
      " 0.72493316 0.73590294 0.7313447  0.72549611 0.75002004 0.80393195\n",
      " 0.80035841 0.7980032  0.79699653 0.79725635 0.79856735 0.80065519\n",
      " 0.80324626 0.806104   0.80904561 0.81194514 0.81472617 0.81735212\n",
      " 0.81981343 0.82211882 0.82428634 0.82633775 0.8282944  0.83017665\n",
      " 0.83200049 0.83378017 0.83552611 0.83724672]\n",
      "23 day output [[0.83894825]]\n",
      "24 day input [0.84304563 0.8421756  0.87265049 0.89026205 0.90619952 0.98046205\n",
      " 0.94108638 0.94375848 0.91394523 0.91595569 0.93233178 0.91149249\n",
      " 0.8787952  0.88734873 0.89557698 0.90334099 0.86547861 0.85201959\n",
      " 0.84423362 0.83094631 0.86814705 0.88164266 0.88435866 0.87907301\n",
      " 0.8833388  0.88009644 0.86411516 0.82275465 0.82870561 0.87686515\n",
      " 0.86820916 0.85207804 0.82477608 0.84611976 0.87558211 0.88223487\n",
      " 0.89832583 0.89596447 0.92373799 0.91076873 0.93130094 0.93283252\n",
      " 0.9359652  0.94546917 0.94104247 0.91914682 0.92682676 0.94833867\n",
      " 0.92948057 0.9010637  0.89586577 0.87792151 0.84711401 0.83671815\n",
      " 0.85069264 0.82851918 0.83369515 0.85248383 0.83577504 0.81159112\n",
      " 0.77267237 0.79925424 0.77188285 0.73909042 0.77119193 0.7386957\n",
      " 0.75470982 0.76181959 0.79431948 0.75170877 0.74376565 0.72493316\n",
      " 0.73590294 0.7313447  0.72549611 0.75002004 0.80393195 0.80035841\n",
      " 0.7980032  0.79699653 0.79725635 0.79856735 0.80065519 0.80324626\n",
      " 0.806104   0.80904561 0.81194514 0.81472617 0.81735212 0.81981343\n",
      " 0.82211882 0.82428634 0.82633775 0.8282944  0.83017665 0.83200049\n",
      " 0.83378017 0.83552611 0.83724672 0.83894825]\n",
      "24 day output [[0.84063625]]\n",
      "25 day input [0.8421756  0.87265049 0.89026205 0.90619952 0.98046205 0.94108638\n",
      " 0.94375848 0.91394523 0.91595569 0.93233178 0.91149249 0.8787952\n",
      " 0.88734873 0.89557698 0.90334099 0.86547861 0.85201959 0.84423362\n",
      " 0.83094631 0.86814705 0.88164266 0.88435866 0.87907301 0.8833388\n",
      " 0.88009644 0.86411516 0.82275465 0.82870561 0.87686515 0.86820916\n",
      " 0.85207804 0.82477608 0.84611976 0.87558211 0.88223487 0.89832583\n",
      " 0.89596447 0.92373799 0.91076873 0.93130094 0.93283252 0.9359652\n",
      " 0.94546917 0.94104247 0.91914682 0.92682676 0.94833867 0.92948057\n",
      " 0.9010637  0.89586577 0.87792151 0.84711401 0.83671815 0.85069264\n",
      " 0.82851918 0.83369515 0.85248383 0.83577504 0.81159112 0.77267237\n",
      " 0.79925424 0.77188285 0.73909042 0.77119193 0.7386957  0.75470982\n",
      " 0.76181959 0.79431948 0.75170877 0.74376565 0.72493316 0.73590294\n",
      " 0.7313447  0.72549611 0.75002004 0.80393195 0.80035841 0.7980032\n",
      " 0.79699653 0.79725635 0.79856735 0.80065519 0.80324626 0.806104\n",
      " 0.80904561 0.81194514 0.81472617 0.81735212 0.81981343 0.82211882\n",
      " 0.82428634 0.82633775 0.8282944  0.83017665 0.83200049 0.83378017\n",
      " 0.83552611 0.83724672 0.83894825 0.84063625]\n",
      "25 day output [[0.84231365]]\n",
      "26 day input [0.87265049 0.89026205 0.90619952 0.98046205 0.94108638 0.94375848\n",
      " 0.91394523 0.91595569 0.93233178 0.91149249 0.8787952  0.88734873\n",
      " 0.89557698 0.90334099 0.86547861 0.85201959 0.84423362 0.83094631\n",
      " 0.86814705 0.88164266 0.88435866 0.87907301 0.8833388  0.88009644\n",
      " 0.86411516 0.82275465 0.82870561 0.87686515 0.86820916 0.85207804\n",
      " 0.82477608 0.84611976 0.87558211 0.88223487 0.89832583 0.89596447\n",
      " 0.92373799 0.91076873 0.93130094 0.93283252 0.9359652  0.94546917\n",
      " 0.94104247 0.91914682 0.92682676 0.94833867 0.92948057 0.9010637\n",
      " 0.89586577 0.87792151 0.84711401 0.83671815 0.85069264 0.82851918\n",
      " 0.83369515 0.85248383 0.83577504 0.81159112 0.77267237 0.79925424\n",
      " 0.77188285 0.73909042 0.77119193 0.7386957  0.75470982 0.76181959\n",
      " 0.79431948 0.75170877 0.74376565 0.72493316 0.73590294 0.7313447\n",
      " 0.72549611 0.75002004 0.80393195 0.80035841 0.7980032  0.79699653\n",
      " 0.79725635 0.79856735 0.80065519 0.80324626 0.806104   0.80904561\n",
      " 0.81194514 0.81472617 0.81735212 0.81981343 0.82211882 0.82428634\n",
      " 0.82633775 0.8282944  0.83017665 0.83200049 0.83378017 0.83552611\n",
      " 0.83724672 0.83894825 0.84063625 0.84231365]\n",
      "26 day output [[0.8439842]]\n",
      "27 day input [0.89026205 0.90619952 0.98046205 0.94108638 0.94375848 0.91394523\n",
      " 0.91595569 0.93233178 0.91149249 0.8787952  0.88734873 0.89557698\n",
      " 0.90334099 0.86547861 0.85201959 0.84423362 0.83094631 0.86814705\n",
      " 0.88164266 0.88435866 0.87907301 0.8833388  0.88009644 0.86411516\n",
      " 0.82275465 0.82870561 0.87686515 0.86820916 0.85207804 0.82477608\n",
      " 0.84611976 0.87558211 0.88223487 0.89832583 0.89596447 0.92373799\n",
      " 0.91076873 0.93130094 0.93283252 0.9359652  0.94546917 0.94104247\n",
      " 0.91914682 0.92682676 0.94833867 0.92948057 0.9010637  0.89586577\n",
      " 0.87792151 0.84711401 0.83671815 0.85069264 0.82851918 0.83369515\n",
      " 0.85248383 0.83577504 0.81159112 0.77267237 0.79925424 0.77188285\n",
      " 0.73909042 0.77119193 0.7386957  0.75470982 0.76181959 0.79431948\n",
      " 0.75170877 0.74376565 0.72493316 0.73590294 0.7313447  0.72549611\n",
      " 0.75002004 0.80393195 0.80035841 0.7980032  0.79699653 0.79725635\n",
      " 0.79856735 0.80065519 0.80324626 0.806104   0.80904561 0.81194514\n",
      " 0.81472617 0.81735212 0.81981343 0.82211882 0.82428634 0.82633775\n",
      " 0.8282944  0.83017665 0.83200049 0.83378017 0.83552611 0.83724672\n",
      " 0.83894825 0.84063625 0.84231365 0.84398419]\n",
      "27 day output [[0.8456497]]\n",
      "28 day input [0.90619952 0.98046205 0.94108638 0.94375848 0.91394523 0.91595569\n",
      " 0.93233178 0.91149249 0.8787952  0.88734873 0.89557698 0.90334099\n",
      " 0.86547861 0.85201959 0.84423362 0.83094631 0.86814705 0.88164266\n",
      " 0.88435866 0.87907301 0.8833388  0.88009644 0.86411516 0.82275465\n",
      " 0.82870561 0.87686515 0.86820916 0.85207804 0.82477608 0.84611976\n",
      " 0.87558211 0.88223487 0.89832583 0.89596447 0.92373799 0.91076873\n",
      " 0.93130094 0.93283252 0.9359652  0.94546917 0.94104247 0.91914682\n",
      " 0.92682676 0.94833867 0.92948057 0.9010637  0.89586577 0.87792151\n",
      " 0.84711401 0.83671815 0.85069264 0.82851918 0.83369515 0.85248383\n",
      " 0.83577504 0.81159112 0.77267237 0.79925424 0.77188285 0.73909042\n",
      " 0.77119193 0.7386957  0.75470982 0.76181959 0.79431948 0.75170877\n",
      " 0.74376565 0.72493316 0.73590294 0.7313447  0.72549611 0.75002004\n",
      " 0.80393195 0.80035841 0.7980032  0.79699653 0.79725635 0.79856735\n",
      " 0.80065519 0.80324626 0.806104   0.80904561 0.81194514 0.81472617\n",
      " 0.81735212 0.81981343 0.82211882 0.82428634 0.82633775 0.8282944\n",
      " 0.83017665 0.83200049 0.83378017 0.83552611 0.83724672 0.83894825\n",
      " 0.84063625 0.84231365 0.84398419 0.84564972]\n",
      "28 day output [[0.8473121]]\n",
      "29 day input [0.98046205 0.94108638 0.94375848 0.91394523 0.91595569 0.93233178\n",
      " 0.91149249 0.8787952  0.88734873 0.89557698 0.90334099 0.86547861\n",
      " 0.85201959 0.84423362 0.83094631 0.86814705 0.88164266 0.88435866\n",
      " 0.87907301 0.8833388  0.88009644 0.86411516 0.82275465 0.82870561\n",
      " 0.87686515 0.86820916 0.85207804 0.82477608 0.84611976 0.87558211\n",
      " 0.88223487 0.89832583 0.89596447 0.92373799 0.91076873 0.93130094\n",
      " 0.93283252 0.9359652  0.94546917 0.94104247 0.91914682 0.92682676\n",
      " 0.94833867 0.92948057 0.9010637  0.89586577 0.87792151 0.84711401\n",
      " 0.83671815 0.85069264 0.82851918 0.83369515 0.85248383 0.83577504\n",
      " 0.81159112 0.77267237 0.79925424 0.77188285 0.73909042 0.77119193\n",
      " 0.7386957  0.75470982 0.76181959 0.79431948 0.75170877 0.74376565\n",
      " 0.72493316 0.73590294 0.7313447  0.72549611 0.75002004 0.80393195\n",
      " 0.80035841 0.7980032  0.79699653 0.79725635 0.79856735 0.80065519\n",
      " 0.80324626 0.806104   0.80904561 0.81194514 0.81472617 0.81735212\n",
      " 0.81981343 0.82211882 0.82428634 0.82633775 0.8282944  0.83017665\n",
      " 0.83200049 0.83378017 0.83552611 0.83724672 0.83894825 0.84063625\n",
      " 0.84231365 0.84398419 0.84564972 0.84731209]\n",
      "29 day output [[0.8489729]]\n"
     ]
    }
   ],
   "source": [
    "# demonstrate prediction for next 10 days\n",
    "from numpy import array\n",
    "\n",
    "lst_output=[]\n",
    "n_steps=100\n",
    "i=0\n",
    "while(i<30):\n",
    "\n",
    "    if(len(temp_input)>100):\n",
    "        #print(temp_input)\n",
    "        x_input=np.array(temp_input[1:])\n",
    "        print(\"{} day input {}\".format(i,x_input))\n",
    "        x_input=x_input.reshape(1,-1)\n",
    "        x_input = x_input.reshape((1, n_steps, 1))\n",
    "        #print(x_input)\n",
    "        yhat = model.predict(x_input, verbose=0)\n",
    "        print(\"{} day output {}\".format(i,yhat))\n",
    "        temp_input.extend(yhat[0].tolist())\n",
    "        temp_input=temp_input[1:]\n",
    "        #print(temp_input)\n",
    "        lst_output.extend(yhat.tolist())\n",
    "        i=i+1\n",
    "    else:\n",
    "        x_input = x_input.reshape((1, n_steps,1))\n",
    "        yhat = model.predict(x_input, verbose=0)\n",
    "#         print(yhat[0])\n",
    "        temp_input.extend(yhat[0].tolist())\n",
    "#         print(len(temp_input))\n",
    "        lst_output.extend(yhat.tolist())\n",
    "        i=i+1\n",
    "\n",
    "\n",
    "# print(lst_output)"
   ],
   "metadata": {
    "collapsed": false,
    "pycharm": {
     "name": "#%%\n"
    }
   }
  },
  {
   "cell_type": "code",
   "execution_count": 31,
   "outputs": [],
   "source": [
    "day_new=np.arange(1,101)\n",
    "day_pred=np.arange(101,131)"
   ],
   "metadata": {
    "collapsed": false,
    "pycharm": {
     "name": "#%%\n"
    }
   }
  },
  {
   "cell_type": "code",
   "execution_count": 32,
   "outputs": [
    {
     "name": "stdout",
     "output_type": "stream",
     "text": [
      "[[2330.31005859]]\n",
      "[[2477.79681435]\n",
      " [2468.02069396]\n",
      " [2461.57752717]\n",
      " [2458.82360087]\n",
      " [2459.53438095]\n",
      " [2463.12089341]\n",
      " [2468.83257145]\n",
      " [2475.92096805]\n",
      " [2483.73889667]\n",
      " [2491.78625121]\n",
      " [2499.71848513]\n",
      " [2507.32655507]\n",
      " [2514.51034198]\n",
      " [2521.24375619]\n",
      " [2527.55060452]\n",
      " [2533.48029425]\n",
      " [2539.09234242]\n",
      " [2544.44512462]\n",
      " [2549.5944075 ]\n",
      " [2554.58389124]\n",
      " [2559.45254725]\n",
      " [2564.22891111]\n",
      " [2568.93597432]\n",
      " [2573.59085821]\n",
      " [2578.2087274 ]\n",
      " [2582.79757185]\n",
      " [2587.36766436]\n",
      " [2591.9240598 ]\n",
      " [2596.47181304]\n",
      " [2601.01532672]]\n"
     ]
    }
   ],
   "source": [
    "len(df1)\n",
    "print(scaler.inverse_transform(df1[-1:]))\n",
    "print(scaler.inverse_transform(lst_output[0:]))"
   ],
   "metadata": {
    "collapsed": false,
    "pycharm": {
     "name": "#%%\n"
    }
   }
  },
  {
   "cell_type": "code",
   "execution_count": 33,
   "outputs": [
    {
     "data": {
      "text/plain": "[<matplotlib.lines.Line2D at 0x1ffd30544c0>]"
     },
     "execution_count": 33,
     "metadata": {},
     "output_type": "execute_result"
    },
    {
     "data": {
      "text/plain": "<Figure size 432x288 with 1 Axes>",
      "image/png": "[encoded data removed]"
     },
     "metadata": {
      "needs_background": "light"
     },
     "output_type": "display_data"
    }
   ],
   "source": [
    "plt.plot(day_new,scaler.inverse_transform(df1[len(df1)-100:]))\n",
    "plt.plot(day_pred,scaler.inverse_transform(lst_output))"
   ],
   "metadata": {
    "collapsed": false,
    "pycharm": {
     "name": "#%%\n"
    }
   }
  },
  {
   "cell_type": "code",
   "execution_count": 34,
   "outputs": [
    {
     "data": {
      "text/plain": "[<matplotlib.lines.Line2D at 0x1ffc41062e0>]"
     },
     "execution_count": 34,
     "metadata": {},
     "output_type": "execute_result"
    },
    {
     "data": {
      "text/plain": "<Figure size 432x288 with 1 Axes>",
      "image/png": "[encoded data removed]"
     },
     "metadata": {
      "needs_background": "light"
     },
     "output_type": "display_data"
    }
   ],
   "source": [
    "df3=df1.tolist()\n",
    "df3.extend(lst_output)\n",
    "plt.plot(df3[1200:])"
   ],
   "metadata": {
    "collapsed": false,
    "pycharm": {
     "name": "#%%\n"
    }
   }
  },
  {
   "cell_type": "code",
   "execution_count": 35,
   "outputs": [],
   "source": [
    "df3=scaler.inverse_transform(df3).tolist()\n"
   ],
   "metadata": {
    "collapsed": false,
    "pycharm": {
     "name": "#%%\n"
    }
   }
  },
  {
   "cell_type": "code",
   "execution_count": 36,
   "outputs": [
    {
     "data": {
      "text/plain": "[<matplotlib.lines.Line2D at 0x1ffd2eaebe0>]"
     },
     "execution_count": 36,
     "metadata": {},
     "output_type": "execute_result"
    },
    {
     "data": {
      "text/plain": "<Figure size 432x288 with 1 Axes>",
      "image/png": "[encoded data removed]"
     },
     "metadata": {
      "needs_background": "light"
     },
     "output_type": "display_data"
    }
   ],
   "source": [
    "plt.plot(df3)\n"
   ],
   "metadata": {
    "collapsed": false,
    "pycharm": {
     "name": "#%%\n"
    }
   }
  },
  {
   "cell_type": "code",
   "execution_count": 37,
   "outputs": [],
   "source": [
    "import pickle\n",
    "\n",
    "# filename = 'model.sav'\n",
    "# pickle.dump(model, open(filename, 'wb'))\n",
    "# tf.keras.models.save_model(model, \"filename.pkl\")\n",
    "# import time\n",
    "# #save model\n",
    "# ts = int(time.time())\n",
    "# file_path = f\"tf-models/lstm/{ts}/\"\n",
    "# model.save(filepath=file_path, save_format='tf')"
   ],
   "metadata": {
    "collapsed": false,
    "pycharm": {
     "name": "#%%\n"
    }
   }
  },
  {
   "cell_type": "code",
   "execution_count": 38,
   "outputs": [],
   "source": [
    "# import tarfile\n",
    "# import os\n",
    "\n",
    "# def tar_folder(output_filename: str, source_dir: str):\n",
    "#     with tarfile.open(output_filename, \"w:gz\") as tar:\n",
    "#         tar.add(source_dir, arcname=os.path.basename(source_dir))\n",
    "\n",
    "# OUT_FILE = 'tf-models-lstm.tar.gz'\n",
    "\n",
    "# SOURCE_FILE = \"tf-models\"\n",
    "\n",
    "# tar_folder(output_filename=OUT_FILE, source_dir=SOURCE_FILE)\n",
    "# print(OUT_FILE)"
   ],
   "metadata": {
    "collapsed": false,
    "pycharm": {
     "name": "#%%\n"
    }
   }
  },
  {
   "cell_type": "code",
   "execution_count": 39,
   "outputs": [],
   "source": [
    "# import sagemaker\n",
    "\n",
    "# sagemaker_session = sagemaker.Session(default_bucket='stocks-models')\n",
    "# upload_data = sagemaker_session.upload_data(path='tf-models-lstm.tar.gz', key_prefix='my_prefix')\n",
    "\n",
    "# print('upload_data : {}'.format(upload_data))"
   ],
   "metadata": {
    "collapsed": false,
    "pycharm": {
     "name": "#%%\n"
    }
   }
  },
  {
   "cell_type": "code",
   "execution_count": 40,
   "outputs": [
    {
     "name": "stdout",
     "output_type": "stream",
     "text": [
      "1652623724\n",
      "2022-05-15 09:08:44\n",
      "NEXT DAY\n",
      "\n",
      "1652710124\n",
      "2022-05-16 09:08:44\n",
      "2601.02\n",
      "1655215724\n",
      "2022-05-19 09:08:44\n",
      "{'c': [2477.8, 2468.02, 2461.58, 2458.82, 2459.53, 2463.12, 2468.83, 2475.92, 2483.74, 2491.79, 2499.72, 2507.33, 2514.51, 2521.24, 2527.55, 2533.48, 2539.09, 2544.45, 2549.59, 2554.58, 2559.45, 2564.23, 2568.94, 2573.59, 2578.21, 2582.8, 2587.37, 2591.92, 2596.47, 2601.02], 't': [1652710124, 1652796524, 1652882924, 1652969324, 1653055724, 1653142124, 1653228524, 1653314924, 1653401324, 1653487724, 1653574124, 1653660524, 1653746924, 1653833324, 1653919724, 1654006124, 1654092524, 1654178924, 1654265324, 1654351724, 1654438124, 1654524524, 1654610924, 1654697324, 1654783724, 1654870124, 1654956524, 1655042924, 1655129324, 1655215724]}\n"
     ]
    }
   ],
   "source": [
    "# print(prediction[:50])\n",
    "import time\n",
    "from datetime import datetime\n",
    "\n",
    "SECONDS_IN_DAY = 86400\n",
    "\n",
    "now = int( time.time() )\n",
    "print( now )\n",
    "print(datetime.fromtimestamp(now))\n",
    "\n",
    "print(\"NEXT DAY\\n\")\n",
    "print(now + SECONDS_IN_DAY)\n",
    "print(datetime.fromtimestamp(now + SECONDS_IN_DAY))\n",
    "\n",
    "data_set = {\"c\": [], \"t\": []}\n",
    "inversed_output = scaler.inverse_transform(lst_output)\n",
    "inversed_output.tolist()\n",
    "for i in range(len(inversed_output)):\n",
    "    now = SECONDS_IN_DAY + now\n",
    "    data_set[\"c\"].insert(i, round(float(inversed_output[i]), 2))\n",
    "    data_set[\"t\"].insert(i, int(now))\n",
    "\n",
    "\n",
    "print(data_set.get(\"c\")[-1])\n",
    "print(data_set.get(\"t\")[-1])\n",
    "print(datetime.fromtimestamp(data_set.get(\"t\")[3]))\n",
    "print(data_set)\n",
    "\n",
    "\n",
    "\n",
    "# print(inversed_output)"
   ],
   "metadata": {
    "collapsed": false,
    "pycharm": {
     "name": "#%%\n"
    }
   }
  },
  {
   "cell_type": "code",
   "execution_count": 41,
   "outputs": [],
   "source": [
    "import json\n",
    "with open('../src/stock_json/goog.json', 'w', encoding='utf-8') as f:\n",
    "    json.dump(data_set, f, ensure_ascii=False, indent=4)"
   ],
   "metadata": {
    "collapsed": false,
    "pycharm": {
     "name": "#%%\n"
    }
   }
  },
  {
   "cell_type": "code",
   "execution_count": 41,
   "outputs": [],
   "source": [],
   "metadata": {
    "collapsed": false,
    "pycharm": {
     "name": "#%%\n"
    }
   }
  }
 ],
 "metadata": {
  "kernelspec": {
   "display_name": "Python 3",
   "language": "python",
   "name": "python3"
  },
  "language_info": {
   "codemirror_mode": {
    "name": "ipython",
    "version": 2
   },
   "file_extension": ".py",
   "mimetype": "text/x-python",
   "name": "python",
   "nbconvert_exporter": "python",
   "pygments_lexer": "ipython2",
   "version": "2.7.6"
  }
 },
 "nbformat": 4,
 "nbformat_minor": 0
}