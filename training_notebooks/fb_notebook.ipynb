{
 "cells": [
  {
   "cell_type": "code",
   "execution_count": 1,
   "outputs": [
    {
     "name": "stderr",
     "output_type": "stream",
     "text": [
      "ERROR: Could not open requirements file: [Errno 2] No such file or directory: 'requirements.txt'\n"
     ]
    },
    {
     "name": "stdout",
     "output_type": "stream",
     "text": [
      "Requirement already satisfied: tensorflow-gpu in e:\\conda\\lib\\site-packages (2.8.0)\n",
      "Requirement already satisfied: absl-py>=0.4.0 in e:\\conda\\lib\\site-packages (from tensorflow-gpu) (1.0.0)\n",
      "Requirement already satisfied: flatbuffers>=1.12 in e:\\conda\\lib\\site-packages (from tensorflow-gpu) (2.0)\n",
      "Requirement already satisfied: termcolor>=1.1.0 in e:\\conda\\lib\\site-packages (from tensorflow-gpu) (1.1.0)\n",
      "Requirement already satisfied: tensorflow-io-gcs-filesystem>=0.23.1 in e:\\conda\\lib\\site-packages (from tensorflow-gpu) (0.25.0)\n",
      "Requirement already satisfied: protobuf>=3.9.2 in e:\\conda\\lib\\site-packages (from tensorflow-gpu) (3.19.1)\n",
      "Requirement already satisfied: keras-preprocessing>=1.1.1 in e:\\conda\\lib\\site-packages (from tensorflow-gpu) (1.1.2)\n",
      "Requirement already satisfied: h5py>=2.9.0 in e:\\conda\\lib\\site-packages (from tensorflow-gpu) (3.6.0)\n",
      "Requirement already satisfied: opt-einsum>=2.3.2 in e:\\conda\\lib\\site-packages (from tensorflow-gpu) (3.3.0)\n",
      "Requirement already satisfied: grpcio<2.0,>=1.24.3 in e:\\conda\\lib\\site-packages (from tensorflow-gpu) (1.42.0)\n",
      "Requirement already satisfied: libclang>=9.0.1 in e:\\conda\\lib\\site-packages (from tensorflow-gpu) (14.0.1)\n",
      "Requirement already satisfied: tensorboard<2.9,>=2.8 in e:\\conda\\lib\\site-packages (from tensorflow-gpu) (2.8.0)\n",
      "Requirement already satisfied: typing-extensions>=3.6.6 in e:\\conda\\lib\\site-packages (from tensorflow-gpu) (4.1.1)\n",
      "Requirement already satisfied: six>=1.12.0 in c:\\users\\stephon patton\\appdata\\roaming\\python\\python39\\site-packages (from tensorflow-gpu) (1.15.0)\n",
      "Requirement already satisfied: setuptools in e:\\conda\\lib\\site-packages (from tensorflow-gpu) (61.2.0)\n",
      "Requirement already satisfied: wrapt>=1.11.0 in c:\\users\\stephon patton\\appdata\\roaming\\python\\python39\\site-packages (from tensorflow-gpu) (1.12.1)\n",
      "Requirement already satisfied: astunparse>=1.6.0 in e:\\conda\\lib\\site-packages (from tensorflow-gpu) (1.6.3)\n",
      "Requirement already satisfied: numpy>=1.20 in e:\\conda\\lib\\site-packages (from tensorflow-gpu) (1.22.3)\n",
      "Requirement already satisfied: keras<2.9,>=2.8.0rc0 in e:\\conda\\lib\\site-packages (from tensorflow-gpu) (2.8.0)\n",
      "Requirement already satisfied: google-pasta>=0.1.1 in e:\\conda\\lib\\site-packages (from tensorflow-gpu) (0.2.0)\n",
      "Requirement already satisfied: gast>=0.2.1 in e:\\conda\\lib\\site-packages (from tensorflow-gpu) (0.5.3)\n",
      "Requirement already satisfied: tf-estimator-nightly==2.8.0.dev2021122109 in e:\\conda\\lib\\site-packages (from tensorflow-gpu) (2.8.0.dev2021122109)\n",
      "Requirement already satisfied: wheel<1.0,>=0.23.0 in e:\\conda\\lib\\site-packages (from astunparse>=1.6.0->tensorflow-gpu) (0.37.1)\n",
      "Requirement already satisfied: requests<3,>=2.21.0 in e:\\conda\\lib\\site-packages (from tensorboard<2.9,>=2.8->tensorflow-gpu) (2.27.1)\n",
      "Requirement already satisfied: werkzeug>=0.11.15 in e:\\conda\\lib\\site-packages (from tensorboard<2.9,>=2.8->tensorflow-gpu) (2.0.3)\n",
      "Requirement already satisfied: google-auth<3,>=1.6.3 in e:\\conda\\lib\\site-packages (from tensorboard<2.9,>=2.8->tensorflow-gpu) (1.33.0)\n",
      "Requirement already satisfied: tensorboard-plugin-wit>=1.6.0 in e:\\conda\\lib\\site-packages (from tensorboard<2.9,>=2.8->tensorflow-gpu) (1.8.1)\n",
      "Requirement already satisfied: google-auth-oauthlib<0.5,>=0.4.1 in e:\\conda\\lib\\site-packages (from tensorboard<2.9,>=2.8->tensorflow-gpu) (0.4.6)\n",
      "Requirement already satisfied: tensorboard-data-server<0.7.0,>=0.6.0 in e:\\conda\\lib\\site-packages (from tensorboard<2.9,>=2.8->tensorflow-gpu) (0.6.1)\n",
      "Requirement already satisfied: markdown>=2.6.8 in e:\\conda\\lib\\site-packages (from tensorboard<2.9,>=2.8->tensorflow-gpu) (3.3.4)\n",
      "Requirement already satisfied: pyasn1-modules>=0.2.1 in e:\\conda\\lib\\site-packages (from google-auth<3,>=1.6.3->tensorboard<2.9,>=2.8->tensorflow-gpu) (0.2.8)\n",
      "Requirement already satisfied: rsa<5,>=3.1.4 in e:\\conda\\lib\\site-packages (from google-auth<3,>=1.6.3->tensorboard<2.9,>=2.8->tensorflow-gpu) (4.7.2)\n",
      "Requirement already satisfied: cachetools<5.0,>=2.0.0 in e:\\conda\\lib\\site-packages (from google-auth<3,>=1.6.3->tensorboard<2.9,>=2.8->tensorflow-gpu) (4.2.2)\n",
      "Requirement already satisfied: requests-oauthlib>=0.7.0 in e:\\conda\\lib\\site-packages (from google-auth-oauthlib<0.5,>=0.4.1->tensorboard<2.9,>=2.8->tensorflow-gpu) (1.3.1)\n",
      "Requirement already satisfied: pyasn1<0.5.0,>=0.4.6 in e:\\conda\\lib\\site-packages (from pyasn1-modules>=0.2.1->google-auth<3,>=1.6.3->tensorboard<2.9,>=2.8->tensorflow-gpu) (0.4.8)\n",
      "Requirement already satisfied: charset-normalizer~=2.0.0 in e:\\conda\\lib\\site-packages (from requests<3,>=2.21.0->tensorboard<2.9,>=2.8->tensorflow-gpu) (2.0.4)\n",
      "Requirement already satisfied: certifi>=2017.4.17 in e:\\conda\\lib\\site-packages (from requests<3,>=2.21.0->tensorboard<2.9,>=2.8->tensorflow-gpu) (2021.10.8)\n",
      "Requirement already satisfied: idna<4,>=2.5 in e:\\conda\\lib\\site-packages (from requests<3,>=2.21.0->tensorboard<2.9,>=2.8->tensorflow-gpu) (3.3)\n",
      "Requirement already satisfied: urllib3<1.27,>=1.21.1 in e:\\conda\\lib\\site-packages (from requests<3,>=2.21.0->tensorboard<2.9,>=2.8->tensorflow-gpu) (1.26.9)\n",
      "Requirement already satisfied: oauthlib>=3.0.0 in e:\\conda\\lib\\site-packages (from requests-oauthlib>=0.7.0->google-auth-oauthlib<0.5,>=0.4.1->tensorboard<2.9,>=2.8->tensorflow-gpu) (3.2.0)\n"
     ]
    }
   ],
   "source": [
    "# !pipreqs --force\n",
    "!pip install -r requirements.txt\n",
    "!pip install tensorflow-gpu\n",
    "#\n",
    "# !pip install tensorflow yfinance pandas sklearn\n",
    "# import tensorflow as tf\n",
    "# !pip install yfinance\n"
   ],
   "metadata": {
    "collapsed": false,
    "pycharm": {
     "name": "#%%\n"
    }
   }
  },
  {
   "cell_type": "code",
   "execution_count": 2,
   "outputs": [],
   "source": [
    "import pandas as pd\n",
    "import tensorflow as tf\n",
    "import yfinance as yf\n"
   ],
   "metadata": {
    "collapsed": false,
    "pycharm": {
     "name": "#%%\n"
    }
   }
  },
  {
   "cell_type": "code",
   "execution_count": 3,
   "outputs": [
    {
     "name": "stdout",
     "output_type": "stream",
     "text": [
      "Hello\n",
      "Num GPUs Available:  0\n"
     ]
    }
   ],
   "source": [
    "print(\"Hello\")\n",
    "tf.__version__\n",
    "print(\"Num GPUs Available: \", len(tf.config.list_physical_devices('GPU')))\n",
    "\n",
    "# !pip freeze > requirements.txt\n",
    "\n"
   ],
   "metadata": {
    "collapsed": false,
    "pycharm": {
     "name": "#%%\n"
    }
   }
  },
  {
   "cell_type": "code",
   "execution_count": 4,
   "outputs": [
    {
     "name": "stdout",
     "output_type": "stream",
     "text": [
      "2012-05-17 09:21:40.620374\n",
      "2012-05-17\n",
      "2022-05-15\n",
      "[*********************100%***********************]  1 of 1 completed\n"
     ]
    }
   ],
   "source": [
    "# !pip freeze > requirements.txt\n",
    "from datetime import datetime, timedelta\n",
    "end_date = datetime.today().strftime('%Y-%m-%d')\n",
    "start_date_dt = datetime.now() - timedelta(days=10*365)\n",
    "print(start_date_dt)\n",
    "start_date = start_date_dt.strftime('%Y-%m-%d')\n",
    "print(start_date)\n",
    "print(end_date)\n",
    "# aapl = yf.download(\"AAPL\")\n",
    "fb = yf.download(\"FB\", start = start_date, end = end_date)\n",
    "# aapl_history = aapl.history(period=\"max\")"
   ],
   "metadata": {
    "collapsed": false,
    "pycharm": {
     "name": "#%%\n"
    }
   }
  },
  {
   "cell_type": "code",
   "execution_count": 4,
   "outputs": [],
   "source": [],
   "metadata": {
    "collapsed": false,
    "pycharm": {
     "name": "#%%\n"
    }
   }
  },
  {
   "cell_type": "code",
   "execution_count": 5,
   "outputs": [
    {
     "data": {
      "text/plain": "0        38.230000\n1        34.029999\n2        31.000000\n3        32.000000\n4        33.029999\n           ...    \n2509    196.210007\n2510    197.649994\n2511    188.740005\n2512    191.240005\n2513    198.619995\nName: Close, Length: 2514, dtype: float64"
     },
     "execution_count": 5,
     "metadata": {},
     "output_type": "execute_result"
    }
   ],
   "source": [
    "type(fb)\n",
    "df = pd.DataFrame(fb)\n",
    "df\n",
    "df1 = df.reset_index()['Close']\n",
    "df1"
   ],
   "metadata": {
    "collapsed": false,
    "pycharm": {
     "name": "#%%\n"
    }
   }
  },
  {
   "cell_type": "code",
   "execution_count": 6,
   "outputs": [
    {
     "data": {
      "text/plain": "[<matplotlib.lines.Line2D at 0x24f92d601f0>]"
     },
     "execution_count": 6,
     "metadata": {},
     "output_type": "execute_result"
    },
    {
     "data": {
      "text/plain": "<Figure size 432x288 with 1 Axes>",
      "image/png": "[encoded data removed]"
     },
     "metadata": {
      "needs_background": "light"
     },
     "output_type": "display_data"
    }
   ],
   "source": [
    "import matplotlib.pyplot as plt\n",
    "plt.plot(df1)"
   ],
   "metadata": {
    "collapsed": false,
    "pycharm": {
     "name": "#%%\n"
    }
   }
  },
  {
   "cell_type": "code",
   "execution_count": 7,
   "outputs": [],
   "source": [
    "import numpy as np\n",
    "from sklearn.preprocessing import MinMaxScaler\n",
    "scaler=MinMaxScaler(feature_range=(0,1))\n",
    "df1 = scaler.fit_transform(np.array(df1).reshape(-1, 1))"
   ],
   "metadata": {
    "collapsed": false,
    "pycharm": {
     "name": "#%%\n"
    }
   }
  },
  {
   "cell_type": "code",
   "execution_count": 8,
   "outputs": [],
   "source": [
    "# Split data\n",
    "train_size = int(len(df1)*.95) # 65%\n",
    "test_size = len(df1) - train_size\n",
    "train, test = df1[0:train_size,:], df1[train_size:len(df1), :1]"
   ],
   "metadata": {
    "collapsed": false,
    "pycharm": {
     "name": "#%%\n"
    }
   }
  },
  {
   "cell_type": "code",
   "execution_count": 9,
   "outputs": [
    {
     "name": "stdout",
     "output_type": "stream",
     "text": [
      "2388\n",
      "126\n"
     ]
    }
   ],
   "source": [
    "print(train_size)\n",
    "print(test_size)"
   ],
   "metadata": {
    "collapsed": false,
    "pycharm": {
     "name": "#%%\n"
    }
   }
  },
  {
   "cell_type": "code",
   "execution_count": 10,
   "outputs": [],
   "source": [
    "def create_dataset(data, time_step=1):\n",
    "    dataX, dataY = [], []\n",
    "    for i in range(len(data)-time_step-1):\n",
    "        a = data[i:(i+time_step), 0]\n",
    "        dataX.append(a)\n",
    "        dataY.append(data[i + time_step, 0])\n",
    "    return np.array(dataX), np.array(dataY)"
   ],
   "metadata": {
    "collapsed": false,
    "pycharm": {
     "name": "#%%\n"
    }
   }
  },
  {
   "cell_type": "code",
   "execution_count": 11,
   "outputs": [],
   "source": [
    "time_step = 100\n",
    "X_train, y_train = create_dataset(train, time_step)\n",
    "X_test, y_test = create_dataset(test, time_step)"
   ],
   "metadata": {
    "collapsed": false,
    "pycharm": {
     "name": "#%%\n"
    }
   }
  },
  {
   "cell_type": "code",
   "execution_count": 12,
   "outputs": [
    {
     "name": "stdout",
     "output_type": "stream",
     "text": [
      "(2287, 100)\n",
      "(2287,)\n"
     ]
    },
    {
     "data": {
      "text/plain": "(None, None)"
     },
     "execution_count": 12,
     "metadata": {},
     "output_type": "execute_result"
    }
   ],
   "source": [
    "print(X_train.shape), print(y_train.shape)"
   ],
   "metadata": {
    "collapsed": false,
    "pycharm": {
     "name": "#%%\n"
    }
   }
  },
  {
   "cell_type": "code",
   "execution_count": 13,
   "outputs": [
    {
     "name": "stdout",
     "output_type": "stream",
     "text": [
      "(25, 100)\n",
      "(25,)\n"
     ]
    },
    {
     "data": {
      "text/plain": "(None, None)"
     },
     "execution_count": 13,
     "metadata": {},
     "output_type": "execute_result"
    }
   ],
   "source": [
    "print(X_test.shape), print(y_test.shape)"
   ],
   "metadata": {
    "collapsed": false,
    "pycharm": {
     "name": "#%%\n"
    }
   }
  },
  {
   "cell_type": "code",
   "execution_count": 14,
   "outputs": [
    {
     "name": "stdout",
     "output_type": "stream",
     "text": [
      "(2287, 100, 1)\n",
      "(25, 100, 1)\n"
     ]
    }
   ],
   "source": [
    "# Reshape to be inputted into LSTM\n",
    "X_train = X_train.reshape(X_train.shape[0], X_train.shape[1], 1)\n",
    "X_test = X_test.reshape(X_test.shape[0], X_test.shape[1], 1)\n",
    "print(X_train.shape)\n",
    "print(X_test.shape)"
   ],
   "metadata": {
    "collapsed": false,
    "pycharm": {
     "name": "#%%\n"
    }
   }
  },
  {
   "cell_type": "code",
   "execution_count": 15,
   "outputs": [],
   "source": [
    "# Create Stacked LSTM\n",
    "from tensorflow.keras.models import Sequential\n",
    "from tensorflow.keras.layers import Dense\n",
    "from tensorflow.keras.layers import LSTM\n",
    "from tensorflow.keras.layers import Dropout\n",
    "model = Sequential()\n",
    "model.add(LSTM(50, return_sequences=True, input_shape=(100, 1)))\n",
    "model.add(Dropout(.5))\n",
    "model.add(LSTM(50, return_sequences=True))\n",
    "model.add(LSTM(50, return_sequences=True))\n",
    "model.add(LSTM(50))\n",
    "model.add(Dense(1))\n",
    "model.compile(loss='mean_squared_error', optimizer='adam')"
   ],
   "metadata": {
    "collapsed": false,
    "pycharm": {
     "name": "#%%\n"
    }
   }
  },
  {
   "cell_type": "code",
   "execution_count": 16,
   "outputs": [
    {
     "name": "stdout",
     "output_type": "stream",
     "text": [
      "Model: \"sequential\"\n",
      "_________________________________________________________________\n",
      " Layer (type)                Output Shape              Param #   \n",
      "=================================================================\n",
      " lstm (LSTM)                 (None, 100, 50)           10400     \n",
      "                                                                 \n",
      " dropout (Dropout)           (None, 100, 50)           0         \n",
      "                                                                 \n",
      " lstm_1 (LSTM)               (None, 100, 50)           20200     \n",
      "                                                                 \n",
      " lstm_2 (LSTM)               (None, 100, 50)           20200     \n",
      "                                                                 \n",
      " lstm_3 (LSTM)               (None, 50)                20200     \n",
      "                                                                 \n",
      " dense (Dense)               (None, 1)                 51        \n",
      "                                                                 \n",
      "=================================================================\n",
      "Total params: 71,051\n",
      "Trainable params: 71,051\n",
      "Non-trainable params: 0\n",
      "_________________________________________________________________\n"
     ]
    }
   ],
   "source": [
    "model.summary()"
   ],
   "metadata": {
    "collapsed": false,
    "pycharm": {
     "name": "#%%\n"
    }
   }
  },
  {
   "cell_type": "code",
   "execution_count": 17,
   "outputs": [
    {
     "name": "stdout",
     "output_type": "stream",
     "text": [
      "Epoch 1/100\n",
      "10/10 [==============================] - 10s 477ms/step - loss: 0.0676 - val_loss: 0.0016\n",
      "Epoch 2/100\n",
      "10/10 [==============================] - 4s 352ms/step - loss: 0.0122 - val_loss: 0.0109\n",
      "Epoch 3/100\n",
      "10/10 [==============================] - 4s 384ms/step - loss: 0.0046 - val_loss: 0.0021\n",
      "Epoch 4/100\n",
      "10/10 [==============================] - 4s 397ms/step - loss: 0.0020 - val_loss: 0.0023\n",
      "Epoch 5/100\n",
      "10/10 [==============================] - 4s 377ms/step - loss: 0.0015 - val_loss: 0.0071\n",
      "Epoch 6/100\n",
      "10/10 [==============================] - 4s 379ms/step - loss: 0.0013 - val_loss: 0.0037\n",
      "Epoch 7/100\n",
      "10/10 [==============================] - 4s 379ms/step - loss: 9.9377e-04 - val_loss: 0.0027\n",
      "Epoch 8/100\n",
      "10/10 [==============================] - 4s 388ms/step - loss: 9.9832e-04 - val_loss: 0.0036\n",
      "Epoch 9/100\n",
      "10/10 [==============================] - 4s 385ms/step - loss: 0.0010 - val_loss: 0.0037\n",
      "Epoch 10/100\n",
      "10/10 [==============================] - 4s 398ms/step - loss: 9.7258e-04 - val_loss: 0.0037\n",
      "Epoch 11/100\n",
      "10/10 [==============================] - 4s 400ms/step - loss: 9.4023e-04 - val_loss: 0.0033\n",
      "Epoch 12/100\n",
      "10/10 [==============================] - 4s 410ms/step - loss: 9.7985e-04 - val_loss: 0.0033\n",
      "Epoch 13/100\n",
      "10/10 [==============================] - 4s 395ms/step - loss: 9.2251e-04 - val_loss: 0.0033\n",
      "Epoch 14/100\n",
      "10/10 [==============================] - 4s 402ms/step - loss: 9.2430e-04 - val_loss: 0.0034\n",
      "Epoch 15/100\n",
      "10/10 [==============================] - 4s 415ms/step - loss: 9.4343e-04 - val_loss: 0.0039\n",
      "Epoch 16/100\n",
      "10/10 [==============================] - 4s 411ms/step - loss: 9.2889e-04 - val_loss: 0.0038\n",
      "Epoch 17/100\n",
      "10/10 [==============================] - 4s 400ms/step - loss: 9.1803e-04 - val_loss: 0.0037\n",
      "Epoch 18/100\n",
      "10/10 [==============================] - 4s 396ms/step - loss: 9.3182e-04 - val_loss: 0.0037\n",
      "Epoch 19/100\n",
      "10/10 [==============================] - 4s 408ms/step - loss: 8.2483e-04 - val_loss: 0.0035\n",
      "Epoch 20/100\n",
      "10/10 [==============================] - 4s 398ms/step - loss: 8.3732e-04 - val_loss: 0.0036\n",
      "Epoch 21/100\n",
      "10/10 [==============================] - 4s 386ms/step - loss: 8.9152e-04 - val_loss: 0.0039\n",
      "Epoch 22/100\n",
      "10/10 [==============================] - 4s 386ms/step - loss: 8.7473e-04 - val_loss: 0.0028\n",
      "Epoch 23/100\n",
      "10/10 [==============================] - 4s 391ms/step - loss: 8.8166e-04 - val_loss: 0.0026\n",
      "Epoch 24/100\n",
      "10/10 [==============================] - 4s 398ms/step - loss: 8.5948e-04 - val_loss: 0.0036\n",
      "Epoch 25/100\n",
      "10/10 [==============================] - 4s 400ms/step - loss: 8.7657e-04 - val_loss: 0.0034\n",
      "Epoch 26/100\n",
      "10/10 [==============================] - 4s 387ms/step - loss: 8.7982e-04 - val_loss: 0.0028\n",
      "Epoch 27/100\n",
      "10/10 [==============================] - 4s 408ms/step - loss: 8.4240e-04 - val_loss: 0.0026\n",
      "Epoch 28/100\n",
      "10/10 [==============================] - 4s 397ms/step - loss: 8.7397e-04 - val_loss: 0.0034\n",
      "Epoch 29/100\n",
      "10/10 [==============================] - 4s 397ms/step - loss: 8.2140e-04 - val_loss: 0.0048\n",
      "Epoch 30/100\n",
      "10/10 [==============================] - 4s 396ms/step - loss: 9.1094e-04 - val_loss: 0.0037\n",
      "Epoch 31/100\n",
      "10/10 [==============================] - 4s 388ms/step - loss: 8.3956e-04 - val_loss: 0.0024\n",
      "Epoch 32/100\n",
      "10/10 [==============================] - 4s 390ms/step - loss: 8.3841e-04 - val_loss: 0.0039\n",
      "Epoch 33/100\n",
      "10/10 [==============================] - 4s 394ms/step - loss: 7.8780e-04 - val_loss: 0.0038\n",
      "Epoch 34/100\n",
      "10/10 [==============================] - 4s 407ms/step - loss: 7.5347e-04 - val_loss: 0.0034\n",
      "Epoch 35/100\n",
      "10/10 [==============================] - 4s 396ms/step - loss: 7.4048e-04 - val_loss: 0.0027\n",
      "Epoch 36/100\n",
      "10/10 [==============================] - 4s 394ms/step - loss: 8.0499e-04 - val_loss: 0.0042\n",
      "Epoch 37/100\n",
      "10/10 [==============================] - 4s 394ms/step - loss: 8.0609e-04 - val_loss: 0.0029\n",
      "Epoch 38/100\n",
      "10/10 [==============================] - 4s 391ms/step - loss: 7.8750e-04 - val_loss: 0.0032\n",
      "Epoch 39/100\n",
      "10/10 [==============================] - 4s 398ms/step - loss: 7.8264e-04 - val_loss: 0.0030\n",
      "Epoch 40/100\n",
      "10/10 [==============================] - 4s 389ms/step - loss: 7.9080e-04 - val_loss: 0.0049\n",
      "Epoch 41/100\n",
      "10/10 [==============================] - 4s 407ms/step - loss: 7.3234e-04 - val_loss: 0.0027\n",
      "Epoch 42/100\n",
      "10/10 [==============================] - 4s 413ms/step - loss: 7.4841e-04 - val_loss: 0.0034\n",
      "Epoch 43/100\n",
      "10/10 [==============================] - 4s 385ms/step - loss: 7.0693e-04 - val_loss: 0.0035\n",
      "Epoch 44/100\n",
      "10/10 [==============================] - 4s 395ms/step - loss: 7.5862e-04 - val_loss: 0.0033\n",
      "Epoch 45/100\n",
      "10/10 [==============================] - 4s 394ms/step - loss: 7.7202e-04 - val_loss: 0.0026\n",
      "Epoch 46/100\n",
      "10/10 [==============================] - 4s 415ms/step - loss: 7.1007e-04 - val_loss: 0.0021\n",
      "Epoch 47/100\n",
      "10/10 [==============================] - 4s 402ms/step - loss: 8.0776e-04 - val_loss: 0.0043\n",
      "Epoch 48/100\n",
      "10/10 [==============================] - 4s 394ms/step - loss: 8.0924e-04 - val_loss: 0.0027\n",
      "Epoch 49/100\n",
      "10/10 [==============================] - 4s 402ms/step - loss: 7.8092e-04 - val_loss: 0.0030\n",
      "Epoch 50/100\n",
      "10/10 [==============================] - 4s 396ms/step - loss: 7.3021e-04 - val_loss: 0.0029\n",
      "Epoch 51/100\n",
      "10/10 [==============================] - 4s 394ms/step - loss: 7.2794e-04 - val_loss: 0.0030\n",
      "Epoch 52/100\n",
      "10/10 [==============================] - 4s 397ms/step - loss: 6.7329e-04 - val_loss: 0.0021\n",
      "Epoch 53/100\n",
      "10/10 [==============================] - 4s 390ms/step - loss: 8.8474e-04 - val_loss: 0.0038\n",
      "Epoch 54/100\n",
      "10/10 [==============================] - 4s 393ms/step - loss: 7.2903e-04 - val_loss: 0.0030\n",
      "Epoch 55/100\n",
      "10/10 [==============================] - 4s 389ms/step - loss: 6.5468e-04 - val_loss: 0.0025\n",
      "Epoch 56/100\n",
      "10/10 [==============================] - 4s 403ms/step - loss: 7.2287e-04 - val_loss: 0.0048\n",
      "Epoch 57/100\n",
      "10/10 [==============================] - 4s 399ms/step - loss: 8.5858e-04 - val_loss: 0.0019\n",
      "Epoch 58/100\n",
      "10/10 [==============================] - 4s 388ms/step - loss: 9.2776e-04 - val_loss: 0.0053\n",
      "Epoch 59/100\n",
      "10/10 [==============================] - 4s 387ms/step - loss: 7.9783e-04 - val_loss: 0.0027\n",
      "Epoch 60/100\n",
      "10/10 [==============================] - 4s 393ms/step - loss: 6.8229e-04 - val_loss: 0.0023\n",
      "Epoch 61/100\n",
      "10/10 [==============================] - 4s 382ms/step - loss: 7.0672e-04 - val_loss: 0.0038\n",
      "Epoch 62/100\n",
      "10/10 [==============================] - 4s 392ms/step - loss: 6.4918e-04 - val_loss: 0.0024\n",
      "Epoch 63/100\n",
      "10/10 [==============================] - 4s 393ms/step - loss: 7.0376e-04 - val_loss: 0.0034\n",
      "Epoch 64/100\n",
      "10/10 [==============================] - 4s 404ms/step - loss: 6.5812e-04 - val_loss: 0.0036\n",
      "Epoch 65/100\n",
      "10/10 [==============================] - 4s 389ms/step - loss: 7.3094e-04 - val_loss: 0.0030\n",
      "Epoch 66/100\n",
      "10/10 [==============================] - 4s 391ms/step - loss: 6.8539e-04 - val_loss: 0.0032\n",
      "Epoch 67/100\n",
      "10/10 [==============================] - 4s 397ms/step - loss: 6.7894e-04 - val_loss: 0.0032\n",
      "Epoch 68/100\n",
      "10/10 [==============================] - 4s 398ms/step - loss: 6.5314e-04 - val_loss: 0.0028\n",
      "Epoch 69/100\n",
      "10/10 [==============================] - 4s 408ms/step - loss: 6.3469e-04 - val_loss: 0.0036\n",
      "Epoch 70/100\n",
      "10/10 [==============================] - 4s 401ms/step - loss: 6.3902e-04 - val_loss: 0.0026\n",
      "Epoch 71/100\n",
      "10/10 [==============================] - 4s 396ms/step - loss: 6.1593e-04 - val_loss: 0.0034\n",
      "Epoch 72/100\n",
      "10/10 [==============================] - 4s 402ms/step - loss: 5.8542e-04 - val_loss: 0.0040\n",
      "Epoch 73/100\n",
      "10/10 [==============================] - 4s 390ms/step - loss: 6.7229e-04 - val_loss: 0.0029\n",
      "Epoch 74/100\n",
      "10/10 [==============================] - 4s 384ms/step - loss: 5.9098e-04 - val_loss: 0.0032\n",
      "Epoch 75/100\n",
      "10/10 [==============================] - 4s 388ms/step - loss: 6.0823e-04 - val_loss: 0.0024\n",
      "Epoch 76/100\n",
      "10/10 [==============================] - 4s 382ms/step - loss: 6.6052e-04 - val_loss: 0.0033\n",
      "Epoch 77/100\n",
      "10/10 [==============================] - 4s 390ms/step - loss: 5.9407e-04 - val_loss: 0.0035\n",
      "Epoch 78/100\n",
      "10/10 [==============================] - 4s 383ms/step - loss: 6.1849e-04 - val_loss: 0.0032\n",
      "Epoch 79/100\n",
      "10/10 [==============================] - 4s 399ms/step - loss: 5.8625e-04 - val_loss: 0.0035\n",
      "Epoch 80/100\n",
      "10/10 [==============================] - 4s 383ms/step - loss: 5.8161e-04 - val_loss: 0.0033\n",
      "Epoch 81/100\n",
      "10/10 [==============================] - 4s 390ms/step - loss: 5.6300e-04 - val_loss: 0.0025\n",
      "Epoch 82/100\n",
      "10/10 [==============================] - 4s 382ms/step - loss: 5.7276e-04 - val_loss: 0.0035\n",
      "Epoch 83/100\n",
      "10/10 [==============================] - 4s 394ms/step - loss: 6.1122e-04 - val_loss: 0.0025\n",
      "Epoch 84/100\n",
      "10/10 [==============================] - 4s 397ms/step - loss: 5.6100e-04 - val_loss: 0.0025\n",
      "Epoch 85/100\n",
      "10/10 [==============================] - 4s 393ms/step - loss: 5.9127e-04 - val_loss: 0.0035\n",
      "Epoch 86/100\n",
      "10/10 [==============================] - 4s 402ms/step - loss: 5.6761e-04 - val_loss: 0.0022\n",
      "Epoch 87/100\n",
      "10/10 [==============================] - 4s 404ms/step - loss: 5.7975e-04 - val_loss: 0.0032\n",
      "Epoch 88/100\n",
      "10/10 [==============================] - 4s 400ms/step - loss: 5.3278e-04 - val_loss: 0.0040\n",
      "Epoch 89/100\n",
      "10/10 [==============================] - 4s 396ms/step - loss: 7.1281e-04 - val_loss: 0.0024\n",
      "Epoch 90/100\n",
      "10/10 [==============================] - 4s 393ms/step - loss: 6.0445e-04 - val_loss: 0.0025\n",
      "Epoch 91/100\n",
      "10/10 [==============================] - 4s 388ms/step - loss: 5.3425e-04 - val_loss: 0.0030\n",
      "Epoch 92/100\n",
      "10/10 [==============================] - 4s 390ms/step - loss: 5.5907e-04 - val_loss: 0.0025\n",
      "Epoch 93/100\n",
      "10/10 [==============================] - 4s 377ms/step - loss: 5.6669e-04 - val_loss: 0.0030\n",
      "Epoch 94/100\n",
      "10/10 [==============================] - 4s 390ms/step - loss: 5.7988e-04 - val_loss: 0.0037\n",
      "Epoch 95/100\n",
      "10/10 [==============================] - 4s 395ms/step - loss: 5.6317e-04 - val_loss: 0.0022\n",
      "Epoch 96/100\n",
      "10/10 [==============================] - 4s 383ms/step - loss: 6.1540e-04 - val_loss: 0.0033\n",
      "Epoch 97/100\n",
      "10/10 [==============================] - 4s 377ms/step - loss: 5.4118e-04 - val_loss: 0.0038\n",
      "Epoch 98/100\n",
      "10/10 [==============================] - 4s 376ms/step - loss: 5.4885e-04 - val_loss: 0.0029\n",
      "Epoch 99/100\n",
      "10/10 [==============================] - 4s 391ms/step - loss: 5.9014e-04 - val_loss: 0.0021\n",
      "Epoch 100/100\n",
      "10/10 [==============================] - 4s 393ms/step - loss: 5.9646e-04 - val_loss: 0.0022\n"
     ]
    },
    {
     "data": {
      "text/plain": "<keras.callbacks.History at 0x24f9850ef70>"
     },
     "execution_count": 17,
     "metadata": {},
     "output_type": "execute_result"
    }
   ],
   "source": [
    "model.fit(X_train, y_train, validation_data=(X_test, y_test), epochs=100, batch_size=250, verbose=1)"
   ],
   "metadata": {
    "collapsed": false,
    "pycharm": {
     "name": "#%%\n"
    }
   }
  },
  {
   "cell_type": "code",
   "execution_count": 18,
   "outputs": [],
   "source": [
    "# import tensorflow as tf\n"
   ],
   "metadata": {
    "collapsed": false,
    "pycharm": {
     "name": "#%%\n"
    }
   }
  },
  {
   "cell_type": "code",
   "execution_count": 19,
   "outputs": [
    {
     "data": {
      "text/plain": "'2.8.0'"
     },
     "execution_count": 19,
     "metadata": {},
     "output_type": "execute_result"
    }
   ],
   "source": [
    "# import tensorflow as tf\n",
    "tf.__version__"
   ],
   "metadata": {
    "collapsed": false,
    "pycharm": {
     "name": "#%%\n"
    }
   }
  },
  {
   "cell_type": "code",
   "execution_count": 20,
   "outputs": [
    {
     "name": "stdout",
     "output_type": "stream",
     "text": [
      "KerasTensor(type_spec=TensorSpec(shape=(None, 100, 1), dtype=tf.float32, name='lstm_input'), name='lstm_input', description=\"created by layer 'lstm_input'\")\n"
     ]
    }
   ],
   "source": [
    "prediction = model.predict(X_train)\n",
    "test_prediction = model.predict(X_test)\n",
    "print(model.input)"
   ],
   "metadata": {
    "collapsed": false,
    "pycharm": {
     "name": "#%%\n"
    }
   }
  },
  {
   "cell_type": "code",
   "execution_count": 21,
   "outputs": [],
   "source": [
    "prediction = scaler.inverse_transform(prediction)\n",
    "test_prediction = scaler.inverse_transform(test_prediction)"
   ],
   "metadata": {
    "collapsed": false,
    "pycharm": {
     "name": "#%%\n"
    }
   }
  },
  {
   "cell_type": "code",
   "execution_count": 22,
   "outputs": [
    {
     "data": {
      "text/plain": "164.87292780522873"
     },
     "execution_count": 22,
     "metadata": {},
     "output_type": "execute_result"
    }
   ],
   "source": [
    "import math\n",
    "from sklearn.metrics import mean_squared_error\n",
    "math.sqrt(mean_squared_error(y_train, prediction))"
   ],
   "metadata": {
    "collapsed": false,
    "pycharm": {
     "name": "#%%\n"
    }
   }
  },
  {
   "cell_type": "code",
   "execution_count": 23,
   "outputs": [
    {
     "data": {
      "text/plain": "207.7004184065029"
     },
     "execution_count": 23,
     "metadata": {},
     "output_type": "execute_result"
    }
   ],
   "source": [
    "math.sqrt(mean_squared_error(y_test, test_prediction))"
   ],
   "metadata": {
    "collapsed": false,
    "pycharm": {
     "name": "#%%\n"
    }
   }
  },
  {
   "cell_type": "code",
   "execution_count": 24,
   "outputs": [
    {
     "data": {
      "text/plain": "<Figure size 432x288 with 1 Axes>",
      "image/png": "[encoded data removed]"
     },
     "metadata": {
      "needs_background": "light"
     },
     "output_type": "display_data"
    }
   ],
   "source": [
    "### Plotting\n",
    "# shift train predictions for plotting\n",
    "look_back=100\n",
    "trainPredictPlot = np.empty_like(df1)\n",
    "trainPredictPlot[:, :] = np.nan\n",
    "trainPredictPlot[look_back:len(prediction)+look_back, :] = prediction\n",
    "# shift test predictions for plotting\n",
    "testPredictPlot = np.empty_like(df1)\n",
    "testPredictPlot[:, :] = np.nan\n",
    "testPredictPlot[len(prediction)+(look_back*2)+1:len(df1)-1, :] = test_prediction\n",
    "# plot baseline and predictions\n",
    "plt.plot(scaler.inverse_transform(df1))\n",
    "plt.plot(trainPredictPlot)\n",
    "plt.plot(testPredictPlot)\n",
    "plt.show()"
   ],
   "metadata": {
    "collapsed": false,
    "pycharm": {
     "name": "#%%\n"
    }
   }
  },
  {
   "cell_type": "code",
   "execution_count": 25,
   "outputs": [
    {
     "data": {
      "text/plain": "126"
     },
     "execution_count": 25,
     "metadata": {},
     "output_type": "execute_result"
    }
   ],
   "source": [
    "len(test)"
   ],
   "metadata": {
    "collapsed": false,
    "pycharm": {
     "name": "#%%\n"
    }
   }
  },
  {
   "cell_type": "code",
   "execution_count": 26,
   "outputs": [
    {
     "data": {
      "text/plain": "(1, 100)"
     },
     "execution_count": 26,
     "metadata": {},
     "output_type": "execute_result"
    }
   ],
   "source": [
    "x_input = test[len(test)-100:].reshape(1, -1)\n",
    "x_input.shape"
   ],
   "metadata": {
    "collapsed": false,
    "pycharm": {
     "name": "#%%\n"
    }
   }
  },
  {
   "cell_type": "code",
   "execution_count": 27,
   "outputs": [],
   "source": [
    "temp_input = list(x_input)\n",
    "temp_input = temp_input[0].tolist()"
   ],
   "metadata": {
    "collapsed": false,
    "pycharm": {
     "name": "#%%\n"
    }
   }
  },
  {
   "cell_type": "code",
   "execution_count": 28,
   "outputs": [],
   "source": [
    "# temp_input"
   ],
   "metadata": {
    "collapsed": false,
    "pycharm": {
     "name": "#%%\n"
    }
   }
  },
  {
   "cell_type": "code",
   "execution_count": 29,
   "outputs": [
    {
     "name": "stdout",
     "output_type": "stream",
     "text": [
      "1 day input [0.85806014 0.87120317 0.90122102 0.90133079 0.89233093 0.89622717\n",
      " 0.8742489  0.88025796 0.87474278 0.8408287  0.86357524 0.8617369\n",
      " 0.85152974 0.86881603 0.86577038 0.84716701 0.86203869 0.82431061\n",
      " 0.82826177 0.81994788 0.78320763 0.79840855 0.77492111 0.75977503\n",
      " 0.7598025  0.77920153 0.81089317 0.8266429  0.83761835 0.60373165\n",
      " 0.60189327 0.56847306 0.55549457 0.58792703 0.57714367 0.55376597\n",
      " 0.54868981 0.55774456 0.54550692 0.52127867 0.51702568 0.50583072\n",
      " 0.49587049 0.52097684 0.52887913 0.53038826 0.50969957 0.5223762\n",
      " 0.50827275 0.50028811 0.46574291 0.47348058 0.49600769 0.48698041\n",
      " 0.46612705 0.46343808 0.47825491 0.51008371 0.52163534 0.54536976\n",
      " 0.53165046 0.54580875 0.53705587 0.55382086 0.55999454 0.56485115\n",
      " 0.58205517 0.57654002 0.56147621 0.56830844 0.59311292 0.587488\n",
      " 0.56405545 0.56309508 0.5613939  0.54528745 0.53892167 0.54125397\n",
      " 0.52805597 0.52967488 0.54761971 0.5012759  0.46738925 0.45652354\n",
      " 0.46442587 0.44785293 0.43138977 0.51584579 0.5014131  0.53066267\n",
      " 0.53313212 0.56435727 0.52284265 0.51046785 0.48972427 0.4936754\n",
      " 0.46922763 0.47608728 0.49633694 0.4965066 ]\n",
      "1 day output [[0.49687147]]\n",
      "2 day input [0.87120317 0.90122102 0.90133079 0.89233093 0.89622717 0.8742489\n",
      " 0.88025796 0.87474278 0.8408287  0.86357524 0.8617369  0.85152974\n",
      " 0.86881603 0.86577038 0.84716701 0.86203869 0.82431061 0.82826177\n",
      " 0.81994788 0.78320763 0.79840855 0.77492111 0.75977503 0.7598025\n",
      " 0.77920153 0.81089317 0.8266429  0.83761835 0.60373165 0.60189327\n",
      " 0.56847306 0.55549457 0.58792703 0.57714367 0.55376597 0.54868981\n",
      " 0.55774456 0.54550692 0.52127867 0.51702568 0.50583072 0.49587049\n",
      " 0.52097684 0.52887913 0.53038826 0.50969957 0.5223762  0.50827275\n",
      " 0.50028811 0.46574291 0.47348058 0.49600769 0.48698041 0.46612705\n",
      " 0.46343808 0.47825491 0.51008371 0.52163534 0.54536976 0.53165046\n",
      " 0.54580875 0.53705587 0.55382086 0.55999454 0.56485115 0.58205517\n",
      " 0.57654002 0.56147621 0.56830844 0.59311292 0.587488   0.56405545\n",
      " 0.56309508 0.5613939  0.54528745 0.53892167 0.54125397 0.52805597\n",
      " 0.52967488 0.54761971 0.5012759  0.46738925 0.45652354 0.46442587\n",
      " 0.44785293 0.43138977 0.51584579 0.5014131  0.53066267 0.53313212\n",
      " 0.56435727 0.52284265 0.51046785 0.48972427 0.4936754  0.46922763\n",
      " 0.47608728 0.49633694 0.4965066  0.49687147]\n",
      "2 day output [[0.4963948]]\n",
      "3 day input [0.90122102 0.90133079 0.89233093 0.89622717 0.8742489  0.88025796\n",
      " 0.87474278 0.8408287  0.86357524 0.8617369  0.85152974 0.86881603\n",
      " 0.86577038 0.84716701 0.86203869 0.82431061 0.82826177 0.81994788\n",
      " 0.78320763 0.79840855 0.77492111 0.75977503 0.7598025  0.77920153\n",
      " 0.81089317 0.8266429  0.83761835 0.60373165 0.60189327 0.56847306\n",
      " 0.55549457 0.58792703 0.57714367 0.55376597 0.54868981 0.55774456\n",
      " 0.54550692 0.52127867 0.51702568 0.50583072 0.49587049 0.52097684\n",
      " 0.52887913 0.53038826 0.50969957 0.5223762  0.50827275 0.50028811\n",
      " 0.46574291 0.47348058 0.49600769 0.48698041 0.46612705 0.46343808\n",
      " 0.47825491 0.51008371 0.52163534 0.54536976 0.53165046 0.54580875\n",
      " 0.53705587 0.55382086 0.55999454 0.56485115 0.58205517 0.57654002\n",
      " 0.56147621 0.56830844 0.59311292 0.587488   0.56405545 0.56309508\n",
      " 0.5613939  0.54528745 0.53892167 0.54125397 0.52805597 0.52967488\n",
      " 0.54761971 0.5012759  0.46738925 0.45652354 0.46442587 0.44785293\n",
      " 0.43138977 0.51584579 0.5014131  0.53066267 0.53313212 0.56435727\n",
      " 0.52284265 0.51046785 0.48972427 0.4936754  0.46922763 0.47608728\n",
      " 0.49633694 0.4965066  0.49687147 0.49639481]\n",
      "3 day output [[0.495361]]\n",
      "4 day input [0.90133079 0.89233093 0.89622717 0.8742489  0.88025796 0.87474278\n",
      " 0.8408287  0.86357524 0.8617369  0.85152974 0.86881603 0.86577038\n",
      " 0.84716701 0.86203869 0.82431061 0.82826177 0.81994788 0.78320763\n",
      " 0.79840855 0.77492111 0.75977503 0.7598025  0.77920153 0.81089317\n",
      " 0.8266429  0.83761835 0.60373165 0.60189327 0.56847306 0.55549457\n",
      " 0.58792703 0.57714367 0.55376597 0.54868981 0.55774456 0.54550692\n",
      " 0.52127867 0.51702568 0.50583072 0.49587049 0.52097684 0.52887913\n",
      " 0.53038826 0.50969957 0.5223762  0.50827275 0.50028811 0.46574291\n",
      " 0.47348058 0.49600769 0.48698041 0.46612705 0.46343808 0.47825491\n",
      " 0.51008371 0.52163534 0.54536976 0.53165046 0.54580875 0.53705587\n",
      " 0.55382086 0.55999454 0.56485115 0.58205517 0.57654002 0.56147621\n",
      " 0.56830844 0.59311292 0.587488   0.56405545 0.56309508 0.5613939\n",
      " 0.54528745 0.53892167 0.54125397 0.52805597 0.52967488 0.54761971\n",
      " 0.5012759  0.46738925 0.45652354 0.46442587 0.44785293 0.43138977\n",
      " 0.51584579 0.5014131  0.53066267 0.53313212 0.56435727 0.52284265\n",
      " 0.51046785 0.48972427 0.4936754  0.46922763 0.47608728 0.49633694\n",
      " 0.4965066  0.49687147 0.49639481 0.495361  ]\n",
      "4 day output [[0.49401364]]\n",
      "5 day input [0.89233093 0.89622717 0.8742489  0.88025796 0.87474278 0.8408287\n",
      " 0.86357524 0.8617369  0.85152974 0.86881603 0.86577038 0.84716701\n",
      " 0.86203869 0.82431061 0.82826177 0.81994788 0.78320763 0.79840855\n",
      " 0.77492111 0.75977503 0.7598025  0.77920153 0.81089317 0.8266429\n",
      " 0.83761835 0.60373165 0.60189327 0.56847306 0.55549457 0.58792703\n",
      " 0.57714367 0.55376597 0.54868981 0.55774456 0.54550692 0.52127867\n",
      " 0.51702568 0.50583072 0.49587049 0.52097684 0.52887913 0.53038826\n",
      " 0.50969957 0.5223762  0.50827275 0.50028811 0.46574291 0.47348058\n",
      " 0.49600769 0.48698041 0.46612705 0.46343808 0.47825491 0.51008371\n",
      " 0.52163534 0.54536976 0.53165046 0.54580875 0.53705587 0.55382086\n",
      " 0.55999454 0.56485115 0.58205517 0.57654002 0.56147621 0.56830844\n",
      " 0.59311292 0.587488   0.56405545 0.56309508 0.5613939  0.54528745\n",
      " 0.53892167 0.54125397 0.52805597 0.52967488 0.54761971 0.5012759\n",
      " 0.46738925 0.45652354 0.46442587 0.44785293 0.43138977 0.51584579\n",
      " 0.5014131  0.53066267 0.53313212 0.56435727 0.52284265 0.51046785\n",
      " 0.48972427 0.4936754  0.46922763 0.47608728 0.49633694 0.4965066\n",
      " 0.49687147 0.49639481 0.495361   0.49401364]\n",
      "5 day output [[0.49253485]]\n",
      "6 day input [0.89622717 0.8742489  0.88025796 0.87474278 0.8408287  0.86357524\n",
      " 0.8617369  0.85152974 0.86881603 0.86577038 0.84716701 0.86203869\n",
      " 0.82431061 0.82826177 0.81994788 0.78320763 0.79840855 0.77492111\n",
      " 0.75977503 0.7598025  0.77920153 0.81089317 0.8266429  0.83761835\n",
      " 0.60373165 0.60189327 0.56847306 0.55549457 0.58792703 0.57714367\n",
      " 0.55376597 0.54868981 0.55774456 0.54550692 0.52127867 0.51702568\n",
      " 0.50583072 0.49587049 0.52097684 0.52887913 0.53038826 0.50969957\n",
      " 0.5223762  0.50827275 0.50028811 0.46574291 0.47348058 0.49600769\n",
      " 0.48698041 0.46612705 0.46343808 0.47825491 0.51008371 0.52163534\n",
      " 0.54536976 0.53165046 0.54580875 0.53705587 0.55382086 0.55999454\n",
      " 0.56485115 0.58205517 0.57654002 0.56147621 0.56830844 0.59311292\n",
      " 0.587488   0.56405545 0.56309508 0.5613939  0.54528745 0.53892167\n",
      " 0.54125397 0.52805597 0.52967488 0.54761971 0.5012759  0.46738925\n",
      " 0.45652354 0.46442587 0.44785293 0.43138977 0.51584579 0.5014131\n",
      " 0.53066267 0.53313212 0.56435727 0.52284265 0.51046785 0.48972427\n",
      " 0.4936754  0.46922763 0.47608728 0.49633694 0.4965066  0.49687147\n",
      " 0.49639481 0.495361   0.49401364 0.49253485]\n",
      "6 day output [[0.49104482]]\n",
      "7 day input [0.8742489  0.88025796 0.87474278 0.8408287  0.86357524 0.8617369\n",
      " 0.85152974 0.86881603 0.86577038 0.84716701 0.86203869 0.82431061\n",
      " 0.82826177 0.81994788 0.78320763 0.79840855 0.77492111 0.75977503\n",
      " 0.7598025  0.77920153 0.81089317 0.8266429  0.83761835 0.60373165\n",
      " 0.60189327 0.56847306 0.55549457 0.58792703 0.57714367 0.55376597\n",
      " 0.54868981 0.55774456 0.54550692 0.52127867 0.51702568 0.50583072\n",
      " 0.49587049 0.52097684 0.52887913 0.53038826 0.50969957 0.5223762\n",
      " 0.50827275 0.50028811 0.46574291 0.47348058 0.49600769 0.48698041\n",
      " 0.46612705 0.46343808 0.47825491 0.51008371 0.52163534 0.54536976\n",
      " 0.53165046 0.54580875 0.53705587 0.55382086 0.55999454 0.56485115\n",
      " 0.58205517 0.57654002 0.56147621 0.56830844 0.59311292 0.587488\n",
      " 0.56405545 0.56309508 0.5613939  0.54528745 0.53892167 0.54125397\n",
      " 0.52805597 0.52967488 0.54761971 0.5012759  0.46738925 0.45652354\n",
      " 0.46442587 0.44785293 0.43138977 0.51584579 0.5014131  0.53066267\n",
      " 0.53313212 0.56435727 0.52284265 0.51046785 0.48972427 0.4936754\n",
      " 0.46922763 0.47608728 0.49633694 0.4965066  0.49687147 0.49639481\n",
      " 0.495361   0.49401364 0.49253485 0.49104482]\n",
      "7 day output [[0.4896104]]\n",
      "8 day input [0.88025796 0.87474278 0.8408287  0.86357524 0.8617369  0.85152974\n",
      " 0.86881603 0.86577038 0.84716701 0.86203869 0.82431061 0.82826177\n",
      " 0.81994788 0.78320763 0.79840855 0.77492111 0.75977503 0.7598025\n",
      " 0.77920153 0.81089317 0.8266429  0.83761835 0.60373165 0.60189327\n",
      " 0.56847306 0.55549457 0.58792703 0.57714367 0.55376597 0.54868981\n",
      " 0.55774456 0.54550692 0.52127867 0.51702568 0.50583072 0.49587049\n",
      " 0.52097684 0.52887913 0.53038826 0.50969957 0.5223762  0.50827275\n",
      " 0.50028811 0.46574291 0.47348058 0.49600769 0.48698041 0.46612705\n",
      " 0.46343808 0.47825491 0.51008371 0.52163534 0.54536976 0.53165046\n",
      " 0.54580875 0.53705587 0.55382086 0.55999454 0.56485115 0.58205517\n",
      " 0.57654002 0.56147621 0.56830844 0.59311292 0.587488   0.56405545\n",
      " 0.56309508 0.5613939  0.54528745 0.53892167 0.54125397 0.52805597\n",
      " 0.52967488 0.54761971 0.5012759  0.46738925 0.45652354 0.46442587\n",
      " 0.44785293 0.43138977 0.51584579 0.5014131  0.53066267 0.53313212\n",
      " 0.56435727 0.52284265 0.51046785 0.48972427 0.4936754  0.46922763\n",
      " 0.47608728 0.49633694 0.4965066  0.49687147 0.49639481 0.495361\n",
      " 0.49401364 0.49253485 0.49104482 0.4896104 ]\n",
      "8 day output [[0.48825914]]\n",
      "9 day input [0.87474278 0.8408287  0.86357524 0.8617369  0.85152974 0.86881603\n",
      " 0.86577038 0.84716701 0.86203869 0.82431061 0.82826177 0.81994788\n",
      " 0.78320763 0.79840855 0.77492111 0.75977503 0.7598025  0.77920153\n",
      " 0.81089317 0.8266429  0.83761835 0.60373165 0.60189327 0.56847306\n",
      " 0.55549457 0.58792703 0.57714367 0.55376597 0.54868981 0.55774456\n",
      " 0.54550692 0.52127867 0.51702568 0.50583072 0.49587049 0.52097684\n",
      " 0.52887913 0.53038826 0.50969957 0.5223762  0.50827275 0.50028811\n",
      " 0.46574291 0.47348058 0.49600769 0.48698041 0.46612705 0.46343808\n",
      " 0.47825491 0.51008371 0.52163534 0.54536976 0.53165046 0.54580875\n",
      " 0.53705587 0.55382086 0.55999454 0.56485115 0.58205517 0.57654002\n",
      " 0.56147621 0.56830844 0.59311292 0.587488   0.56405545 0.56309508\n",
      " 0.5613939  0.54528745 0.53892167 0.54125397 0.52805597 0.52967488\n",
      " 0.54761971 0.5012759  0.46738925 0.45652354 0.46442587 0.44785293\n",
      " 0.43138977 0.51584579 0.5014131  0.53066267 0.53313212 0.56435727\n",
      " 0.52284265 0.51046785 0.48972427 0.4936754  0.46922763 0.47608728\n",
      " 0.49633694 0.4965066  0.49687147 0.49639481 0.495361   0.49401364\n",
      " 0.49253485 0.49104482 0.4896104  0.48825914]\n",
      "9 day output [[0.48699215]]\n",
      "10 day input [0.8408287  0.86357524 0.8617369  0.85152974 0.86881603 0.86577038\n",
      " 0.84716701 0.86203869 0.82431061 0.82826177 0.81994788 0.78320763\n",
      " 0.79840855 0.77492111 0.75977503 0.7598025  0.77920153 0.81089317\n",
      " 0.8266429  0.83761835 0.60373165 0.60189327 0.56847306 0.55549457\n",
      " 0.58792703 0.57714367 0.55376597 0.54868981 0.55774456 0.54550692\n",
      " 0.52127867 0.51702568 0.50583072 0.49587049 0.52097684 0.52887913\n",
      " 0.53038826 0.50969957 0.5223762  0.50827275 0.50028811 0.46574291\n",
      " 0.47348058 0.49600769 0.48698041 0.46612705 0.46343808 0.47825491\n",
      " 0.51008371 0.52163534 0.54536976 0.53165046 0.54580875 0.53705587\n",
      " 0.55382086 0.55999454 0.56485115 0.58205517 0.57654002 0.56147621\n",
      " 0.56830844 0.59311292 0.587488   0.56405545 0.56309508 0.5613939\n",
      " 0.54528745 0.53892167 0.54125397 0.52805597 0.52967488 0.54761971\n",
      " 0.5012759  0.46738925 0.45652354 0.46442587 0.44785293 0.43138977\n",
      " 0.51584579 0.5014131  0.53066267 0.53313212 0.56435727 0.52284265\n",
      " 0.51046785 0.48972427 0.4936754  0.46922763 0.47608728 0.49633694\n",
      " 0.4965066  0.49687147 0.49639481 0.495361   0.49401364 0.49253485\n",
      " 0.49104482 0.4896104  0.48825914 0.48699215]\n",
      "10 day output [[0.48579675]]\n",
      "11 day input [0.86357524 0.8617369  0.85152974 0.86881603 0.86577038 0.84716701\n",
      " 0.86203869 0.82431061 0.82826177 0.81994788 0.78320763 0.79840855\n",
      " 0.77492111 0.75977503 0.7598025  0.77920153 0.81089317 0.8266429\n",
      " 0.83761835 0.60373165 0.60189327 0.56847306 0.55549457 0.58792703\n",
      " 0.57714367 0.55376597 0.54868981 0.55774456 0.54550692 0.52127867\n",
      " 0.51702568 0.50583072 0.49587049 0.52097684 0.52887913 0.53038826\n",
      " 0.50969957 0.5223762  0.50827275 0.50028811 0.46574291 0.47348058\n",
      " 0.49600769 0.48698041 0.46612705 0.46343808 0.47825491 0.51008371\n",
      " 0.52163534 0.54536976 0.53165046 0.54580875 0.53705587 0.55382086\n",
      " 0.55999454 0.56485115 0.58205517 0.57654002 0.56147621 0.56830844\n",
      " 0.59311292 0.587488   0.56405545 0.56309508 0.5613939  0.54528745\n",
      " 0.53892167 0.54125397 0.52805597 0.52967488 0.54761971 0.5012759\n",
      " 0.46738925 0.45652354 0.46442587 0.44785293 0.43138977 0.51584579\n",
      " 0.5014131  0.53066267 0.53313212 0.56435727 0.52284265 0.51046785\n",
      " 0.48972427 0.4936754  0.46922763 0.47608728 0.49633694 0.4965066\n",
      " 0.49687147 0.49639481 0.495361   0.49401364 0.49253485 0.49104482\n",
      " 0.4896104  0.48825914 0.48699215 0.48579675]\n",
      "11 day output [[0.48465425]]\n",
      "12 day input [0.8617369  0.85152974 0.86881603 0.86577038 0.84716701 0.86203869\n",
      " 0.82431061 0.82826177 0.81994788 0.78320763 0.79840855 0.77492111\n",
      " 0.75977503 0.7598025  0.77920153 0.81089317 0.8266429  0.83761835\n",
      " 0.60373165 0.60189327 0.56847306 0.55549457 0.58792703 0.57714367\n",
      " 0.55376597 0.54868981 0.55774456 0.54550692 0.52127867 0.51702568\n",
      " 0.50583072 0.49587049 0.52097684 0.52887913 0.53038826 0.50969957\n",
      " 0.5223762  0.50827275 0.50028811 0.46574291 0.47348058 0.49600769\n",
      " 0.48698041 0.46612705 0.46343808 0.47825491 0.51008371 0.52163534\n",
      " 0.54536976 0.53165046 0.54580875 0.53705587 0.55382086 0.55999454\n",
      " 0.56485115 0.58205517 0.57654002 0.56147621 0.56830844 0.59311292\n",
      " 0.587488   0.56405545 0.56309508 0.5613939  0.54528745 0.53892167\n",
      " 0.54125397 0.52805597 0.52967488 0.54761971 0.5012759  0.46738925\n",
      " 0.45652354 0.46442587 0.44785293 0.43138977 0.51584579 0.5014131\n",
      " 0.53066267 0.53313212 0.56435727 0.52284265 0.51046785 0.48972427\n",
      " 0.4936754  0.46922763 0.47608728 0.49633694 0.4965066  0.49687147\n",
      " 0.49639481 0.495361   0.49401364 0.49253485 0.49104482 0.4896104\n",
      " 0.48825914 0.48699215 0.48579675 0.48465425]\n",
      "12 day output [[0.48354626]]\n",
      "13 day input [0.85152974 0.86881603 0.86577038 0.84716701 0.86203869 0.82431061\n",
      " 0.82826177 0.81994788 0.78320763 0.79840855 0.77492111 0.75977503\n",
      " 0.7598025  0.77920153 0.81089317 0.8266429  0.83761835 0.60373165\n",
      " 0.60189327 0.56847306 0.55549457 0.58792703 0.57714367 0.55376597\n",
      " 0.54868981 0.55774456 0.54550692 0.52127867 0.51702568 0.50583072\n",
      " 0.49587049 0.52097684 0.52887913 0.53038826 0.50969957 0.5223762\n",
      " 0.50827275 0.50028811 0.46574291 0.47348058 0.49600769 0.48698041\n",
      " 0.46612705 0.46343808 0.47825491 0.51008371 0.52163534 0.54536976\n",
      " 0.53165046 0.54580875 0.53705587 0.55382086 0.55999454 0.56485115\n",
      " 0.58205517 0.57654002 0.56147621 0.56830844 0.59311292 0.587488\n",
      " 0.56405545 0.56309508 0.5613939  0.54528745 0.53892167 0.54125397\n",
      " 0.52805597 0.52967488 0.54761971 0.5012759  0.46738925 0.45652354\n",
      " 0.46442587 0.44785293 0.43138977 0.51584579 0.5014131  0.53066267\n",
      " 0.53313212 0.56435727 0.52284265 0.51046785 0.48972427 0.4936754\n",
      " 0.46922763 0.47608728 0.49633694 0.4965066  0.49687147 0.49639481\n",
      " 0.495361   0.49401364 0.49253485 0.49104482 0.4896104  0.48825914\n",
      " 0.48699215 0.48579675 0.48465425 0.48354626]\n",
      "13 day output [[0.48245722]]\n",
      "14 day input [0.86881603 0.86577038 0.84716701 0.86203869 0.82431061 0.82826177\n",
      " 0.81994788 0.78320763 0.79840855 0.77492111 0.75977503 0.7598025\n",
      " 0.77920153 0.81089317 0.8266429  0.83761835 0.60373165 0.60189327\n",
      " 0.56847306 0.55549457 0.58792703 0.57714367 0.55376597 0.54868981\n",
      " 0.55774456 0.54550692 0.52127867 0.51702568 0.50583072 0.49587049\n",
      " 0.52097684 0.52887913 0.53038826 0.50969957 0.5223762  0.50827275\n",
      " 0.50028811 0.46574291 0.47348058 0.49600769 0.48698041 0.46612705\n",
      " 0.46343808 0.47825491 0.51008371 0.52163534 0.54536976 0.53165046\n",
      " 0.54580875 0.53705587 0.55382086 0.55999454 0.56485115 0.58205517\n",
      " 0.57654002 0.56147621 0.56830844 0.59311292 0.587488   0.56405545\n",
      " 0.56309508 0.5613939  0.54528745 0.53892167 0.54125397 0.52805597\n",
      " 0.52967488 0.54761971 0.5012759  0.46738925 0.45652354 0.46442587\n",
      " 0.44785293 0.43138977 0.51584579 0.5014131  0.53066267 0.53313212\n",
      " 0.56435727 0.52284265 0.51046785 0.48972427 0.4936754  0.46922763\n",
      " 0.47608728 0.49633694 0.4965066  0.49687147 0.49639481 0.495361\n",
      " 0.49401364 0.49253485 0.49104482 0.4896104  0.48825914 0.48699215\n",
      " 0.48579675 0.48465425 0.48354626 0.48245722]\n",
      "14 day output [[0.4813759]]\n",
      "15 day input [0.86577038 0.84716701 0.86203869 0.82431061 0.82826177 0.81994788\n",
      " 0.78320763 0.79840855 0.77492111 0.75977503 0.7598025  0.77920153\n",
      " 0.81089317 0.8266429  0.83761835 0.60373165 0.60189327 0.56847306\n",
      " 0.55549457 0.58792703 0.57714367 0.55376597 0.54868981 0.55774456\n",
      " 0.54550692 0.52127867 0.51702568 0.50583072 0.49587049 0.52097684\n",
      " 0.52887913 0.53038826 0.50969957 0.5223762  0.50827275 0.50028811\n",
      " 0.46574291 0.47348058 0.49600769 0.48698041 0.46612705 0.46343808\n",
      " 0.47825491 0.51008371 0.52163534 0.54536976 0.53165046 0.54580875\n",
      " 0.53705587 0.55382086 0.55999454 0.56485115 0.58205517 0.57654002\n",
      " 0.56147621 0.56830844 0.59311292 0.587488   0.56405545 0.56309508\n",
      " 0.5613939  0.54528745 0.53892167 0.54125397 0.52805597 0.52967488\n",
      " 0.54761971 0.5012759  0.46738925 0.45652354 0.46442587 0.44785293\n",
      " 0.43138977 0.51584579 0.5014131  0.53066267 0.53313212 0.56435727\n",
      " 0.52284265 0.51046785 0.48972427 0.4936754  0.46922763 0.47608728\n",
      " 0.49633694 0.4965066  0.49687147 0.49639481 0.495361   0.49401364\n",
      " 0.49253485 0.49104482 0.4896104  0.48825914 0.48699215 0.48579675\n",
      " 0.48465425 0.48354626 0.48245722 0.4813759 ]\n",
      "15 day output [[0.48029557]]\n",
      "16 day input [0.84716701 0.86203869 0.82431061 0.82826177 0.81994788 0.78320763\n",
      " 0.79840855 0.77492111 0.75977503 0.7598025  0.77920153 0.81089317\n",
      " 0.8266429  0.83761835 0.60373165 0.60189327 0.56847306 0.55549457\n",
      " 0.58792703 0.57714367 0.55376597 0.54868981 0.55774456 0.54550692\n",
      " 0.52127867 0.51702568 0.50583072 0.49587049 0.52097684 0.52887913\n",
      " 0.53038826 0.50969957 0.5223762  0.50827275 0.50028811 0.46574291\n",
      " 0.47348058 0.49600769 0.48698041 0.46612705 0.46343808 0.47825491\n",
      " 0.51008371 0.52163534 0.54536976 0.53165046 0.54580875 0.53705587\n",
      " 0.55382086 0.55999454 0.56485115 0.58205517 0.57654002 0.56147621\n",
      " 0.56830844 0.59311292 0.587488   0.56405545 0.56309508 0.5613939\n",
      " 0.54528745 0.53892167 0.54125397 0.52805597 0.52967488 0.54761971\n",
      " 0.5012759  0.46738925 0.45652354 0.46442587 0.44785293 0.43138977\n",
      " 0.51584579 0.5014131  0.53066267 0.53313212 0.56435727 0.52284265\n",
      " 0.51046785 0.48972427 0.4936754  0.46922763 0.47608728 0.49633694\n",
      " 0.4965066  0.49687147 0.49639481 0.495361   0.49401364 0.49253485\n",
      " 0.49104482 0.4896104  0.48825914 0.48699215 0.48579675 0.48465425\n",
      " 0.48354626 0.48245722 0.4813759  0.48029557]\n",
      "16 day output [[0.47921294]]\n",
      "17 day input [0.86203869 0.82431061 0.82826177 0.81994788 0.78320763 0.79840855\n",
      " 0.77492111 0.75977503 0.7598025  0.77920153 0.81089317 0.8266429\n",
      " 0.83761835 0.60373165 0.60189327 0.56847306 0.55549457 0.58792703\n",
      " 0.57714367 0.55376597 0.54868981 0.55774456 0.54550692 0.52127867\n",
      " 0.51702568 0.50583072 0.49587049 0.52097684 0.52887913 0.53038826\n",
      " 0.50969957 0.5223762  0.50827275 0.50028811 0.46574291 0.47348058\n",
      " 0.49600769 0.48698041 0.46612705 0.46343808 0.47825491 0.51008371\n",
      " 0.52163534 0.54536976 0.53165046 0.54580875 0.53705587 0.55382086\n",
      " 0.55999454 0.56485115 0.58205517 0.57654002 0.56147621 0.56830844\n",
      " 0.59311292 0.587488   0.56405545 0.56309508 0.5613939  0.54528745\n",
      " 0.53892167 0.54125397 0.52805597 0.52967488 0.54761971 0.5012759\n",
      " 0.46738925 0.45652354 0.46442587 0.44785293 0.43138977 0.51584579\n",
      " 0.5014131  0.53066267 0.53313212 0.56435727 0.52284265 0.51046785\n",
      " 0.48972427 0.4936754  0.46922763 0.47608728 0.49633694 0.4965066\n",
      " 0.49687147 0.49639481 0.495361   0.49401364 0.49253485 0.49104482\n",
      " 0.4896104  0.48825914 0.48699215 0.48579675 0.48465425 0.48354626\n",
      " 0.48245722 0.4813759  0.48029557 0.47921294]\n",
      "17 day output [[0.478127]]\n",
      "18 day input [0.82431061 0.82826177 0.81994788 0.78320763 0.79840855 0.77492111\n",
      " 0.75977503 0.7598025  0.77920153 0.81089317 0.8266429  0.83761835\n",
      " 0.60373165 0.60189327 0.56847306 0.55549457 0.58792703 0.57714367\n",
      " 0.55376597 0.54868981 0.55774456 0.54550692 0.52127867 0.51702568\n",
      " 0.50583072 0.49587049 0.52097684 0.52887913 0.53038826 0.50969957\n",
      " 0.5223762  0.50827275 0.50028811 0.46574291 0.47348058 0.49600769\n",
      " 0.48698041 0.46612705 0.46343808 0.47825491 0.51008371 0.52163534\n",
      " 0.54536976 0.53165046 0.54580875 0.53705587 0.55382086 0.55999454\n",
      " 0.56485115 0.58205517 0.57654002 0.56147621 0.56830844 0.59311292\n",
      " 0.587488   0.56405545 0.56309508 0.5613939  0.54528745 0.53892167\n",
      " 0.54125397 0.52805597 0.52967488 0.54761971 0.5012759  0.46738925\n",
      " 0.45652354 0.46442587 0.44785293 0.43138977 0.51584579 0.5014131\n",
      " 0.53066267 0.53313212 0.56435727 0.52284265 0.51046785 0.48972427\n",
      " 0.4936754  0.46922763 0.47608728 0.49633694 0.4965066  0.49687147\n",
      " 0.49639481 0.495361   0.49401364 0.49253485 0.49104482 0.4896104\n",
      " 0.48825914 0.48699215 0.48579675 0.48465425 0.48354626 0.48245722\n",
      " 0.4813759  0.48029557 0.47921294 0.478127  ]\n",
      "18 day output [[0.47703886]]\n",
      "19 day input [0.82826177 0.81994788 0.78320763 0.79840855 0.77492111 0.75977503\n",
      " 0.7598025  0.77920153 0.81089317 0.8266429  0.83761835 0.60373165\n",
      " 0.60189327 0.56847306 0.55549457 0.58792703 0.57714367 0.55376597\n",
      " 0.54868981 0.55774456 0.54550692 0.52127867 0.51702568 0.50583072\n",
      " 0.49587049 0.52097684 0.52887913 0.53038826 0.50969957 0.5223762\n",
      " 0.50827275 0.50028811 0.46574291 0.47348058 0.49600769 0.48698041\n",
      " 0.46612705 0.46343808 0.47825491 0.51008371 0.52163534 0.54536976\n",
      " 0.53165046 0.54580875 0.53705587 0.55382086 0.55999454 0.56485115\n",
      " 0.58205517 0.57654002 0.56147621 0.56830844 0.59311292 0.587488\n",
      " 0.56405545 0.56309508 0.5613939  0.54528745 0.53892167 0.54125397\n",
      " 0.52805597 0.52967488 0.54761971 0.5012759  0.46738925 0.45652354\n",
      " 0.46442587 0.44785293 0.43138977 0.51584579 0.5014131  0.53066267\n",
      " 0.53313212 0.56435727 0.52284265 0.51046785 0.48972427 0.4936754\n",
      " 0.46922763 0.47608728 0.49633694 0.4965066  0.49687147 0.49639481\n",
      " 0.495361   0.49401364 0.49253485 0.49104482 0.4896104  0.48825914\n",
      " 0.48699215 0.48579675 0.48465425 0.48354626 0.48245722 0.4813759\n",
      " 0.48029557 0.47921294 0.478127   0.47703886]\n",
      "19 day output [[0.47594967]]\n",
      "20 day input [0.81994788 0.78320763 0.79840855 0.77492111 0.75977503 0.7598025\n",
      " 0.77920153 0.81089317 0.8266429  0.83761835 0.60373165 0.60189327\n",
      " 0.56847306 0.55549457 0.58792703 0.57714367 0.55376597 0.54868981\n",
      " 0.55774456 0.54550692 0.52127867 0.51702568 0.50583072 0.49587049\n",
      " 0.52097684 0.52887913 0.53038826 0.50969957 0.5223762  0.50827275\n",
      " 0.50028811 0.46574291 0.47348058 0.49600769 0.48698041 0.46612705\n",
      " 0.46343808 0.47825491 0.51008371 0.52163534 0.54536976 0.53165046\n",
      " 0.54580875 0.53705587 0.55382086 0.55999454 0.56485115 0.58205517\n",
      " 0.57654002 0.56147621 0.56830844 0.59311292 0.587488   0.56405545\n",
      " 0.56309508 0.5613939  0.54528745 0.53892167 0.54125397 0.52805597\n",
      " 0.52967488 0.54761971 0.5012759  0.46738925 0.45652354 0.46442587\n",
      " 0.44785293 0.43138977 0.51584579 0.5014131  0.53066267 0.53313212\n",
      " 0.56435727 0.52284265 0.51046785 0.48972427 0.4936754  0.46922763\n",
      " 0.47608728 0.49633694 0.4965066  0.49687147 0.49639481 0.495361\n",
      " 0.49401364 0.49253485 0.49104482 0.4896104  0.48825914 0.48699215\n",
      " 0.48579675 0.48465425 0.48354626 0.48245722 0.4813759  0.48029557\n",
      " 0.47921294 0.478127   0.47703886 0.47594967]\n",
      "20 day output [[0.47486153]]\n",
      "21 day input [0.78320763 0.79840855 0.77492111 0.75977503 0.7598025  0.77920153\n",
      " 0.81089317 0.8266429  0.83761835 0.60373165 0.60189327 0.56847306\n",
      " 0.55549457 0.58792703 0.57714367 0.55376597 0.54868981 0.55774456\n",
      " 0.54550692 0.52127867 0.51702568 0.50583072 0.49587049 0.52097684\n",
      " 0.52887913 0.53038826 0.50969957 0.5223762  0.50827275 0.50028811\n",
      " 0.46574291 0.47348058 0.49600769 0.48698041 0.46612705 0.46343808\n",
      " 0.47825491 0.51008371 0.52163534 0.54536976 0.53165046 0.54580875\n",
      " 0.53705587 0.55382086 0.55999454 0.56485115 0.58205517 0.57654002\n",
      " 0.56147621 0.56830844 0.59311292 0.587488   0.56405545 0.56309508\n",
      " 0.5613939  0.54528745 0.53892167 0.54125397 0.52805597 0.52967488\n",
      " 0.54761971 0.5012759  0.46738925 0.45652354 0.46442587 0.44785293\n",
      " 0.43138977 0.51584579 0.5014131  0.53066267 0.53313212 0.56435727\n",
      " 0.52284265 0.51046785 0.48972427 0.4936754  0.46922763 0.47608728\n",
      " 0.49633694 0.4965066  0.49687147 0.49639481 0.495361   0.49401364\n",
      " 0.49253485 0.49104482 0.4896104  0.48825914 0.48699215 0.48579675\n",
      " 0.48465425 0.48354626 0.48245722 0.4813759  0.48029557 0.47921294\n",
      " 0.478127   0.47703886 0.47594967 0.47486153]\n",
      "21 day output [[0.47377563]]\n",
      "22 day input [0.79840855 0.77492111 0.75977503 0.7598025  0.77920153 0.81089317\n",
      " 0.8266429  0.83761835 0.60373165 0.60189327 0.56847306 0.55549457\n",
      " 0.58792703 0.57714367 0.55376597 0.54868981 0.55774456 0.54550692\n",
      " 0.52127867 0.51702568 0.50583072 0.49587049 0.52097684 0.52887913\n",
      " 0.53038826 0.50969957 0.5223762  0.50827275 0.50028811 0.46574291\n",
      " 0.47348058 0.49600769 0.48698041 0.46612705 0.46343808 0.47825491\n",
      " 0.51008371 0.52163534 0.54536976 0.53165046 0.54580875 0.53705587\n",
      " 0.55382086 0.55999454 0.56485115 0.58205517 0.57654002 0.56147621\n",
      " 0.56830844 0.59311292 0.587488   0.56405545 0.56309508 0.5613939\n",
      " 0.54528745 0.53892167 0.54125397 0.52805597 0.52967488 0.54761971\n",
      " 0.5012759  0.46738925 0.45652354 0.46442587 0.44785293 0.43138977\n",
      " 0.51584579 0.5014131  0.53066267 0.53313212 0.56435727 0.52284265\n",
      " 0.51046785 0.48972427 0.4936754  0.46922763 0.47608728 0.49633694\n",
      " 0.4965066  0.49687147 0.49639481 0.495361   0.49401364 0.49253485\n",
      " 0.49104482 0.4896104  0.48825914 0.48699215 0.48579675 0.48465425\n",
      " 0.48354626 0.48245722 0.4813759  0.48029557 0.47921294 0.478127\n",
      " 0.47703886 0.47594967 0.47486153 0.47377563]\n",
      "22 day output [[0.47269356]]\n",
      "23 day input [0.77492111 0.75977503 0.7598025  0.77920153 0.81089317 0.8266429\n",
      " 0.83761835 0.60373165 0.60189327 0.56847306 0.55549457 0.58792703\n",
      " 0.57714367 0.55376597 0.54868981 0.55774456 0.54550692 0.52127867\n",
      " 0.51702568 0.50583072 0.49587049 0.52097684 0.52887913 0.53038826\n",
      " 0.50969957 0.5223762  0.50827275 0.50028811 0.46574291 0.47348058\n",
      " 0.49600769 0.48698041 0.46612705 0.46343808 0.47825491 0.51008371\n",
      " 0.52163534 0.54536976 0.53165046 0.54580875 0.53705587 0.55382086\n",
      " 0.55999454 0.56485115 0.58205517 0.57654002 0.56147621 0.56830844\n",
      " 0.59311292 0.587488   0.56405545 0.56309508 0.5613939  0.54528745\n",
      " 0.53892167 0.54125397 0.52805597 0.52967488 0.54761971 0.5012759\n",
      " 0.46738925 0.45652354 0.46442587 0.44785293 0.43138977 0.51584579\n",
      " 0.5014131  0.53066267 0.53313212 0.56435727 0.52284265 0.51046785\n",
      " 0.48972427 0.4936754  0.46922763 0.47608728 0.49633694 0.4965066\n",
      " 0.49687147 0.49639481 0.495361   0.49401364 0.49253485 0.49104482\n",
      " 0.4896104  0.48825914 0.48699215 0.48579675 0.48465425 0.48354626\n",
      " 0.48245722 0.4813759  0.48029557 0.47921294 0.478127   0.47703886\n",
      " 0.47594967 0.47486153 0.47377563 0.47269356]\n",
      "23 day output [[0.47161597]]\n",
      "24 day input [0.75977503 0.7598025  0.77920153 0.81089317 0.8266429  0.83761835\n",
      " 0.60373165 0.60189327 0.56847306 0.55549457 0.58792703 0.57714367\n",
      " 0.55376597 0.54868981 0.55774456 0.54550692 0.52127867 0.51702568\n",
      " 0.50583072 0.49587049 0.52097684 0.52887913 0.53038826 0.50969957\n",
      " 0.5223762  0.50827275 0.50028811 0.46574291 0.47348058 0.49600769\n",
      " 0.48698041 0.46612705 0.46343808 0.47825491 0.51008371 0.52163534\n",
      " 0.54536976 0.53165046 0.54580875 0.53705587 0.55382086 0.55999454\n",
      " 0.56485115 0.58205517 0.57654002 0.56147621 0.56830844 0.59311292\n",
      " 0.587488   0.56405545 0.56309508 0.5613939  0.54528745 0.53892167\n",
      " 0.54125397 0.52805597 0.52967488 0.54761971 0.5012759  0.46738925\n",
      " 0.45652354 0.46442587 0.44785293 0.43138977 0.51584579 0.5014131\n",
      " 0.53066267 0.53313212 0.56435727 0.52284265 0.51046785 0.48972427\n",
      " 0.4936754  0.46922763 0.47608728 0.49633694 0.4965066  0.49687147\n",
      " 0.49639481 0.495361   0.49401364 0.49253485 0.49104482 0.4896104\n",
      " 0.48825914 0.48699215 0.48579675 0.48465425 0.48354626 0.48245722\n",
      " 0.4813759  0.48029557 0.47921294 0.478127   0.47703886 0.47594967\n",
      " 0.47486153 0.47377563 0.47269356 0.47161597]\n",
      "24 day output [[0.4705431]]\n",
      "25 day input [0.7598025  0.77920153 0.81089317 0.8266429  0.83761835 0.60373165\n",
      " 0.60189327 0.56847306 0.55549457 0.58792703 0.57714367 0.55376597\n",
      " 0.54868981 0.55774456 0.54550692 0.52127867 0.51702568 0.50583072\n",
      " 0.49587049 0.52097684 0.52887913 0.53038826 0.50969957 0.5223762\n",
      " 0.50827275 0.50028811 0.46574291 0.47348058 0.49600769 0.48698041\n",
      " 0.46612705 0.46343808 0.47825491 0.51008371 0.52163534 0.54536976\n",
      " 0.53165046 0.54580875 0.53705587 0.55382086 0.55999454 0.56485115\n",
      " 0.58205517 0.57654002 0.56147621 0.56830844 0.59311292 0.587488\n",
      " 0.56405545 0.56309508 0.5613939  0.54528745 0.53892167 0.54125397\n",
      " 0.52805597 0.52967488 0.54761971 0.5012759  0.46738925 0.45652354\n",
      " 0.46442587 0.44785293 0.43138977 0.51584579 0.5014131  0.53066267\n",
      " 0.53313212 0.56435727 0.52284265 0.51046785 0.48972427 0.4936754\n",
      " 0.46922763 0.47608728 0.49633694 0.4965066  0.49687147 0.49639481\n",
      " 0.495361   0.49401364 0.49253485 0.49104482 0.4896104  0.48825914\n",
      " 0.48699215 0.48579675 0.48465425 0.48354626 0.48245722 0.4813759\n",
      " 0.48029557 0.47921294 0.478127   0.47703886 0.47594967 0.47486153\n",
      " 0.47377563 0.47269356 0.47161597 0.47054309]\n",
      "25 day output [[0.46947524]]\n",
      "26 day input [0.77920153 0.81089317 0.8266429  0.83761835 0.60373165 0.60189327\n",
      " 0.56847306 0.55549457 0.58792703 0.57714367 0.55376597 0.54868981\n",
      " 0.55774456 0.54550692 0.52127867 0.51702568 0.50583072 0.49587049\n",
      " 0.52097684 0.52887913 0.53038826 0.50969957 0.5223762  0.50827275\n",
      " 0.50028811 0.46574291 0.47348058 0.49600769 0.48698041 0.46612705\n",
      " 0.46343808 0.47825491 0.51008371 0.52163534 0.54536976 0.53165046\n",
      " 0.54580875 0.53705587 0.55382086 0.55999454 0.56485115 0.58205517\n",
      " 0.57654002 0.56147621 0.56830844 0.59311292 0.587488   0.56405545\n",
      " 0.56309508 0.5613939  0.54528745 0.53892167 0.54125397 0.52805597\n",
      " 0.52967488 0.54761971 0.5012759  0.46738925 0.45652354 0.46442587\n",
      " 0.44785293 0.43138977 0.51584579 0.5014131  0.53066267 0.53313212\n",
      " 0.56435727 0.52284265 0.51046785 0.48972427 0.4936754  0.46922763\n",
      " 0.47608728 0.49633694 0.4965066  0.49687147 0.49639481 0.495361\n",
      " 0.49401364 0.49253485 0.49104482 0.4896104  0.48825914 0.48699215\n",
      " 0.48579675 0.48465425 0.48354626 0.48245722 0.4813759  0.48029557\n",
      " 0.47921294 0.478127   0.47703886 0.47594967 0.47486153 0.47377563\n",
      " 0.47269356 0.47161597 0.47054309 0.46947524]\n",
      "26 day output [[0.46841228]]\n",
      "27 day input [0.81089317 0.8266429  0.83761835 0.60373165 0.60189327 0.56847306\n",
      " 0.55549457 0.58792703 0.57714367 0.55376597 0.54868981 0.55774456\n",
      " 0.54550692 0.52127867 0.51702568 0.50583072 0.49587049 0.52097684\n",
      " 0.52887913 0.53038826 0.50969957 0.5223762  0.50827275 0.50028811\n",
      " 0.46574291 0.47348058 0.49600769 0.48698041 0.46612705 0.46343808\n",
      " 0.47825491 0.51008371 0.52163534 0.54536976 0.53165046 0.54580875\n",
      " 0.53705587 0.55382086 0.55999454 0.56485115 0.58205517 0.57654002\n",
      " 0.56147621 0.56830844 0.59311292 0.587488   0.56405545 0.56309508\n",
      " 0.5613939  0.54528745 0.53892167 0.54125397 0.52805597 0.52967488\n",
      " 0.54761971 0.5012759  0.46738925 0.45652354 0.46442587 0.44785293\n",
      " 0.43138977 0.51584579 0.5014131  0.53066267 0.53313212 0.56435727\n",
      " 0.52284265 0.51046785 0.48972427 0.4936754  0.46922763 0.47608728\n",
      " 0.49633694 0.4965066  0.49687147 0.49639481 0.495361   0.49401364\n",
      " 0.49253485 0.49104482 0.4896104  0.48825914 0.48699215 0.48579675\n",
      " 0.48465425 0.48354626 0.48245722 0.4813759  0.48029557 0.47921294\n",
      " 0.478127   0.47703886 0.47594967 0.47486153 0.47377563 0.47269356\n",
      " 0.47161597 0.47054309 0.46947524 0.46841228]\n",
      "27 day output [[0.46735394]]\n",
      "28 day input [0.8266429  0.83761835 0.60373165 0.60189327 0.56847306 0.55549457\n",
      " 0.58792703 0.57714367 0.55376597 0.54868981 0.55774456 0.54550692\n",
      " 0.52127867 0.51702568 0.50583072 0.49587049 0.52097684 0.52887913\n",
      " 0.53038826 0.50969957 0.5223762  0.50827275 0.50028811 0.46574291\n",
      " 0.47348058 0.49600769 0.48698041 0.46612705 0.46343808 0.47825491\n",
      " 0.51008371 0.52163534 0.54536976 0.53165046 0.54580875 0.53705587\n",
      " 0.55382086 0.55999454 0.56485115 0.58205517 0.57654002 0.56147621\n",
      " 0.56830844 0.59311292 0.587488   0.56405545 0.56309508 0.5613939\n",
      " 0.54528745 0.53892167 0.54125397 0.52805597 0.52967488 0.54761971\n",
      " 0.5012759  0.46738925 0.45652354 0.46442587 0.44785293 0.43138977\n",
      " 0.51584579 0.5014131  0.53066267 0.53313212 0.56435727 0.52284265\n",
      " 0.51046785 0.48972427 0.4936754  0.46922763 0.47608728 0.49633694\n",
      " 0.4965066  0.49687147 0.49639481 0.495361   0.49401364 0.49253485\n",
      " 0.49104482 0.4896104  0.48825914 0.48699215 0.48579675 0.48465425\n",
      " 0.48354626 0.48245722 0.4813759  0.48029557 0.47921294 0.478127\n",
      " 0.47703886 0.47594967 0.47486153 0.47377563 0.47269356 0.47161597\n",
      " 0.47054309 0.46947524 0.46841228 0.46735394]\n",
      "28 day output [[0.46629992]]\n",
      "29 day input [0.83761835 0.60373165 0.60189327 0.56847306 0.55549457 0.58792703\n",
      " 0.57714367 0.55376597 0.54868981 0.55774456 0.54550692 0.52127867\n",
      " 0.51702568 0.50583072 0.49587049 0.52097684 0.52887913 0.53038826\n",
      " 0.50969957 0.5223762  0.50827275 0.50028811 0.46574291 0.47348058\n",
      " 0.49600769 0.48698041 0.46612705 0.46343808 0.47825491 0.51008371\n",
      " 0.52163534 0.54536976 0.53165046 0.54580875 0.53705587 0.55382086\n",
      " 0.55999454 0.56485115 0.58205517 0.57654002 0.56147621 0.56830844\n",
      " 0.59311292 0.587488   0.56405545 0.56309508 0.5613939  0.54528745\n",
      " 0.53892167 0.54125397 0.52805597 0.52967488 0.54761971 0.5012759\n",
      " 0.46738925 0.45652354 0.46442587 0.44785293 0.43138977 0.51584579\n",
      " 0.5014131  0.53066267 0.53313212 0.56435727 0.52284265 0.51046785\n",
      " 0.48972427 0.4936754  0.46922763 0.47608728 0.49633694 0.4965066\n",
      " 0.49687147 0.49639481 0.495361   0.49401364 0.49253485 0.49104482\n",
      " 0.4896104  0.48825914 0.48699215 0.48579675 0.48465425 0.48354626\n",
      " 0.48245722 0.4813759  0.48029557 0.47921294 0.478127   0.47703886\n",
      " 0.47594967 0.47486153 0.47377563 0.47269356 0.47161597 0.47054309\n",
      " 0.46947524 0.46841228 0.46735394 0.46629992]\n",
      "29 day output [[0.46524996]]\n"
     ]
    }
   ],
   "source": [
    "# demonstrate prediction for next 10 days\n",
    "from numpy import array\n",
    "\n",
    "lst_output=[]\n",
    "n_steps=100\n",
    "i=0\n",
    "while(i<30):\n",
    "\n",
    "    if(len(temp_input)>100):\n",
    "        #print(temp_input)\n",
    "        x_input=np.array(temp_input[1:])\n",
    "        print(\"{} day input {}\".format(i,x_input))\n",
    "        x_input=x_input.reshape(1,-1)\n",
    "        x_input = x_input.reshape((1, n_steps, 1))\n",
    "        #print(x_input)\n",
    "        yhat = model.predict(x_input, verbose=0)\n",
    "        print(\"{} day output {}\".format(i,yhat))\n",
    "        temp_input.extend(yhat[0].tolist())\n",
    "        temp_input=temp_input[1:]\n",
    "        #print(temp_input)\n",
    "        lst_output.extend(yhat.tolist())\n",
    "        i=i+1\n",
    "    else:\n",
    "        x_input = x_input.reshape((1, n_steps,1))\n",
    "        yhat = model.predict(x_input, verbose=0)\n",
    "#         print(yhat[0])\n",
    "        temp_input.extend(yhat[0].tolist())\n",
    "#         print(len(temp_input))\n",
    "        lst_output.extend(yhat.tolist())\n",
    "        i=i+1\n",
    "\n",
    "\n",
    "# print(lst_output)"
   ],
   "metadata": {
    "collapsed": false,
    "pycharm": {
     "name": "#%%\n"
    }
   }
  },
  {
   "cell_type": "code",
   "execution_count": 30,
   "outputs": [],
   "source": [
    "day_new=np.arange(1,101)\n",
    "day_pred=np.arange(101,131)"
   ],
   "metadata": {
    "collapsed": false,
    "pycharm": {
     "name": "#%%\n"
    }
   }
  },
  {
   "cell_type": "code",
   "execution_count": 31,
   "outputs": [
    {
     "name": "stdout",
     "output_type": "stream",
     "text": [
      "[[198.61999512]]\n",
      "[[198.68182708]\n",
      " [198.81480388]\n",
      " [198.64108575]\n",
      " [198.2643127 ]\n",
      " [197.77326627]\n",
      " [197.23432081]\n",
      " [196.69128058]\n",
      " [196.16850784]\n",
      " [195.67603855]\n",
      " [195.21428546]\n",
      " [194.7786216 ]\n",
      " [194.36223681]\n",
      " [193.95842959]\n",
      " [193.56153026]\n",
      " [193.16744405]\n",
      " [192.77371626]\n",
      " [192.37915214]\n",
      " [191.9833824 ]\n",
      " [191.58680891]\n",
      " [191.18985527]\n",
      " [190.79328178]\n",
      " [190.3975229 ]\n",
      " [190.00316515]\n",
      " [189.61043662]\n",
      " [189.2194242 ]\n",
      " [188.83024736]\n",
      " [188.4428518 ]\n",
      " [188.05713977]\n",
      " [187.67300265]\n",
      " [187.29034269]]\n"
     ]
    }
   ],
   "source": [
    "len(df1)\n",
    "print(scaler.inverse_transform(df1[-1:]))\n",
    "print(scaler.inverse_transform(lst_output[0:]))"
   ],
   "metadata": {
    "collapsed": false,
    "pycharm": {
     "name": "#%%\n"
    }
   }
  },
  {
   "cell_type": "code",
   "execution_count": 32,
   "outputs": [
    {
     "data": {
      "text/plain": "[<matplotlib.lines.Line2D at 0x24fa8a09730>]"
     },
     "execution_count": 32,
     "metadata": {},
     "output_type": "execute_result"
    },
    {
     "data": {
      "text/plain": "<Figure size 432x288 with 1 Axes>",
      "image/png": "[encoded data removed]"
     },
     "metadata": {
      "needs_background": "light"
     },
     "output_type": "display_data"
    }
   ],
   "source": [
    "plt.plot(day_new,scaler.inverse_transform(df1[len(df1)-100:]))\n",
    "plt.plot(day_pred,scaler.inverse_transform(lst_output))"
   ],
   "metadata": {
    "collapsed": false,
    "pycharm": {
     "name": "#%%\n"
    }
   }
  },
  {
   "cell_type": "code",
   "execution_count": 33,
   "outputs": [
    {
     "data": {
      "text/plain": "[<matplotlib.lines.Line2D at 0x24fa8686790>]"
     },
     "execution_count": 33,
     "metadata": {},
     "output_type": "execute_result"
    },
    {
     "data": {
      "text/plain": "<Figure size 432x288 with 1 Axes>",
      "image/png": "[encoded data removed]"
     },
     "metadata": {
      "needs_background": "light"
     },
     "output_type": "display_data"
    }
   ],
   "source": [
    "df3=df1.tolist()\n",
    "df3.extend(lst_output)\n",
    "plt.plot(df3[1200:])"
   ],
   "metadata": {
    "collapsed": false,
    "pycharm": {
     "name": "#%%\n"
    }
   }
  },
  {
   "cell_type": "code",
   "execution_count": 34,
   "outputs": [],
   "source": [
    "df3=scaler.inverse_transform(df3).tolist()\n"
   ],
   "metadata": {
    "collapsed": false,
    "pycharm": {
     "name": "#%%\n"
    }
   }
  },
  {
   "cell_type": "code",
   "execution_count": 35,
   "outputs": [
    {
     "data": {
      "text/plain": "[<matplotlib.lines.Line2D at 0x24fa8a10340>]"
     },
     "execution_count": 35,
     "metadata": {},
     "output_type": "execute_result"
    },
    {
     "data": {
      "text/plain": "<Figure size 432x288 with 1 Axes>",
      "image/png": "[encoded data removed]"
     },
     "metadata": {
      "needs_background": "light"
     },
     "output_type": "display_data"
    }
   ],
   "source": [
    "plt.plot(df3)\n"
   ],
   "metadata": {
    "collapsed": false,
    "pycharm": {
     "name": "#%%\n"
    }
   }
  },
  {
   "cell_type": "code",
   "execution_count": 36,
   "outputs": [],
   "source": [
    "import pickle\n",
    "\n",
    "# filename = 'model.sav'\n",
    "# pickle.dump(model, open(filename, 'wb'))\n",
    "# tf.keras.models.save_model(model, \"filename.pkl\")\n",
    "# import time\n",
    "# #save model\n",
    "# ts = int(time.time())\n",
    "# file_path = f\"tf-models/lstm/{ts}/\"\n",
    "# model.save(filepath=file_path, save_format='tf')"
   ],
   "metadata": {
    "collapsed": false,
    "pycharm": {
     "name": "#%%\n"
    }
   }
  },
  {
   "cell_type": "code",
   "execution_count": 37,
   "outputs": [],
   "source": [
    "# import tarfile\n",
    "# import os\n",
    "\n",
    "# def tar_folder(output_filename: str, source_dir: str):\n",
    "#     with tarfile.open(output_filename, \"w:gz\") as tar:\n",
    "#         tar.add(source_dir, arcname=os.path.basename(source_dir))\n",
    "\n",
    "# OUT_FILE = 'tf-models-lstm.tar.gz'\n",
    "\n",
    "# SOURCE_FILE = \"tf-models\"\n",
    "\n",
    "# tar_folder(output_filename=OUT_FILE, source_dir=SOURCE_FILE)\n",
    "# print(OUT_FILE)"
   ],
   "metadata": {
    "collapsed": false,
    "pycharm": {
     "name": "#%%\n"
    }
   }
  },
  {
   "cell_type": "code",
   "execution_count": 38,
   "outputs": [],
   "source": [
    "# import sagemaker\n",
    "\n",
    "# sagemaker_session = sagemaker.Session(default_bucket='stocks-models')\n",
    "# upload_data = sagemaker_session.upload_data(path='tf-models-lstm.tar.gz', key_prefix='my_prefix')\n",
    "\n",
    "# print('upload_data : {}'.format(upload_data))"
   ],
   "metadata": {
    "collapsed": false,
    "pycharm": {
     "name": "#%%\n"
    }
   }
  },
  {
   "cell_type": "code",
   "execution_count": 39,
   "outputs": [
    {
     "name": "stdout",
     "output_type": "stream",
     "text": [
      "1652624910\n",
      "2022-05-15 09:28:30\n",
      "NEXT DAY\n",
      "\n",
      "1652711310\n",
      "2022-05-16 09:28:30\n",
      "187.29\n",
      "1655216910\n",
      "2022-05-19 09:28:30\n",
      "{'c': [198.68, 198.81, 198.64, 198.26, 197.77, 197.23, 196.69, 196.17, 195.68, 195.21, 194.78, 194.36, 193.96, 193.56, 193.17, 192.77, 192.38, 191.98, 191.59, 191.19, 190.79, 190.4, 190.0, 189.61, 189.22, 188.83, 188.44, 188.06, 187.67, 187.29], 't': [1652711310, 1652797710, 1652884110, 1652970510, 1653056910, 1653143310, 1653229710, 1653316110, 1653402510, 1653488910, 1653575310, 1653661710, 1653748110, 1653834510, 1653920910, 1654007310, 1654093710, 1654180110, 1654266510, 1654352910, 1654439310, 1654525710, 1654612110, 1654698510, 1654784910, 1654871310, 1654957710, 1655044110, 1655130510, 1655216910]}\n"
     ]
    }
   ],
   "source": [
    "# print(prediction[:50])\n",
    "import time\n",
    "from datetime import datetime\n",
    "\n",
    "SECONDS_IN_DAY = 86400\n",
    "\n",
    "now = int( time.time() )\n",
    "print( now )\n",
    "print(datetime.fromtimestamp(now))\n",
    "\n",
    "print(\"NEXT DAY\\n\")\n",
    "print(now + SECONDS_IN_DAY)\n",
    "print(datetime.fromtimestamp(now + SECONDS_IN_DAY))\n",
    "\n",
    "data_set = {\"c\": [], \"t\": []}\n",
    "inversed_output = scaler.inverse_transform(lst_output)\n",
    "inversed_output.tolist()\n",
    "for i in range(len(inversed_output)):\n",
    "    now = SECONDS_IN_DAY + now\n",
    "    data_set[\"c\"].insert(i, round(float(inversed_output[i]), 2))\n",
    "    data_set[\"t\"].insert(i, int(now))\n",
    "\n",
    "\n",
    "print(data_set.get(\"c\")[-1])\n",
    "print(data_set.get(\"t\")[-1])\n",
    "print(datetime.fromtimestamp(data_set.get(\"t\")[3]))\n",
    "print(data_set)\n",
    "\n",
    "\n",
    "\n",
    "# print(inversed_output)"
   ],
   "metadata": {
    "collapsed": false,
    "pycharm": {
     "name": "#%%\n"
    }
   }
  },
  {
   "cell_type": "code",
   "execution_count": 40,
   "outputs": [],
   "source": [
    "import json\n",
    "with open('../src/stock_json/fb.json', 'w', encoding='utf-8') as f:\n",
    "    json.dump(data_set, f, ensure_ascii=False, indent=4)"
   ],
   "metadata": {
    "collapsed": false,
    "pycharm": {
     "name": "#%%\n"
    }
   }
  },
  {
   "cell_type": "code",
   "execution_count": 40,
   "outputs": [],
   "source": [],
   "metadata": {
    "collapsed": false,
    "pycharm": {
     "name": "#%%\n"
    }
   }
  }
 ],
 "metadata": {
  "kernelspec": {
   "display_name": "Python 3",
   "language": "python",
   "name": "python3"
  },
  "language_info": {
   "codemirror_mode": {
    "name": "ipython",
    "version": 2
   },
   "file_extension": ".py",
   "mimetype": "text/x-python",
   "name": "python",
   "nbconvert_exporter": "python",
   "pygments_lexer": "ipython2",
   "version": "2.7.6"
  }
 },
 "nbformat": 4,
 "nbformat_minor": 0
}