{
 "cells": [
  {
   "cell_type": "code",
   "execution_count": 2,
   "outputs": [
    {
     "name": "stdout",
     "output_type": "stream",
     "text": [
      "Requirement already satisfied: matplotlib==3.5.2 in e:\\conda\\lib\\site-packages (from -r requirements.txt (line 1)) (3.5.2)\n",
      "Requirement already satisfied: numpy==1.22.3 in e:\\conda\\lib\\site-packages (from -r requirements.txt (line 2)) (1.22.3)\n",
      "Requirement already satisfied: pandas==1.4.2 in e:\\conda\\lib\\site-packages (from -r requirements.txt (line 3)) (1.4.2)\n",
      "Requirement already satisfied: scikit_learn==1.1.0 in e:\\conda\\lib\\site-packages (from -r requirements.txt (line 4)) (1.1.0)\n",
      "Requirement already satisfied: tensorflow==2.8.0 in e:\\conda\\lib\\site-packages (from -r requirements.txt (line 5)) (2.8.0)\n",
      "Requirement already satisfied: yfinance==0.1.70 in e:\\conda\\lib\\site-packages (from -r requirements.txt (line 6)) (0.1.70)\n",
      "Requirement already satisfied: cycler>=0.10 in e:\\conda\\lib\\site-packages (from matplotlib==3.5.2->-r requirements.txt (line 1)) (0.11.0)\n",
      "Requirement already satisfied: packaging>=20.0 in e:\\conda\\lib\\site-packages (from matplotlib==3.5.2->-r requirements.txt (line 1)) (21.3)\n",
      "Requirement already satisfied: kiwisolver>=1.0.1 in e:\\conda\\lib\\site-packages (from matplotlib==3.5.2->-r requirements.txt (line 1)) (1.3.2)\n",
      "Requirement already satisfied: python-dateutil>=2.7 in e:\\conda\\lib\\site-packages (from matplotlib==3.5.2->-r requirements.txt (line 1)) (2.8.2)\n",
      "Requirement already satisfied: pyparsing>=2.2.1 in e:\\conda\\lib\\site-packages (from matplotlib==3.5.2->-r requirements.txt (line 1)) (3.0.4)\n",
      "Requirement already satisfied: pillow>=6.2.0 in e:\\conda\\lib\\site-packages (from matplotlib==3.5.2->-r requirements.txt (line 1)) (9.0.1)\n",
      "Requirement already satisfied: fonttools>=4.22.0 in e:\\conda\\lib\\site-packages (from matplotlib==3.5.2->-r requirements.txt (line 1)) (4.25.0)\n",
      "Requirement already satisfied: pytz>=2020.1 in e:\\conda\\lib\\site-packages (from pandas==1.4.2->-r requirements.txt (line 3)) (2021.3)\n",
      "Requirement already satisfied: threadpoolctl>=2.0.0 in e:\\conda\\lib\\site-packages (from scikit_learn==1.1.0->-r requirements.txt (line 4)) (2.2.0)\n",
      "Requirement already satisfied: scipy>=1.3.2 in e:\\conda\\lib\\site-packages (from scikit_learn==1.1.0->-r requirements.txt (line 4)) (1.7.3)\n",
      "Requirement already satisfied: joblib>=1.0.0 in e:\\conda\\lib\\site-packages (from scikit_learn==1.1.0->-r requirements.txt (line 4)) (1.1.0)\n",
      "Requirement already satisfied: google-pasta>=0.1.1 in e:\\conda\\lib\\site-packages (from tensorflow==2.8.0->-r requirements.txt (line 5)) (0.2.0)\n",
      "Requirement already satisfied: six>=1.12.0 in c:\\users\\stephon patton\\appdata\\roaming\\python\\python39\\site-packages (from tensorflow==2.8.0->-r requirements.txt (line 5)) (1.15.0)\n",
      "Requirement already satisfied: flatbuffers>=1.12 in e:\\conda\\lib\\site-packages (from tensorflow==2.8.0->-r requirements.txt (line 5)) (2.0)\n",
      "Requirement already satisfied: keras<2.9,>=2.8.0rc0 in e:\\conda\\lib\\site-packages (from tensorflow==2.8.0->-r requirements.txt (line 5)) (2.8.0)\n",
      "Requirement already satisfied: protobuf>=3.9.2 in e:\\conda\\lib\\site-packages (from tensorflow==2.8.0->-r requirements.txt (line 5)) (3.19.1)\n",
      "Requirement already satisfied: keras-preprocessing>=1.1.1 in e:\\conda\\lib\\site-packages (from tensorflow==2.8.0->-r requirements.txt (line 5)) (1.1.2)\n",
      "Requirement already satisfied: termcolor>=1.1.0 in e:\\conda\\lib\\site-packages (from tensorflow==2.8.0->-r requirements.txt (line 5)) (1.1.0)\n",
      "Requirement already satisfied: opt-einsum>=2.3.2 in e:\\conda\\lib\\site-packages (from tensorflow==2.8.0->-r requirements.txt (line 5)) (3.3.0)\n",
      "Requirement already satisfied: wrapt>=1.11.0 in c:\\users\\stephon patton\\appdata\\roaming\\python\\python39\\site-packages (from tensorflow==2.8.0->-r requirements.txt (line 5)) (1.12.1)\n",
      "Requirement already satisfied: tensorflow-io-gcs-filesystem>=0.23.1 in e:\\conda\\lib\\site-packages (from tensorflow==2.8.0->-r requirements.txt (line 5)) (0.25.0)\n",
      "Requirement already satisfied: tensorboard<2.9,>=2.8 in e:\\conda\\lib\\site-packages (from tensorflow==2.8.0->-r requirements.txt (line 5)) (2.8.0)\n",
      "Requirement already satisfied: tf-estimator-nightly==2.8.0.dev2021122109 in e:\\conda\\lib\\site-packages (from tensorflow==2.8.0->-r requirements.txt (line 5)) (2.8.0.dev2021122109)\n",
      "Requirement already satisfied: typing-extensions>=3.6.6 in e:\\conda\\lib\\site-packages (from tensorflow==2.8.0->-r requirements.txt (line 5)) (4.1.1)\n",
      "Requirement already satisfied: h5py>=2.9.0 in e:\\conda\\lib\\site-packages (from tensorflow==2.8.0->-r requirements.txt (line 5)) (3.6.0)\n",
      "Requirement already satisfied: absl-py>=0.4.0 in e:\\conda\\lib\\site-packages (from tensorflow==2.8.0->-r requirements.txt (line 5)) (1.0.0)\n",
      "Requirement already satisfied: astunparse>=1.6.0 in e:\\conda\\lib\\site-packages (from tensorflow==2.8.0->-r requirements.txt (line 5)) (1.6.3)\n",
      "Requirement already satisfied: grpcio<2.0,>=1.24.3 in e:\\conda\\lib\\site-packages (from tensorflow==2.8.0->-r requirements.txt (line 5)) (1.42.0)\n",
      "Requirement already satisfied: libclang>=9.0.1 in e:\\conda\\lib\\site-packages (from tensorflow==2.8.0->-r requirements.txt (line 5)) (14.0.1)\n",
      "Requirement already satisfied: setuptools in e:\\conda\\lib\\site-packages (from tensorflow==2.8.0->-r requirements.txt (line 5)) (61.2.0)\n",
      "Requirement already satisfied: gast>=0.2.1 in e:\\conda\\lib\\site-packages (from tensorflow==2.8.0->-r requirements.txt (line 5)) (0.5.3)\n",
      "Requirement already satisfied: lxml>=4.5.1 in e:\\conda\\lib\\site-packages (from yfinance==0.1.70->-r requirements.txt (line 6)) (4.8.0)\n",
      "Requirement already satisfied: multitasking>=0.0.7 in e:\\conda\\lib\\site-packages (from yfinance==0.1.70->-r requirements.txt (line 6)) (0.0.10)\n",
      "Requirement already satisfied: requests>=2.26 in e:\\conda\\lib\\site-packages (from yfinance==0.1.70->-r requirements.txt (line 6)) (2.27.1)\n",
      "Requirement already satisfied: wheel<1.0,>=0.23.0 in e:\\conda\\lib\\site-packages (from astunparse>=1.6.0->tensorflow==2.8.0->-r requirements.txt (line 5)) (0.37.1)\n",
      "Requirement already satisfied: urllib3<1.27,>=1.21.1 in e:\\conda\\lib\\site-packages (from requests>=2.26->yfinance==0.1.70->-r requirements.txt (line 6)) (1.26.9)\n",
      "Requirement already satisfied: certifi>=2017.4.17 in e:\\conda\\lib\\site-packages (from requests>=2.26->yfinance==0.1.70->-r requirements.txt (line 6)) (2021.10.8)\n",
      "Requirement already satisfied: charset-normalizer~=2.0.0 in e:\\conda\\lib\\site-packages (from requests>=2.26->yfinance==0.1.70->-r requirements.txt (line 6)) (2.0.4)\n",
      "Requirement already satisfied: idna<4,>=2.5 in e:\\conda\\lib\\site-packages (from requests>=2.26->yfinance==0.1.70->-r requirements.txt (line 6)) (3.3)\n",
      "Requirement already satisfied: markdown>=2.6.8 in e:\\conda\\lib\\site-packages (from tensorboard<2.9,>=2.8->tensorflow==2.8.0->-r requirements.txt (line 5)) (3.3.4)\n",
      "Requirement already satisfied: tensorboard-data-server<0.7.0,>=0.6.0 in e:\\conda\\lib\\site-packages (from tensorboard<2.9,>=2.8->tensorflow==2.8.0->-r requirements.txt (line 5)) (0.6.1)\n",
      "Requirement already satisfied: google-auth-oauthlib<0.5,>=0.4.1 in e:\\conda\\lib\\site-packages (from tensorboard<2.9,>=2.8->tensorflow==2.8.0->-r requirements.txt (line 5)) (0.4.6)\n",
      "Requirement already satisfied: tensorboard-plugin-wit>=1.6.0 in e:\\conda\\lib\\site-packages (from tensorboard<2.9,>=2.8->tensorflow==2.8.0->-r requirements.txt (line 5)) (1.8.1)\n",
      "Requirement already satisfied: werkzeug>=0.11.15 in e:\\conda\\lib\\site-packages (from tensorboard<2.9,>=2.8->tensorflow==2.8.0->-r requirements.txt (line 5)) (2.0.3)\n",
      "Requirement already satisfied: google-auth<3,>=1.6.3 in e:\\conda\\lib\\site-packages (from tensorboard<2.9,>=2.8->tensorflow==2.8.0->-r requirements.txt (line 5)) (1.33.0)\n",
      "Requirement already satisfied: rsa<5,>=3.1.4 in e:\\conda\\lib\\site-packages (from google-auth<3,>=1.6.3->tensorboard<2.9,>=2.8->tensorflow==2.8.0->-r requirements.txt (line 5)) (4.7.2)\n",
      "Requirement already satisfied: cachetools<5.0,>=2.0.0 in e:\\conda\\lib\\site-packages (from google-auth<3,>=1.6.3->tensorboard<2.9,>=2.8->tensorflow==2.8.0->-r requirements.txt (line 5)) (4.2.2)\n",
      "Requirement already satisfied: pyasn1-modules>=0.2.1 in e:\\conda\\lib\\site-packages (from google-auth<3,>=1.6.3->tensorboard<2.9,>=2.8->tensorflow==2.8.0->-r requirements.txt (line 5)) (0.2.8)\n",
      "Requirement already satisfied: requests-oauthlib>=0.7.0 in e:\\conda\\lib\\site-packages (from google-auth-oauthlib<0.5,>=0.4.1->tensorboard<2.9,>=2.8->tensorflow==2.8.0->-r requirements.txt (line 5)) (1.3.1)\n",
      "Requirement already satisfied: pyasn1<0.5.0,>=0.4.6 in e:\\conda\\lib\\site-packages (from pyasn1-modules>=0.2.1->google-auth<3,>=1.6.3->tensorboard<2.9,>=2.8->tensorflow==2.8.0->-r requirements.txt (line 5)) (0.4.8)\n",
      "Requirement already satisfied: oauthlib>=3.0.0 in e:\\conda\\lib\\site-packages (from requests-oauthlib>=0.7.0->google-auth-oauthlib<0.5,>=0.4.1->tensorboard<2.9,>=2.8->tensorflow==2.8.0->-r requirements.txt (line 5)) (3.2.0)\n"
     ]
    }
   ],
   "source": [
    "!pip install -r requirements.txt\n",
    "# !pip install tensorflow yfinance pandas sklearn"
   ],
   "metadata": {
    "collapsed": false,
    "pycharm": {
     "name": "#%%\n"
    }
   }
  },
  {
   "cell_type": "code",
   "execution_count": 3,
   "outputs": [],
   "source": [
    "import pandas as pd\n",
    "import tensorflow as tf\n",
    "import yfinance as yf"
   ],
   "metadata": {
    "collapsed": false,
    "pycharm": {
     "name": "#%%\n"
    }
   }
  },
  {
   "cell_type": "code",
   "execution_count": 4,
   "outputs": [
    {
     "name": "stdout",
     "output_type": "stream",
     "text": [
      "[*********************100%***********************]  1 of 1 completed\n"
     ]
    }
   ],
   "source": [
    "from datetime import datetime, timedelta\n",
    "end_date = datetime.today().strftime('%Y-%m-%d')\n",
    "start_date_dt = datetime.now() - timedelta(days=10*365)\n",
    "start_date = start_date_dt.strftime('%Y-%m-%d')\n",
    "fb = yf.download(\"FB\", start = start_date, end = end_date)"
   ],
   "metadata": {
    "collapsed": false,
    "pycharm": {
     "name": "#%%\n"
    }
   }
  },
  {
   "cell_type": "code",
   "execution_count": 5,
   "outputs": [],
   "source": [
    "df = pd.DataFrame(fb)\n",
    "df1 = df.reset_index()['Close']"
   ],
   "metadata": {
    "collapsed": false,
    "pycharm": {
     "name": "#%%\n"
    }
   }
  },
  {
   "cell_type": "code",
   "execution_count": 6,
   "outputs": [
    {
     "data": {
      "text/plain": "[<matplotlib.lines.Line2D at 0x1a679aab910>]"
     },
     "execution_count": 6,
     "metadata": {},
     "output_type": "execute_result"
    },
    {
     "data": {
      "text/plain": "<Figure size 432x288 with 1 Axes>",
      "image/png": "[encoded data removed]"
     },
     "metadata": {
      "needs_background": "light"
     },
     "output_type": "display_data"
    }
   ],
   "source": [
    "import matplotlib.pyplot as plt\n",
    "plt.plot(df1)"
   ],
   "metadata": {
    "collapsed": false,
    "pycharm": {
     "name": "#%%\n"
    }
   }
  },
  {
   "cell_type": "code",
   "execution_count": 7,
   "outputs": [],
   "source": [
    "import numpy as np\n",
    "from sklearn.preprocessing import MinMaxScaler\n",
    "scaler=MinMaxScaler(feature_range=(0,1))\n",
    "df1 = scaler.fit_transform(np.array(df1).reshape(-1, 1))"
   ],
   "metadata": {
    "collapsed": false,
    "pycharm": {
     "name": "#%%\n"
    }
   }
  },
  {
   "cell_type": "code",
   "execution_count": 8,
   "outputs": [],
   "source": [
    "# Split data\n",
    "train_size = int(len(df1)*.95) # 95%\n",
    "test_size = len(df1) - train_size\n",
    "train, test = df1[0:train_size,:], df1[train_size:len(df1), :1]"
   ],
   "metadata": {
    "collapsed": false,
    "pycharm": {
     "name": "#%%\n"
    }
   }
  },
  {
   "cell_type": "code",
   "execution_count": 9,
   "outputs": [],
   "source": [
    "def create_dataset(data, time_step=1):\n",
    "    dataX, dataY = [], []\n",
    "    for i in range(len(data)-time_step-1):\n",
    "        a = data[i:(i+time_step), 0]\n",
    "        dataX.append(a)\n",
    "        dataY.append(data[i + time_step, 0])\n",
    "    return np.array(dataX), np.array(dataY)"
   ],
   "metadata": {
    "collapsed": false,
    "pycharm": {
     "name": "#%%\n"
    }
   }
  },
  {
   "cell_type": "code",
   "execution_count": 10,
   "outputs": [],
   "source": [
    "time_step = 100\n",
    "X_train, y_train = create_dataset(train, time_step)\n",
    "X_test, y_test = create_dataset(test, time_step)"
   ],
   "metadata": {
    "collapsed": false,
    "pycharm": {
     "name": "#%%\n"
    }
   }
  },
  {
   "cell_type": "code",
   "execution_count": 11,
   "outputs": [
    {
     "name": "stdout",
     "output_type": "stream",
     "text": [
      "(25, 100)\n",
      "(25,)\n"
     ]
    },
    {
     "data": {
      "text/plain": "(None, None)"
     },
     "execution_count": 11,
     "metadata": {},
     "output_type": "execute_result"
    }
   ],
   "source": [
    "print(X_test.shape), print(y_test.shape)"
   ],
   "metadata": {
    "collapsed": false,
    "pycharm": {
     "name": "#%%\n"
    }
   }
  },
  {
   "cell_type": "code",
   "execution_count": 12,
   "outputs": [],
   "source": [
    "# Reshape to be inputted into LSTM\n",
    "X_train = X_train.reshape(X_train.shape[0], X_train.shape[1], 1)\n",
    "X_test = X_test.reshape(X_test.shape[0], X_test.shape[1], 1)"
   ],
   "metadata": {
    "collapsed": false,
    "pycharm": {
     "name": "#%%\n"
    }
   }
  },
  {
   "cell_type": "code",
   "execution_count": 13,
   "outputs": [],
   "source": [
    "# Create Stacked LSTM\n",
    "from tensorflow.keras.models import Sequential\n",
    "from tensorflow.keras.layers import Dense\n",
    "from tensorflow.keras.layers import LSTM\n",
    "from tensorflow.keras.layers import Dropout\n",
    "model = Sequential()\n",
    "model.add(LSTM(50, return_sequences=True, input_shape=(100, 1)))\n",
    "model.add(Dropout(.5))\n",
    "model.add(LSTM(50, return_sequences=True))\n",
    "model.add(LSTM(50, return_sequences=True))\n",
    "model.add(LSTM(50))\n",
    "model.add(Dense(1))\n",
    "model.compile(loss='mean_squared_error', optimizer='adam')"
   ],
   "metadata": {
    "collapsed": false,
    "pycharm": {
     "name": "#%%\n"
    }
   }
  },
  {
   "cell_type": "code",
   "execution_count": 14,
   "outputs": [
    {
     "name": "stdout",
     "output_type": "stream",
     "text": [
      "Model: \"sequential\"\n",
      "_________________________________________________________________\n",
      " Layer (type)                Output Shape              Param #   \n",
      "=================================================================\n",
      " lstm (LSTM)                 (None, 100, 50)           10400     \n",
      "                                                                 \n",
      " dropout (Dropout)           (None, 100, 50)           0         \n",
      "                                                                 \n",
      " lstm_1 (LSTM)               (None, 100, 50)           20200     \n",
      "                                                                 \n",
      " lstm_2 (LSTM)               (None, 100, 50)           20200     \n",
      "                                                                 \n",
      " lstm_3 (LSTM)               (None, 50)                20200     \n",
      "                                                                 \n",
      " dense (Dense)               (None, 1)                 51        \n",
      "                                                                 \n",
      "=================================================================\n",
      "Total params: 71,051\n",
      "Trainable params: 71,051\n",
      "Non-trainable params: 0\n",
      "_________________________________________________________________\n"
     ]
    }
   ],
   "source": [
    "model.summary()"
   ],
   "metadata": {
    "collapsed": false,
    "pycharm": {
     "name": "#%%\n"
    }
   }
  },
  {
   "cell_type": "code",
   "execution_count": 15,
   "outputs": [
    {
     "name": "stdout",
     "output_type": "stream",
     "text": [
      "Epoch 1/100\n",
      "10/10 [==============================] - 10s 469ms/step - loss: 0.0590 - val_loss: 0.0092\n",
      "Epoch 2/100\n",
      "10/10 [==============================] - 3s 320ms/step - loss: 0.0145 - val_loss: 0.0216\n",
      "Epoch 3/100\n",
      "10/10 [==============================] - 4s 356ms/step - loss: 0.0049 - val_loss: 0.0014\n",
      "Epoch 4/100\n",
      "10/10 [==============================] - 4s 367ms/step - loss: 0.0020 - val_loss: 0.0028\n",
      "Epoch 5/100\n",
      "10/10 [==============================] - 4s 377ms/step - loss: 0.0017 - val_loss: 0.0075\n",
      "Epoch 6/100\n",
      "10/10 [==============================] - 4s 371ms/step - loss: 0.0014 - val_loss: 0.0055\n",
      "Epoch 7/100\n",
      "10/10 [==============================] - 4s 365ms/step - loss: 0.0012 - val_loss: 0.0057\n",
      "Epoch 8/100\n",
      "10/10 [==============================] - 4s 380ms/step - loss: 0.0012 - val_loss: 0.0035\n",
      "Epoch 9/100\n",
      "10/10 [==============================] - 4s 389ms/step - loss: 0.0012 - val_loss: 0.0035\n",
      "Epoch 10/100\n",
      "10/10 [==============================] - 4s 382ms/step - loss: 0.0012 - val_loss: 0.0034\n",
      "Epoch 11/100\n",
      "10/10 [==============================] - 4s 369ms/step - loss: 0.0011 - val_loss: 0.0034\n",
      "Epoch 12/100\n",
      "10/10 [==============================] - 4s 379ms/step - loss: 0.0011 - val_loss: 0.0034\n",
      "Epoch 13/100\n",
      "10/10 [==============================] - 4s 376ms/step - loss: 0.0011 - val_loss: 0.0036\n",
      "Epoch 14/100\n",
      "10/10 [==============================] - 4s 381ms/step - loss: 0.0011 - val_loss: 0.0033\n",
      "Epoch 15/100\n",
      "10/10 [==============================] - 4s 374ms/step - loss: 0.0011 - val_loss: 0.0050\n",
      "Epoch 16/100\n",
      "10/10 [==============================] - 4s 378ms/step - loss: 0.0012 - val_loss: 0.0055\n",
      "Epoch 17/100\n",
      "10/10 [==============================] - 4s 377ms/step - loss: 0.0011 - val_loss: 0.0033\n",
      "Epoch 18/100\n",
      "10/10 [==============================] - 4s 370ms/step - loss: 0.0011 - val_loss: 0.0028\n",
      "Epoch 19/100\n",
      "10/10 [==============================] - 4s 378ms/step - loss: 0.0011 - val_loss: 0.0028\n",
      "Epoch 20/100\n",
      "10/10 [==============================] - 4s 378ms/step - loss: 0.0011 - val_loss: 0.0029\n",
      "Epoch 21/100\n",
      "10/10 [==============================] - 4s 378ms/step - loss: 0.0011 - val_loss: 0.0034\n",
      "Epoch 22/100\n",
      "10/10 [==============================] - 4s 374ms/step - loss: 0.0011 - val_loss: 0.0055\n",
      "Epoch 23/100\n",
      "10/10 [==============================] - 4s 372ms/step - loss: 9.5354e-04 - val_loss: 0.0034\n",
      "Epoch 24/100\n",
      "10/10 [==============================] - 4s 370ms/step - loss: 9.3615e-04 - val_loss: 0.0040\n",
      "Epoch 25/100\n",
      "10/10 [==============================] - 4s 369ms/step - loss: 9.6435e-04 - val_loss: 0.0036\n",
      "Epoch 26/100\n",
      "10/10 [==============================] - 4s 372ms/step - loss: 9.8889e-04 - val_loss: 0.0030\n",
      "Epoch 27/100\n",
      "10/10 [==============================] - 4s 368ms/step - loss: 9.7318e-04 - val_loss: 0.0041\n",
      "Epoch 28/100\n",
      "10/10 [==============================] - 4s 375ms/step - loss: 9.8497e-04 - val_loss: 0.0024\n",
      "Epoch 29/100\n",
      "10/10 [==============================] - 4s 374ms/step - loss: 9.2135e-04 - val_loss: 0.0029\n",
      "Epoch 30/100\n",
      "10/10 [==============================] - 4s 373ms/step - loss: 9.4827e-04 - val_loss: 0.0057\n",
      "Epoch 31/100\n",
      "10/10 [==============================] - 4s 374ms/step - loss: 9.8749e-04 - val_loss: 0.0031\n",
      "Epoch 32/100\n",
      "10/10 [==============================] - 4s 372ms/step - loss: 8.8295e-04 - val_loss: 0.0026\n",
      "Epoch 33/100\n",
      "10/10 [==============================] - 4s 375ms/step - loss: 9.5848e-04 - val_loss: 0.0038\n",
      "Epoch 34/100\n",
      "10/10 [==============================] - 4s 370ms/step - loss: 8.5999e-04 - val_loss: 0.0045\n",
      "Epoch 35/100\n",
      "10/10 [==============================] - 4s 370ms/step - loss: 8.6456e-04 - val_loss: 0.0037\n",
      "Epoch 36/100\n",
      "10/10 [==============================] - 4s 375ms/step - loss: 8.3963e-04 - val_loss: 0.0028\n",
      "Epoch 37/100\n",
      "10/10 [==============================] - 4s 375ms/step - loss: 8.9738e-04 - val_loss: 0.0041\n",
      "Epoch 38/100\n",
      "10/10 [==============================] - 4s 373ms/step - loss: 8.5312e-04 - val_loss: 0.0040\n",
      "Epoch 39/100\n",
      "10/10 [==============================] - 4s 381ms/step - loss: 8.4055e-04 - val_loss: 0.0035\n",
      "Epoch 40/100\n",
      "10/10 [==============================] - 4s 371ms/step - loss: 7.9784e-04 - val_loss: 0.0021\n",
      "Epoch 41/100\n",
      "10/10 [==============================] - 4s 377ms/step - loss: 9.3845e-04 - val_loss: 0.0043\n",
      "Epoch 42/100\n",
      "10/10 [==============================] - 4s 377ms/step - loss: 8.5095e-04 - val_loss: 0.0021\n",
      "Epoch 43/100\n",
      "10/10 [==============================] - 4s 373ms/step - loss: 9.4487e-04 - val_loss: 0.0031\n",
      "Epoch 44/100\n",
      "10/10 [==============================] - 4s 378ms/step - loss: 8.2681e-04 - val_loss: 0.0038\n",
      "Epoch 45/100\n",
      "10/10 [==============================] - 4s 383ms/step - loss: 8.1485e-04 - val_loss: 0.0033\n",
      "Epoch 46/100\n",
      "10/10 [==============================] - 4s 372ms/step - loss: 8.2957e-04 - val_loss: 0.0025\n",
      "Epoch 47/100\n",
      "10/10 [==============================] - 4s 376ms/step - loss: 7.5582e-04 - val_loss: 0.0038\n",
      "Epoch 48/100\n",
      "10/10 [==============================] - 4s 379ms/step - loss: 7.3746e-04 - val_loss: 0.0036\n",
      "Epoch 49/100\n",
      "10/10 [==============================] - 4s 374ms/step - loss: 7.1791e-04 - val_loss: 0.0038\n",
      "Epoch 50/100\n",
      "10/10 [==============================] - 4s 388ms/step - loss: 7.1250e-04 - val_loss: 0.0025\n",
      "Epoch 51/100\n",
      "10/10 [==============================] - 4s 372ms/step - loss: 7.9097e-04 - val_loss: 0.0040\n",
      "Epoch 52/100\n",
      "10/10 [==============================] - 4s 383ms/step - loss: 8.2654e-04 - val_loss: 0.0036\n",
      "Epoch 53/100\n",
      "10/10 [==============================] - 4s 383ms/step - loss: 9.6996e-04 - val_loss: 0.0025\n",
      "Epoch 54/100\n",
      "10/10 [==============================] - 4s 382ms/step - loss: 8.0594e-04 - val_loss: 0.0033\n",
      "Epoch 55/100\n",
      "10/10 [==============================] - 4s 381ms/step - loss: 8.1248e-04 - val_loss: 0.0029\n",
      "Epoch 56/100\n",
      "10/10 [==============================] - 4s 380ms/step - loss: 7.2794e-04 - val_loss: 0.0029\n",
      "Epoch 57/100\n",
      "10/10 [==============================] - 4s 372ms/step - loss: 7.0009e-04 - val_loss: 0.0042\n",
      "Epoch 58/100\n",
      "10/10 [==============================] - 4s 385ms/step - loss: 7.4490e-04 - val_loss: 0.0024\n",
      "Epoch 59/100\n",
      "10/10 [==============================] - 4s 380ms/step - loss: 7.0485e-04 - val_loss: 0.0034\n",
      "Epoch 60/100\n",
      "10/10 [==============================] - 4s 386ms/step - loss: 6.7513e-04 - val_loss: 0.0038\n",
      "Epoch 61/100\n",
      "10/10 [==============================] - 4s 380ms/step - loss: 6.5857e-04 - val_loss: 0.0024\n",
      "Epoch 62/100\n",
      "10/10 [==============================] - 4s 375ms/step - loss: 6.6808e-04 - val_loss: 0.0027\n",
      "Epoch 63/100\n",
      "10/10 [==============================] - 4s 379ms/step - loss: 6.9476e-04 - val_loss: 0.0045\n",
      "Epoch 64/100\n",
      "10/10 [==============================] - 4s 388ms/step - loss: 6.8279e-04 - val_loss: 0.0033\n",
      "Epoch 65/100\n",
      "10/10 [==============================] - 4s 387ms/step - loss: 6.9028e-04 - val_loss: 0.0018\n",
      "Epoch 66/100\n",
      "10/10 [==============================] - 4s 381ms/step - loss: 9.7551e-04 - val_loss: 0.0037\n",
      "Epoch 67/100\n",
      "10/10 [==============================] - 4s 389ms/step - loss: 9.3496e-04 - val_loss: 0.0032\n",
      "Epoch 68/100\n",
      "10/10 [==============================] - 4s 379ms/step - loss: 8.4875e-04 - val_loss: 0.0022\n",
      "Epoch 69/100\n",
      "10/10 [==============================] - 4s 392ms/step - loss: 8.6647e-04 - val_loss: 0.0038\n",
      "Epoch 70/100\n",
      "10/10 [==============================] - 4s 384ms/step - loss: 7.1335e-04 - val_loss: 0.0032\n",
      "Epoch 71/100\n",
      "10/10 [==============================] - 4s 388ms/step - loss: 6.7535e-04 - val_loss: 0.0032\n",
      "Epoch 72/100\n",
      "10/10 [==============================] - 4s 387ms/step - loss: 6.2322e-04 - val_loss: 0.0028\n",
      "Epoch 73/100\n",
      "10/10 [==============================] - 4s 382ms/step - loss: 6.2298e-04 - val_loss: 0.0029\n",
      "Epoch 74/100\n",
      "10/10 [==============================] - 4s 376ms/step - loss: 6.0729e-04 - val_loss: 0.0032\n",
      "Epoch 75/100\n",
      "10/10 [==============================] - 4s 377ms/step - loss: 6.0466e-04 - val_loss: 0.0031\n",
      "Epoch 76/100\n",
      "10/10 [==============================] - 4s 383ms/step - loss: 6.6713e-04 - val_loss: 0.0022\n",
      "Epoch 77/100\n",
      "10/10 [==============================] - 4s 379ms/step - loss: 6.5555e-04 - val_loss: 0.0034\n",
      "Epoch 78/100\n",
      "10/10 [==============================] - 4s 372ms/step - loss: 6.0460e-04 - val_loss: 0.0035\n",
      "Epoch 79/100\n",
      "10/10 [==============================] - 4s 379ms/step - loss: 6.0206e-04 - val_loss: 0.0032\n",
      "Epoch 80/100\n",
      "10/10 [==============================] - 4s 382ms/step - loss: 6.0678e-04 - val_loss: 0.0026\n",
      "Epoch 81/100\n",
      "10/10 [==============================] - 4s 390ms/step - loss: 6.0915e-04 - val_loss: 0.0027\n",
      "Epoch 82/100\n",
      "10/10 [==============================] - 4s 385ms/step - loss: 6.3587e-04 - val_loss: 0.0038\n",
      "Epoch 83/100\n",
      "10/10 [==============================] - 4s 382ms/step - loss: 6.0474e-04 - val_loss: 0.0026\n",
      "Epoch 84/100\n",
      "10/10 [==============================] - 4s 377ms/step - loss: 5.9733e-04 - val_loss: 0.0033\n",
      "Epoch 85/100\n",
      "10/10 [==============================] - 4s 375ms/step - loss: 5.8738e-04 - val_loss: 0.0026\n",
      "Epoch 86/100\n",
      "10/10 [==============================] - 4s 380ms/step - loss: 5.7700e-04 - val_loss: 0.0034\n",
      "Epoch 87/100\n",
      "10/10 [==============================] - 4s 381ms/step - loss: 6.0873e-04 - val_loss: 0.0022\n",
      "Epoch 88/100\n",
      "10/10 [==============================] - 4s 377ms/step - loss: 6.3068e-04 - val_loss: 0.0023\n",
      "Epoch 89/100\n",
      "10/10 [==============================] - 4s 371ms/step - loss: 5.5011e-04 - val_loss: 0.0033\n",
      "Epoch 90/100\n",
      "10/10 [==============================] - 4s 376ms/step - loss: 5.5125e-04 - val_loss: 0.0030\n",
      "Epoch 91/100\n",
      "10/10 [==============================] - 4s 378ms/step - loss: 5.7751e-04 - val_loss: 0.0026\n",
      "Epoch 92/100\n",
      "10/10 [==============================] - 4s 377ms/step - loss: 6.3350e-04 - val_loss: 0.0039\n",
      "Epoch 93/100\n",
      "10/10 [==============================] - 4s 375ms/step - loss: 5.6287e-04 - val_loss: 0.0021\n",
      "Epoch 94/100\n",
      "10/10 [==============================] - 4s 371ms/step - loss: 6.6896e-04 - val_loss: 0.0039\n",
      "Epoch 95/100\n",
      "10/10 [==============================] - 4s 374ms/step - loss: 6.1840e-04 - val_loss: 0.0027\n",
      "Epoch 96/100\n",
      "10/10 [==============================] - 4s 374ms/step - loss: 6.1679e-04 - val_loss: 0.0025\n",
      "Epoch 97/100\n",
      "10/10 [==============================] - 4s 378ms/step - loss: 5.6966e-04 - val_loss: 0.0026\n",
      "Epoch 98/100\n",
      "10/10 [==============================] - 4s 380ms/step - loss: 5.9251e-04 - val_loss: 0.0027\n",
      "Epoch 99/100\n",
      "10/10 [==============================] - 4s 379ms/step - loss: 5.5951e-04 - val_loss: 0.0024\n",
      "Epoch 100/100\n",
      "10/10 [==============================] - 4s 379ms/step - loss: 5.2170e-04 - val_loss: 0.0024\n"
     ]
    },
    {
     "data": {
      "text/plain": "<keras.callbacks.History at 0x1a67f2e50a0>"
     },
     "execution_count": 15,
     "metadata": {},
     "output_type": "execute_result"
    }
   ],
   "source": [
    "model.fit(X_train, y_train, validation_data=(X_test, y_test), epochs=100, batch_size=250, verbose=1)"
   ],
   "metadata": {
    "collapsed": false,
    "pycharm": {
     "name": "#%%\n"
    }
   }
  },
  {
   "cell_type": "code",
   "execution_count": 16,
   "outputs": [],
   "source": [
    "prediction = model.predict(X_train)\n",
    "test_prediction = model.predict(X_test)"
   ],
   "metadata": {
    "collapsed": false,
    "pycharm": {
     "name": "#%%\n"
    }
   }
  },
  {
   "cell_type": "code",
   "execution_count": 17,
   "outputs": [],
   "source": [
    "prediction = scaler.inverse_transform(prediction)\n",
    "test_prediction = scaler.inverse_transform(test_prediction)"
   ],
   "metadata": {
    "collapsed": false,
    "pycharm": {
     "name": "#%%\n"
    }
   }
  },
  {
   "cell_type": "code",
   "execution_count": 18,
   "outputs": [
    {
     "data": {
      "text/plain": "168.4582491803923"
     },
     "execution_count": 18,
     "metadata": {},
     "output_type": "execute_result"
    }
   ],
   "source": [
    "import math\n",
    "from sklearn.metrics import mean_squared_error\n",
    "math.sqrt(mean_squared_error(y_train, prediction))"
   ],
   "metadata": {
    "collapsed": false,
    "pycharm": {
     "name": "#%%\n"
    }
   }
  },
  {
   "cell_type": "code",
   "execution_count": 19,
   "outputs": [
    {
     "data": {
      "text/plain": "207.4924977159398"
     },
     "execution_count": 19,
     "metadata": {},
     "output_type": "execute_result"
    }
   ],
   "source": [
    "math.sqrt(mean_squared_error(y_test, test_prediction))"
   ],
   "metadata": {
    "collapsed": false,
    "pycharm": {
     "name": "#%%\n"
    }
   }
  },
  {
   "cell_type": "code",
   "execution_count": 21,
   "outputs": [
    {
     "data": {
      "text/plain": "(1, 100)"
     },
     "execution_count": 21,
     "metadata": {},
     "output_type": "execute_result"
    }
   ],
   "source": [
    "x_input = test[len(test)-100:].reshape(1, -1)\n",
    "x_input.shape"
   ],
   "metadata": {
    "collapsed": false,
    "pycharm": {
     "name": "#%%\n"
    }
   }
  },
  {
   "cell_type": "code",
   "execution_count": 22,
   "outputs": [],
   "source": [
    "temp_input = list(x_input)\n",
    "temp_input = temp_input[0].tolist()"
   ],
   "metadata": {
    "collapsed": false,
    "pycharm": {
     "name": "#%%\n"
    }
   }
  },
  {
   "cell_type": "code",
   "execution_count": 23,
   "outputs": [
    {
     "name": "stdout",
     "output_type": "stream",
     "text": [
      "1 day input [0.89233093 0.89622717 0.8742489  0.88025796 0.87474278 0.8408287\n",
      " 0.86357524 0.8617369  0.85152974 0.86881603 0.86577038 0.84716701\n",
      " 0.86203869 0.82431061 0.82826177 0.81994788 0.78320763 0.79840855\n",
      " 0.77492111 0.75977503 0.7598025  0.77920153 0.81089317 0.8266429\n",
      " 0.83761835 0.60373165 0.60189327 0.56847306 0.55549457 0.58792703\n",
      " 0.57714367 0.55376597 0.54868981 0.55774456 0.54550692 0.52127867\n",
      " 0.51702568 0.50583072 0.49587049 0.52097684 0.52887913 0.53038826\n",
      " 0.50969957 0.5223762  0.50827275 0.50028811 0.46574291 0.47348058\n",
      " 0.49600769 0.48698041 0.46612705 0.46343808 0.47825491 0.51008371\n",
      " 0.52163534 0.54536976 0.53165046 0.54580875 0.53705587 0.55382086\n",
      " 0.55999454 0.56485115 0.58205517 0.57654002 0.56147621 0.56830844\n",
      " 0.59311292 0.587488   0.56405545 0.56309508 0.5613939  0.54528745\n",
      " 0.53892167 0.54125397 0.52805597 0.52967488 0.54761971 0.5012759\n",
      " 0.46738925 0.45652354 0.46442587 0.44785293 0.43138977 0.51584579\n",
      " 0.5014131  0.53066267 0.53313212 0.56435727 0.52284265 0.51046785\n",
      " 0.48972427 0.4936754  0.46922763 0.47608728 0.49633694 0.50023322\n",
      " 0.50731239 0.47883114 0.47622444 0.50251168]\n",
      "1 day output [[0.5007581]]\n",
      "2 day input [0.89622717 0.8742489  0.88025796 0.87474278 0.8408287  0.86357524\n",
      " 0.8617369  0.85152974 0.86881603 0.86577038 0.84716701 0.86203869\n",
      " 0.82431061 0.82826177 0.81994788 0.78320763 0.79840855 0.77492111\n",
      " 0.75977503 0.7598025  0.77920153 0.81089317 0.8266429  0.83761835\n",
      " 0.60373165 0.60189327 0.56847306 0.55549457 0.58792703 0.57714367\n",
      " 0.55376597 0.54868981 0.55774456 0.54550692 0.52127867 0.51702568\n",
      " 0.50583072 0.49587049 0.52097684 0.52887913 0.53038826 0.50969957\n",
      " 0.5223762  0.50827275 0.50028811 0.46574291 0.47348058 0.49600769\n",
      " 0.48698041 0.46612705 0.46343808 0.47825491 0.51008371 0.52163534\n",
      " 0.54536976 0.53165046 0.54580875 0.53705587 0.55382086 0.55999454\n",
      " 0.56485115 0.58205517 0.57654002 0.56147621 0.56830844 0.59311292\n",
      " 0.587488   0.56405545 0.56309508 0.5613939  0.54528745 0.53892167\n",
      " 0.54125397 0.52805597 0.52967488 0.54761971 0.5012759  0.46738925\n",
      " 0.45652354 0.46442587 0.44785293 0.43138977 0.51584579 0.5014131\n",
      " 0.53066267 0.53313212 0.56435727 0.52284265 0.51046785 0.48972427\n",
      " 0.4936754  0.46922763 0.47608728 0.49633694 0.50023322 0.50731239\n",
      " 0.47883114 0.47622444 0.50251168 0.50075811]\n",
      "2 day output [[0.4991361]]\n",
      "3 day input [0.8742489  0.88025796 0.87474278 0.8408287  0.86357524 0.8617369\n",
      " 0.85152974 0.86881603 0.86577038 0.84716701 0.86203869 0.82431061\n",
      " 0.82826177 0.81994788 0.78320763 0.79840855 0.77492111 0.75977503\n",
      " 0.7598025  0.77920153 0.81089317 0.8266429  0.83761835 0.60373165\n",
      " 0.60189327 0.56847306 0.55549457 0.58792703 0.57714367 0.55376597\n",
      " 0.54868981 0.55774456 0.54550692 0.52127867 0.51702568 0.50583072\n",
      " 0.49587049 0.52097684 0.52887913 0.53038826 0.50969957 0.5223762\n",
      " 0.50827275 0.50028811 0.46574291 0.47348058 0.49600769 0.48698041\n",
      " 0.46612705 0.46343808 0.47825491 0.51008371 0.52163534 0.54536976\n",
      " 0.53165046 0.54580875 0.53705587 0.55382086 0.55999454 0.56485115\n",
      " 0.58205517 0.57654002 0.56147621 0.56830844 0.59311292 0.587488\n",
      " 0.56405545 0.56309508 0.5613939  0.54528745 0.53892167 0.54125397\n",
      " 0.52805597 0.52967488 0.54761971 0.5012759  0.46738925 0.45652354\n",
      " 0.46442587 0.44785293 0.43138977 0.51584579 0.5014131  0.53066267\n",
      " 0.53313212 0.56435727 0.52284265 0.51046785 0.48972427 0.4936754\n",
      " 0.46922763 0.47608728 0.49633694 0.50023322 0.50731239 0.47883114\n",
      " 0.47622444 0.50251168 0.50075811 0.49913609]\n",
      "3 day output [[0.49781135]]\n",
      "4 day input [0.88025796 0.87474278 0.8408287  0.86357524 0.8617369  0.85152974\n",
      " 0.86881603 0.86577038 0.84716701 0.86203869 0.82431061 0.82826177\n",
      " 0.81994788 0.78320763 0.79840855 0.77492111 0.75977503 0.7598025\n",
      " 0.77920153 0.81089317 0.8266429  0.83761835 0.60373165 0.60189327\n",
      " 0.56847306 0.55549457 0.58792703 0.57714367 0.55376597 0.54868981\n",
      " 0.55774456 0.54550692 0.52127867 0.51702568 0.50583072 0.49587049\n",
      " 0.52097684 0.52887913 0.53038826 0.50969957 0.5223762  0.50827275\n",
      " 0.50028811 0.46574291 0.47348058 0.49600769 0.48698041 0.46612705\n",
      " 0.46343808 0.47825491 0.51008371 0.52163534 0.54536976 0.53165046\n",
      " 0.54580875 0.53705587 0.55382086 0.55999454 0.56485115 0.58205517\n",
      " 0.57654002 0.56147621 0.56830844 0.59311292 0.587488   0.56405545\n",
      " 0.56309508 0.5613939  0.54528745 0.53892167 0.54125397 0.52805597\n",
      " 0.52967488 0.54761971 0.5012759  0.46738925 0.45652354 0.46442587\n",
      " 0.44785293 0.43138977 0.51584579 0.5014131  0.53066267 0.53313212\n",
      " 0.56435727 0.52284265 0.51046785 0.48972427 0.4936754  0.46922763\n",
      " 0.47608728 0.49633694 0.50023322 0.50731239 0.47883114 0.47622444\n",
      " 0.50251168 0.50075811 0.49913609 0.49781135]\n",
      "4 day output [[0.4968486]]\n",
      "5 day input [0.87474278 0.8408287  0.86357524 0.8617369  0.85152974 0.86881603\n",
      " 0.86577038 0.84716701 0.86203869 0.82431061 0.82826177 0.81994788\n",
      " 0.78320763 0.79840855 0.77492111 0.75977503 0.7598025  0.77920153\n",
      " 0.81089317 0.8266429  0.83761835 0.60373165 0.60189327 0.56847306\n",
      " 0.55549457 0.58792703 0.57714367 0.55376597 0.54868981 0.55774456\n",
      " 0.54550692 0.52127867 0.51702568 0.50583072 0.49587049 0.52097684\n",
      " 0.52887913 0.53038826 0.50969957 0.5223762  0.50827275 0.50028811\n",
      " 0.46574291 0.47348058 0.49600769 0.48698041 0.46612705 0.46343808\n",
      " 0.47825491 0.51008371 0.52163534 0.54536976 0.53165046 0.54580875\n",
      " 0.53705587 0.55382086 0.55999454 0.56485115 0.58205517 0.57654002\n",
      " 0.56147621 0.56830844 0.59311292 0.587488   0.56405545 0.56309508\n",
      " 0.5613939  0.54528745 0.53892167 0.54125397 0.52805597 0.52967488\n",
      " 0.54761971 0.5012759  0.46738925 0.45652354 0.46442587 0.44785293\n",
      " 0.43138977 0.51584579 0.5014131  0.53066267 0.53313212 0.56435727\n",
      " 0.52284265 0.51046785 0.48972427 0.4936754  0.46922763 0.47608728\n",
      " 0.49633694 0.50023322 0.50731239 0.47883114 0.47622444 0.50251168\n",
      " 0.50075811 0.49913609 0.49781135 0.49684861]\n",
      "5 day output [[0.4962374]]\n",
      "6 day input [0.8408287  0.86357524 0.8617369  0.85152974 0.86881603 0.86577038\n",
      " 0.84716701 0.86203869 0.82431061 0.82826177 0.81994788 0.78320763\n",
      " 0.79840855 0.77492111 0.75977503 0.7598025  0.77920153 0.81089317\n",
      " 0.8266429  0.83761835 0.60373165 0.60189327 0.56847306 0.55549457\n",
      " 0.58792703 0.57714367 0.55376597 0.54868981 0.55774456 0.54550692\n",
      " 0.52127867 0.51702568 0.50583072 0.49587049 0.52097684 0.52887913\n",
      " 0.53038826 0.50969957 0.5223762  0.50827275 0.50028811 0.46574291\n",
      " 0.47348058 0.49600769 0.48698041 0.46612705 0.46343808 0.47825491\n",
      " 0.51008371 0.52163534 0.54536976 0.53165046 0.54580875 0.53705587\n",
      " 0.55382086 0.55999454 0.56485115 0.58205517 0.57654002 0.56147621\n",
      " 0.56830844 0.59311292 0.587488   0.56405545 0.56309508 0.5613939\n",
      " 0.54528745 0.53892167 0.54125397 0.52805597 0.52967488 0.54761971\n",
      " 0.5012759  0.46738925 0.45652354 0.46442587 0.44785293 0.43138977\n",
      " 0.51584579 0.5014131  0.53066267 0.53313212 0.56435727 0.52284265\n",
      " 0.51046785 0.48972427 0.4936754  0.46922763 0.47608728 0.49633694\n",
      " 0.50023322 0.50731239 0.47883114 0.47622444 0.50251168 0.50075811\n",
      " 0.49913609 0.49781135 0.49684861 0.4962374 ]\n",
      "6 day output [[0.49592268]]\n",
      "7 day input [0.86357524 0.8617369  0.85152974 0.86881603 0.86577038 0.84716701\n",
      " 0.86203869 0.82431061 0.82826177 0.81994788 0.78320763 0.79840855\n",
      " 0.77492111 0.75977503 0.7598025  0.77920153 0.81089317 0.8266429\n",
      " 0.83761835 0.60373165 0.60189327 0.56847306 0.55549457 0.58792703\n",
      " 0.57714367 0.55376597 0.54868981 0.55774456 0.54550692 0.52127867\n",
      " 0.51702568 0.50583072 0.49587049 0.52097684 0.52887913 0.53038826\n",
      " 0.50969957 0.5223762  0.50827275 0.50028811 0.46574291 0.47348058\n",
      " 0.49600769 0.48698041 0.46612705 0.46343808 0.47825491 0.51008371\n",
      " 0.52163534 0.54536976 0.53165046 0.54580875 0.53705587 0.55382086\n",
      " 0.55999454 0.56485115 0.58205517 0.57654002 0.56147621 0.56830844\n",
      " 0.59311292 0.587488   0.56405545 0.56309508 0.5613939  0.54528745\n",
      " 0.53892167 0.54125397 0.52805597 0.52967488 0.54761971 0.5012759\n",
      " 0.46738925 0.45652354 0.46442587 0.44785293 0.43138977 0.51584579\n",
      " 0.5014131  0.53066267 0.53313212 0.56435727 0.52284265 0.51046785\n",
      " 0.48972427 0.4936754  0.46922763 0.47608728 0.49633694 0.50023322\n",
      " 0.50731239 0.47883114 0.47622444 0.50251168 0.50075811 0.49913609\n",
      " 0.49781135 0.49684861 0.4962374  0.49592268]\n",
      "7 day output [[0.4958316]]\n",
      "8 day input [0.8617369  0.85152974 0.86881603 0.86577038 0.84716701 0.86203869\n",
      " 0.82431061 0.82826177 0.81994788 0.78320763 0.79840855 0.77492111\n",
      " 0.75977503 0.7598025  0.77920153 0.81089317 0.8266429  0.83761835\n",
      " 0.60373165 0.60189327 0.56847306 0.55549457 0.58792703 0.57714367\n",
      " 0.55376597 0.54868981 0.55774456 0.54550692 0.52127867 0.51702568\n",
      " 0.50583072 0.49587049 0.52097684 0.52887913 0.53038826 0.50969957\n",
      " 0.5223762  0.50827275 0.50028811 0.46574291 0.47348058 0.49600769\n",
      " 0.48698041 0.46612705 0.46343808 0.47825491 0.51008371 0.52163534\n",
      " 0.54536976 0.53165046 0.54580875 0.53705587 0.55382086 0.55999454\n",
      " 0.56485115 0.58205517 0.57654002 0.56147621 0.56830844 0.59311292\n",
      " 0.587488   0.56405545 0.56309508 0.5613939  0.54528745 0.53892167\n",
      " 0.54125397 0.52805597 0.52967488 0.54761971 0.5012759  0.46738925\n",
      " 0.45652354 0.46442587 0.44785293 0.43138977 0.51584579 0.5014131\n",
      " 0.53066267 0.53313212 0.56435727 0.52284265 0.51046785 0.48972427\n",
      " 0.4936754  0.46922763 0.47608728 0.49633694 0.50023322 0.50731239\n",
      " 0.47883114 0.47622444 0.50251168 0.50075811 0.49913609 0.49781135\n",
      " 0.49684861 0.4962374  0.49592268 0.49583161]\n",
      "8 day output [[0.49589136]]\n",
      "9 day input [0.85152974 0.86881603 0.86577038 0.84716701 0.86203869 0.82431061\n",
      " 0.82826177 0.81994788 0.78320763 0.79840855 0.77492111 0.75977503\n",
      " 0.7598025  0.77920153 0.81089317 0.8266429  0.83761835 0.60373165\n",
      " 0.60189327 0.56847306 0.55549457 0.58792703 0.57714367 0.55376597\n",
      " 0.54868981 0.55774456 0.54550692 0.52127867 0.51702568 0.50583072\n",
      " 0.49587049 0.52097684 0.52887913 0.53038826 0.50969957 0.5223762\n",
      " 0.50827275 0.50028811 0.46574291 0.47348058 0.49600769 0.48698041\n",
      " 0.46612705 0.46343808 0.47825491 0.51008371 0.52163534 0.54536976\n",
      " 0.53165046 0.54580875 0.53705587 0.55382086 0.55999454 0.56485115\n",
      " 0.58205517 0.57654002 0.56147621 0.56830844 0.59311292 0.587488\n",
      " 0.56405545 0.56309508 0.5613939  0.54528745 0.53892167 0.54125397\n",
      " 0.52805597 0.52967488 0.54761971 0.5012759  0.46738925 0.45652354\n",
      " 0.46442587 0.44785293 0.43138977 0.51584579 0.5014131  0.53066267\n",
      " 0.53313212 0.56435727 0.52284265 0.51046785 0.48972427 0.4936754\n",
      " 0.46922763 0.47608728 0.49633694 0.50023322 0.50731239 0.47883114\n",
      " 0.47622444 0.50251168 0.50075811 0.49913609 0.49781135 0.49684861\n",
      " 0.4962374  0.49592268 0.49583161 0.49589136]\n",
      "9 day output [[0.49603972]]\n",
      "10 day input [0.86881603 0.86577038 0.84716701 0.86203869 0.82431061 0.82826177\n",
      " 0.81994788 0.78320763 0.79840855 0.77492111 0.75977503 0.7598025\n",
      " 0.77920153 0.81089317 0.8266429  0.83761835 0.60373165 0.60189327\n",
      " 0.56847306 0.55549457 0.58792703 0.57714367 0.55376597 0.54868981\n",
      " 0.55774456 0.54550692 0.52127867 0.51702568 0.50583072 0.49587049\n",
      " 0.52097684 0.52887913 0.53038826 0.50969957 0.5223762  0.50827275\n",
      " 0.50028811 0.46574291 0.47348058 0.49600769 0.48698041 0.46612705\n",
      " 0.46343808 0.47825491 0.51008371 0.52163534 0.54536976 0.53165046\n",
      " 0.54580875 0.53705587 0.55382086 0.55999454 0.56485115 0.58205517\n",
      " 0.57654002 0.56147621 0.56830844 0.59311292 0.587488   0.56405545\n",
      " 0.56309508 0.5613939  0.54528745 0.53892167 0.54125397 0.52805597\n",
      " 0.52967488 0.54761971 0.5012759  0.46738925 0.45652354 0.46442587\n",
      " 0.44785293 0.43138977 0.51584579 0.5014131  0.53066267 0.53313212\n",
      " 0.56435727 0.52284265 0.51046785 0.48972427 0.4936754  0.46922763\n",
      " 0.47608728 0.49633694 0.50023322 0.50731239 0.47883114 0.47622444\n",
      " 0.50251168 0.50075811 0.49913609 0.49781135 0.49684861 0.4962374\n",
      " 0.49592268 0.49583161 0.49589136 0.49603972]\n",
      "10 day output [[0.49622977]]\n",
      "11 day input [0.86577038 0.84716701 0.86203869 0.82431061 0.82826177 0.81994788\n",
      " 0.78320763 0.79840855 0.77492111 0.75977503 0.7598025  0.77920153\n",
      " 0.81089317 0.8266429  0.83761835 0.60373165 0.60189327 0.56847306\n",
      " 0.55549457 0.58792703 0.57714367 0.55376597 0.54868981 0.55774456\n",
      " 0.54550692 0.52127867 0.51702568 0.50583072 0.49587049 0.52097684\n",
      " 0.52887913 0.53038826 0.50969957 0.5223762  0.50827275 0.50028811\n",
      " 0.46574291 0.47348058 0.49600769 0.48698041 0.46612705 0.46343808\n",
      " 0.47825491 0.51008371 0.52163534 0.54536976 0.53165046 0.54580875\n",
      " 0.53705587 0.55382086 0.55999454 0.56485115 0.58205517 0.57654002\n",
      " 0.56147621 0.56830844 0.59311292 0.587488   0.56405545 0.56309508\n",
      " 0.5613939  0.54528745 0.53892167 0.54125397 0.52805597 0.52967488\n",
      " 0.54761971 0.5012759  0.46738925 0.45652354 0.46442587 0.44785293\n",
      " 0.43138977 0.51584579 0.5014131  0.53066267 0.53313212 0.56435727\n",
      " 0.52284265 0.51046785 0.48972427 0.4936754  0.46922763 0.47608728\n",
      " 0.49633694 0.50023322 0.50731239 0.47883114 0.47622444 0.50251168\n",
      " 0.50075811 0.49913609 0.49781135 0.49684861 0.4962374  0.49592268\n",
      " 0.49583161 0.49589136 0.49603972 0.49622977]\n",
      "11 day output [[0.4964301]]\n",
      "12 day input [0.84716701 0.86203869 0.82431061 0.82826177 0.81994788 0.78320763\n",
      " 0.79840855 0.77492111 0.75977503 0.7598025  0.77920153 0.81089317\n",
      " 0.8266429  0.83761835 0.60373165 0.60189327 0.56847306 0.55549457\n",
      " 0.58792703 0.57714367 0.55376597 0.54868981 0.55774456 0.54550692\n",
      " 0.52127867 0.51702568 0.50583072 0.49587049 0.52097684 0.52887913\n",
      " 0.53038826 0.50969957 0.5223762  0.50827275 0.50028811 0.46574291\n",
      " 0.47348058 0.49600769 0.48698041 0.46612705 0.46343808 0.47825491\n",
      " 0.51008371 0.52163534 0.54536976 0.53165046 0.54580875 0.53705587\n",
      " 0.55382086 0.55999454 0.56485115 0.58205517 0.57654002 0.56147621\n",
      " 0.56830844 0.59311292 0.587488   0.56405545 0.56309508 0.5613939\n",
      " 0.54528745 0.53892167 0.54125397 0.52805597 0.52967488 0.54761971\n",
      " 0.5012759  0.46738925 0.45652354 0.46442587 0.44785293 0.43138977\n",
      " 0.51584579 0.5014131  0.53066267 0.53313212 0.56435727 0.52284265\n",
      " 0.51046785 0.48972427 0.4936754  0.46922763 0.47608728 0.49633694\n",
      " 0.50023322 0.50731239 0.47883114 0.47622444 0.50251168 0.50075811\n",
      " 0.49913609 0.49781135 0.49684861 0.4962374  0.49592268 0.49583161\n",
      " 0.49589136 0.49603972 0.49622977 0.4964301 ]\n",
      "12 day output [[0.49662176]]\n",
      "13 day input [0.86203869 0.82431061 0.82826177 0.81994788 0.78320763 0.79840855\n",
      " 0.77492111 0.75977503 0.7598025  0.77920153 0.81089317 0.8266429\n",
      " 0.83761835 0.60373165 0.60189327 0.56847306 0.55549457 0.58792703\n",
      " 0.57714367 0.55376597 0.54868981 0.55774456 0.54550692 0.52127867\n",
      " 0.51702568 0.50583072 0.49587049 0.52097684 0.52887913 0.53038826\n",
      " 0.50969957 0.5223762  0.50827275 0.50028811 0.46574291 0.47348058\n",
      " 0.49600769 0.48698041 0.46612705 0.46343808 0.47825491 0.51008371\n",
      " 0.52163534 0.54536976 0.53165046 0.54580875 0.53705587 0.55382086\n",
      " 0.55999454 0.56485115 0.58205517 0.57654002 0.56147621 0.56830844\n",
      " 0.59311292 0.587488   0.56405545 0.56309508 0.5613939  0.54528745\n",
      " 0.53892167 0.54125397 0.52805597 0.52967488 0.54761971 0.5012759\n",
      " 0.46738925 0.45652354 0.46442587 0.44785293 0.43138977 0.51584579\n",
      " 0.5014131  0.53066267 0.53313212 0.56435727 0.52284265 0.51046785\n",
      " 0.48972427 0.4936754  0.46922763 0.47608728 0.49633694 0.50023322\n",
      " 0.50731239 0.47883114 0.47622444 0.50251168 0.50075811 0.49913609\n",
      " 0.49781135 0.49684861 0.4962374  0.49592268 0.49583161 0.49589136\n",
      " 0.49603972 0.49622977 0.4964301  0.49662176]\n",
      "13 day output [[0.49679598]]\n",
      "14 day input [0.82431061 0.82826177 0.81994788 0.78320763 0.79840855 0.77492111\n",
      " 0.75977503 0.7598025  0.77920153 0.81089317 0.8266429  0.83761835\n",
      " 0.60373165 0.60189327 0.56847306 0.55549457 0.58792703 0.57714367\n",
      " 0.55376597 0.54868981 0.55774456 0.54550692 0.52127867 0.51702568\n",
      " 0.50583072 0.49587049 0.52097684 0.52887913 0.53038826 0.50969957\n",
      " 0.5223762  0.50827275 0.50028811 0.46574291 0.47348058 0.49600769\n",
      " 0.48698041 0.46612705 0.46343808 0.47825491 0.51008371 0.52163534\n",
      " 0.54536976 0.53165046 0.54580875 0.53705587 0.55382086 0.55999454\n",
      " 0.56485115 0.58205517 0.57654002 0.56147621 0.56830844 0.59311292\n",
      " 0.587488   0.56405545 0.56309508 0.5613939  0.54528745 0.53892167\n",
      " 0.54125397 0.52805597 0.52967488 0.54761971 0.5012759  0.46738925\n",
      " 0.45652354 0.46442587 0.44785293 0.43138977 0.51584579 0.5014131\n",
      " 0.53066267 0.53313212 0.56435727 0.52284265 0.51046785 0.48972427\n",
      " 0.4936754  0.46922763 0.47608728 0.49633694 0.50023322 0.50731239\n",
      " 0.47883114 0.47622444 0.50251168 0.50075811 0.49913609 0.49781135\n",
      " 0.49684861 0.4962374  0.49592268 0.49583161 0.49589136 0.49603972\n",
      " 0.49622977 0.4964301  0.49662176 0.49679598]\n",
      "14 day output [[0.4969501]]\n",
      "15 day input [0.82826177 0.81994788 0.78320763 0.79840855 0.77492111 0.75977503\n",
      " 0.7598025  0.77920153 0.81089317 0.8266429  0.83761835 0.60373165\n",
      " 0.60189327 0.56847306 0.55549457 0.58792703 0.57714367 0.55376597\n",
      " 0.54868981 0.55774456 0.54550692 0.52127867 0.51702568 0.50583072\n",
      " 0.49587049 0.52097684 0.52887913 0.53038826 0.50969957 0.5223762\n",
      " 0.50827275 0.50028811 0.46574291 0.47348058 0.49600769 0.48698041\n",
      " 0.46612705 0.46343808 0.47825491 0.51008371 0.52163534 0.54536976\n",
      " 0.53165046 0.54580875 0.53705587 0.55382086 0.55999454 0.56485115\n",
      " 0.58205517 0.57654002 0.56147621 0.56830844 0.59311292 0.587488\n",
      " 0.56405545 0.56309508 0.5613939  0.54528745 0.53892167 0.54125397\n",
      " 0.52805597 0.52967488 0.54761971 0.5012759  0.46738925 0.45652354\n",
      " 0.46442587 0.44785293 0.43138977 0.51584579 0.5014131  0.53066267\n",
      " 0.53313212 0.56435727 0.52284265 0.51046785 0.48972427 0.4936754\n",
      " 0.46922763 0.47608728 0.49633694 0.50023322 0.50731239 0.47883114\n",
      " 0.47622444 0.50251168 0.50075811 0.49913609 0.49781135 0.49684861\n",
      " 0.4962374  0.49592268 0.49583161 0.49589136 0.49603972 0.49622977\n",
      " 0.4964301  0.49662176 0.49679598 0.49695009]\n",
      "15 day output [[0.49708554]]\n",
      "16 day input [0.81994788 0.78320763 0.79840855 0.77492111 0.75977503 0.7598025\n",
      " 0.77920153 0.81089317 0.8266429  0.83761835 0.60373165 0.60189327\n",
      " 0.56847306 0.55549457 0.58792703 0.57714367 0.55376597 0.54868981\n",
      " 0.55774456 0.54550692 0.52127867 0.51702568 0.50583072 0.49587049\n",
      " 0.52097684 0.52887913 0.53038826 0.50969957 0.5223762  0.50827275\n",
      " 0.50028811 0.46574291 0.47348058 0.49600769 0.48698041 0.46612705\n",
      " 0.46343808 0.47825491 0.51008371 0.52163534 0.54536976 0.53165046\n",
      " 0.54580875 0.53705587 0.55382086 0.55999454 0.56485115 0.58205517\n",
      " 0.57654002 0.56147621 0.56830844 0.59311292 0.587488   0.56405545\n",
      " 0.56309508 0.5613939  0.54528745 0.53892167 0.54125397 0.52805597\n",
      " 0.52967488 0.54761971 0.5012759  0.46738925 0.45652354 0.46442587\n",
      " 0.44785293 0.43138977 0.51584579 0.5014131  0.53066267 0.53313212\n",
      " 0.56435727 0.52284265 0.51046785 0.48972427 0.4936754  0.46922763\n",
      " 0.47608728 0.49633694 0.50023322 0.50731239 0.47883114 0.47622444\n",
      " 0.50251168 0.50075811 0.49913609 0.49781135 0.49684861 0.4962374\n",
      " 0.49592268 0.49583161 0.49589136 0.49603972 0.49622977 0.4964301\n",
      " 0.49662176 0.49679598 0.49695009 0.49708554]\n",
      "16 day output [[0.49720532]]\n",
      "17 day input [0.78320763 0.79840855 0.77492111 0.75977503 0.7598025  0.77920153\n",
      " 0.81089317 0.8266429  0.83761835 0.60373165 0.60189327 0.56847306\n",
      " 0.55549457 0.58792703 0.57714367 0.55376597 0.54868981 0.55774456\n",
      " 0.54550692 0.52127867 0.51702568 0.50583072 0.49587049 0.52097684\n",
      " 0.52887913 0.53038826 0.50969957 0.5223762  0.50827275 0.50028811\n",
      " 0.46574291 0.47348058 0.49600769 0.48698041 0.46612705 0.46343808\n",
      " 0.47825491 0.51008371 0.52163534 0.54536976 0.53165046 0.54580875\n",
      " 0.53705587 0.55382086 0.55999454 0.56485115 0.58205517 0.57654002\n",
      " 0.56147621 0.56830844 0.59311292 0.587488   0.56405545 0.56309508\n",
      " 0.5613939  0.54528745 0.53892167 0.54125397 0.52805597 0.52967488\n",
      " 0.54761971 0.5012759  0.46738925 0.45652354 0.46442587 0.44785293\n",
      " 0.43138977 0.51584579 0.5014131  0.53066267 0.53313212 0.56435727\n",
      " 0.52284265 0.51046785 0.48972427 0.4936754  0.46922763 0.47608728\n",
      " 0.49633694 0.50023322 0.50731239 0.47883114 0.47622444 0.50251168\n",
      " 0.50075811 0.49913609 0.49781135 0.49684861 0.4962374  0.49592268\n",
      " 0.49583161 0.49589136 0.49603972 0.49622977 0.4964301  0.49662176\n",
      " 0.49679598 0.49695009 0.49708554 0.49720532]\n",
      "17 day output [[0.49731296]]\n",
      "18 day input [0.79840855 0.77492111 0.75977503 0.7598025  0.77920153 0.81089317\n",
      " 0.8266429  0.83761835 0.60373165 0.60189327 0.56847306 0.55549457\n",
      " 0.58792703 0.57714367 0.55376597 0.54868981 0.55774456 0.54550692\n",
      " 0.52127867 0.51702568 0.50583072 0.49587049 0.52097684 0.52887913\n",
      " 0.53038826 0.50969957 0.5223762  0.50827275 0.50028811 0.46574291\n",
      " 0.47348058 0.49600769 0.48698041 0.46612705 0.46343808 0.47825491\n",
      " 0.51008371 0.52163534 0.54536976 0.53165046 0.54580875 0.53705587\n",
      " 0.55382086 0.55999454 0.56485115 0.58205517 0.57654002 0.56147621\n",
      " 0.56830844 0.59311292 0.587488   0.56405545 0.56309508 0.5613939\n",
      " 0.54528745 0.53892167 0.54125397 0.52805597 0.52967488 0.54761971\n",
      " 0.5012759  0.46738925 0.45652354 0.46442587 0.44785293 0.43138977\n",
      " 0.51584579 0.5014131  0.53066267 0.53313212 0.56435727 0.52284265\n",
      " 0.51046785 0.48972427 0.4936754  0.46922763 0.47608728 0.49633694\n",
      " 0.50023322 0.50731239 0.47883114 0.47622444 0.50251168 0.50075811\n",
      " 0.49913609 0.49781135 0.49684861 0.4962374  0.49592268 0.49583161\n",
      " 0.49589136 0.49603972 0.49622977 0.4964301  0.49662176 0.49679598\n",
      " 0.49695009 0.49708554 0.49720532 0.49731296]\n",
      "18 day output [[0.49741164]]\n",
      "19 day input [0.77492111 0.75977503 0.7598025  0.77920153 0.81089317 0.8266429\n",
      " 0.83761835 0.60373165 0.60189327 0.56847306 0.55549457 0.58792703\n",
      " 0.57714367 0.55376597 0.54868981 0.55774456 0.54550692 0.52127867\n",
      " 0.51702568 0.50583072 0.49587049 0.52097684 0.52887913 0.53038826\n",
      " 0.50969957 0.5223762  0.50827275 0.50028811 0.46574291 0.47348058\n",
      " 0.49600769 0.48698041 0.46612705 0.46343808 0.47825491 0.51008371\n",
      " 0.52163534 0.54536976 0.53165046 0.54580875 0.53705587 0.55382086\n",
      " 0.55999454 0.56485115 0.58205517 0.57654002 0.56147621 0.56830844\n",
      " 0.59311292 0.587488   0.56405545 0.56309508 0.5613939  0.54528745\n",
      " 0.53892167 0.54125397 0.52805597 0.52967488 0.54761971 0.5012759\n",
      " 0.46738925 0.45652354 0.46442587 0.44785293 0.43138977 0.51584579\n",
      " 0.5014131  0.53066267 0.53313212 0.56435727 0.52284265 0.51046785\n",
      " 0.48972427 0.4936754  0.46922763 0.47608728 0.49633694 0.50023322\n",
      " 0.50731239 0.47883114 0.47622444 0.50251168 0.50075811 0.49913609\n",
      " 0.49781135 0.49684861 0.4962374  0.49592268 0.49583161 0.49589136\n",
      " 0.49603972 0.49622977 0.4964301  0.49662176 0.49679598 0.49695009\n",
      " 0.49708554 0.49720532 0.49731296 0.49741164]\n",
      "19 day output [[0.49750364]]\n",
      "20 day input [0.75977503 0.7598025  0.77920153 0.81089317 0.8266429  0.83761835\n",
      " 0.60373165 0.60189327 0.56847306 0.55549457 0.58792703 0.57714367\n",
      " 0.55376597 0.54868981 0.55774456 0.54550692 0.52127867 0.51702568\n",
      " 0.50583072 0.49587049 0.52097684 0.52887913 0.53038826 0.50969957\n",
      " 0.5223762  0.50827275 0.50028811 0.46574291 0.47348058 0.49600769\n",
      " 0.48698041 0.46612705 0.46343808 0.47825491 0.51008371 0.52163534\n",
      " 0.54536976 0.53165046 0.54580875 0.53705587 0.55382086 0.55999454\n",
      " 0.56485115 0.58205517 0.57654002 0.56147621 0.56830844 0.59311292\n",
      " 0.587488   0.56405545 0.56309508 0.5613939  0.54528745 0.53892167\n",
      " 0.54125397 0.52805597 0.52967488 0.54761971 0.5012759  0.46738925\n",
      " 0.45652354 0.46442587 0.44785293 0.43138977 0.51584579 0.5014131\n",
      " 0.53066267 0.53313212 0.56435727 0.52284265 0.51046785 0.48972427\n",
      " 0.4936754  0.46922763 0.47608728 0.49633694 0.50023322 0.50731239\n",
      " 0.47883114 0.47622444 0.50251168 0.50075811 0.49913609 0.49781135\n",
      " 0.49684861 0.4962374  0.49592268 0.49583161 0.49589136 0.49603972\n",
      " 0.49622977 0.4964301  0.49662176 0.49679598 0.49695009 0.49708554\n",
      " 0.49720532 0.49731296 0.49741164 0.49750364]\n",
      "20 day output [[0.49759105]]\n",
      "21 day input [0.7598025  0.77920153 0.81089317 0.8266429  0.83761835 0.60373165\n",
      " 0.60189327 0.56847306 0.55549457 0.58792703 0.57714367 0.55376597\n",
      " 0.54868981 0.55774456 0.54550692 0.52127867 0.51702568 0.50583072\n",
      " 0.49587049 0.52097684 0.52887913 0.53038826 0.50969957 0.5223762\n",
      " 0.50827275 0.50028811 0.46574291 0.47348058 0.49600769 0.48698041\n",
      " 0.46612705 0.46343808 0.47825491 0.51008371 0.52163534 0.54536976\n",
      " 0.53165046 0.54580875 0.53705587 0.55382086 0.55999454 0.56485115\n",
      " 0.58205517 0.57654002 0.56147621 0.56830844 0.59311292 0.587488\n",
      " 0.56405545 0.56309508 0.5613939  0.54528745 0.53892167 0.54125397\n",
      " 0.52805597 0.52967488 0.54761971 0.5012759  0.46738925 0.45652354\n",
      " 0.46442587 0.44785293 0.43138977 0.51584579 0.5014131  0.53066267\n",
      " 0.53313212 0.56435727 0.52284265 0.51046785 0.48972427 0.4936754\n",
      " 0.46922763 0.47608728 0.49633694 0.50023322 0.50731239 0.47883114\n",
      " 0.47622444 0.50251168 0.50075811 0.49913609 0.49781135 0.49684861\n",
      " 0.4962374  0.49592268 0.49583161 0.49589136 0.49603972 0.49622977\n",
      " 0.4964301  0.49662176 0.49679598 0.49695009 0.49708554 0.49720532\n",
      " 0.49731296 0.49741164 0.49750364 0.49759105]\n",
      "21 day output [[0.49767506]]\n",
      "22 day input [0.77920153 0.81089317 0.8266429  0.83761835 0.60373165 0.60189327\n",
      " 0.56847306 0.55549457 0.58792703 0.57714367 0.55376597 0.54868981\n",
      " 0.55774456 0.54550692 0.52127867 0.51702568 0.50583072 0.49587049\n",
      " 0.52097684 0.52887913 0.53038826 0.50969957 0.5223762  0.50827275\n",
      " 0.50028811 0.46574291 0.47348058 0.49600769 0.48698041 0.46612705\n",
      " 0.46343808 0.47825491 0.51008371 0.52163534 0.54536976 0.53165046\n",
      " 0.54580875 0.53705587 0.55382086 0.55999454 0.56485115 0.58205517\n",
      " 0.57654002 0.56147621 0.56830844 0.59311292 0.587488   0.56405545\n",
      " 0.56309508 0.5613939  0.54528745 0.53892167 0.54125397 0.52805597\n",
      " 0.52967488 0.54761971 0.5012759  0.46738925 0.45652354 0.46442587\n",
      " 0.44785293 0.43138977 0.51584579 0.5014131  0.53066267 0.53313212\n",
      " 0.56435727 0.52284265 0.51046785 0.48972427 0.4936754  0.46922763\n",
      " 0.47608728 0.49633694 0.50023322 0.50731239 0.47883114 0.47622444\n",
      " 0.50251168 0.50075811 0.49913609 0.49781135 0.49684861 0.4962374\n",
      " 0.49592268 0.49583161 0.49589136 0.49603972 0.49622977 0.4964301\n",
      " 0.49662176 0.49679598 0.49695009 0.49708554 0.49720532 0.49731296\n",
      " 0.49741164 0.49750364 0.49759105 0.49767506]\n",
      "22 day output [[0.49775603]]\n",
      "23 day input [0.81089317 0.8266429  0.83761835 0.60373165 0.60189327 0.56847306\n",
      " 0.55549457 0.58792703 0.57714367 0.55376597 0.54868981 0.55774456\n",
      " 0.54550692 0.52127867 0.51702568 0.50583072 0.49587049 0.52097684\n",
      " 0.52887913 0.53038826 0.50969957 0.5223762  0.50827275 0.50028811\n",
      " 0.46574291 0.47348058 0.49600769 0.48698041 0.46612705 0.46343808\n",
      " 0.47825491 0.51008371 0.52163534 0.54536976 0.53165046 0.54580875\n",
      " 0.53705587 0.55382086 0.55999454 0.56485115 0.58205517 0.57654002\n",
      " 0.56147621 0.56830844 0.59311292 0.587488   0.56405545 0.56309508\n",
      " 0.5613939  0.54528745 0.53892167 0.54125397 0.52805597 0.52967488\n",
      " 0.54761971 0.5012759  0.46738925 0.45652354 0.46442587 0.44785293\n",
      " 0.43138977 0.51584579 0.5014131  0.53066267 0.53313212 0.56435727\n",
      " 0.52284265 0.51046785 0.48972427 0.4936754  0.46922763 0.47608728\n",
      " 0.49633694 0.50023322 0.50731239 0.47883114 0.47622444 0.50251168\n",
      " 0.50075811 0.49913609 0.49781135 0.49684861 0.4962374  0.49592268\n",
      " 0.49583161 0.49589136 0.49603972 0.49622977 0.4964301  0.49662176\n",
      " 0.49679598 0.49695009 0.49708554 0.49720532 0.49731296 0.49741164\n",
      " 0.49750364 0.49759105 0.49767506 0.49775603]\n",
      "23 day output [[0.49783492]]\n",
      "24 day input [0.8266429  0.83761835 0.60373165 0.60189327 0.56847306 0.55549457\n",
      " 0.58792703 0.57714367 0.55376597 0.54868981 0.55774456 0.54550692\n",
      " 0.52127867 0.51702568 0.50583072 0.49587049 0.52097684 0.52887913\n",
      " 0.53038826 0.50969957 0.5223762  0.50827275 0.50028811 0.46574291\n",
      " 0.47348058 0.49600769 0.48698041 0.46612705 0.46343808 0.47825491\n",
      " 0.51008371 0.52163534 0.54536976 0.53165046 0.54580875 0.53705587\n",
      " 0.55382086 0.55999454 0.56485115 0.58205517 0.57654002 0.56147621\n",
      " 0.56830844 0.59311292 0.587488   0.56405545 0.56309508 0.5613939\n",
      " 0.54528745 0.53892167 0.54125397 0.52805597 0.52967488 0.54761971\n",
      " 0.5012759  0.46738925 0.45652354 0.46442587 0.44785293 0.43138977\n",
      " 0.51584579 0.5014131  0.53066267 0.53313212 0.56435727 0.52284265\n",
      " 0.51046785 0.48972427 0.4936754  0.46922763 0.47608728 0.49633694\n",
      " 0.50023322 0.50731239 0.47883114 0.47622444 0.50251168 0.50075811\n",
      " 0.49913609 0.49781135 0.49684861 0.4962374  0.49592268 0.49583161\n",
      " 0.49589136 0.49603972 0.49622977 0.4964301  0.49662176 0.49679598\n",
      " 0.49695009 0.49708554 0.49720532 0.49731296 0.49741164 0.49750364\n",
      " 0.49759105 0.49767506 0.49775603 0.49783492]\n",
      "24 day output [[0.49791157]]\n",
      "25 day input [0.83761835 0.60373165 0.60189327 0.56847306 0.55549457 0.58792703\n",
      " 0.57714367 0.55376597 0.54868981 0.55774456 0.54550692 0.52127867\n",
      " 0.51702568 0.50583072 0.49587049 0.52097684 0.52887913 0.53038826\n",
      " 0.50969957 0.5223762  0.50827275 0.50028811 0.46574291 0.47348058\n",
      " 0.49600769 0.48698041 0.46612705 0.46343808 0.47825491 0.51008371\n",
      " 0.52163534 0.54536976 0.53165046 0.54580875 0.53705587 0.55382086\n",
      " 0.55999454 0.56485115 0.58205517 0.57654002 0.56147621 0.56830844\n",
      " 0.59311292 0.587488   0.56405545 0.56309508 0.5613939  0.54528745\n",
      " 0.53892167 0.54125397 0.52805597 0.52967488 0.54761971 0.5012759\n",
      " 0.46738925 0.45652354 0.46442587 0.44785293 0.43138977 0.51584579\n",
      " 0.5014131  0.53066267 0.53313212 0.56435727 0.52284265 0.51046785\n",
      " 0.48972427 0.4936754  0.46922763 0.47608728 0.49633694 0.50023322\n",
      " 0.50731239 0.47883114 0.47622444 0.50251168 0.50075811 0.49913609\n",
      " 0.49781135 0.49684861 0.4962374  0.49592268 0.49583161 0.49589136\n",
      " 0.49603972 0.49622977 0.4964301  0.49662176 0.49679598 0.49695009\n",
      " 0.49708554 0.49720532 0.49731296 0.49741164 0.49750364 0.49759105\n",
      " 0.49767506 0.49775603 0.49783492 0.49791157]\n",
      "25 day output [[0.49798644]]\n",
      "26 day input [0.60373165 0.60189327 0.56847306 0.55549457 0.58792703 0.57714367\n",
      " 0.55376597 0.54868981 0.55774456 0.54550692 0.52127867 0.51702568\n",
      " 0.50583072 0.49587049 0.52097684 0.52887913 0.53038826 0.50969957\n",
      " 0.5223762  0.50827275 0.50028811 0.46574291 0.47348058 0.49600769\n",
      " 0.48698041 0.46612705 0.46343808 0.47825491 0.51008371 0.52163534\n",
      " 0.54536976 0.53165046 0.54580875 0.53705587 0.55382086 0.55999454\n",
      " 0.56485115 0.58205517 0.57654002 0.56147621 0.56830844 0.59311292\n",
      " 0.587488   0.56405545 0.56309508 0.5613939  0.54528745 0.53892167\n",
      " 0.54125397 0.52805597 0.52967488 0.54761971 0.5012759  0.46738925\n",
      " 0.45652354 0.46442587 0.44785293 0.43138977 0.51584579 0.5014131\n",
      " 0.53066267 0.53313212 0.56435727 0.52284265 0.51046785 0.48972427\n",
      " 0.4936754  0.46922763 0.47608728 0.49633694 0.50023322 0.50731239\n",
      " 0.47883114 0.47622444 0.50251168 0.50075811 0.49913609 0.49781135\n",
      " 0.49684861 0.4962374  0.49592268 0.49583161 0.49589136 0.49603972\n",
      " 0.49622977 0.4964301  0.49662176 0.49679598 0.49695009 0.49708554\n",
      " 0.49720532 0.49731296 0.49741164 0.49750364 0.49759105 0.49767506\n",
      " 0.49775603 0.49783492 0.49791157 0.49798644]\n",
      "26 day output [[0.49805942]]\n",
      "27 day input [0.60189327 0.56847306 0.55549457 0.58792703 0.57714367 0.55376597\n",
      " 0.54868981 0.55774456 0.54550692 0.52127867 0.51702568 0.50583072\n",
      " 0.49587049 0.52097684 0.52887913 0.53038826 0.50969957 0.5223762\n",
      " 0.50827275 0.50028811 0.46574291 0.47348058 0.49600769 0.48698041\n",
      " 0.46612705 0.46343808 0.47825491 0.51008371 0.52163534 0.54536976\n",
      " 0.53165046 0.54580875 0.53705587 0.55382086 0.55999454 0.56485115\n",
      " 0.58205517 0.57654002 0.56147621 0.56830844 0.59311292 0.587488\n",
      " 0.56405545 0.56309508 0.5613939  0.54528745 0.53892167 0.54125397\n",
      " 0.52805597 0.52967488 0.54761971 0.5012759  0.46738925 0.45652354\n",
      " 0.46442587 0.44785293 0.43138977 0.51584579 0.5014131  0.53066267\n",
      " 0.53313212 0.56435727 0.52284265 0.51046785 0.48972427 0.4936754\n",
      " 0.46922763 0.47608728 0.49633694 0.50023322 0.50731239 0.47883114\n",
      " 0.47622444 0.50251168 0.50075811 0.49913609 0.49781135 0.49684861\n",
      " 0.4962374  0.49592268 0.49583161 0.49589136 0.49603972 0.49622977\n",
      " 0.4964301  0.49662176 0.49679598 0.49695009 0.49708554 0.49720532\n",
      " 0.49731296 0.49741164 0.49750364 0.49759105 0.49767506 0.49775603\n",
      " 0.49783492 0.49791157 0.49798644 0.49805942]\n",
      "27 day output [[0.49813098]]\n",
      "28 day input [0.56847306 0.55549457 0.58792703 0.57714367 0.55376597 0.54868981\n",
      " 0.55774456 0.54550692 0.52127867 0.51702568 0.50583072 0.49587049\n",
      " 0.52097684 0.52887913 0.53038826 0.50969957 0.5223762  0.50827275\n",
      " 0.50028811 0.46574291 0.47348058 0.49600769 0.48698041 0.46612705\n",
      " 0.46343808 0.47825491 0.51008371 0.52163534 0.54536976 0.53165046\n",
      " 0.54580875 0.53705587 0.55382086 0.55999454 0.56485115 0.58205517\n",
      " 0.57654002 0.56147621 0.56830844 0.59311292 0.587488   0.56405545\n",
      " 0.56309508 0.5613939  0.54528745 0.53892167 0.54125397 0.52805597\n",
      " 0.52967488 0.54761971 0.5012759  0.46738925 0.45652354 0.46442587\n",
      " 0.44785293 0.43138977 0.51584579 0.5014131  0.53066267 0.53313212\n",
      " 0.56435727 0.52284265 0.51046785 0.48972427 0.4936754  0.46922763\n",
      " 0.47608728 0.49633694 0.50023322 0.50731239 0.47883114 0.47622444\n",
      " 0.50251168 0.50075811 0.49913609 0.49781135 0.49684861 0.4962374\n",
      " 0.49592268 0.49583161 0.49589136 0.49603972 0.49622977 0.4964301\n",
      " 0.49662176 0.49679598 0.49695009 0.49708554 0.49720532 0.49731296\n",
      " 0.49741164 0.49750364 0.49759105 0.49767506 0.49775603 0.49783492\n",
      " 0.49791157 0.49798644 0.49805942 0.49813098]\n",
      "28 day output [[0.49820083]]\n",
      "29 day input [0.55549457 0.58792703 0.57714367 0.55376597 0.54868981 0.55774456\n",
      " 0.54550692 0.52127867 0.51702568 0.50583072 0.49587049 0.52097684\n",
      " 0.52887913 0.53038826 0.50969957 0.5223762  0.50827275 0.50028811\n",
      " 0.46574291 0.47348058 0.49600769 0.48698041 0.46612705 0.46343808\n",
      " 0.47825491 0.51008371 0.52163534 0.54536976 0.53165046 0.54580875\n",
      " 0.53705587 0.55382086 0.55999454 0.56485115 0.58205517 0.57654002\n",
      " 0.56147621 0.56830844 0.59311292 0.587488   0.56405545 0.56309508\n",
      " 0.5613939  0.54528745 0.53892167 0.54125397 0.52805597 0.52967488\n",
      " 0.54761971 0.5012759  0.46738925 0.45652354 0.46442587 0.44785293\n",
      " 0.43138977 0.51584579 0.5014131  0.53066267 0.53313212 0.56435727\n",
      " 0.52284265 0.51046785 0.48972427 0.4936754  0.46922763 0.47608728\n",
      " 0.49633694 0.50023322 0.50731239 0.47883114 0.47622444 0.50251168\n",
      " 0.50075811 0.49913609 0.49781135 0.49684861 0.4962374  0.49592268\n",
      " 0.49583161 0.49589136 0.49603972 0.49622977 0.4964301  0.49662176\n",
      " 0.49679598 0.49695009 0.49708554 0.49720532 0.49731296 0.49741164\n",
      " 0.49750364 0.49759105 0.49767506 0.49775603 0.49783492 0.49791157\n",
      " 0.49798644 0.49805942 0.49813098 0.49820083]\n",
      "29 day output [[0.49826965]]\n"
     ]
    }
   ],
   "source": [
    "# Prediction for next 30 days\n",
    "from numpy import array\n",
    "\n",
    "lst_output=[]\n",
    "n_steps=100\n",
    "i=0\n",
    "while i<30:\n",
    "\n",
    "    if len(temp_input)>100:\n",
    "        x_input=np.array(temp_input[1:])\n",
    "        print(\"{} day input {}\".format(i,x_input))\n",
    "        x_input=x_input.reshape(1,-1)\n",
    "        x_input = x_input.reshape((1, n_steps, 1))\n",
    "        yhat = model.predict(x_input, verbose=0)\n",
    "        print(\"{} day output {}\".format(i,yhat))\n",
    "        temp_input.extend(yhat[0].tolist())\n",
    "        temp_input=temp_input[1:]\n",
    "        lst_output.extend(yhat.tolist())\n",
    "        i=i+1\n",
    "    else:\n",
    "        x_input = x_input.reshape((1, n_steps,1))\n",
    "        yhat = model.predict(x_input, verbose=0)\n",
    "        temp_input.extend(yhat[0].tolist())\n",
    "        lst_output.extend(yhat.tolist())\n",
    "        i=i+1"
   ],
   "metadata": {
    "collapsed": false,
    "pycharm": {
     "name": "#%%\n"
    }
   }
  },
  {
   "cell_type": "code",
   "execution_count": 24,
   "outputs": [],
   "source": [
    "day_new=np.arange(1,101)\n",
    "day_pred=np.arange(101,131)"
   ],
   "metadata": {
    "collapsed": false,
    "pycharm": {
     "name": "#%%\n"
    }
   }
  },
  {
   "cell_type": "code",
   "execution_count": 25,
   "outputs": [
    {
     "name": "stdout",
     "output_type": "stream",
     "text": [
      "[[200.87037791]\n",
      " [200.23128983]\n",
      " [199.64014422]\n",
      " [199.15734163]\n",
      " [198.80647315]\n",
      " [198.58371554]\n",
      " [198.46901856]\n",
      " [198.43582595]\n",
      " [198.45760317]\n",
      " [198.5116715 ]\n",
      " [198.58093501]\n",
      " [198.65394572]\n",
      " [198.72379574]\n",
      " [198.78729182]\n",
      " [198.84345641]\n",
      " [198.89282172]\n",
      " [198.93647392]\n",
      " [198.9757055 ]\n",
      " [199.01166778]\n",
      " [199.04519709]\n",
      " [199.07705374]\n",
      " [199.10767219]\n",
      " [199.13718277]\n",
      " [199.16593304]\n",
      " [199.19386871]\n",
      " [199.22115268]\n",
      " [199.24775239]\n",
      " [199.27383075]\n",
      " [199.29929   ]\n",
      " [199.3243691 ]]\n"
     ]
    }
   ],
   "source": [
    "print(scaler.inverse_transform(lst_output[0:]))"
   ],
   "metadata": {
    "collapsed": false,
    "pycharm": {
     "name": "#%%\n"
    }
   }
  },
  {
   "cell_type": "code",
   "execution_count": 26,
   "outputs": [
    {
     "data": {
      "text/plain": "[<matplotlib.lines.Line2D at 0x1a615444550>]"
     },
     "execution_count": 26,
     "metadata": {},
     "output_type": "execute_result"
    },
    {
     "data": {
      "text/plain": "<Figure size 432x288 with 1 Axes>",
      "image/png": "[encoded data removed]"
     },
     "metadata": {
      "needs_background": "light"
     },
     "output_type": "display_data"
    }
   ],
   "source": [
    "plt.plot(day_new,scaler.inverse_transform(df1[len(df1)-100:]))\n",
    "plt.plot(day_pred,scaler.inverse_transform(lst_output))"
   ],
   "metadata": {
    "collapsed": false,
    "pycharm": {
     "name": "#%%\n"
    }
   }
  },
  {
   "cell_type": "code",
   "execution_count": 27,
   "outputs": [
    {
     "data": {
      "text/plain": "[<matplotlib.lines.Line2D at 0x1a6157b86d0>]"
     },
     "execution_count": 27,
     "metadata": {},
     "output_type": "execute_result"
    },
    {
     "data": {
      "text/plain": "<Figure size 432x288 with 1 Axes>",
      "image/png": "[encoded data removed]"
     },
     "metadata": {
      "needs_background": "light"
     },
     "output_type": "display_data"
    }
   ],
   "source": [
    "df3=df1.tolist()\n",
    "df3.extend(lst_output)\n",
    "plt.plot(df3[1200:])"
   ],
   "metadata": {
    "collapsed": false,
    "pycharm": {
     "name": "#%%\n"
    }
   }
  },
  {
   "cell_type": "code",
   "execution_count": 28,
   "outputs": [],
   "source": [
    "df3=scaler.inverse_transform(df3).tolist()"
   ],
   "metadata": {
    "collapsed": false,
    "pycharm": {
     "name": "#%%\n"
    }
   }
  },
  {
   "cell_type": "code",
   "execution_count": 29,
   "outputs": [
    {
     "data": {
      "text/plain": "[<matplotlib.lines.Line2D at 0x1a6157bd520>]"
     },
     "execution_count": 29,
     "metadata": {},
     "output_type": "execute_result"
    },
    {
     "data": {
      "text/plain": "<Figure size 432x288 with 1 Axes>",
      "image/png": "[encoded data removed]"
     },
     "metadata": {
      "needs_background": "light"
     },
     "output_type": "display_data"
    }
   ],
   "source": [
    "plt.plot(df3)"
   ],
   "metadata": {
    "collapsed": false,
    "pycharm": {
     "name": "#%%\n"
    }
   }
  },
  {
   "cell_type": "code",
   "execution_count": 30,
   "outputs": [],
   "source": [
    "import time\n",
    "from datetime import datetime\n",
    "\n",
    "SECONDS_IN_DAY = 86400\n",
    "\n",
    "now = int( time.time() )\n",
    "\n",
    "data_set = {\"c\": [], \"t\": []}\n",
    "inversed_output = scaler.inverse_transform(lst_output)\n",
    "inversed_output.tolist()\n",
    "for i in range(len(inversed_output)):\n",
    "    now = SECONDS_IN_DAY + now\n",
    "    data_set[\"c\"].insert(i, round(float(inversed_output[i]), 2))\n",
    "    data_set[\"t\"].insert(i, int(now))"
   ],
   "metadata": {
    "collapsed": false,
    "pycharm": {
     "name": "#%%\n"
    }
   }
  },
  {
   "cell_type": "code",
   "execution_count": 31,
   "outputs": [],
   "source": [
    "import json\n",
    "with open('../src/stock_json/fb.json', 'w', encoding='utf-8') as f:\n",
    "    json.dump(data_set, f, ensure_ascii=False, indent=4)"
   ],
   "metadata": {
    "collapsed": false,
    "pycharm": {
     "name": "#%%\n"
    }
   }
  }
 ],
 "metadata": {
  "kernelspec": {
   "display_name": "Python 3",
   "language": "python",
   "name": "python3"
  },
  "language_info": {
   "codemirror_mode": {
    "name": "ipython",
    "version": 2
   },
   "file_extension": ".py",
   "mimetype": "text/x-python",
   "name": "python",
   "nbconvert_exporter": "python",
   "pygments_lexer": "ipython2",
   "version": "2.7.6"
  }
 },
 "nbformat": 4,
 "nbformat_minor": 0
}