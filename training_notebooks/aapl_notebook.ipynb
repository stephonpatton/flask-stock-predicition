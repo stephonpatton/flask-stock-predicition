{
 "cells": [
  {
   "cell_type": "code",
   "execution_count": 1,
   "outputs": [
    {
     "name": "stdout",
     "output_type": "stream",
     "text": [
      "Requirement already satisfied: matplotlib==3.5.2 in e:\\conda\\lib\\site-packages (from -r requirements.txt (line 1)) (3.5.2)\n",
      "Requirement already satisfied: numpy==1.22.3 in e:\\conda\\lib\\site-packages (from -r requirements.txt (line 2)) (1.22.3)\n",
      "Requirement already satisfied: pandas==1.4.2 in e:\\conda\\lib\\site-packages (from -r requirements.txt (line 3)) (1.4.2)\n",
      "Requirement already satisfied: scikit_learn==1.1.0 in e:\\conda\\lib\\site-packages (from -r requirements.txt (line 4)) (1.1.0)\n",
      "Requirement already satisfied: tensorflow==2.8.0 in e:\\conda\\lib\\site-packages (from -r requirements.txt (line 5)) (2.8.0)\n",
      "Requirement already satisfied: yfinance==0.1.70 in e:\\conda\\lib\\site-packages (from -r requirements.txt (line 6)) (0.1.70)\n",
      "Requirement already satisfied: python-dateutil>=2.7 in e:\\conda\\lib\\site-packages (from matplotlib==3.5.2->-r requirements.txt (line 1)) (2.8.2)\n",
      "Requirement already satisfied: cycler>=0.10 in e:\\conda\\lib\\site-packages (from matplotlib==3.5.2->-r requirements.txt (line 1)) (0.11.0)\n",
      "Requirement already satisfied: kiwisolver>=1.0.1 in e:\\conda\\lib\\site-packages (from matplotlib==3.5.2->-r requirements.txt (line 1)) (1.3.2)\n",
      "Requirement already satisfied: packaging>=20.0 in e:\\conda\\lib\\site-packages (from matplotlib==3.5.2->-r requirements.txt (line 1)) (21.3)\n",
      "Requirement already satisfied: fonttools>=4.22.0 in e:\\conda\\lib\\site-packages (from matplotlib==3.5.2->-r requirements.txt (line 1)) (4.25.0)\n",
      "Requirement already satisfied: pillow>=6.2.0 in e:\\conda\\lib\\site-packages (from matplotlib==3.5.2->-r requirements.txt (line 1)) (9.0.1)\n",
      "Requirement already satisfied: pyparsing>=2.2.1 in e:\\conda\\lib\\site-packages (from matplotlib==3.5.2->-r requirements.txt (line 1)) (3.0.4)\n",
      "Requirement already satisfied: pytz>=2020.1 in e:\\conda\\lib\\site-packages (from pandas==1.4.2->-r requirements.txt (line 3)) (2021.3)\n",
      "Requirement already satisfied: scipy>=1.3.2 in e:\\conda\\lib\\site-packages (from scikit_learn==1.1.0->-r requirements.txt (line 4)) (1.7.3)\n",
      "Requirement already satisfied: threadpoolctl>=2.0.0 in e:\\conda\\lib\\site-packages (from scikit_learn==1.1.0->-r requirements.txt (line 4)) (2.2.0)\n",
      "Requirement already satisfied: joblib>=1.0.0 in e:\\conda\\lib\\site-packages (from scikit_learn==1.1.0->-r requirements.txt (line 4)) (1.1.0)\n",
      "Requirement already satisfied: tf-estimator-nightly==2.8.0.dev2021122109 in e:\\conda\\lib\\site-packages (from tensorflow==2.8.0->-r requirements.txt (line 5)) (2.8.0.dev2021122109)\n",
      "Requirement already satisfied: keras-preprocessing>=1.1.1 in e:\\conda\\lib\\site-packages (from tensorflow==2.8.0->-r requirements.txt (line 5)) (1.1.2)\n",
      "Requirement already satisfied: setuptools in e:\\conda\\lib\\site-packages (from tensorflow==2.8.0->-r requirements.txt (line 5)) (61.2.0)\n",
      "Requirement already satisfied: google-pasta>=0.1.1 in e:\\conda\\lib\\site-packages (from tensorflow==2.8.0->-r requirements.txt (line 5)) (0.2.0)\n",
      "Requirement already satisfied: protobuf>=3.9.2 in e:\\conda\\lib\\site-packages (from tensorflow==2.8.0->-r requirements.txt (line 5)) (3.19.1)\n",
      "Requirement already satisfied: astunparse>=1.6.0 in e:\\conda\\lib\\site-packages (from tensorflow==2.8.0->-r requirements.txt (line 5)) (1.6.3)\n",
      "Requirement already satisfied: opt-einsum>=2.3.2 in e:\\conda\\lib\\site-packages (from tensorflow==2.8.0->-r requirements.txt (line 5)) (3.3.0)\n",
      "Requirement already satisfied: flatbuffers>=1.12 in e:\\conda\\lib\\site-packages (from tensorflow==2.8.0->-r requirements.txt (line 5)) (2.0)\n",
      "Requirement already satisfied: tensorflow-io-gcs-filesystem>=0.23.1 in e:\\conda\\lib\\site-packages (from tensorflow==2.8.0->-r requirements.txt (line 5)) (0.25.0)\n",
      "Requirement already satisfied: grpcio<2.0,>=1.24.3 in e:\\conda\\lib\\site-packages (from tensorflow==2.8.0->-r requirements.txt (line 5)) (1.42.0)\n",
      "Requirement already satisfied: tensorboard<2.9,>=2.8 in e:\\conda\\lib\\site-packages (from tensorflow==2.8.0->-r requirements.txt (line 5)) (2.8.0)\n",
      "Requirement already satisfied: termcolor>=1.1.0 in e:\\conda\\lib\\site-packages (from tensorflow==2.8.0->-r requirements.txt (line 5)) (1.1.0)\n",
      "Requirement already satisfied: gast>=0.2.1 in e:\\conda\\lib\\site-packages (from tensorflow==2.8.0->-r requirements.txt (line 5)) (0.5.3)\n",
      "Requirement already satisfied: libclang>=9.0.1 in e:\\conda\\lib\\site-packages (from tensorflow==2.8.0->-r requirements.txt (line 5)) (14.0.1)\n",
      "Requirement already satisfied: typing-extensions>=3.6.6 in e:\\conda\\lib\\site-packages (from tensorflow==2.8.0->-r requirements.txt (line 5)) (4.1.1)\n",
      "Requirement already satisfied: wrapt>=1.11.0 in c:\\users\\stephon patton\\appdata\\roaming\\python\\python39\\site-packages (from tensorflow==2.8.0->-r requirements.txt (line 5)) (1.12.1)\n",
      "Requirement already satisfied: six>=1.12.0 in c:\\users\\stephon patton\\appdata\\roaming\\python\\python39\\site-packages (from tensorflow==2.8.0->-r requirements.txt (line 5)) (1.15.0)\n",
      "Requirement already satisfied: keras<2.9,>=2.8.0rc0 in e:\\conda\\lib\\site-packages (from tensorflow==2.8.0->-r requirements.txt (line 5)) (2.8.0)\n",
      "Requirement already satisfied: absl-py>=0.4.0 in e:\\conda\\lib\\site-packages (from tensorflow==2.8.0->-r requirements.txt (line 5)) (1.0.0)\n",
      "Requirement already satisfied: h5py>=2.9.0 in e:\\conda\\lib\\site-packages (from tensorflow==2.8.0->-r requirements.txt (line 5)) (3.6.0)\n",
      "Requirement already satisfied: requests>=2.26 in e:\\conda\\lib\\site-packages (from yfinance==0.1.70->-r requirements.txt (line 6)) (2.27.1)\n",
      "Requirement already satisfied: multitasking>=0.0.7 in e:\\conda\\lib\\site-packages (from yfinance==0.1.70->-r requirements.txt (line 6)) (0.0.10)\n",
      "Requirement already satisfied: lxml>=4.5.1 in e:\\conda\\lib\\site-packages (from yfinance==0.1.70->-r requirements.txt (line 6)) (4.8.0)\n",
      "Requirement already satisfied: wheel<1.0,>=0.23.0 in e:\\conda\\lib\\site-packages (from astunparse>=1.6.0->tensorflow==2.8.0->-r requirements.txt (line 5)) (0.37.1)\n",
      "Requirement already satisfied: urllib3<1.27,>=1.21.1 in e:\\conda\\lib\\site-packages (from requests>=2.26->yfinance==0.1.70->-r requirements.txt (line 6)) (1.26.9)\n",
      "Requirement already satisfied: idna<4,>=2.5 in e:\\conda\\lib\\site-packages (from requests>=2.26->yfinance==0.1.70->-r requirements.txt (line 6)) (3.3)\n",
      "Requirement already satisfied: certifi>=2017.4.17 in e:\\conda\\lib\\site-packages (from requests>=2.26->yfinance==0.1.70->-r requirements.txt (line 6)) (2021.10.8)\n",
      "Requirement already satisfied: charset-normalizer~=2.0.0 in e:\\conda\\lib\\site-packages (from requests>=2.26->yfinance==0.1.70->-r requirements.txt (line 6)) (2.0.4)\n",
      "Requirement already satisfied: google-auth-oauthlib<0.5,>=0.4.1 in e:\\conda\\lib\\site-packages (from tensorboard<2.9,>=2.8->tensorflow==2.8.0->-r requirements.txt (line 5)) (0.4.6)\n",
      "Requirement already satisfied: tensorboard-plugin-wit>=1.6.0 in e:\\conda\\lib\\site-packages (from tensorboard<2.9,>=2.8->tensorflow==2.8.0->-r requirements.txt (line 5)) (1.8.1)\n",
      "Requirement already satisfied: markdown>=2.6.8 in e:\\conda\\lib\\site-packages (from tensorboard<2.9,>=2.8->tensorflow==2.8.0->-r requirements.txt (line 5)) (3.3.4)\n",
      "Requirement already satisfied: tensorboard-data-server<0.7.0,>=0.6.0 in e:\\conda\\lib\\site-packages (from tensorboard<2.9,>=2.8->tensorflow==2.8.0->-r requirements.txt (line 5)) (0.6.1)\n",
      "Requirement already satisfied: werkzeug>=0.11.15 in e:\\conda\\lib\\site-packages (from tensorboard<2.9,>=2.8->tensorflow==2.8.0->-r requirements.txt (line 5)) (2.0.3)\n",
      "Requirement already satisfied: google-auth<3,>=1.6.3 in e:\\conda\\lib\\site-packages (from tensorboard<2.9,>=2.8->tensorflow==2.8.0->-r requirements.txt (line 5)) (1.33.0)\n",
      "Requirement already satisfied: rsa<5,>=3.1.4 in e:\\conda\\lib\\site-packages (from google-auth<3,>=1.6.3->tensorboard<2.9,>=2.8->tensorflow==2.8.0->-r requirements.txt (line 5)) (4.7.2)\n",
      "Requirement already satisfied: cachetools<5.0,>=2.0.0 in e:\\conda\\lib\\site-packages (from google-auth<3,>=1.6.3->tensorboard<2.9,>=2.8->tensorflow==2.8.0->-r requirements.txt (line 5)) (4.2.2)\n",
      "Requirement already satisfied: pyasn1-modules>=0.2.1 in e:\\conda\\lib\\site-packages (from google-auth<3,>=1.6.3->tensorboard<2.9,>=2.8->tensorflow==2.8.0->-r requirements.txt (line 5)) (0.2.8)\n",
      "Requirement already satisfied: requests-oauthlib>=0.7.0 in e:\\conda\\lib\\site-packages (from google-auth-oauthlib<0.5,>=0.4.1->tensorboard<2.9,>=2.8->tensorflow==2.8.0->-r requirements.txt (line 5)) (1.3.1)\n",
      "Requirement already satisfied: pyasn1<0.5.0,>=0.4.6 in e:\\conda\\lib\\site-packages (from pyasn1-modules>=0.2.1->google-auth<3,>=1.6.3->tensorboard<2.9,>=2.8->tensorflow==2.8.0->-r requirements.txt (line 5)) (0.4.8)\n",
      "Requirement already satisfied: oauthlib>=3.0.0 in e:\\conda\\lib\\site-packages (from requests-oauthlib>=0.7.0->google-auth-oauthlib<0.5,>=0.4.1->tensorboard<2.9,>=2.8->tensorflow==2.8.0->-r requirements.txt (line 5)) (3.2.0)\n",
      "Requirement already satisfied: tensorflow-gpu in e:\\conda\\lib\\site-packages (2.8.0)\n",
      "Requirement already satisfied: numpy>=1.20 in e:\\conda\\lib\\site-packages (from tensorflow-gpu) (1.22.3)\n",
      "Requirement already satisfied: setuptools in e:\\conda\\lib\\site-packages (from tensorflow-gpu) (61.2.0)\n",
      "Requirement already satisfied: keras-preprocessing>=1.1.1 in e:\\conda\\lib\\site-packages (from tensorflow-gpu) (1.1.2)\n",
      "Requirement already satisfied: tensorflow-io-gcs-filesystem>=0.23.1 in e:\\conda\\lib\\site-packages (from tensorflow-gpu) (0.25.0)\n",
      "Requirement already satisfied: google-pasta>=0.1.1 in e:\\conda\\lib\\site-packages (from tensorflow-gpu) (0.2.0)\n",
      "Requirement already satisfied: six>=1.12.0 in c:\\users\\stephon patton\\appdata\\roaming\\python\\python39\\site-packages (from tensorflow-gpu) (1.15.0)\n",
      "Requirement already satisfied: tf-estimator-nightly==2.8.0.dev2021122109 in e:\\conda\\lib\\site-packages (from tensorflow-gpu) (2.8.0.dev2021122109)\n",
      "Requirement already satisfied: opt-einsum>=2.3.2 in e:\\conda\\lib\\site-packages (from tensorflow-gpu) (3.3.0)\n",
      "Requirement already satisfied: gast>=0.2.1 in e:\\conda\\lib\\site-packages (from tensorflow-gpu) (0.5.3)\n",
      "Requirement already satisfied: wrapt>=1.11.0 in c:\\users\\stephon patton\\appdata\\roaming\\python\\python39\\site-packages (from tensorflow-gpu) (1.12.1)\n",
      "Requirement already satisfied: flatbuffers>=1.12 in e:\\conda\\lib\\site-packages (from tensorflow-gpu) (2.0)\n",
      "Requirement already satisfied: protobuf>=3.9.2 in e:\\conda\\lib\\site-packages (from tensorflow-gpu) (3.19.1)\n",
      "Requirement already satisfied: grpcio<2.0,>=1.24.3 in e:\\conda\\lib\\site-packages (from tensorflow-gpu) (1.42.0)\n",
      "Requirement already satisfied: absl-py>=0.4.0 in e:\\conda\\lib\\site-packages (from tensorflow-gpu) (1.0.0)\n",
      "Requirement already satisfied: typing-extensions>=3.6.6 in e:\\conda\\lib\\site-packages (from tensorflow-gpu) (4.1.1)\n",
      "Requirement already satisfied: astunparse>=1.6.0 in e:\\conda\\lib\\site-packages (from tensorflow-gpu) (1.6.3)\n",
      "Requirement already satisfied: keras<2.9,>=2.8.0rc0 in e:\\conda\\lib\\site-packages (from tensorflow-gpu) (2.8.0)\n",
      "Requirement already satisfied: h5py>=2.9.0 in e:\\conda\\lib\\site-packages (from tensorflow-gpu) (3.6.0)\n",
      "Requirement already satisfied: libclang>=9.0.1 in e:\\conda\\lib\\site-packages (from tensorflow-gpu) (14.0.1)\n",
      "Requirement already satisfied: termcolor>=1.1.0 in e:\\conda\\lib\\site-packages (from tensorflow-gpu) (1.1.0)\n",
      "Requirement already satisfied: tensorboard<2.9,>=2.8 in e:\\conda\\lib\\site-packages (from tensorflow-gpu) (2.8.0)\n",
      "Requirement already satisfied: wheel<1.0,>=0.23.0 in e:\\conda\\lib\\site-packages (from astunparse>=1.6.0->tensorflow-gpu) (0.37.1)\n",
      "Requirement already satisfied: google-auth-oauthlib<0.5,>=0.4.1 in e:\\conda\\lib\\site-packages (from tensorboard<2.9,>=2.8->tensorflow-gpu) (0.4.6)\n",
      "Requirement already satisfied: werkzeug>=0.11.15 in e:\\conda\\lib\\site-packages (from tensorboard<2.9,>=2.8->tensorflow-gpu) (2.0.3)\n",
      "Requirement already satisfied: requests<3,>=2.21.0 in e:\\conda\\lib\\site-packages (from tensorboard<2.9,>=2.8->tensorflow-gpu) (2.27.1)\n",
      "Requirement already satisfied: markdown>=2.6.8 in e:\\conda\\lib\\site-packages (from tensorboard<2.9,>=2.8->tensorflow-gpu) (3.3.4)\n",
      "Requirement already satisfied: tensorboard-data-server<0.7.0,>=0.6.0 in e:\\conda\\lib\\site-packages (from tensorboard<2.9,>=2.8->tensorflow-gpu) (0.6.1)\n",
      "Requirement already satisfied: tensorboard-plugin-wit>=1.6.0 in e:\\conda\\lib\\site-packages (from tensorboard<2.9,>=2.8->tensorflow-gpu) (1.8.1)\n",
      "Requirement already satisfied: google-auth<3,>=1.6.3 in e:\\conda\\lib\\site-packages (from tensorboard<2.9,>=2.8->tensorflow-gpu) (1.33.0)\n",
      "Requirement already satisfied: cachetools<5.0,>=2.0.0 in e:\\conda\\lib\\site-packages (from google-auth<3,>=1.6.3->tensorboard<2.9,>=2.8->tensorflow-gpu) (4.2.2)\n",
      "Requirement already satisfied: rsa<5,>=3.1.4 in e:\\conda\\lib\\site-packages (from google-auth<3,>=1.6.3->tensorboard<2.9,>=2.8->tensorflow-gpu) (4.7.2)\n",
      "Requirement already satisfied: pyasn1-modules>=0.2.1 in e:\\conda\\lib\\site-packages (from google-auth<3,>=1.6.3->tensorboard<2.9,>=2.8->tensorflow-gpu) (0.2.8)\n",
      "Requirement already satisfied: requests-oauthlib>=0.7.0 in e:\\conda\\lib\\site-packages (from google-auth-oauthlib<0.5,>=0.4.1->tensorboard<2.9,>=2.8->tensorflow-gpu) (1.3.1)\n",
      "Requirement already satisfied: pyasn1<0.5.0,>=0.4.6 in e:\\conda\\lib\\site-packages (from pyasn1-modules>=0.2.1->google-auth<3,>=1.6.3->tensorboard<2.9,>=2.8->tensorflow-gpu) (0.4.8)\n",
      "Requirement already satisfied: idna<4,>=2.5 in e:\\conda\\lib\\site-packages (from requests<3,>=2.21.0->tensorboard<2.9,>=2.8->tensorflow-gpu) (3.3)\n",
      "Requirement already satisfied: urllib3<1.27,>=1.21.1 in e:\\conda\\lib\\site-packages (from requests<3,>=2.21.0->tensorboard<2.9,>=2.8->tensorflow-gpu) (1.26.9)\n",
      "Requirement already satisfied: certifi>=2017.4.17 in e:\\conda\\lib\\site-packages (from requests<3,>=2.21.0->tensorboard<2.9,>=2.8->tensorflow-gpu) (2021.10.8)\n",
      "Requirement already satisfied: charset-normalizer~=2.0.0 in e:\\conda\\lib\\site-packages (from requests<3,>=2.21.0->tensorboard<2.9,>=2.8->tensorflow-gpu) (2.0.4)\n",
      "Requirement already satisfied: oauthlib>=3.0.0 in e:\\conda\\lib\\site-packages (from requests-oauthlib>=0.7.0->google-auth-oauthlib<0.5,>=0.4.1->tensorboard<2.9,>=2.8->tensorflow-gpu) (3.2.0)\n"
     ]
    }
   ],
   "source": [
    "!pip install -r requirements.txt\n",
    "# !pip install tensorflow yfinance pandas sklearn"
   ],
   "metadata": {
    "collapsed": false,
    "pycharm": {
     "name": "#%%\n"
    }
   }
  },
  {
   "cell_type": "code",
   "execution_count": 2,
   "outputs": [],
   "source": [
    "import pandas as pd\n",
    "import tensorflow as tf\n",
    "import yfinance as yf"
   ],
   "metadata": {
    "collapsed": false,
    "pycharm": {
     "name": "#%%\n"
    }
   }
  },
  {
   "cell_type": "code",
   "execution_count": 3,
   "outputs": [
    {
     "name": "stdout",
     "output_type": "stream",
     "text": [
      "[*********************100%***********************]  1 of 1 completed\n"
     ]
    }
   ],
   "source": [
    "from datetime import datetime, timedelta\n",
    "end_date = datetime.today().strftime('%Y-%m-%d')\n",
    "start_date_dt = datetime.now() - timedelta(days=10*365)\n",
    "start_date = start_date_dt.strftime('%Y-%m-%d')\n",
    "aapl = yf.download(\"AAPL\", start = start_date, end = end_date)"
   ],
   "metadata": {
    "collapsed": false,
    "pycharm": {
     "name": "#%%\n"
    }
   }
  },
  {
   "cell_type": "code",
   "execution_count": 4,
   "outputs": [],
   "source": [
    "df = pd.DataFrame(aapl)\n",
    "df1 = df.reset_index()['Close']"
   ],
   "metadata": {
    "collapsed": false,
    "pycharm": {
     "name": "#%%\n"
    }
   }
  },
  {
   "cell_type": "code",
   "execution_count": 5,
   "outputs": [
    {
     "data": {
      "text/plain": "[<matplotlib.lines.Line2D at 0x234199ad7f0>]"
     },
     "execution_count": 5,
     "metadata": {},
     "output_type": "execute_result"
    },
    {
     "data": {
      "text/plain": "<Figure size 432x288 with 1 Axes>",
      "image/png": "[encoded data removed]"
     },
     "metadata": {
      "needs_background": "light"
     },
     "output_type": "display_data"
    }
   ],
   "source": [
    "import matplotlib.pyplot as plt\n",
    "plt.plot(df1)"
   ],
   "metadata": {
    "collapsed": false,
    "pycharm": {
     "name": "#%%\n"
    }
   }
  },
  {
   "cell_type": "code",
   "execution_count": 6,
   "outputs": [],
   "source": [
    "import numpy as np\n",
    "from sklearn.preprocessing import MinMaxScaler\n",
    "scaler=MinMaxScaler(feature_range=(0,1))\n",
    "df1 = scaler.fit_transform(np.array(df1).reshape(-1, 1))"
   ],
   "metadata": {
    "collapsed": false,
    "pycharm": {
     "name": "#%%\n"
    }
   }
  },
  {
   "cell_type": "code",
   "execution_count": 7,
   "outputs": [],
   "source": [
    "# Split data \n",
    "train_size = int(len(df1)*.95) # 65% \n",
    "test_size = len(df1) - train_size\n",
    "train, test = df1[0:train_size,:], df1[train_size:len(df1), :1]"
   ],
   "metadata": {
    "collapsed": false,
    "pycharm": {
     "name": "#%%\n"
    }
   }
  },
  {
   "cell_type": "code",
   "execution_count": 8,
   "outputs": [],
   "source": [
    "def create_dataset(data, time_step=1):\n",
    "    dataX, dataY = [], []\n",
    "    for i in range(len(data)-time_step-1):\n",
    "        a = data[i:(i+time_step), 0]\n",
    "        dataX.append(a)\n",
    "        dataY.append(data[i + time_step, 0])\n",
    "    return np.array(dataX), np.array(dataY)"
   ],
   "metadata": {
    "collapsed": false,
    "pycharm": {
     "name": "#%%\n"
    }
   }
  },
  {
   "cell_type": "code",
   "execution_count": 9,
   "outputs": [],
   "source": [
    "time_step = 100\n",
    "X_train, y_train = create_dataset(train, time_step)\n",
    "X_test, y_test = create_dataset(test, time_step)"
   ],
   "metadata": {
    "collapsed": false,
    "pycharm": {
     "name": "#%%\n"
    }
   }
  },
  {
   "cell_type": "code",
   "execution_count": 11,
   "outputs": [],
   "source": [
    "# Reshape to be inputted into LSTM \n",
    "X_train = X_train.reshape(X_train.shape[0], X_train.shape[1], 1)\n",
    "X_test = X_test.reshape(X_test.shape[0], X_test.shape[1], 1)"
   ],
   "metadata": {
    "collapsed": false,
    "pycharm": {
     "name": "#%%\n"
    }
   }
  },
  {
   "cell_type": "code",
   "execution_count": 12,
   "outputs": [],
   "source": [
    "# Create Stacked LSTM\n",
    "from tensorflow.keras.models import Sequential\n",
    "from tensorflow.keras.layers import Dense\n",
    "from tensorflow.keras.layers import LSTM\n",
    "from tensorflow.keras.layers import Dropout \n",
    "model = Sequential()\n",
    "model.add(LSTM(50, return_sequences=True, input_shape=(100, 1)))\n",
    "model.add(Dropout(.5))\n",
    "model.add(LSTM(50, return_sequences=True))\n",
    "model.add(LSTM(50, return_sequences=True))\n",
    "model.add(LSTM(50))\n",
    "model.add(Dense(1))\n",
    "model.compile(loss='mean_squared_error', optimizer='adam')"
   ],
   "metadata": {
    "collapsed": false,
    "pycharm": {
     "name": "#%%\n"
    }
   }
  },
  {
   "cell_type": "code",
   "execution_count": 13,
   "outputs": [
    {
     "name": "stdout",
     "output_type": "stream",
     "text": [
      "Model: \"sequential\"\n",
      "_________________________________________________________________\n",
      " Layer (type)                Output Shape              Param #   \n",
      "=================================================================\n",
      " lstm (LSTM)                 (None, 100, 50)           10400     \n",
      "                                                                 \n",
      " dropout (Dropout)           (None, 100, 50)           0         \n",
      "                                                                 \n",
      " lstm_1 (LSTM)               (None, 100, 50)           20200     \n",
      "                                                                 \n",
      " lstm_2 (LSTM)               (None, 100, 50)           20200     \n",
      "                                                                 \n",
      " lstm_3 (LSTM)               (None, 50)                20200     \n",
      "                                                                 \n",
      " dense (Dense)               (None, 1)                 51        \n",
      "                                                                 \n",
      "=================================================================\n",
      "Total params: 71,051\n",
      "Trainable params: 71,051\n",
      "Non-trainable params: 0\n",
      "_________________________________________________________________\n"
     ]
    }
   ],
   "source": [
    "model.summary()"
   ],
   "metadata": {
    "collapsed": false,
    "pycharm": {
     "name": "#%%\n"
    }
   }
  },
  {
   "cell_type": "code",
   "execution_count": 14,
   "outputs": [
    {
     "name": "stdout",
     "output_type": "stream",
     "text": [
      "Epoch 1/100\n",
      "10/10 [==============================] - 10s 469ms/step - loss: 0.0362 - val_loss: 0.0487\n",
      "Epoch 2/100\n",
      "10/10 [==============================] - 3s 335ms/step - loss: 0.0052 - val_loss: 0.0227\n",
      "Epoch 3/100\n",
      "10/10 [==============================] - 4s 352ms/step - loss: 0.0019 - val_loss: 0.0108\n",
      "Epoch 4/100\n",
      "10/10 [==============================] - 4s 365ms/step - loss: 0.0014 - val_loss: 0.0022\n",
      "Epoch 5/100\n",
      "10/10 [==============================] - 4s 374ms/step - loss: 7.6870e-04 - val_loss: 0.0020\n",
      "Epoch 6/100\n",
      "10/10 [==============================] - 4s 362ms/step - loss: 8.0411e-04 - val_loss: 0.0019\n",
      "Epoch 7/100\n",
      "10/10 [==============================] - 4s 374ms/step - loss: 6.9227e-04 - val_loss: 0.0030\n",
      "Epoch 8/100\n",
      "10/10 [==============================] - 4s 367ms/step - loss: 6.6369e-04 - val_loss: 0.0018\n",
      "Epoch 9/100\n",
      "10/10 [==============================] - 4s 381ms/step - loss: 6.2192e-04 - val_loss: 0.0020\n",
      "Epoch 10/100\n",
      "10/10 [==============================] - 4s 384ms/step - loss: 6.3505e-04 - val_loss: 0.0017\n",
      "Epoch 11/100\n",
      "10/10 [==============================] - 4s 390ms/step - loss: 6.5693e-04 - val_loss: 0.0018\n",
      "Epoch 12/100\n",
      "10/10 [==============================] - 4s 389ms/step - loss: 6.2892e-04 - val_loss: 0.0019\n",
      "Epoch 13/100\n",
      "10/10 [==============================] - 4s 388ms/step - loss: 5.9678e-04 - val_loss: 0.0022\n",
      "Epoch 14/100\n",
      "10/10 [==============================] - 4s 383ms/step - loss: 6.0144e-04 - val_loss: 0.0017\n",
      "Epoch 15/100\n",
      "10/10 [==============================] - 4s 389ms/step - loss: 5.9863e-04 - val_loss: 0.0017\n",
      "Epoch 16/100\n",
      "10/10 [==============================] - 4s 383ms/step - loss: 6.0774e-04 - val_loss: 0.0017\n",
      "Epoch 17/100\n",
      "10/10 [==============================] - 4s 386ms/step - loss: 5.3579e-04 - val_loss: 0.0017\n",
      "Epoch 18/100\n",
      "10/10 [==============================] - 4s 384ms/step - loss: 5.6476e-04 - val_loss: 0.0019\n",
      "Epoch 19/100\n",
      "10/10 [==============================] - 4s 398ms/step - loss: 5.3973e-04 - val_loss: 0.0016\n",
      "Epoch 20/100\n",
      "10/10 [==============================] - 4s 390ms/step - loss: 6.1861e-04 - val_loss: 0.0016\n",
      "Epoch 21/100\n",
      "10/10 [==============================] - 4s 409ms/step - loss: 5.7218e-04 - val_loss: 0.0018\n",
      "Epoch 22/100\n",
      "10/10 [==============================] - 4s 405ms/step - loss: 5.2119e-04 - val_loss: 0.0016\n",
      "Epoch 23/100\n",
      "10/10 [==============================] - 4s 402ms/step - loss: 5.8817e-04 - val_loss: 0.0021\n",
      "Epoch 24/100\n",
      "10/10 [==============================] - 4s 401ms/step - loss: 5.6660e-04 - val_loss: 0.0035\n",
      "Epoch 25/100\n",
      "10/10 [==============================] - 4s 396ms/step - loss: 5.5198e-04 - val_loss: 0.0018\n",
      "Epoch 26/100\n",
      "10/10 [==============================] - 4s 397ms/step - loss: 5.0850e-04 - val_loss: 0.0017\n",
      "Epoch 27/100\n",
      "10/10 [==============================] - 4s 395ms/step - loss: 5.0624e-04 - val_loss: 0.0016\n",
      "Epoch 28/100\n",
      "10/10 [==============================] - 4s 397ms/step - loss: 5.0212e-04 - val_loss: 0.0020\n",
      "Epoch 29/100\n",
      "10/10 [==============================] - 4s 397ms/step - loss: 5.1038e-04 - val_loss: 0.0015\n",
      "Epoch 30/100\n",
      "10/10 [==============================] - 4s 389ms/step - loss: 5.1461e-04 - val_loss: 0.0015\n",
      "Epoch 31/100\n",
      "10/10 [==============================] - 4s 403ms/step - loss: 4.9977e-04 - val_loss: 0.0020\n",
      "Epoch 32/100\n",
      "10/10 [==============================] - 4s 394ms/step - loss: 5.4675e-04 - val_loss: 0.0020\n",
      "Epoch 33/100\n",
      "10/10 [==============================] - 4s 400ms/step - loss: 5.1105e-04 - val_loss: 0.0016\n",
      "Epoch 34/100\n",
      "10/10 [==============================] - 4s 390ms/step - loss: 4.9594e-04 - val_loss: 0.0014\n",
      "Epoch 35/100\n",
      "10/10 [==============================] - 4s 389ms/step - loss: 4.6997e-04 - val_loss: 0.0024\n",
      "Epoch 36/100\n",
      "10/10 [==============================] - 4s 380ms/step - loss: 4.6590e-04 - val_loss: 0.0023\n",
      "Epoch 37/100\n",
      "10/10 [==============================] - 4s 383ms/step - loss: 4.5909e-04 - val_loss: 0.0014\n",
      "Epoch 38/100\n",
      "10/10 [==============================] - 4s 385ms/step - loss: 5.1043e-04 - val_loss: 0.0016\n",
      "Epoch 39/100\n",
      "10/10 [==============================] - 4s 381ms/step - loss: 4.1762e-04 - val_loss: 0.0022\n",
      "Epoch 40/100\n",
      "10/10 [==============================] - 4s 376ms/step - loss: 4.9707e-04 - val_loss: 0.0012\n",
      "Epoch 41/100\n",
      "10/10 [==============================] - 4s 370ms/step - loss: 5.1867e-04 - val_loss: 0.0020\n",
      "Epoch 42/100\n",
      "10/10 [==============================] - 4s 371ms/step - loss: 4.9740e-04 - val_loss: 0.0017\n",
      "Epoch 43/100\n",
      "10/10 [==============================] - 4s 374ms/step - loss: 4.4751e-04 - val_loss: 0.0015\n",
      "Epoch 44/100\n",
      "10/10 [==============================] - 4s 372ms/step - loss: 4.8111e-04 - val_loss: 0.0014\n",
      "Epoch 45/100\n",
      "10/10 [==============================] - 4s 380ms/step - loss: 4.7065e-04 - val_loss: 0.0014\n",
      "Epoch 46/100\n",
      "10/10 [==============================] - 4s 380ms/step - loss: 4.5494e-04 - val_loss: 0.0010\n",
      "Epoch 47/100\n",
      "10/10 [==============================] - 4s 376ms/step - loss: 4.2823e-04 - val_loss: 0.0014\n",
      "Epoch 48/100\n",
      "10/10 [==============================] - 4s 377ms/step - loss: 4.4818e-04 - val_loss: 0.0011\n",
      "Epoch 49/100\n",
      "10/10 [==============================] - 4s 386ms/step - loss: 4.1235e-04 - val_loss: 0.0013\n",
      "Epoch 50/100\n",
      "10/10 [==============================] - 4s 385ms/step - loss: 4.0791e-04 - val_loss: 0.0014\n",
      "Epoch 51/100\n",
      "10/10 [==============================] - 4s 381ms/step - loss: 4.0725e-04 - val_loss: 0.0016\n",
      "Epoch 52/100\n",
      "10/10 [==============================] - 4s 378ms/step - loss: 4.1345e-04 - val_loss: 8.9893e-04\n",
      "Epoch 53/100\n",
      "10/10 [==============================] - 4s 379ms/step - loss: 4.4268e-04 - val_loss: 0.0016\n",
      "Epoch 54/100\n",
      "10/10 [==============================] - 4s 379ms/step - loss: 3.9373e-04 - val_loss: 0.0017\n",
      "Epoch 55/100\n",
      "10/10 [==============================] - 4s 381ms/step - loss: 3.7352e-04 - val_loss: 8.8456e-04\n",
      "Epoch 56/100\n",
      "10/10 [==============================] - 4s 376ms/step - loss: 4.5694e-04 - val_loss: 0.0053\n",
      "Epoch 57/100\n",
      "10/10 [==============================] - 4s 370ms/step - loss: 5.0855e-04 - val_loss: 0.0016\n",
      "Epoch 58/100\n",
      "10/10 [==============================] - 4s 372ms/step - loss: 4.8447e-04 - val_loss: 0.0012\n",
      "Epoch 59/100\n",
      "10/10 [==============================] - 4s 365ms/step - loss: 4.3633e-04 - val_loss: 0.0025\n",
      "Epoch 60/100\n",
      "10/10 [==============================] - 4s 380ms/step - loss: 4.6075e-04 - val_loss: 9.6364e-04\n",
      "Epoch 61/100\n",
      "10/10 [==============================] - 4s 385ms/step - loss: 3.9046e-04 - val_loss: 0.0020\n",
      "Epoch 62/100\n",
      "10/10 [==============================] - 4s 384ms/step - loss: 4.1230e-04 - val_loss: 9.7269e-04\n",
      "Epoch 63/100\n",
      "10/10 [==============================] - 4s 371ms/step - loss: 3.7895e-04 - val_loss: 0.0014\n",
      "Epoch 64/100\n",
      "10/10 [==============================] - 4s 376ms/step - loss: 3.7683e-04 - val_loss: 9.9692e-04\n",
      "Epoch 65/100\n",
      "10/10 [==============================] - 4s 374ms/step - loss: 3.6483e-04 - val_loss: 8.6752e-04\n",
      "Epoch 66/100\n",
      "10/10 [==============================] - 4s 379ms/step - loss: 3.6412e-04 - val_loss: 8.7088e-04\n",
      "Epoch 67/100\n",
      "10/10 [==============================] - 4s 384ms/step - loss: 3.2610e-04 - val_loss: 0.0011\n",
      "Epoch 68/100\n",
      "10/10 [==============================] - 4s 370ms/step - loss: 3.6430e-04 - val_loss: 8.6215e-04\n",
      "Epoch 69/100\n",
      "10/10 [==============================] - 4s 373ms/step - loss: 3.3661e-04 - val_loss: 0.0016\n",
      "Epoch 70/100\n",
      "10/10 [==============================] - 4s 370ms/step - loss: 3.3662e-04 - val_loss: 8.8911e-04\n",
      "Epoch 71/100\n",
      "10/10 [==============================] - 4s 376ms/step - loss: 3.3944e-04 - val_loss: 0.0018\n",
      "Epoch 72/100\n",
      "10/10 [==============================] - 4s 373ms/step - loss: 3.5002e-04 - val_loss: 9.2118e-04\n",
      "Epoch 73/100\n",
      "10/10 [==============================] - 4s 373ms/step - loss: 3.2680e-04 - val_loss: 9.7246e-04\n",
      "Epoch 74/100\n",
      "10/10 [==============================] - 4s 357ms/step - loss: 3.1599e-04 - val_loss: 0.0011\n",
      "Epoch 75/100\n",
      "10/10 [==============================] - 4s 376ms/step - loss: 3.2887e-04 - val_loss: 0.0012\n",
      "Epoch 76/100\n",
      "10/10 [==============================] - 4s 363ms/step - loss: 3.8946e-04 - val_loss: 0.0030\n",
      "Epoch 77/100\n",
      "10/10 [==============================] - 4s 365ms/step - loss: 3.7678e-04 - val_loss: 0.0015\n",
      "Epoch 78/100\n",
      "10/10 [==============================] - 4s 365ms/step - loss: 3.9227e-04 - val_loss: 0.0019\n",
      "Epoch 79/100\n",
      "10/10 [==============================] - 4s 365ms/step - loss: 3.6288e-04 - val_loss: 0.0018\n",
      "Epoch 80/100\n",
      "10/10 [==============================] - 4s 374ms/step - loss: 3.4823e-04 - val_loss: 0.0012\n",
      "Epoch 81/100\n",
      "10/10 [==============================] - 4s 376ms/step - loss: 3.5471e-04 - val_loss: 0.0025\n",
      "Epoch 82/100\n",
      "10/10 [==============================] - 4s 374ms/step - loss: 4.6701e-04 - val_loss: 0.0028\n",
      "Epoch 83/100\n",
      "10/10 [==============================] - 4s 372ms/step - loss: 4.3905e-04 - val_loss: 0.0028\n",
      "Epoch 84/100\n",
      "10/10 [==============================] - 4s 373ms/step - loss: 3.9419e-04 - val_loss: 0.0014\n",
      "Epoch 85/100\n",
      "10/10 [==============================] - 4s 368ms/step - loss: 3.1310e-04 - val_loss: 0.0013\n",
      "Epoch 86/100\n",
      "10/10 [==============================] - 4s 379ms/step - loss: 3.0540e-04 - val_loss: 0.0014\n",
      "Epoch 87/100\n",
      "10/10 [==============================] - 4s 375ms/step - loss: 3.1314e-04 - val_loss: 0.0017\n",
      "Epoch 88/100\n",
      "10/10 [==============================] - 4s 371ms/step - loss: 2.8812e-04 - val_loss: 0.0013\n",
      "Epoch 89/100\n",
      "10/10 [==============================] - 4s 366ms/step - loss: 2.8581e-04 - val_loss: 0.0013\n",
      "Epoch 90/100\n",
      "10/10 [==============================] - 4s 363ms/step - loss: 2.8808e-04 - val_loss: 0.0016\n",
      "Epoch 91/100\n",
      "10/10 [==============================] - 4s 364ms/step - loss: 3.1637e-04 - val_loss: 0.0013\n",
      "Epoch 92/100\n",
      "10/10 [==============================] - 4s 368ms/step - loss: 2.8971e-04 - val_loss: 0.0022\n",
      "Epoch 93/100\n",
      "10/10 [==============================] - 4s 366ms/step - loss: 3.5338e-04 - val_loss: 0.0020\n",
      "Epoch 94/100\n",
      "10/10 [==============================] - 4s 367ms/step - loss: 3.1754e-04 - val_loss: 0.0014\n",
      "Epoch 95/100\n",
      "10/10 [==============================] - 4s 359ms/step - loss: 2.7566e-04 - val_loss: 0.0016\n",
      "Epoch 96/100\n",
      "10/10 [==============================] - 4s 363ms/step - loss: 2.6909e-04 - val_loss: 0.0018\n",
      "Epoch 97/100\n",
      "10/10 [==============================] - 4s 361ms/step - loss: 2.8658e-04 - val_loss: 0.0017\n",
      "Epoch 98/100\n",
      "10/10 [==============================] - 4s 369ms/step - loss: 2.9022e-04 - val_loss: 0.0015\n",
      "Epoch 99/100\n",
      "10/10 [==============================] - 4s 367ms/step - loss: 3.3389e-04 - val_loss: 0.0024\n",
      "Epoch 100/100\n",
      "10/10 [==============================] - 4s 367ms/step - loss: 2.9703e-04 - val_loss: 0.0017\n"
     ]
    },
    {
     "data": {
      "text/plain": "<keras.callbacks.History at 0x2342544bee0>"
     },
     "execution_count": 14,
     "metadata": {},
     "output_type": "execute_result"
    }
   ],
   "source": [
    "model.fit(X_train, y_train, validation_data=(X_test, y_test), epochs=100, batch_size=250, verbose=1)"
   ],
   "metadata": {
    "collapsed": false,
    "pycharm": {
     "name": "#%%\n"
    }
   }
  },
  {
   "cell_type": "code",
   "execution_count": 15,
   "outputs": [],
   "source": [
    "prediction = model.predict(X_train)\n",
    "test_prediction = model.predict(X_test)"
   ],
   "metadata": {
    "collapsed": false,
    "pycharm": {
     "name": "#%%\n"
    }
   }
  },
  {
   "cell_type": "code",
   "execution_count": 16,
   "outputs": [],
   "source": [
    "prediction = scaler.inverse_transform(prediction)\n",
    "test_prediction = scaler.inverse_transform(test_prediction)"
   ],
   "metadata": {
    "collapsed": false,
    "pycharm": {
     "name": "#%%\n"
    }
   }
  },
  {
   "cell_type": "code",
   "execution_count": 17,
   "outputs": [
    {
     "data": {
      "text/plain": "61.29467423692592"
     },
     "execution_count": 17,
     "metadata": {},
     "output_type": "execute_result"
    }
   ],
   "source": [
    "import math\n",
    "from sklearn.metrics import mean_squared_error\n",
    "math.sqrt(mean_squared_error(y_train, prediction))"
   ],
   "metadata": {
    "collapsed": false,
    "pycharm": {
     "name": "#%%\n"
    }
   }
  },
  {
   "cell_type": "code",
   "execution_count": 18,
   "outputs": [
    {
     "data": {
      "text/plain": "153.9611566559059"
     },
     "execution_count": 18,
     "metadata": {},
     "output_type": "execute_result"
    }
   ],
   "source": [
    "math.sqrt(mean_squared_error(y_test, test_prediction))"
   ],
   "metadata": {
    "collapsed": false,
    "pycharm": {
     "name": "#%%\n"
    }
   }
  },
  {
   "cell_type": "code",
   "execution_count": 20,
   "outputs": [],
   "source": [
    "x_input = test[len(test)-100:].reshape(1, -1)"
   ],
   "metadata": {
    "collapsed": false,
    "pycharm": {
     "name": "#%%\n"
    }
   }
  },
  {
   "cell_type": "code",
   "execution_count": 21,
   "outputs": [],
   "source": [
    "temp_input = list(x_input)\n",
    "temp_input = temp_input[0].tolist()"
   ],
   "metadata": {
    "collapsed": false,
    "pycharm": {
     "name": "#%%\n"
    }
   }
  },
  {
   "cell_type": "code",
   "execution_count": null,
   "outputs": [],
   "source": [
    "# Prediction for next 30 days\n",
    "\n",
    "lst_output=[]\n",
    "n_steps=100\n",
    "i=0\n",
    "while i<30:\n",
    "    if len(temp_input)>100:\n",
    "        x_input=np.array(temp_input[1:])\n",
    "        print(\"{} day input {}\".format(i,x_input))\n",
    "        x_input=x_input.reshape(1,-1)\n",
    "        x_input = x_input.reshape((1, n_steps, 1))\n",
    "        yhat = model.predict(x_input, verbose=0)\n",
    "        print(\"{} day output {}\".format(i,yhat))\n",
    "        temp_input.extend(yhat[0].tolist())\n",
    "        temp_input=temp_input[1:]\n",
    "        lst_output.extend(yhat.tolist())\n",
    "        i=i+1\n",
    "    else:\n",
    "        x_input = x_input.reshape((1, n_steps,1))\n",
    "        yhat = model.predict(x_input, verbose=0)\n",
    "        temp_input.extend(yhat[0].tolist())\n",
    "        lst_output.extend(yhat.tolist())\n",
    "        i=i+1"
   ],
   "metadata": {
    "collapsed": false,
    "pycharm": {
     "name": "#%%\n"
    }
   }
  },
  {
   "cell_type": "code",
   "execution_count": 23,
   "outputs": [],
   "source": [
    "day_new=np.arange(1,101)\n",
    "day_pred=np.arange(101,131)"
   ],
   "metadata": {
    "collapsed": false,
    "pycharm": {
     "name": "#%%\n"
    }
   }
  },
  {
   "cell_type": "code",
   "execution_count": 24,
   "outputs": [
    {
     "name": "stdout",
     "output_type": "stream",
     "text": [
      "[[146.68493915]\n",
      " [145.38326045]\n",
      " [144.28550403]\n",
      " [143.44986043]\n",
      " [142.88407301]\n",
      " [142.56095481]\n",
      " [142.43513745]\n",
      " [142.45643424]\n",
      " [142.57818457]\n",
      " [142.76175169]\n",
      " [142.97783498]\n",
      " [143.20537807]\n",
      " [143.43013635]\n",
      " [143.64244312]\n",
      " [143.83566692]\n",
      " [144.00480912]\n",
      " [144.14590286]\n",
      " [144.25555229]\n",
      " [144.3308123 ]\n",
      " [144.369419  ]\n",
      " [144.36958929]\n",
      " [144.33061196]\n",
      " [144.25250703]\n",
      " [144.13623617]\n",
      " [143.98363254]\n",
      " [143.79731066]\n",
      " [143.58056622]\n",
      " [143.3370856 ]\n",
      " [143.07105603]\n",
      " [142.78677492]]\n"
     ]
    }
   ],
   "source": [
    "print(scaler.inverse_transform(lst_output[0:]))"
   ],
   "metadata": {
    "collapsed": false,
    "pycharm": {
     "name": "#%%\n"
    }
   }
  },
  {
   "cell_type": "code",
   "execution_count": 25,
   "outputs": [
    {
     "data": {
      "text/plain": "[<matplotlib.lines.Line2D at 0x23435502b20>]"
     },
     "execution_count": 25,
     "metadata": {},
     "output_type": "execute_result"
    },
    {
     "data": {
      "text/plain": "<Figure size 432x288 with 1 Axes>",
      "image/png": "[encoded data removed]"
     },
     "metadata": {
      "needs_background": "light"
     },
     "output_type": "display_data"
    }
   ],
   "source": [
    "plt.plot(day_new,scaler.inverse_transform(df1[len(df1)-100:]))\n",
    "plt.plot(day_pred,scaler.inverse_transform(lst_output))"
   ],
   "metadata": {
    "collapsed": false,
    "pycharm": {
     "name": "#%%\n"
    }
   }
  },
  {
   "cell_type": "code",
   "execution_count": 26,
   "outputs": [
    {
     "data": {
      "text/plain": "[<matplotlib.lines.Line2D at 0x234356286d0>]"
     },
     "execution_count": 26,
     "metadata": {},
     "output_type": "execute_result"
    },
    {
     "data": {
      "text/plain": "<Figure size 432x288 with 1 Axes>",
      "image/png": "[encoded data removed]"
     },
     "metadata": {
      "needs_background": "light"
     },
     "output_type": "display_data"
    }
   ],
   "source": [
    "df3=df1.tolist()\n",
    "df3.extend(lst_output)\n",
    "plt.plot(df3[1200:])"
   ],
   "metadata": {
    "collapsed": false,
    "pycharm": {
     "name": "#%%\n"
    }
   }
  },
  {
   "cell_type": "code",
   "execution_count": 27,
   "outputs": [],
   "source": [
    "df3=scaler.inverse_transform(df3).tolist()"
   ],
   "metadata": {
    "collapsed": false,
    "pycharm": {
     "name": "#%%\n"
    }
   }
  },
  {
   "cell_type": "code",
   "execution_count": 28,
   "outputs": [
    {
     "data": {
      "text/plain": "[<matplotlib.lines.Line2D at 0x2343552dd90>]"
     },
     "execution_count": 28,
     "metadata": {},
     "output_type": "execute_result"
    },
    {
     "data": {
      "text/plain": "<Figure size 432x288 with 1 Axes>",
      "image/png": "[encoded data removed]"
     },
     "metadata": {
      "needs_background": "light"
     },
     "output_type": "display_data"
    }
   ],
   "source": [
    "plt.plot(df3)"
   ],
   "metadata": {
    "collapsed": false,
    "pycharm": {
     "name": "#%%\n"
    }
   }
  },
  {
   "cell_type": "code",
   "execution_count": 29,
   "outputs": [],
   "source": [
    "import time\n",
    "from datetime import datetime\n",
    "\n",
    "SECONDS_IN_DAY = 86400\n",
    "\n",
    "now = int( time.time())\n",
    "\n",
    "data_set = {\"c\": [], \"t\": []}\n",
    "inversed_output = scaler.inverse_transform(lst_output)\n",
    "inversed_output.tolist()\n",
    "for i in range(len(inversed_output)):\n",
    "    now = SECONDS_IN_DAY + now\n",
    "    data_set[\"c\"].insert(i, round(float(inversed_output[i]), 2))\n",
    "    data_set[\"t\"].insert(i, int(now))"
   ],
   "metadata": {
    "collapsed": false,
    "pycharm": {
     "name": "#%%\n"
    }
   }
  },
  {
   "cell_type": "code",
   "execution_count": 30,
   "outputs": [],
   "source": [
    "import json\n",
    "with open('../src/stock_json/aapl.json', 'w', encoding='utf-8') as f:\n",
    "    json.dump(data_set, f, ensure_ascii=False, indent=4)"
   ],
   "metadata": {
    "collapsed": false,
    "pycharm": {
     "name": "#%%\n"
    }
   }
  }
 ],
 "metadata": {
  "instance_type": "ml.g4dn.xlarge",
  "kernelspec": {
   "display_name": "Python 3",
   "language": "python",
   "name": "python3"
  }
 },
 "nbformat": 4,
 "nbformat_minor": 4
}