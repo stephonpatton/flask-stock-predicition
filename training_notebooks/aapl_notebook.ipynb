{
 "cells": [
  {
   "cell_type": "code",
   "execution_count": 1,
   "outputs": [
    {
     "name": "stderr",
     "output_type": "stream",
     "text": [
      "ERROR: Could not open requirements file: [Errno 2] No such file or directory: 'requirements.txt'\n"
     ]
    },
    {
     "name": "stdout",
     "output_type": "stream",
     "text": [
      "Requirement already satisfied: tensorflow-gpu in e:\\conda\\lib\\site-packages (2.8.0)\n",
      "Requirement already satisfied: typing-extensions>=3.6.6 in e:\\conda\\lib\\site-packages (from tensorflow-gpu) (4.1.1)\n",
      "Requirement already satisfied: termcolor>=1.1.0 in e:\\conda\\lib\\site-packages (from tensorflow-gpu) (1.1.0)\n",
      "Requirement already satisfied: opt-einsum>=2.3.2 in e:\\conda\\lib\\site-packages (from tensorflow-gpu) (3.3.0)\n",
      "Requirement already satisfied: six>=1.12.0 in c:\\users\\stephon patton\\appdata\\roaming\\python\\python39\\site-packages (from tensorflow-gpu) (1.15.0)\n",
      "Requirement already satisfied: google-pasta>=0.1.1 in e:\\conda\\lib\\site-packages (from tensorflow-gpu) (0.2.0)\n",
      "Requirement already satisfied: libclang>=9.0.1 in e:\\conda\\lib\\site-packages (from tensorflow-gpu) (14.0.1)\n",
      "Requirement already satisfied: h5py>=2.9.0 in e:\\conda\\lib\\site-packages (from tensorflow-gpu) (3.6.0)\n",
      "Requirement already satisfied: tf-estimator-nightly==2.8.0.dev2021122109 in e:\\conda\\lib\\site-packages (from tensorflow-gpu) (2.8.0.dev2021122109)\n",
      "Requirement already satisfied: wrapt>=1.11.0 in c:\\users\\stephon patton\\appdata\\roaming\\python\\python39\\site-packages (from tensorflow-gpu) (1.12.1)\n",
      "Requirement already satisfied: keras<2.9,>=2.8.0rc0 in e:\\conda\\lib\\site-packages (from tensorflow-gpu) (2.8.0)\n",
      "Requirement already satisfied: flatbuffers>=1.12 in e:\\conda\\lib\\site-packages (from tensorflow-gpu) (2.0)\n",
      "Requirement already satisfied: keras-preprocessing>=1.1.1 in e:\\conda\\lib\\site-packages (from tensorflow-gpu) (1.1.2)\n",
      "Requirement already satisfied: setuptools in e:\\conda\\lib\\site-packages (from tensorflow-gpu) (61.2.0)\n",
      "Requirement already satisfied: gast>=0.2.1 in e:\\conda\\lib\\site-packages (from tensorflow-gpu) (0.5.3)\n",
      "Requirement already satisfied: tensorboard<2.9,>=2.8 in e:\\conda\\lib\\site-packages (from tensorflow-gpu) (2.8.0)\n",
      "Requirement already satisfied: tensorflow-io-gcs-filesystem>=0.23.1 in e:\\conda\\lib\\site-packages (from tensorflow-gpu) (0.25.0)\n",
      "Requirement already satisfied: grpcio<2.0,>=1.24.3 in e:\\conda\\lib\\site-packages (from tensorflow-gpu) (1.42.0)\n",
      "Requirement already satisfied: absl-py>=0.4.0 in e:\\conda\\lib\\site-packages (from tensorflow-gpu) (1.0.0)\n",
      "Requirement already satisfied: astunparse>=1.6.0 in e:\\conda\\lib\\site-packages (from tensorflow-gpu) (1.6.3)\n",
      "Requirement already satisfied: numpy>=1.20 in e:\\conda\\lib\\site-packages (from tensorflow-gpu) (1.22.3)\n",
      "Requirement already satisfied: protobuf>=3.9.2 in e:\\conda\\lib\\site-packages (from tensorflow-gpu) (3.19.1)\n",
      "Requirement already satisfied: wheel<1.0,>=0.23.0 in e:\\conda\\lib\\site-packages (from astunparse>=1.6.0->tensorflow-gpu) (0.37.1)\n",
      "Requirement already satisfied: google-auth<3,>=1.6.3 in e:\\conda\\lib\\site-packages (from tensorboard<2.9,>=2.8->tensorflow-gpu) (1.33.0)\n",
      "Requirement already satisfied: requests<3,>=2.21.0 in e:\\conda\\lib\\site-packages (from tensorboard<2.9,>=2.8->tensorflow-gpu) (2.27.1)\n",
      "Requirement already satisfied: tensorboard-data-server<0.7.0,>=0.6.0 in e:\\conda\\lib\\site-packages (from tensorboard<2.9,>=2.8->tensorflow-gpu) (0.6.1)\n",
      "Requirement already satisfied: tensorboard-plugin-wit>=1.6.0 in e:\\conda\\lib\\site-packages (from tensorboard<2.9,>=2.8->tensorflow-gpu) (1.8.1)\n",
      "Requirement already satisfied: werkzeug>=0.11.15 in e:\\conda\\lib\\site-packages (from tensorboard<2.9,>=2.8->tensorflow-gpu) (2.0.3)\n",
      "Requirement already satisfied: google-auth-oauthlib<0.5,>=0.4.1 in e:\\conda\\lib\\site-packages (from tensorboard<2.9,>=2.8->tensorflow-gpu) (0.4.6)\n",
      "Requirement already satisfied: markdown>=2.6.8 in e:\\conda\\lib\\site-packages (from tensorboard<2.9,>=2.8->tensorflow-gpu) (3.3.4)\n",
      "Requirement already satisfied: cachetools<5.0,>=2.0.0 in e:\\conda\\lib\\site-packages (from google-auth<3,>=1.6.3->tensorboard<2.9,>=2.8->tensorflow-gpu) (4.2.2)\n",
      "Requirement already satisfied: pyasn1-modules>=0.2.1 in e:\\conda\\lib\\site-packages (from google-auth<3,>=1.6.3->tensorboard<2.9,>=2.8->tensorflow-gpu) (0.2.8)\n",
      "Requirement already satisfied: rsa<5,>=3.1.4 in e:\\conda\\lib\\site-packages (from google-auth<3,>=1.6.3->tensorboard<2.9,>=2.8->tensorflow-gpu) (4.7.2)\n",
      "Requirement already satisfied: requests-oauthlib>=0.7.0 in e:\\conda\\lib\\site-packages (from google-auth-oauthlib<0.5,>=0.4.1->tensorboard<2.9,>=2.8->tensorflow-gpu) (1.3.1)\n",
      "Requirement already satisfied: pyasn1<0.5.0,>=0.4.6 in e:\\conda\\lib\\site-packages (from pyasn1-modules>=0.2.1->google-auth<3,>=1.6.3->tensorboard<2.9,>=2.8->tensorflow-gpu) (0.4.8)\n",
      "Requirement already satisfied: certifi>=2017.4.17 in e:\\conda\\lib\\site-packages (from requests<3,>=2.21.0->tensorboard<2.9,>=2.8->tensorflow-gpu) (2021.10.8)\n",
      "Requirement already satisfied: urllib3<1.27,>=1.21.1 in e:\\conda\\lib\\site-packages (from requests<3,>=2.21.0->tensorboard<2.9,>=2.8->tensorflow-gpu) (1.26.9)\n",
      "Requirement already satisfied: charset-normalizer~=2.0.0 in e:\\conda\\lib\\site-packages (from requests<3,>=2.21.0->tensorboard<2.9,>=2.8->tensorflow-gpu) (2.0.4)\n",
      "Requirement already satisfied: idna<4,>=2.5 in e:\\conda\\lib\\site-packages (from requests<3,>=2.21.0->tensorboard<2.9,>=2.8->tensorflow-gpu) (3.3)\n",
      "Requirement already satisfied: oauthlib>=3.0.0 in e:\\conda\\lib\\site-packages (from requests-oauthlib>=0.7.0->google-auth-oauthlib<0.5,>=0.4.1->tensorboard<2.9,>=2.8->tensorflow-gpu) (3.2.0)\n"
     ]
    }
   ],
   "source": [
    "# !pipreqs --force\n",
    "!pip install -r requirements.txt\n",
    "!pip install tensorflow-gpu\n",
    "#\n",
    "# !pip install tensorflow yfinance pandas sklearn\n",
    "# import tensorflow as tf\n",
    "# !pip install yfinance\n"
   ],
   "metadata": {
    "collapsed": false,
    "pycharm": {
     "name": "#%%\n"
    }
   }
  },
  {
   "cell_type": "code",
   "execution_count": 2,
   "outputs": [],
   "source": [
    "import pandas as pd\n",
    "import tensorflow as tf\n",
    "import yfinance as yf\n"
   ],
   "metadata": {
    "collapsed": false,
    "pycharm": {
     "name": "#%%\n"
    }
   }
  },
  {
   "cell_type": "code",
   "execution_count": 3,
   "outputs": [
    {
     "name": "stdout",
     "output_type": "stream",
     "text": [
      "Hello\n",
      "Num GPUs Available:  0\n"
     ]
    }
   ],
   "source": [
    "print(\"Hello\")\n",
    "tf.__version__\n",
    "print(\"Num GPUs Available: \", len(tf.config.list_physical_devices('GPU')))\n",
    "\n",
    "# !pip freeze > requirements.txt\n",
    "\n"
   ],
   "metadata": {
    "collapsed": false,
    "pycharm": {
     "name": "#%%\n"
    }
   }
  },
  {
   "cell_type": "code",
   "execution_count": 4,
   "outputs": [
    {
     "name": "stdout",
     "output_type": "stream",
     "text": [
      "2012-05-17 08:25:34.509087\n",
      "2012-05-17\n",
      "2022-05-15\n",
      "[*********************100%***********************]  1 of 1 completed\n"
     ]
    }
   ],
   "source": [
    "# !pip freeze > requirements.txt\n",
    "from datetime import datetime, timedelta\n",
    "end_date = datetime.today().strftime('%Y-%m-%d')\n",
    "start_date_dt = datetime.now() - timedelta(days=10*365)\n",
    "print(start_date_dt)\n",
    "start_date = start_date_dt.strftime('%Y-%m-%d')\n",
    "print(start_date)\n",
    "print(end_date)\n",
    "# aapl = yf.download(\"AAPL\")\n",
    "aapl = yf.download(\"AAPL\", start = start_date, end = end_date)\n",
    "# aapl_history = aapl.history(period=\"max\")"
   ],
   "metadata": {
    "collapsed": false,
    "pycharm": {
     "name": "#%%\n"
    }
   }
  },
  {
   "cell_type": "code",
   "execution_count": 4,
   "outputs": [],
   "source": [],
   "metadata": {
    "collapsed": false,
    "pycharm": {
     "name": "#%%\n"
    }
   }
  },
  {
   "cell_type": "code",
   "execution_count": 5,
   "outputs": [
    {
     "data": {
      "text/plain": "0        18.932858\n1        18.942142\n2        20.045713\n3        19.891787\n4        20.377144\n           ...    \n2510    152.059998\n2511    154.509995\n2512    146.500000\n2513    142.559998\n2514    147.110001\nName: Close, Length: 2515, dtype: float64"
     },
     "execution_count": 5,
     "metadata": {},
     "output_type": "execute_result"
    }
   ],
   "source": [
    "type(aapl)\n",
    "df = pd.DataFrame(aapl)\n",
    "df\n",
    "df1 = df.reset_index()['Close']\n",
    "df1"
   ],
   "metadata": {
    "collapsed": false,
    "pycharm": {
     "name": "#%%\n"
    }
   }
  },
  {
   "cell_type": "code",
   "execution_count": 6,
   "outputs": [
    {
     "data": {
      "text/plain": "[<matplotlib.lines.Line2D at 0x248985dce20>]"
     },
     "execution_count": 6,
     "metadata": {},
     "output_type": "execute_result"
    },
    {
     "data": {
      "text/plain": "<Figure size 432x288 with 1 Axes>",
      "image/png": "[encoded data removed]"
     },
     "metadata": {
      "needs_background": "light"
     },
     "output_type": "display_data"
    }
   ],
   "source": [
    "import matplotlib.pyplot as plt\n",
    "plt.plot(df1)"
   ],
   "metadata": {
    "collapsed": false,
    "pycharm": {
     "name": "#%%\n"
    }
   }
  },
  {
   "cell_type": "code",
   "execution_count": 7,
   "outputs": [],
   "source": [
    "import numpy as np\n",
    "from sklearn.preprocessing import MinMaxScaler\n",
    "scaler=MinMaxScaler(feature_range=(0,1))\n",
    "df1 = scaler.fit_transform(np.array(df1).reshape(-1, 1))"
   ],
   "metadata": {
    "collapsed": false,
    "pycharm": {
     "name": "#%%\n"
    }
   }
  },
  {
   "cell_type": "code",
   "execution_count": 8,
   "outputs": [],
   "source": [
    "# Split data \n",
    "train_size = int(len(df1)*.95) # 65% \n",
    "test_size = len(df1) - train_size\n",
    "train, test = df1[0:train_size,:], df1[train_size:len(df1), :1]"
   ],
   "metadata": {
    "collapsed": false,
    "pycharm": {
     "name": "#%%\n"
    }
   }
  },
  {
   "cell_type": "code",
   "execution_count": 9,
   "outputs": [
    {
     "name": "stdout",
     "output_type": "stream",
     "text": [
      "2389\n",
      "126\n"
     ]
    }
   ],
   "source": [
    "print(train_size)\n",
    "print(test_size)\n",
    "# print(train)\n",
    "# print(test)"
   ],
   "metadata": {
    "collapsed": false,
    "pycharm": {
     "name": "#%%\n"
    }
   }
  },
  {
   "cell_type": "code",
   "execution_count": 10,
   "outputs": [],
   "source": [
    "def create_dataset(data, time_step=1):\n",
    "    dataX, dataY = [], []\n",
    "    for i in range(len(data)-time_step-1):\n",
    "        a = data[i:(i+time_step), 0]\n",
    "        dataX.append(a)\n",
    "        dataY.append(data[i + time_step, 0])\n",
    "    return np.array(dataX), np.array(dataY)"
   ],
   "metadata": {
    "collapsed": false,
    "pycharm": {
     "name": "#%%\n"
    }
   }
  },
  {
   "cell_type": "code",
   "execution_count": 11,
   "outputs": [],
   "source": [
    "time_step = 100\n",
    "X_train, y_train = create_dataset(train, time_step)\n",
    "X_test, y_test = create_dataset(test, time_step)"
   ],
   "metadata": {
    "collapsed": false,
    "pycharm": {
     "name": "#%%\n"
    }
   }
  },
  {
   "cell_type": "code",
   "execution_count": 12,
   "outputs": [
    {
     "name": "stdout",
     "output_type": "stream",
     "text": [
      "(2288, 100)\n",
      "(2288,)\n"
     ]
    },
    {
     "data": {
      "text/plain": "(None, None)"
     },
     "execution_count": 12,
     "metadata": {},
     "output_type": "execute_result"
    }
   ],
   "source": [
    "print(X_train.shape), print(y_train.shape)"
   ],
   "metadata": {
    "collapsed": false,
    "pycharm": {
     "name": "#%%\n"
    }
   }
  },
  {
   "cell_type": "code",
   "execution_count": 13,
   "outputs": [
    {
     "name": "stdout",
     "output_type": "stream",
     "text": [
      "(25, 100)\n",
      "(25,)\n"
     ]
    },
    {
     "data": {
      "text/plain": "(None, None)"
     },
     "execution_count": 13,
     "metadata": {},
     "output_type": "execute_result"
    }
   ],
   "source": [
    "print(X_test.shape), print(y_test.shape)"
   ],
   "metadata": {
    "collapsed": false,
    "pycharm": {
     "name": "#%%\n"
    }
   }
  },
  {
   "cell_type": "code",
   "execution_count": 14,
   "outputs": [
    {
     "name": "stdout",
     "output_type": "stream",
     "text": [
      "(2288, 100, 1)\n",
      "(25, 100, 1)\n"
     ]
    }
   ],
   "source": [
    "# Reshape to be inputted into LSTM \n",
    "X_train = X_train.reshape(X_train.shape[0], X_train.shape[1], 1)\n",
    "X_test = X_test.reshape(X_test.shape[0], X_test.shape[1], 1)\n",
    "print(X_train.shape)\n",
    "print(X_test.shape)"
   ],
   "metadata": {
    "collapsed": false,
    "pycharm": {
     "name": "#%%\n"
    }
   }
  },
  {
   "cell_type": "code",
   "execution_count": 15,
   "outputs": [],
   "source": [
    "# Create Stacked LSTM\n",
    "from tensorflow.keras.models import Sequential\n",
    "from tensorflow.keras.layers import Dense\n",
    "from tensorflow.keras.layers import LSTM\n",
    "from tensorflow.keras.layers import Dropout \n",
    "model = Sequential()\n",
    "model.add(LSTM(50, return_sequences=True, input_shape=(100, 1)))\n",
    "model.add(Dropout(.5))\n",
    "model.add(LSTM(50, return_sequences=True))\n",
    "model.add(LSTM(50, return_sequences=True))\n",
    "model.add(LSTM(50))\n",
    "model.add(Dense(1))\n",
    "model.compile(loss='mean_squared_error', optimizer='adam')"
   ],
   "metadata": {
    "collapsed": false,
    "pycharm": {
     "name": "#%%\n"
    }
   }
  },
  {
   "cell_type": "code",
   "execution_count": 16,
   "outputs": [
    {
     "name": "stdout",
     "output_type": "stream",
     "text": [
      "Model: \"sequential\"\n",
      "_________________________________________________________________\n",
      " Layer (type)                Output Shape              Param #   \n",
      "=================================================================\n",
      " lstm (LSTM)                 (None, 100, 50)           10400     \n",
      "                                                                 \n",
      " dropout (Dropout)           (None, 100, 50)           0         \n",
      "                                                                 \n",
      " lstm_1 (LSTM)               (None, 100, 50)           20200     \n",
      "                                                                 \n",
      " lstm_2 (LSTM)               (None, 100, 50)           20200     \n",
      "                                                                 \n",
      " lstm_3 (LSTM)               (None, 50)                20200     \n",
      "                                                                 \n",
      " dense (Dense)               (None, 1)                 51        \n",
      "                                                                 \n",
      "=================================================================\n",
      "Total params: 71,051\n",
      "Trainable params: 71,051\n",
      "Non-trainable params: 0\n",
      "_________________________________________________________________\n"
     ]
    }
   ],
   "source": [
    "model.summary()"
   ],
   "metadata": {
    "collapsed": false,
    "pycharm": {
     "name": "#%%\n"
    }
   }
  },
  {
   "cell_type": "code",
   "execution_count": 17,
   "outputs": [
    {
     "name": "stdout",
     "output_type": "stream",
     "text": [
      "Epoch 1/100\n",
      "10/10 [==============================] - 10s 460ms/step - loss: 0.0364 - val_loss: 0.0501\n",
      "Epoch 2/100\n",
      "10/10 [==============================] - 3s 337ms/step - loss: 0.0054 - val_loss: 0.0264\n",
      "Epoch 3/100\n",
      "10/10 [==============================] - 4s 355ms/step - loss: 0.0018 - val_loss: 0.0076\n",
      "Epoch 4/100\n",
      "10/10 [==============================] - 4s 358ms/step - loss: 0.0011 - val_loss: 0.0026\n",
      "Epoch 5/100\n",
      "10/10 [==============================] - 4s 358ms/step - loss: 7.0137e-04 - val_loss: 0.0017\n",
      "Epoch 6/100\n",
      "10/10 [==============================] - 4s 360ms/step - loss: 5.9375e-04 - val_loss: 0.0017\n",
      "Epoch 7/100\n",
      "10/10 [==============================] - 4s 368ms/step - loss: 6.1391e-04 - val_loss: 0.0017\n",
      "Epoch 8/100\n",
      "10/10 [==============================] - 4s 359ms/step - loss: 5.8537e-04 - val_loss: 0.0015\n",
      "Epoch 9/100\n",
      "10/10 [==============================] - 4s 359ms/step - loss: 5.7989e-04 - val_loss: 0.0016\n",
      "Epoch 10/100\n",
      "10/10 [==============================] - 4s 356ms/step - loss: 5.6438e-04 - val_loss: 0.0015\n",
      "Epoch 11/100\n",
      "10/10 [==============================] - 4s 355ms/step - loss: 5.6506e-04 - val_loss: 0.0018\n",
      "Epoch 12/100\n",
      "10/10 [==============================] - 4s 359ms/step - loss: 5.7048e-04 - val_loss: 0.0015\n",
      "Epoch 13/100\n",
      "10/10 [==============================] - 4s 368ms/step - loss: 5.8969e-04 - val_loss: 0.0019\n",
      "Epoch 14/100\n",
      "10/10 [==============================] - 4s 372ms/step - loss: 6.0671e-04 - val_loss: 0.0018\n",
      "Epoch 15/100\n",
      "10/10 [==============================] - 4s 378ms/step - loss: 5.8684e-04 - val_loss: 0.0016\n",
      "Epoch 16/100\n",
      "10/10 [==============================] - 4s 379ms/step - loss: 5.3965e-04 - val_loss: 0.0014\n",
      "Epoch 17/100\n",
      "10/10 [==============================] - 4s 367ms/step - loss: 5.1375e-04 - val_loss: 0.0016\n",
      "Epoch 18/100\n",
      "10/10 [==============================] - 4s 370ms/step - loss: 5.5506e-04 - val_loss: 0.0014\n",
      "Epoch 19/100\n",
      "10/10 [==============================] - 4s 362ms/step - loss: 5.4431e-04 - val_loss: 0.0014\n",
      "Epoch 20/100\n",
      "10/10 [==============================] - 4s 370ms/step - loss: 5.5557e-04 - val_loss: 0.0016\n",
      "Epoch 21/100\n",
      "10/10 [==============================] - 4s 367ms/step - loss: 5.2135e-04 - val_loss: 0.0017\n",
      "Epoch 22/100\n",
      "10/10 [==============================] - 4s 365ms/step - loss: 5.1536e-04 - val_loss: 0.0017\n",
      "Epoch 23/100\n",
      "10/10 [==============================] - 4s 366ms/step - loss: 5.7458e-04 - val_loss: 0.0015\n",
      "Epoch 24/100\n",
      "10/10 [==============================] - 4s 363ms/step - loss: 5.3783e-04 - val_loss: 0.0015\n",
      "Epoch 25/100\n",
      "10/10 [==============================] - 4s 366ms/step - loss: 5.0176e-04 - val_loss: 0.0013\n",
      "Epoch 26/100\n",
      "10/10 [==============================] - 4s 371ms/step - loss: 5.1433e-04 - val_loss: 0.0016\n",
      "Epoch 27/100\n",
      "10/10 [==============================] - 4s 371ms/step - loss: 5.1312e-04 - val_loss: 0.0013\n",
      "Epoch 28/100\n",
      "10/10 [==============================] - 4s 352ms/step - loss: 4.9282e-04 - val_loss: 0.0013\n",
      "Epoch 29/100\n",
      "10/10 [==============================] - 4s 357ms/step - loss: 4.7360e-04 - val_loss: 0.0012\n",
      "Epoch 30/100\n",
      "10/10 [==============================] - 4s 357ms/step - loss: 4.6984e-04 - val_loss: 0.0013\n",
      "Epoch 31/100\n",
      "10/10 [==============================] - 4s 356ms/step - loss: 4.8760e-04 - val_loss: 0.0014\n",
      "Epoch 32/100\n",
      "10/10 [==============================] - 4s 360ms/step - loss: 4.7692e-04 - val_loss: 0.0012\n",
      "Epoch 33/100\n",
      "10/10 [==============================] - 4s 353ms/step - loss: 4.7795e-04 - val_loss: 0.0011\n",
      "Epoch 34/100\n",
      "10/10 [==============================] - 4s 365ms/step - loss: 4.5127e-04 - val_loss: 0.0013\n",
      "Epoch 35/100\n",
      "10/10 [==============================] - 4s 364ms/step - loss: 4.7048e-04 - val_loss: 0.0015\n",
      "Epoch 36/100\n",
      "10/10 [==============================] - 4s 359ms/step - loss: 4.7818e-04 - val_loss: 0.0011\n",
      "Epoch 37/100\n",
      "10/10 [==============================] - 4s 356ms/step - loss: 4.9431e-04 - val_loss: 0.0011\n",
      "Epoch 38/100\n",
      "10/10 [==============================] - 4s 356ms/step - loss: 4.6008e-04 - val_loss: 0.0011\n",
      "Epoch 39/100\n",
      "10/10 [==============================] - 4s 353ms/step - loss: 4.5576e-04 - val_loss: 0.0017\n",
      "Epoch 40/100\n",
      "10/10 [==============================] - 4s 352ms/step - loss: 4.6823e-04 - val_loss: 0.0011\n",
      "Epoch 41/100\n",
      "10/10 [==============================] - 4s 355ms/step - loss: 4.5599e-04 - val_loss: 0.0018\n",
      "Epoch 42/100\n",
      "10/10 [==============================] - 4s 353ms/step - loss: 4.7076e-04 - val_loss: 0.0017\n",
      "Epoch 43/100\n",
      "10/10 [==============================] - 4s 350ms/step - loss: 4.9224e-04 - val_loss: 9.8461e-04\n",
      "Epoch 44/100\n",
      "10/10 [==============================] - 3s 348ms/step - loss: 4.5150e-04 - val_loss: 0.0011\n",
      "Epoch 45/100\n",
      "10/10 [==============================] - 3s 347ms/step - loss: 4.7047e-04 - val_loss: 9.1963e-04\n",
      "Epoch 46/100\n",
      "10/10 [==============================] - 4s 356ms/step - loss: 4.0959e-04 - val_loss: 0.0011\n",
      "Epoch 47/100\n",
      "10/10 [==============================] - 4s 350ms/step - loss: 4.3548e-04 - val_loss: 0.0014\n",
      "Epoch 48/100\n",
      "10/10 [==============================] - 4s 360ms/step - loss: 4.8058e-04 - val_loss: 8.8894e-04\n",
      "Epoch 49/100\n",
      "10/10 [==============================] - 4s 354ms/step - loss: 4.4664e-04 - val_loss: 8.7574e-04\n",
      "Epoch 50/100\n",
      "10/10 [==============================] - 4s 351ms/step - loss: 4.3320e-04 - val_loss: 8.5091e-04\n",
      "Epoch 51/100\n",
      "10/10 [==============================] - 4s 352ms/step - loss: 4.3443e-04 - val_loss: 9.9782e-04\n",
      "Epoch 52/100\n",
      "10/10 [==============================] - 4s 358ms/step - loss: 4.5143e-04 - val_loss: 0.0024\n",
      "Epoch 53/100\n",
      "10/10 [==============================] - 4s 360ms/step - loss: 4.8459e-04 - val_loss: 8.6087e-04\n",
      "Epoch 54/100\n",
      "10/10 [==============================] - 4s 371ms/step - loss: 4.2816e-04 - val_loss: 8.1679e-04\n",
      "Epoch 55/100\n",
      "10/10 [==============================] - 4s 408ms/step - loss: 4.4145e-04 - val_loss: 8.4488e-04\n",
      "Epoch 56/100\n",
      "10/10 [==============================] - 4s 377ms/step - loss: 4.0872e-04 - val_loss: 8.0610e-04\n",
      "Epoch 57/100\n",
      "10/10 [==============================] - 4s 377ms/step - loss: 4.0152e-04 - val_loss: 0.0013\n",
      "Epoch 58/100\n",
      "10/10 [==============================] - 4s 370ms/step - loss: 4.0617e-04 - val_loss: 8.4308e-04\n",
      "Epoch 59/100\n",
      "10/10 [==============================] - 4s 367ms/step - loss: 3.9867e-04 - val_loss: 0.0015\n",
      "Epoch 60/100\n",
      "10/10 [==============================] - 4s 368ms/step - loss: 4.0975e-04 - val_loss: 0.0010\n",
      "Epoch 61/100\n",
      "10/10 [==============================] - 4s 358ms/step - loss: 4.0275e-04 - val_loss: 0.0016\n",
      "Epoch 62/100\n",
      "10/10 [==============================] - 4s 369ms/step - loss: 4.4358e-04 - val_loss: 0.0010\n",
      "Epoch 63/100\n",
      "10/10 [==============================] - 4s 363ms/step - loss: 3.8370e-04 - val_loss: 0.0011\n",
      "Epoch 64/100\n",
      "10/10 [==============================] - 4s 372ms/step - loss: 3.8566e-04 - val_loss: 0.0014\n",
      "Epoch 65/100\n",
      "10/10 [==============================] - 4s 374ms/step - loss: 4.1692e-04 - val_loss: 9.0136e-04\n",
      "Epoch 66/100\n",
      "10/10 [==============================] - 4s 365ms/step - loss: 3.8667e-04 - val_loss: 8.6648e-04\n",
      "Epoch 67/100\n",
      "10/10 [==============================] - 4s 374ms/step - loss: 3.6692e-04 - val_loss: 7.1668e-04\n",
      "Epoch 68/100\n",
      "10/10 [==============================] - 4s 372ms/step - loss: 3.5310e-04 - val_loss: 7.1290e-04\n",
      "Epoch 69/100\n",
      "10/10 [==============================] - 4s 375ms/step - loss: 3.5878e-04 - val_loss: 7.0879e-04\n",
      "Epoch 70/100\n",
      "10/10 [==============================] - 4s 363ms/step - loss: 3.4576e-04 - val_loss: 7.8928e-04\n",
      "Epoch 71/100\n",
      "10/10 [==============================] - 4s 376ms/step - loss: 3.4523e-04 - val_loss: 6.5897e-04\n",
      "Epoch 72/100\n",
      "10/10 [==============================] - 4s 370ms/step - loss: 3.5394e-04 - val_loss: 6.3761e-04\n",
      "Epoch 73/100\n",
      "10/10 [==============================] - 4s 373ms/step - loss: 3.3493e-04 - val_loss: 0.0012\n",
      "Epoch 74/100\n",
      "10/10 [==============================] - 4s 373ms/step - loss: 3.8536e-04 - val_loss: 8.3436e-04\n",
      "Epoch 75/100\n",
      "10/10 [==============================] - 4s 365ms/step - loss: 3.6481e-04 - val_loss: 0.0019\n",
      "Epoch 76/100\n",
      "10/10 [==============================] - 4s 372ms/step - loss: 5.3634e-04 - val_loss: 0.0019\n",
      "Epoch 77/100\n",
      "10/10 [==============================] - 4s 364ms/step - loss: 4.6769e-04 - val_loss: 0.0023\n",
      "Epoch 78/100\n",
      "10/10 [==============================] - 4s 365ms/step - loss: 4.0340e-04 - val_loss: 0.0016\n",
      "Epoch 79/100\n",
      "10/10 [==============================] - 4s 366ms/step - loss: 3.5797e-04 - val_loss: 7.3882e-04\n",
      "Epoch 80/100\n",
      "10/10 [==============================] - 4s 367ms/step - loss: 3.3759e-04 - val_loss: 0.0011\n",
      "Epoch 81/100\n",
      "10/10 [==============================] - 4s 365ms/step - loss: 3.2308e-04 - val_loss: 7.9561e-04\n",
      "Epoch 82/100\n",
      "10/10 [==============================] - 4s 361ms/step - loss: 3.2114e-04 - val_loss: 0.0011\n",
      "Epoch 83/100\n",
      "10/10 [==============================] - 4s 365ms/step - loss: 3.4590e-04 - val_loss: 8.2318e-04\n",
      "Epoch 84/100\n",
      "10/10 [==============================] - 4s 369ms/step - loss: 3.2657e-04 - val_loss: 0.0011\n",
      "Epoch 85/100\n",
      "10/10 [==============================] - 4s 362ms/step - loss: 3.0329e-04 - val_loss: 0.0010\n",
      "Epoch 86/100\n",
      "10/10 [==============================] - 4s 369ms/step - loss: 3.3142e-04 - val_loss: 9.5748e-04\n",
      "Epoch 87/100\n",
      "10/10 [==============================] - 4s 361ms/step - loss: 3.5678e-04 - val_loss: 0.0010\n",
      "Epoch 88/100\n",
      "10/10 [==============================] - 4s 363ms/step - loss: 3.2005e-04 - val_loss: 0.0010\n",
      "Epoch 89/100\n",
      "10/10 [==============================] - 4s 363ms/step - loss: 3.0526e-04 - val_loss: 0.0010\n",
      "Epoch 90/100\n",
      "10/10 [==============================] - 4s 371ms/step - loss: 3.8133e-04 - val_loss: 0.0021\n",
      "Epoch 91/100\n",
      "10/10 [==============================] - 4s 357ms/step - loss: 3.3058e-04 - val_loss: 0.0012\n",
      "Epoch 92/100\n",
      "10/10 [==============================] - 4s 365ms/step - loss: 3.4494e-04 - val_loss: 0.0011\n",
      "Epoch 93/100\n",
      "10/10 [==============================] - 4s 358ms/step - loss: 2.8359e-04 - val_loss: 0.0010\n",
      "Epoch 94/100\n",
      "10/10 [==============================] - 4s 356ms/step - loss: 3.1043e-04 - val_loss: 0.0036\n",
      "Epoch 95/100\n",
      "10/10 [==============================] - 4s 365ms/step - loss: 4.3744e-04 - val_loss: 0.0013\n",
      "Epoch 96/100\n",
      "10/10 [==============================] - 4s 358ms/step - loss: 3.0849e-04 - val_loss: 0.0010\n",
      "Epoch 97/100\n",
      "10/10 [==============================] - 4s 363ms/step - loss: 3.4052e-04 - val_loss: 0.0011\n",
      "Epoch 98/100\n",
      "10/10 [==============================] - 4s 361ms/step - loss: 2.7656e-04 - val_loss: 0.0014\n",
      "Epoch 99/100\n",
      "10/10 [==============================] - 4s 352ms/step - loss: 3.3209e-04 - val_loss: 0.0015\n",
      "Epoch 100/100\n",
      "10/10 [==============================] - 4s 371ms/step - loss: 3.2647e-04 - val_loss: 0.0011\n"
     ]
    },
    {
     "data": {
      "text/plain": "<keras.callbacks.History at 0x2489dd9cbb0>"
     },
     "execution_count": 17,
     "metadata": {},
     "output_type": "execute_result"
    }
   ],
   "source": [
    "model.fit(X_train, y_train, validation_data=(X_test, y_test), epochs=100, batch_size=250, verbose=1)"
   ],
   "metadata": {
    "collapsed": false,
    "pycharm": {
     "name": "#%%\n"
    }
   }
  },
  {
   "cell_type": "code",
   "execution_count": 18,
   "outputs": [],
   "source": [
    "# import tensorflow as tf\n"
   ],
   "metadata": {
    "collapsed": false,
    "pycharm": {
     "name": "#%%\n"
    }
   }
  },
  {
   "cell_type": "code",
   "execution_count": 19,
   "outputs": [
    {
     "data": {
      "text/plain": "'2.8.0'"
     },
     "execution_count": 19,
     "metadata": {},
     "output_type": "execute_result"
    }
   ],
   "source": [
    "# import tensorflow as tf\n",
    "tf.__version__"
   ],
   "metadata": {
    "collapsed": false,
    "pycharm": {
     "name": "#%%\n"
    }
   }
  },
  {
   "cell_type": "code",
   "execution_count": 20,
   "outputs": [
    {
     "name": "stdout",
     "output_type": "stream",
     "text": [
      "KerasTensor(type_spec=TensorSpec(shape=(None, 100, 1), dtype=tf.float32, name='lstm_input'), name='lstm_input', description=\"created by layer 'lstm_input'\")\n"
     ]
    }
   ],
   "source": [
    "prediction = model.predict(X_train)\n",
    "test_prediction = model.predict(X_test)\n",
    "print(model.input)"
   ],
   "metadata": {
    "collapsed": false,
    "pycharm": {
     "name": "#%%\n"
    }
   }
  },
  {
   "cell_type": "code",
   "execution_count": 21,
   "outputs": [],
   "source": [
    "prediction = scaler.inverse_transform(prediction)\n",
    "test_prediction = scaler.inverse_transform(test_prediction)"
   ],
   "metadata": {
    "collapsed": false,
    "pycharm": {
     "name": "#%%\n"
    }
   }
  },
  {
   "cell_type": "code",
   "execution_count": 22,
   "outputs": [
    {
     "data": {
      "text/plain": "62.12102748789617"
     },
     "execution_count": 22,
     "metadata": {},
     "output_type": "execute_result"
    }
   ],
   "source": [
    "import math\n",
    "from sklearn.metrics import mean_squared_error\n",
    "math.sqrt(mean_squared_error(y_train, prediction))"
   ],
   "metadata": {
    "collapsed": false,
    "pycharm": {
     "name": "#%%\n"
    }
   }
  },
  {
   "cell_type": "code",
   "execution_count": 23,
   "outputs": [
    {
     "data": {
      "text/plain": "160.03943703143554"
     },
     "execution_count": 23,
     "metadata": {},
     "output_type": "execute_result"
    }
   ],
   "source": [
    "math.sqrt(mean_squared_error(y_test, test_prediction))"
   ],
   "metadata": {
    "collapsed": false,
    "pycharm": {
     "name": "#%%\n"
    }
   }
  },
  {
   "cell_type": "code",
   "execution_count": 24,
   "outputs": [
    {
     "data": {
      "text/plain": "<Figure size 432x288 with 1 Axes>",
      "image/png": "[encoded data removed]"
     },
     "metadata": {
      "needs_background": "light"
     },
     "output_type": "display_data"
    }
   ],
   "source": [
    "### Plotting \n",
    "# shift train predictions for plotting\n",
    "look_back=100\n",
    "trainPredictPlot = np.empty_like(df1)\n",
    "trainPredictPlot[:, :] = np.nan\n",
    "trainPredictPlot[look_back:len(prediction)+look_back, :] = prediction\n",
    "# shift test predictions for plotting\n",
    "testPredictPlot = np.empty_like(df1)\n",
    "testPredictPlot[:, :] = np.nan\n",
    "testPredictPlot[len(prediction)+(look_back*2)+1:len(df1)-1, :] = test_prediction\n",
    "# plot baseline and predictions\n",
    "plt.plot(scaler.inverse_transform(df1))\n",
    "plt.plot(trainPredictPlot)\n",
    "plt.plot(testPredictPlot)\n",
    "plt.show()"
   ],
   "metadata": {
    "collapsed": false,
    "pycharm": {
     "name": "#%%\n"
    }
   }
  },
  {
   "cell_type": "code",
   "execution_count": 25,
   "outputs": [
    {
     "data": {
      "text/plain": "126"
     },
     "execution_count": 25,
     "metadata": {},
     "output_type": "execute_result"
    }
   ],
   "source": [
    "len(test)"
   ],
   "metadata": {
    "collapsed": false,
    "pycharm": {
     "name": "#%%\n"
    }
   }
  },
  {
   "cell_type": "code",
   "execution_count": 26,
   "outputs": [
    {
     "data": {
      "text/plain": "(1, 100)"
     },
     "execution_count": 26,
     "metadata": {},
     "output_type": "execute_result"
    }
   ],
   "source": [
    "x_input = test[len(test)-100:].reshape(1, -1)\n",
    "x_input.shape"
   ],
   "metadata": {
    "collapsed": false,
    "pycharm": {
     "name": "#%%\n"
    }
   }
  },
  {
   "cell_type": "code",
   "execution_count": 27,
   "outputs": [],
   "source": [
    "temp_input = list(x_input)\n",
    "temp_input = temp_input[0].tolist()"
   ],
   "metadata": {
    "collapsed": false,
    "pycharm": {
     "name": "#%%\n"
    }
   }
  },
  {
   "cell_type": "code",
   "execution_count": 28,
   "outputs": [],
   "source": [
    "# temp_input"
   ],
   "metadata": {
    "collapsed": false,
    "pycharm": {
     "name": "#%%\n"
    }
   }
  },
  {
   "cell_type": "code",
   "execution_count": 29,
   "outputs": [
    {
     "name": "stdout",
     "output_type": "stream",
     "text": [
      "1 day input [0.96209746 0.96590557 0.99000376 0.98381554 0.98435112 0.97732988\n",
      " 0.97358133 1.         0.98625513 0.95781333 0.94043886 0.94145037\n",
      " 0.9415694  0.95876538 0.96144294 0.9415694  0.94680558 0.92734851\n",
      " 0.90610636 0.89587207 0.88337677 0.87867609 0.8677278  0.86719231\n",
      " 0.86439572 0.93050209 0.95698031 0.9559688  0.96328748 0.94579397\n",
      " 0.94275942 0.93841582 0.95727784 0.96590557 0.94115285 0.92044629\n",
      " 0.92187436 0.94513945 0.94371147 0.92187436 0.91247309 0.89474161\n",
      " 0.8694534  0.88534034 0.89789519 0.89950167 0.88807736 0.90806993\n",
      " 0.90610636 0.88789887 0.86487175 0.85380443 0.88658982 0.86023062\n",
      " 0.83767944 0.81322424 0.8398215  0.86659725 0.87272592 0.89271849\n",
      " 0.90104878 0.92151737 0.9297881  0.95275575 0.95662332 0.9618595\n",
      " 0.98185206 0.97477135 0.9559688  0.95418373 0.97875795 0.95864635\n",
      " 0.93942734 0.94127188 0.92907401 0.90325031 0.91461515 0.93091855\n",
      " 0.90051319 0.89920424 0.91306805 0.91205653 0.90723691 0.8796876\n",
      " 0.88617336 0.84999633 0.84862781 0.89069545 0.85505391 0.85689854\n",
      " 0.86594273 0.90485688 0.84981783 0.85285238 0.8217925  0.83637039\n",
      " 0.78870958 0.76526591 0.79233919 0.84581774]\n",
      "1 day output [[0.8397239]]\n",
      "2 day input [0.96590557 0.99000376 0.98381554 0.98435112 0.97732988 0.97358133\n",
      " 1.         0.98625513 0.95781333 0.94043886 0.94145037 0.9415694\n",
      " 0.95876538 0.96144294 0.9415694  0.94680558 0.92734851 0.90610636\n",
      " 0.89587207 0.88337677 0.87867609 0.8677278  0.86719231 0.86439572\n",
      " 0.93050209 0.95698031 0.9559688  0.96328748 0.94579397 0.94275942\n",
      " 0.93841582 0.95727784 0.96590557 0.94115285 0.92044629 0.92187436\n",
      " 0.94513945 0.94371147 0.92187436 0.91247309 0.89474161 0.8694534\n",
      " 0.88534034 0.89789519 0.89950167 0.88807736 0.90806993 0.90610636\n",
      " 0.88789887 0.86487175 0.85380443 0.88658982 0.86023062 0.83767944\n",
      " 0.81322424 0.8398215  0.86659725 0.87272592 0.89271849 0.90104878\n",
      " 0.92151737 0.9297881  0.95275575 0.95662332 0.9618595  0.98185206\n",
      " 0.97477135 0.9559688  0.95418373 0.97875795 0.95864635 0.93942734\n",
      " 0.94127188 0.92907401 0.90325031 0.91461515 0.93091855 0.90051319\n",
      " 0.89920424 0.91306805 0.91205653 0.90723691 0.8796876  0.88617336\n",
      " 0.84999633 0.84862781 0.89069545 0.85505391 0.85689854 0.86594273\n",
      " 0.90485688 0.84981783 0.85285238 0.8217925  0.83637039 0.78870958\n",
      " 0.76526591 0.79233919 0.84581774 0.83972389]\n",
      "2 day output [[0.83403975]]\n",
      "3 day input [0.99000376 0.98381554 0.98435112 0.97732988 0.97358133 1.\n",
      " 0.98625513 0.95781333 0.94043886 0.94145037 0.9415694  0.95876538\n",
      " 0.96144294 0.9415694  0.94680558 0.92734851 0.90610636 0.89587207\n",
      " 0.88337677 0.87867609 0.8677278  0.86719231 0.86439572 0.93050209\n",
      " 0.95698031 0.9559688  0.96328748 0.94579397 0.94275942 0.93841582\n",
      " 0.95727784 0.96590557 0.94115285 0.92044629 0.92187436 0.94513945\n",
      " 0.94371147 0.92187436 0.91247309 0.89474161 0.8694534  0.88534034\n",
      " 0.89789519 0.89950167 0.88807736 0.90806993 0.90610636 0.88789887\n",
      " 0.86487175 0.85380443 0.88658982 0.86023062 0.83767944 0.81322424\n",
      " 0.8398215  0.86659725 0.87272592 0.89271849 0.90104878 0.92151737\n",
      " 0.9297881  0.95275575 0.95662332 0.9618595  0.98185206 0.97477135\n",
      " 0.9559688  0.95418373 0.97875795 0.95864635 0.93942734 0.94127188\n",
      " 0.92907401 0.90325031 0.91461515 0.93091855 0.90051319 0.89920424\n",
      " 0.91306805 0.91205653 0.90723691 0.8796876  0.88617336 0.84999633\n",
      " 0.84862781 0.89069545 0.85505391 0.85689854 0.86594273 0.90485688\n",
      " 0.84981783 0.85285238 0.8217925  0.83637039 0.78870958 0.76526591\n",
      " 0.79233919 0.84581774 0.83972389 0.83403975]\n",
      "3 day output [[0.8294787]]\n",
      "4 day input [0.98381554 0.98435112 0.97732988 0.97358133 1.         0.98625513\n",
      " 0.95781333 0.94043886 0.94145037 0.9415694  0.95876538 0.96144294\n",
      " 0.9415694  0.94680558 0.92734851 0.90610636 0.89587207 0.88337677\n",
      " 0.87867609 0.8677278  0.86719231 0.86439572 0.93050209 0.95698031\n",
      " 0.9559688  0.96328748 0.94579397 0.94275942 0.93841582 0.95727784\n",
      " 0.96590557 0.94115285 0.92044629 0.92187436 0.94513945 0.94371147\n",
      " 0.92187436 0.91247309 0.89474161 0.8694534  0.88534034 0.89789519\n",
      " 0.89950167 0.88807736 0.90806993 0.90610636 0.88789887 0.86487175\n",
      " 0.85380443 0.88658982 0.86023062 0.83767944 0.81322424 0.8398215\n",
      " 0.86659725 0.87272592 0.89271849 0.90104878 0.92151737 0.9297881\n",
      " 0.95275575 0.95662332 0.9618595  0.98185206 0.97477135 0.9559688\n",
      " 0.95418373 0.97875795 0.95864635 0.93942734 0.94127188 0.92907401\n",
      " 0.90325031 0.91461515 0.93091855 0.90051319 0.89920424 0.91306805\n",
      " 0.91205653 0.90723691 0.8796876  0.88617336 0.84999633 0.84862781\n",
      " 0.89069545 0.85505391 0.85689854 0.86594273 0.90485688 0.84981783\n",
      " 0.85285238 0.8217925  0.83637039 0.78870958 0.76526591 0.79233919\n",
      " 0.84581774 0.83972389 0.83403975 0.82947868]\n",
      "4 day output [[0.826346]]\n",
      "5 day input [0.98435112 0.97732988 0.97358133 1.         0.98625513 0.95781333\n",
      " 0.94043886 0.94145037 0.9415694  0.95876538 0.96144294 0.9415694\n",
      " 0.94680558 0.92734851 0.90610636 0.89587207 0.88337677 0.87867609\n",
      " 0.8677278  0.86719231 0.86439572 0.93050209 0.95698031 0.9559688\n",
      " 0.96328748 0.94579397 0.94275942 0.93841582 0.95727784 0.96590557\n",
      " 0.94115285 0.92044629 0.92187436 0.94513945 0.94371147 0.92187436\n",
      " 0.91247309 0.89474161 0.8694534  0.88534034 0.89789519 0.89950167\n",
      " 0.88807736 0.90806993 0.90610636 0.88789887 0.86487175 0.85380443\n",
      " 0.88658982 0.86023062 0.83767944 0.81322424 0.8398215  0.86659725\n",
      " 0.87272592 0.89271849 0.90104878 0.92151737 0.9297881  0.95275575\n",
      " 0.95662332 0.9618595  0.98185206 0.97477135 0.9559688  0.95418373\n",
      " 0.97875795 0.95864635 0.93942734 0.94127188 0.92907401 0.90325031\n",
      " 0.91461515 0.93091855 0.90051319 0.89920424 0.91306805 0.91205653\n",
      " 0.90723691 0.8796876  0.88617336 0.84999633 0.84862781 0.89069545\n",
      " 0.85505391 0.85689854 0.86594273 0.90485688 0.84981783 0.85285238\n",
      " 0.8217925  0.83637039 0.78870958 0.76526591 0.79233919 0.84581774\n",
      " 0.83972389 0.83403975 0.82947868 0.82634598]\n",
      "5 day output [[0.824634]]\n",
      "6 day input [0.97732988 0.97358133 1.         0.98625513 0.95781333 0.94043886\n",
      " 0.94145037 0.9415694  0.95876538 0.96144294 0.9415694  0.94680558\n",
      " 0.92734851 0.90610636 0.89587207 0.88337677 0.87867609 0.8677278\n",
      " 0.86719231 0.86439572 0.93050209 0.95698031 0.9559688  0.96328748\n",
      " 0.94579397 0.94275942 0.93841582 0.95727784 0.96590557 0.94115285\n",
      " 0.92044629 0.92187436 0.94513945 0.94371147 0.92187436 0.91247309\n",
      " 0.89474161 0.8694534  0.88534034 0.89789519 0.89950167 0.88807736\n",
      " 0.90806993 0.90610636 0.88789887 0.86487175 0.85380443 0.88658982\n",
      " 0.86023062 0.83767944 0.81322424 0.8398215  0.86659725 0.87272592\n",
      " 0.89271849 0.90104878 0.92151737 0.9297881  0.95275575 0.95662332\n",
      " 0.9618595  0.98185206 0.97477135 0.9559688  0.95418373 0.97875795\n",
      " 0.95864635 0.93942734 0.94127188 0.92907401 0.90325031 0.91461515\n",
      " 0.93091855 0.90051319 0.89920424 0.91306805 0.91205653 0.90723691\n",
      " 0.8796876  0.88617336 0.84999633 0.84862781 0.89069545 0.85505391\n",
      " 0.85689854 0.86594273 0.90485688 0.84981783 0.85285238 0.8217925\n",
      " 0.83637039 0.78870958 0.76526591 0.79233919 0.84581774 0.83972389\n",
      " 0.83403975 0.82947868 0.82634598 0.82463402]\n",
      "6 day output [[0.8241445]]\n",
      "7 day input [0.97358133 1.         0.98625513 0.95781333 0.94043886 0.94145037\n",
      " 0.9415694  0.95876538 0.96144294 0.9415694  0.94680558 0.92734851\n",
      " 0.90610636 0.89587207 0.88337677 0.87867609 0.8677278  0.86719231\n",
      " 0.86439572 0.93050209 0.95698031 0.9559688  0.96328748 0.94579397\n",
      " 0.94275942 0.93841582 0.95727784 0.96590557 0.94115285 0.92044629\n",
      " 0.92187436 0.94513945 0.94371147 0.92187436 0.91247309 0.89474161\n",
      " 0.8694534  0.88534034 0.89789519 0.89950167 0.88807736 0.90806993\n",
      " 0.90610636 0.88789887 0.86487175 0.85380443 0.88658982 0.86023062\n",
      " 0.83767944 0.81322424 0.8398215  0.86659725 0.87272592 0.89271849\n",
      " 0.90104878 0.92151737 0.9297881  0.95275575 0.95662332 0.9618595\n",
      " 0.98185206 0.97477135 0.9559688  0.95418373 0.97875795 0.95864635\n",
      " 0.93942734 0.94127188 0.92907401 0.90325031 0.91461515 0.93091855\n",
      " 0.90051319 0.89920424 0.91306805 0.91205653 0.90723691 0.8796876\n",
      " 0.88617336 0.84999633 0.84862781 0.89069545 0.85505391 0.85689854\n",
      " 0.86594273 0.90485688 0.84981783 0.85285238 0.8217925  0.83637039\n",
      " 0.78870958 0.76526591 0.79233919 0.84581774 0.83972389 0.83403975\n",
      " 0.82947868 0.82634598 0.82463402 0.82414448]\n",
      "7 day output [[0.8245877]]\n",
      "8 day input [1.         0.98625513 0.95781333 0.94043886 0.94145037 0.9415694\n",
      " 0.95876538 0.96144294 0.9415694  0.94680558 0.92734851 0.90610636\n",
      " 0.89587207 0.88337677 0.87867609 0.8677278  0.86719231 0.86439572\n",
      " 0.93050209 0.95698031 0.9559688  0.96328748 0.94579397 0.94275942\n",
      " 0.93841582 0.95727784 0.96590557 0.94115285 0.92044629 0.92187436\n",
      " 0.94513945 0.94371147 0.92187436 0.91247309 0.89474161 0.8694534\n",
      " 0.88534034 0.89789519 0.89950167 0.88807736 0.90806993 0.90610636\n",
      " 0.88789887 0.86487175 0.85380443 0.88658982 0.86023062 0.83767944\n",
      " 0.81322424 0.8398215  0.86659725 0.87272592 0.89271849 0.90104878\n",
      " 0.92151737 0.9297881  0.95275575 0.95662332 0.9618595  0.98185206\n",
      " 0.97477135 0.9559688  0.95418373 0.97875795 0.95864635 0.93942734\n",
      " 0.94127188 0.92907401 0.90325031 0.91461515 0.93091855 0.90051319\n",
      " 0.89920424 0.91306805 0.91205653 0.90723691 0.8796876  0.88617336\n",
      " 0.84999633 0.84862781 0.89069545 0.85505391 0.85689854 0.86594273\n",
      " 0.90485688 0.84981783 0.85285238 0.8217925  0.83637039 0.78870958\n",
      " 0.76526591 0.79233919 0.84581774 0.83972389 0.83403975 0.82947868\n",
      " 0.82634598 0.82463402 0.82414448 0.8245877 ]\n",
      "8 day output [[0.82566273]]\n",
      "9 day input [0.98625513 0.95781333 0.94043886 0.94145037 0.9415694  0.95876538\n",
      " 0.96144294 0.9415694  0.94680558 0.92734851 0.90610636 0.89587207\n",
      " 0.88337677 0.87867609 0.8677278  0.86719231 0.86439572 0.93050209\n",
      " 0.95698031 0.9559688  0.96328748 0.94579397 0.94275942 0.93841582\n",
      " 0.95727784 0.96590557 0.94115285 0.92044629 0.92187436 0.94513945\n",
      " 0.94371147 0.92187436 0.91247309 0.89474161 0.8694534  0.88534034\n",
      " 0.89789519 0.89950167 0.88807736 0.90806993 0.90610636 0.88789887\n",
      " 0.86487175 0.85380443 0.88658982 0.86023062 0.83767944 0.81322424\n",
      " 0.8398215  0.86659725 0.87272592 0.89271849 0.90104878 0.92151737\n",
      " 0.9297881  0.95275575 0.95662332 0.9618595  0.98185206 0.97477135\n",
      " 0.9559688  0.95418373 0.97875795 0.95864635 0.93942734 0.94127188\n",
      " 0.92907401 0.90325031 0.91461515 0.93091855 0.90051319 0.89920424\n",
      " 0.91306805 0.91205653 0.90723691 0.8796876  0.88617336 0.84999633\n",
      " 0.84862781 0.89069545 0.85505391 0.85689854 0.86594273 0.90485688\n",
      " 0.84981783 0.85285238 0.8217925  0.83637039 0.78870958 0.76526591\n",
      " 0.79233919 0.84581774 0.83972389 0.83403975 0.82947868 0.82634598\n",
      " 0.82463402 0.82414448 0.8245877  0.82566273]\n",
      "9 day output [[0.8271014]]\n",
      "10 day input [0.95781333 0.94043886 0.94145037 0.9415694  0.95876538 0.96144294\n",
      " 0.9415694  0.94680558 0.92734851 0.90610636 0.89587207 0.88337677\n",
      " 0.87867609 0.8677278  0.86719231 0.86439572 0.93050209 0.95698031\n",
      " 0.9559688  0.96328748 0.94579397 0.94275942 0.93841582 0.95727784\n",
      " 0.96590557 0.94115285 0.92044629 0.92187436 0.94513945 0.94371147\n",
      " 0.92187436 0.91247309 0.89474161 0.8694534  0.88534034 0.89789519\n",
      " 0.89950167 0.88807736 0.90806993 0.90610636 0.88789887 0.86487175\n",
      " 0.85380443 0.88658982 0.86023062 0.83767944 0.81322424 0.8398215\n",
      " 0.86659725 0.87272592 0.89271849 0.90104878 0.92151737 0.9297881\n",
      " 0.95275575 0.95662332 0.9618595  0.98185206 0.97477135 0.9559688\n",
      " 0.95418373 0.97875795 0.95864635 0.93942734 0.94127188 0.92907401\n",
      " 0.90325031 0.91461515 0.93091855 0.90051319 0.89920424 0.91306805\n",
      " 0.91205653 0.90723691 0.8796876  0.88617336 0.84999633 0.84862781\n",
      " 0.89069545 0.85505391 0.85689854 0.86594273 0.90485688 0.84981783\n",
      " 0.85285238 0.8217925  0.83637039 0.78870958 0.76526591 0.79233919\n",
      " 0.84581774 0.83972389 0.83403975 0.82947868 0.82634598 0.82463402\n",
      " 0.82414448 0.8245877  0.82566273 0.82710141]\n",
      "10 day output [[0.82868886]]\n",
      "11 day input [0.94043886 0.94145037 0.9415694  0.95876538 0.96144294 0.9415694\n",
      " 0.94680558 0.92734851 0.90610636 0.89587207 0.88337677 0.87867609\n",
      " 0.8677278  0.86719231 0.86439572 0.93050209 0.95698031 0.9559688\n",
      " 0.96328748 0.94579397 0.94275942 0.93841582 0.95727784 0.96590557\n",
      " 0.94115285 0.92044629 0.92187436 0.94513945 0.94371147 0.92187436\n",
      " 0.91247309 0.89474161 0.8694534  0.88534034 0.89789519 0.89950167\n",
      " 0.88807736 0.90806993 0.90610636 0.88789887 0.86487175 0.85380443\n",
      " 0.88658982 0.86023062 0.83767944 0.81322424 0.8398215  0.86659725\n",
      " 0.87272592 0.89271849 0.90104878 0.92151737 0.9297881  0.95275575\n",
      " 0.95662332 0.9618595  0.98185206 0.97477135 0.9559688  0.95418373\n",
      " 0.97875795 0.95864635 0.93942734 0.94127188 0.92907401 0.90325031\n",
      " 0.91461515 0.93091855 0.90051319 0.89920424 0.91306805 0.91205653\n",
      " 0.90723691 0.8796876  0.88617336 0.84999633 0.84862781 0.89069545\n",
      " 0.85505391 0.85689854 0.86594273 0.90485688 0.84981783 0.85285238\n",
      " 0.8217925  0.83637039 0.78870958 0.76526591 0.79233919 0.84581774\n",
      " 0.83972389 0.83403975 0.82947868 0.82634598 0.82463402 0.82414448\n",
      " 0.8245877  0.82566273 0.82710141 0.82868886]\n",
      "11 day output [[0.83026916]]\n",
      "12 day input [0.94145037 0.9415694  0.95876538 0.96144294 0.9415694  0.94680558\n",
      " 0.92734851 0.90610636 0.89587207 0.88337677 0.87867609 0.8677278\n",
      " 0.86719231 0.86439572 0.93050209 0.95698031 0.9559688  0.96328748\n",
      " 0.94579397 0.94275942 0.93841582 0.95727784 0.96590557 0.94115285\n",
      " 0.92044629 0.92187436 0.94513945 0.94371147 0.92187436 0.91247309\n",
      " 0.89474161 0.8694534  0.88534034 0.89789519 0.89950167 0.88807736\n",
      " 0.90806993 0.90610636 0.88789887 0.86487175 0.85380443 0.88658982\n",
      " 0.86023062 0.83767944 0.81322424 0.8398215  0.86659725 0.87272592\n",
      " 0.89271849 0.90104878 0.92151737 0.9297881  0.95275575 0.95662332\n",
      " 0.9618595  0.98185206 0.97477135 0.9559688  0.95418373 0.97875795\n",
      " 0.95864635 0.93942734 0.94127188 0.92907401 0.90325031 0.91461515\n",
      " 0.93091855 0.90051319 0.89920424 0.91306805 0.91205653 0.90723691\n",
      " 0.8796876  0.88617336 0.84999633 0.84862781 0.89069545 0.85505391\n",
      " 0.85689854 0.86594273 0.90485688 0.84981783 0.85285238 0.8217925\n",
      " 0.83637039 0.78870958 0.76526591 0.79233919 0.84581774 0.83972389\n",
      " 0.83403975 0.82947868 0.82634598 0.82463402 0.82414448 0.8245877\n",
      " 0.82566273 0.82710141 0.82868886 0.83026916]\n",
      "12 day output [[0.8317381]]\n",
      "13 day input [0.9415694  0.95876538 0.96144294 0.9415694  0.94680558 0.92734851\n",
      " 0.90610636 0.89587207 0.88337677 0.87867609 0.8677278  0.86719231\n",
      " 0.86439572 0.93050209 0.95698031 0.9559688  0.96328748 0.94579397\n",
      " 0.94275942 0.93841582 0.95727784 0.96590557 0.94115285 0.92044629\n",
      " 0.92187436 0.94513945 0.94371147 0.92187436 0.91247309 0.89474161\n",
      " 0.8694534  0.88534034 0.89789519 0.89950167 0.88807736 0.90806993\n",
      " 0.90610636 0.88789887 0.86487175 0.85380443 0.88658982 0.86023062\n",
      " 0.83767944 0.81322424 0.8398215  0.86659725 0.87272592 0.89271849\n",
      " 0.90104878 0.92151737 0.9297881  0.95275575 0.95662332 0.9618595\n",
      " 0.98185206 0.97477135 0.9559688  0.95418373 0.97875795 0.95864635\n",
      " 0.93942734 0.94127188 0.92907401 0.90325031 0.91461515 0.93091855\n",
      " 0.90051319 0.89920424 0.91306805 0.91205653 0.90723691 0.8796876\n",
      " 0.88617336 0.84999633 0.84862781 0.89069545 0.85505391 0.85689854\n",
      " 0.86594273 0.90485688 0.84981783 0.85285238 0.8217925  0.83637039\n",
      " 0.78870958 0.76526591 0.79233919 0.84581774 0.83972389 0.83403975\n",
      " 0.82947868 0.82634598 0.82463402 0.82414448 0.8245877  0.82566273\n",
      " 0.82710141 0.82868886 0.83026916 0.83173811]\n",
      "13 day output [[0.8330327]]\n",
      "14 day input [0.95876538 0.96144294 0.9415694  0.94680558 0.92734851 0.90610636\n",
      " 0.89587207 0.88337677 0.87867609 0.8677278  0.86719231 0.86439572\n",
      " 0.93050209 0.95698031 0.9559688  0.96328748 0.94579397 0.94275942\n",
      " 0.93841582 0.95727784 0.96590557 0.94115285 0.92044629 0.92187436\n",
      " 0.94513945 0.94371147 0.92187436 0.91247309 0.89474161 0.8694534\n",
      " 0.88534034 0.89789519 0.89950167 0.88807736 0.90806993 0.90610636\n",
      " 0.88789887 0.86487175 0.85380443 0.88658982 0.86023062 0.83767944\n",
      " 0.81322424 0.8398215  0.86659725 0.87272592 0.89271849 0.90104878\n",
      " 0.92151737 0.9297881  0.95275575 0.95662332 0.9618595  0.98185206\n",
      " 0.97477135 0.9559688  0.95418373 0.97875795 0.95864635 0.93942734\n",
      " 0.94127188 0.92907401 0.90325031 0.91461515 0.93091855 0.90051319\n",
      " 0.89920424 0.91306805 0.91205653 0.90723691 0.8796876  0.88617336\n",
      " 0.84999633 0.84862781 0.89069545 0.85505391 0.85689854 0.86594273\n",
      " 0.90485688 0.84981783 0.85285238 0.8217925  0.83637039 0.78870958\n",
      " 0.76526591 0.79233919 0.84581774 0.83972389 0.83403975 0.82947868\n",
      " 0.82634598 0.82463402 0.82414448 0.8245877  0.82566273 0.82710141\n",
      " 0.82868886 0.83026916 0.83173811 0.83303273]\n",
      "14 day output [[0.8341175]]\n",
      "15 day input [0.96144294 0.9415694  0.94680558 0.92734851 0.90610636 0.89587207\n",
      " 0.88337677 0.87867609 0.8677278  0.86719231 0.86439572 0.93050209\n",
      " 0.95698031 0.9559688  0.96328748 0.94579397 0.94275942 0.93841582\n",
      " 0.95727784 0.96590557 0.94115285 0.92044629 0.92187436 0.94513945\n",
      " 0.94371147 0.92187436 0.91247309 0.89474161 0.8694534  0.88534034\n",
      " 0.89789519 0.89950167 0.88807736 0.90806993 0.90610636 0.88789887\n",
      " 0.86487175 0.85380443 0.88658982 0.86023062 0.83767944 0.81322424\n",
      " 0.8398215  0.86659725 0.87272592 0.89271849 0.90104878 0.92151737\n",
      " 0.9297881  0.95275575 0.95662332 0.9618595  0.98185206 0.97477135\n",
      " 0.9559688  0.95418373 0.97875795 0.95864635 0.93942734 0.94127188\n",
      " 0.92907401 0.90325031 0.91461515 0.93091855 0.90051319 0.89920424\n",
      " 0.91306805 0.91205653 0.90723691 0.8796876  0.88617336 0.84999633\n",
      " 0.84862781 0.89069545 0.85505391 0.85689854 0.86594273 0.90485688\n",
      " 0.84981783 0.85285238 0.8217925  0.83637039 0.78870958 0.76526591\n",
      " 0.79233919 0.84581774 0.83972389 0.83403975 0.82947868 0.82634598\n",
      " 0.82463402 0.82414448 0.8245877  0.82566273 0.82710141 0.82868886\n",
      " 0.83026916 0.83173811 0.83303273 0.83411747]\n",
      "15 day output [[0.8349748]]\n",
      "16 day input [0.9415694  0.94680558 0.92734851 0.90610636 0.89587207 0.88337677\n",
      " 0.87867609 0.8677278  0.86719231 0.86439572 0.93050209 0.95698031\n",
      " 0.9559688  0.96328748 0.94579397 0.94275942 0.93841582 0.95727784\n",
      " 0.96590557 0.94115285 0.92044629 0.92187436 0.94513945 0.94371147\n",
      " 0.92187436 0.91247309 0.89474161 0.8694534  0.88534034 0.89789519\n",
      " 0.89950167 0.88807736 0.90806993 0.90610636 0.88789887 0.86487175\n",
      " 0.85380443 0.88658982 0.86023062 0.83767944 0.81322424 0.8398215\n",
      " 0.86659725 0.87272592 0.89271849 0.90104878 0.92151737 0.9297881\n",
      " 0.95275575 0.95662332 0.9618595  0.98185206 0.97477135 0.9559688\n",
      " 0.95418373 0.97875795 0.95864635 0.93942734 0.94127188 0.92907401\n",
      " 0.90325031 0.91461515 0.93091855 0.90051319 0.89920424 0.91306805\n",
      " 0.91205653 0.90723691 0.8796876  0.88617336 0.84999633 0.84862781\n",
      " 0.89069545 0.85505391 0.85689854 0.86594273 0.90485688 0.84981783\n",
      " 0.85285238 0.8217925  0.83637039 0.78870958 0.76526591 0.79233919\n",
      " 0.84581774 0.83972389 0.83403975 0.82947868 0.82634598 0.82463402\n",
      " 0.82414448 0.8245877  0.82566273 0.82710141 0.82868886 0.83026916\n",
      " 0.83173811 0.83303273 0.83411747 0.83497483]\n",
      "16 day output [[0.8355977]]\n",
      "17 day input [0.94680558 0.92734851 0.90610636 0.89587207 0.88337677 0.87867609\n",
      " 0.8677278  0.86719231 0.86439572 0.93050209 0.95698031 0.9559688\n",
      " 0.96328748 0.94579397 0.94275942 0.93841582 0.95727784 0.96590557\n",
      " 0.94115285 0.92044629 0.92187436 0.94513945 0.94371147 0.92187436\n",
      " 0.91247309 0.89474161 0.8694534  0.88534034 0.89789519 0.89950167\n",
      " 0.88807736 0.90806993 0.90610636 0.88789887 0.86487175 0.85380443\n",
      " 0.88658982 0.86023062 0.83767944 0.81322424 0.8398215  0.86659725\n",
      " 0.87272592 0.89271849 0.90104878 0.92151737 0.9297881  0.95275575\n",
      " 0.95662332 0.9618595  0.98185206 0.97477135 0.9559688  0.95418373\n",
      " 0.97875795 0.95864635 0.93942734 0.94127188 0.92907401 0.90325031\n",
      " 0.91461515 0.93091855 0.90051319 0.89920424 0.91306805 0.91205653\n",
      " 0.90723691 0.8796876  0.88617336 0.84999633 0.84862781 0.89069545\n",
      " 0.85505391 0.85689854 0.86594273 0.90485688 0.84981783 0.85285238\n",
      " 0.8217925  0.83637039 0.78870958 0.76526591 0.79233919 0.84581774\n",
      " 0.83972389 0.83403975 0.82947868 0.82634598 0.82463402 0.82414448\n",
      " 0.8245877  0.82566273 0.82710141 0.82868886 0.83026916 0.83173811\n",
      " 0.83303273 0.83411747 0.83497483 0.83559769]\n",
      "17 day output [[0.8359852]]\n",
      "18 day input [0.92734851 0.90610636 0.89587207 0.88337677 0.87867609 0.8677278\n",
      " 0.86719231 0.86439572 0.93050209 0.95698031 0.9559688  0.96328748\n",
      " 0.94579397 0.94275942 0.93841582 0.95727784 0.96590557 0.94115285\n",
      " 0.92044629 0.92187436 0.94513945 0.94371147 0.92187436 0.91247309\n",
      " 0.89474161 0.8694534  0.88534034 0.89789519 0.89950167 0.88807736\n",
      " 0.90806993 0.90610636 0.88789887 0.86487175 0.85380443 0.88658982\n",
      " 0.86023062 0.83767944 0.81322424 0.8398215  0.86659725 0.87272592\n",
      " 0.89271849 0.90104878 0.92151737 0.9297881  0.95275575 0.95662332\n",
      " 0.9618595  0.98185206 0.97477135 0.9559688  0.95418373 0.97875795\n",
      " 0.95864635 0.93942734 0.94127188 0.92907401 0.90325031 0.91461515\n",
      " 0.93091855 0.90051319 0.89920424 0.91306805 0.91205653 0.90723691\n",
      " 0.8796876  0.88617336 0.84999633 0.84862781 0.89069545 0.85505391\n",
      " 0.85689854 0.86594273 0.90485688 0.84981783 0.85285238 0.8217925\n",
      " 0.83637039 0.78870958 0.76526591 0.79233919 0.84581774 0.83972389\n",
      " 0.83403975 0.82947868 0.82634598 0.82463402 0.82414448 0.8245877\n",
      " 0.82566273 0.82710141 0.82868886 0.83026916 0.83173811 0.83303273\n",
      " 0.83411747 0.83497483 0.83559769 0.83598518]\n",
      "18 day output [[0.8361408]]\n",
      "19 day input [0.90610636 0.89587207 0.88337677 0.87867609 0.8677278  0.86719231\n",
      " 0.86439572 0.93050209 0.95698031 0.9559688  0.96328748 0.94579397\n",
      " 0.94275942 0.93841582 0.95727784 0.96590557 0.94115285 0.92044629\n",
      " 0.92187436 0.94513945 0.94371147 0.92187436 0.91247309 0.89474161\n",
      " 0.8694534  0.88534034 0.89789519 0.89950167 0.88807736 0.90806993\n",
      " 0.90610636 0.88789887 0.86487175 0.85380443 0.88658982 0.86023062\n",
      " 0.83767944 0.81322424 0.8398215  0.86659725 0.87272592 0.89271849\n",
      " 0.90104878 0.92151737 0.9297881  0.95275575 0.95662332 0.9618595\n",
      " 0.98185206 0.97477135 0.9559688  0.95418373 0.97875795 0.95864635\n",
      " 0.93942734 0.94127188 0.92907401 0.90325031 0.91461515 0.93091855\n",
      " 0.90051319 0.89920424 0.91306805 0.91205653 0.90723691 0.8796876\n",
      " 0.88617336 0.84999633 0.84862781 0.89069545 0.85505391 0.85689854\n",
      " 0.86594273 0.90485688 0.84981783 0.85285238 0.8217925  0.83637039\n",
      " 0.78870958 0.76526591 0.79233919 0.84581774 0.83972389 0.83403975\n",
      " 0.82947868 0.82634598 0.82463402 0.82414448 0.8245877  0.82566273\n",
      " 0.82710141 0.82868886 0.83026916 0.83173811 0.83303273 0.83411747\n",
      " 0.83497483 0.83559769 0.83598518 0.83614081]\n",
      "19 day output [[0.8360694]]\n",
      "20 day input [0.89587207 0.88337677 0.87867609 0.8677278  0.86719231 0.86439572\n",
      " 0.93050209 0.95698031 0.9559688  0.96328748 0.94579397 0.94275942\n",
      " 0.93841582 0.95727784 0.96590557 0.94115285 0.92044629 0.92187436\n",
      " 0.94513945 0.94371147 0.92187436 0.91247309 0.89474161 0.8694534\n",
      " 0.88534034 0.89789519 0.89950167 0.88807736 0.90806993 0.90610636\n",
      " 0.88789887 0.86487175 0.85380443 0.88658982 0.86023062 0.83767944\n",
      " 0.81322424 0.8398215  0.86659725 0.87272592 0.89271849 0.90104878\n",
      " 0.92151737 0.9297881  0.95275575 0.95662332 0.9618595  0.98185206\n",
      " 0.97477135 0.9559688  0.95418373 0.97875795 0.95864635 0.93942734\n",
      " 0.94127188 0.92907401 0.90325031 0.91461515 0.93091855 0.90051319\n",
      " 0.89920424 0.91306805 0.91205653 0.90723691 0.8796876  0.88617336\n",
      " 0.84999633 0.84862781 0.89069545 0.85505391 0.85689854 0.86594273\n",
      " 0.90485688 0.84981783 0.85285238 0.8217925  0.83637039 0.78870958\n",
      " 0.76526591 0.79233919 0.84581774 0.83972389 0.83403975 0.82947868\n",
      " 0.82634598 0.82463402 0.82414448 0.8245877  0.82566273 0.82710141\n",
      " 0.82868886 0.83026916 0.83173811 0.83303273 0.83411747 0.83497483\n",
      " 0.83559769 0.83598518 0.83614081 0.83606941]\n",
      "20 day output [[0.8357787]]\n",
      "21 day input [0.88337677 0.87867609 0.8677278  0.86719231 0.86439572 0.93050209\n",
      " 0.95698031 0.9559688  0.96328748 0.94579397 0.94275942 0.93841582\n",
      " 0.95727784 0.96590557 0.94115285 0.92044629 0.92187436 0.94513945\n",
      " 0.94371147 0.92187436 0.91247309 0.89474161 0.8694534  0.88534034\n",
      " 0.89789519 0.89950167 0.88807736 0.90806993 0.90610636 0.88789887\n",
      " 0.86487175 0.85380443 0.88658982 0.86023062 0.83767944 0.81322424\n",
      " 0.8398215  0.86659725 0.87272592 0.89271849 0.90104878 0.92151737\n",
      " 0.9297881  0.95275575 0.95662332 0.9618595  0.98185206 0.97477135\n",
      " 0.9559688  0.95418373 0.97875795 0.95864635 0.93942734 0.94127188\n",
      " 0.92907401 0.90325031 0.91461515 0.93091855 0.90051319 0.89920424\n",
      " 0.91306805 0.91205653 0.90723691 0.8796876  0.88617336 0.84999633\n",
      " 0.84862781 0.89069545 0.85505391 0.85689854 0.86594273 0.90485688\n",
      " 0.84981783 0.85285238 0.8217925  0.83637039 0.78870958 0.76526591\n",
      " 0.79233919 0.84581774 0.83972389 0.83403975 0.82947868 0.82634598\n",
      " 0.82463402 0.82414448 0.8245877  0.82566273 0.82710141 0.82868886\n",
      " 0.83026916 0.83173811 0.83303273 0.83411747 0.83497483 0.83559769\n",
      " 0.83598518 0.83614081 0.83606941 0.83577871]\n",
      "21 day output [[0.83528024]]\n",
      "22 day input [0.87867609 0.8677278  0.86719231 0.86439572 0.93050209 0.95698031\n",
      " 0.9559688  0.96328748 0.94579397 0.94275942 0.93841582 0.95727784\n",
      " 0.96590557 0.94115285 0.92044629 0.92187436 0.94513945 0.94371147\n",
      " 0.92187436 0.91247309 0.89474161 0.8694534  0.88534034 0.89789519\n",
      " 0.89950167 0.88807736 0.90806993 0.90610636 0.88789887 0.86487175\n",
      " 0.85380443 0.88658982 0.86023062 0.83767944 0.81322424 0.8398215\n",
      " 0.86659725 0.87272592 0.89271849 0.90104878 0.92151737 0.9297881\n",
      " 0.95275575 0.95662332 0.9618595  0.98185206 0.97477135 0.9559688\n",
      " 0.95418373 0.97875795 0.95864635 0.93942734 0.94127188 0.92907401\n",
      " 0.90325031 0.91461515 0.93091855 0.90051319 0.89920424 0.91306805\n",
      " 0.91205653 0.90723691 0.8796876  0.88617336 0.84999633 0.84862781\n",
      " 0.89069545 0.85505391 0.85689854 0.86594273 0.90485688 0.84981783\n",
      " 0.85285238 0.8217925  0.83637039 0.78870958 0.76526591 0.79233919\n",
      " 0.84581774 0.83972389 0.83403975 0.82947868 0.82634598 0.82463402\n",
      " 0.82414448 0.8245877  0.82566273 0.82710141 0.82868886 0.83026916\n",
      " 0.83173811 0.83303273 0.83411747 0.83497483 0.83559769 0.83598518\n",
      " 0.83614081 0.83606941 0.83577871 0.83528024]\n",
      "22 day output [[0.8345878]]\n",
      "23 day input [0.8677278  0.86719231 0.86439572 0.93050209 0.95698031 0.9559688\n",
      " 0.96328748 0.94579397 0.94275942 0.93841582 0.95727784 0.96590557\n",
      " 0.94115285 0.92044629 0.92187436 0.94513945 0.94371147 0.92187436\n",
      " 0.91247309 0.89474161 0.8694534  0.88534034 0.89789519 0.89950167\n",
      " 0.88807736 0.90806993 0.90610636 0.88789887 0.86487175 0.85380443\n",
      " 0.88658982 0.86023062 0.83767944 0.81322424 0.8398215  0.86659725\n",
      " 0.87272592 0.89271849 0.90104878 0.92151737 0.9297881  0.95275575\n",
      " 0.95662332 0.9618595  0.98185206 0.97477135 0.9559688  0.95418373\n",
      " 0.97875795 0.95864635 0.93942734 0.94127188 0.92907401 0.90325031\n",
      " 0.91461515 0.93091855 0.90051319 0.89920424 0.91306805 0.91205653\n",
      " 0.90723691 0.8796876  0.88617336 0.84999633 0.84862781 0.89069545\n",
      " 0.85505391 0.85689854 0.86594273 0.90485688 0.84981783 0.85285238\n",
      " 0.8217925  0.83637039 0.78870958 0.76526591 0.79233919 0.84581774\n",
      " 0.83972389 0.83403975 0.82947868 0.82634598 0.82463402 0.82414448\n",
      " 0.8245877  0.82566273 0.82710141 0.82868886 0.83026916 0.83173811\n",
      " 0.83303273 0.83411747 0.83497483 0.83559769 0.83598518 0.83614081\n",
      " 0.83606941 0.83577871 0.83528024 0.83458781]\n",
      "23 day output [[0.83371854]]\n",
      "24 day input [0.86719231 0.86439572 0.93050209 0.95698031 0.9559688  0.96328748\n",
      " 0.94579397 0.94275942 0.93841582 0.95727784 0.96590557 0.94115285\n",
      " 0.92044629 0.92187436 0.94513945 0.94371147 0.92187436 0.91247309\n",
      " 0.89474161 0.8694534  0.88534034 0.89789519 0.89950167 0.88807736\n",
      " 0.90806993 0.90610636 0.88789887 0.86487175 0.85380443 0.88658982\n",
      " 0.86023062 0.83767944 0.81322424 0.8398215  0.86659725 0.87272592\n",
      " 0.89271849 0.90104878 0.92151737 0.9297881  0.95275575 0.95662332\n",
      " 0.9618595  0.98185206 0.97477135 0.9559688  0.95418373 0.97875795\n",
      " 0.95864635 0.93942734 0.94127188 0.92907401 0.90325031 0.91461515\n",
      " 0.93091855 0.90051319 0.89920424 0.91306805 0.91205653 0.90723691\n",
      " 0.8796876  0.88617336 0.84999633 0.84862781 0.89069545 0.85505391\n",
      " 0.85689854 0.86594273 0.90485688 0.84981783 0.85285238 0.8217925\n",
      " 0.83637039 0.78870958 0.76526591 0.79233919 0.84581774 0.83972389\n",
      " 0.83403975 0.82947868 0.82634598 0.82463402 0.82414448 0.8245877\n",
      " 0.82566273 0.82710141 0.82868886 0.83026916 0.83173811 0.83303273\n",
      " 0.83411747 0.83497483 0.83559769 0.83598518 0.83614081 0.83606941\n",
      " 0.83577871 0.83528024 0.83458781 0.83371854]\n",
      "24 day output [[0.83269167]]\n",
      "25 day input [0.86439572 0.93050209 0.95698031 0.9559688  0.96328748 0.94579397\n",
      " 0.94275942 0.93841582 0.95727784 0.96590557 0.94115285 0.92044629\n",
      " 0.92187436 0.94513945 0.94371147 0.92187436 0.91247309 0.89474161\n",
      " 0.8694534  0.88534034 0.89789519 0.89950167 0.88807736 0.90806993\n",
      " 0.90610636 0.88789887 0.86487175 0.85380443 0.88658982 0.86023062\n",
      " 0.83767944 0.81322424 0.8398215  0.86659725 0.87272592 0.89271849\n",
      " 0.90104878 0.92151737 0.9297881  0.95275575 0.95662332 0.9618595\n",
      " 0.98185206 0.97477135 0.9559688  0.95418373 0.97875795 0.95864635\n",
      " 0.93942734 0.94127188 0.92907401 0.90325031 0.91461515 0.93091855\n",
      " 0.90051319 0.89920424 0.91306805 0.91205653 0.90723691 0.8796876\n",
      " 0.88617336 0.84999633 0.84862781 0.89069545 0.85505391 0.85689854\n",
      " 0.86594273 0.90485688 0.84981783 0.85285238 0.8217925  0.83637039\n",
      " 0.78870958 0.76526591 0.79233919 0.84581774 0.83972389 0.83403975\n",
      " 0.82947868 0.82634598 0.82463402 0.82414448 0.8245877  0.82566273\n",
      " 0.82710141 0.82868886 0.83026916 0.83173811 0.83303273 0.83411747\n",
      " 0.83497483 0.83559769 0.83598518 0.83614081 0.83606941 0.83577871\n",
      " 0.83528024 0.83458781 0.83371854 0.83269167]\n",
      "25 day output [[0.83153]]\n",
      "26 day input [0.93050209 0.95698031 0.9559688  0.96328748 0.94579397 0.94275942\n",
      " 0.93841582 0.95727784 0.96590557 0.94115285 0.92044629 0.92187436\n",
      " 0.94513945 0.94371147 0.92187436 0.91247309 0.89474161 0.8694534\n",
      " 0.88534034 0.89789519 0.89950167 0.88807736 0.90806993 0.90610636\n",
      " 0.88789887 0.86487175 0.85380443 0.88658982 0.86023062 0.83767944\n",
      " 0.81322424 0.8398215  0.86659725 0.87272592 0.89271849 0.90104878\n",
      " 0.92151737 0.9297881  0.95275575 0.95662332 0.9618595  0.98185206\n",
      " 0.97477135 0.9559688  0.95418373 0.97875795 0.95864635 0.93942734\n",
      " 0.94127188 0.92907401 0.90325031 0.91461515 0.93091855 0.90051319\n",
      " 0.89920424 0.91306805 0.91205653 0.90723691 0.8796876  0.88617336\n",
      " 0.84999633 0.84862781 0.89069545 0.85505391 0.85689854 0.86594273\n",
      " 0.90485688 0.84981783 0.85285238 0.8217925  0.83637039 0.78870958\n",
      " 0.76526591 0.79233919 0.84581774 0.83972389 0.83403975 0.82947868\n",
      " 0.82634598 0.82463402 0.82414448 0.8245877  0.82566273 0.82710141\n",
      " 0.82868886 0.83026916 0.83173811 0.83303273 0.83411747 0.83497483\n",
      " 0.83559769 0.83598518 0.83614081 0.83606941 0.83577871 0.83528024\n",
      " 0.83458781 0.83371854 0.83269167 0.83152997]\n",
      "26 day output [[0.8302578]]\n",
      "27 day input [0.95698031 0.9559688  0.96328748 0.94579397 0.94275942 0.93841582\n",
      " 0.95727784 0.96590557 0.94115285 0.92044629 0.92187436 0.94513945\n",
      " 0.94371147 0.92187436 0.91247309 0.89474161 0.8694534  0.88534034\n",
      " 0.89789519 0.89950167 0.88807736 0.90806993 0.90610636 0.88789887\n",
      " 0.86487175 0.85380443 0.88658982 0.86023062 0.83767944 0.81322424\n",
      " 0.8398215  0.86659725 0.87272592 0.89271849 0.90104878 0.92151737\n",
      " 0.9297881  0.95275575 0.95662332 0.9618595  0.98185206 0.97477135\n",
      " 0.9559688  0.95418373 0.97875795 0.95864635 0.93942734 0.94127188\n",
      " 0.92907401 0.90325031 0.91461515 0.93091855 0.90051319 0.89920424\n",
      " 0.91306805 0.91205653 0.90723691 0.8796876  0.88617336 0.84999633\n",
      " 0.84862781 0.89069545 0.85505391 0.85689854 0.86594273 0.90485688\n",
      " 0.84981783 0.85285238 0.8217925  0.83637039 0.78870958 0.76526591\n",
      " 0.79233919 0.84581774 0.83972389 0.83403975 0.82947868 0.82634598\n",
      " 0.82463402 0.82414448 0.8245877  0.82566273 0.82710141 0.82868886\n",
      " 0.83026916 0.83173811 0.83303273 0.83411747 0.83497483 0.83559769\n",
      " 0.83598518 0.83614081 0.83606941 0.83577871 0.83528024 0.83458781\n",
      " 0.83371854 0.83269167 0.83152997 0.83025777]\n",
      "27 day output [[0.8289025]]\n",
      "28 day input [0.9559688  0.96328748 0.94579397 0.94275942 0.93841582 0.95727784\n",
      " 0.96590557 0.94115285 0.92044629 0.92187436 0.94513945 0.94371147\n",
      " 0.92187436 0.91247309 0.89474161 0.8694534  0.88534034 0.89789519\n",
      " 0.89950167 0.88807736 0.90806993 0.90610636 0.88789887 0.86487175\n",
      " 0.85380443 0.88658982 0.86023062 0.83767944 0.81322424 0.8398215\n",
      " 0.86659725 0.87272592 0.89271849 0.90104878 0.92151737 0.9297881\n",
      " 0.95275575 0.95662332 0.9618595  0.98185206 0.97477135 0.9559688\n",
      " 0.95418373 0.97875795 0.95864635 0.93942734 0.94127188 0.92907401\n",
      " 0.90325031 0.91461515 0.93091855 0.90051319 0.89920424 0.91306805\n",
      " 0.91205653 0.90723691 0.8796876  0.88617336 0.84999633 0.84862781\n",
      " 0.89069545 0.85505391 0.85689854 0.86594273 0.90485688 0.84981783\n",
      " 0.85285238 0.8217925  0.83637039 0.78870958 0.76526591 0.79233919\n",
      " 0.84581774 0.83972389 0.83403975 0.82947868 0.82634598 0.82463402\n",
      " 0.82414448 0.8245877  0.82566273 0.82710141 0.82868886 0.83026916\n",
      " 0.83173811 0.83303273 0.83411747 0.83497483 0.83559769 0.83598518\n",
      " 0.83614081 0.83606941 0.83577871 0.83528024 0.83458781 0.83371854\n",
      " 0.83269167 0.83152997 0.83025777 0.82890248]\n",
      "28 day output [[0.8274893]]\n",
      "29 day input [0.96328748 0.94579397 0.94275942 0.93841582 0.95727784 0.96590557\n",
      " 0.94115285 0.92044629 0.92187436 0.94513945 0.94371147 0.92187436\n",
      " 0.91247309 0.89474161 0.8694534  0.88534034 0.89789519 0.89950167\n",
      " 0.88807736 0.90806993 0.90610636 0.88789887 0.86487175 0.85380443\n",
      " 0.88658982 0.86023062 0.83767944 0.81322424 0.8398215  0.86659725\n",
      " 0.87272592 0.89271849 0.90104878 0.92151737 0.9297881  0.95275575\n",
      " 0.95662332 0.9618595  0.98185206 0.97477135 0.9559688  0.95418373\n",
      " 0.97875795 0.95864635 0.93942734 0.94127188 0.92907401 0.90325031\n",
      " 0.91461515 0.93091855 0.90051319 0.89920424 0.91306805 0.91205653\n",
      " 0.90723691 0.8796876  0.88617336 0.84999633 0.84862781 0.89069545\n",
      " 0.85505391 0.85689854 0.86594273 0.90485688 0.84981783 0.85285238\n",
      " 0.8217925  0.83637039 0.78870958 0.76526591 0.79233919 0.84581774\n",
      " 0.83972389 0.83403975 0.82947868 0.82634598 0.82463402 0.82414448\n",
      " 0.8245877  0.82566273 0.82710141 0.82868886 0.83026916 0.83173811\n",
      " 0.83303273 0.83411747 0.83497483 0.83559769 0.83598518 0.83614081\n",
      " 0.83606941 0.83577871 0.83528024 0.83458781 0.83371854 0.83269167\n",
      " 0.83152997 0.83025777 0.82890248 0.82748932]\n",
      "29 day output [[0.82604325]]\n"
     ]
    }
   ],
   "source": [
    "# demonstrate prediction for next 10 days\n",
    "from numpy import array\n",
    "\n",
    "lst_output=[]\n",
    "n_steps=100\n",
    "i=0\n",
    "while(i<30):\n",
    "    \n",
    "    if(len(temp_input)>100):\n",
    "        #print(temp_input)\n",
    "        x_input=np.array(temp_input[1:])\n",
    "        print(\"{} day input {}\".format(i,x_input))\n",
    "        x_input=x_input.reshape(1,-1)\n",
    "        x_input = x_input.reshape((1, n_steps, 1))\n",
    "        #print(x_input)\n",
    "        yhat = model.predict(x_input, verbose=0)\n",
    "        print(\"{} day output {}\".format(i,yhat))\n",
    "        temp_input.extend(yhat[0].tolist())\n",
    "        temp_input=temp_input[1:]\n",
    "        #print(temp_input)\n",
    "        lst_output.extend(yhat.tolist())\n",
    "        i=i+1\n",
    "    else:\n",
    "        x_input = x_input.reshape((1, n_steps,1))\n",
    "        yhat = model.predict(x_input, verbose=0)\n",
    "#         print(yhat[0])\n",
    "        temp_input.extend(yhat[0].tolist())\n",
    "#         print(len(temp_input))\n",
    "        lst_output.extend(yhat.tolist())\n",
    "        i=i+1\n",
    "    \n",
    "\n",
    "# print(lst_output)"
   ],
   "metadata": {
    "collapsed": false,
    "pycharm": {
     "name": "#%%\n"
    }
   }
  },
  {
   "cell_type": "code",
   "execution_count": 30,
   "outputs": [],
   "source": [
    "day_new=np.arange(1,101)\n",
    "day_pred=np.arange(101,131)"
   ],
   "metadata": {
    "collapsed": false,
    "pycharm": {
     "name": "#%%\n"
    }
   }
  },
  {
   "cell_type": "code",
   "execution_count": 31,
   "outputs": [
    {
     "name": "stdout",
     "output_type": "stream",
     "text": [
      "[[147.11000061]]\n",
      "[[156.09774011]\n",
      " [155.07359086]\n",
      " [154.11830056]\n",
      " [153.35175632]\n",
      " [152.82526679]\n",
      " [152.53754975]\n",
      " [152.45527762]\n",
      " [152.5297663 ]\n",
      " [152.71043842]\n",
      " [152.95222612]\n",
      " [153.21901701]\n",
      " [153.48460583]\n",
      " [153.73148231]\n",
      " [153.94905818]\n",
      " [154.13136312]\n",
      " [154.27545204]\n",
      " [154.38013288]\n",
      " [154.44525538]\n",
      " [154.47141057]\n",
      " [154.45940984]\n",
      " [154.41055544]\n",
      " [154.32678071]\n",
      " [154.21040968]\n",
      " [154.0643173 ]\n",
      " [153.89173916]\n",
      " [153.69650188]\n",
      " [153.48269252]\n",
      " [153.25491903]\n",
      " [153.01741874]\n",
      " [152.7743889 ]]\n"
     ]
    }
   ],
   "source": [
    "len(df1)\n",
    "print(scaler.inverse_transform(df1[-1:]))\n",
    "print(scaler.inverse_transform(lst_output[0:]))"
   ],
   "metadata": {
    "collapsed": false,
    "pycharm": {
     "name": "#%%\n"
    }
   }
  },
  {
   "cell_type": "code",
   "execution_count": 32,
   "outputs": [
    {
     "data": {
      "text/plain": "[<matplotlib.lines.Line2D at 0x248ae249ca0>]"
     },
     "execution_count": 32,
     "metadata": {},
     "output_type": "execute_result"
    },
    {
     "data": {
      "text/plain": "<Figure size 432x288 with 1 Axes>",
      "image/png": "[encoded data removed]"
     },
     "metadata": {
      "needs_background": "light"
     },
     "output_type": "display_data"
    }
   ],
   "source": [
    "plt.plot(day_new,scaler.inverse_transform(df1[len(df1)-100:]))\n",
    "plt.plot(day_pred,scaler.inverse_transform(lst_output))"
   ],
   "metadata": {
    "collapsed": false,
    "pycharm": {
     "name": "#%%\n"
    }
   }
  },
  {
   "cell_type": "code",
   "execution_count": 33,
   "outputs": [
    {
     "data": {
      "text/plain": "[<matplotlib.lines.Line2D at 0x248add0dc70>]"
     },
     "execution_count": 33,
     "metadata": {},
     "output_type": "execute_result"
    },
    {
     "data": {
      "text/plain": "<Figure size 432x288 with 1 Axes>",
      "image/png": "[encoded data removed]"
     },
     "metadata": {
      "needs_background": "light"
     },
     "output_type": "display_data"
    }
   ],
   "source": [
    "df3=df1.tolist()\n",
    "df3.extend(lst_output)\n",
    "plt.plot(df3[1200:])"
   ],
   "metadata": {
    "collapsed": false,
    "pycharm": {
     "name": "#%%\n"
    }
   }
  },
  {
   "cell_type": "code",
   "execution_count": 34,
   "outputs": [],
   "source": [
    "df3=scaler.inverse_transform(df3).tolist()\n"
   ],
   "metadata": {
    "collapsed": false,
    "pycharm": {
     "name": "#%%\n"
    }
   }
  },
  {
   "cell_type": "code",
   "execution_count": 35,
   "outputs": [
    {
     "data": {
      "text/plain": "[<matplotlib.lines.Line2D at 0x248ae1d5fa0>]"
     },
     "execution_count": 35,
     "metadata": {},
     "output_type": "execute_result"
    },
    {
     "data": {
      "text/plain": "<Figure size 432x288 with 1 Axes>",
      "image/png": "[encoded data removed]"
     },
     "metadata": {
      "needs_background": "light"
     },
     "output_type": "display_data"
    }
   ],
   "source": [
    "plt.plot(df3)\n"
   ],
   "metadata": {
    "collapsed": false,
    "pycharm": {
     "name": "#%%\n"
    }
   }
  },
  {
   "cell_type": "code",
   "execution_count": 36,
   "outputs": [
    {
     "name": "stderr",
     "output_type": "stream",
     "text": [
      "WARNING:absl:Found untraced functions such as lstm_cell_layer_call_fn, lstm_cell_layer_call_and_return_conditional_losses, lstm_cell_1_layer_call_fn, lstm_cell_1_layer_call_and_return_conditional_losses, lstm_cell_2_layer_call_fn while saving (showing 5 of 8). These functions will not be directly callable after loading.\n"
     ]
    },
    {
     "name": "stdout",
     "output_type": "stream",
     "text": [
      "INFO:tensorflow:Assets written to: filename.pkl\\assets\n"
     ]
    },
    {
     "name": "stderr",
     "output_type": "stream",
     "text": [
      "INFO:tensorflow:Assets written to: filename.pkl\\assets\n",
      "WARNING:absl:<keras.layers.recurrent.LSTMCell object at 0x000002489C297190> has the same name 'LSTMCell' as a built-in Keras object. Consider renaming <class 'keras.layers.recurrent.LSTMCell'> to avoid naming conflicts when loading with `tf.keras.models.load_model`. If renaming is not possible, pass the object in the `custom_objects` parameter of the load function.\n",
      "WARNING:absl:<keras.layers.recurrent.LSTMCell object at 0x000002489D87BD60> has the same name 'LSTMCell' as a built-in Keras object. Consider renaming <class 'keras.layers.recurrent.LSTMCell'> to avoid naming conflicts when loading with `tf.keras.models.load_model`. If renaming is not possible, pass the object in the `custom_objects` parameter of the load function.\n",
      "WARNING:absl:<keras.layers.recurrent.LSTMCell object at 0x000002489D8829D0> has the same name 'LSTMCell' as a built-in Keras object. Consider renaming <class 'keras.layers.recurrent.LSTMCell'> to avoid naming conflicts when loading with `tf.keras.models.load_model`. If renaming is not possible, pass the object in the `custom_objects` parameter of the load function.\n",
      "WARNING:absl:<keras.layers.recurrent.LSTMCell object at 0x000002489D91D3D0> has the same name 'LSTMCell' as a built-in Keras object. Consider renaming <class 'keras.layers.recurrent.LSTMCell'> to avoid naming conflicts when loading with `tf.keras.models.load_model`. If renaming is not possible, pass the object in the `custom_objects` parameter of the load function.\n"
     ]
    }
   ],
   "source": [
    "import pickle\n",
    "\n",
    "# filename = 'model.sav'\n",
    "# pickle.dump(model, open(filename, 'wb'))\n",
    "# tf.keras.models.save_model(model, \"filename.pkl\")\n",
    "# import time\n",
    "# #save model\n",
    "# ts = int(time.time())\n",
    "# file_path = f\"tf-models/lstm/{ts}/\"\n",
    "# model.save(filepath=file_path, save_format='tf')"
   ],
   "metadata": {
    "collapsed": false,
    "pycharm": {
     "name": "#%%\n"
    }
   }
  },
  {
   "cell_type": "code",
   "execution_count": 37,
   "outputs": [],
   "source": [
    "# import tarfile\n",
    "# import os\n",
    "\n",
    "# def tar_folder(output_filename: str, source_dir: str):\n",
    "#     with tarfile.open(output_filename, \"w:gz\") as tar:\n",
    "#         tar.add(source_dir, arcname=os.path.basename(source_dir))\n",
    "\n",
    "# OUT_FILE = 'tf-models-lstm.tar.gz'\n",
    "\n",
    "# SOURCE_FILE = \"tf-models\"\n",
    "\n",
    "# tar_folder(output_filename=OUT_FILE, source_dir=SOURCE_FILE)\n",
    "# print(OUT_FILE)"
   ],
   "metadata": {
    "collapsed": false,
    "pycharm": {
     "name": "#%%\n"
    }
   }
  },
  {
   "cell_type": "code",
   "execution_count": 38,
   "outputs": [],
   "source": [
    "# import sagemaker\n",
    "\n",
    "# sagemaker_session = sagemaker.Session(default_bucket='stocks-models')\n",
    "# upload_data = sagemaker_session.upload_data(path='tf-models-lstm.tar.gz', key_prefix='my_prefix')\n",
    "\n",
    "# print('upload_data : {}'.format(upload_data))"
   ],
   "metadata": {
    "collapsed": false,
    "pycharm": {
     "name": "#%%\n"
    }
   }
  },
  {
   "cell_type": "code",
   "execution_count": 39,
   "outputs": [
    {
     "name": "stdout",
     "output_type": "stream",
     "text": [
      "1652621535\n",
      "2022-05-15 08:32:15\n",
      "NEXT DAY\n",
      "\n",
      "1652707935\n",
      "2022-05-16 08:32:15\n",
      "152.77\n",
      "1655213535\n",
      "2022-05-19 08:32:15\n",
      "{'c': [156.1, 155.07, 154.12, 153.35, 152.83, 152.54, 152.46, 152.53, 152.71, 152.95, 153.22, 153.48, 153.73, 153.95, 154.13, 154.28, 154.38, 154.45, 154.47, 154.46, 154.41, 154.33, 154.21, 154.06, 153.89, 153.7, 153.48, 153.25, 153.02, 152.77], 't': [1652707935, 1652794335, 1652880735, 1652967135, 1653053535, 1653139935, 1653226335, 1653312735, 1653399135, 1653485535, 1653571935, 1653658335, 1653744735, 1653831135, 1653917535, 1654003935, 1654090335, 1654176735, 1654263135, 1654349535, 1654435935, 1654522335, 1654608735, 1654695135, 1654781535, 1654867935, 1654954335, 1655040735, 1655127135, 1655213535]}\n"
     ]
    }
   ],
   "source": [
    "# print(prediction[:50])\n",
    "import time\n",
    "from datetime import datetime\n",
    "\n",
    "SECONDS_IN_DAY = 86400\n",
    "\n",
    "now = int( time.time() )\n",
    "print( now )\n",
    "print(datetime.fromtimestamp(now))\n",
    "\n",
    "print(\"NEXT DAY\\n\")\n",
    "print(now + SECONDS_IN_DAY)\n",
    "print(datetime.fromtimestamp(now + SECONDS_IN_DAY))\n",
    "\n",
    "data_set = {\"c\": [], \"t\": []}\n",
    "inversed_output = scaler.inverse_transform(lst_output)\n",
    "inversed_output.tolist()\n",
    "for i in range(len(inversed_output)):\n",
    "    now = SECONDS_IN_DAY + now\n",
    "    data_set[\"c\"].insert(i, round(float(inversed_output[i]), 2))\n",
    "    data_set[\"t\"].insert(i, int(now))\n",
    "\n",
    "\n",
    "print(data_set.get(\"c\")[-1])\n",
    "print(data_set.get(\"t\")[-1])\n",
    "print(datetime.fromtimestamp(data_set.get(\"t\")[3]))\n",
    "print(data_set)\n",
    "\n",
    "\n",
    "\n",
    "# print(inversed_output)"
   ],
   "metadata": {
    "collapsed": false,
    "pycharm": {
     "name": "#%%\n"
    }
   }
  },
  {
   "cell_type": "code",
   "execution_count": 45,
   "outputs": [],
   "source": [
    "import json\n",
    "with open('../src/stock_json/aapl.json', 'w', encoding='utf-8') as f:\n",
    "    json.dump(data_set, f, ensure_ascii=False, indent=4)"
   ],
   "metadata": {
    "collapsed": false,
    "pycharm": {
     "name": "#%%\n"
    }
   }
  },
  {
   "cell_type": "code",
   "execution_count": null,
   "outputs": [],
   "source": [],
   "metadata": {
    "collapsed": false,
    "pycharm": {
     "name": "#%%\n"
    }
   }
  }
 ],
 "metadata": {
  "instance_type": "ml.g4dn.xlarge",
  "kernelspec": {
   "display_name": "Python 3",
   "language": "python",
   "name": "python3"
  }
 },
 "nbformat": 4,
 "nbformat_minor": 4
}