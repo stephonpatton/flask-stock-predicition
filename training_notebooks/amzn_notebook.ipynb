{
 "cells": [
  {
   "cell_type": "code",
   "execution_count": 1,
   "outputs": [
    {
     "name": "stdout",
     "output_type": "stream",
     "text": [
      "Requirement already satisfied: matplotlib==3.5.2 in e:\\conda\\lib\\site-packages (from -r requirements.txt (line 1)) (3.5.2)\n",
      "Requirement already satisfied: numpy==1.22.3 in e:\\conda\\lib\\site-packages (from -r requirements.txt (line 2)) (1.22.3)\n",
      "Requirement already satisfied: pandas==1.4.2 in e:\\conda\\lib\\site-packages (from -r requirements.txt (line 3)) (1.4.2)\n",
      "Requirement already satisfied: scikit_learn==1.1.0 in e:\\conda\\lib\\site-packages (from -r requirements.txt (line 4)) (1.1.0)\n",
      "Requirement already satisfied: tensorflow==2.8.0 in e:\\conda\\lib\\site-packages (from -r requirements.txt (line 5)) (2.8.0)\n",
      "Requirement already satisfied: yfinance==0.1.70 in e:\\conda\\lib\\site-packages (from -r requirements.txt (line 6)) (0.1.70)\n",
      "Requirement already satisfied: kiwisolver>=1.0.1 in e:\\conda\\lib\\site-packages (from matplotlib==3.5.2->-r requirements.txt (line 1)) (1.3.2)\n",
      "Requirement already satisfied: pyparsing>=2.2.1 in e:\\conda\\lib\\site-packages (from matplotlib==3.5.2->-r requirements.txt (line 1)) (3.0.4)\n",
      "Requirement already satisfied: python-dateutil>=2.7 in e:\\conda\\lib\\site-packages (from matplotlib==3.5.2->-r requirements.txt (line 1)) (2.8.2)\n",
      "Requirement already satisfied: packaging>=20.0 in e:\\conda\\lib\\site-packages (from matplotlib==3.5.2->-r requirements.txt (line 1)) (21.3)\n",
      "Requirement already satisfied: pillow>=6.2.0 in e:\\conda\\lib\\site-packages (from matplotlib==3.5.2->-r requirements.txt (line 1)) (9.0.1)\n",
      "Requirement already satisfied: fonttools>=4.22.0 in e:\\conda\\lib\\site-packages (from matplotlib==3.5.2->-r requirements.txt (line 1)) (4.25.0)\n",
      "Requirement already satisfied: cycler>=0.10 in e:\\conda\\lib\\site-packages (from matplotlib==3.5.2->-r requirements.txt (line 1)) (0.11.0)\n",
      "Requirement already satisfied: pytz>=2020.1 in e:\\conda\\lib\\site-packages (from pandas==1.4.2->-r requirements.txt (line 3)) (2021.3)\n",
      "Requirement already satisfied: threadpoolctl>=2.0.0 in e:\\conda\\lib\\site-packages (from scikit_learn==1.1.0->-r requirements.txt (line 4)) (2.2.0)\n",
      "Requirement already satisfied: joblib>=1.0.0 in e:\\conda\\lib\\site-packages (from scikit_learn==1.1.0->-r requirements.txt (line 4)) (1.1.0)\n",
      "Requirement already satisfied: scipy>=1.3.2 in e:\\conda\\lib\\site-packages (from scikit_learn==1.1.0->-r requirements.txt (line 4)) (1.7.3)\n",
      "Requirement already satisfied: keras<2.9,>=2.8.0rc0 in e:\\conda\\lib\\site-packages (from tensorflow==2.8.0->-r requirements.txt (line 5)) (2.8.0)\n",
      "Requirement already satisfied: gast>=0.2.1 in e:\\conda\\lib\\site-packages (from tensorflow==2.8.0->-r requirements.txt (line 5)) (0.5.3)\n",
      "Requirement already satisfied: h5py>=2.9.0 in e:\\conda\\lib\\site-packages (from tensorflow==2.8.0->-r requirements.txt (line 5)) (3.6.0)\n",
      "Requirement already satisfied: wrapt>=1.11.0 in c:\\users\\stephon patton\\appdata\\roaming\\python\\python39\\site-packages (from tensorflow==2.8.0->-r requirements.txt (line 5)) (1.12.1)\n",
      "Requirement already satisfied: protobuf>=3.9.2 in e:\\conda\\lib\\site-packages (from tensorflow==2.8.0->-r requirements.txt (line 5)) (3.19.1)\n",
      "Requirement already satisfied: absl-py>=0.4.0 in e:\\conda\\lib\\site-packages (from tensorflow==2.8.0->-r requirements.txt (line 5)) (1.0.0)\n",
      "Requirement already satisfied: opt-einsum>=2.3.2 in e:\\conda\\lib\\site-packages (from tensorflow==2.8.0->-r requirements.txt (line 5)) (3.3.0)\n",
      "Requirement already satisfied: libclang>=9.0.1 in e:\\conda\\lib\\site-packages (from tensorflow==2.8.0->-r requirements.txt (line 5)) (14.0.1)\n",
      "Requirement already satisfied: grpcio<2.0,>=1.24.3 in e:\\conda\\lib\\site-packages (from tensorflow==2.8.0->-r requirements.txt (line 5)) (1.42.0)\n",
      "Requirement already satisfied: tf-estimator-nightly==2.8.0.dev2021122109 in e:\\conda\\lib\\site-packages (from tensorflow==2.8.0->-r requirements.txt (line 5)) (2.8.0.dev2021122109)\n",
      "Requirement already satisfied: tensorboard<2.9,>=2.8 in e:\\conda\\lib\\site-packages (from tensorflow==2.8.0->-r requirements.txt (line 5)) (2.8.0)\n",
      "Requirement already satisfied: termcolor>=1.1.0 in e:\\conda\\lib\\site-packages (from tensorflow==2.8.0->-r requirements.txt (line 5)) (1.1.0)\n",
      "Requirement already satisfied: setuptools in e:\\conda\\lib\\site-packages (from tensorflow==2.8.0->-r requirements.txt (line 5)) (61.2.0)\n",
      "Requirement already satisfied: six>=1.12.0 in c:\\users\\stephon patton\\appdata\\roaming\\python\\python39\\site-packages (from tensorflow==2.8.0->-r requirements.txt (line 5)) (1.15.0)\n",
      "Requirement already satisfied: flatbuffers>=1.12 in e:\\conda\\lib\\site-packages (from tensorflow==2.8.0->-r requirements.txt (line 5)) (2.0)\n",
      "Requirement already satisfied: typing-extensions>=3.6.6 in e:\\conda\\lib\\site-packages (from tensorflow==2.8.0->-r requirements.txt (line 5)) (4.1.1)\n",
      "Requirement already satisfied: tensorflow-io-gcs-filesystem>=0.23.1 in e:\\conda\\lib\\site-packages (from tensorflow==2.8.0->-r requirements.txt (line 5)) (0.25.0)\n",
      "Requirement already satisfied: astunparse>=1.6.0 in e:\\conda\\lib\\site-packages (from tensorflow==2.8.0->-r requirements.txt (line 5)) (1.6.3)\n",
      "Requirement already satisfied: keras-preprocessing>=1.1.1 in e:\\conda\\lib\\site-packages (from tensorflow==2.8.0->-r requirements.txt (line 5)) (1.1.2)\n",
      "Requirement already satisfied: google-pasta>=0.1.1 in e:\\conda\\lib\\site-packages (from tensorflow==2.8.0->-r requirements.txt (line 5)) (0.2.0)\n",
      "Requirement already satisfied: multitasking>=0.0.7 in e:\\conda\\lib\\site-packages (from yfinance==0.1.70->-r requirements.txt (line 6)) (0.0.10)\n",
      "Requirement already satisfied: lxml>=4.5.1 in e:\\conda\\lib\\site-packages (from yfinance==0.1.70->-r requirements.txt (line 6)) (4.8.0)\n",
      "Requirement already satisfied: requests>=2.26 in e:\\conda\\lib\\site-packages (from yfinance==0.1.70->-r requirements.txt (line 6)) (2.27.1)\n",
      "Requirement already satisfied: wheel<1.0,>=0.23.0 in e:\\conda\\lib\\site-packages (from astunparse>=1.6.0->tensorflow==2.8.0->-r requirements.txt (line 5)) (0.37.1)\n",
      "Requirement already satisfied: urllib3<1.27,>=1.21.1 in e:\\conda\\lib\\site-packages (from requests>=2.26->yfinance==0.1.70->-r requirements.txt (line 6)) (1.26.9)\n",
      "Requirement already satisfied: idna<4,>=2.5 in e:\\conda\\lib\\site-packages (from requests>=2.26->yfinance==0.1.70->-r requirements.txt (line 6)) (3.3)\n",
      "Requirement already satisfied: certifi>=2017.4.17 in e:\\conda\\lib\\site-packages (from requests>=2.26->yfinance==0.1.70->-r requirements.txt (line 6)) (2021.10.8)\n",
      "Requirement already satisfied: charset-normalizer~=2.0.0 in e:\\conda\\lib\\site-packages (from requests>=2.26->yfinance==0.1.70->-r requirements.txt (line 6)) (2.0.4)\n",
      "Requirement already satisfied: google-auth-oauthlib<0.5,>=0.4.1 in e:\\conda\\lib\\site-packages (from tensorboard<2.9,>=2.8->tensorflow==2.8.0->-r requirements.txt (line 5)) (0.4.6)\n",
      "Requirement already satisfied: tensorboard-data-server<0.7.0,>=0.6.0 in e:\\conda\\lib\\site-packages (from tensorboard<2.9,>=2.8->tensorflow==2.8.0->-r requirements.txt (line 5)) (0.6.1)\n",
      "Requirement already satisfied: google-auth<3,>=1.6.3 in e:\\conda\\lib\\site-packages (from tensorboard<2.9,>=2.8->tensorflow==2.8.0->-r requirements.txt (line 5)) (1.33.0)\n",
      "Requirement already satisfied: markdown>=2.6.8 in e:\\conda\\lib\\site-packages (from tensorboard<2.9,>=2.8->tensorflow==2.8.0->-r requirements.txt (line 5)) (3.3.4)\n",
      "Requirement already satisfied: werkzeug>=0.11.15 in e:\\conda\\lib\\site-packages (from tensorboard<2.9,>=2.8->tensorflow==2.8.0->-r requirements.txt (line 5)) (2.0.3)\n",
      "Requirement already satisfied: tensorboard-plugin-wit>=1.6.0 in e:\\conda\\lib\\site-packages (from tensorboard<2.9,>=2.8->tensorflow==2.8.0->-r requirements.txt (line 5)) (1.8.1)\n",
      "Requirement already satisfied: cachetools<5.0,>=2.0.0 in e:\\conda\\lib\\site-packages (from google-auth<3,>=1.6.3->tensorboard<2.9,>=2.8->tensorflow==2.8.0->-r requirements.txt (line 5)) (4.2.2)\n",
      "Requirement already satisfied: pyasn1-modules>=0.2.1 in e:\\conda\\lib\\site-packages (from google-auth<3,>=1.6.3->tensorboard<2.9,>=2.8->tensorflow==2.8.0->-r requirements.txt (line 5)) (0.2.8)\n",
      "Requirement already satisfied: rsa<5,>=3.1.4 in e:\\conda\\lib\\site-packages (from google-auth<3,>=1.6.3->tensorboard<2.9,>=2.8->tensorflow==2.8.0->-r requirements.txt (line 5)) (4.7.2)\n",
      "Requirement already satisfied: requests-oauthlib>=0.7.0 in e:\\conda\\lib\\site-packages (from google-auth-oauthlib<0.5,>=0.4.1->tensorboard<2.9,>=2.8->tensorflow==2.8.0->-r requirements.txt (line 5)) (1.3.1)\n",
      "Requirement already satisfied: pyasn1<0.5.0,>=0.4.6 in e:\\conda\\lib\\site-packages (from pyasn1-modules>=0.2.1->google-auth<3,>=1.6.3->tensorboard<2.9,>=2.8->tensorflow==2.8.0->-r requirements.txt (line 5)) (0.4.8)\n",
      "Requirement already satisfied: oauthlib>=3.0.0 in e:\\conda\\lib\\site-packages (from requests-oauthlib>=0.7.0->google-auth-oauthlib<0.5,>=0.4.1->tensorboard<2.9,>=2.8->tensorflow==2.8.0->-r requirements.txt (line 5)) (3.2.0)\n"
     ]
    }
   ],
   "source": [
    "!pip install -r requirements.txt\n",
    "# !pip install tensorflow yfinance pandas sklearn"
   ],
   "metadata": {
    "collapsed": false,
    "pycharm": {
     "name": "#%%\n"
    }
   }
  },
  {
   "cell_type": "code",
   "execution_count": 2,
   "outputs": [],
   "source": [
    "import pandas as pd\n",
    "import tensorflow as tf\n",
    "import yfinance as yf"
   ],
   "metadata": {
    "collapsed": false,
    "pycharm": {
     "name": "#%%\n"
    }
   }
  },
  {
   "cell_type": "code",
   "execution_count": 3,
   "outputs": [
    {
     "name": "stdout",
     "output_type": "stream",
     "text": [
      "[*********************100%***********************]  1 of 1 completed\n"
     ]
    }
   ],
   "source": [
    "from datetime import datetime, timedelta\n",
    "end_date = datetime.today().strftime('%Y-%m-%d')\n",
    "start_date_dt = datetime.now() - timedelta(days=15*365)\n",
    "start_date = start_date_dt.strftime('%Y-%m-%d')\n",
    "amzn = yf.download(\"AMZN\", start = start_date, end = end_date)"
   ],
   "metadata": {
    "collapsed": false,
    "pycharm": {
     "name": "#%%\n"
    }
   }
  },
  {
   "cell_type": "code",
   "execution_count": 4,
   "outputs": [],
   "source": [
    "df = pd.DataFrame(amzn)\n",
    "df1 = df.reset_index()['Close']"
   ],
   "metadata": {
    "collapsed": false,
    "pycharm": {
     "name": "#%%\n"
    }
   }
  },
  {
   "cell_type": "code",
   "execution_count": 5,
   "outputs": [
    {
     "data": {
      "text/plain": "[<matplotlib.lines.Line2D at 0x1c4990c09d0>]"
     },
     "execution_count": 5,
     "metadata": {},
     "output_type": "execute_result"
    },
    {
     "data": {
      "text/plain": "<Figure size 432x288 with 1 Axes>",
      "image/png": "[encoded data removed]"
     },
     "metadata": {
      "needs_background": "light"
     },
     "output_type": "display_data"
    }
   ],
   "source": [
    "import matplotlib.pyplot as plt\n",
    "plt.plot(df1)"
   ],
   "metadata": {
    "collapsed": false,
    "pycharm": {
     "name": "#%%\n"
    }
   }
  },
  {
   "cell_type": "code",
   "execution_count": 6,
   "outputs": [],
   "source": [
    "import numpy as np\n",
    "from sklearn.preprocessing import MinMaxScaler\n",
    "scaler=MinMaxScaler(feature_range=(0,1))\n",
    "df1 = scaler.fit_transform(np.array(df1).reshape(-1, 1))"
   ],
   "metadata": {
    "collapsed": false,
    "pycharm": {
     "name": "#%%\n"
    }
   }
  },
  {
   "cell_type": "code",
   "execution_count": 7,
   "outputs": [],
   "source": [
    "# Split data\n",
    "train_size = int(len(df1)*.95) # 95%\n",
    "test_size = len(df1) - train_size\n",
    "train, test = df1[0:train_size,:], df1[train_size:len(df1), :1]"
   ],
   "metadata": {
    "collapsed": false,
    "pycharm": {
     "name": "#%%\n"
    }
   }
  },
  {
   "cell_type": "code",
   "execution_count": 8,
   "outputs": [],
   "source": [
    "def create_dataset(data, time_step=1):\n",
    "    dataX, dataY = [], []\n",
    "    for i in range(len(data)-time_step-1):\n",
    "        a = data[i:(i+time_step), 0]\n",
    "        dataX.append(a)\n",
    "        dataY.append(data[i + time_step, 0])\n",
    "    return np.array(dataX), np.array(dataY)"
   ],
   "metadata": {
    "collapsed": false,
    "pycharm": {
     "name": "#%%\n"
    }
   }
  },
  {
   "cell_type": "code",
   "execution_count": 9,
   "outputs": [],
   "source": [
    "time_step = 100\n",
    "X_train, y_train = create_dataset(train, time_step)\n",
    "X_test, y_test = create_dataset(test, time_step)"
   ],
   "metadata": {
    "collapsed": false,
    "pycharm": {
     "name": "#%%\n"
    }
   }
  },
  {
   "cell_type": "code",
   "execution_count": 10,
   "outputs": [],
   "source": [
    "# Reshape to be inputted into LSTM\n",
    "X_train = X_train.reshape(X_train.shape[0], X_train.shape[1], 1)\n",
    "X_test = X_test.reshape(X_test.shape[0], X_test.shape[1], 1)"
   ],
   "metadata": {
    "collapsed": false,
    "pycharm": {
     "name": "#%%\n"
    }
   }
  },
  {
   "cell_type": "code",
   "execution_count": 11,
   "outputs": [],
   "source": [
    "# Create Stacked LSTM\n",
    "from tensorflow.keras.models import Sequential\n",
    "from tensorflow.keras.layers import Dense\n",
    "from tensorflow.keras.layers import LSTM\n",
    "from tensorflow.keras.layers import Dropout\n",
    "model = Sequential()\n",
    "model.add(LSTM(50, return_sequences=True, input_shape=(100, 1)))\n",
    "model.add(Dropout(.5))\n",
    "model.add(LSTM(50, return_sequences=True))\n",
    "model.add(LSTM(50, return_sequences=True))\n",
    "model.add(LSTM(50))\n",
    "model.add(Dense(1))\n",
    "model.compile(loss='mean_squared_error', optimizer='adam')"
   ],
   "metadata": {
    "collapsed": false,
    "pycharm": {
     "name": "#%%\n"
    }
   }
  },
  {
   "cell_type": "code",
   "execution_count": 12,
   "outputs": [
    {
     "name": "stdout",
     "output_type": "stream",
     "text": [
      "Model: \"sequential\"\n",
      "_________________________________________________________________\n",
      " Layer (type)                Output Shape              Param #   \n",
      "=================================================================\n",
      " lstm (LSTM)                 (None, 100, 50)           10400     \n",
      "                                                                 \n",
      " dropout (Dropout)           (None, 100, 50)           0         \n",
      "                                                                 \n",
      " lstm_1 (LSTM)               (None, 100, 50)           20200     \n",
      "                                                                 \n",
      " lstm_2 (LSTM)               (None, 100, 50)           20200     \n",
      "                                                                 \n",
      " lstm_3 (LSTM)               (None, 50)                20200     \n",
      "                                                                 \n",
      " dense (Dense)               (None, 1)                 51        \n",
      "                                                                 \n",
      "=================================================================\n",
      "Total params: 71,051\n",
      "Trainable params: 71,051\n",
      "Non-trainable params: 0\n",
      "_________________________________________________________________\n"
     ]
    }
   ],
   "source": [
    "model.summary()"
   ],
   "metadata": {
    "collapsed": false,
    "pycharm": {
     "name": "#%%\n"
    }
   }
  },
  {
   "cell_type": "code",
   "execution_count": 13,
   "outputs": [
    {
     "name": "stdout",
     "output_type": "stream",
     "text": [
      "Epoch 1/100\n",
      "14/14 [==============================] - 11s 458ms/step - loss: 0.0347 - val_loss: 0.0293\n",
      "Epoch 2/100\n",
      "14/14 [==============================] - 5s 362ms/step - loss: 0.0027 - val_loss: 0.0072\n",
      "Epoch 3/100\n",
      "14/14 [==============================] - 5s 367ms/step - loss: 0.0011 - val_loss: 0.0084\n",
      "Epoch 4/100\n",
      "14/14 [==============================] - 5s 370ms/step - loss: 6.3302e-04 - val_loss: 0.0099\n",
      "Epoch 5/100\n",
      "14/14 [==============================] - 5s 377ms/step - loss: 5.6217e-04 - val_loss: 0.0106\n",
      "Epoch 6/100\n",
      "14/14 [==============================] - 5s 376ms/step - loss: 5.2814e-04 - val_loss: 0.0128\n",
      "Epoch 7/100\n",
      "14/14 [==============================] - 5s 374ms/step - loss: 5.4426e-04 - val_loss: 0.0110\n",
      "Epoch 8/100\n",
      "14/14 [==============================] - 5s 382ms/step - loss: 5.3527e-04 - val_loss: 0.0104\n",
      "Epoch 9/100\n",
      "14/14 [==============================] - 5s 383ms/step - loss: 5.2975e-04 - val_loss: 0.0103\n",
      "Epoch 10/100\n",
      "14/14 [==============================] - 5s 383ms/step - loss: 5.0273e-04 - val_loss: 0.0124\n",
      "Epoch 11/100\n",
      "14/14 [==============================] - 5s 379ms/step - loss: 5.4481e-04 - val_loss: 0.0098\n",
      "Epoch 12/100\n",
      "14/14 [==============================] - 5s 382ms/step - loss: 5.1654e-04 - val_loss: 0.0098\n",
      "Epoch 13/100\n",
      "14/14 [==============================] - 5s 387ms/step - loss: 4.9013e-04 - val_loss: 0.0115\n",
      "Epoch 14/100\n",
      "14/14 [==============================] - 5s 383ms/step - loss: 5.1170e-04 - val_loss: 0.0093\n",
      "Epoch 15/100\n",
      "14/14 [==============================] - 5s 391ms/step - loss: 4.9944e-04 - val_loss: 0.0107\n",
      "Epoch 16/100\n",
      "14/14 [==============================] - 5s 388ms/step - loss: 4.9843e-04 - val_loss: 0.0102\n",
      "Epoch 17/100\n",
      "14/14 [==============================] - 5s 389ms/step - loss: 4.8110e-04 - val_loss: 0.0090\n",
      "Epoch 18/100\n",
      "14/14 [==============================] - 5s 386ms/step - loss: 5.0415e-04 - val_loss: 0.0104\n",
      "Epoch 19/100\n",
      "14/14 [==============================] - 5s 382ms/step - loss: 4.9242e-04 - val_loss: 0.0114\n",
      "Epoch 20/100\n",
      "14/14 [==============================] - 5s 384ms/step - loss: 4.7802e-04 - val_loss: 0.0100\n",
      "Epoch 21/100\n",
      "14/14 [==============================] - 5s 380ms/step - loss: 5.1197e-04 - val_loss: 0.0108\n",
      "Epoch 22/100\n",
      "14/14 [==============================] - 5s 384ms/step - loss: 4.7844e-04 - val_loss: 0.0112\n",
      "Epoch 23/100\n",
      "14/14 [==============================] - 5s 389ms/step - loss: 5.1477e-04 - val_loss: 0.0091\n",
      "Epoch 24/100\n",
      "14/14 [==============================] - 5s 388ms/step - loss: 4.8419e-04 - val_loss: 0.0076\n",
      "Epoch 25/100\n",
      "14/14 [==============================] - 5s 390ms/step - loss: 4.9276e-04 - val_loss: 0.0090\n",
      "Epoch 26/100\n",
      "14/14 [==============================] - 5s 390ms/step - loss: 4.6317e-04 - val_loss: 0.0129\n",
      "Epoch 27/100\n",
      "14/14 [==============================] - 5s 388ms/step - loss: 4.5500e-04 - val_loss: 0.0091\n",
      "Epoch 28/100\n",
      "14/14 [==============================] - 5s 390ms/step - loss: 4.6653e-04 - val_loss: 0.0109\n",
      "Epoch 29/100\n",
      "14/14 [==============================] - 5s 390ms/step - loss: 4.5866e-04 - val_loss: 0.0108\n",
      "Epoch 30/100\n",
      "14/14 [==============================] - 5s 387ms/step - loss: 4.8795e-04 - val_loss: 0.0079\n",
      "Epoch 31/100\n",
      "14/14 [==============================] - 5s 387ms/step - loss: 4.5524e-04 - val_loss: 0.0142\n",
      "Epoch 32/100\n",
      "14/14 [==============================] - 5s 391ms/step - loss: 4.8199e-04 - val_loss: 0.0107\n",
      "Epoch 33/100\n",
      "14/14 [==============================] - 5s 389ms/step - loss: 4.7040e-04 - val_loss: 0.0120\n",
      "Epoch 34/100\n",
      "14/14 [==============================] - 5s 389ms/step - loss: 5.0599e-04 - val_loss: 0.0103\n",
      "Epoch 35/100\n",
      "14/14 [==============================] - 5s 387ms/step - loss: 4.1847e-04 - val_loss: 0.0100\n",
      "Epoch 36/100\n",
      "14/14 [==============================] - 6s 394ms/step - loss: 4.4205e-04 - val_loss: 0.0090\n",
      "Epoch 37/100\n",
      "14/14 [==============================] - 5s 383ms/step - loss: 4.3027e-04 - val_loss: 0.0106\n",
      "Epoch 38/100\n",
      "14/14 [==============================] - 5s 383ms/step - loss: 4.3668e-04 - val_loss: 0.0078\n",
      "Epoch 39/100\n",
      "14/14 [==============================] - 5s 379ms/step - loss: 4.0277e-04 - val_loss: 0.0112\n",
      "Epoch 40/100\n",
      "14/14 [==============================] - 5s 387ms/step - loss: 4.4003e-04 - val_loss: 0.0074\n",
      "Epoch 41/100\n",
      "14/14 [==============================] - 5s 384ms/step - loss: 4.1494e-04 - val_loss: 0.0085\n",
      "Epoch 42/100\n",
      "14/14 [==============================] - 5s 385ms/step - loss: 4.4033e-04 - val_loss: 0.0065\n",
      "Epoch 43/100\n",
      "14/14 [==============================] - 5s 382ms/step - loss: 4.1755e-04 - val_loss: 0.0074\n",
      "Epoch 44/100\n",
      "14/14 [==============================] - 5s 382ms/step - loss: 4.0743e-04 - val_loss: 0.0089\n",
      "Epoch 45/100\n",
      "14/14 [==============================] - 5s 379ms/step - loss: 4.2538e-04 - val_loss: 0.0093\n",
      "Epoch 46/100\n",
      "14/14 [==============================] - 5s 384ms/step - loss: 4.1538e-04 - val_loss: 0.0081\n",
      "Epoch 47/100\n",
      "14/14 [==============================] - 5s 382ms/step - loss: 4.1941e-04 - val_loss: 0.0078\n",
      "Epoch 48/100\n",
      "14/14 [==============================] - 5s 381ms/step - loss: 3.9580e-04 - val_loss: 0.0076\n",
      "Epoch 49/100\n",
      "14/14 [==============================] - 5s 383ms/step - loss: 4.2513e-04 - val_loss: 0.0061\n",
      "Epoch 50/100\n",
      "14/14 [==============================] - 5s 382ms/step - loss: 4.4516e-04 - val_loss: 0.0087\n",
      "Epoch 51/100\n",
      "14/14 [==============================] - 5s 376ms/step - loss: 4.4742e-04 - val_loss: 0.0101\n",
      "Epoch 52/100\n",
      "14/14 [==============================] - 5s 384ms/step - loss: 4.2952e-04 - val_loss: 0.0073\n",
      "Epoch 53/100\n",
      "14/14 [==============================] - 5s 379ms/step - loss: 3.9286e-04 - val_loss: 0.0077\n",
      "Epoch 54/100\n",
      "14/14 [==============================] - 5s 381ms/step - loss: 3.8291e-04 - val_loss: 0.0068\n",
      "Epoch 55/100\n",
      "14/14 [==============================] - 5s 377ms/step - loss: 3.6527e-04 - val_loss: 0.0079\n",
      "Epoch 56/100\n",
      "14/14 [==============================] - 5s 380ms/step - loss: 3.6777e-04 - val_loss: 0.0080\n",
      "Epoch 57/100\n",
      "14/14 [==============================] - 5s 374ms/step - loss: 3.6809e-04 - val_loss: 0.0067\n",
      "Epoch 58/100\n",
      "14/14 [==============================] - 5s 379ms/step - loss: 4.2793e-04 - val_loss: 0.0094\n",
      "Epoch 59/100\n",
      "14/14 [==============================] - 5s 376ms/step - loss: 3.6601e-04 - val_loss: 0.0094\n",
      "Epoch 60/100\n",
      "14/14 [==============================] - 5s 378ms/step - loss: 3.8190e-04 - val_loss: 0.0057\n",
      "Epoch 61/100\n",
      "14/14 [==============================] - 5s 377ms/step - loss: 3.6763e-04 - val_loss: 0.0065\n",
      "Epoch 62/100\n",
      "14/14 [==============================] - 5s 376ms/step - loss: 3.5074e-04 - val_loss: 0.0060\n",
      "Epoch 63/100\n",
      "14/14 [==============================] - 5s 377ms/step - loss: 3.3756e-04 - val_loss: 0.0064\n",
      "Epoch 64/100\n",
      "14/14 [==============================] - 5s 378ms/step - loss: 3.3029e-04 - val_loss: 0.0058\n",
      "Epoch 65/100\n",
      "14/14 [==============================] - 5s 377ms/step - loss: 3.3919e-04 - val_loss: 0.0075\n",
      "Epoch 66/100\n",
      "14/14 [==============================] - 5s 375ms/step - loss: 3.2810e-04 - val_loss: 0.0050\n",
      "Epoch 67/100\n",
      "14/14 [==============================] - 5s 377ms/step - loss: 4.3904e-04 - val_loss: 0.0071\n",
      "Epoch 68/100\n",
      "14/14 [==============================] - 5s 374ms/step - loss: 3.7434e-04 - val_loss: 0.0071\n",
      "Epoch 69/100\n",
      "14/14 [==============================] - 5s 373ms/step - loss: 3.1981e-04 - val_loss: 0.0065\n",
      "Epoch 70/100\n",
      "14/14 [==============================] - 5s 378ms/step - loss: 3.1907e-04 - val_loss: 0.0065\n",
      "Epoch 71/100\n",
      "14/14 [==============================] - 5s 376ms/step - loss: 3.2370e-04 - val_loss: 0.0085\n",
      "Epoch 72/100\n",
      "14/14 [==============================] - 5s 371ms/step - loss: 3.1111e-04 - val_loss: 0.0067\n",
      "Epoch 73/100\n",
      "14/14 [==============================] - 5s 377ms/step - loss: 3.1808e-04 - val_loss: 0.0057\n",
      "Epoch 74/100\n",
      "14/14 [==============================] - 5s 377ms/step - loss: 3.1798e-04 - val_loss: 0.0072\n",
      "Epoch 75/100\n",
      "14/14 [==============================] - 5s 377ms/step - loss: 3.1372e-04 - val_loss: 0.0082\n",
      "Epoch 76/100\n",
      "14/14 [==============================] - 5s 382ms/step - loss: 3.3046e-04 - val_loss: 0.0041\n",
      "Epoch 77/100\n",
      "14/14 [==============================] - 5s 381ms/step - loss: 4.3011e-04 - val_loss: 0.0063\n",
      "Epoch 78/100\n",
      "14/14 [==============================] - 5s 379ms/step - loss: 3.8435e-04 - val_loss: 0.0106\n",
      "Epoch 79/100\n",
      "14/14 [==============================] - 5s 384ms/step - loss: 3.5834e-04 - val_loss: 0.0047\n",
      "Epoch 80/100\n",
      "14/14 [==============================] - 5s 382ms/step - loss: 3.6729e-04 - val_loss: 0.0046\n",
      "Epoch 81/100\n",
      "14/14 [==============================] - 5s 384ms/step - loss: 3.1509e-04 - val_loss: 0.0086\n",
      "Epoch 82/100\n",
      "14/14 [==============================] - 5s 388ms/step - loss: 3.4021e-04 - val_loss: 0.0063\n",
      "Epoch 83/100\n",
      "14/14 [==============================] - 5s 384ms/step - loss: 3.0545e-04 - val_loss: 0.0064\n",
      "Epoch 84/100\n",
      "14/14 [==============================] - 5s 379ms/step - loss: 2.9225e-04 - val_loss: 0.0080\n",
      "Epoch 85/100\n",
      "14/14 [==============================] - 5s 380ms/step - loss: 3.2067e-04 - val_loss: 0.0045\n",
      "Epoch 86/100\n",
      "14/14 [==============================] - 5s 383ms/step - loss: 2.9918e-04 - val_loss: 0.0065\n",
      "Epoch 87/100\n",
      "14/14 [==============================] - 5s 386ms/step - loss: 2.8039e-04 - val_loss: 0.0070\n",
      "Epoch 88/100\n",
      "14/14 [==============================] - 5s 383ms/step - loss: 2.8745e-04 - val_loss: 0.0059\n",
      "Epoch 89/100\n",
      "14/14 [==============================] - 5s 384ms/step - loss: 2.8181e-04 - val_loss: 0.0048\n",
      "Epoch 90/100\n",
      "14/14 [==============================] - 5s 378ms/step - loss: 2.8760e-04 - val_loss: 0.0051\n",
      "Epoch 91/100\n",
      "14/14 [==============================] - 5s 378ms/step - loss: 2.8274e-04 - val_loss: 0.0038\n",
      "Epoch 92/100\n",
      "14/14 [==============================] - 5s 378ms/step - loss: 3.4357e-04 - val_loss: 0.0055\n",
      "Epoch 93/100\n",
      "14/14 [==============================] - 5s 377ms/step - loss: 3.0210e-04 - val_loss: 0.0066\n",
      "Epoch 94/100\n",
      "14/14 [==============================] - 5s 379ms/step - loss: 2.7079e-04 - val_loss: 0.0065\n",
      "Epoch 95/100\n",
      "14/14 [==============================] - 5s 381ms/step - loss: 2.7541e-04 - val_loss: 0.0071\n",
      "Epoch 96/100\n",
      "14/14 [==============================] - 5s 379ms/step - loss: 2.7676e-04 - val_loss: 0.0067\n",
      "Epoch 97/100\n",
      "14/14 [==============================] - 5s 376ms/step - loss: 2.9217e-04 - val_loss: 0.0067\n",
      "Epoch 98/100\n",
      "14/14 [==============================] - 5s 381ms/step - loss: 2.6020e-04 - val_loss: 0.0052\n",
      "Epoch 99/100\n",
      "14/14 [==============================] - 5s 383ms/step - loss: 2.6228e-04 - val_loss: 0.0061\n",
      "Epoch 100/100\n",
      "14/14 [==============================] - 5s 383ms/step - loss: 2.7512e-04 - val_loss: 0.0050\n"
     ]
    },
    {
     "data": {
      "text/plain": "<keras.callbacks.History at 0x1c4a2db3f70>"
     },
     "execution_count": 13,
     "metadata": {},
     "output_type": "execute_result"
    }
   ],
   "source": [
    "model.fit(X_train, y_train, validation_data=(X_test, y_test), epochs=100, batch_size=250, verbose=1)"
   ],
   "metadata": {
    "collapsed": false,
    "pycharm": {
     "name": "#%%\n"
    }
   }
  },
  {
   "cell_type": "code",
   "execution_count": 14,
   "outputs": [],
   "source": [
    "prediction = model.predict(X_train)\n",
    "test_prediction = model.predict(X_test)"
   ],
   "metadata": {
    "collapsed": false,
    "pycharm": {
     "name": "#%%\n"
    }
   }
  },
  {
   "cell_type": "code",
   "execution_count": 15,
   "outputs": [],
   "source": [
    "prediction = scaler.inverse_transform(prediction)\n",
    "test_prediction = scaler.inverse_transform(test_prediction)"
   ],
   "metadata": {
    "collapsed": false,
    "pycharm": {
     "name": "#%%\n"
    }
   }
  },
  {
   "cell_type": "code",
   "execution_count": 16,
   "outputs": [
    {
     "data": {
      "text/plain": "1257.2647131053955"
     },
     "execution_count": 16,
     "metadata": {},
     "output_type": "execute_result"
    }
   ],
   "source": [
    "import math\n",
    "from sklearn.metrics import mean_squared_error\n",
    "math.sqrt(mean_squared_error(y_train, prediction))"
   ],
   "metadata": {
    "collapsed": false,
    "pycharm": {
     "name": "#%%\n"
    }
   }
  },
  {
   "cell_type": "code",
   "execution_count": 17,
   "outputs": [
    {
     "data": {
      "text/plain": "3085.1996483760818"
     },
     "execution_count": 17,
     "metadata": {},
     "output_type": "execute_result"
    }
   ],
   "source": [
    "math.sqrt(mean_squared_error(y_test, test_prediction))"
   ],
   "metadata": {
    "collapsed": false,
    "pycharm": {
     "name": "#%%\n"
    }
   }
  },
  {
   "cell_type": "code",
   "execution_count": 18,
   "outputs": [],
   "source": [
    "x_input = test[len(test)-100:].reshape(1, -1)"
   ],
   "metadata": {
    "collapsed": false,
    "pycharm": {
     "name": "#%%\n"
    }
   }
  },
  {
   "cell_type": "code",
   "execution_count": 19,
   "outputs": [],
   "source": [
    "temp_input = list(x_input)\n",
    "temp_input = temp_input[0].tolist()"
   ],
   "metadata": {
    "collapsed": false,
    "pycharm": {
     "name": "#%%\n"
    }
   }
  },
  {
   "cell_type": "code",
   "execution_count": 20,
   "outputs": [
    {
     "name": "stdout",
     "output_type": "stream",
     "text": [
      "1 day input [0.90601889 0.9030078  0.89257873 0.91253068 0.8969343  0.87980943\n",
      " 0.87384148 0.87005399 0.86427533 0.88524721 0.88440852 0.86280364\n",
      " 0.86780312 0.85037798 0.83621004 0.81115041 0.76232156 0.77260724\n",
      " 0.7479453  0.74192048 0.74605968 0.76954483 0.79982038 0.80858575\n",
      " 0.8054421  0.74177438 0.84346309 0.84506464 0.86388307 0.86267108\n",
      " 0.8508433  0.81994822 0.83008515 0.83735439 0.84595742 0.82730134\n",
      " 0.81620399 0.80319665 0.77413851 0.80947575 0.82262649 0.82140637\n",
      " 0.80830709 0.81323352 0.79075745 0.77854283 0.73424002 0.72645672\n",
      " 0.74411996 0.78490852 0.77791246 0.7580471  0.78787899 0.81892288\n",
      " 0.84129611 0.86300112 0.86430512 0.88268796 0.87467468 0.87598138\n",
      " 0.882063   0.90487995 0.90663572 0.89032786 0.8724536  0.87549712\n",
      " 0.90139542 0.87817545 0.84950416 0.84424762 0.82626246 0.80819884\n",
      " 0.80638897 0.83210875 0.81136137 0.81719683 0.84603859 0.82376001\n",
      " 0.79290819 0.7715576  0.78088564 0.74472596 0.73810327 0.77289132\n",
      " 0.66297295 0.66415522 0.6628215  0.67188442 0.6203664  0.61152263\n",
      " 0.57914773 0.57952645 0.56065935 0.56909197 0.60222979 0.59008544\n",
      " 0.61474745 0.57007668 0.57119396 0.66161156]\n",
      "1 day output [[0.6586426]]\n",
      "2 day input [0.9030078  0.89257873 0.91253068 0.8969343  0.87980943 0.87384148\n",
      " 0.87005399 0.86427533 0.88524721 0.88440852 0.86280364 0.86780312\n",
      " 0.85037798 0.83621004 0.81115041 0.76232156 0.77260724 0.7479453\n",
      " 0.74192048 0.74605968 0.76954483 0.79982038 0.80858575 0.8054421\n",
      " 0.74177438 0.84346309 0.84506464 0.86388307 0.86267108 0.8508433\n",
      " 0.81994822 0.83008515 0.83735439 0.84595742 0.82730134 0.81620399\n",
      " 0.80319665 0.77413851 0.80947575 0.82262649 0.82140637 0.80830709\n",
      " 0.81323352 0.79075745 0.77854283 0.73424002 0.72645672 0.74411996\n",
      " 0.78490852 0.77791246 0.7580471  0.78787899 0.81892288 0.84129611\n",
      " 0.86300112 0.86430512 0.88268796 0.87467468 0.87598138 0.882063\n",
      " 0.90487995 0.90663572 0.89032786 0.8724536  0.87549712 0.90139542\n",
      " 0.87817545 0.84950416 0.84424762 0.82626246 0.80819884 0.80638897\n",
      " 0.83210875 0.81136137 0.81719683 0.84603859 0.82376001 0.79290819\n",
      " 0.7715576  0.78088564 0.74472596 0.73810327 0.77289132 0.66297295\n",
      " 0.66415522 0.6628215  0.67188442 0.6203664  0.61152263 0.57914773\n",
      " 0.57952645 0.56065935 0.56909197 0.60222979 0.59008544 0.61474745\n",
      " 0.57007668 0.57119396 0.66161156 0.65864259]\n",
      "2 day output [[0.6584301]]\n",
      "3 day input [0.89257873 0.91253068 0.8969343  0.87980943 0.87384148 0.87005399\n",
      " 0.86427533 0.88524721 0.88440852 0.86280364 0.86780312 0.85037798\n",
      " 0.83621004 0.81115041 0.76232156 0.77260724 0.7479453  0.74192048\n",
      " 0.74605968 0.76954483 0.79982038 0.80858575 0.8054421  0.74177438\n",
      " 0.84346309 0.84506464 0.86388307 0.86267108 0.8508433  0.81994822\n",
      " 0.83008515 0.83735439 0.84595742 0.82730134 0.81620399 0.80319665\n",
      " 0.77413851 0.80947575 0.82262649 0.82140637 0.80830709 0.81323352\n",
      " 0.79075745 0.77854283 0.73424002 0.72645672 0.74411996 0.78490852\n",
      " 0.77791246 0.7580471  0.78787899 0.81892288 0.84129611 0.86300112\n",
      " 0.86430512 0.88268796 0.87467468 0.87598138 0.882063   0.90487995\n",
      " 0.90663572 0.89032786 0.8724536  0.87549712 0.90139542 0.87817545\n",
      " 0.84950416 0.84424762 0.82626246 0.80819884 0.80638897 0.83210875\n",
      " 0.81136137 0.81719683 0.84603859 0.82376001 0.79290819 0.7715576\n",
      " 0.78088564 0.74472596 0.73810327 0.77289132 0.66297295 0.66415522\n",
      " 0.6628215  0.67188442 0.6203664  0.61152263 0.57914773 0.57952645\n",
      " 0.56065935 0.56909197 0.60222979 0.59008544 0.61474745 0.57007668\n",
      " 0.57119396 0.66161156 0.65864259 0.6584301 ]\n",
      "3 day output [[0.6610859]]\n",
      "4 day input [0.91253068 0.8969343  0.87980943 0.87384148 0.87005399 0.86427533\n",
      " 0.88524721 0.88440852 0.86280364 0.86780312 0.85037798 0.83621004\n",
      " 0.81115041 0.76232156 0.77260724 0.7479453  0.74192048 0.74605968\n",
      " 0.76954483 0.79982038 0.80858575 0.8054421  0.74177438 0.84346309\n",
      " 0.84506464 0.86388307 0.86267108 0.8508433  0.81994822 0.83008515\n",
      " 0.83735439 0.84595742 0.82730134 0.81620399 0.80319665 0.77413851\n",
      " 0.80947575 0.82262649 0.82140637 0.80830709 0.81323352 0.79075745\n",
      " 0.77854283 0.73424002 0.72645672 0.74411996 0.78490852 0.77791246\n",
      " 0.7580471  0.78787899 0.81892288 0.84129611 0.86300112 0.86430512\n",
      " 0.88268796 0.87467468 0.87598138 0.882063   0.90487995 0.90663572\n",
      " 0.89032786 0.8724536  0.87549712 0.90139542 0.87817545 0.84950416\n",
      " 0.84424762 0.82626246 0.80819884 0.80638897 0.83210875 0.81136137\n",
      " 0.81719683 0.84603859 0.82376001 0.79290819 0.7715576  0.78088564\n",
      " 0.74472596 0.73810327 0.77289132 0.66297295 0.66415522 0.6628215\n",
      " 0.67188442 0.6203664  0.61152263 0.57914773 0.57952645 0.56065935\n",
      " 0.56909197 0.60222979 0.59008544 0.61474745 0.57007668 0.57119396\n",
      " 0.66161156 0.65864259 0.6584301  0.6610859 ]\n",
      "4 day output [[0.6663657]]\n",
      "5 day input [0.8969343  0.87980943 0.87384148 0.87005399 0.86427533 0.88524721\n",
      " 0.88440852 0.86280364 0.86780312 0.85037798 0.83621004 0.81115041\n",
      " 0.76232156 0.77260724 0.7479453  0.74192048 0.74605968 0.76954483\n",
      " 0.79982038 0.80858575 0.8054421  0.74177438 0.84346309 0.84506464\n",
      " 0.86388307 0.86267108 0.8508433  0.81994822 0.83008515 0.83735439\n",
      " 0.84595742 0.82730134 0.81620399 0.80319665 0.77413851 0.80947575\n",
      " 0.82262649 0.82140637 0.80830709 0.81323352 0.79075745 0.77854283\n",
      " 0.73424002 0.72645672 0.74411996 0.78490852 0.77791246 0.7580471\n",
      " 0.78787899 0.81892288 0.84129611 0.86300112 0.86430512 0.88268796\n",
      " 0.87467468 0.87598138 0.882063   0.90487995 0.90663572 0.89032786\n",
      " 0.8724536  0.87549712 0.90139542 0.87817545 0.84950416 0.84424762\n",
      " 0.82626246 0.80819884 0.80638897 0.83210875 0.81136137 0.81719683\n",
      " 0.84603859 0.82376001 0.79290819 0.7715576  0.78088564 0.74472596\n",
      " 0.73810327 0.77289132 0.66297295 0.66415522 0.6628215  0.67188442\n",
      " 0.6203664  0.61152263 0.57914773 0.57952645 0.56065935 0.56909197\n",
      " 0.60222979 0.59008544 0.61474745 0.57007668 0.57119396 0.66161156\n",
      " 0.65864259 0.6584301  0.6610859  0.66636568]\n",
      "5 day output [[0.67376894]]\n",
      "6 day input [0.87980943 0.87384148 0.87005399 0.86427533 0.88524721 0.88440852\n",
      " 0.86280364 0.86780312 0.85037798 0.83621004 0.81115041 0.76232156\n",
      " 0.77260724 0.7479453  0.74192048 0.74605968 0.76954483 0.79982038\n",
      " 0.80858575 0.8054421  0.74177438 0.84346309 0.84506464 0.86388307\n",
      " 0.86267108 0.8508433  0.81994822 0.83008515 0.83735439 0.84595742\n",
      " 0.82730134 0.81620399 0.80319665 0.77413851 0.80947575 0.82262649\n",
      " 0.82140637 0.80830709 0.81323352 0.79075745 0.77854283 0.73424002\n",
      " 0.72645672 0.74411996 0.78490852 0.77791246 0.7580471  0.78787899\n",
      " 0.81892288 0.84129611 0.86300112 0.86430512 0.88268796 0.87467468\n",
      " 0.87598138 0.882063   0.90487995 0.90663572 0.89032786 0.8724536\n",
      " 0.87549712 0.90139542 0.87817545 0.84950416 0.84424762 0.82626246\n",
      " 0.80819884 0.80638897 0.83210875 0.81136137 0.81719683 0.84603859\n",
      " 0.82376001 0.79290819 0.7715576  0.78088564 0.74472596 0.73810327\n",
      " 0.77289132 0.66297295 0.66415522 0.6628215  0.67188442 0.6203664\n",
      " 0.61152263 0.57914773 0.57952645 0.56065935 0.56909197 0.60222979\n",
      " 0.59008544 0.61474745 0.57007668 0.57119396 0.66161156 0.65864259\n",
      " 0.6584301  0.6610859  0.66636568 0.67376894]\n",
      "6 day output [[0.68266225]]\n",
      "7 day input [0.87384148 0.87005399 0.86427533 0.88524721 0.88440852 0.86280364\n",
      " 0.86780312 0.85037798 0.83621004 0.81115041 0.76232156 0.77260724\n",
      " 0.7479453  0.74192048 0.74605968 0.76954483 0.79982038 0.80858575\n",
      " 0.8054421  0.74177438 0.84346309 0.84506464 0.86388307 0.86267108\n",
      " 0.8508433  0.81994822 0.83008515 0.83735439 0.84595742 0.82730134\n",
      " 0.81620399 0.80319665 0.77413851 0.80947575 0.82262649 0.82140637\n",
      " 0.80830709 0.81323352 0.79075745 0.77854283 0.73424002 0.72645672\n",
      " 0.74411996 0.78490852 0.77791246 0.7580471  0.78787899 0.81892288\n",
      " 0.84129611 0.86300112 0.86430512 0.88268796 0.87467468 0.87598138\n",
      " 0.882063   0.90487995 0.90663572 0.89032786 0.8724536  0.87549712\n",
      " 0.90139542 0.87817545 0.84950416 0.84424762 0.82626246 0.80819884\n",
      " 0.80638897 0.83210875 0.81136137 0.81719683 0.84603859 0.82376001\n",
      " 0.79290819 0.7715576  0.78088564 0.74472596 0.73810327 0.77289132\n",
      " 0.66297295 0.66415522 0.6628215  0.67188442 0.6203664  0.61152263\n",
      " 0.57914773 0.57952645 0.56065935 0.56909197 0.60222979 0.59008544\n",
      " 0.61474745 0.57007668 0.57119396 0.66161156 0.65864259 0.6584301\n",
      " 0.6610859  0.66636568 0.67376894 0.68266225]\n",
      "7 day output [[0.69239336]]\n",
      "8 day input [0.87005399 0.86427533 0.88524721 0.88440852 0.86280364 0.86780312\n",
      " 0.85037798 0.83621004 0.81115041 0.76232156 0.77260724 0.7479453\n",
      " 0.74192048 0.74605968 0.76954483 0.79982038 0.80858575 0.8054421\n",
      " 0.74177438 0.84346309 0.84506464 0.86388307 0.86267108 0.8508433\n",
      " 0.81994822 0.83008515 0.83735439 0.84595742 0.82730134 0.81620399\n",
      " 0.80319665 0.77413851 0.80947575 0.82262649 0.82140637 0.80830709\n",
      " 0.81323352 0.79075745 0.77854283 0.73424002 0.72645672 0.74411996\n",
      " 0.78490852 0.77791246 0.7580471  0.78787899 0.81892288 0.84129611\n",
      " 0.86300112 0.86430512 0.88268796 0.87467468 0.87598138 0.882063\n",
      " 0.90487995 0.90663572 0.89032786 0.8724536  0.87549712 0.90139542\n",
      " 0.87817545 0.84950416 0.84424762 0.82626246 0.80819884 0.80638897\n",
      " 0.83210875 0.81136137 0.81719683 0.84603859 0.82376001 0.79290819\n",
      " 0.7715576  0.78088564 0.74472596 0.73810327 0.77289132 0.66297295\n",
      " 0.66415522 0.6628215  0.67188442 0.6203664  0.61152263 0.57914773\n",
      " 0.57952645 0.56065935 0.56909197 0.60222979 0.59008544 0.61474745\n",
      " 0.57007668 0.57119396 0.66161156 0.65864259 0.6584301  0.6610859\n",
      " 0.66636568 0.67376894 0.68266225 0.69239336]\n",
      "8 day output [[0.7023723]]\n",
      "9 day input [0.86427533 0.88524721 0.88440852 0.86280364 0.86780312 0.85037798\n",
      " 0.83621004 0.81115041 0.76232156 0.77260724 0.7479453  0.74192048\n",
      " 0.74605968 0.76954483 0.79982038 0.80858575 0.8054421  0.74177438\n",
      " 0.84346309 0.84506464 0.86388307 0.86267108 0.8508433  0.81994822\n",
      " 0.83008515 0.83735439 0.84595742 0.82730134 0.81620399 0.80319665\n",
      " 0.77413851 0.80947575 0.82262649 0.82140637 0.80830709 0.81323352\n",
      " 0.79075745 0.77854283 0.73424002 0.72645672 0.74411996 0.78490852\n",
      " 0.77791246 0.7580471  0.78787899 0.81892288 0.84129611 0.86300112\n",
      " 0.86430512 0.88268796 0.87467468 0.87598138 0.882063   0.90487995\n",
      " 0.90663572 0.89032786 0.8724536  0.87549712 0.90139542 0.87817545\n",
      " 0.84950416 0.84424762 0.82626246 0.80819884 0.80638897 0.83210875\n",
      " 0.81136137 0.81719683 0.84603859 0.82376001 0.79290819 0.7715576\n",
      " 0.78088564 0.74472596 0.73810327 0.77289132 0.66297295 0.66415522\n",
      " 0.6628215  0.67188442 0.6203664  0.61152263 0.57914773 0.57952645\n",
      " 0.56065935 0.56909197 0.60222979 0.59008544 0.61474745 0.57007668\n",
      " 0.57119396 0.66161156 0.65864259 0.6584301  0.6610859  0.66636568\n",
      " 0.67376894 0.68266225 0.69239336 0.70237231]\n",
      "9 day output [[0.7121231]]\n",
      "10 day input [0.88524721 0.88440852 0.86280364 0.86780312 0.85037798 0.83621004\n",
      " 0.81115041 0.76232156 0.77260724 0.7479453  0.74192048 0.74605968\n",
      " 0.76954483 0.79982038 0.80858575 0.8054421  0.74177438 0.84346309\n",
      " 0.84506464 0.86388307 0.86267108 0.8508433  0.81994822 0.83008515\n",
      " 0.83735439 0.84595742 0.82730134 0.81620399 0.80319665 0.77413851\n",
      " 0.80947575 0.82262649 0.82140637 0.80830709 0.81323352 0.79075745\n",
      " 0.77854283 0.73424002 0.72645672 0.74411996 0.78490852 0.77791246\n",
      " 0.7580471  0.78787899 0.81892288 0.84129611 0.86300112 0.86430512\n",
      " 0.88268796 0.87467468 0.87598138 0.882063   0.90487995 0.90663572\n",
      " 0.89032786 0.8724536  0.87549712 0.90139542 0.87817545 0.84950416\n",
      " 0.84424762 0.82626246 0.80819884 0.80638897 0.83210875 0.81136137\n",
      " 0.81719683 0.84603859 0.82376001 0.79290819 0.7715576  0.78088564\n",
      " 0.74472596 0.73810327 0.77289132 0.66297295 0.66415522 0.6628215\n",
      " 0.67188442 0.6203664  0.61152263 0.57914773 0.57952645 0.56065935\n",
      " 0.56909197 0.60222979 0.59008544 0.61474745 0.57007668 0.57119396\n",
      " 0.66161156 0.65864259 0.6584301  0.6610859  0.66636568 0.67376894\n",
      " 0.68266225 0.69239336 0.70237231 0.7121231 ]\n",
      "10 day output [[0.72129756]]\n",
      "11 day input [0.88440852 0.86280364 0.86780312 0.85037798 0.83621004 0.81115041\n",
      " 0.76232156 0.77260724 0.7479453  0.74192048 0.74605968 0.76954483\n",
      " 0.79982038 0.80858575 0.8054421  0.74177438 0.84346309 0.84506464\n",
      " 0.86388307 0.86267108 0.8508433  0.81994822 0.83008515 0.83735439\n",
      " 0.84595742 0.82730134 0.81620399 0.80319665 0.77413851 0.80947575\n",
      " 0.82262649 0.82140637 0.80830709 0.81323352 0.79075745 0.77854283\n",
      " 0.73424002 0.72645672 0.74411996 0.78490852 0.77791246 0.7580471\n",
      " 0.78787899 0.81892288 0.84129611 0.86300112 0.86430512 0.88268796\n",
      " 0.87467468 0.87598138 0.882063   0.90487995 0.90663572 0.89032786\n",
      " 0.8724536  0.87549712 0.90139542 0.87817545 0.84950416 0.84424762\n",
      " 0.82626246 0.80819884 0.80638897 0.83210875 0.81136137 0.81719683\n",
      " 0.84603859 0.82376001 0.79290819 0.7715576  0.78088564 0.74472596\n",
      " 0.73810327 0.77289132 0.66297295 0.66415522 0.6628215  0.67188442\n",
      " 0.6203664  0.61152263 0.57914773 0.57952645 0.56065935 0.56909197\n",
      " 0.60222979 0.59008544 0.61474745 0.57007668 0.57119396 0.66161156\n",
      " 0.65864259 0.6584301  0.6610859  0.66636568 0.67376894 0.68266225\n",
      " 0.69239336 0.70237231 0.7121231  0.72129756]\n",
      "11 day output [[0.7296695]]\n",
      "12 day input [0.86280364 0.86780312 0.85037798 0.83621004 0.81115041 0.76232156\n",
      " 0.77260724 0.7479453  0.74192048 0.74605968 0.76954483 0.79982038\n",
      " 0.80858575 0.8054421  0.74177438 0.84346309 0.84506464 0.86388307\n",
      " 0.86267108 0.8508433  0.81994822 0.83008515 0.83735439 0.84595742\n",
      " 0.82730134 0.81620399 0.80319665 0.77413851 0.80947575 0.82262649\n",
      " 0.82140637 0.80830709 0.81323352 0.79075745 0.77854283 0.73424002\n",
      " 0.72645672 0.74411996 0.78490852 0.77791246 0.7580471  0.78787899\n",
      " 0.81892288 0.84129611 0.86300112 0.86430512 0.88268796 0.87467468\n",
      " 0.87598138 0.882063   0.90487995 0.90663572 0.89032786 0.8724536\n",
      " 0.87549712 0.90139542 0.87817545 0.84950416 0.84424762 0.82626246\n",
      " 0.80819884 0.80638897 0.83210875 0.81136137 0.81719683 0.84603859\n",
      " 0.82376001 0.79290819 0.7715576  0.78088564 0.74472596 0.73810327\n",
      " 0.77289132 0.66297295 0.66415522 0.6628215  0.67188442 0.6203664\n",
      " 0.61152263 0.57914773 0.57952645 0.56065935 0.56909197 0.60222979\n",
      " 0.59008544 0.61474745 0.57007668 0.57119396 0.66161156 0.65864259\n",
      " 0.6584301  0.6610859  0.66636568 0.67376894 0.68266225 0.69239336\n",
      " 0.70237231 0.7121231  0.72129756 0.72966951]\n",
      "12 day output [[0.7371145]]\n",
      "13 day input [0.86780312 0.85037798 0.83621004 0.81115041 0.76232156 0.77260724\n",
      " 0.7479453  0.74192048 0.74605968 0.76954483 0.79982038 0.80858575\n",
      " 0.8054421  0.74177438 0.84346309 0.84506464 0.86388307 0.86267108\n",
      " 0.8508433  0.81994822 0.83008515 0.83735439 0.84595742 0.82730134\n",
      " 0.81620399 0.80319665 0.77413851 0.80947575 0.82262649 0.82140637\n",
      " 0.80830709 0.81323352 0.79075745 0.77854283 0.73424002 0.72645672\n",
      " 0.74411996 0.78490852 0.77791246 0.7580471  0.78787899 0.81892288\n",
      " 0.84129611 0.86300112 0.86430512 0.88268796 0.87467468 0.87598138\n",
      " 0.882063   0.90487995 0.90663572 0.89032786 0.8724536  0.87549712\n",
      " 0.90139542 0.87817545 0.84950416 0.84424762 0.82626246 0.80819884\n",
      " 0.80638897 0.83210875 0.81136137 0.81719683 0.84603859 0.82376001\n",
      " 0.79290819 0.7715576  0.78088564 0.74472596 0.73810327 0.77289132\n",
      " 0.66297295 0.66415522 0.6628215  0.67188442 0.6203664  0.61152263\n",
      " 0.57914773 0.57952645 0.56065935 0.56909197 0.60222979 0.59008544\n",
      " 0.61474745 0.57007668 0.57119396 0.66161156 0.65864259 0.6584301\n",
      " 0.6610859  0.66636568 0.67376894 0.68266225 0.69239336 0.70237231\n",
      " 0.7121231  0.72129756 0.72966951 0.73711449]\n",
      "13 day output [[0.7435828]]\n",
      "14 day input [0.85037798 0.83621004 0.81115041 0.76232156 0.77260724 0.7479453\n",
      " 0.74192048 0.74605968 0.76954483 0.79982038 0.80858575 0.8054421\n",
      " 0.74177438 0.84346309 0.84506464 0.86388307 0.86267108 0.8508433\n",
      " 0.81994822 0.83008515 0.83735439 0.84595742 0.82730134 0.81620399\n",
      " 0.80319665 0.77413851 0.80947575 0.82262649 0.82140637 0.80830709\n",
      " 0.81323352 0.79075745 0.77854283 0.73424002 0.72645672 0.74411996\n",
      " 0.78490852 0.77791246 0.7580471  0.78787899 0.81892288 0.84129611\n",
      " 0.86300112 0.86430512 0.88268796 0.87467468 0.87598138 0.882063\n",
      " 0.90487995 0.90663572 0.89032786 0.8724536  0.87549712 0.90139542\n",
      " 0.87817545 0.84950416 0.84424762 0.82626246 0.80819884 0.80638897\n",
      " 0.83210875 0.81136137 0.81719683 0.84603859 0.82376001 0.79290819\n",
      " 0.7715576  0.78088564 0.74472596 0.73810327 0.77289132 0.66297295\n",
      " 0.66415522 0.6628215  0.67188442 0.6203664  0.61152263 0.57914773\n",
      " 0.57952645 0.56065935 0.56909197 0.60222979 0.59008544 0.61474745\n",
      " 0.57007668 0.57119396 0.66161156 0.65864259 0.6584301  0.6610859\n",
      " 0.66636568 0.67376894 0.68266225 0.69239336 0.70237231 0.7121231\n",
      " 0.72129756 0.72966951 0.73711449 0.74358279]\n",
      "14 day output [[0.7490757]]\n",
      "15 day input [0.83621004 0.81115041 0.76232156 0.77260724 0.7479453  0.74192048\n",
      " 0.74605968 0.76954483 0.79982038 0.80858575 0.8054421  0.74177438\n",
      " 0.84346309 0.84506464 0.86388307 0.86267108 0.8508433  0.81994822\n",
      " 0.83008515 0.83735439 0.84595742 0.82730134 0.81620399 0.80319665\n",
      " 0.77413851 0.80947575 0.82262649 0.82140637 0.80830709 0.81323352\n",
      " 0.79075745 0.77854283 0.73424002 0.72645672 0.74411996 0.78490852\n",
      " 0.77791246 0.7580471  0.78787899 0.81892288 0.84129611 0.86300112\n",
      " 0.86430512 0.88268796 0.87467468 0.87598138 0.882063   0.90487995\n",
      " 0.90663572 0.89032786 0.8724536  0.87549712 0.90139542 0.87817545\n",
      " 0.84950416 0.84424762 0.82626246 0.80819884 0.80638897 0.83210875\n",
      " 0.81136137 0.81719683 0.84603859 0.82376001 0.79290819 0.7715576\n",
      " 0.78088564 0.74472596 0.73810327 0.77289132 0.66297295 0.66415522\n",
      " 0.6628215  0.67188442 0.6203664  0.61152263 0.57914773 0.57952645\n",
      " 0.56065935 0.56909197 0.60222979 0.59008544 0.61474745 0.57007668\n",
      " 0.57119396 0.66161156 0.65864259 0.6584301  0.6610859  0.66636568\n",
      " 0.67376894 0.68266225 0.69239336 0.70237231 0.7121231  0.72129756\n",
      " 0.72966951 0.73711449 0.74358279 0.74907571]\n",
      "15 day output [[0.75362563]]\n",
      "16 day input [0.81115041 0.76232156 0.77260724 0.7479453  0.74192048 0.74605968\n",
      " 0.76954483 0.79982038 0.80858575 0.8054421  0.74177438 0.84346309\n",
      " 0.84506464 0.86388307 0.86267108 0.8508433  0.81994822 0.83008515\n",
      " 0.83735439 0.84595742 0.82730134 0.81620399 0.80319665 0.77413851\n",
      " 0.80947575 0.82262649 0.82140637 0.80830709 0.81323352 0.79075745\n",
      " 0.77854283 0.73424002 0.72645672 0.74411996 0.78490852 0.77791246\n",
      " 0.7580471  0.78787899 0.81892288 0.84129611 0.86300112 0.86430512\n",
      " 0.88268796 0.87467468 0.87598138 0.882063   0.90487995 0.90663572\n",
      " 0.89032786 0.8724536  0.87549712 0.90139542 0.87817545 0.84950416\n",
      " 0.84424762 0.82626246 0.80819884 0.80638897 0.83210875 0.81136137\n",
      " 0.81719683 0.84603859 0.82376001 0.79290819 0.7715576  0.78088564\n",
      " 0.74472596 0.73810327 0.77289132 0.66297295 0.66415522 0.6628215\n",
      " 0.67188442 0.6203664  0.61152263 0.57914773 0.57952645 0.56065935\n",
      " 0.56909197 0.60222979 0.59008544 0.61474745 0.57007668 0.57119396\n",
      " 0.66161156 0.65864259 0.6584301  0.6610859  0.66636568 0.67376894\n",
      " 0.68266225 0.69239336 0.70237231 0.7121231  0.72129756 0.72966951\n",
      " 0.73711449 0.74358279 0.74907571 0.75362563]\n",
      "16 day output [[0.7572842]]\n",
      "17 day input [0.76232156 0.77260724 0.7479453  0.74192048 0.74605968 0.76954483\n",
      " 0.79982038 0.80858575 0.8054421  0.74177438 0.84346309 0.84506464\n",
      " 0.86388307 0.86267108 0.8508433  0.81994822 0.83008515 0.83735439\n",
      " 0.84595742 0.82730134 0.81620399 0.80319665 0.77413851 0.80947575\n",
      " 0.82262649 0.82140637 0.80830709 0.81323352 0.79075745 0.77854283\n",
      " 0.73424002 0.72645672 0.74411996 0.78490852 0.77791246 0.7580471\n",
      " 0.78787899 0.81892288 0.84129611 0.86300112 0.86430512 0.88268796\n",
      " 0.87467468 0.87598138 0.882063   0.90487995 0.90663572 0.89032786\n",
      " 0.8724536  0.87549712 0.90139542 0.87817545 0.84950416 0.84424762\n",
      " 0.82626246 0.80819884 0.80638897 0.83210875 0.81136137 0.81719683\n",
      " 0.84603859 0.82376001 0.79290819 0.7715576  0.78088564 0.74472596\n",
      " 0.73810327 0.77289132 0.66297295 0.66415522 0.6628215  0.67188442\n",
      " 0.6203664  0.61152263 0.57914773 0.57952645 0.56065935 0.56909197\n",
      " 0.60222979 0.59008544 0.61474745 0.57007668 0.57119396 0.66161156\n",
      " 0.65864259 0.6584301  0.6610859  0.66636568 0.67376894 0.68266225\n",
      " 0.69239336 0.70237231 0.7121231  0.72129756 0.72966951 0.73711449\n",
      " 0.74358279 0.74907571 0.75362563 0.75728422]\n",
      "17 day output [[0.7601117]]\n",
      "18 day input [0.77260724 0.7479453  0.74192048 0.74605968 0.76954483 0.79982038\n",
      " 0.80858575 0.8054421  0.74177438 0.84346309 0.84506464 0.86388307\n",
      " 0.86267108 0.8508433  0.81994822 0.83008515 0.83735439 0.84595742\n",
      " 0.82730134 0.81620399 0.80319665 0.77413851 0.80947575 0.82262649\n",
      " 0.82140637 0.80830709 0.81323352 0.79075745 0.77854283 0.73424002\n",
      " 0.72645672 0.74411996 0.78490852 0.77791246 0.7580471  0.78787899\n",
      " 0.81892288 0.84129611 0.86300112 0.86430512 0.88268796 0.87467468\n",
      " 0.87598138 0.882063   0.90487995 0.90663572 0.89032786 0.8724536\n",
      " 0.87549712 0.90139542 0.87817545 0.84950416 0.84424762 0.82626246\n",
      " 0.80819884 0.80638897 0.83210875 0.81136137 0.81719683 0.84603859\n",
      " 0.82376001 0.79290819 0.7715576  0.78088564 0.74472596 0.73810327\n",
      " 0.77289132 0.66297295 0.66415522 0.6628215  0.67188442 0.6203664\n",
      " 0.61152263 0.57914773 0.57952645 0.56065935 0.56909197 0.60222979\n",
      " 0.59008544 0.61474745 0.57007668 0.57119396 0.66161156 0.65864259\n",
      " 0.6584301  0.6610859  0.66636568 0.67376894 0.68266225 0.69239336\n",
      " 0.70237231 0.7121231  0.72129756 0.72966951 0.73711449 0.74358279\n",
      " 0.74907571 0.75362563 0.75728422 0.76011169]\n",
      "18 day output [[0.7621749]]\n",
      "19 day input [0.7479453  0.74192048 0.74605968 0.76954483 0.79982038 0.80858575\n",
      " 0.8054421  0.74177438 0.84346309 0.84506464 0.86388307 0.86267108\n",
      " 0.8508433  0.81994822 0.83008515 0.83735439 0.84595742 0.82730134\n",
      " 0.81620399 0.80319665 0.77413851 0.80947575 0.82262649 0.82140637\n",
      " 0.80830709 0.81323352 0.79075745 0.77854283 0.73424002 0.72645672\n",
      " 0.74411996 0.78490852 0.77791246 0.7580471  0.78787899 0.81892288\n",
      " 0.84129611 0.86300112 0.86430512 0.88268796 0.87467468 0.87598138\n",
      " 0.882063   0.90487995 0.90663572 0.89032786 0.8724536  0.87549712\n",
      " 0.90139542 0.87817545 0.84950416 0.84424762 0.82626246 0.80819884\n",
      " 0.80638897 0.83210875 0.81136137 0.81719683 0.84603859 0.82376001\n",
      " 0.79290819 0.7715576  0.78088564 0.74472596 0.73810327 0.77289132\n",
      " 0.66297295 0.66415522 0.6628215  0.67188442 0.6203664  0.61152263\n",
      " 0.57914773 0.57952645 0.56065935 0.56909197 0.60222979 0.59008544\n",
      " 0.61474745 0.57007668 0.57119396 0.66161156 0.65864259 0.6584301\n",
      " 0.6610859  0.66636568 0.67376894 0.68266225 0.69239336 0.70237231\n",
      " 0.7121231  0.72129756 0.72966951 0.73711449 0.74358279 0.74907571\n",
      " 0.75362563 0.75728422 0.76011169 0.7621749 ]\n",
      "19 day output [[0.76354414]]\n",
      "20 day input [0.74192048 0.74605968 0.76954483 0.79982038 0.80858575 0.8054421\n",
      " 0.74177438 0.84346309 0.84506464 0.86388307 0.86267108 0.8508433\n",
      " 0.81994822 0.83008515 0.83735439 0.84595742 0.82730134 0.81620399\n",
      " 0.80319665 0.77413851 0.80947575 0.82262649 0.82140637 0.80830709\n",
      " 0.81323352 0.79075745 0.77854283 0.73424002 0.72645672 0.74411996\n",
      " 0.78490852 0.77791246 0.7580471  0.78787899 0.81892288 0.84129611\n",
      " 0.86300112 0.86430512 0.88268796 0.87467468 0.87598138 0.882063\n",
      " 0.90487995 0.90663572 0.89032786 0.8724536  0.87549712 0.90139542\n",
      " 0.87817545 0.84950416 0.84424762 0.82626246 0.80819884 0.80638897\n",
      " 0.83210875 0.81136137 0.81719683 0.84603859 0.82376001 0.79290819\n",
      " 0.7715576  0.78088564 0.74472596 0.73810327 0.77289132 0.66297295\n",
      " 0.66415522 0.6628215  0.67188442 0.6203664  0.61152263 0.57914773\n",
      " 0.57952645 0.56065935 0.56909197 0.60222979 0.59008544 0.61474745\n",
      " 0.57007668 0.57119396 0.66161156 0.65864259 0.6584301  0.6610859\n",
      " 0.66636568 0.67376894 0.68266225 0.69239336 0.70237231 0.7121231\n",
      " 0.72129756 0.72966951 0.73711449 0.74358279 0.74907571 0.75362563\n",
      " 0.75728422 0.76011169 0.7621749  0.76354414]\n",
      "20 day output [[0.7642929]]\n",
      "21 day input [0.74605968 0.76954483 0.79982038 0.80858575 0.8054421  0.74177438\n",
      " 0.84346309 0.84506464 0.86388307 0.86267108 0.8508433  0.81994822\n",
      " 0.83008515 0.83735439 0.84595742 0.82730134 0.81620399 0.80319665\n",
      " 0.77413851 0.80947575 0.82262649 0.82140637 0.80830709 0.81323352\n",
      " 0.79075745 0.77854283 0.73424002 0.72645672 0.74411996 0.78490852\n",
      " 0.77791246 0.7580471  0.78787899 0.81892288 0.84129611 0.86300112\n",
      " 0.86430512 0.88268796 0.87467468 0.87598138 0.882063   0.90487995\n",
      " 0.90663572 0.89032786 0.8724536  0.87549712 0.90139542 0.87817545\n",
      " 0.84950416 0.84424762 0.82626246 0.80819884 0.80638897 0.83210875\n",
      " 0.81136137 0.81719683 0.84603859 0.82376001 0.79290819 0.7715576\n",
      " 0.78088564 0.74472596 0.73810327 0.77289132 0.66297295 0.66415522\n",
      " 0.6628215  0.67188442 0.6203664  0.61152263 0.57914773 0.57952645\n",
      " 0.56065935 0.56909197 0.60222979 0.59008544 0.61474745 0.57007668\n",
      " 0.57119396 0.66161156 0.65864259 0.6584301  0.6610859  0.66636568\n",
      " 0.67376894 0.68266225 0.69239336 0.70237231 0.7121231  0.72129756\n",
      " 0.72966951 0.73711449 0.74358279 0.74907571 0.75362563 0.75728422\n",
      " 0.76011169 0.7621749  0.76354414 0.7642929 ]\n",
      "21 day output [[0.76449853]]\n",
      "22 day input [0.76954483 0.79982038 0.80858575 0.8054421  0.74177438 0.84346309\n",
      " 0.84506464 0.86388307 0.86267108 0.8508433  0.81994822 0.83008515\n",
      " 0.83735439 0.84595742 0.82730134 0.81620399 0.80319665 0.77413851\n",
      " 0.80947575 0.82262649 0.82140637 0.80830709 0.81323352 0.79075745\n",
      " 0.77854283 0.73424002 0.72645672 0.74411996 0.78490852 0.77791246\n",
      " 0.7580471  0.78787899 0.81892288 0.84129611 0.86300112 0.86430512\n",
      " 0.88268796 0.87467468 0.87598138 0.882063   0.90487995 0.90663572\n",
      " 0.89032786 0.8724536  0.87549712 0.90139542 0.87817545 0.84950416\n",
      " 0.84424762 0.82626246 0.80819884 0.80638897 0.83210875 0.81136137\n",
      " 0.81719683 0.84603859 0.82376001 0.79290819 0.7715576  0.78088564\n",
      " 0.74472596 0.73810327 0.77289132 0.66297295 0.66415522 0.6628215\n",
      " 0.67188442 0.6203664  0.61152263 0.57914773 0.57952645 0.56065935\n",
      " 0.56909197 0.60222979 0.59008544 0.61474745 0.57007668 0.57119396\n",
      " 0.66161156 0.65864259 0.6584301  0.6610859  0.66636568 0.67376894\n",
      " 0.68266225 0.69239336 0.70237231 0.7121231  0.72129756 0.72966951\n",
      " 0.73711449 0.74358279 0.74907571 0.75362563 0.75728422 0.76011169\n",
      " 0.7621749  0.76354414 0.7642929  0.76449853]\n",
      "22 day output [[0.7642405]]\n",
      "23 day input [0.79982038 0.80858575 0.8054421  0.74177438 0.84346309 0.84506464\n",
      " 0.86388307 0.86267108 0.8508433  0.81994822 0.83008515 0.83735439\n",
      " 0.84595742 0.82730134 0.81620399 0.80319665 0.77413851 0.80947575\n",
      " 0.82262649 0.82140637 0.80830709 0.81323352 0.79075745 0.77854283\n",
      " 0.73424002 0.72645672 0.74411996 0.78490852 0.77791246 0.7580471\n",
      " 0.78787899 0.81892288 0.84129611 0.86300112 0.86430512 0.88268796\n",
      " 0.87467468 0.87598138 0.882063   0.90487995 0.90663572 0.89032786\n",
      " 0.8724536  0.87549712 0.90139542 0.87817545 0.84950416 0.84424762\n",
      " 0.82626246 0.80819884 0.80638897 0.83210875 0.81136137 0.81719683\n",
      " 0.84603859 0.82376001 0.79290819 0.7715576  0.78088564 0.74472596\n",
      " 0.73810327 0.77289132 0.66297295 0.66415522 0.6628215  0.67188442\n",
      " 0.6203664  0.61152263 0.57914773 0.57952645 0.56065935 0.56909197\n",
      " 0.60222979 0.59008544 0.61474745 0.57007668 0.57119396 0.66161156\n",
      " 0.65864259 0.6584301  0.6610859  0.66636568 0.67376894 0.68266225\n",
      " 0.69239336 0.70237231 0.7121231  0.72129756 0.72966951 0.73711449\n",
      " 0.74358279 0.74907571 0.75362563 0.75728422 0.76011169 0.7621749\n",
      " 0.76354414 0.7642929  0.76449853 0.7642405 ]\n",
      "23 day output [[0.76359934]]\n",
      "24 day input [0.80858575 0.8054421  0.74177438 0.84346309 0.84506464 0.86388307\n",
      " 0.86267108 0.8508433  0.81994822 0.83008515 0.83735439 0.84595742\n",
      " 0.82730134 0.81620399 0.80319665 0.77413851 0.80947575 0.82262649\n",
      " 0.82140637 0.80830709 0.81323352 0.79075745 0.77854283 0.73424002\n",
      " 0.72645672 0.74411996 0.78490852 0.77791246 0.7580471  0.78787899\n",
      " 0.81892288 0.84129611 0.86300112 0.86430512 0.88268796 0.87467468\n",
      " 0.87598138 0.882063   0.90487995 0.90663572 0.89032786 0.8724536\n",
      " 0.87549712 0.90139542 0.87817545 0.84950416 0.84424762 0.82626246\n",
      " 0.80819884 0.80638897 0.83210875 0.81136137 0.81719683 0.84603859\n",
      " 0.82376001 0.79290819 0.7715576  0.78088564 0.74472596 0.73810327\n",
      " 0.77289132 0.66297295 0.66415522 0.6628215  0.67188442 0.6203664\n",
      " 0.61152263 0.57914773 0.57952645 0.56065935 0.56909197 0.60222979\n",
      " 0.59008544 0.61474745 0.57007668 0.57119396 0.66161156 0.65864259\n",
      " 0.6584301  0.6610859  0.66636568 0.67376894 0.68266225 0.69239336\n",
      " 0.70237231 0.7121231  0.72129756 0.72966951 0.73711449 0.74358279\n",
      " 0.74907571 0.75362563 0.75728422 0.76011169 0.7621749  0.76354414\n",
      " 0.7642929  0.76449853 0.7642405  0.76359934]\n",
      "24 day output [[0.762657]]\n",
      "25 day input [0.8054421  0.74177438 0.84346309 0.84506464 0.86388307 0.86267108\n",
      " 0.8508433  0.81994822 0.83008515 0.83735439 0.84595742 0.82730134\n",
      " 0.81620399 0.80319665 0.77413851 0.80947575 0.82262649 0.82140637\n",
      " 0.80830709 0.81323352 0.79075745 0.77854283 0.73424002 0.72645672\n",
      " 0.74411996 0.78490852 0.77791246 0.7580471  0.78787899 0.81892288\n",
      " 0.84129611 0.86300112 0.86430512 0.88268796 0.87467468 0.87598138\n",
      " 0.882063   0.90487995 0.90663572 0.89032786 0.8724536  0.87549712\n",
      " 0.90139542 0.87817545 0.84950416 0.84424762 0.82626246 0.80819884\n",
      " 0.80638897 0.83210875 0.81136137 0.81719683 0.84603859 0.82376001\n",
      " 0.79290819 0.7715576  0.78088564 0.74472596 0.73810327 0.77289132\n",
      " 0.66297295 0.66415522 0.6628215  0.67188442 0.6203664  0.61152263\n",
      " 0.57914773 0.57952645 0.56065935 0.56909197 0.60222979 0.59008544\n",
      " 0.61474745 0.57007668 0.57119396 0.66161156 0.65864259 0.6584301\n",
      " 0.6610859  0.66636568 0.67376894 0.68266225 0.69239336 0.70237231\n",
      " 0.7121231  0.72129756 0.72966951 0.73711449 0.74358279 0.74907571\n",
      " 0.75362563 0.75728422 0.76011169 0.7621749  0.76354414 0.7642929\n",
      " 0.76449853 0.7642405  0.76359934 0.76265699]\n",
      "25 day output [[0.7614936]]\n",
      "26 day input [0.74177438 0.84346309 0.84506464 0.86388307 0.86267108 0.8508433\n",
      " 0.81994822 0.83008515 0.83735439 0.84595742 0.82730134 0.81620399\n",
      " 0.80319665 0.77413851 0.80947575 0.82262649 0.82140637 0.80830709\n",
      " 0.81323352 0.79075745 0.77854283 0.73424002 0.72645672 0.74411996\n",
      " 0.78490852 0.77791246 0.7580471  0.78787899 0.81892288 0.84129611\n",
      " 0.86300112 0.86430512 0.88268796 0.87467468 0.87598138 0.882063\n",
      " 0.90487995 0.90663572 0.89032786 0.8724536  0.87549712 0.90139542\n",
      " 0.87817545 0.84950416 0.84424762 0.82626246 0.80819884 0.80638897\n",
      " 0.83210875 0.81136137 0.81719683 0.84603859 0.82376001 0.79290819\n",
      " 0.7715576  0.78088564 0.74472596 0.73810327 0.77289132 0.66297295\n",
      " 0.66415522 0.6628215  0.67188442 0.6203664  0.61152263 0.57914773\n",
      " 0.57952645 0.56065935 0.56909197 0.60222979 0.59008544 0.61474745\n",
      " 0.57007668 0.57119396 0.66161156 0.65864259 0.6584301  0.6610859\n",
      " 0.66636568 0.67376894 0.68266225 0.69239336 0.70237231 0.7121231\n",
      " 0.72129756 0.72966951 0.73711449 0.74358279 0.74907571 0.75362563\n",
      " 0.75728422 0.76011169 0.7621749  0.76354414 0.7642929  0.76449853\n",
      " 0.7642405  0.76359934 0.76265699 0.76149362]\n",
      "26 day output [[0.7601864]]\n",
      "27 day input [0.84346309 0.84506464 0.86388307 0.86267108 0.8508433  0.81994822\n",
      " 0.83008515 0.83735439 0.84595742 0.82730134 0.81620399 0.80319665\n",
      " 0.77413851 0.80947575 0.82262649 0.82140637 0.80830709 0.81323352\n",
      " 0.79075745 0.77854283 0.73424002 0.72645672 0.74411996 0.78490852\n",
      " 0.77791246 0.7580471  0.78787899 0.81892288 0.84129611 0.86300112\n",
      " 0.86430512 0.88268796 0.87467468 0.87598138 0.882063   0.90487995\n",
      " 0.90663572 0.89032786 0.8724536  0.87549712 0.90139542 0.87817545\n",
      " 0.84950416 0.84424762 0.82626246 0.80819884 0.80638897 0.83210875\n",
      " 0.81136137 0.81719683 0.84603859 0.82376001 0.79290819 0.7715576\n",
      " 0.78088564 0.74472596 0.73810327 0.77289132 0.66297295 0.66415522\n",
      " 0.6628215  0.67188442 0.6203664  0.61152263 0.57914773 0.57952645\n",
      " 0.56065935 0.56909197 0.60222979 0.59008544 0.61474745 0.57007668\n",
      " 0.57119396 0.66161156 0.65864259 0.6584301  0.6610859  0.66636568\n",
      " 0.67376894 0.68266225 0.69239336 0.70237231 0.7121231  0.72129756\n",
      " 0.72966951 0.73711449 0.74358279 0.74907571 0.75362563 0.75728422\n",
      " 0.76011169 0.7621749  0.76354414 0.7642929  0.76449853 0.7642405\n",
      " 0.76359934 0.76265699 0.76149362 0.76018637]\n",
      "27 day output [[0.7588084]]\n",
      "28 day input [0.84506464 0.86388307 0.86267108 0.8508433  0.81994822 0.83008515\n",
      " 0.83735439 0.84595742 0.82730134 0.81620399 0.80319665 0.77413851\n",
      " 0.80947575 0.82262649 0.82140637 0.80830709 0.81323352 0.79075745\n",
      " 0.77854283 0.73424002 0.72645672 0.74411996 0.78490852 0.77791246\n",
      " 0.7580471  0.78787899 0.81892288 0.84129611 0.86300112 0.86430512\n",
      " 0.88268796 0.87467468 0.87598138 0.882063   0.90487995 0.90663572\n",
      " 0.89032786 0.8724536  0.87549712 0.90139542 0.87817545 0.84950416\n",
      " 0.84424762 0.82626246 0.80819884 0.80638897 0.83210875 0.81136137\n",
      " 0.81719683 0.84603859 0.82376001 0.79290819 0.7715576  0.78088564\n",
      " 0.74472596 0.73810327 0.77289132 0.66297295 0.66415522 0.6628215\n",
      " 0.67188442 0.6203664  0.61152263 0.57914773 0.57952645 0.56065935\n",
      " 0.56909197 0.60222979 0.59008544 0.61474745 0.57007668 0.57119396\n",
      " 0.66161156 0.65864259 0.6584301  0.6610859  0.66636568 0.67376894\n",
      " 0.68266225 0.69239336 0.70237231 0.7121231  0.72129756 0.72966951\n",
      " 0.73711449 0.74358279 0.74907571 0.75362563 0.75728422 0.76011169\n",
      " 0.7621749  0.76354414 0.7642929  0.76449853 0.7642405  0.76359934\n",
      " 0.76265699 0.76149362 0.76018637 0.75880837]\n",
      "28 day output [[0.75742614]]\n",
      "29 day input [0.86388307 0.86267108 0.8508433  0.81994822 0.83008515 0.83735439\n",
      " 0.84595742 0.82730134 0.81620399 0.80319665 0.77413851 0.80947575\n",
      " 0.82262649 0.82140637 0.80830709 0.81323352 0.79075745 0.77854283\n",
      " 0.73424002 0.72645672 0.74411996 0.78490852 0.77791246 0.7580471\n",
      " 0.78787899 0.81892288 0.84129611 0.86300112 0.86430512 0.88268796\n",
      " 0.87467468 0.87598138 0.882063   0.90487995 0.90663572 0.89032786\n",
      " 0.8724536  0.87549712 0.90139542 0.87817545 0.84950416 0.84424762\n",
      " 0.82626246 0.80819884 0.80638897 0.83210875 0.81136137 0.81719683\n",
      " 0.84603859 0.82376001 0.79290819 0.7715576  0.78088564 0.74472596\n",
      " 0.73810327 0.77289132 0.66297295 0.66415522 0.6628215  0.67188442\n",
      " 0.6203664  0.61152263 0.57914773 0.57952645 0.56065935 0.56909197\n",
      " 0.60222979 0.59008544 0.61474745 0.57007668 0.57119396 0.66161156\n",
      " 0.65864259 0.6584301  0.6610859  0.66636568 0.67376894 0.68266225\n",
      " 0.69239336 0.70237231 0.7121231  0.72129756 0.72966951 0.73711449\n",
      " 0.74358279 0.74907571 0.75362563 0.75728422 0.76011169 0.7621749\n",
      " 0.76354414 0.7642929  0.76449853 0.7642405  0.76359934 0.76265699\n",
      " 0.76149362 0.76018637 0.75880837 0.75742614]\n",
      "29 day output [[0.75610024]]\n"
     ]
    }
   ],
   "source": [
    "# Prediction for next 30 days\n",
    "from numpy import array\n",
    "\n",
    "lst_output=[]\n",
    "n_steps=100\n",
    "i=0\n",
    "while i<30:\n",
    "    if len(temp_input)>100:\n",
    "        x_input=np.array(temp_input[1:])\n",
    "        print(\"{} day input {}\".format(i,x_input))\n",
    "        x_input=x_input.reshape(1,-1)\n",
    "        x_input = x_input.reshape((1, n_steps, 1))\n",
    "        yhat = model.predict(x_input, verbose=0)\n",
    "        print(\"{} day output {}\".format(i,yhat))\n",
    "        temp_input.extend(yhat[0].tolist())\n",
    "        temp_input=temp_input[1:]\n",
    "        lst_output.extend(yhat.tolist())\n",
    "        i=i+1\n",
    "    else:\n",
    "        x_input = x_input.reshape((1, n_steps,1))\n",
    "        yhat = model.predict(x_input, verbose=0)\n",
    "        temp_input.extend(yhat[0].tolist())\n",
    "        lst_output.extend(yhat.tolist())\n",
    "        i=i+1"
   ],
   "metadata": {
    "collapsed": false,
    "pycharm": {
     "name": "#%%\n"
    }
   }
  },
  {
   "cell_type": "code",
   "execution_count": 21,
   "outputs": [],
   "source": [
    "day_new=np.arange(1,101)\n",
    "day_pred=np.arange(101,131)"
   ],
   "metadata": {
    "collapsed": false,
    "pycharm": {
     "name": "#%%\n"
    }
   }
  },
  {
   "cell_type": "code",
   "execution_count": 22,
   "outputs": [
    {
     "name": "stdout",
     "output_type": "stream",
     "text": [
      "[[2480.59766853]\n",
      " [2469.62323869]\n",
      " [2468.83779286]\n",
      " [2478.654654  ]\n",
      " [2498.17072464]\n",
      " [2525.5359659 ]\n",
      " [2558.40902214]\n",
      " [2594.37891613]\n",
      " [2631.26490655]\n",
      " [2667.30750661]\n",
      " [2701.21981894]\n",
      " [2732.16572379]\n",
      " [2759.68519003]\n",
      " [2783.59446963]\n",
      " [2803.89840965]\n",
      " [2820.71664461]\n",
      " [2834.24019318]\n",
      " [2844.69157998]\n",
      " [2852.31800565]\n",
      " [2857.37922912]\n",
      " [2860.14690669]\n",
      " [2860.90701556]\n",
      " [2859.95324417]\n",
      " [2857.58324675]\n",
      " [2854.09996523]\n",
      " [2849.79973191]\n",
      " [2844.96764271]\n",
      " [2839.874032  ]\n",
      " [2834.76477846]\n",
      " [2829.86372866]]\n"
     ]
    }
   ],
   "source": [
    "print(scaler.inverse_transform(lst_output[0:]))"
   ],
   "metadata": {
    "collapsed": false,
    "pycharm": {
     "name": "#%%\n"
    }
   }
  },
  {
   "cell_type": "code",
   "execution_count": 23,
   "outputs": [
    {
     "data": {
      "text/plain": "[<matplotlib.lines.Line2D at 0x1c4b30cec40>]"
     },
     "execution_count": 23,
     "metadata": {},
     "output_type": "execute_result"
    },
    {
     "data": {
      "text/plain": "<Figure size 432x288 with 1 Axes>",
      "image/png": "[encoded data removed]"
     },
     "metadata": {
      "needs_background": "light"
     },
     "output_type": "display_data"
    }
   ],
   "source": [
    "plt.plot(day_new,scaler.inverse_transform(df1[len(df1)-100:]))\n",
    "plt.plot(day_pred,scaler.inverse_transform(lst_output))"
   ],
   "metadata": {
    "collapsed": false,
    "pycharm": {
     "name": "#%%\n"
    }
   }
  },
  {
   "cell_type": "code",
   "execution_count": 24,
   "outputs": [
    {
     "data": {
      "text/plain": "[<matplotlib.lines.Line2D at 0x1c4b306abb0>]"
     },
     "execution_count": 24,
     "metadata": {},
     "output_type": "execute_result"
    },
    {
     "data": {
      "text/plain": "<Figure size 432x288 with 1 Axes>",
      "image/png": "[encoded data removed]"
     },
     "metadata": {
      "needs_background": "light"
     },
     "output_type": "display_data"
    }
   ],
   "source": [
    "df3=df1.tolist()\n",
    "df3.extend(lst_output)\n",
    "plt.plot(df3[1200:])"
   ],
   "metadata": {
    "collapsed": false,
    "pycharm": {
     "name": "#%%\n"
    }
   }
  },
  {
   "cell_type": "code",
   "execution_count": 25,
   "outputs": [],
   "source": [
    "df3=scaler.inverse_transform(df3).tolist()"
   ],
   "metadata": {
    "collapsed": false,
    "pycharm": {
     "name": "#%%\n"
    }
   }
  },
  {
   "cell_type": "code",
   "execution_count": 26,
   "outputs": [
    {
     "data": {
      "text/plain": "[<matplotlib.lines.Line2D at 0x1c4b3186e20>]"
     },
     "execution_count": 26,
     "metadata": {},
     "output_type": "execute_result"
    },
    {
     "data": {
      "text/plain": "<Figure size 432x288 with 1 Axes>",
      "image/png": "[encoded data removed]"
     },
     "metadata": {
      "needs_background": "light"
     },
     "output_type": "display_data"
    }
   ],
   "source": [
    "plt.plot(df3)"
   ],
   "metadata": {
    "collapsed": false,
    "pycharm": {
     "name": "#%%\n"
    }
   }
  },
  {
   "cell_type": "code",
   "execution_count": 27,
   "outputs": [],
   "source": [
    "import time\n",
    "from datetime import datetime\n",
    "\n",
    "SECONDS_IN_DAY = 86400\n",
    "\n",
    "now = int( time.time() )\n",
    "\n",
    "data_set = {\"c\": [], \"t\": []}\n",
    "inversed_output = scaler.inverse_transform(lst_output)\n",
    "inversed_output.tolist()\n",
    "for i in range(len(inversed_output)):\n",
    "    now = SECONDS_IN_DAY + now\n",
    "    data_set[\"c\"].insert(i, round(float(inversed_output[i]), 2))\n",
    "    data_set[\"t\"].insert(i, int(now))"
   ],
   "metadata": {
    "collapsed": false,
    "pycharm": {
     "name": "#%%\n"
    }
   }
  },
  {
   "cell_type": "code",
   "execution_count": 28,
   "outputs": [],
   "source": [
    "import json\n",
    "with open('../src/stock_json/amzn.json', 'w', encoding='utf-8') as f:\n",
    "    json.dump(data_set, f, ensure_ascii=False, indent=4)"
   ],
   "metadata": {
    "collapsed": false,
    "pycharm": {
     "name": "#%%\n"
    }
   }
  }
 ],
 "metadata": {
  "kernelspec": {
   "display_name": "Python 3",
   "language": "python",
   "name": "python3"
  },
  "language_info": {
   "codemirror_mode": {
    "name": "ipython",
    "version": 2
   },
   "file_extension": ".py",
   "mimetype": "text/x-python",
   "name": "python",
   "nbconvert_exporter": "python",
   "pygments_lexer": "ipython2",
   "version": "2.7.6"
  }
 },
 "nbformat": 4,
 "nbformat_minor": 0
}