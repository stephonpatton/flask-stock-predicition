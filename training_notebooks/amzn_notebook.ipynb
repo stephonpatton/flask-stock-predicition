{
 "cells": [
  {
   "cell_type": "code",
   "execution_count": 1,
   "outputs": [
    {
     "name": "stderr",
     "output_type": "stream",
     "text": [
      "ERROR: Could not open requirements file: [Errno 2] No such file or directory: 'requirements.txt'\n"
     ]
    },
    {
     "name": "stdout",
     "output_type": "stream",
     "text": [
      "Requirement already satisfied: tensorflow-gpu in e:\\conda\\lib\\site-packages (2.8.0)\n",
      "Requirement already satisfied: absl-py>=0.4.0 in e:\\conda\\lib\\site-packages (from tensorflow-gpu) (1.0.0)\n",
      "Requirement already satisfied: tensorboard<2.9,>=2.8 in e:\\conda\\lib\\site-packages (from tensorflow-gpu) (2.8.0)\n",
      "Requirement already satisfied: astunparse>=1.6.0 in e:\\conda\\lib\\site-packages (from tensorflow-gpu) (1.6.3)\n",
      "Requirement already satisfied: setuptools in e:\\conda\\lib\\site-packages (from tensorflow-gpu) (61.2.0)\n",
      "Requirement already satisfied: libclang>=9.0.1 in e:\\conda\\lib\\site-packages (from tensorflow-gpu) (14.0.1)\n",
      "Requirement already satisfied: termcolor>=1.1.0 in e:\\conda\\lib\\site-packages (from tensorflow-gpu) (1.1.0)\n",
      "Requirement already satisfied: tf-estimator-nightly==2.8.0.dev2021122109 in e:\\conda\\lib\\site-packages (from tensorflow-gpu) (2.8.0.dev2021122109)\n",
      "Requirement already satisfied: grpcio<2.0,>=1.24.3 in e:\\conda\\lib\\site-packages (from tensorflow-gpu) (1.42.0)\n",
      "Requirement already satisfied: keras-preprocessing>=1.1.1 in e:\\conda\\lib\\site-packages (from tensorflow-gpu) (1.1.2)\n",
      "Requirement already satisfied: keras<2.9,>=2.8.0rc0 in e:\\conda\\lib\\site-packages (from tensorflow-gpu) (2.8.0)\n",
      "Requirement already satisfied: protobuf>=3.9.2 in e:\\conda\\lib\\site-packages (from tensorflow-gpu) (3.19.1)\n",
      "Requirement already satisfied: h5py>=2.9.0 in e:\\conda\\lib\\site-packages (from tensorflow-gpu) (3.6.0)\n",
      "Requirement already satisfied: flatbuffers>=1.12 in e:\\conda\\lib\\site-packages (from tensorflow-gpu) (2.0)\n",
      "Requirement already satisfied: six>=1.12.0 in c:\\users\\stephon patton\\appdata\\roaming\\python\\python39\\site-packages (from tensorflow-gpu) (1.15.0)\n",
      "Requirement already satisfied: opt-einsum>=2.3.2 in e:\\conda\\lib\\site-packages (from tensorflow-gpu) (3.3.0)\n",
      "Requirement already satisfied: numpy>=1.20 in e:\\conda\\lib\\site-packages (from tensorflow-gpu) (1.22.3)\n",
      "Requirement already satisfied: typing-extensions>=3.6.6 in e:\\conda\\lib\\site-packages (from tensorflow-gpu) (4.1.1)\n",
      "Requirement already satisfied: tensorflow-io-gcs-filesystem>=0.23.1 in e:\\conda\\lib\\site-packages (from tensorflow-gpu) (0.25.0)\n",
      "Requirement already satisfied: google-pasta>=0.1.1 in e:\\conda\\lib\\site-packages (from tensorflow-gpu) (0.2.0)\n",
      "Requirement already satisfied: wrapt>=1.11.0 in c:\\users\\stephon patton\\appdata\\roaming\\python\\python39\\site-packages (from tensorflow-gpu) (1.12.1)\n",
      "Requirement already satisfied: gast>=0.2.1 in e:\\conda\\lib\\site-packages (from tensorflow-gpu) (0.5.3)\n",
      "Requirement already satisfied: wheel<1.0,>=0.23.0 in e:\\conda\\lib\\site-packages (from astunparse>=1.6.0->tensorflow-gpu) (0.37.1)\n",
      "Requirement already satisfied: tensorboard-plugin-wit>=1.6.0 in e:\\conda\\lib\\site-packages (from tensorboard<2.9,>=2.8->tensorflow-gpu) (1.8.1)\n",
      "Requirement already satisfied: markdown>=2.6.8 in e:\\conda\\lib\\site-packages (from tensorboard<2.9,>=2.8->tensorflow-gpu) (3.3.4)\n",
      "Requirement already satisfied: tensorboard-data-server<0.7.0,>=0.6.0 in e:\\conda\\lib\\site-packages (from tensorboard<2.9,>=2.8->tensorflow-gpu) (0.6.1)\n",
      "Requirement already satisfied: werkzeug>=0.11.15 in e:\\conda\\lib\\site-packages (from tensorboard<2.9,>=2.8->tensorflow-gpu) (2.0.3)\n",
      "Requirement already satisfied: google-auth<3,>=1.6.3 in e:\\conda\\lib\\site-packages (from tensorboard<2.9,>=2.8->tensorflow-gpu) (1.33.0)\n",
      "Requirement already satisfied: google-auth-oauthlib<0.5,>=0.4.1 in e:\\conda\\lib\\site-packages (from tensorboard<2.9,>=2.8->tensorflow-gpu) (0.4.6)\n",
      "Requirement already satisfied: requests<3,>=2.21.0 in e:\\conda\\lib\\site-packages (from tensorboard<2.9,>=2.8->tensorflow-gpu) (2.27.1)\n",
      "Requirement already satisfied: rsa<5,>=3.1.4 in e:\\conda\\lib\\site-packages (from google-auth<3,>=1.6.3->tensorboard<2.9,>=2.8->tensorflow-gpu) (4.7.2)\n",
      "Requirement already satisfied: pyasn1-modules>=0.2.1 in e:\\conda\\lib\\site-packages (from google-auth<3,>=1.6.3->tensorboard<2.9,>=2.8->tensorflow-gpu) (0.2.8)\n",
      "Requirement already satisfied: cachetools<5.0,>=2.0.0 in e:\\conda\\lib\\site-packages (from google-auth<3,>=1.6.3->tensorboard<2.9,>=2.8->tensorflow-gpu) (4.2.2)\n",
      "Requirement already satisfied: requests-oauthlib>=0.7.0 in e:\\conda\\lib\\site-packages (from google-auth-oauthlib<0.5,>=0.4.1->tensorboard<2.9,>=2.8->tensorflow-gpu) (1.3.1)\n",
      "Requirement already satisfied: pyasn1<0.5.0,>=0.4.6 in e:\\conda\\lib\\site-packages (from pyasn1-modules>=0.2.1->google-auth<3,>=1.6.3->tensorboard<2.9,>=2.8->tensorflow-gpu) (0.4.8)\n",
      "Requirement already satisfied: certifi>=2017.4.17 in e:\\conda\\lib\\site-packages (from requests<3,>=2.21.0->tensorboard<2.9,>=2.8->tensorflow-gpu) (2021.10.8)\n",
      "Requirement already satisfied: urllib3<1.27,>=1.21.1 in e:\\conda\\lib\\site-packages (from requests<3,>=2.21.0->tensorboard<2.9,>=2.8->tensorflow-gpu) (1.26.9)\n",
      "Requirement already satisfied: idna<4,>=2.5 in e:\\conda\\lib\\site-packages (from requests<3,>=2.21.0->tensorboard<2.9,>=2.8->tensorflow-gpu) (3.3)\n",
      "Requirement already satisfied: charset-normalizer~=2.0.0 in e:\\conda\\lib\\site-packages (from requests<3,>=2.21.0->tensorboard<2.9,>=2.8->tensorflow-gpu) (2.0.4)\n",
      "Requirement already satisfied: oauthlib>=3.0.0 in e:\\conda\\lib\\site-packages (from requests-oauthlib>=0.7.0->google-auth-oauthlib<0.5,>=0.4.1->tensorboard<2.9,>=2.8->tensorflow-gpu) (3.2.0)\n"
     ]
    }
   ],
   "source": [
    "# !pipreqs --force\n",
    "!pip install -r requirements.txt\n",
    "!pip install tensorflow-gpu\n",
    "#\n",
    "# !pip install tensorflow yfinance pandas sklearn\n",
    "# import tensorflow as tf\n",
    "# !pip install yfinance\n"
   ],
   "metadata": {
    "collapsed": false,
    "pycharm": {
     "name": "#%%\n"
    }
   }
  },
  {
   "cell_type": "code",
   "execution_count": 2,
   "outputs": [],
   "source": [
    "import pandas as pd\n",
    "import tensorflow as tf\n",
    "import yfinance as yf\n"
   ],
   "metadata": {
    "collapsed": false,
    "pycharm": {
     "name": "#%%\n"
    }
   }
  },
  {
   "cell_type": "code",
   "execution_count": 3,
   "outputs": [
    {
     "name": "stdout",
     "output_type": "stream",
     "text": [
      "Hello\n",
      "Num GPUs Available:  0\n"
     ]
    }
   ],
   "source": [
    "print(\"Hello\")\n",
    "tf.__version__\n",
    "print(\"Num GPUs Available: \", len(tf.config.list_physical_devices('GPU')))\n",
    "\n",
    "# !pip freeze > requirements.txt\n",
    "\n"
   ],
   "metadata": {
    "collapsed": false,
    "pycharm": {
     "name": "#%%\n"
    }
   }
  },
  {
   "cell_type": "code",
   "execution_count": 4,
   "outputs": [
    {
     "name": "stdout",
     "output_type": "stream",
     "text": [
      "2007-05-19 09:10:22.056972\n",
      "2007-05-19\n",
      "2022-05-15\n",
      "[*********************100%***********************]  1 of 1 completed\n"
     ]
    }
   ],
   "source": [
    "# !pip freeze > requirements.txt\n",
    "from datetime import datetime, timedelta\n",
    "end_date = datetime.today().strftime('%Y-%m-%d')\n",
    "start_date_dt = datetime.now() - timedelta(days=15*365)\n",
    "print(start_date_dt)\n",
    "start_date = start_date_dt.strftime('%Y-%m-%d')\n",
    "print(start_date)\n",
    "print(end_date)\n",
    "# aapl = yf.download(\"AAPL\")\n",
    "amzn = yf.download(\"AMZN\", start = start_date, end = end_date)\n",
    "# aapl_history = aapl.history(period=\"max\")"
   ],
   "metadata": {
    "collapsed": false,
    "pycharm": {
     "name": "#%%\n"
    }
   }
  },
  {
   "cell_type": "code",
   "execution_count": 4,
   "outputs": [],
   "source": [],
   "metadata": {
    "collapsed": false,
    "pycharm": {
     "name": "#%%\n"
    }
   }
  },
  {
   "cell_type": "code",
   "execution_count": 5,
   "outputs": [
    {
     "data": {
      "text/plain": "0         68.300003\n1         68.879997\n2         69.000000\n3         69.349998\n4         68.550003\n           ...     \n3769    2175.780029\n3770    2177.179932\n3771    2107.439941\n3772    2138.610107\n3773    2261.100098\nName: Close, Length: 3774, dtype: float64"
     },
     "execution_count": 5,
     "metadata": {},
     "output_type": "execute_result"
    }
   ],
   "source": [
    "type(amzn)\n",
    "df = pd.DataFrame(amzn)\n",
    "df\n",
    "df1 = df.reset_index()['Close']\n",
    "df1"
   ],
   "metadata": {
    "collapsed": false,
    "pycharm": {
     "name": "#%%\n"
    }
   }
  },
  {
   "cell_type": "code",
   "execution_count": 6,
   "outputs": [
    {
     "data": {
      "text/plain": "[<matplotlib.lines.Line2D at 0x26b4af01fd0>]"
     },
     "execution_count": 6,
     "metadata": {},
     "output_type": "execute_result"
    },
    {
     "data": {
      "text/plain": "<Figure size 432x288 with 1 Axes>",
      "image/png": "[encoded data removed]"
     },
     "metadata": {
      "needs_background": "light"
     },
     "output_type": "display_data"
    }
   ],
   "source": [
    "import matplotlib.pyplot as plt\n",
    "plt.plot(df1)"
   ],
   "metadata": {
    "collapsed": false,
    "pycharm": {
     "name": "#%%\n"
    }
   }
  },
  {
   "cell_type": "code",
   "execution_count": 7,
   "outputs": [],
   "source": [
    "import numpy as np\n",
    "from sklearn.preprocessing import MinMaxScaler\n",
    "scaler=MinMaxScaler(feature_range=(0,1))\n",
    "df1 = scaler.fit_transform(np.array(df1).reshape(-1, 1))"
   ],
   "metadata": {
    "collapsed": false,
    "pycharm": {
     "name": "#%%\n"
    }
   }
  },
  {
   "cell_type": "code",
   "execution_count": 8,
   "outputs": [],
   "source": [
    "# Split data\n",
    "train_size = int(len(df1)*.95) # 65%\n",
    "test_size = len(df1) - train_size\n",
    "train, test = df1[0:train_size,:], df1[train_size:len(df1), :1]"
   ],
   "metadata": {
    "collapsed": false,
    "pycharm": {
     "name": "#%%\n"
    }
   }
  },
  {
   "cell_type": "code",
   "execution_count": 9,
   "outputs": [
    {
     "name": "stdout",
     "output_type": "stream",
     "text": [
      "3585\n",
      "189\n"
     ]
    }
   ],
   "source": [
    "print(train_size)\n",
    "print(test_size)"
   ],
   "metadata": {
    "collapsed": false,
    "pycharm": {
     "name": "#%%\n"
    }
   }
  },
  {
   "cell_type": "code",
   "execution_count": 10,
   "outputs": [],
   "source": [
    "def create_dataset(data, time_step=1):\n",
    "    dataX, dataY = [], []\n",
    "    for i in range(len(data)-time_step-1):\n",
    "        a = data[i:(i+time_step), 0]\n",
    "        dataX.append(a)\n",
    "        dataY.append(data[i + time_step, 0])\n",
    "    return np.array(dataX), np.array(dataY)"
   ],
   "metadata": {
    "collapsed": false,
    "pycharm": {
     "name": "#%%\n"
    }
   }
  },
  {
   "cell_type": "code",
   "execution_count": 11,
   "outputs": [],
   "source": [
    "time_step = 100\n",
    "X_train, y_train = create_dataset(train, time_step)\n",
    "X_test, y_test = create_dataset(test, time_step)"
   ],
   "metadata": {
    "collapsed": false,
    "pycharm": {
     "name": "#%%\n"
    }
   }
  },
  {
   "cell_type": "code",
   "execution_count": 12,
   "outputs": [
    {
     "name": "stdout",
     "output_type": "stream",
     "text": [
      "(3484, 100)\n",
      "(3484,)\n"
     ]
    },
    {
     "data": {
      "text/plain": "(None, None)"
     },
     "execution_count": 12,
     "metadata": {},
     "output_type": "execute_result"
    }
   ],
   "source": [
    "print(X_train.shape), print(y_train.shape)"
   ],
   "metadata": {
    "collapsed": false,
    "pycharm": {
     "name": "#%%\n"
    }
   }
  },
  {
   "cell_type": "code",
   "execution_count": 13,
   "outputs": [
    {
     "name": "stdout",
     "output_type": "stream",
     "text": [
      "(88, 100)\n",
      "(88,)\n"
     ]
    },
    {
     "data": {
      "text/plain": "(None, None)"
     },
     "execution_count": 13,
     "metadata": {},
     "output_type": "execute_result"
    }
   ],
   "source": [
    "print(X_test.shape), print(y_test.shape)"
   ],
   "metadata": {
    "collapsed": false,
    "pycharm": {
     "name": "#%%\n"
    }
   }
  },
  {
   "cell_type": "code",
   "execution_count": 14,
   "outputs": [
    {
     "name": "stdout",
     "output_type": "stream",
     "text": [
      "(3484, 100, 1)\n",
      "(88, 100, 1)\n"
     ]
    }
   ],
   "source": [
    "# Reshape to be inputted into LSTM\n",
    "X_train = X_train.reshape(X_train.shape[0], X_train.shape[1], 1)\n",
    "X_test = X_test.reshape(X_test.shape[0], X_test.shape[1], 1)\n",
    "print(X_train.shape)\n",
    "print(X_test.shape)"
   ],
   "metadata": {
    "collapsed": false,
    "pycharm": {
     "name": "#%%\n"
    }
   }
  },
  {
   "cell_type": "code",
   "execution_count": 15,
   "outputs": [],
   "source": [
    "# Create Stacked LSTM\n",
    "from tensorflow.keras.models import Sequential\n",
    "from tensorflow.keras.layers import Dense\n",
    "from tensorflow.keras.layers import LSTM\n",
    "from tensorflow.keras.layers import Dropout\n",
    "model = Sequential()\n",
    "model.add(LSTM(50, return_sequences=True, input_shape=(100, 1)))\n",
    "model.add(Dropout(.5))\n",
    "model.add(LSTM(50, return_sequences=True))\n",
    "model.add(LSTM(50, return_sequences=True))\n",
    "model.add(LSTM(50))\n",
    "model.add(Dense(1))\n",
    "model.compile(loss='mean_squared_error', optimizer='adam')"
   ],
   "metadata": {
    "collapsed": false,
    "pycharm": {
     "name": "#%%\n"
    }
   }
  },
  {
   "cell_type": "code",
   "execution_count": 16,
   "outputs": [
    {
     "name": "stdout",
     "output_type": "stream",
     "text": [
      "Model: \"sequential\"\n",
      "_________________________________________________________________\n",
      " Layer (type)                Output Shape              Param #   \n",
      "=================================================================\n",
      " lstm (LSTM)                 (None, 100, 50)           10400     \n",
      "                                                                 \n",
      " dropout (Dropout)           (None, 100, 50)           0         \n",
      "                                                                 \n",
      " lstm_1 (LSTM)               (None, 100, 50)           20200     \n",
      "                                                                 \n",
      " lstm_2 (LSTM)               (None, 100, 50)           20200     \n",
      "                                                                 \n",
      " lstm_3 (LSTM)               (None, 50)                20200     \n",
      "                                                                 \n",
      " dense (Dense)               (None, 1)                 51        \n",
      "                                                                 \n",
      "=================================================================\n",
      "Total params: 71,051\n",
      "Trainable params: 71,051\n",
      "Non-trainable params: 0\n",
      "_________________________________________________________________\n"
     ]
    }
   ],
   "source": [
    "model.summary()"
   ],
   "metadata": {
    "collapsed": false,
    "pycharm": {
     "name": "#%%\n"
    }
   }
  },
  {
   "cell_type": "code",
   "execution_count": 17,
   "outputs": [
    {
     "name": "stdout",
     "output_type": "stream",
     "text": [
      "Epoch 1/100\n",
      "14/14 [==============================] - 12s 459ms/step - loss: 0.0294 - val_loss: 0.0199\n",
      "Epoch 2/100\n",
      "14/14 [==============================] - 5s 374ms/step - loss: 0.0029 - val_loss: 0.0070\n",
      "Epoch 3/100\n",
      "14/14 [==============================] - 5s 377ms/step - loss: 0.0012 - val_loss: 0.0064\n",
      "Epoch 4/100\n",
      "14/14 [==============================] - 5s 380ms/step - loss: 7.8135e-04 - val_loss: 0.0077\n",
      "Epoch 5/100\n",
      "14/14 [==============================] - 5s 376ms/step - loss: 6.5505e-04 - val_loss: 0.0093\n",
      "Epoch 6/100\n",
      "14/14 [==============================] - 5s 386ms/step - loss: 5.9729e-04 - val_loss: 0.0110\n",
      "Epoch 7/100\n",
      "14/14 [==============================] - 6s 409ms/step - loss: 5.8812e-04 - val_loss: 0.0110\n",
      "Epoch 8/100\n",
      "14/14 [==============================] - 6s 413ms/step - loss: 5.6889e-04 - val_loss: 0.0109\n",
      "Epoch 9/100\n",
      "14/14 [==============================] - 6s 398ms/step - loss: 5.8906e-04 - val_loss: 0.0099\n",
      "Epoch 10/100\n",
      "14/14 [==============================] - 6s 396ms/step - loss: 5.3297e-04 - val_loss: 0.0095\n",
      "Epoch 11/100\n",
      "14/14 [==============================] - 6s 400ms/step - loss: 5.8485e-04 - val_loss: 0.0097\n",
      "Epoch 12/100\n",
      "14/14 [==============================] - 6s 398ms/step - loss: 5.6534e-04 - val_loss: 0.0098\n",
      "Epoch 13/100\n",
      "14/14 [==============================] - 6s 394ms/step - loss: 5.1724e-04 - val_loss: 0.0095\n",
      "Epoch 14/100\n",
      "14/14 [==============================] - 5s 390ms/step - loss: 5.3245e-04 - val_loss: 0.0099\n",
      "Epoch 15/100\n",
      "14/14 [==============================] - 5s 389ms/step - loss: 5.3644e-04 - val_loss: 0.0092\n",
      "Epoch 16/100\n",
      "14/14 [==============================] - 5s 392ms/step - loss: 5.3525e-04 - val_loss: 0.0082\n",
      "Epoch 17/100\n",
      "14/14 [==============================] - 6s 401ms/step - loss: 5.3855e-04 - val_loss: 0.0109\n",
      "Epoch 18/100\n",
      "14/14 [==============================] - 6s 430ms/step - loss: 5.3771e-04 - val_loss: 0.0082\n",
      "Epoch 19/100\n",
      "14/14 [==============================] - 6s 430ms/step - loss: 5.4297e-04 - val_loss: 0.0093\n",
      "Epoch 20/100\n",
      "14/14 [==============================] - 6s 422ms/step - loss: 4.9892e-04 - val_loss: 0.0109\n",
      "Epoch 21/100\n",
      "14/14 [==============================] - 6s 423ms/step - loss: 4.8865e-04 - val_loss: 0.0115\n",
      "Epoch 22/100\n",
      "14/14 [==============================] - 6s 401ms/step - loss: 5.8033e-04 - val_loss: 0.0099\n",
      "Epoch 23/100\n",
      "14/14 [==============================] - 6s 396ms/step - loss: 4.8955e-04 - val_loss: 0.0086\n",
      "Epoch 24/100\n",
      "14/14 [==============================] - 6s 393ms/step - loss: 5.0189e-04 - val_loss: 0.0092\n",
      "Epoch 25/100\n",
      "14/14 [==============================] - 6s 397ms/step - loss: 5.6195e-04 - val_loss: 0.0068\n",
      "Epoch 26/100\n",
      "14/14 [==============================] - 5s 392ms/step - loss: 5.3493e-04 - val_loss: 0.0069\n",
      "Epoch 27/100\n",
      "14/14 [==============================] - 5s 391ms/step - loss: 5.7576e-04 - val_loss: 0.0082\n",
      "Epoch 28/100\n",
      "14/14 [==============================] - 6s 399ms/step - loss: 5.3694e-04 - val_loss: 0.0079\n",
      "Epoch 29/100\n",
      "14/14 [==============================] - 5s 390ms/step - loss: 5.2635e-04 - val_loss: 0.0064\n",
      "Epoch 30/100\n",
      "14/14 [==============================] - 5s 396ms/step - loss: 5.6409e-04 - val_loss: 0.0077\n",
      "Epoch 31/100\n",
      "14/14 [==============================] - 6s 395ms/step - loss: 5.1577e-04 - val_loss: 0.0075\n",
      "Epoch 32/100\n",
      "14/14 [==============================] - 6s 393ms/step - loss: 5.2187e-04 - val_loss: 0.0124\n",
      "Epoch 33/100\n",
      "14/14 [==============================] - 6s 401ms/step - loss: 5.2354e-04 - val_loss: 0.0109\n",
      "Epoch 34/100\n",
      "14/14 [==============================] - 5s 387ms/step - loss: 5.0906e-04 - val_loss: 0.0096\n",
      "Epoch 35/100\n",
      "14/14 [==============================] - 6s 397ms/step - loss: 4.9543e-04 - val_loss: 0.0107\n",
      "Epoch 36/100\n",
      "14/14 [==============================] - 5s 389ms/step - loss: 4.6093e-04 - val_loss: 0.0074\n",
      "Epoch 37/100\n",
      "14/14 [==============================] - 5s 391ms/step - loss: 4.5328e-04 - val_loss: 0.0073\n",
      "Epoch 38/100\n",
      "14/14 [==============================] - 6s 396ms/step - loss: 4.8370e-04 - val_loss: 0.0087\n",
      "Epoch 39/100\n",
      "14/14 [==============================] - 6s 397ms/step - loss: 4.6378e-04 - val_loss: 0.0113\n",
      "Epoch 40/100\n",
      "14/14 [==============================] - 5s 385ms/step - loss: 4.6868e-04 - val_loss: 0.0088\n",
      "Epoch 41/100\n",
      "14/14 [==============================] - 5s 384ms/step - loss: 4.2890e-04 - val_loss: 0.0087\n",
      "Epoch 42/100\n",
      "14/14 [==============================] - 5s 389ms/step - loss: 4.3040e-04 - val_loss: 0.0089\n",
      "Epoch 43/100\n",
      "14/14 [==============================] - 5s 392ms/step - loss: 4.3830e-04 - val_loss: 0.0101\n",
      "Epoch 44/100\n",
      "14/14 [==============================] - 6s 402ms/step - loss: 4.5594e-04 - val_loss: 0.0100\n",
      "Epoch 45/100\n",
      "14/14 [==============================] - 6s 396ms/step - loss: 4.5169e-04 - val_loss: 0.0076\n",
      "Epoch 46/100\n",
      "14/14 [==============================] - 5s 391ms/step - loss: 4.0917e-04 - val_loss: 0.0067\n",
      "Epoch 47/100\n",
      "14/14 [==============================] - 5s 392ms/step - loss: 4.2126e-04 - val_loss: 0.0076\n",
      "Epoch 48/100\n",
      "14/14 [==============================] - 5s 387ms/step - loss: 4.4072e-04 - val_loss: 0.0073\n",
      "Epoch 49/100\n",
      "14/14 [==============================] - 5s 391ms/step - loss: 4.6883e-04 - val_loss: 0.0096\n",
      "Epoch 50/100\n",
      "14/14 [==============================] - 6s 394ms/step - loss: 4.7185e-04 - val_loss: 0.0087\n",
      "Epoch 51/100\n",
      "14/14 [==============================] - 5s 388ms/step - loss: 4.1548e-04 - val_loss: 0.0067\n",
      "Epoch 52/100\n",
      "14/14 [==============================] - 5s 389ms/step - loss: 4.0489e-04 - val_loss: 0.0069\n",
      "Epoch 53/100\n",
      "14/14 [==============================] - 5s 388ms/step - loss: 3.8747e-04 - val_loss: 0.0062\n",
      "Epoch 54/100\n",
      "14/14 [==============================] - 6s 398ms/step - loss: 4.4551e-04 - val_loss: 0.0076\n",
      "Epoch 55/100\n",
      "14/14 [==============================] - 6s 407ms/step - loss: 4.2467e-04 - val_loss: 0.0100\n",
      "Epoch 56/100\n",
      "14/14 [==============================] - 6s 402ms/step - loss: 4.0884e-04 - val_loss: 0.0079\n",
      "Epoch 57/100\n",
      "14/14 [==============================] - 6s 405ms/step - loss: 3.9822e-04 - val_loss: 0.0080\n",
      "Epoch 58/100\n",
      "14/14 [==============================] - 5s 393ms/step - loss: 3.6180e-04 - val_loss: 0.0081\n",
      "Epoch 59/100\n",
      "14/14 [==============================] - 6s 399ms/step - loss: 3.8315e-04 - val_loss: 0.0058\n",
      "Epoch 60/100\n",
      "14/14 [==============================] - 6s 402ms/step - loss: 4.0388e-04 - val_loss: 0.0055\n",
      "Epoch 61/100\n",
      "14/14 [==============================] - 6s 397ms/step - loss: 4.3186e-04 - val_loss: 0.0055\n",
      "Epoch 62/100\n",
      "14/14 [==============================] - 6s 396ms/step - loss: 3.8763e-04 - val_loss: 0.0059\n",
      "Epoch 63/100\n",
      "14/14 [==============================] - 6s 399ms/step - loss: 3.5499e-04 - val_loss: 0.0069\n",
      "Epoch 64/100\n",
      "14/14 [==============================] - 5s 393ms/step - loss: 3.5490e-04 - val_loss: 0.0062\n",
      "Epoch 65/100\n",
      "14/14 [==============================] - 5s 393ms/step - loss: 4.1286e-04 - val_loss: 0.0075\n",
      "Epoch 66/100\n",
      "14/14 [==============================] - 6s 399ms/step - loss: 3.6464e-04 - val_loss: 0.0072\n",
      "Epoch 67/100\n",
      "14/14 [==============================] - 6s 393ms/step - loss: 3.6810e-04 - val_loss: 0.0052\n",
      "Epoch 68/100\n",
      "14/14 [==============================] - 5s 390ms/step - loss: 4.2626e-04 - val_loss: 0.0057\n",
      "Epoch 69/100\n",
      "14/14 [==============================] - 6s 397ms/step - loss: 3.9903e-04 - val_loss: 0.0068\n",
      "Epoch 70/100\n",
      "14/14 [==============================] - 5s 393ms/step - loss: 3.8207e-04 - val_loss: 0.0088\n",
      "Epoch 71/100\n",
      "14/14 [==============================] - 6s 398ms/step - loss: 3.6981e-04 - val_loss: 0.0061\n",
      "Epoch 72/100\n",
      "14/14 [==============================] - 6s 397ms/step - loss: 3.4916e-04 - val_loss: 0.0085\n",
      "Epoch 73/100\n",
      "14/14 [==============================] - 6s 394ms/step - loss: 3.3521e-04 - val_loss: 0.0057\n",
      "Epoch 74/100\n",
      "14/14 [==============================] - 6s 403ms/step - loss: 3.2493e-04 - val_loss: 0.0068\n",
      "Epoch 75/100\n",
      "14/14 [==============================] - 6s 400ms/step - loss: 3.3176e-04 - val_loss: 0.0075\n",
      "Epoch 76/100\n",
      "14/14 [==============================] - 6s 399ms/step - loss: 4.2006e-04 - val_loss: 0.0055\n",
      "Epoch 77/100\n",
      "14/14 [==============================] - 6s 402ms/step - loss: 3.9979e-04 - val_loss: 0.0045\n",
      "Epoch 78/100\n",
      "14/14 [==============================] - 6s 398ms/step - loss: 3.5375e-04 - val_loss: 0.0063\n",
      "Epoch 79/100\n",
      "14/14 [==============================] - 6s 399ms/step - loss: 3.3782e-04 - val_loss: 0.0057\n",
      "Epoch 80/100\n",
      "14/14 [==============================] - 6s 394ms/step - loss: 3.3612e-04 - val_loss: 0.0058\n",
      "Epoch 81/100\n",
      "14/14 [==============================] - 6s 397ms/step - loss: 3.2352e-04 - val_loss: 0.0048\n",
      "Epoch 82/100\n",
      "14/14 [==============================] - 6s 405ms/step - loss: 3.3539e-04 - val_loss: 0.0044\n",
      "Epoch 83/100\n",
      "14/14 [==============================] - 6s 392ms/step - loss: 3.5319e-04 - val_loss: 0.0086\n",
      "Epoch 84/100\n",
      "14/14 [==============================] - 6s 396ms/step - loss: 3.5014e-04 - val_loss: 0.0079\n",
      "Epoch 85/100\n",
      "14/14 [==============================] - 6s 397ms/step - loss: 3.7757e-04 - val_loss: 0.0078\n",
      "Epoch 86/100\n",
      "14/14 [==============================] - 6s 397ms/step - loss: 3.3555e-04 - val_loss: 0.0045\n",
      "Epoch 87/100\n",
      "14/14 [==============================] - 6s 423ms/step - loss: 3.6384e-04 - val_loss: 0.0060\n",
      "Epoch 88/100\n",
      "14/14 [==============================] - 6s 419ms/step - loss: 3.2121e-04 - val_loss: 0.0067\n",
      "Epoch 89/100\n",
      "14/14 [==============================] - 6s 398ms/step - loss: 2.9981e-04 - val_loss: 0.0063\n",
      "Epoch 90/100\n",
      "14/14 [==============================] - 6s 395ms/step - loss: 3.2687e-04 - val_loss: 0.0049\n",
      "Epoch 91/100\n",
      "14/14 [==============================] - 6s 393ms/step - loss: 3.1324e-04 - val_loss: 0.0077\n",
      "Epoch 92/100\n",
      "14/14 [==============================] - 6s 409ms/step - loss: 3.0941e-04 - val_loss: 0.0075\n",
      "Epoch 93/100\n",
      "14/14 [==============================] - 6s 413ms/step - loss: 3.0303e-04 - val_loss: 0.0049\n",
      "Epoch 94/100\n",
      "14/14 [==============================] - 6s 394ms/step - loss: 3.1135e-04 - val_loss: 0.0059\n",
      "Epoch 95/100\n",
      "14/14 [==============================] - 6s 394ms/step - loss: 2.6662e-04 - val_loss: 0.0054\n",
      "Epoch 96/100\n",
      "14/14 [==============================] - 6s 393ms/step - loss: 2.8154e-04 - val_loss: 0.0046\n",
      "Epoch 97/100\n",
      "14/14 [==============================] - 5s 389ms/step - loss: 3.0187e-04 - val_loss: 0.0063\n",
      "Epoch 98/100\n",
      "14/14 [==============================] - 6s 401ms/step - loss: 2.8444e-04 - val_loss: 0.0065\n",
      "Epoch 99/100\n",
      "14/14 [==============================] - 5s 393ms/step - loss: 2.6603e-04 - val_loss: 0.0064\n",
      "Epoch 100/100\n",
      "14/14 [==============================] - 5s 395ms/step - loss: 2.7107e-04 - val_loss: 0.0071\n"
     ]
    },
    {
     "data": {
      "text/plain": "<keras.callbacks.History at 0x26b50914040>"
     },
     "execution_count": 17,
     "metadata": {},
     "output_type": "execute_result"
    }
   ],
   "source": [
    "model.fit(X_train, y_train, validation_data=(X_test, y_test), epochs=100, batch_size=250, verbose=1)"
   ],
   "metadata": {
    "collapsed": false,
    "pycharm": {
     "name": "#%%\n"
    }
   }
  },
  {
   "cell_type": "code",
   "execution_count": 18,
   "outputs": [],
   "source": [
    "# import tensorflow as tf\n"
   ],
   "metadata": {
    "collapsed": false,
    "pycharm": {
     "name": "#%%\n"
    }
   }
  },
  {
   "cell_type": "code",
   "execution_count": 19,
   "outputs": [
    {
     "data": {
      "text/plain": "'2.8.0'"
     },
     "execution_count": 19,
     "metadata": {},
     "output_type": "execute_result"
    }
   ],
   "source": [
    "# import tensorflow as tf\n",
    "tf.__version__"
   ],
   "metadata": {
    "collapsed": false,
    "pycharm": {
     "name": "#%%\n"
    }
   }
  },
  {
   "cell_type": "code",
   "execution_count": 20,
   "outputs": [
    {
     "name": "stdout",
     "output_type": "stream",
     "text": [
      "KerasTensor(type_spec=TensorSpec(shape=(None, 100, 1), dtype=tf.float32, name='lstm_input'), name='lstm_input', description=\"created by layer 'lstm_input'\")\n"
     ]
    }
   ],
   "source": [
    "prediction = model.predict(X_train)\n",
    "test_prediction = model.predict(X_test)\n",
    "print(model.input)"
   ],
   "metadata": {
    "collapsed": false,
    "pycharm": {
     "name": "#%%\n"
    }
   }
  },
  {
   "cell_type": "code",
   "execution_count": 21,
   "outputs": [],
   "source": [
    "prediction = scaler.inverse_transform(prediction)\n",
    "test_prediction = scaler.inverse_transform(test_prediction)"
   ],
   "metadata": {
    "collapsed": false,
    "pycharm": {
     "name": "#%%\n"
    }
   }
  },
  {
   "cell_type": "code",
   "execution_count": 22,
   "outputs": [
    {
     "data": {
      "text/plain": "1272.0027268788701"
     },
     "execution_count": 22,
     "metadata": {},
     "output_type": "execute_result"
    }
   ],
   "source": [
    "import math\n",
    "from sklearn.metrics import mean_squared_error\n",
    "math.sqrt(mean_squared_error(y_train, prediction))"
   ],
   "metadata": {
    "collapsed": false,
    "pycharm": {
     "name": "#%%\n"
    }
   }
  },
  {
   "cell_type": "code",
   "execution_count": 23,
   "outputs": [
    {
     "data": {
      "text/plain": "3206.83259897146"
     },
     "execution_count": 23,
     "metadata": {},
     "output_type": "execute_result"
    }
   ],
   "source": [
    "math.sqrt(mean_squared_error(y_test, test_prediction))"
   ],
   "metadata": {
    "collapsed": false,
    "pycharm": {
     "name": "#%%\n"
    }
   }
  },
  {
   "cell_type": "code",
   "execution_count": 24,
   "outputs": [
    {
     "data": {
      "text/plain": "<Figure size 432x288 with 1 Axes>",
      "image/png": "[encoded data removed]"
     },
     "metadata": {
      "needs_background": "light"
     },
     "output_type": "display_data"
    }
   ],
   "source": [
    "### Plotting\n",
    "# shift train predictions for plotting\n",
    "look_back=100\n",
    "trainPredictPlot = np.empty_like(df1)\n",
    "trainPredictPlot[:, :] = np.nan\n",
    "trainPredictPlot[look_back:len(prediction)+look_back, :] = prediction\n",
    "# shift test predictions for plotting\n",
    "testPredictPlot = np.empty_like(df1)\n",
    "testPredictPlot[:, :] = np.nan\n",
    "testPredictPlot[len(prediction)+(look_back*2)+1:len(df1)-1, :] = test_prediction\n",
    "# plot baseline and predictions\n",
    "plt.plot(scaler.inverse_transform(df1))\n",
    "plt.plot(trainPredictPlot)\n",
    "plt.plot(testPredictPlot)\n",
    "plt.show()"
   ],
   "metadata": {
    "collapsed": false,
    "pycharm": {
     "name": "#%%\n"
    }
   }
  },
  {
   "cell_type": "code",
   "execution_count": 25,
   "outputs": [
    {
     "data": {
      "text/plain": "189"
     },
     "execution_count": 25,
     "metadata": {},
     "output_type": "execute_result"
    }
   ],
   "source": [
    "len(test)"
   ],
   "metadata": {
    "collapsed": false,
    "pycharm": {
     "name": "#%%\n"
    }
   }
  },
  {
   "cell_type": "code",
   "execution_count": 26,
   "outputs": [
    {
     "data": {
      "text/plain": "(1, 100)"
     },
     "execution_count": 26,
     "metadata": {},
     "output_type": "execute_result"
    }
   ],
   "source": [
    "x_input = test[len(test)-100:].reshape(1, -1)\n",
    "x_input.shape"
   ],
   "metadata": {
    "collapsed": false,
    "pycharm": {
     "name": "#%%\n"
    }
   }
  },
  {
   "cell_type": "code",
   "execution_count": 27,
   "outputs": [],
   "source": [
    "temp_input = list(x_input)\n",
    "temp_input = temp_input[0].tolist()"
   ],
   "metadata": {
    "collapsed": false,
    "pycharm": {
     "name": "#%%\n"
    }
   }
  },
  {
   "cell_type": "code",
   "execution_count": 28,
   "outputs": [],
   "source": [
    "# temp_input"
   ],
   "metadata": {
    "collapsed": false,
    "pycharm": {
     "name": "#%%\n"
    }
   }
  },
  {
   "cell_type": "code",
   "execution_count": 29,
   "outputs": [
    {
     "name": "stdout",
     "output_type": "stream",
     "text": [
      "1 day input [0.91595292 0.9161234  0.90855377 0.9139185  0.90601889 0.9030078\n",
      " 0.89257873 0.91253068 0.8969343  0.87980943 0.87384148 0.87005399\n",
      " 0.86427533 0.88524721 0.88440852 0.86280364 0.86780312 0.85037798\n",
      " 0.83621004 0.81115041 0.76232156 0.77260724 0.7479453  0.74192048\n",
      " 0.74605968 0.76954483 0.79982038 0.80858575 0.8054421  0.74177438\n",
      " 0.84346309 0.84506464 0.86388307 0.86267108 0.8508433  0.81994822\n",
      " 0.83008515 0.83735439 0.84595742 0.82730134 0.81620399 0.80319665\n",
      " 0.77413851 0.80947575 0.82262649 0.82140637 0.80830709 0.81323352\n",
      " 0.79075745 0.77854283 0.73424002 0.72645672 0.74411996 0.78490852\n",
      " 0.77791246 0.7580471  0.78787899 0.81892288 0.84129611 0.86300112\n",
      " 0.86430512 0.88268796 0.87467468 0.87598138 0.882063   0.90487995\n",
      " 0.90663572 0.89032786 0.8724536  0.87549712 0.90139542 0.87817545\n",
      " 0.84950416 0.84424762 0.82626246 0.80819884 0.80638897 0.83210875\n",
      " 0.81136137 0.81719683 0.84603859 0.82376001 0.79290819 0.7715576\n",
      " 0.78088564 0.74472596 0.73810327 0.77289132 0.66297295 0.66415522\n",
      " 0.6628215  0.67188442 0.6203664  0.61152263 0.57914773 0.57952645\n",
      " 0.56065935 0.56909197 0.60222979 0.71890324]\n",
      "1 day output [[0.7089715]]\n",
      "2 day input [0.9161234  0.90855377 0.9139185  0.90601889 0.9030078  0.89257873\n",
      " 0.91253068 0.8969343  0.87980943 0.87384148 0.87005399 0.86427533\n",
      " 0.88524721 0.88440852 0.86280364 0.86780312 0.85037798 0.83621004\n",
      " 0.81115041 0.76232156 0.77260724 0.7479453  0.74192048 0.74605968\n",
      " 0.76954483 0.79982038 0.80858575 0.8054421  0.74177438 0.84346309\n",
      " 0.84506464 0.86388307 0.86267108 0.8508433  0.81994822 0.83008515\n",
      " 0.83735439 0.84595742 0.82730134 0.81620399 0.80319665 0.77413851\n",
      " 0.80947575 0.82262649 0.82140637 0.80830709 0.81323352 0.79075745\n",
      " 0.77854283 0.73424002 0.72645672 0.74411996 0.78490852 0.77791246\n",
      " 0.7580471  0.78787899 0.81892288 0.84129611 0.86300112 0.86430512\n",
      " 0.88268796 0.87467468 0.87598138 0.882063   0.90487995 0.90663572\n",
      " 0.89032786 0.8724536  0.87549712 0.90139542 0.87817545 0.84950416\n",
      " 0.84424762 0.82626246 0.80819884 0.80638897 0.83210875 0.81136137\n",
      " 0.81719683 0.84603859 0.82376001 0.79290819 0.7715576  0.78088564\n",
      " 0.74472596 0.73810327 0.77289132 0.66297295 0.66415522 0.6628215\n",
      " 0.67188442 0.6203664  0.61152263 0.57914773 0.57952645 0.56065935\n",
      " 0.56909197 0.60222979 0.71890324 0.7089715 ]\n",
      "2 day output [[0.70292765]]\n",
      "3 day input [0.90855377 0.9139185  0.90601889 0.9030078  0.89257873 0.91253068\n",
      " 0.8969343  0.87980943 0.87384148 0.87005399 0.86427533 0.88524721\n",
      " 0.88440852 0.86280364 0.86780312 0.85037798 0.83621004 0.81115041\n",
      " 0.76232156 0.77260724 0.7479453  0.74192048 0.74605968 0.76954483\n",
      " 0.79982038 0.80858575 0.8054421  0.74177438 0.84346309 0.84506464\n",
      " 0.86388307 0.86267108 0.8508433  0.81994822 0.83008515 0.83735439\n",
      " 0.84595742 0.82730134 0.81620399 0.80319665 0.77413851 0.80947575\n",
      " 0.82262649 0.82140637 0.80830709 0.81323352 0.79075745 0.77854283\n",
      " 0.73424002 0.72645672 0.74411996 0.78490852 0.77791246 0.7580471\n",
      " 0.78787899 0.81892288 0.84129611 0.86300112 0.86430512 0.88268796\n",
      " 0.87467468 0.87598138 0.882063   0.90487995 0.90663572 0.89032786\n",
      " 0.8724536  0.87549712 0.90139542 0.87817545 0.84950416 0.84424762\n",
      " 0.82626246 0.80819884 0.80638897 0.83210875 0.81136137 0.81719683\n",
      " 0.84603859 0.82376001 0.79290819 0.7715576  0.78088564 0.74472596\n",
      " 0.73810327 0.77289132 0.66297295 0.66415522 0.6628215  0.67188442\n",
      " 0.6203664  0.61152263 0.57914773 0.57952645 0.56065935 0.56909197\n",
      " 0.60222979 0.71890324 0.7089715  0.70292765]\n",
      "3 day output [[0.7012882]]\n",
      "4 day input [0.9139185  0.90601889 0.9030078  0.89257873 0.91253068 0.8969343\n",
      " 0.87980943 0.87384148 0.87005399 0.86427533 0.88524721 0.88440852\n",
      " 0.86280364 0.86780312 0.85037798 0.83621004 0.81115041 0.76232156\n",
      " 0.77260724 0.7479453  0.74192048 0.74605968 0.76954483 0.79982038\n",
      " 0.80858575 0.8054421  0.74177438 0.84346309 0.84506464 0.86388307\n",
      " 0.86267108 0.8508433  0.81994822 0.83008515 0.83735439 0.84595742\n",
      " 0.82730134 0.81620399 0.80319665 0.77413851 0.80947575 0.82262649\n",
      " 0.82140637 0.80830709 0.81323352 0.79075745 0.77854283 0.73424002\n",
      " 0.72645672 0.74411996 0.78490852 0.77791246 0.7580471  0.78787899\n",
      " 0.81892288 0.84129611 0.86300112 0.86430512 0.88268796 0.87467468\n",
      " 0.87598138 0.882063   0.90487995 0.90663572 0.89032786 0.8724536\n",
      " 0.87549712 0.90139542 0.87817545 0.84950416 0.84424762 0.82626246\n",
      " 0.80819884 0.80638897 0.83210875 0.81136137 0.81719683 0.84603859\n",
      " 0.82376001 0.79290819 0.7715576  0.78088564 0.74472596 0.73810327\n",
      " 0.77289132 0.66297295 0.66415522 0.6628215  0.67188442 0.6203664\n",
      " 0.61152263 0.57914773 0.57952645 0.56065935 0.56909197 0.60222979\n",
      " 0.71890324 0.7089715  0.70292765 0.70128822]\n",
      "4 day output [[0.70391625]]\n",
      "5 day input [0.90601889 0.9030078  0.89257873 0.91253068 0.8969343  0.87980943\n",
      " 0.87384148 0.87005399 0.86427533 0.88524721 0.88440852 0.86280364\n",
      " 0.86780312 0.85037798 0.83621004 0.81115041 0.76232156 0.77260724\n",
      " 0.7479453  0.74192048 0.74605968 0.76954483 0.79982038 0.80858575\n",
      " 0.8054421  0.74177438 0.84346309 0.84506464 0.86388307 0.86267108\n",
      " 0.8508433  0.81994822 0.83008515 0.83735439 0.84595742 0.82730134\n",
      " 0.81620399 0.80319665 0.77413851 0.80947575 0.82262649 0.82140637\n",
      " 0.80830709 0.81323352 0.79075745 0.77854283 0.73424002 0.72645672\n",
      " 0.74411996 0.78490852 0.77791246 0.7580471  0.78787899 0.81892288\n",
      " 0.84129611 0.86300112 0.86430512 0.88268796 0.87467468 0.87598138\n",
      " 0.882063   0.90487995 0.90663572 0.89032786 0.8724536  0.87549712\n",
      " 0.90139542 0.87817545 0.84950416 0.84424762 0.82626246 0.80819884\n",
      " 0.80638897 0.83210875 0.81136137 0.81719683 0.84603859 0.82376001\n",
      " 0.79290819 0.7715576  0.78088564 0.74472596 0.73810327 0.77289132\n",
      " 0.66297295 0.66415522 0.6628215  0.67188442 0.6203664  0.61152263\n",
      " 0.57914773 0.57952645 0.56065935 0.56909197 0.60222979 0.71890324\n",
      " 0.7089715  0.70292765 0.70128822 0.70391625]\n",
      "5 day output [[0.7102104]]\n",
      "6 day input [0.9030078  0.89257873 0.91253068 0.8969343  0.87980943 0.87384148\n",
      " 0.87005399 0.86427533 0.88524721 0.88440852 0.86280364 0.86780312\n",
      " 0.85037798 0.83621004 0.81115041 0.76232156 0.77260724 0.7479453\n",
      " 0.74192048 0.74605968 0.76954483 0.79982038 0.80858575 0.8054421\n",
      " 0.74177438 0.84346309 0.84506464 0.86388307 0.86267108 0.8508433\n",
      " 0.81994822 0.83008515 0.83735439 0.84595742 0.82730134 0.81620399\n",
      " 0.80319665 0.77413851 0.80947575 0.82262649 0.82140637 0.80830709\n",
      " 0.81323352 0.79075745 0.77854283 0.73424002 0.72645672 0.74411996\n",
      " 0.78490852 0.77791246 0.7580471  0.78787899 0.81892288 0.84129611\n",
      " 0.86300112 0.86430512 0.88268796 0.87467468 0.87598138 0.882063\n",
      " 0.90487995 0.90663572 0.89032786 0.8724536  0.87549712 0.90139542\n",
      " 0.87817545 0.84950416 0.84424762 0.82626246 0.80819884 0.80638897\n",
      " 0.83210875 0.81136137 0.81719683 0.84603859 0.82376001 0.79290819\n",
      " 0.7715576  0.78088564 0.74472596 0.73810327 0.77289132 0.66297295\n",
      " 0.66415522 0.6628215  0.67188442 0.6203664  0.61152263 0.57914773\n",
      " 0.57952645 0.56065935 0.56909197 0.60222979 0.71890324 0.7089715\n",
      " 0.70292765 0.70128822 0.70391625 0.71021038]\n",
      "6 day output [[0.7193095]]\n",
      "7 day input [0.89257873 0.91253068 0.8969343  0.87980943 0.87384148 0.87005399\n",
      " 0.86427533 0.88524721 0.88440852 0.86280364 0.86780312 0.85037798\n",
      " 0.83621004 0.81115041 0.76232156 0.77260724 0.7479453  0.74192048\n",
      " 0.74605968 0.76954483 0.79982038 0.80858575 0.8054421  0.74177438\n",
      " 0.84346309 0.84506464 0.86388307 0.86267108 0.8508433  0.81994822\n",
      " 0.83008515 0.83735439 0.84595742 0.82730134 0.81620399 0.80319665\n",
      " 0.77413851 0.80947575 0.82262649 0.82140637 0.80830709 0.81323352\n",
      " 0.79075745 0.77854283 0.73424002 0.72645672 0.74411996 0.78490852\n",
      " 0.77791246 0.7580471  0.78787899 0.81892288 0.84129611 0.86300112\n",
      " 0.86430512 0.88268796 0.87467468 0.87598138 0.882063   0.90487995\n",
      " 0.90663572 0.89032786 0.8724536  0.87549712 0.90139542 0.87817545\n",
      " 0.84950416 0.84424762 0.82626246 0.80819884 0.80638897 0.83210875\n",
      " 0.81136137 0.81719683 0.84603859 0.82376001 0.79290819 0.7715576\n",
      " 0.78088564 0.74472596 0.73810327 0.77289132 0.66297295 0.66415522\n",
      " 0.6628215  0.67188442 0.6203664  0.61152263 0.57914773 0.57952645\n",
      " 0.56065935 0.56909197 0.60222979 0.71890324 0.7089715  0.70292765\n",
      " 0.70128822 0.70391625 0.71021038 0.71930951]\n",
      "7 day output [[0.7302712]]\n",
      "8 day input [0.91253068 0.8969343  0.87980943 0.87384148 0.87005399 0.86427533\n",
      " 0.88524721 0.88440852 0.86280364 0.86780312 0.85037798 0.83621004\n",
      " 0.81115041 0.76232156 0.77260724 0.7479453  0.74192048 0.74605968\n",
      " 0.76954483 0.79982038 0.80858575 0.8054421  0.74177438 0.84346309\n",
      " 0.84506464 0.86388307 0.86267108 0.8508433  0.81994822 0.83008515\n",
      " 0.83735439 0.84595742 0.82730134 0.81620399 0.80319665 0.77413851\n",
      " 0.80947575 0.82262649 0.82140637 0.80830709 0.81323352 0.79075745\n",
      " 0.77854283 0.73424002 0.72645672 0.74411996 0.78490852 0.77791246\n",
      " 0.7580471  0.78787899 0.81892288 0.84129611 0.86300112 0.86430512\n",
      " 0.88268796 0.87467468 0.87598138 0.882063   0.90487995 0.90663572\n",
      " 0.89032786 0.8724536  0.87549712 0.90139542 0.87817545 0.84950416\n",
      " 0.84424762 0.82626246 0.80819884 0.80638897 0.83210875 0.81136137\n",
      " 0.81719683 0.84603859 0.82376001 0.79290819 0.7715576  0.78088564\n",
      " 0.74472596 0.73810327 0.77289132 0.66297295 0.66415522 0.6628215\n",
      " 0.67188442 0.6203664  0.61152263 0.57914773 0.57952645 0.56065935\n",
      " 0.56909197 0.60222979 0.71890324 0.7089715  0.70292765 0.70128822\n",
      " 0.70391625 0.71021038 0.71930951 0.73027122]\n",
      "8 day output [[0.74221295]]\n",
      "9 day input [0.8969343  0.87980943 0.87384148 0.87005399 0.86427533 0.88524721\n",
      " 0.88440852 0.86280364 0.86780312 0.85037798 0.83621004 0.81115041\n",
      " 0.76232156 0.77260724 0.7479453  0.74192048 0.74605968 0.76954483\n",
      " 0.79982038 0.80858575 0.8054421  0.74177438 0.84346309 0.84506464\n",
      " 0.86388307 0.86267108 0.8508433  0.81994822 0.83008515 0.83735439\n",
      " 0.84595742 0.82730134 0.81620399 0.80319665 0.77413851 0.80947575\n",
      " 0.82262649 0.82140637 0.80830709 0.81323352 0.79075745 0.77854283\n",
      " 0.73424002 0.72645672 0.74411996 0.78490852 0.77791246 0.7580471\n",
      " 0.78787899 0.81892288 0.84129611 0.86300112 0.86430512 0.88268796\n",
      " 0.87467468 0.87598138 0.882063   0.90487995 0.90663572 0.89032786\n",
      " 0.8724536  0.87549712 0.90139542 0.87817545 0.84950416 0.84424762\n",
      " 0.82626246 0.80819884 0.80638897 0.83210875 0.81136137 0.81719683\n",
      " 0.84603859 0.82376001 0.79290819 0.7715576  0.78088564 0.74472596\n",
      " 0.73810327 0.77289132 0.66297295 0.66415522 0.6628215  0.67188442\n",
      " 0.6203664  0.61152263 0.57914773 0.57952645 0.56065935 0.56909197\n",
      " 0.60222979 0.71890324 0.7089715  0.70292765 0.70128822 0.70391625\n",
      " 0.71021038 0.71930951 0.73027122 0.74221295]\n",
      "9 day output [[0.75439715]]\n",
      "10 day input [0.87980943 0.87384148 0.87005399 0.86427533 0.88524721 0.88440852\n",
      " 0.86280364 0.86780312 0.85037798 0.83621004 0.81115041 0.76232156\n",
      " 0.77260724 0.7479453  0.74192048 0.74605968 0.76954483 0.79982038\n",
      " 0.80858575 0.8054421  0.74177438 0.84346309 0.84506464 0.86388307\n",
      " 0.86267108 0.8508433  0.81994822 0.83008515 0.83735439 0.84595742\n",
      " 0.82730134 0.81620399 0.80319665 0.77413851 0.80947575 0.82262649\n",
      " 0.82140637 0.80830709 0.81323352 0.79075745 0.77854283 0.73424002\n",
      " 0.72645672 0.74411996 0.78490852 0.77791246 0.7580471  0.78787899\n",
      " 0.81892288 0.84129611 0.86300112 0.86430512 0.88268796 0.87467468\n",
      " 0.87598138 0.882063   0.90487995 0.90663572 0.89032786 0.8724536\n",
      " 0.87549712 0.90139542 0.87817545 0.84950416 0.84424762 0.82626246\n",
      " 0.80819884 0.80638897 0.83210875 0.81136137 0.81719683 0.84603859\n",
      " 0.82376001 0.79290819 0.7715576  0.78088564 0.74472596 0.73810327\n",
      " 0.77289132 0.66297295 0.66415522 0.6628215  0.67188442 0.6203664\n",
      " 0.61152263 0.57914773 0.57952645 0.56065935 0.56909197 0.60222979\n",
      " 0.71890324 0.7089715  0.70292765 0.70128822 0.70391625 0.71021038\n",
      " 0.71930951 0.73027122 0.74221295 0.75439715]\n",
      "10 day output [[0.7662727]]\n",
      "11 day input [0.87384148 0.87005399 0.86427533 0.88524721 0.88440852 0.86280364\n",
      " 0.86780312 0.85037798 0.83621004 0.81115041 0.76232156 0.77260724\n",
      " 0.7479453  0.74192048 0.74605968 0.76954483 0.79982038 0.80858575\n",
      " 0.8054421  0.74177438 0.84346309 0.84506464 0.86388307 0.86267108\n",
      " 0.8508433  0.81994822 0.83008515 0.83735439 0.84595742 0.82730134\n",
      " 0.81620399 0.80319665 0.77413851 0.80947575 0.82262649 0.82140637\n",
      " 0.80830709 0.81323352 0.79075745 0.77854283 0.73424002 0.72645672\n",
      " 0.74411996 0.78490852 0.77791246 0.7580471  0.78787899 0.81892288\n",
      " 0.84129611 0.86300112 0.86430512 0.88268796 0.87467468 0.87598138\n",
      " 0.882063   0.90487995 0.90663572 0.89032786 0.8724536  0.87549712\n",
      " 0.90139542 0.87817545 0.84950416 0.84424762 0.82626246 0.80819884\n",
      " 0.80638897 0.83210875 0.81136137 0.81719683 0.84603859 0.82376001\n",
      " 0.79290819 0.7715576  0.78088564 0.74472596 0.73810327 0.77289132\n",
      " 0.66297295 0.66415522 0.6628215  0.67188442 0.6203664  0.61152263\n",
      " 0.57914773 0.57952645 0.56065935 0.56909197 0.60222979 0.71890324\n",
      " 0.7089715  0.70292765 0.70128822 0.70391625 0.71021038 0.71930951\n",
      " 0.73027122 0.74221295 0.75439715 0.76627272]\n",
      "11 day output [[0.77746785]]\n",
      "12 day input [0.87005399 0.86427533 0.88524721 0.88440852 0.86280364 0.86780312\n",
      " 0.85037798 0.83621004 0.81115041 0.76232156 0.77260724 0.7479453\n",
      " 0.74192048 0.74605968 0.76954483 0.79982038 0.80858575 0.8054421\n",
      " 0.74177438 0.84346309 0.84506464 0.86388307 0.86267108 0.8508433\n",
      " 0.81994822 0.83008515 0.83735439 0.84595742 0.82730134 0.81620399\n",
      " 0.80319665 0.77413851 0.80947575 0.82262649 0.82140637 0.80830709\n",
      " 0.81323352 0.79075745 0.77854283 0.73424002 0.72645672 0.74411996\n",
      " 0.78490852 0.77791246 0.7580471  0.78787899 0.81892288 0.84129611\n",
      " 0.86300112 0.86430512 0.88268796 0.87467468 0.87598138 0.882063\n",
      " 0.90487995 0.90663572 0.89032786 0.8724536  0.87549712 0.90139542\n",
      " 0.87817545 0.84950416 0.84424762 0.82626246 0.80819884 0.80638897\n",
      " 0.83210875 0.81136137 0.81719683 0.84603859 0.82376001 0.79290819\n",
      " 0.7715576  0.78088564 0.74472596 0.73810327 0.77289132 0.66297295\n",
      " 0.66415522 0.6628215  0.67188442 0.6203664  0.61152263 0.57914773\n",
      " 0.57952645 0.56065935 0.56909197 0.60222979 0.71890324 0.7089715\n",
      " 0.70292765 0.70128822 0.70391625 0.71021038 0.71930951 0.73027122\n",
      " 0.74221295 0.75439715 0.76627272 0.77746785]\n",
      "12 day output [[0.78776395]]\n",
      "13 day input [0.86427533 0.88524721 0.88440852 0.86280364 0.86780312 0.85037798\n",
      " 0.83621004 0.81115041 0.76232156 0.77260724 0.7479453  0.74192048\n",
      " 0.74605968 0.76954483 0.79982038 0.80858575 0.8054421  0.74177438\n",
      " 0.84346309 0.84506464 0.86388307 0.86267108 0.8508433  0.81994822\n",
      " 0.83008515 0.83735439 0.84595742 0.82730134 0.81620399 0.80319665\n",
      " 0.77413851 0.80947575 0.82262649 0.82140637 0.80830709 0.81323352\n",
      " 0.79075745 0.77854283 0.73424002 0.72645672 0.74411996 0.78490852\n",
      " 0.77791246 0.7580471  0.78787899 0.81892288 0.84129611 0.86300112\n",
      " 0.86430512 0.88268796 0.87467468 0.87598138 0.882063   0.90487995\n",
      " 0.90663572 0.89032786 0.8724536  0.87549712 0.90139542 0.87817545\n",
      " 0.84950416 0.84424762 0.82626246 0.80819884 0.80638897 0.83210875\n",
      " 0.81136137 0.81719683 0.84603859 0.82376001 0.79290819 0.7715576\n",
      " 0.78088564 0.74472596 0.73810327 0.77289132 0.66297295 0.66415522\n",
      " 0.6628215  0.67188442 0.6203664  0.61152263 0.57914773 0.57952645\n",
      " 0.56065935 0.56909197 0.60222979 0.71890324 0.7089715  0.70292765\n",
      " 0.70128822 0.70391625 0.71021038 0.71930951 0.73027122 0.74221295\n",
      " 0.75439715 0.76627272 0.77746785 0.78776395]\n",
      "13 day output [[0.79705745]]\n",
      "14 day input [0.88524721 0.88440852 0.86280364 0.86780312 0.85037798 0.83621004\n",
      " 0.81115041 0.76232156 0.77260724 0.7479453  0.74192048 0.74605968\n",
      " 0.76954483 0.79982038 0.80858575 0.8054421  0.74177438 0.84346309\n",
      " 0.84506464 0.86388307 0.86267108 0.8508433  0.81994822 0.83008515\n",
      " 0.83735439 0.84595742 0.82730134 0.81620399 0.80319665 0.77413851\n",
      " 0.80947575 0.82262649 0.82140637 0.80830709 0.81323352 0.79075745\n",
      " 0.77854283 0.73424002 0.72645672 0.74411996 0.78490852 0.77791246\n",
      " 0.7580471  0.78787899 0.81892288 0.84129611 0.86300112 0.86430512\n",
      " 0.88268796 0.87467468 0.87598138 0.882063   0.90487995 0.90663572\n",
      " 0.89032786 0.8724536  0.87549712 0.90139542 0.87817545 0.84950416\n",
      " 0.84424762 0.82626246 0.80819884 0.80638897 0.83210875 0.81136137\n",
      " 0.81719683 0.84603859 0.82376001 0.79290819 0.7715576  0.78088564\n",
      " 0.74472596 0.73810327 0.77289132 0.66297295 0.66415522 0.6628215\n",
      " 0.67188442 0.6203664  0.61152263 0.57914773 0.57952645 0.56065935\n",
      " 0.56909197 0.60222979 0.71890324 0.7089715  0.70292765 0.70128822\n",
      " 0.70391625 0.71021038 0.71930951 0.73027122 0.74221295 0.75439715\n",
      " 0.76627272 0.77746785 0.78776395 0.79705745]\n",
      "14 day output [[0.8053223]]\n",
      "15 day input [0.88440852 0.86280364 0.86780312 0.85037798 0.83621004 0.81115041\n",
      " 0.76232156 0.77260724 0.7479453  0.74192048 0.74605968 0.76954483\n",
      " 0.79982038 0.80858575 0.8054421  0.74177438 0.84346309 0.84506464\n",
      " 0.86388307 0.86267108 0.8508433  0.81994822 0.83008515 0.83735439\n",
      " 0.84595742 0.82730134 0.81620399 0.80319665 0.77413851 0.80947575\n",
      " 0.82262649 0.82140637 0.80830709 0.81323352 0.79075745 0.77854283\n",
      " 0.73424002 0.72645672 0.74411996 0.78490852 0.77791246 0.7580471\n",
      " 0.78787899 0.81892288 0.84129611 0.86300112 0.86430512 0.88268796\n",
      " 0.87467468 0.87598138 0.882063   0.90487995 0.90663572 0.89032786\n",
      " 0.8724536  0.87549712 0.90139542 0.87817545 0.84950416 0.84424762\n",
      " 0.82626246 0.80819884 0.80638897 0.83210875 0.81136137 0.81719683\n",
      " 0.84603859 0.82376001 0.79290819 0.7715576  0.78088564 0.74472596\n",
      " 0.73810327 0.77289132 0.66297295 0.66415522 0.6628215  0.67188442\n",
      " 0.6203664  0.61152263 0.57914773 0.57952645 0.56065935 0.56909197\n",
      " 0.60222979 0.71890324 0.7089715  0.70292765 0.70128822 0.70391625\n",
      " 0.71021038 0.71930951 0.73027122 0.74221295 0.75439715 0.76627272\n",
      " 0.77746785 0.78776395 0.79705745 0.80532229]\n",
      "15 day output [[0.8125776]]\n",
      "16 day input [0.86280364 0.86780312 0.85037798 0.83621004 0.81115041 0.76232156\n",
      " 0.77260724 0.7479453  0.74192048 0.74605968 0.76954483 0.79982038\n",
      " 0.80858575 0.8054421  0.74177438 0.84346309 0.84506464 0.86388307\n",
      " 0.86267108 0.8508433  0.81994822 0.83008515 0.83735439 0.84595742\n",
      " 0.82730134 0.81620399 0.80319665 0.77413851 0.80947575 0.82262649\n",
      " 0.82140637 0.80830709 0.81323352 0.79075745 0.77854283 0.73424002\n",
      " 0.72645672 0.74411996 0.78490852 0.77791246 0.7580471  0.78787899\n",
      " 0.81892288 0.84129611 0.86300112 0.86430512 0.88268796 0.87467468\n",
      " 0.87598138 0.882063   0.90487995 0.90663572 0.89032786 0.8724536\n",
      " 0.87549712 0.90139542 0.87817545 0.84950416 0.84424762 0.82626246\n",
      " 0.80819884 0.80638897 0.83210875 0.81136137 0.81719683 0.84603859\n",
      " 0.82376001 0.79290819 0.7715576  0.78088564 0.74472596 0.73810327\n",
      " 0.77289132 0.66297295 0.66415522 0.6628215  0.67188442 0.6203664\n",
      " 0.61152263 0.57914773 0.57952645 0.56065935 0.56909197 0.60222979\n",
      " 0.71890324 0.7089715  0.70292765 0.70128822 0.70391625 0.71021038\n",
      " 0.71930951 0.73027122 0.74221295 0.75439715 0.76627272 0.77746785\n",
      " 0.78776395 0.79705745 0.80532229 0.81257761]\n",
      "16 day output [[0.8188692]]\n",
      "17 day input [0.86780312 0.85037798 0.83621004 0.81115041 0.76232156 0.77260724\n",
      " 0.7479453  0.74192048 0.74605968 0.76954483 0.79982038 0.80858575\n",
      " 0.8054421  0.74177438 0.84346309 0.84506464 0.86388307 0.86267108\n",
      " 0.8508433  0.81994822 0.83008515 0.83735439 0.84595742 0.82730134\n",
      " 0.81620399 0.80319665 0.77413851 0.80947575 0.82262649 0.82140637\n",
      " 0.80830709 0.81323352 0.79075745 0.77854283 0.73424002 0.72645672\n",
      " 0.74411996 0.78490852 0.77791246 0.7580471  0.78787899 0.81892288\n",
      " 0.84129611 0.86300112 0.86430512 0.88268796 0.87467468 0.87598138\n",
      " 0.882063   0.90487995 0.90663572 0.89032786 0.8724536  0.87549712\n",
      " 0.90139542 0.87817545 0.84950416 0.84424762 0.82626246 0.80819884\n",
      " 0.80638897 0.83210875 0.81136137 0.81719683 0.84603859 0.82376001\n",
      " 0.79290819 0.7715576  0.78088564 0.74472596 0.73810327 0.77289132\n",
      " 0.66297295 0.66415522 0.6628215  0.67188442 0.6203664  0.61152263\n",
      " 0.57914773 0.57952645 0.56065935 0.56909197 0.60222979 0.71890324\n",
      " 0.7089715  0.70292765 0.70128822 0.70391625 0.71021038 0.71930951\n",
      " 0.73027122 0.74221295 0.75439715 0.76627272 0.77746785 0.78776395\n",
      " 0.79705745 0.80532229 0.81257761 0.81886917]\n",
      "17 day output [[0.8242557]]\n",
      "18 day input [0.85037798 0.83621004 0.81115041 0.76232156 0.77260724 0.7479453\n",
      " 0.74192048 0.74605968 0.76954483 0.79982038 0.80858575 0.8054421\n",
      " 0.74177438 0.84346309 0.84506464 0.86388307 0.86267108 0.8508433\n",
      " 0.81994822 0.83008515 0.83735439 0.84595742 0.82730134 0.81620399\n",
      " 0.80319665 0.77413851 0.80947575 0.82262649 0.82140637 0.80830709\n",
      " 0.81323352 0.79075745 0.77854283 0.73424002 0.72645672 0.74411996\n",
      " 0.78490852 0.77791246 0.7580471  0.78787899 0.81892288 0.84129611\n",
      " 0.86300112 0.86430512 0.88268796 0.87467468 0.87598138 0.882063\n",
      " 0.90487995 0.90663572 0.89032786 0.8724536  0.87549712 0.90139542\n",
      " 0.87817545 0.84950416 0.84424762 0.82626246 0.80819884 0.80638897\n",
      " 0.83210875 0.81136137 0.81719683 0.84603859 0.82376001 0.79290819\n",
      " 0.7715576  0.78088564 0.74472596 0.73810327 0.77289132 0.66297295\n",
      " 0.66415522 0.6628215  0.67188442 0.6203664  0.61152263 0.57914773\n",
      " 0.57952645 0.56065935 0.56909197 0.60222979 0.71890324 0.7089715\n",
      " 0.70292765 0.70128822 0.70391625 0.71021038 0.71930951 0.73027122\n",
      " 0.74221295 0.75439715 0.76627272 0.77746785 0.78776395 0.79705745\n",
      " 0.80532229 0.81257761 0.81886917 0.8242557 ]\n",
      "18 day output [[0.8287997]]\n",
      "19 day input [0.83621004 0.81115041 0.76232156 0.77260724 0.7479453  0.74192048\n",
      " 0.74605968 0.76954483 0.79982038 0.80858575 0.8054421  0.74177438\n",
      " 0.84346309 0.84506464 0.86388307 0.86267108 0.8508433  0.81994822\n",
      " 0.83008515 0.83735439 0.84595742 0.82730134 0.81620399 0.80319665\n",
      " 0.77413851 0.80947575 0.82262649 0.82140637 0.80830709 0.81323352\n",
      " 0.79075745 0.77854283 0.73424002 0.72645672 0.74411996 0.78490852\n",
      " 0.77791246 0.7580471  0.78787899 0.81892288 0.84129611 0.86300112\n",
      " 0.86430512 0.88268796 0.87467468 0.87598138 0.882063   0.90487995\n",
      " 0.90663572 0.89032786 0.8724536  0.87549712 0.90139542 0.87817545\n",
      " 0.84950416 0.84424762 0.82626246 0.80819884 0.80638897 0.83210875\n",
      " 0.81136137 0.81719683 0.84603859 0.82376001 0.79290819 0.7715576\n",
      " 0.78088564 0.74472596 0.73810327 0.77289132 0.66297295 0.66415522\n",
      " 0.6628215  0.67188442 0.6203664  0.61152263 0.57914773 0.57952645\n",
      " 0.56065935 0.56909197 0.60222979 0.71890324 0.7089715  0.70292765\n",
      " 0.70128822 0.70391625 0.71021038 0.71930951 0.73027122 0.74221295\n",
      " 0.75439715 0.76627272 0.77746785 0.78776395 0.79705745 0.80532229\n",
      " 0.81257761 0.81886917 0.8242557  0.82879972]\n",
      "19 day output [[0.8325696]]\n",
      "20 day input [0.81115041 0.76232156 0.77260724 0.7479453  0.74192048 0.74605968\n",
      " 0.76954483 0.79982038 0.80858575 0.8054421  0.74177438 0.84346309\n",
      " 0.84506464 0.86388307 0.86267108 0.8508433  0.81994822 0.83008515\n",
      " 0.83735439 0.84595742 0.82730134 0.81620399 0.80319665 0.77413851\n",
      " 0.80947575 0.82262649 0.82140637 0.80830709 0.81323352 0.79075745\n",
      " 0.77854283 0.73424002 0.72645672 0.74411996 0.78490852 0.77791246\n",
      " 0.7580471  0.78787899 0.81892288 0.84129611 0.86300112 0.86430512\n",
      " 0.88268796 0.87467468 0.87598138 0.882063   0.90487995 0.90663572\n",
      " 0.89032786 0.8724536  0.87549712 0.90139542 0.87817545 0.84950416\n",
      " 0.84424762 0.82626246 0.80819884 0.80638897 0.83210875 0.81136137\n",
      " 0.81719683 0.84603859 0.82376001 0.79290819 0.7715576  0.78088564\n",
      " 0.74472596 0.73810327 0.77289132 0.66297295 0.66415522 0.6628215\n",
      " 0.67188442 0.6203664  0.61152263 0.57914773 0.57952645 0.56065935\n",
      " 0.56909197 0.60222979 0.71890324 0.7089715  0.70292765 0.70128822\n",
      " 0.70391625 0.71021038 0.71930951 0.73027122 0.74221295 0.75439715\n",
      " 0.76627272 0.77746785 0.78776395 0.79705745 0.80532229 0.81257761\n",
      " 0.81886917 0.8242557  0.82879972 0.8325696 ]\n",
      "20 day output [[0.8356367]]\n",
      "21 day input [0.76232156 0.77260724 0.7479453  0.74192048 0.74605968 0.76954483\n",
      " 0.79982038 0.80858575 0.8054421  0.74177438 0.84346309 0.84506464\n",
      " 0.86388307 0.86267108 0.8508433  0.81994822 0.83008515 0.83735439\n",
      " 0.84595742 0.82730134 0.81620399 0.80319665 0.77413851 0.80947575\n",
      " 0.82262649 0.82140637 0.80830709 0.81323352 0.79075745 0.77854283\n",
      " 0.73424002 0.72645672 0.74411996 0.78490852 0.77791246 0.7580471\n",
      " 0.78787899 0.81892288 0.84129611 0.86300112 0.86430512 0.88268796\n",
      " 0.87467468 0.87598138 0.882063   0.90487995 0.90663572 0.89032786\n",
      " 0.8724536  0.87549712 0.90139542 0.87817545 0.84950416 0.84424762\n",
      " 0.82626246 0.80819884 0.80638897 0.83210875 0.81136137 0.81719683\n",
      " 0.84603859 0.82376001 0.79290819 0.7715576  0.78088564 0.74472596\n",
      " 0.73810327 0.77289132 0.66297295 0.66415522 0.6628215  0.67188442\n",
      " 0.6203664  0.61152263 0.57914773 0.57952645 0.56065935 0.56909197\n",
      " 0.60222979 0.71890324 0.7089715  0.70292765 0.70128822 0.70391625\n",
      " 0.71021038 0.71930951 0.73027122 0.74221295 0.75439715 0.76627272\n",
      " 0.77746785 0.78776395 0.79705745 0.80532229 0.81257761 0.81886917\n",
      " 0.8242557  0.82879972 0.8325696  0.83563668]\n",
      "21 day output [[0.8380769]]\n",
      "22 day input [0.77260724 0.7479453  0.74192048 0.74605968 0.76954483 0.79982038\n",
      " 0.80858575 0.8054421  0.74177438 0.84346309 0.84506464 0.86388307\n",
      " 0.86267108 0.8508433  0.81994822 0.83008515 0.83735439 0.84595742\n",
      " 0.82730134 0.81620399 0.80319665 0.77413851 0.80947575 0.82262649\n",
      " 0.82140637 0.80830709 0.81323352 0.79075745 0.77854283 0.73424002\n",
      " 0.72645672 0.74411996 0.78490852 0.77791246 0.7580471  0.78787899\n",
      " 0.81892288 0.84129611 0.86300112 0.86430512 0.88268796 0.87467468\n",
      " 0.87598138 0.882063   0.90487995 0.90663572 0.89032786 0.8724536\n",
      " 0.87549712 0.90139542 0.87817545 0.84950416 0.84424762 0.82626246\n",
      " 0.80819884 0.80638897 0.83210875 0.81136137 0.81719683 0.84603859\n",
      " 0.82376001 0.79290819 0.7715576  0.78088564 0.74472596 0.73810327\n",
      " 0.77289132 0.66297295 0.66415522 0.6628215  0.67188442 0.6203664\n",
      " 0.61152263 0.57914773 0.57952645 0.56065935 0.56909197 0.60222979\n",
      " 0.71890324 0.7089715  0.70292765 0.70128822 0.70391625 0.71021038\n",
      " 0.71930951 0.73027122 0.74221295 0.75439715 0.76627272 0.77746785\n",
      " 0.78776395 0.79705745 0.80532229 0.81257761 0.81886917 0.8242557\n",
      " 0.82879972 0.8325696  0.83563668 0.83807689]\n",
      "22 day output [[0.8399696]]\n",
      "23 day input [0.7479453  0.74192048 0.74605968 0.76954483 0.79982038 0.80858575\n",
      " 0.8054421  0.74177438 0.84346309 0.84506464 0.86388307 0.86267108\n",
      " 0.8508433  0.81994822 0.83008515 0.83735439 0.84595742 0.82730134\n",
      " 0.81620399 0.80319665 0.77413851 0.80947575 0.82262649 0.82140637\n",
      " 0.80830709 0.81323352 0.79075745 0.77854283 0.73424002 0.72645672\n",
      " 0.74411996 0.78490852 0.77791246 0.7580471  0.78787899 0.81892288\n",
      " 0.84129611 0.86300112 0.86430512 0.88268796 0.87467468 0.87598138\n",
      " 0.882063   0.90487995 0.90663572 0.89032786 0.8724536  0.87549712\n",
      " 0.90139542 0.87817545 0.84950416 0.84424762 0.82626246 0.80819884\n",
      " 0.80638897 0.83210875 0.81136137 0.81719683 0.84603859 0.82376001\n",
      " 0.79290819 0.7715576  0.78088564 0.74472596 0.73810327 0.77289132\n",
      " 0.66297295 0.66415522 0.6628215  0.67188442 0.6203664  0.61152263\n",
      " 0.57914773 0.57952645 0.56065935 0.56909197 0.60222979 0.71890324\n",
      " 0.7089715  0.70292765 0.70128822 0.70391625 0.71021038 0.71930951\n",
      " 0.73027122 0.74221295 0.75439715 0.76627272 0.77746785 0.78776395\n",
      " 0.79705745 0.80532229 0.81257761 0.81886917 0.8242557  0.82879972\n",
      " 0.8325696  0.83563668 0.83807689 0.83996958]\n",
      "23 day output [[0.841396]]\n",
      "24 day input [0.74192048 0.74605968 0.76954483 0.79982038 0.80858575 0.8054421\n",
      " 0.74177438 0.84346309 0.84506464 0.86388307 0.86267108 0.8508433\n",
      " 0.81994822 0.83008515 0.83735439 0.84595742 0.82730134 0.81620399\n",
      " 0.80319665 0.77413851 0.80947575 0.82262649 0.82140637 0.80830709\n",
      " 0.81323352 0.79075745 0.77854283 0.73424002 0.72645672 0.74411996\n",
      " 0.78490852 0.77791246 0.7580471  0.78787899 0.81892288 0.84129611\n",
      " 0.86300112 0.86430512 0.88268796 0.87467468 0.87598138 0.882063\n",
      " 0.90487995 0.90663572 0.89032786 0.8724536  0.87549712 0.90139542\n",
      " 0.87817545 0.84950416 0.84424762 0.82626246 0.80819884 0.80638897\n",
      " 0.83210875 0.81136137 0.81719683 0.84603859 0.82376001 0.79290819\n",
      " 0.7715576  0.78088564 0.74472596 0.73810327 0.77289132 0.66297295\n",
      " 0.66415522 0.6628215  0.67188442 0.6203664  0.61152263 0.57914773\n",
      " 0.57952645 0.56065935 0.56909197 0.60222979 0.71890324 0.7089715\n",
      " 0.70292765 0.70128822 0.70391625 0.71021038 0.71930951 0.73027122\n",
      " 0.74221295 0.75439715 0.76627272 0.77746785 0.78776395 0.79705745\n",
      " 0.80532229 0.81257761 0.81886917 0.8242557  0.82879972 0.8325696\n",
      " 0.83563668 0.83807689 0.83996958 0.84139597]\n",
      "24 day output [[0.8424407]]\n",
      "25 day input [0.74605968 0.76954483 0.79982038 0.80858575 0.8054421  0.74177438\n",
      " 0.84346309 0.84506464 0.86388307 0.86267108 0.8508433  0.81994822\n",
      " 0.83008515 0.83735439 0.84595742 0.82730134 0.81620399 0.80319665\n",
      " 0.77413851 0.80947575 0.82262649 0.82140637 0.80830709 0.81323352\n",
      " 0.79075745 0.77854283 0.73424002 0.72645672 0.74411996 0.78490852\n",
      " 0.77791246 0.7580471  0.78787899 0.81892288 0.84129611 0.86300112\n",
      " 0.86430512 0.88268796 0.87467468 0.87598138 0.882063   0.90487995\n",
      " 0.90663572 0.89032786 0.8724536  0.87549712 0.90139542 0.87817545\n",
      " 0.84950416 0.84424762 0.82626246 0.80819884 0.80638897 0.83210875\n",
      " 0.81136137 0.81719683 0.84603859 0.82376001 0.79290819 0.7715576\n",
      " 0.78088564 0.74472596 0.73810327 0.77289132 0.66297295 0.66415522\n",
      " 0.6628215  0.67188442 0.6203664  0.61152263 0.57914773 0.57952645\n",
      " 0.56065935 0.56909197 0.60222979 0.71890324 0.7089715  0.70292765\n",
      " 0.70128822 0.70391625 0.71021038 0.71930951 0.73027122 0.74221295\n",
      " 0.75439715 0.76627272 0.77746785 0.78776395 0.79705745 0.80532229\n",
      " 0.81257761 0.81886917 0.8242557  0.82879972 0.8325696  0.83563668\n",
      " 0.83807689 0.83996958 0.84139597 0.84244072]\n",
      "25 day output [[0.8431866]]\n",
      "26 day input [0.76954483 0.79982038 0.80858575 0.8054421  0.74177438 0.84346309\n",
      " 0.84506464 0.86388307 0.86267108 0.8508433  0.81994822 0.83008515\n",
      " 0.83735439 0.84595742 0.82730134 0.81620399 0.80319665 0.77413851\n",
      " 0.80947575 0.82262649 0.82140637 0.80830709 0.81323352 0.79075745\n",
      " 0.77854283 0.73424002 0.72645672 0.74411996 0.78490852 0.77791246\n",
      " 0.7580471  0.78787899 0.81892288 0.84129611 0.86300112 0.86430512\n",
      " 0.88268796 0.87467468 0.87598138 0.882063   0.90487995 0.90663572\n",
      " 0.89032786 0.8724536  0.87549712 0.90139542 0.87817545 0.84950416\n",
      " 0.84424762 0.82626246 0.80819884 0.80638897 0.83210875 0.81136137\n",
      " 0.81719683 0.84603859 0.82376001 0.79290819 0.7715576  0.78088564\n",
      " 0.74472596 0.73810327 0.77289132 0.66297295 0.66415522 0.6628215\n",
      " 0.67188442 0.6203664  0.61152263 0.57914773 0.57952645 0.56065935\n",
      " 0.56909197 0.60222979 0.71890324 0.7089715  0.70292765 0.70128822\n",
      " 0.70391625 0.71021038 0.71930951 0.73027122 0.74221295 0.75439715\n",
      " 0.76627272 0.77746785 0.78776395 0.79705745 0.80532229 0.81257761\n",
      " 0.81886917 0.8242557  0.82879972 0.8325696  0.83563668 0.83807689\n",
      " 0.83996958 0.84139597 0.84244072 0.84318662]\n",
      "26 day output [[0.8437133]]\n",
      "27 day input [0.79982038 0.80858575 0.8054421  0.74177438 0.84346309 0.84506464\n",
      " 0.86388307 0.86267108 0.8508433  0.81994822 0.83008515 0.83735439\n",
      " 0.84595742 0.82730134 0.81620399 0.80319665 0.77413851 0.80947575\n",
      " 0.82262649 0.82140637 0.80830709 0.81323352 0.79075745 0.77854283\n",
      " 0.73424002 0.72645672 0.74411996 0.78490852 0.77791246 0.7580471\n",
      " 0.78787899 0.81892288 0.84129611 0.86300112 0.86430512 0.88268796\n",
      " 0.87467468 0.87598138 0.882063   0.90487995 0.90663572 0.89032786\n",
      " 0.8724536  0.87549712 0.90139542 0.87817545 0.84950416 0.84424762\n",
      " 0.82626246 0.80819884 0.80638897 0.83210875 0.81136137 0.81719683\n",
      " 0.84603859 0.82376001 0.79290819 0.7715576  0.78088564 0.74472596\n",
      " 0.73810327 0.77289132 0.66297295 0.66415522 0.6628215  0.67188442\n",
      " 0.6203664  0.61152263 0.57914773 0.57952645 0.56065935 0.56909197\n",
      " 0.60222979 0.71890324 0.7089715  0.70292765 0.70128822 0.70391625\n",
      " 0.71021038 0.71930951 0.73027122 0.74221295 0.75439715 0.76627272\n",
      " 0.77746785 0.78776395 0.79705745 0.80532229 0.81257761 0.81886917\n",
      " 0.8242557  0.82879972 0.8325696  0.83563668 0.83807689 0.83996958\n",
      " 0.84139597 0.84244072 0.84318662 0.84371328]\n",
      "27 day output [[0.8440963]]\n",
      "28 day input [0.80858575 0.8054421  0.74177438 0.84346309 0.84506464 0.86388307\n",
      " 0.86267108 0.8508433  0.81994822 0.83008515 0.83735439 0.84595742\n",
      " 0.82730134 0.81620399 0.80319665 0.77413851 0.80947575 0.82262649\n",
      " 0.82140637 0.80830709 0.81323352 0.79075745 0.77854283 0.73424002\n",
      " 0.72645672 0.74411996 0.78490852 0.77791246 0.7580471  0.78787899\n",
      " 0.81892288 0.84129611 0.86300112 0.86430512 0.88268796 0.87467468\n",
      " 0.87598138 0.882063   0.90487995 0.90663572 0.89032786 0.8724536\n",
      " 0.87549712 0.90139542 0.87817545 0.84950416 0.84424762 0.82626246\n",
      " 0.80819884 0.80638897 0.83210875 0.81136137 0.81719683 0.84603859\n",
      " 0.82376001 0.79290819 0.7715576  0.78088564 0.74472596 0.73810327\n",
      " 0.77289132 0.66297295 0.66415522 0.6628215  0.67188442 0.6203664\n",
      " 0.61152263 0.57914773 0.57952645 0.56065935 0.56909197 0.60222979\n",
      " 0.71890324 0.7089715  0.70292765 0.70128822 0.70391625 0.71021038\n",
      " 0.71930951 0.73027122 0.74221295 0.75439715 0.76627272 0.77746785\n",
      " 0.78776395 0.79705745 0.80532229 0.81257761 0.81886917 0.8242557\n",
      " 0.82879972 0.8325696  0.83563668 0.83807689 0.83996958 0.84139597\n",
      " 0.84244072 0.84318662 0.84371328 0.8440963 ]\n",
      "28 day output [[0.8444041]]\n",
      "29 day input [0.8054421  0.74177438 0.84346309 0.84506464 0.86388307 0.86267108\n",
      " 0.8508433  0.81994822 0.83008515 0.83735439 0.84595742 0.82730134\n",
      " 0.81620399 0.80319665 0.77413851 0.80947575 0.82262649 0.82140637\n",
      " 0.80830709 0.81323352 0.79075745 0.77854283 0.73424002 0.72645672\n",
      " 0.74411996 0.78490852 0.77791246 0.7580471  0.78787899 0.81892288\n",
      " 0.84129611 0.86300112 0.86430512 0.88268796 0.87467468 0.87598138\n",
      " 0.882063   0.90487995 0.90663572 0.89032786 0.8724536  0.87549712\n",
      " 0.90139542 0.87817545 0.84950416 0.84424762 0.82626246 0.80819884\n",
      " 0.80638897 0.83210875 0.81136137 0.81719683 0.84603859 0.82376001\n",
      " 0.79290819 0.7715576  0.78088564 0.74472596 0.73810327 0.77289132\n",
      " 0.66297295 0.66415522 0.6628215  0.67188442 0.6203664  0.61152263\n",
      " 0.57914773 0.57952645 0.56065935 0.56909197 0.60222979 0.71890324\n",
      " 0.7089715  0.70292765 0.70128822 0.70391625 0.71021038 0.71930951\n",
      " 0.73027122 0.74221295 0.75439715 0.76627272 0.77746785 0.78776395\n",
      " 0.79705745 0.80532229 0.81257761 0.81886917 0.8242557  0.82879972\n",
      " 0.8325696  0.83563668 0.83807689 0.83996958 0.84139597 0.84244072\n",
      " 0.84318662 0.84371328 0.8440963  0.8444041 ]\n",
      "29 day output [[0.84469956]]\n"
     ]
    }
   ],
   "source": [
    "# demonstrate prediction for next 10 days\n",
    "from numpy import array\n",
    "\n",
    "lst_output=[]\n",
    "n_steps=100\n",
    "i=0\n",
    "while(i<30):\n",
    "\n",
    "    if(len(temp_input)>100):\n",
    "        #print(temp_input)\n",
    "        x_input=np.array(temp_input[1:])\n",
    "        print(\"{} day input {}\".format(i,x_input))\n",
    "        x_input=x_input.reshape(1,-1)\n",
    "        x_input = x_input.reshape((1, n_steps, 1))\n",
    "        #print(x_input)\n",
    "        yhat = model.predict(x_input, verbose=0)\n",
    "        print(\"{} day output {}\".format(i,yhat))\n",
    "        temp_input.extend(yhat[0].tolist())\n",
    "        temp_input=temp_input[1:]\n",
    "        #print(temp_input)\n",
    "        lst_output.extend(yhat.tolist())\n",
    "        i=i+1\n",
    "    else:\n",
    "        x_input = x_input.reshape((1, n_steps,1))\n",
    "        yhat = model.predict(x_input, verbose=0)\n",
    "#         print(yhat[0])\n",
    "        temp_input.extend(yhat[0].tolist())\n",
    "#         print(len(temp_input))\n",
    "        lst_output.extend(yhat.tolist())\n",
    "        i=i+1\n",
    "\n",
    "\n",
    "# print(lst_output)"
   ],
   "metadata": {
    "collapsed": false,
    "pycharm": {
     "name": "#%%\n"
    }
   }
  },
  {
   "cell_type": "code",
   "execution_count": 30,
   "outputs": [],
   "source": [
    "day_new=np.arange(1,101)\n",
    "day_pred=np.arange(101,131)"
   ],
   "metadata": {
    "collapsed": false,
    "pycharm": {
     "name": "#%%\n"
    }
   }
  },
  {
   "cell_type": "code",
   "execution_count": 31,
   "outputs": [
    {
     "name": "stdout",
     "output_type": "stream",
     "text": [
      "[[2261.10009766]]\n",
      "[[2692.36950783]\n",
      " [2655.65801197]\n",
      " [2633.31764115]\n",
      " [2627.25770072]\n",
      " [2636.97189208]\n",
      " [2660.23739251]\n",
      " [2693.87121858]\n",
      " [2734.38986844]\n",
      " [2778.53104295]\n",
      " [2823.56848496]\n",
      " [2867.4651027 ]\n",
      " [2908.84653121]\n",
      " [2946.90485187]\n",
      " [2981.25714606]\n",
      " [3011.80713332]\n",
      " [3038.62553684]\n",
      " [3061.88156345]\n",
      " [3081.79222974]\n",
      " [3098.58865289]\n",
      " [3112.52354153]\n",
      " [3123.86062041]\n",
      " [3132.88057901]\n",
      " [3139.87666512]\n",
      " [3145.14917682]\n",
      " [3149.01097052]\n",
      " [3151.76807267]\n",
      " [3153.71483266]\n",
      " [3155.13061805]\n",
      " [3156.26835782]\n",
      " [3157.36049106]]\n"
     ]
    }
   ],
   "source": [
    "len(df1)\n",
    "print(scaler.inverse_transform(df1[-1:]))\n",
    "print(scaler.inverse_transform(lst_output[0:]))"
   ],
   "metadata": {
    "collapsed": false,
    "pycharm": {
     "name": "#%%\n"
    }
   }
  },
  {
   "cell_type": "code",
   "execution_count": 32,
   "outputs": [
    {
     "data": {
      "text/plain": "[<matplotlib.lines.Line2D at 0x26b60f3c280>]"
     },
     "execution_count": 32,
     "metadata": {},
     "output_type": "execute_result"
    },
    {
     "data": {
      "text/plain": "<Figure size 432x288 with 1 Axes>",
      "image/png": "[encoded data removed]"
     },
     "metadata": {
      "needs_background": "light"
     },
     "output_type": "display_data"
    }
   ],
   "source": [
    "plt.plot(day_new,scaler.inverse_transform(df1[len(df1)-100:]))\n",
    "plt.plot(day_pred,scaler.inverse_transform(lst_output))"
   ],
   "metadata": {
    "collapsed": false,
    "pycharm": {
     "name": "#%%\n"
    }
   }
  },
  {
   "cell_type": "code",
   "execution_count": 33,
   "outputs": [
    {
     "data": {
      "text/plain": "[<matplotlib.lines.Line2D at 0x26b60bc2f70>]"
     },
     "execution_count": 33,
     "metadata": {},
     "output_type": "execute_result"
    },
    {
     "data": {
      "text/plain": "<Figure size 432x288 with 1 Axes>",
      "image/png": "[encoded data removed]"
     },
     "metadata": {
      "needs_background": "light"
     },
     "output_type": "display_data"
    }
   ],
   "source": [
    "df3=df1.tolist()\n",
    "df3.extend(lst_output)\n",
    "plt.plot(df3[1200:])"
   ],
   "metadata": {
    "collapsed": false,
    "pycharm": {
     "name": "#%%\n"
    }
   }
  },
  {
   "cell_type": "code",
   "execution_count": 34,
   "outputs": [],
   "source": [
    "df3=scaler.inverse_transform(df3).tolist()\n"
   ],
   "metadata": {
    "collapsed": false,
    "pycharm": {
     "name": "#%%\n"
    }
   }
  },
  {
   "cell_type": "code",
   "execution_count": 35,
   "outputs": [
    {
     "data": {
      "text/plain": "[<matplotlib.lines.Line2D at 0x26b60cd6c70>]"
     },
     "execution_count": 35,
     "metadata": {},
     "output_type": "execute_result"
    },
    {
     "data": {
      "text/plain": "<Figure size 432x288 with 1 Axes>",
      "image/png": "[encoded data removed]"
     },
     "metadata": {
      "needs_background": "light"
     },
     "output_type": "display_data"
    }
   ],
   "source": [
    "plt.plot(df3)\n"
   ],
   "metadata": {
    "collapsed": false,
    "pycharm": {
     "name": "#%%\n"
    }
   }
  },
  {
   "cell_type": "code",
   "execution_count": 36,
   "outputs": [],
   "source": [
    "import pickle\n",
    "\n",
    "# filename = 'model.sav'\n",
    "# pickle.dump(model, open(filename, 'wb'))\n",
    "# tf.keras.models.save_model(model, \"filename.pkl\")\n",
    "# import time\n",
    "# #save model\n",
    "# ts = int(time.time())\n",
    "# file_path = f\"tf-models/lstm/{ts}/\"\n",
    "# model.save(filepath=file_path, save_format='tf')"
   ],
   "metadata": {
    "collapsed": false,
    "pycharm": {
     "name": "#%%\n"
    }
   }
  },
  {
   "cell_type": "code",
   "execution_count": 37,
   "outputs": [],
   "source": [
    "# import tarfile\n",
    "# import os\n",
    "\n",
    "# def tar_folder(output_filename: str, source_dir: str):\n",
    "#     with tarfile.open(output_filename, \"w:gz\") as tar:\n",
    "#         tar.add(source_dir, arcname=os.path.basename(source_dir))\n",
    "\n",
    "# OUT_FILE = 'tf-models-lstm.tar.gz'\n",
    "\n",
    "# SOURCE_FILE = \"tf-models\"\n",
    "\n",
    "# tar_folder(output_filename=OUT_FILE, source_dir=SOURCE_FILE)\n",
    "# print(OUT_FILE)"
   ],
   "metadata": {
    "collapsed": false,
    "pycharm": {
     "name": "#%%\n"
    }
   }
  },
  {
   "cell_type": "code",
   "execution_count": 38,
   "outputs": [],
   "source": [
    "# import sagemaker\n",
    "\n",
    "# sagemaker_session = sagemaker.Session(default_bucket='stocks-models')\n",
    "# upload_data = sagemaker_session.upload_data(path='tf-models-lstm.tar.gz', key_prefix='my_prefix')\n",
    "\n",
    "# print('upload_data : {}'.format(upload_data))"
   ],
   "metadata": {
    "collapsed": false,
    "pycharm": {
     "name": "#%%\n"
    }
   }
  },
  {
   "cell_type": "code",
   "execution_count": 39,
   "outputs": [
    {
     "name": "stdout",
     "output_type": "stream",
     "text": [
      "1652624391\n",
      "2022-05-15 09:19:51\n",
      "NEXT DAY\n",
      "\n",
      "1652710791\n",
      "2022-05-16 09:19:51\n",
      "3157.36\n",
      "1655216391\n",
      "2022-05-19 09:19:51\n",
      "{'c': [2692.37, 2655.66, 2633.32, 2627.26, 2636.97, 2660.24, 2693.87, 2734.39, 2778.53, 2823.57, 2867.47, 2908.85, 2946.9, 2981.26, 3011.81, 3038.63, 3061.88, 3081.79, 3098.59, 3112.52, 3123.86, 3132.88, 3139.88, 3145.15, 3149.01, 3151.77, 3153.71, 3155.13, 3156.27, 3157.36], 't': [1652710791, 1652797191, 1652883591, 1652969991, 1653056391, 1653142791, 1653229191, 1653315591, 1653401991, 1653488391, 1653574791, 1653661191, 1653747591, 1653833991, 1653920391, 1654006791, 1654093191, 1654179591, 1654265991, 1654352391, 1654438791, 1654525191, 1654611591, 1654697991, 1654784391, 1654870791, 1654957191, 1655043591, 1655129991, 1655216391]}\n"
     ]
    }
   ],
   "source": [
    "# print(prediction[:50])\n",
    "import time\n",
    "from datetime import datetime\n",
    "\n",
    "SECONDS_IN_DAY = 86400\n",
    "\n",
    "now = int( time.time() )\n",
    "print( now )\n",
    "print(datetime.fromtimestamp(now))\n",
    "\n",
    "print(\"NEXT DAY\\n\")\n",
    "print(now + SECONDS_IN_DAY)\n",
    "print(datetime.fromtimestamp(now + SECONDS_IN_DAY))\n",
    "\n",
    "data_set = {\"c\": [], \"t\": []}\n",
    "inversed_output = scaler.inverse_transform(lst_output)\n",
    "inversed_output.tolist()\n",
    "for i in range(len(inversed_output)):\n",
    "    now = SECONDS_IN_DAY + now\n",
    "    data_set[\"c\"].insert(i, round(float(inversed_output[i]), 2))\n",
    "    data_set[\"t\"].insert(i, int(now))\n",
    "\n",
    "\n",
    "print(data_set.get(\"c\")[-1])\n",
    "print(data_set.get(\"t\")[-1])\n",
    "print(datetime.fromtimestamp(data_set.get(\"t\")[3]))\n",
    "print(data_set)\n",
    "\n",
    "\n",
    "\n",
    "# print(inversed_output)"
   ],
   "metadata": {
    "collapsed": false,
    "pycharm": {
     "name": "#%%\n"
    }
   }
  },
  {
   "cell_type": "code",
   "execution_count": 40,
   "outputs": [],
   "source": [
    "import json\n",
    "with open('../src/stock_json/amzn.json', 'w', encoding='utf-8') as f:\n",
    "    json.dump(data_set, f, ensure_ascii=False, indent=4)"
   ],
   "metadata": {
    "collapsed": false,
    "pycharm": {
     "name": "#%%\n"
    }
   }
  },
  {
   "cell_type": "code",
   "execution_count": 40,
   "outputs": [],
   "source": [],
   "metadata": {
    "collapsed": false,
    "pycharm": {
     "name": "#%%\n"
    }
   }
  }
 ],
 "metadata": {
  "kernelspec": {
   "display_name": "Python 3",
   "language": "python",
   "name": "python3"
  },
  "language_info": {
   "codemirror_mode": {
    "name": "ipython",
    "version": 2
   },
   "file_extension": ".py",
   "mimetype": "text/x-python",
   "name": "python",
   "nbconvert_exporter": "python",
   "pygments_lexer": "ipython2",
   "version": "2.7.6"
  }
 },
 "nbformat": 4,
 "nbformat_minor": 0
}